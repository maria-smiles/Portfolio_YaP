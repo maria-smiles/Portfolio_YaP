{
 "cells": [
  {
   "cell_type": "markdown",
   "metadata": {
    "toc": true
   },
   "source": [
    "<h1>Содержание<span class=\"tocSkip\"></span></h1>\n",
    "<div class=\"toc\"><ul class=\"toc-item\"><li><span><a href=\"#Загрузка-данных\" data-toc-modified-id=\"Загрузка-данных-1\"><span class=\"toc-item-num\">1&nbsp;&nbsp;</span>Загрузка данных</a></span></li><li><span><a href=\"#Умножение-матриц\" data-toc-modified-id=\"Умножение-матриц-2\"><span class=\"toc-item-num\">2&nbsp;&nbsp;</span>Умножение матриц</a></span></li><li><span><a href=\"#Алгоритм-преобразования\" data-toc-modified-id=\"Алгоритм-преобразования-3\"><span class=\"toc-item-num\">3&nbsp;&nbsp;</span>Алгоритм преобразования</a></span></li><li><span><a href=\"#Проверка-алгоритма\" data-toc-modified-id=\"Проверка-алгоритма-4\"><span class=\"toc-item-num\">4&nbsp;&nbsp;</span>Проверка алгоритма</a></span></li><li><span><a href=\"#Вывод\" data-toc-modified-id=\"Вывод-5\"><span class=\"toc-item-num\">5&nbsp;&nbsp;</span>Вывод</a></span></li><li><span><a href=\"#Чек-лист-проверки\" data-toc-modified-id=\"Чек-лист-проверки-6\"><span class=\"toc-item-num\">6&nbsp;&nbsp;</span>Чек-лист проверки</a></span></li></ul></div>"
   ]
  },
  {
   "cell_type": "markdown",
   "metadata": {},
   "source": [
    "# Защита персональных данных клиентов"
   ]
  },
  {
   "cell_type": "markdown",
   "metadata": {},
   "source": [
    "Вам нужно защитить данные клиентов страховой компании «Хоть потоп». Разработайте такой метод преобразования данных, чтобы по ним было сложно восстановить персональную информацию. Обоснуйте корректность его работы.\n",
    "\n",
    "Нужно защитить данные, чтобы при преобразовании качество моделей машинного обучения не ухудшилось. Подбирать наилучшую модель не требуется."
   ]
  },
  {
   "cell_type": "code",
   "execution_count": 1,
   "metadata": {},
   "outputs": [],
   "source": [
    "import pandas as pd\n",
    "import numpy as np\n",
    "import seaborn as sns\n",
    "import matplotlib.pyplot as plt\n",
    "from sklearn.model_selection import train_test_split\n",
    "from sklearn.linear_model import LinearRegression\n",
    "from sklearn.metrics import mean_squared_error, r2_score\n",
    "\n",
    "RANDOM_STATE = 1\n",
    "\n"
   ]
  },
  {
   "cell_type": "markdown",
   "metadata": {},
   "source": [
    "## Загрузка данных"
   ]
  },
  {
   "cell_type": "markdown",
   "metadata": {},
   "source": [
    "Загружаю данные и смотрю, что внутри."
   ]
  },
  {
   "cell_type": "code",
   "execution_count": 2,
   "metadata": {
    "scrolled": true
   },
   "outputs": [
    {
     "data": {
      "text/html": [
       "<div>\n",
       "<style scoped>\n",
       "    .dataframe tbody tr th:only-of-type {\n",
       "        vertical-align: middle;\n",
       "    }\n",
       "\n",
       "    .dataframe tbody tr th {\n",
       "        vertical-align: top;\n",
       "    }\n",
       "\n",
       "    .dataframe thead th {\n",
       "        text-align: right;\n",
       "    }\n",
       "</style>\n",
       "<table border=\"1\" class=\"dataframe\">\n",
       "  <thead>\n",
       "    <tr style=\"text-align: right;\">\n",
       "      <th></th>\n",
       "      <th>Пол</th>\n",
       "      <th>Возраст</th>\n",
       "      <th>Зарплата</th>\n",
       "      <th>Члены семьи</th>\n",
       "      <th>Страховые выплаты</th>\n",
       "    </tr>\n",
       "  </thead>\n",
       "  <tbody>\n",
       "    <tr>\n",
       "      <th>0</th>\n",
       "      <td>1</td>\n",
       "      <td>41.0</td>\n",
       "      <td>49600.0</td>\n",
       "      <td>1</td>\n",
       "      <td>0</td>\n",
       "    </tr>\n",
       "    <tr>\n",
       "      <th>1</th>\n",
       "      <td>0</td>\n",
       "      <td>46.0</td>\n",
       "      <td>38000.0</td>\n",
       "      <td>1</td>\n",
       "      <td>1</td>\n",
       "    </tr>\n",
       "    <tr>\n",
       "      <th>2</th>\n",
       "      <td>0</td>\n",
       "      <td>29.0</td>\n",
       "      <td>21000.0</td>\n",
       "      <td>0</td>\n",
       "      <td>0</td>\n",
       "    </tr>\n",
       "    <tr>\n",
       "      <th>3</th>\n",
       "      <td>0</td>\n",
       "      <td>21.0</td>\n",
       "      <td>41700.0</td>\n",
       "      <td>2</td>\n",
       "      <td>0</td>\n",
       "    </tr>\n",
       "    <tr>\n",
       "      <th>4</th>\n",
       "      <td>1</td>\n",
       "      <td>28.0</td>\n",
       "      <td>26100.0</td>\n",
       "      <td>0</td>\n",
       "      <td>0</td>\n",
       "    </tr>\n",
       "  </tbody>\n",
       "</table>\n",
       "</div>"
      ],
      "text/plain": [
       "   Пол  Возраст  Зарплата  Члены семьи  Страховые выплаты\n",
       "0    1     41.0   49600.0            1                  0\n",
       "1    0     46.0   38000.0            1                  1\n",
       "2    0     29.0   21000.0            0                  0\n",
       "3    0     21.0   41700.0            2                  0\n",
       "4    1     28.0   26100.0            0                  0"
      ]
     },
     "execution_count": 2,
     "metadata": {},
     "output_type": "execute_result"
    }
   ],
   "source": [
    "data = pd.read_csv('/datasets/insurance.csv') \n",
    "data.head()"
   ]
  },
  {
   "cell_type": "code",
   "execution_count": 22,
   "metadata": {
    "scrolled": true
   },
   "outputs": [
    {
     "name": "stdout",
     "output_type": "stream",
     "text": [
      "<class 'pandas.core.frame.DataFrame'>\n",
      "RangeIndex: 5000 entries, 0 to 4999\n",
      "Data columns (total 5 columns):\n",
      " #   Column             Non-Null Count  Dtype  \n",
      "---  ------             --------------  -----  \n",
      " 0   Пол                5000 non-null   int64  \n",
      " 1   Возраст            5000 non-null   float64\n",
      " 2   Зарплата           5000 non-null   float64\n",
      " 3   Члены семьи        5000 non-null   int64  \n",
      " 4   Страховые выплаты  5000 non-null   int64  \n",
      "dtypes: float64(2), int64(3)\n",
      "memory usage: 195.4 KB\n"
     ]
    }
   ],
   "source": [
    "data.info()"
   ]
  },
  {
   "cell_type": "markdown",
   "metadata": {},
   "source": [
    "Таблица размером (5000, 5).\n",
    "Пропусков нет. Нужен ли тип float64 для возраста взрослого человека? Скорее всего, нет. Можно преобразовать в int64.\n",
    "\n"
   ]
  },
  {
   "cell_type": "code",
   "execution_count": 23,
   "metadata": {},
   "outputs": [],
   "source": [
    "data['Возраст'] = data['Возраст'].astype('int64')"
   ]
  },
  {
   "cell_type": "code",
   "execution_count": 24,
   "metadata": {},
   "outputs": [
    {
     "name": "stdout",
     "output_type": "stream",
     "text": [
      "<class 'pandas.core.frame.DataFrame'>\n",
      "RangeIndex: 5000 entries, 0 to 4999\n",
      "Data columns (total 5 columns):\n",
      " #   Column             Non-Null Count  Dtype  \n",
      "---  ------             --------------  -----  \n",
      " 0   Пол                5000 non-null   int64  \n",
      " 1   Возраст            5000 non-null   int64  \n",
      " 2   Зарплата           5000 non-null   float64\n",
      " 3   Члены семьи        5000 non-null   int64  \n",
      " 4   Страховые выплаты  5000 non-null   int64  \n",
      "dtypes: float64(1), int64(4)\n",
      "memory usage: 195.4 KB\n"
     ]
    }
   ],
   "source": [
    "data.info()"
   ]
  },
  {
   "cell_type": "markdown",
   "metadata": {},
   "source": [
    "Посмотрим на статистику. Важно обратить внимание на количество значений в каждой колонке, крайние значения в каждом параметре."
   ]
  },
  {
   "cell_type": "code",
   "execution_count": 3,
   "metadata": {
    "scrolled": false
   },
   "outputs": [
    {
     "data": {
      "text/html": [
       "<div>\n",
       "<style scoped>\n",
       "    .dataframe tbody tr th:only-of-type {\n",
       "        vertical-align: middle;\n",
       "    }\n",
       "\n",
       "    .dataframe tbody tr th {\n",
       "        vertical-align: top;\n",
       "    }\n",
       "\n",
       "    .dataframe thead th {\n",
       "        text-align: right;\n",
       "    }\n",
       "</style>\n",
       "<table border=\"1\" class=\"dataframe\">\n",
       "  <thead>\n",
       "    <tr style=\"text-align: right;\">\n",
       "      <th></th>\n",
       "      <th>Пол</th>\n",
       "      <th>Возраст</th>\n",
       "      <th>Зарплата</th>\n",
       "      <th>Члены семьи</th>\n",
       "      <th>Страховые выплаты</th>\n",
       "    </tr>\n",
       "  </thead>\n",
       "  <tbody>\n",
       "    <tr>\n",
       "      <th>count</th>\n",
       "      <td>5000.000000</td>\n",
       "      <td>5000.000000</td>\n",
       "      <td>5000.000000</td>\n",
       "      <td>5000.000000</td>\n",
       "      <td>5000.000000</td>\n",
       "    </tr>\n",
       "    <tr>\n",
       "      <th>mean</th>\n",
       "      <td>0.499000</td>\n",
       "      <td>30.952800</td>\n",
       "      <td>39916.360000</td>\n",
       "      <td>1.194200</td>\n",
       "      <td>0.148000</td>\n",
       "    </tr>\n",
       "    <tr>\n",
       "      <th>std</th>\n",
       "      <td>0.500049</td>\n",
       "      <td>8.440807</td>\n",
       "      <td>9900.083569</td>\n",
       "      <td>1.091387</td>\n",
       "      <td>0.463183</td>\n",
       "    </tr>\n",
       "    <tr>\n",
       "      <th>min</th>\n",
       "      <td>0.000000</td>\n",
       "      <td>18.000000</td>\n",
       "      <td>5300.000000</td>\n",
       "      <td>0.000000</td>\n",
       "      <td>0.000000</td>\n",
       "    </tr>\n",
       "    <tr>\n",
       "      <th>25%</th>\n",
       "      <td>0.000000</td>\n",
       "      <td>24.000000</td>\n",
       "      <td>33300.000000</td>\n",
       "      <td>0.000000</td>\n",
       "      <td>0.000000</td>\n",
       "    </tr>\n",
       "    <tr>\n",
       "      <th>50%</th>\n",
       "      <td>0.000000</td>\n",
       "      <td>30.000000</td>\n",
       "      <td>40200.000000</td>\n",
       "      <td>1.000000</td>\n",
       "      <td>0.000000</td>\n",
       "    </tr>\n",
       "    <tr>\n",
       "      <th>75%</th>\n",
       "      <td>1.000000</td>\n",
       "      <td>37.000000</td>\n",
       "      <td>46600.000000</td>\n",
       "      <td>2.000000</td>\n",
       "      <td>0.000000</td>\n",
       "    </tr>\n",
       "    <tr>\n",
       "      <th>max</th>\n",
       "      <td>1.000000</td>\n",
       "      <td>65.000000</td>\n",
       "      <td>79000.000000</td>\n",
       "      <td>6.000000</td>\n",
       "      <td>5.000000</td>\n",
       "    </tr>\n",
       "  </tbody>\n",
       "</table>\n",
       "</div>"
      ],
      "text/plain": [
       "               Пол      Возраст      Зарплата  Члены семьи  Страховые выплаты\n",
       "count  5000.000000  5000.000000   5000.000000  5000.000000        5000.000000\n",
       "mean      0.499000    30.952800  39916.360000     1.194200           0.148000\n",
       "std       0.500049     8.440807   9900.083569     1.091387           0.463183\n",
       "min       0.000000    18.000000   5300.000000     0.000000           0.000000\n",
       "25%       0.000000    24.000000  33300.000000     0.000000           0.000000\n",
       "50%       0.000000    30.000000  40200.000000     1.000000           0.000000\n",
       "75%       1.000000    37.000000  46600.000000     2.000000           0.000000\n",
       "max       1.000000    65.000000  79000.000000     6.000000           5.000000"
      ]
     },
     "execution_count": 3,
     "metadata": {},
     "output_type": "execute_result"
    }
   ],
   "source": [
    "data.describe()"
   ]
  },
  {
   "cell_type": "markdown",
   "metadata": {},
   "source": [
    "Посмотрим на распределение параметров по значениям."
   ]
  },
  {
   "cell_type": "code",
   "execution_count": 6,
   "metadata": {
    "scrolled": false
   },
   "outputs": [
    {
     "name": "stdout",
     "output_type": "stream",
     "text": [
      "Пол\n",
      "0    2505\n",
      "1    2495\n",
      "Name: Пол, dtype: int64\n",
      "\n",
      "_________________\n",
      "\n",
      "Возраст\n",
      "18.0    117\n",
      "19.0    223\n",
      "20.0    195\n",
      "21.0    200\n",
      "22.0    209\n",
      "23.0    202\n",
      "24.0    182\n",
      "25.0    214\n",
      "26.0    211\n",
      "27.0    209\n",
      "28.0    204\n",
      "29.0    203\n",
      "30.0    202\n",
      "31.0    212\n",
      "32.0    206\n",
      "33.0    191\n",
      "34.0    177\n",
      "35.0    179\n",
      "36.0    193\n",
      "37.0    147\n",
      "38.0    139\n",
      "39.0    141\n",
      "40.0    114\n",
      "41.0    129\n",
      "42.0     93\n",
      "43.0     77\n",
      "44.0     74\n",
      "45.0     73\n",
      "46.0     60\n",
      "47.0     47\n",
      "48.0     26\n",
      "49.0     37\n",
      "50.0     27\n",
      "51.0     21\n",
      "52.0     22\n",
      "53.0     11\n",
      "54.0      7\n",
      "55.0      9\n",
      "56.0      5\n",
      "57.0      2\n",
      "58.0      2\n",
      "59.0      3\n",
      "60.0      2\n",
      "61.0      1\n",
      "62.0      1\n",
      "65.0      1\n",
      "Name: Пол, dtype: int64\n",
      "\n",
      "_________________\n",
      "\n",
      "Зарплата\n",
      " 524 уникальных значения\n",
      "\n",
      "_________________\n",
      "\n",
      "Члены семьи\n",
      "0    1513\n",
      "1    1814\n",
      "2    1071\n",
      "3     439\n",
      "4     124\n",
      "5      32\n",
      "6       7\n",
      "Name: Пол, dtype: int64\n",
      "\n",
      "_________________\n",
      "\n",
      "Страховые выплаты\n",
      "0    4436\n",
      "1     423\n",
      "2     115\n",
      "3      18\n",
      "4       7\n",
      "5       1\n",
      "Name: Пол, dtype: int64\n",
      "\n",
      "_________________\n",
      "\n"
     ]
    }
   ],
   "source": [
    "for col in data.columns:\n",
    "    if col == 'Зарплата':\n",
    "        print('Зарплата\\n', data[col].nunique(), 'уникальных значения')\n",
    "    else:\n",
    "        print(data.groupby(col)['Пол'].count())\n",
    "    print('\\n_________________\\n')"
   ]
  },
  {
   "cell_type": "markdown",
   "metadata": {},
   "source": [
    "Есть ли дубли?"
   ]
  },
  {
   "cell_type": "code",
   "execution_count": 7,
   "metadata": {},
   "outputs": [
    {
     "data": {
      "text/plain": [
       "153"
      ]
     },
     "execution_count": 7,
     "metadata": {},
     "output_type": "execute_result"
    }
   ],
   "source": [
    "data.duplicated().sum()"
   ]
  },
  {
   "cell_type": "markdown",
   "metadata": {},
   "source": [
    "Удалим."
   ]
  },
  {
   "cell_type": "code",
   "execution_count": 30,
   "metadata": {
    "scrolled": true
   },
   "outputs": [],
   "source": [
    "data = data.drop_duplicates()"
   ]
  },
  {
   "cell_type": "code",
   "execution_count": 31,
   "metadata": {},
   "outputs": [
    {
     "data": {
      "text/plain": [
       "(4847, 5)"
      ]
     },
     "execution_count": 31,
     "metadata": {},
     "output_type": "execute_result"
    }
   ],
   "source": [
    "data.shape"
   ]
  },
  {
   "cell_type": "markdown",
   "metadata": {},
   "source": [
    "Посмотрим на матрицу корреляции."
   ]
  },
  {
   "cell_type": "code",
   "execution_count": 10,
   "metadata": {
    "scrolled": false
   },
   "outputs": [
    {
     "data": {
      "text/plain": [
       "<AxesSubplot:>"
      ]
     },
     "execution_count": 10,
     "metadata": {},
     "output_type": "execute_result"
    },
    {
     "data": {
      "image/png": "[encoded data removed]",
      "text/plain": [
       "<Figure size 432x432 with 2 Axes>"
      ]
     },
     "metadata": {
      "needs_background": "light"
     },
     "output_type": "display_data"
    }
   ],
   "source": [
    "correlation_matrix = data.corr()\n",
    "\n",
    "plt.figure(figsize= (6, 6))\n",
    "sns.heatmap(correlation_matrix, annot = True)"
   ]
  },
  {
   "cell_type": "markdown",
   "metadata": {},
   "source": [
    "Может быть некоторая связь признака \"Возраст\" с целевым. Бросается в глаза на фоне остальной \"беспричинности\".\n",
    "\n"
   ]
  },
  {
   "cell_type": "markdown",
   "metadata": {},
   "source": [
    "## Умножение матриц"
   ]
  },
  {
   "cell_type": "markdown",
   "metadata": {},
   "source": [
    "В этом задании вы можете записывать формулы в *Jupyter Notebook.*\n",
    "\n",
    "Чтобы записать формулу внутри текста, окружите её символами доллара \\\\$; если снаружи —  двойными символами \\\\$\\\\$. Эти формулы записываются на языке вёрстки *LaTeX.* \n",
    "\n",
    "Для примера мы записали формулы линейной регрессии. Можете их скопировать и отредактировать, чтобы решить задачу.\n",
    "\n",
    "Работать в *LaTeX* необязательно."
   ]
  },
  {
   "cell_type": "markdown",
   "metadata": {},
   "source": [
    "Обозначения:\n",
    "\n",
    "- $X$ — матрица признаков (нулевой столбец состоит из единиц)\n",
    "\n",
    "- $y$ — вектор целевого признака\n",
    "\n",
    "- $P$ — матрица, на которую умножаются признаки\n",
    "\n",
    "- $w$ — вектор весов линейной регрессии (нулевой элемент равен сдвигу)"
   ]
  },
  {
   "cell_type": "markdown",
   "metadata": {},
   "source": [
    "Предсказания:\n",
    "\n",
    "$$\n",
    "a = Xw\n",
    "$$\n",
    "\n",
    "Задача обучения:\n",
    "\n",
    "$$\n",
    "w = \\arg\\min_w MSE(Xw, y)\n",
    "$$\n",
    "\n",
    "Формула обучения:\n",
    "\n",
    "$$\n",
    "w = (X^T X)^{-1} X^T y\n",
    "$$"
   ]
  },
  {
   "cell_type": "markdown",
   "metadata": {},
   "source": [
    "Признаки умножают на обратимую матрицу. Изменится ли качество линейной регрессии? \n",
    "\n",
    "\n",
    "**Ответ:** Нет.\n",
    "\n",
    "\n",
    "\n",
    "\n",
    "**Обоснование:** "
   ]
  },
  {
   "cell_type": "markdown",
   "metadata": {},
   "source": [
    "Пусть $А$ - обратимая матрица.\n",
    "\n",
    "Подставим вместо $X$ в формулу обучения $XA$. \n",
    "\n",
    "$$\n",
    "w2 = ((XA)^T (XA))^{-1} (XA)^T y\n",
    "$$\n",
    "\n",
    "Можем транспонировать оба произведения.\n",
    "\n",
    "$$\n",
    "w2 = ((A)^T(X)^TXA)^{-1} (A)^T(X)^T y\n",
    "$$\n",
    "\n",
    "В первой скобке имеем три квадратных матрицы - $(A)^T$, $(X)^TX$, $A$. Обратная матрица в этом случае будет произведением обратных для каждой из этих, перемноженных в обратном порядке.\n",
    "\n",
    "$$\n",
    "w2 = A^{-1}((X)^TX)^{-1}((A)^T)^{-1} (A)^T(X)^T y\n",
    "$$\n",
    "\n",
    "Здесь выделяется произведение $((A)^T)^{-1} (A)^T$, которое является единичной матрицей. Поэтому сокращаем запись до следующего вида:\n",
    "\n",
    "$$\n",
    "w2 = A^{-1}((X)^TX)^{-1}(X)^T y\n",
    "$$\n",
    "\n",
    "А теперь видно, что множители левее $A^{-1}$ представляют собой исходный вектор $w$.\n",
    "\n",
    "$$\n",
    "w2 = A^{-1}w\n",
    "$$\n",
    "\n",
    "\n",
    "Вот ответ на вопрос связи параметров регрессии после шифрования.\n",
    "\n",
    "Используя это выражение, гораздо проще доказать необходимый тезис, чем я сделала перед этим.\n",
    "\n",
    "Предсказания исходной регрессии выглядят так:\n",
    "$$\n",
    "a = Xw\n",
    "$$\n",
    "А регрессии с шифровкой так:\n",
    "$$\n",
    "a2 = XAw2\n",
    "$$\n",
    "Подставим полученный вектор шифрованных признаков:\n",
    "$$\n",
    "a2 = XAA^{-1}w\n",
    "$$\n",
    "Снова видим единичную матрицу в произведении $AA^{-1}$.\n",
    "И получаем:\n",
    "$$\n",
    "a2 = Xw\n",
    "$$\n",
    "$$\n",
    "a2 = a\n",
    "$$\n",
    "Таким образом, видим, что предсказания остаются теми же."
   ]
  },
  {
   "cell_type": "markdown",
   "metadata": {},
   "source": [
    "## Алгоритм преобразования"
   ]
  },
  {
   "cell_type": "markdown",
   "metadata": {},
   "source": [
    "**Алгоритм**\n",
    "\n",
    "У нас есть датасет с четырьмя признаками. Матрица Х будет содержать четыре столбца - по количеству признаков обучающей выборки ('Пол', 'Возраст', 'Зарплата', 'Члены семьи'). Это не расширенная матрица, потому что такими преобразованиями займётся сама регрессия.\n",
    "\n",
    "Для шифровки даных нужна матрица А размерностью 4\\*4. Её можно сгенерировать методом numpy.random.normal(). Убедиться, что она обратима, можно методом numpy.linalg.inv(). Необратима - будет ошибка. Обещают, что вероятность этого случая крайне мала, но проверка не повредит. В случае ошибки генерируем новую матрицу и проверяем.\n",
    "\n",
    "Далее создаём модель регрессии с чистыми данными и модель с зашифрованными данными. Получаем предсказания, сравниваем векторы предсказаний и метрики MSE.\n",
    "\n",
    "Делаем выводы."
   ]
  },
  {
   "cell_type": "markdown",
   "metadata": {},
   "source": [
    "**Обоснование**\n",
    "\n",
    "Математическое для правомерности такого преобразования - выше. Личные данные пользователей окажутся зашифрованы, ими нельзя будет в дальнейшем воспользоваться, а модель сохранит свои свойства, и предсказания не потеряют свою силу."
   ]
  },
  {
   "cell_type": "markdown",
   "metadata": {},
   "source": [
    "## Проверка алгоритма"
   ]
  },
  {
   "cell_type": "markdown",
   "metadata": {},
   "source": [
    "Подготовим тренировочную и тестовую выборки."
   ]
  },
  {
   "cell_type": "code",
   "execution_count": 11,
   "metadata": {},
   "outputs": [
    {
     "name": "stdout",
     "output_type": "stream",
     "text": [
      "MSE = 0.10571382800275492\n",
      "R2 = 0.3237732279242763\n"
     ]
    }
   ],
   "source": [
    "\n",
    "#отделяю целевой признак\n",
    "target = data['Страховые выплаты']\n",
    "features = data.drop(['Страховые выплаты'] , axis=1)\n",
    "\n",
    "# Разделяю выборки на обучающую и тестовую\n",
    "features_train, features_test, target_train, target_test = train_test_split(\n",
    "    features, target, test_size=0.25, random_state=RANDOM_STATE)\n",
    "\n",
    "# обучаю модель и делаю предсказания\n",
    "model = LinearRegression()\n",
    "model.fit(features_train, target_train)\n",
    "predicted = model.predict(features_test)\n",
    "\n",
    "# расчёт метрик\n",
    "mse = mean_squared_error(target_test, predicted)\n",
    "\n",
    "print(\"MSE =\", mse)\n",
    "\n",
    "r2 = r2_score(target_test, predicted)\n",
    "\n",
    "print(\"R2 =\", r2)"
   ]
  },
  {
   "cell_type": "code",
   "execution_count": 12,
   "metadata": {},
   "outputs": [],
   "source": [
    "# создаёт обратимую матрицу подходящего размера\n",
    "\n",
    "def get_rand_matrix(data):\n",
    "    det = 0\n",
    "    while det == 0:\n",
    "        matrix = np.random.normal(size=(data.shape[1], data.shape[1])) \n",
    "        det = np.linalg.det(matrix)\n",
    "    return matrix"
   ]
  },
  {
   "cell_type": "code",
   "execution_count": 13,
   "metadata": {},
   "outputs": [
    {
     "name": "stdout",
     "output_type": "stream",
     "text": [
      "[[-0.83268507 -1.37465819  0.81015312 -1.08325573]\n",
      " [-0.03366438  0.09267204 -0.07430696 -0.26985872]\n",
      " [-2.14985615  0.77607326  0.92598833 -0.55472048]\n",
      " [ 1.17636925 -0.13477575  1.07217098  0.05645157]]\n"
     ]
    }
   ],
   "source": [
    "rnd_matrix = get_rand_matrix(features_train)\n",
    "\n",
    "print(rnd_matrix)"
   ]
  },
  {
   "cell_type": "markdown",
   "metadata": {},
   "source": [
    "Ошибки не случилось, поэтому используем сгенерированную матрицу для шифрования данных."
   ]
  },
  {
   "cell_type": "code",
   "execution_count": 14,
   "metadata": {},
   "outputs": [],
   "source": [
    "\n",
    "features_train_new = features_train @ rnd_matrix\n",
    "features_test_new = features_test @ rnd_matrix"
   ]
  },
  {
   "cell_type": "code",
   "execution_count": 15,
   "metadata": {},
   "outputs": [
    {
     "data": {
      "text/html": [
       "<div>\n",
       "<style scoped>\n",
       "    .dataframe tbody tr th:only-of-type {\n",
       "        vertical-align: middle;\n",
       "    }\n",
       "\n",
       "    .dataframe tbody tr th {\n",
       "        vertical-align: top;\n",
       "    }\n",
       "\n",
       "    .dataframe thead th {\n",
       "        text-align: right;\n",
       "    }\n",
       "</style>\n",
       "<table border=\"1\" class=\"dataframe\">\n",
       "  <thead>\n",
       "    <tr style=\"text-align: right;\">\n",
       "      <th></th>\n",
       "      <th>Пол</th>\n",
       "      <th>Возраст</th>\n",
       "      <th>Зарплата</th>\n",
       "      <th>Члены семьи</th>\n",
       "    </tr>\n",
       "  </thead>\n",
       "  <tbody>\n",
       "    <tr>\n",
       "      <th>3186</th>\n",
       "      <td>1</td>\n",
       "      <td>36.0</td>\n",
       "      <td>39400.0</td>\n",
       "      <td>4</td>\n",
       "    </tr>\n",
       "    <tr>\n",
       "      <th>632</th>\n",
       "      <td>0</td>\n",
       "      <td>30.0</td>\n",
       "      <td>26300.0</td>\n",
       "      <td>3</td>\n",
       "    </tr>\n",
       "    <tr>\n",
       "      <th>577</th>\n",
       "      <td>0</td>\n",
       "      <td>31.0</td>\n",
       "      <td>24600.0</td>\n",
       "      <td>2</td>\n",
       "    </tr>\n",
       "    <tr>\n",
       "      <th>2406</th>\n",
       "      <td>0</td>\n",
       "      <td>37.0</td>\n",
       "      <td>37100.0</td>\n",
       "      <td>3</td>\n",
       "    </tr>\n",
       "    <tr>\n",
       "      <th>4686</th>\n",
       "      <td>0</td>\n",
       "      <td>25.0</td>\n",
       "      <td>34800.0</td>\n",
       "      <td>1</td>\n",
       "    </tr>\n",
       "  </tbody>\n",
       "</table>\n",
       "</div>"
      ],
      "text/plain": [
       "      Пол  Возраст  Зарплата  Члены семьи\n",
       "3186    1     36.0   39400.0            4\n",
       "632     0     30.0   26300.0            3\n",
       "577     0     31.0   24600.0            2\n",
       "2406    0     37.0   37100.0            3\n",
       "4686    0     25.0   34800.0            1"
      ]
     },
     "execution_count": 15,
     "metadata": {},
     "output_type": "execute_result"
    }
   ],
   "source": [
    "features_train.head()"
   ]
  },
  {
   "cell_type": "code",
   "execution_count": 16,
   "metadata": {
    "scrolled": true
   },
   "outputs": [
    {
     "data": {
      "text/html": [
       "<div>\n",
       "<style scoped>\n",
       "    .dataframe tbody tr th:only-of-type {\n",
       "        vertical-align: middle;\n",
       "    }\n",
       "\n",
       "    .dataframe tbody tr th {\n",
       "        vertical-align: top;\n",
       "    }\n",
       "\n",
       "    .dataframe thead th {\n",
       "        text-align: right;\n",
       "    }\n",
       "</style>\n",
       "<table border=\"1\" class=\"dataframe\">\n",
       "  <thead>\n",
       "    <tr style=\"text-align: right;\">\n",
       "      <th></th>\n",
       "      <th>0</th>\n",
       "      <th>1</th>\n",
       "      <th>2</th>\n",
       "      <th>3</th>\n",
       "    </tr>\n",
       "  </thead>\n",
       "  <tbody>\n",
       "    <tr>\n",
       "      <th>3186</th>\n",
       "      <td>-84701.671592</td>\n",
       "      <td>30578.708758</td>\n",
       "      <td>36486.363892</td>\n",
       "      <td>-21866.559249</td>\n",
       "    </tr>\n",
       "    <tr>\n",
       "      <th>632</th>\n",
       "      <td>-56538.697673</td>\n",
       "      <td>20413.102493</td>\n",
       "      <td>24354.480318</td>\n",
       "      <td>-14597.075013</td>\n",
       "    </tr>\n",
       "    <tr>\n",
       "      <th>577</th>\n",
       "      <td>-52885.152245</td>\n",
       "      <td>19094.005404</td>\n",
       "      <td>22779.153684</td>\n",
       "      <td>-13654.376509</td>\n",
       "    </tr>\n",
       "    <tr>\n",
       "      <th>2406</th>\n",
       "      <td>-79757.379786</td>\n",
       "      <td>28795.342373</td>\n",
       "      <td>34354.634107</td>\n",
       "      <td>-20589.945201</td>\n",
       "    </tr>\n",
       "    <tr>\n",
       "      <th>4686</th>\n",
       "      <td>-74814.659398</td>\n",
       "      <td>27009.531369</td>\n",
       "      <td>32223.608295</td>\n",
       "      <td>-19310.962697</td>\n",
       "    </tr>\n",
       "  </tbody>\n",
       "</table>\n",
       "</div>"
      ],
      "text/plain": [
       "                 0             1             2             3\n",
       "3186 -84701.671592  30578.708758  36486.363892 -21866.559249\n",
       "632  -56538.697673  20413.102493  24354.480318 -14597.075013\n",
       "577  -52885.152245  19094.005404  22779.153684 -13654.376509\n",
       "2406 -79757.379786  28795.342373  34354.634107 -20589.945201\n",
       "4686 -74814.659398  27009.531369  32223.608295 -19310.962697"
      ]
     },
     "execution_count": 16,
     "metadata": {},
     "output_type": "execute_result"
    }
   ],
   "source": [
    "features_train_new.head()"
   ]
  },
  {
   "cell_type": "markdown",
   "metadata": {},
   "source": [
    "Преобразование произошло, и теперь непонятно, что было в исходном датасете."
   ]
  },
  {
   "cell_type": "code",
   "execution_count": 17,
   "metadata": {},
   "outputs": [],
   "source": [
    "\n",
    "model_new = LinearRegression()\n",
    "model_new.fit(features_train_new, target_train)\n",
    "predicted_new = model_new.predict(features_test_new)\n",
    "\n"
   ]
  },
  {
   "cell_type": "code",
   "execution_count": 18,
   "metadata": {
    "scrolled": false
   },
   "outputs": [
    {
     "name": "stdout",
     "output_type": "stream",
     "text": [
      "MSE     = 0.10571382800275492\n",
      "MSE_new = 0.10571382800310532\n"
     ]
    }
   ],
   "source": [
    "\n",
    "mse_new = mean_squared_error(target_test, predicted_new)\n",
    "print(\"MSE     =\", mse)\n",
    "print(\"MSE_new =\", mse_new)"
   ]
  },
  {
   "cell_type": "code",
   "execution_count": 19,
   "metadata": {},
   "outputs": [
    {
     "name": "stdout",
     "output_type": "stream",
     "text": [
      "R2     = 0.3237732279242763\n",
      "R2_new = 0.3237732279220348\n"
     ]
    }
   ],
   "source": [
    "r2_new = r2_score(target_test, predicted_new)\n",
    "print(\"R2     =\", r2)\n",
    "print(\"R2_new =\", r2_new)"
   ]
  },
  {
   "cell_type": "markdown",
   "metadata": {},
   "source": [
    "Ошибки отличаются в 12-м знаке после запятой - можно считать, что они одинаковые. "
   ]
  },
  {
   "cell_type": "markdown",
   "metadata": {},
   "source": [
    "## Вывод"
   ]
  },
  {
   "cell_type": "markdown",
   "metadata": {},
   "source": [
    "Сначала я дала математическое обоснование сохранения качества линейной регрессии при шифровании данных обратимой матрицей, потом предложила алгоритм реализации и провела проверку алгоритма. В итоге метрика MSE не изменилась, что соответствует теоретическим выводам."
   ]
  }
 ],
 "metadata": {
  "ExecuteTimeLog": [
   {
    "duration": 522,
    "start_time": "2023-01-03T10:23:24.120Z"
   },
   {
    "duration": 75,
    "start_time": "2023-01-03T10:23:33.023Z"
   },
   {
    "duration": 41,
    "start_time": "2023-01-03T10:23:45.783Z"
   },
   {
    "duration": 48,
    "start_time": "2023-01-04T15:01:21.453Z"
   },
   {
    "duration": 8,
    "start_time": "2023-01-04T15:01:28.203Z"
   },
   {
    "duration": 525,
    "start_time": "2023-01-04T15:02:01.288Z"
   },
   {
    "duration": 24,
    "start_time": "2023-01-04T15:02:01.814Z"
   },
   {
    "duration": 15,
    "start_time": "2023-01-04T15:03:40.691Z"
   },
   {
    "duration": 60,
    "start_time": "2023-01-04T15:04:02.867Z"
   },
   {
    "duration": 13,
    "start_time": "2023-01-04T15:04:23.450Z"
   },
   {
    "duration": 6,
    "start_time": "2023-01-04T15:04:58.386Z"
   },
   {
    "duration": 6,
    "start_time": "2023-01-04T15:05:15.842Z"
   },
   {
    "duration": 7,
    "start_time": "2023-01-04T15:05:35.769Z"
   },
   {
    "duration": 10,
    "start_time": "2023-01-04T15:05:45.931Z"
   },
   {
    "duration": 10,
    "start_time": "2023-01-04T15:06:06.706Z"
   },
   {
    "duration": 9,
    "start_time": "2023-01-04T15:06:38.354Z"
   },
   {
    "duration": 8,
    "start_time": "2023-01-04T15:06:59.162Z"
   },
   {
    "duration": 8,
    "start_time": "2023-01-04T15:07:03.690Z"
   },
   {
    "duration": 7,
    "start_time": "2023-01-04T15:07:28.521Z"
   },
   {
    "duration": 3,
    "start_time": "2023-01-04T15:08:21.632Z"
   },
   {
    "duration": 9,
    "start_time": "2023-01-04T15:09:07.104Z"
   },
   {
    "duration": 8,
    "start_time": "2023-01-04T15:09:09.449Z"
   },
   {
    "duration": 8,
    "start_time": "2023-01-04T15:09:11.033Z"
   },
   {
    "duration": 7,
    "start_time": "2023-01-04T15:09:14.449Z"
   },
   {
    "duration": 4,
    "start_time": "2023-01-04T15:09:17.049Z"
   },
   {
    "duration": 6,
    "start_time": "2023-01-04T15:10:02.144Z"
   },
   {
    "duration": 11,
    "start_time": "2023-01-04T15:10:13.576Z"
   },
   {
    "duration": 10,
    "start_time": "2023-01-04T15:12:14.688Z"
   },
   {
    "duration": 11,
    "start_time": "2023-01-04T15:12:48.631Z"
   },
   {
    "duration": 10,
    "start_time": "2023-01-04T15:13:11.943Z"
   },
   {
    "duration": 949,
    "start_time": "2023-01-05T16:09:03.946Z"
   },
   {
    "duration": 429,
    "start_time": "2023-01-05T16:09:13.148Z"
   },
   {
    "duration": 22,
    "start_time": "2023-01-05T16:09:13.579Z"
   },
   {
    "duration": 14,
    "start_time": "2023-01-05T16:09:13.603Z"
   },
   {
    "duration": 9,
    "start_time": "2023-01-05T16:09:13.618Z"
   },
   {
    "duration": 17,
    "start_time": "2023-01-05T16:09:13.628Z"
   },
   {
    "duration": 749,
    "start_time": "2023-01-05T16:09:13.646Z"
   },
   {
    "duration": 17,
    "start_time": "2023-01-05T16:09:48.411Z"
   },
   {
    "duration": 17,
    "start_time": "2023-01-05T16:10:23.953Z"
   },
   {
    "duration": 16,
    "start_time": "2023-01-05T16:10:46.225Z"
   },
   {
    "duration": 13,
    "start_time": "2023-01-05T16:11:06.794Z"
   },
   {
    "duration": 8,
    "start_time": "2023-01-05T16:15:23.494Z"
   },
   {
    "duration": 84,
    "start_time": "2023-01-05T16:15:30.391Z"
   },
   {
    "duration": 4,
    "start_time": "2023-01-05T16:15:58.586Z"
   },
   {
    "duration": 3,
    "start_time": "2023-01-05T16:16:14.430Z"
   },
   {
    "duration": 5,
    "start_time": "2023-01-05T16:16:18.925Z"
   },
   {
    "duration": 5,
    "start_time": "2023-01-05T16:16:30.909Z"
   },
   {
    "duration": 4,
    "start_time": "2023-01-05T16:19:11.589Z"
   },
   {
    "duration": 7,
    "start_time": "2023-01-05T16:20:00.156Z"
   },
   {
    "duration": 3,
    "start_time": "2023-01-05T16:20:21.132Z"
   },
   {
    "duration": 8,
    "start_time": "2023-01-05T16:21:06.068Z"
   },
   {
    "duration": 8,
    "start_time": "2023-01-05T16:21:16.883Z"
   },
   {
    "duration": 542,
    "start_time": "2023-01-05T17:48:48.911Z"
   },
   {
    "duration": 24,
    "start_time": "2023-01-05T17:48:49.454Z"
   },
   {
    "duration": 13,
    "start_time": "2023-01-05T17:48:49.479Z"
   },
   {
    "duration": 31,
    "start_time": "2023-01-05T17:48:49.494Z"
   },
   {
    "duration": 27,
    "start_time": "2023-01-05T17:48:49.527Z"
   },
   {
    "duration": 1516,
    "start_time": "2023-01-05T17:48:49.555Z"
   },
   {
    "duration": 7,
    "start_time": "2023-01-05T17:48:51.073Z"
   },
   {
    "duration": 101,
    "start_time": "2023-01-05T17:48:51.083Z"
   },
   {
    "duration": 98,
    "start_time": "2023-01-05T17:48:51.186Z"
   },
   {
    "duration": 16,
    "start_time": "2023-01-05T17:48:51.285Z"
   },
   {
    "duration": 31,
    "start_time": "2023-01-05T17:48:51.303Z"
   },
   {
    "duration": 21,
    "start_time": "2023-01-05T17:48:51.335Z"
   },
   {
    "duration": 1671,
    "start_time": "2023-01-08T14:23:56.034Z"
   },
   {
    "duration": 113,
    "start_time": "2023-01-08T14:24:01.146Z"
   },
   {
    "duration": 23,
    "start_time": "2023-01-08T14:24:01.658Z"
   },
   {
    "duration": 4,
    "start_time": "2023-01-08T14:24:01.881Z"
   },
   {
    "duration": 4,
    "start_time": "2023-01-08T14:24:02.097Z"
   },
   {
    "duration": 12,
    "start_time": "2023-01-08T14:24:02.354Z"
   },
   {
    "duration": 110,
    "start_time": "2023-01-08T14:24:02.617Z"
   },
   {
    "duration": 3,
    "start_time": "2023-01-08T14:24:25.345Z"
   },
   {
    "duration": 33,
    "start_time": "2023-01-08T14:24:27.153Z"
   },
   {
    "duration": 29,
    "start_time": "2023-01-08T14:24:27.601Z"
   },
   {
    "duration": 3,
    "start_time": "2023-01-08T14:24:27.825Z"
   },
   {
    "duration": 4,
    "start_time": "2023-01-08T14:24:28.016Z"
   },
   {
    "duration": 13,
    "start_time": "2023-01-08T14:24:28.265Z"
   },
   {
    "duration": 454,
    "start_time": "2023-01-08T14:24:28.590Z"
   },
   {
    "duration": 384,
    "start_time": "2023-01-08T14:24:38.585Z"
   },
   {
    "duration": 8,
    "start_time": "2023-01-08T14:51:59.886Z"
   },
   {
    "duration": 6,
    "start_time": "2023-01-08T14:52:08.662Z"
   },
   {
    "duration": 12,
    "start_time": "2023-01-08T14:53:33.677Z"
   },
   {
    "duration": 23,
    "start_time": "2023-01-08T14:53:39.797Z"
   },
   {
    "duration": 10,
    "start_time": "2023-01-08T14:53:49.772Z"
   },
   {
    "duration": 18,
    "start_time": "2023-01-08T14:53:58.485Z"
   },
   {
    "duration": 9,
    "start_time": "2023-01-08T14:55:41.148Z"
   },
   {
    "duration": 6,
    "start_time": "2023-01-08T14:55:45.772Z"
   },
   {
    "duration": 435,
    "start_time": "2023-01-08T14:56:06.971Z"
   },
   {
    "duration": 1615,
    "start_time": "2023-01-08T16:18:59.021Z"
   },
   {
    "duration": 118,
    "start_time": "2023-01-08T16:19:02.746Z"
   },
   {
    "duration": 24,
    "start_time": "2023-01-08T16:19:04.675Z"
   },
   {
    "duration": 8,
    "start_time": "2023-01-08T16:19:05.234Z"
   },
   {
    "duration": 4,
    "start_time": "2023-01-08T16:19:05.744Z"
   },
   {
    "duration": 14,
    "start_time": "2023-01-08T16:19:06.320Z"
   },
   {
    "duration": 6,
    "start_time": "2023-01-08T16:19:06.865Z"
   },
   {
    "duration": 14,
    "start_time": "2023-01-08T16:19:07.080Z"
   },
   {
    "duration": 8,
    "start_time": "2023-01-08T16:19:07.249Z"
   },
   {
    "duration": 441,
    "start_time": "2023-01-08T16:19:07.529Z"
   },
   {
    "duration": 17,
    "start_time": "2023-01-08T16:19:14.105Z"
   },
   {
    "duration": 4,
    "start_time": "2023-01-08T16:19:14.456Z"
   },
   {
    "duration": 4,
    "start_time": "2023-01-08T16:19:15.752Z"
   },
   {
    "duration": 9,
    "start_time": "2023-01-08T16:19:16.141Z"
   },
   {
    "duration": 10,
    "start_time": "2023-01-08T16:19:16.484Z"
   },
   {
    "duration": 8,
    "start_time": "2023-01-08T16:19:17.246Z"
   },
   {
    "duration": 4,
    "start_time": "2023-01-08T16:19:17.601Z"
   },
   {
    "duration": 5,
    "start_time": "2023-01-08T16:19:17.912Z"
   },
   {
    "duration": 5,
    "start_time": "2023-01-08T16:19:52.049Z"
   },
   {
    "duration": 10,
    "start_time": "2023-01-08T16:20:06.033Z"
   },
   {
    "duration": 3,
    "start_time": "2023-01-08T16:20:09.168Z"
   },
   {
    "duration": 6,
    "start_time": "2023-01-08T16:20:13.759Z"
   },
   {
    "duration": 5,
    "start_time": "2023-01-08T16:20:16.482Z"
   },
   {
    "duration": 1267,
    "start_time": "2023-01-09T05:05:28.844Z"
   },
   {
    "duration": 37,
    "start_time": "2023-01-09T05:05:30.113Z"
   },
   {
    "duration": 21,
    "start_time": "2023-01-09T05:05:30.154Z"
   },
   {
    "duration": 7,
    "start_time": "2023-01-09T05:05:30.176Z"
   },
   {
    "duration": 10,
    "start_time": "2023-01-09T05:05:30.184Z"
   },
   {
    "duration": 15,
    "start_time": "2023-01-09T05:05:30.195Z"
   },
   {
    "duration": 9,
    "start_time": "2023-01-09T05:05:30.212Z"
   },
   {
    "duration": 19,
    "start_time": "2023-01-09T05:05:30.223Z"
   },
   {
    "duration": 7,
    "start_time": "2023-01-09T05:05:30.245Z"
   },
   {
    "duration": 370,
    "start_time": "2023-01-09T05:05:30.253Z"
   },
   {
    "duration": 13,
    "start_time": "2023-01-09T05:05:30.624Z"
   },
   {
    "duration": 18,
    "start_time": "2023-01-09T05:05:30.639Z"
   },
   {
    "duration": 26,
    "start_time": "2023-01-09T05:05:30.659Z"
   },
   {
    "duration": 18,
    "start_time": "2023-01-09T05:05:30.687Z"
   },
   {
    "duration": 28,
    "start_time": "2023-01-09T05:05:30.706Z"
   },
   {
    "duration": 23,
    "start_time": "2023-01-09T05:05:30.736Z"
   },
   {
    "duration": 27,
    "start_time": "2023-01-09T05:05:30.761Z"
   },
   {
    "duration": 38,
    "start_time": "2023-01-09T05:05:30.789Z"
   },
   {
    "duration": 23,
    "start_time": "2023-01-09T05:05:30.828Z"
   },
   {
    "duration": 1320,
    "start_time": "2023-01-09T05:09:53.497Z"
   },
   {
    "duration": 38,
    "start_time": "2023-01-09T05:09:54.819Z"
   },
   {
    "duration": 20,
    "start_time": "2023-01-09T05:09:54.859Z"
   },
   {
    "duration": 3,
    "start_time": "2023-01-09T05:09:54.881Z"
   },
   {
    "duration": 7,
    "start_time": "2023-01-09T05:09:54.885Z"
   },
   {
    "duration": 11,
    "start_time": "2023-01-09T05:09:54.894Z"
   },
   {
    "duration": 7,
    "start_time": "2023-01-09T05:09:54.906Z"
   },
   {
    "duration": 14,
    "start_time": "2023-01-09T05:09:54.915Z"
   },
   {
    "duration": 5,
    "start_time": "2023-01-09T05:09:54.930Z"
   },
   {
    "duration": 340,
    "start_time": "2023-01-09T05:09:54.937Z"
   },
   {
    "duration": 13,
    "start_time": "2023-01-09T05:09:55.278Z"
   },
   {
    "duration": 3,
    "start_time": "2023-01-09T05:09:55.292Z"
   },
   {
    "duration": 16,
    "start_time": "2023-01-09T05:09:55.297Z"
   },
   {
    "duration": 3,
    "start_time": "2023-01-09T05:09:55.316Z"
   },
   {
    "duration": 15,
    "start_time": "2023-01-09T05:09:55.320Z"
   },
   {
    "duration": 10,
    "start_time": "2023-01-09T05:09:55.336Z"
   },
   {
    "duration": 10,
    "start_time": "2023-01-09T05:09:55.347Z"
   },
   {
    "duration": 10,
    "start_time": "2023-01-09T05:09:55.359Z"
   },
   {
    "duration": 9,
    "start_time": "2023-01-09T05:09:55.371Z"
   },
   {
    "duration": 90,
    "start_time": "2023-01-09T05:14:31.973Z"
   },
   {
    "duration": 4,
    "start_time": "2023-01-09T05:14:34.541Z"
   },
   {
    "duration": 9,
    "start_time": "2023-01-09T05:15:58.212Z"
   },
   {
    "duration": 3,
    "start_time": "2023-01-09T05:22:48.041Z"
   },
   {
    "duration": 10,
    "start_time": "2023-01-09T05:22:59.712Z"
   },
   {
    "duration": 70,
    "start_time": "2023-01-09T05:25:52.935Z"
   },
   {
    "duration": 7,
    "start_time": "2023-01-09T05:25:59.551Z"
   },
   {
    "duration": 17,
    "start_time": "2023-01-09T05:26:10.198Z"
   },
   {
    "duration": 8,
    "start_time": "2023-01-09T05:26:45.898Z"
   },
   {
    "duration": 4,
    "start_time": "2023-01-09T05:26:52.023Z"
   },
   {
    "duration": 5,
    "start_time": "2023-01-09T05:26:59.175Z"
   },
   {
    "duration": 4,
    "start_time": "2023-01-09T05:27:01.078Z"
   },
   {
    "duration": 18,
    "start_time": "2023-01-09T08:26:16.332Z"
   },
   {
    "duration": 16,
    "start_time": "2023-01-09T14:04:38.381Z"
   }
  ],
  "kernelspec": {
   "display_name": "Python 3 (ipykernel)",
   "language": "python",
   "name": "python3"
  },
  "language_info": {
   "codemirror_mode": {
    "name": "ipython",
    "version": 3
   },
   "file_extension": ".py",
   "mimetype": "text/x-python",
   "name": "python",
   "nbconvert_exporter": "python",
   "pygments_lexer": "ipython3",
   "version": "3.9.7"
  },
  "toc": {
   "base_numbering": 1,
   "nav_menu": {},
   "number_sections": true,
   "sideBar": true,
   "skip_h1_title": true,
   "title_cell": "Содержание",
   "title_sidebar": "Contents",
   "toc_cell": true,
   "toc_position": {},
   "toc_section_display": true,
   "toc_window_display": false
  }
 },
 "nbformat": 4,
 "nbformat_minor": 2
}
