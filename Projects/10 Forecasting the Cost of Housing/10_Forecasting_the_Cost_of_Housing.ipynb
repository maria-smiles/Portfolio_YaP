{
 "cells": [
  {
   "cell_type": "markdown",
   "id": "GEqQaHzsZ_bA",
   "metadata": {
    "id": "GEqQaHzsZ_bA"
   },
   "source": [
    "## Предсказание стоимости жилья\n",
    "\n",
    "Нужно обучить модель линейной регрессии на данных о жилье в Калифорнии в 1990 году. На основе данных нужно предсказать медианную стоимость дома в жилом массиве. Обучите модель и сделайте предсказания на тестовой выборке. Для оценки качества модели используйте метрики RMSE, MAE и R2.\n",
    "\n",
    "### Описание данных\n",
    "\n",
    "    longitude — широта;\n",
    "    latitude — долгота;\n",
    "    housing_median_age — медианный возраст жителей жилого массива;\n",
    "    total_rooms — общее количество комнат в домах жилого массива;\n",
    "    total_bedrooms — общее количество спален в домах жилого массива;\n",
    "    population — количество человек, которые проживают в жилом массиве;\n",
    "    households — количество домовладений в жилом массиве;\n",
    "    median_income — медианный доход жителей жилого массива;\n",
    "    median_house_value — медианная стоимость дома в жилом массиве;\n",
    "    ocean_proximity — близость к океану."
   ]
  },
  {
   "cell_type": "code",
   "execution_count": 1,
   "id": "dadedea8",
   "metadata": {
    "scrolled": false
   },
   "outputs": [],
   "source": [
    "import pandas as pd \n",
    "import numpy as np\n",
    "\n",
    "import pyspark\n",
    "from pyspark.sql import SparkSession\n",
    "from pyspark.sql.types import *\n",
    "import pyspark.sql.functions as F\n",
    "from pyspark.ml.feature import Imputer\n",
    "from pyspark.ml.feature import StringIndexer, VectorAssembler, StandardScaler\n",
    "from pyspark.ml.regression import LinearRegression\n",
    "from pyspark.ml.evaluation import BinaryClassificationEvaluator, MulticlassClassificationEvaluator\n",
    "from pyspark.ml.evaluation import RegressionEvaluator\n",
    "RANDOM_SEED = 1"
   ]
  },
  {
   "cell_type": "code",
   "execution_count": 2,
   "id": "97f7128b",
   "metadata": {},
   "outputs": [],
   "source": [
    "pyspark_version = pyspark.__version__\n",
    "if int(pyspark_version[:1]) == 3:\n",
    "    from pyspark.ml.feature import OneHotEncoder    \n",
    "elif int(pyspark_version[:1]) == 2:\n",
    "    from pyspark.ml.feature import OneHotEncodeEstimator\n",
    "        \n",
    "\n",
    "\n"
   ]
  },
  {
   "cell_type": "code",
   "execution_count": 3,
   "id": "f02e768b",
   "metadata": {},
   "outputs": [],
   "source": [
    "spark = SparkSession.builder \\\n",
    "                    .master(\"local\") \\\n",
    "                    .appName(\"California house - Logistic regression\") \\\n",
    "                    .getOrCreate()\n",
    "\n"
   ]
  },
  {
   "cell_type": "code",
   "execution_count": 4,
   "id": "42b4cf4a",
   "metadata": {},
   "outputs": [
    {
     "name": "stderr",
     "output_type": "stream",
     "text": [
      "                                                                                \r"
     ]
    }
   ],
   "source": [
    "\n",
    "df = spark.read.option('header', 'true').csv('/datasets/housing.csv', inferSchema = True)"
   ]
  },
  {
   "cell_type": "markdown",
   "id": "53871372",
   "metadata": {
    "id": "53871372"
   },
   "source": [
    "# Подготовка данных"
   ]
  },
  {
   "cell_type": "code",
   "execution_count": 5,
   "id": "df92e3ec",
   "metadata": {
    "id": "df92e3ec",
    "scrolled": true
   },
   "outputs": [
    {
     "name": "stdout",
     "output_type": "stream",
     "text": [
      "root\n",
      " |-- longitude: double (nullable = true)\n",
      " |-- latitude: double (nullable = true)\n",
      " |-- housing_median_age: double (nullable = true)\n",
      " |-- total_rooms: double (nullable = true)\n",
      " |-- total_bedrooms: double (nullable = true)\n",
      " |-- population: double (nullable = true)\n",
      " |-- households: double (nullable = true)\n",
      " |-- median_income: double (nullable = true)\n",
      " |-- median_house_value: double (nullable = true)\n",
      " |-- ocean_proximity: string (nullable = true)\n",
      "\n"
     ]
    }
   ],
   "source": [
    "df.printSchema()"
   ]
  },
  {
   "cell_type": "code",
   "execution_count": 6,
   "id": "f298db9c",
   "metadata": {},
   "outputs": [
    {
     "name": "stdout",
     "output_type": "stream",
     "text": [
      "+---------+--------+------------------+-----------+--------------+----------+----------+-------------+------------------+---------------+\n",
      "|longitude|latitude|housing_median_age|total_rooms|total_bedrooms|population|households|median_income|median_house_value|ocean_proximity|\n",
      "+---------+--------+------------------+-----------+--------------+----------+----------+-------------+------------------+---------------+\n",
      "|  -122.23|   37.88|              41.0|      880.0|         129.0|     322.0|     126.0|       8.3252|          452600.0|       NEAR BAY|\n",
      "|  -122.22|   37.86|              21.0|     7099.0|        1106.0|    2401.0|    1138.0|       8.3014|          358500.0|       NEAR BAY|\n",
      "|  -122.24|   37.85|              52.0|     1467.0|         190.0|     496.0|     177.0|       7.2574|          352100.0|       NEAR BAY|\n",
      "|  -122.25|   37.85|              52.0|     1274.0|         235.0|     558.0|     219.0|       5.6431|          341300.0|       NEAR BAY|\n",
      "|  -122.25|   37.85|              52.0|     1627.0|         280.0|     565.0|     259.0|       3.8462|          342200.0|       NEAR BAY|\n",
      "|  -122.25|   37.85|              52.0|      919.0|         213.0|     413.0|     193.0|       4.0368|          269700.0|       NEAR BAY|\n",
      "+---------+--------+------------------+-----------+--------------+----------+----------+-------------+------------------+---------------+\n",
      "only showing top 6 rows\n",
      "\n"
     ]
    }
   ],
   "source": [
    "df.show(6)"
   ]
  },
  {
   "cell_type": "markdown",
   "id": "d469c488",
   "metadata": {},
   "source": [
    "Найти и посчитать пропуски"
   ]
  },
  {
   "cell_type": "code",
   "execution_count": 7,
   "id": "5e3bdc32",
   "metadata": {},
   "outputs": [
    {
     "name": "stdout",
     "output_type": "stream",
     "text": [
      "Пропуски обнаружены в следующих данных:\n"
     ]
    },
    {
     "name": "stderr",
     "output_type": "stream",
     "text": [
      "                                                                                \r"
     ]
    },
    {
     "data": {
      "text/html": [
       "<div>\n",
       "<style scoped>\n",
       "    .dataframe tbody tr th:only-of-type {\n",
       "        vertical-align: middle;\n",
       "    }\n",
       "\n",
       "    .dataframe tbody tr th {\n",
       "        vertical-align: top;\n",
       "    }\n",
       "\n",
       "    .dataframe thead th {\n",
       "        text-align: right;\n",
       "    }\n",
       "</style>\n",
       "<table border=\"1\" class=\"dataframe\">\n",
       "  <thead>\n",
       "    <tr style=\"text-align: right;\">\n",
       "      <th></th>\n",
       "      <th>longitude</th>\n",
       "      <th>latitude</th>\n",
       "      <th>housing_median_age</th>\n",
       "      <th>total_rooms</th>\n",
       "      <th>total_bedrooms</th>\n",
       "      <th>population</th>\n",
       "      <th>households</th>\n",
       "      <th>median_income</th>\n",
       "      <th>median_house_value</th>\n",
       "      <th>ocean_proximity</th>\n",
       "    </tr>\n",
       "  </thead>\n",
       "  <tbody>\n",
       "    <tr>\n",
       "      <th>0</th>\n",
       "      <td>0</td>\n",
       "      <td>0</td>\n",
       "      <td>0</td>\n",
       "      <td>0</td>\n",
       "      <td>207</td>\n",
       "      <td>0</td>\n",
       "      <td>0</td>\n",
       "      <td>0</td>\n",
       "      <td>0</td>\n",
       "      <td>0</td>\n",
       "    </tr>\n",
       "  </tbody>\n",
       "</table>\n",
       "</div>"
      ],
      "text/plain": [
       "   longitude  latitude  housing_median_age  total_rooms  total_bedrooms  \\\n",
       "0          0         0                   0            0             207   \n",
       "\n",
       "   population  households  median_income  median_house_value  ocean_proximity  \n",
       "0           0           0              0                   0                0  "
      ]
     },
     "metadata": {},
     "output_type": "display_data"
    }
   ],
   "source": [
    "df2 = df.select([F.count(F.when(F.col(c).contains('None') | \\\n",
    "                            F.col(c).contains('NULL') | \\\n",
    "                            (F.col(c) == '' ) | \\\n",
    "                            F.col(c).isNull() | \\\n",
    "                            F.isnan(c), c \n",
    "                           )).alias(c)\n",
    "                    for c in df.columns])\n",
    "\n",
    "print('Пропуски обнаружены в следующих данных:')\n",
    "display(df2.toPandas())"
   ]
  },
  {
   "cell_type": "code",
   "execution_count": 8,
   "id": "5205de51",
   "metadata": {},
   "outputs": [
    {
     "name": "stderr",
     "output_type": "stream",
     "text": [
      "                                                                                \r"
     ]
    },
    {
     "data": {
      "text/html": [
       "<div>\n",
       "<style scoped>\n",
       "    .dataframe tbody tr th:only-of-type {\n",
       "        vertical-align: middle;\n",
       "    }\n",
       "\n",
       "    .dataframe tbody tr th {\n",
       "        vertical-align: top;\n",
       "    }\n",
       "\n",
       "    .dataframe thead th {\n",
       "        text-align: right;\n",
       "    }\n",
       "</style>\n",
       "<table border=\"1\" class=\"dataframe\">\n",
       "  <thead>\n",
       "    <tr style=\"text-align: right;\">\n",
       "      <th></th>\n",
       "      <th>summary</th>\n",
       "      <th>longitude</th>\n",
       "      <th>latitude</th>\n",
       "      <th>housing_median_age</th>\n",
       "      <th>total_rooms</th>\n",
       "      <th>total_bedrooms</th>\n",
       "      <th>population</th>\n",
       "      <th>households</th>\n",
       "      <th>median_income</th>\n",
       "      <th>median_house_value</th>\n",
       "      <th>ocean_proximity</th>\n",
       "    </tr>\n",
       "  </thead>\n",
       "  <tbody>\n",
       "    <tr>\n",
       "      <th>0</th>\n",
       "      <td>count</td>\n",
       "      <td>20640</td>\n",
       "      <td>20640</td>\n",
       "      <td>20640</td>\n",
       "      <td>20640</td>\n",
       "      <td>20433</td>\n",
       "      <td>20640</td>\n",
       "      <td>20640</td>\n",
       "      <td>20640</td>\n",
       "      <td>20640</td>\n",
       "      <td>20640</td>\n",
       "    </tr>\n",
       "    <tr>\n",
       "      <th>1</th>\n",
       "      <td>mean</td>\n",
       "      <td>-119.56970445736148</td>\n",
       "      <td>35.6318614341087</td>\n",
       "      <td>28.639486434108527</td>\n",
       "      <td>2635.7630813953488</td>\n",
       "      <td>537.8705525375618</td>\n",
       "      <td>1425.4767441860465</td>\n",
       "      <td>499.5396802325581</td>\n",
       "      <td>3.8706710029070246</td>\n",
       "      <td>206855.81690891474</td>\n",
       "      <td>None</td>\n",
       "    </tr>\n",
       "    <tr>\n",
       "      <th>2</th>\n",
       "      <td>stddev</td>\n",
       "      <td>2.003531723502584</td>\n",
       "      <td>2.135952397457101</td>\n",
       "      <td>12.58555761211163</td>\n",
       "      <td>2181.6152515827944</td>\n",
       "      <td>421.38507007403115</td>\n",
       "      <td>1132.46212176534</td>\n",
       "      <td>382.3297528316098</td>\n",
       "      <td>1.899821717945263</td>\n",
       "      <td>115395.61587441359</td>\n",
       "      <td>None</td>\n",
       "    </tr>\n",
       "    <tr>\n",
       "      <th>3</th>\n",
       "      <td>min</td>\n",
       "      <td>-124.35</td>\n",
       "      <td>32.54</td>\n",
       "      <td>1.0</td>\n",
       "      <td>2.0</td>\n",
       "      <td>1.0</td>\n",
       "      <td>3.0</td>\n",
       "      <td>1.0</td>\n",
       "      <td>0.4999</td>\n",
       "      <td>14999.0</td>\n",
       "      <td>&lt;1H OCEAN</td>\n",
       "    </tr>\n",
       "    <tr>\n",
       "      <th>4</th>\n",
       "      <td>max</td>\n",
       "      <td>-114.31</td>\n",
       "      <td>41.95</td>\n",
       "      <td>52.0</td>\n",
       "      <td>39320.0</td>\n",
       "      <td>6445.0</td>\n",
       "      <td>35682.0</td>\n",
       "      <td>6082.0</td>\n",
       "      <td>15.0001</td>\n",
       "      <td>500001.0</td>\n",
       "      <td>NEAR OCEAN</td>\n",
       "    </tr>\n",
       "  </tbody>\n",
       "</table>\n",
       "</div>"
      ],
      "text/plain": [
       "  summary            longitude           latitude  housing_median_age  \\\n",
       "0   count                20640              20640               20640   \n",
       "1    mean  -119.56970445736148   35.6318614341087  28.639486434108527   \n",
       "2  stddev    2.003531723502584  2.135952397457101   12.58555761211163   \n",
       "3     min              -124.35              32.54                 1.0   \n",
       "4     max              -114.31              41.95                52.0   \n",
       "\n",
       "          total_rooms      total_bedrooms          population  \\\n",
       "0               20640               20433               20640   \n",
       "1  2635.7630813953488   537.8705525375618  1425.4767441860465   \n",
       "2  2181.6152515827944  421.38507007403115    1132.46212176534   \n",
       "3                 2.0                 1.0                 3.0   \n",
       "4             39320.0              6445.0             35682.0   \n",
       "\n",
       "          households       median_income  median_house_value ocean_proximity  \n",
       "0              20640               20640               20640           20640  \n",
       "1  499.5396802325581  3.8706710029070246  206855.81690891474            None  \n",
       "2  382.3297528316098   1.899821717945263  115395.61587441359            None  \n",
       "3                1.0              0.4999             14999.0       <1H OCEAN  \n",
       "4             6082.0             15.0001            500001.0      NEAR OCEAN  "
      ]
     },
     "metadata": {},
     "output_type": "display_data"
    }
   ],
   "source": [
    "display(df.describe().toPandas()) # и тут видно, что в колонке total_bedrooms есть пробелы"
   ]
  },
  {
   "cell_type": "markdown",
   "id": "9ec27299",
   "metadata": {},
   "source": [
    "Заполнить пропуски"
   ]
  },
  {
   "cell_type": "code",
   "execution_count": 9,
   "id": "2e348933",
   "metadata": {},
   "outputs": [
    {
     "name": "stderr",
     "output_type": "stream",
     "text": [
      "                                                                                \r"
     ]
    }
   ],
   "source": [
    "total_bedrooms_median = int(df.stat.approxQuantile('total_bedrooms',[0.5],0)[0])"
   ]
  },
  {
   "cell_type": "code",
   "execution_count": 10,
   "id": "86058ec3",
   "metadata": {},
   "outputs": [],
   "source": [
    "df = df.na.fill(total_bedrooms_median,['total_bedrooms'])"
   ]
  },
  {
   "cell_type": "code",
   "execution_count": 11,
   "id": "eb0c5be6",
   "metadata": {},
   "outputs": [
    {
     "name": "stderr",
     "output_type": "stream",
     "text": [
      "                                                                                \r"
     ]
    },
    {
     "data": {
      "text/html": [
       "<div>\n",
       "<style scoped>\n",
       "    .dataframe tbody tr th:only-of-type {\n",
       "        vertical-align: middle;\n",
       "    }\n",
       "\n",
       "    .dataframe tbody tr th {\n",
       "        vertical-align: top;\n",
       "    }\n",
       "\n",
       "    .dataframe thead th {\n",
       "        text-align: right;\n",
       "    }\n",
       "</style>\n",
       "<table border=\"1\" class=\"dataframe\">\n",
       "  <thead>\n",
       "    <tr style=\"text-align: right;\">\n",
       "      <th></th>\n",
       "      <th>summary</th>\n",
       "      <th>longitude</th>\n",
       "      <th>latitude</th>\n",
       "      <th>housing_median_age</th>\n",
       "      <th>total_rooms</th>\n",
       "      <th>total_bedrooms</th>\n",
       "      <th>population</th>\n",
       "      <th>households</th>\n",
       "      <th>median_income</th>\n",
       "      <th>median_house_value</th>\n",
       "      <th>ocean_proximity</th>\n",
       "    </tr>\n",
       "  </thead>\n",
       "  <tbody>\n",
       "    <tr>\n",
       "      <th>0</th>\n",
       "      <td>count</td>\n",
       "      <td>20640</td>\n",
       "      <td>20640</td>\n",
       "      <td>20640</td>\n",
       "      <td>20640</td>\n",
       "      <td>20640</td>\n",
       "      <td>20640</td>\n",
       "      <td>20640</td>\n",
       "      <td>20640</td>\n",
       "      <td>20640</td>\n",
       "      <td>20640</td>\n",
       "    </tr>\n",
       "    <tr>\n",
       "      <th>1</th>\n",
       "      <td>mean</td>\n",
       "      <td>-119.56970445736148</td>\n",
       "      <td>35.6318614341087</td>\n",
       "      <td>28.639486434108527</td>\n",
       "      <td>2635.7630813953488</td>\n",
       "      <td>536.8388565891473</td>\n",
       "      <td>1425.4767441860465</td>\n",
       "      <td>499.5396802325581</td>\n",
       "      <td>3.8706710029070246</td>\n",
       "      <td>206855.81690891474</td>\n",
       "      <td>None</td>\n",
       "    </tr>\n",
       "    <tr>\n",
       "      <th>2</th>\n",
       "      <td>stddev</td>\n",
       "      <td>2.003531723502584</td>\n",
       "      <td>2.135952397457101</td>\n",
       "      <td>12.58555761211163</td>\n",
       "      <td>2181.6152515827944</td>\n",
       "      <td>419.39187792168866</td>\n",
       "      <td>1132.46212176534</td>\n",
       "      <td>382.3297528316098</td>\n",
       "      <td>1.899821717945263</td>\n",
       "      <td>115395.61587441359</td>\n",
       "      <td>None</td>\n",
       "    </tr>\n",
       "    <tr>\n",
       "      <th>3</th>\n",
       "      <td>min</td>\n",
       "      <td>-124.35</td>\n",
       "      <td>32.54</td>\n",
       "      <td>1.0</td>\n",
       "      <td>2.0</td>\n",
       "      <td>1.0</td>\n",
       "      <td>3.0</td>\n",
       "      <td>1.0</td>\n",
       "      <td>0.4999</td>\n",
       "      <td>14999.0</td>\n",
       "      <td>&lt;1H OCEAN</td>\n",
       "    </tr>\n",
       "    <tr>\n",
       "      <th>4</th>\n",
       "      <td>max</td>\n",
       "      <td>-114.31</td>\n",
       "      <td>41.95</td>\n",
       "      <td>52.0</td>\n",
       "      <td>39320.0</td>\n",
       "      <td>6445.0</td>\n",
       "      <td>35682.0</td>\n",
       "      <td>6082.0</td>\n",
       "      <td>15.0001</td>\n",
       "      <td>500001.0</td>\n",
       "      <td>NEAR OCEAN</td>\n",
       "    </tr>\n",
       "  </tbody>\n",
       "</table>\n",
       "</div>"
      ],
      "text/plain": [
       "  summary            longitude           latitude  housing_median_age  \\\n",
       "0   count                20640              20640               20640   \n",
       "1    mean  -119.56970445736148   35.6318614341087  28.639486434108527   \n",
       "2  stddev    2.003531723502584  2.135952397457101   12.58555761211163   \n",
       "3     min              -124.35              32.54                 1.0   \n",
       "4     max              -114.31              41.95                52.0   \n",
       "\n",
       "          total_rooms      total_bedrooms          population  \\\n",
       "0               20640               20640               20640   \n",
       "1  2635.7630813953488   536.8388565891473  1425.4767441860465   \n",
       "2  2181.6152515827944  419.39187792168866    1132.46212176534   \n",
       "3                 2.0                 1.0                 3.0   \n",
       "4             39320.0              6445.0             35682.0   \n",
       "\n",
       "          households       median_income  median_house_value ocean_proximity  \n",
       "0              20640               20640               20640           20640  \n",
       "1  499.5396802325581  3.8706710029070246  206855.81690891474            None  \n",
       "2  382.3297528316098   1.899821717945263  115395.61587441359            None  \n",
       "3                1.0              0.4999             14999.0       <1H OCEAN  \n",
       "4             6082.0             15.0001            500001.0      NEAR OCEAN  "
      ]
     },
     "metadata": {},
     "output_type": "display_data"
    }
   ],
   "source": [
    "display(df.describe().toPandas()) "
   ]
  },
  {
   "cell_type": "code",
   "execution_count": 12,
   "id": "981c1a33",
   "metadata": {},
   "outputs": [],
   "source": [
    "categorical_cols = ['ocean_proximity']\n",
    "numerical_cols  = ['longitude', 'latitude', 'housing_median_age', 'total_rooms', 'total_bedrooms',\\\n",
    "                   'population', 'households', 'median_income']\n",
    "target = 'median_house_value' "
   ]
  },
  {
   "cell_type": "markdown",
   "id": "aadcb188",
   "metadata": {},
   "source": [
    "Разделить выборки на тестовую и обучающую."
   ]
  },
  {
   "cell_type": "code",
   "execution_count": 13,
   "id": "61de787c",
   "metadata": {
    "scrolled": true
   },
   "outputs": [
    {
     "name": "stdout",
     "output_type": "stream",
     "text": [
      "16507 4133\n"
     ]
    }
   ],
   "source": [
    "train_data, test_data = df.randomSplit([.8,.2], seed=RANDOM_SEED)\n",
    "print(train_data.count(), test_data.count()) "
   ]
  },
  {
   "cell_type": "markdown",
   "id": "a71e1893",
   "metadata": {},
   "source": [
    "Закодировать OHE категориальный признак."
   ]
  },
  {
   "cell_type": "code",
   "execution_count": 14,
   "id": "1759ea1c",
   "metadata": {
    "scrolled": true
   },
   "outputs": [
    {
     "name": "stderr",
     "output_type": "stream",
     "text": [
      "                                                                                \r"
     ]
    },
    {
     "name": "stdout",
     "output_type": "stream",
     "text": [
      "+---------------+\n",
      "|ocean_proximity|\n",
      "+---------------+\n",
      "|     NEAR OCEAN|\n",
      "|     NEAR OCEAN|\n",
      "|     NEAR OCEAN|\n",
      "+---------------+\n",
      "only showing top 3 rows\n",
      "\n"
     ]
    }
   ],
   "source": [
    "indexer = StringIndexer(inputCols=categorical_cols, \n",
    "                        outputCols=[c+'_idx' for c in categorical_cols]) \n",
    "model_ind = indexer.fit(train_data) # переведёт в числовые значения\n",
    "train_data = model_ind.transform(train_data)\n",
    "cols = [c for c in df.columns for i in categorical_cols if (c.startswith(i))]\n",
    "train_data.select(cols).show(3) "
   ]
  },
  {
   "cell_type": "code",
   "execution_count": 15,
   "id": "b3a903ad",
   "metadata": {},
   "outputs": [
    {
     "name": "stdout",
     "output_type": "stream",
     "text": [
      "+---------------+\n",
      "|ocean_proximity|\n",
      "+---------------+\n",
      "|     NEAR OCEAN|\n",
      "|     NEAR OCEAN|\n",
      "|     NEAR OCEAN|\n",
      "+---------------+\n",
      "only showing top 3 rows\n",
      "\n"
     ]
    }
   ],
   "source": [
    "test_data = model_ind.transform(test_data)\n",
    "test_data.select(cols).show(3) "
   ]
  },
  {
   "cell_type": "code",
   "execution_count": 16,
   "id": "dd9e99d6",
   "metadata": {},
   "outputs": [],
   "source": [
    "encoder = OneHotEncoder(inputCols=[c+'_idx' for c in categorical_cols],\n",
    "                        outputCols=[c+'_ohe' for c in categorical_cols])\n",
    "model_ohe = encoder.fit(train_data)\n",
    "train_data = model_ohe.transform(train_data) "
   ]
  },
  {
   "cell_type": "code",
   "execution_count": 17,
   "id": "50872212",
   "metadata": {
    "scrolled": true
   },
   "outputs": [
    {
     "name": "stdout",
     "output_type": "stream",
     "text": [
      "+---------------+\n",
      "|ocean_proximity|\n",
      "+---------------+\n",
      "|     NEAR OCEAN|\n",
      "|     NEAR OCEAN|\n",
      "|     NEAR OCEAN|\n",
      "+---------------+\n",
      "only showing top 3 rows\n",
      "\n"
     ]
    }
   ],
   "source": [
    "cols = [c for c in df.columns for i in categorical_cols if (c.startswith(i))]\n",
    "train_data.select(cols).show(3) "
   ]
  },
  {
   "cell_type": "code",
   "execution_count": 18,
   "id": "a1af0d10",
   "metadata": {},
   "outputs": [
    {
     "name": "stdout",
     "output_type": "stream",
     "text": [
      "+---------------+\n",
      "|ocean_proximity|\n",
      "+---------------+\n",
      "|     NEAR OCEAN|\n",
      "|     NEAR OCEAN|\n",
      "|     NEAR OCEAN|\n",
      "+---------------+\n",
      "only showing top 3 rows\n",
      "\n"
     ]
    }
   ],
   "source": [
    "test_data = model_ohe.transform(test_data)\n",
    "cols = [c for c in df.columns for i in categorical_cols if (c.startswith(i))]\n",
    "test_data.select(cols).show(3) "
   ]
  },
  {
   "cell_type": "code",
   "execution_count": 19,
   "id": "1a99c8ce",
   "metadata": {},
   "outputs": [],
   "source": [
    "categorical_assembler = \\\n",
    "        VectorAssembler(inputCols=[c+'_ohe' for c in categorical_cols],\n",
    "                                        outputCol=\"categorical_features\")\n",
    "train_data = categorical_assembler.transform(train_data) \n",
    "test_data = categorical_assembler.transform(test_data)"
   ]
  },
  {
   "cell_type": "markdown",
   "id": "8c5b4112",
   "metadata": {},
   "source": [
    "Шкалировать числовые, что сделает данные более однородными."
   ]
  },
  {
   "cell_type": "code",
   "execution_count": 20,
   "id": "e050c3e6",
   "metadata": {},
   "outputs": [],
   "source": [
    "numerical_assembler = VectorAssembler(inputCols=numerical_cols, outputCol=\"numerical_features\")\n",
    "train_data = numerical_assembler.transform(train_data) \n",
    "test_data = numerical_assembler.transform(test_data) "
   ]
  },
  {
   "cell_type": "code",
   "execution_count": 21,
   "id": "7e1b888d",
   "metadata": {},
   "outputs": [
    {
     "name": "stderr",
     "output_type": "stream",
     "text": [
      "                                                                                \r"
     ]
    }
   ],
   "source": [
    "standardScaler = StandardScaler(inputCol='numerical_features', outputCol=\"numerical_features_scaled\")\n",
    "model_scal = standardScaler.fit(train_data)\n",
    "train_data = model_scal.transform(train_data)\n",
    "test_data = model_scal.transform(test_data)"
   ]
  },
  {
   "cell_type": "markdown",
   "id": "445afc2c",
   "metadata": {},
   "source": [
    "Собрать категории и числа в один вектор."
   ]
  },
  {
   "cell_type": "code",
   "execution_count": 22,
   "id": "cd075c7a",
   "metadata": {
    "scrolled": true
   },
   "outputs": [
    {
     "name": "stdout",
     "output_type": "stream",
     "text": [
      "+--------------------+-------------------------+\n",
      "|categorical_features|numerical_features_scaled|\n",
      "+--------------------+-------------------------+\n",
      "|       (4,[2],[1.0])|     [-62.197108857510...|\n",
      "|       (4,[2],[1.0])|     [-62.172099967740...|\n",
      "|       (4,[2],[1.0])|     [-62.172099967740...|\n",
      "|       (4,[2],[1.0])|     [-62.157094633879...|\n",
      "|       (4,[2],[1.0])|     [-62.147091077971...|\n",
      "|       (4,[2],[1.0])|     [-62.137087522063...|\n",
      "+--------------------+-------------------------+\n",
      "only showing top 6 rows\n",
      "\n"
     ]
    }
   ],
   "source": [
    "all_features = ['categorical_features','numerical_features_scaled']\n",
    "\n",
    "final_assembler = VectorAssembler(inputCols=all_features, \n",
    "                                  outputCol=\"features\") \n",
    "train_data = final_assembler.transform(train_data)\n",
    "test_data = final_assembler.transform(test_data)\n",
    "train_data.select(all_features).show(6) "
   ]
  },
  {
   "cell_type": "code",
   "execution_count": 23,
   "id": "a94aff42",
   "metadata": {},
   "outputs": [
    {
     "name": "stdout",
     "output_type": "stream",
     "text": [
      "+--------------------+-------------------------+\n",
      "|categorical_features|numerical_features_scaled|\n",
      "+--------------------+-------------------------+\n",
      "|       (4,[2],[1.0])|     [-62.152092855925...|\n",
      "|       (4,[2],[1.0])|     [-62.117080410247...|\n",
      "|       (4,[2],[1.0])|     [-62.117080410247...|\n",
      "|       (4,[2],[1.0])|     [-62.117080410247...|\n",
      "|       (4,[2],[1.0])|     [-62.112078632293...|\n",
      "|       (4,[2],[1.0])|     [-62.107076854339...|\n",
      "+--------------------+-------------------------+\n",
      "only showing top 6 rows\n",
      "\n"
     ]
    }
   ],
   "source": [
    "test_data.select(all_features).show(6) "
   ]
  },
  {
   "cell_type": "markdown",
   "id": "9f0a82f3",
   "metadata": {
    "id": "9f0a82f3"
   },
   "source": [
    "# Обучение моделей"
   ]
  },
  {
   "cell_type": "code",
   "execution_count": 23,
   "id": "07d7999a",
   "metadata": {},
   "outputs": [],
   "source": [
    "rating_list = {\n",
    "    'RMSE': [],\n",
    "    'MAE': [],\n",
    "    'R2': []\n",
    "}"
   ]
  },
  {
   "cell_type": "code",
   "execution_count": 24,
   "id": "7579dfb7",
   "metadata": {},
   "outputs": [],
   "source": [
    "def linear_modelling(train_data, test_data, target, featuresCol, model_name, rating_list):\n",
    "    \n",
    "    lr = LinearRegression(maxIter=10, regParam=0.3, elasticNetParam=0.8, labelCol=target, featuresCol=featuresCol)\n",
    "    model = lr.fit(train_data)\n",
    "    predictions = model.transform(test_data)\n",
    "    predictedLabes = predictions.select(\"median_house_value\", \"prediction\")\n",
    "    print(f'\\nПредсказания в модели {model_name}\\n')\n",
    "    predictedLabes.show() \n",
    "    \n",
    "    # RMSE\n",
    "    evaluator = RegressionEvaluator(\n",
    "    labelCol=target, predictionCol=\"prediction\", metricName=\"rmse\")\n",
    "    rmse = evaluator.evaluate(predictions)\n",
    "    print('RMSE: ', rmse)\n",
    "    \n",
    "    \n",
    "    # MAE\n",
    "    evaluator = RegressionEvaluator(\n",
    "    labelCol=target, predictionCol=\"prediction\", metricName=\"mae\")\n",
    "    mae = evaluator.evaluate(predictions)\n",
    "    print('MAE: ', mae)\n",
    "    \n",
    "    # R2\n",
    "    evaluator = RegressionEvaluator(\n",
    "    labelCol=target, predictionCol=\"prediction\", metricName=\"r2\")\n",
    "    r2 = evaluator.evaluate(predictions)\n",
    "    print('R2: ', r2) \n",
    "    \n",
    "    rating_list['RMSE'].append(rmse)\n",
    "    rating_list['MAE'].append(mae)\n",
    "    rating_list['R2'].append(r2)\n",
    "    \n",
    "    return rating_list\n",
    "    \n",
    "    "
   ]
  },
  {
   "cell_type": "markdown",
   "id": "ad6c2c5b",
   "metadata": {},
   "source": [
    "###### Модель с категориальными данными"
   ]
  },
  {
   "cell_type": "code",
   "execution_count": 25,
   "id": "f8a895db",
   "metadata": {},
   "outputs": [
    {
     "name": "stderr",
     "output_type": "stream",
     "text": [
      "22/12/23 16:01:47 WARN BLAS: Failed to load implementation from: com.github.fommil.netlib.NativeSystemBLAS\n",
      "22/12/23 16:01:47 WARN BLAS: Failed to load implementation from: com.github.fommil.netlib.NativeRefBLAS\n",
      "                                                                                \r"
     ]
    },
    {
     "name": "stdout",
     "output_type": "stream",
     "text": [
      "\n",
      "Предсказания в модели with categorical features\n",
      "\n",
      "+------------------+------------------+\n",
      "|median_house_value|        prediction|\n",
      "+------------------+------------------+\n",
      "|          111400.0|205809.43412493146|\n",
      "|           90100.0|213761.66524101468|\n",
      "|           69000.0| 192581.8750578689|\n",
      "|           70000.0| 164664.8557414678|\n",
      "|          107000.0|202656.34720332548|\n",
      "|           70500.0|180048.00687120575|\n",
      "|           75500.0|175439.51443297835|\n",
      "|          105900.0| 163352.3898437852|\n",
      "|           92700.0|201711.38674109755|\n",
      "|           74700.0|185271.20161318267|\n",
      "|          100600.0|206968.60554956715|\n",
      "|           86400.0|209809.90555929695|\n",
      "|          103100.0| 68151.04637840902|\n",
      "|          100500.0|179644.31556450785|\n",
      "|           86900.0|168858.95467298594|\n",
      "|           83000.0| 194572.3416313387|\n",
      "|           55000.0| 221500.4903474555|\n",
      "|           72300.0|163522.53220209433|\n",
      "|           92600.0|187036.42389814183|\n",
      "|           97300.0| 178042.5164423762|\n",
      "+------------------+------------------+\n",
      "only showing top 20 rows\n",
      "\n",
      "RMSE:  68995.56219559876\n",
      "MAE:  50004.94008772537\n",
      "R2:  0.6487097141568786\n"
     ]
    }
   ],
   "source": [
    "rating_list = linear_modelling(train_data, test_data, target, \"features\", 'with categorical features', rating_list)"
   ]
  },
  {
   "cell_type": "markdown",
   "id": "15eca476",
   "metadata": {},
   "source": [
    "###### Модель без категориальных данных\n",
    "\n"
   ]
  },
  {
   "cell_type": "code",
   "execution_count": 26,
   "id": "626be849",
   "metadata": {},
   "outputs": [
    {
     "name": "stdout",
     "output_type": "stream",
     "text": [
      "\n",
      "Предсказания в модели without categorical features\n",
      "\n",
      "+------------------+-------------------+\n",
      "|median_house_value|         prediction|\n",
      "+------------------+-------------------+\n",
      "|          111400.0| 168845.08940031705|\n",
      "|           90100.0|   167891.363062134|\n",
      "|           69000.0|  146722.7882020059|\n",
      "|           70000.0| 116392.49507634761|\n",
      "|          107000.0| 158683.67926313402|\n",
      "|           70500.0| 134862.60277372925|\n",
      "|           75500.0| 131755.20177613152|\n",
      "|          105900.0|  89188.68539767852|\n",
      "|           92700.0|  158787.9798915293|\n",
      "|           74700.0| 141972.39029269386|\n",
      "|          100600.0| 158192.40289747296|\n",
      "|           86400.0|  163346.0313168415|\n",
      "|          103100.0|-15593.851544664241|\n",
      "|          100500.0| 129359.44031561399|\n",
      "|           86900.0|  118848.1475385041|\n",
      "|           83000.0|  144601.6522390009|\n",
      "|           55000.0| 193895.29076012317|\n",
      "|           72300.0| 127731.15228190925|\n",
      "|           92600.0|  133821.0854512765|\n",
      "|           97300.0|  139729.6056876951|\n",
      "+------------------+-------------------+\n",
      "only showing top 20 rows\n",
      "\n",
      "RMSE:  69870.89078174841\n",
      "MAE:  51115.01511177571\n",
      "R2:  0.639739717538519\n"
     ]
    }
   ],
   "source": [
    "rating_list = linear_modelling(train_data, test_data, target,\"numerical_features_scaled\", 'without categorical features', rating_list)"
   ]
  },
  {
   "cell_type": "markdown",
   "id": "757fd103",
   "metadata": {
    "id": "757fd103"
   },
   "source": [
    "# Анализ результатов"
   ]
  },
  {
   "cell_type": "code",
   "execution_count": 27,
   "id": "82de2af5",
   "metadata": {},
   "outputs": [
    {
     "data": {
      "text/html": [
       "<div>\n",
       "<style scoped>\n",
       "    .dataframe tbody tr th:only-of-type {\n",
       "        vertical-align: middle;\n",
       "    }\n",
       "\n",
       "    .dataframe tbody tr th {\n",
       "        vertical-align: top;\n",
       "    }\n",
       "\n",
       "    .dataframe thead th {\n",
       "        text-align: right;\n",
       "    }\n",
       "</style>\n",
       "<table border=\"1\" class=\"dataframe\">\n",
       "  <thead>\n",
       "    <tr style=\"text-align: right;\">\n",
       "      <th></th>\n",
       "      <th>Model</th>\n",
       "      <th>RMSE</th>\n",
       "      <th>MAE</th>\n",
       "      <th>R2</th>\n",
       "    </tr>\n",
       "  </thead>\n",
       "  <tbody>\n",
       "    <tr>\n",
       "      <th>0</th>\n",
       "      <td>with categorical features</td>\n",
       "      <td>68995.562196</td>\n",
       "      <td>50004.940088</td>\n",
       "      <td>0.64871</td>\n",
       "    </tr>\n",
       "    <tr>\n",
       "      <th>1</th>\n",
       "      <td>without categorical features</td>\n",
       "      <td>69870.890782</td>\n",
       "      <td>51115.015112</td>\n",
       "      <td>0.63974</td>\n",
       "    </tr>\n",
       "  </tbody>\n",
       "</table>\n",
       "</div>"
      ],
      "text/plain": [
       "                          Model          RMSE           MAE       R2\n",
       "0     with categorical features  68995.562196  50004.940088  0.64871\n",
       "1  without categorical features  69870.890782  51115.015112  0.63974"
      ]
     },
     "metadata": {},
     "output_type": "display_data"
    }
   ],
   "source": [
    "rating_table = {\n",
    "    'Model': ['with categorical features', 'without categorical features'],\n",
    "    'RMSE': rating_list['RMSE'],\n",
    "    'MAE': rating_list['MAE'],\n",
    "    'R2': rating_list['R2']\n",
    "}\n",
    "rating_table = pd.DataFrame(rating_table)\n",
    "display(rating_table)"
   ]
  },
  {
   "cell_type": "markdown",
   "id": "ff562e34",
   "metadata": {},
   "source": [
    "RMSE - Это корень от квадрата ошибки MSE, которая измеряет среднюю сумму квадратной разности между фактическим значением и прогнозируемым значением для всех точек данных. \n",
    "\n",
    "MAE - метрика измеряет среднюю сумму абсолютной разницы между фактическим значением и прогнозируемым значением.\n",
    "\n",
    "R² - это соотношение между тем, насколько хороша наша модель, и тем, насколько хороша модель наивного среднего. \n",
    "По этой метрике обе модели средненькие, с категориальными признаками немного лучше.\n",
    "\n",
    "По другим же метрикам у нас довольно странные предсказания - как и в примерах, различия между целевым признаком и предсказанием очень большие. \n",
    "\n"
   ]
  }
 ],
 "metadata": {
  "ExecuteTimeLog": [
   {
    "duration": 22806,
    "start_time": "2022-12-18T15:15:02.210Z"
   },
   {
    "duration": 16,
    "start_time": "2022-12-18T15:18:24.616Z"
   },
   {
    "duration": 135,
    "start_time": "2022-12-18T15:19:02.472Z"
   },
   {
    "duration": 8,
    "start_time": "2022-12-18T15:19:05.136Z"
   },
   {
    "duration": 969,
    "start_time": "2022-12-18T15:19:58.759Z"
   },
   {
    "duration": 912,
    "start_time": "2022-12-18T15:20:25.111Z"
   },
   {
    "duration": 524,
    "start_time": "2022-12-18T15:20:30.214Z"
   },
   {
    "duration": 549,
    "start_time": "2022-12-18T15:21:07.751Z"
   },
   {
    "duration": 435,
    "start_time": "2022-12-18T15:21:22.094Z"
   },
   {
    "duration": 376,
    "start_time": "2022-12-18T15:22:09.863Z"
   },
   {
    "duration": 439,
    "start_time": "2022-12-18T15:22:14.078Z"
   },
   {
    "duration": 395,
    "start_time": "2022-12-18T15:23:11.558Z"
   },
   {
    "duration": 325,
    "start_time": "2022-12-18T15:23:17.325Z"
   },
   {
    "duration": 412,
    "start_time": "2022-12-18T15:26:44.907Z"
   },
   {
    "duration": 296,
    "start_time": "2022-12-18T15:26:50.642Z"
   },
   {
    "duration": 24879,
    "start_time": "2022-12-19T17:08:40.294Z"
   },
   {
    "duration": 4,
    "start_time": "2022-12-19T17:09:05.175Z"
   },
   {
    "duration": 22,
    "start_time": "2022-12-19T17:22:45.833Z"
   },
   {
    "duration": 105,
    "start_time": "2022-12-19T17:22:48.969Z"
   },
   {
    "duration": 24,
    "start_time": "2022-12-19T17:22:58.841Z"
   },
   {
    "duration": 3,
    "start_time": "2022-12-19T17:23:21.497Z"
   },
   {
    "duration": 52,
    "start_time": "2022-12-19T17:23:27.193Z"
   },
   {
    "duration": 8,
    "start_time": "2022-12-19T17:23:30.833Z"
   },
   {
    "duration": 118,
    "start_time": "2022-12-19T17:25:27.376Z"
   },
   {
    "duration": 92,
    "start_time": "2022-12-19T17:25:47.384Z"
   },
   {
    "duration": 342,
    "start_time": "2022-12-19T17:26:23.719Z"
   },
   {
    "duration": 99,
    "start_time": "2022-12-19T17:26:56.287Z"
   },
   {
    "duration": 279,
    "start_time": "2022-12-19T17:27:05.079Z"
   },
   {
    "duration": 1582,
    "start_time": "2022-12-19T17:27:08.024Z"
   },
   {
    "duration": 8,
    "start_time": "2022-12-19T17:27:26.535Z"
   },
   {
    "duration": 89,
    "start_time": "2022-12-19T17:27:31.319Z"
   },
   {
    "duration": 8,
    "start_time": "2022-12-19T17:27:35.271Z"
   },
   {
    "duration": 61,
    "start_time": "2022-12-19T17:29:02.302Z"
   },
   {
    "duration": 46,
    "start_time": "2022-12-19T17:29:11.318Z"
   },
   {
    "duration": 8,
    "start_time": "2022-12-19T17:29:49.102Z"
   },
   {
    "duration": 14,
    "start_time": "2022-12-19T17:30:50.534Z"
   },
   {
    "duration": 14,
    "start_time": "2022-12-19T17:31:18.574Z"
   },
   {
    "duration": 45,
    "start_time": "2022-12-19T17:31:29.518Z"
   },
   {
    "duration": 3,
    "start_time": "2022-12-19T17:31:31.637Z"
   },
   {
    "duration": 25,
    "start_time": "2022-12-19T17:32:16.109Z"
   },
   {
    "duration": 85,
    "start_time": "2022-12-19T17:32:23.357Z"
   },
   {
    "duration": 82,
    "start_time": "2022-12-19T17:32:42.533Z"
   },
   {
    "duration": 1842,
    "start_time": "2022-12-19T17:34:49.084Z"
   },
   {
    "duration": 101,
    "start_time": "2022-12-19T17:34:58.668Z"
   },
   {
    "duration": 209,
    "start_time": "2022-12-19T17:35:02.792Z"
   },
   {
    "duration": 455,
    "start_time": "2022-12-19T17:35:34.499Z"
   },
   {
    "duration": 12,
    "start_time": "2022-12-19T17:36:59.891Z"
   },
   {
    "duration": 27,
    "start_time": "2022-12-19T17:37:03.466Z"
   },
   {
    "duration": 91,
    "start_time": "2022-12-19T17:37:24.858Z"
   },
   {
    "duration": 89,
    "start_time": "2022-12-19T17:37:50.874Z"
   },
   {
    "duration": 24285,
    "start_time": "2022-12-19T17:38:17.693Z"
   },
   {
    "duration": 75,
    "start_time": "2022-12-19T17:38:41.980Z"
   },
   {
    "duration": 117,
    "start_time": "2022-12-19T17:38:42.057Z"
   },
   {
    "duration": 3,
    "start_time": "2022-12-19T17:38:42.177Z"
   },
   {
    "duration": 110,
    "start_time": "2022-12-19T17:38:42.182Z"
   },
   {
    "duration": 3061,
    "start_time": "2022-12-19T17:38:42.294Z"
   },
   {
    "duration": 416,
    "start_time": "2022-12-19T17:38:45.357Z"
   },
   {
    "duration": 580,
    "start_time": "2022-12-19T17:38:45.775Z"
   },
   {
    "duration": 102,
    "start_time": "2022-12-19T17:38:46.357Z"
   },
   {
    "duration": 31,
    "start_time": "2022-12-19T17:39:02.465Z"
   },
   {
    "duration": 1588,
    "start_time": "2022-12-19T17:39:45.976Z"
   },
   {
    "duration": 6,
    "start_time": "2022-12-19T17:39:55.408Z"
   },
   {
    "duration": 559,
    "start_time": "2022-12-19T17:40:18.920Z"
   },
   {
    "duration": 3601,
    "start_time": "2022-12-19T17:40:36.671Z"
   },
   {
    "duration": 11,
    "start_time": "2022-12-19T17:48:19.340Z"
   },
   {
    "duration": 24,
    "start_time": "2022-12-19T17:49:02.250Z"
   },
   {
    "duration": 5,
    "start_time": "2022-12-19T17:49:03.010Z"
   },
   {
    "duration": 27,
    "start_time": "2022-12-19T17:49:16.747Z"
   },
   {
    "duration": 6,
    "start_time": "2022-12-19T17:49:22.787Z"
   },
   {
    "duration": 26,
    "start_time": "2022-12-19T17:50:33.210Z"
   },
   {
    "duration": 205,
    "start_time": "2022-12-19T17:51:02.770Z"
   },
   {
    "duration": 70,
    "start_time": "2022-12-19T17:51:50.561Z"
   },
   {
    "duration": 28,
    "start_time": "2022-12-19T17:52:08.377Z"
   },
   {
    "duration": 655,
    "start_time": "2022-12-19T17:52:09.418Z"
   },
   {
    "duration": 1120,
    "start_time": "2022-12-19T18:00:15.041Z"
   },
   {
    "duration": 299348,
    "start_time": "2022-12-19T18:00:24.878Z"
   },
   {
    "duration": 11,
    "start_time": "2022-12-19T18:11:13.659Z"
   },
   {
    "duration": 149333,
    "start_time": "2022-12-19T18:11:19.235Z"
   },
   {
    "duration": 551747,
    "start_time": "2022-12-19T18:13:48.570Z"
   },
   {
    "duration": 0,
    "start_time": "2022-12-19T18:23:00.319Z"
   },
   {
    "duration": 0,
    "start_time": "2022-12-19T18:23:00.321Z"
   },
   {
    "duration": 0,
    "start_time": "2022-12-19T18:23:00.355Z"
   },
   {
    "duration": 914923,
    "start_time": "2022-12-19T18:23:24.160Z"
   },
   {
    "duration": 69692,
    "start_time": "2022-12-19T18:38:46.644Z"
   },
   {
    "duration": 0,
    "start_time": "2022-12-19T18:39:56.355Z"
   },
   {
    "duration": 29,
    "start_time": "2022-12-19T18:40:06.546Z"
   },
   {
    "duration": 183856,
    "start_time": "2022-12-19T18:40:17.239Z"
   },
   {
    "duration": 0,
    "start_time": "2022-12-19T18:43:21.097Z"
   },
   {
    "duration": 55446,
    "start_time": "2022-12-19T18:43:28.231Z"
   },
   {
    "duration": 6192,
    "start_time": "2022-12-19T18:46:00.264Z"
   },
   {
    "duration": 16836,
    "start_time": "2022-12-19T18:46:15.455Z"
   },
   {
    "duration": 25809,
    "start_time": "2022-12-19T18:46:44.862Z"
   },
   {
    "duration": 4,
    "start_time": "2022-12-19T18:47:10.673Z"
   },
   {
    "duration": 86,
    "start_time": "2022-12-19T18:47:10.678Z"
   },
   {
    "duration": 1390,
    "start_time": "2022-12-19T18:47:10.766Z"
   },
   {
    "duration": 113,
    "start_time": "2022-12-19T18:48:24.245Z"
   },
   {
    "duration": 1549,
    "start_time": "2022-12-19T18:48:36.909Z"
   },
   {
    "duration": 25215,
    "start_time": "2022-12-19T18:49:18.865Z"
   },
   {
    "duration": 5,
    "start_time": "2022-12-19T18:49:44.082Z"
   },
   {
    "duration": 15,
    "start_time": "2022-12-19T18:49:44.154Z"
   },
   {
    "duration": 1629,
    "start_time": "2022-12-19T18:49:44.172Z"
   },
   {
    "duration": 167,
    "start_time": "2022-12-19T18:49:45.803Z"
   },
   {
    "duration": 1586,
    "start_time": "2022-12-19T18:49:45.972Z"
   },
   {
    "duration": 4,
    "start_time": "2022-12-19T18:49:47.560Z"
   },
   {
    "duration": 101,
    "start_time": "2022-12-19T18:49:47.566Z"
   },
   {
    "duration": 2814,
    "start_time": "2022-12-19T18:49:47.669Z"
   },
   {
    "duration": 469,
    "start_time": "2022-12-19T18:49:50.486Z"
   },
   {
    "duration": 423,
    "start_time": "2022-12-19T18:49:50.958Z"
   },
   {
    "duration": 172,
    "start_time": "2022-12-19T18:49:51.383Z"
   },
   {
    "duration": 104,
    "start_time": "2022-12-19T18:49:51.557Z"
   },
   {
    "duration": 1527,
    "start_time": "2022-12-19T18:49:51.663Z"
   },
   {
    "duration": 66,
    "start_time": "2022-12-19T18:49:53.193Z"
   },
   {
    "duration": 702,
    "start_time": "2022-12-19T18:49:53.260Z"
   },
   {
    "duration": 3619,
    "start_time": "2022-12-19T18:49:53.964Z"
   },
   {
    "duration": 26,
    "start_time": "2022-12-19T18:49:57.654Z"
   },
   {
    "duration": 788,
    "start_time": "2022-12-19T18:49:57.683Z"
   },
   {
    "duration": 1087,
    "start_time": "2022-12-19T18:49:58.473Z"
   },
   {
    "duration": 97,
    "start_time": "2022-12-19T18:49:59.562Z"
   },
   {
    "duration": 4310,
    "start_time": "2022-12-19T18:49:59.660Z"
   },
   {
    "duration": 952,
    "start_time": "2022-12-19T18:50:03.971Z"
   },
   {
    "duration": 2953,
    "start_time": "2022-12-19T18:50:04.924Z"
   },
   {
    "duration": 1194,
    "start_time": "2022-12-19T18:50:07.879Z"
   },
   {
    "duration": 0,
    "start_time": "2022-12-19T18:50:09.075Z"
   },
   {
    "duration": 0,
    "start_time": "2022-12-19T18:50:09.076Z"
   },
   {
    "duration": 0,
    "start_time": "2022-12-19T18:50:09.078Z"
   },
   {
    "duration": 0,
    "start_time": "2022-12-19T18:50:09.079Z"
   },
   {
    "duration": 0,
    "start_time": "2022-12-19T18:50:09.080Z"
   },
   {
    "duration": 0,
    "start_time": "2022-12-19T18:50:09.081Z"
   },
   {
    "duration": 0,
    "start_time": "2022-12-19T18:50:09.083Z"
   },
   {
    "duration": 0,
    "start_time": "2022-12-19T18:50:09.084Z"
   },
   {
    "duration": 0,
    "start_time": "2022-12-19T18:50:09.085Z"
   },
   {
    "duration": 0,
    "start_time": "2022-12-19T18:50:09.086Z"
   },
   {
    "duration": 0,
    "start_time": "2022-12-19T18:50:09.088Z"
   },
   {
    "duration": 0,
    "start_time": "2022-12-19T18:50:09.089Z"
   },
   {
    "duration": 8,
    "start_time": "2022-12-19T18:54:42.179Z"
   },
   {
    "duration": 9,
    "start_time": "2022-12-19T18:54:49.147Z"
   },
   {
    "duration": 9,
    "start_time": "2022-12-19T18:54:57.756Z"
   },
   {
    "duration": 7,
    "start_time": "2022-12-19T18:55:31.275Z"
   },
   {
    "duration": 8,
    "start_time": "2022-12-19T18:55:36.115Z"
   },
   {
    "duration": 9,
    "start_time": "2022-12-19T18:56:54.651Z"
   },
   {
    "duration": 5,
    "start_time": "2022-12-19T18:59:20.519Z"
   },
   {
    "duration": 3,
    "start_time": "2022-12-19T18:59:22.889Z"
   },
   {
    "duration": 4,
    "start_time": "2022-12-19T18:59:24.436Z"
   },
   {
    "duration": 4,
    "start_time": "2022-12-19T18:59:26.400Z"
   },
   {
    "duration": 2552,
    "start_time": "2022-12-19T18:59:35.115Z"
   },
   {
    "duration": 100,
    "start_time": "2022-12-19T18:59:37.669Z"
   },
   {
    "duration": 1802,
    "start_time": "2022-12-19T19:01:18.365Z"
   },
   {
    "duration": 89,
    "start_time": "2022-12-19T19:01:23.491Z"
   },
   {
    "duration": 28,
    "start_time": "2022-12-19T19:03:23.991Z"
   },
   {
    "duration": 257,
    "start_time": "2022-12-19T19:03:48.559Z"
   },
   {
    "duration": 618,
    "start_time": "2022-12-19T19:04:01.337Z"
   },
   {
    "duration": 2250,
    "start_time": "2022-12-19T19:04:11.718Z"
   },
   {
    "duration": 85,
    "start_time": "2022-12-19T19:04:21.120Z"
   },
   {
    "duration": 294,
    "start_time": "2022-12-19T19:05:08.816Z"
   },
   {
    "duration": 99,
    "start_time": "2022-12-19T19:05:30.007Z"
   },
   {
    "duration": 1348,
    "start_time": "2022-12-19T19:05:57.408Z"
   },
   {
    "duration": 100,
    "start_time": "2022-12-19T19:06:03.960Z"
   },
   {
    "duration": 22,
    "start_time": "2022-12-19T19:07:20.276Z"
   },
   {
    "duration": 26,
    "start_time": "2022-12-19T19:07:27.645Z"
   },
   {
    "duration": 352,
    "start_time": "2022-12-19T19:07:30.014Z"
   },
   {
    "duration": 364,
    "start_time": "2022-12-19T19:07:32.022Z"
   },
   {
    "duration": 1285,
    "start_time": "2022-12-19T19:07:42.604Z"
   },
   {
    "duration": 1853,
    "start_time": "2022-12-19T19:07:49.108Z"
   },
   {
    "duration": 475,
    "start_time": "2022-12-19T19:07:52.557Z"
   },
   {
    "duration": 4,
    "start_time": "2022-12-19T19:08:07.146Z"
   },
   {
    "duration": 4,
    "start_time": "2022-12-19T19:08:08.762Z"
   },
   {
    "duration": 4,
    "start_time": "2022-12-19T19:08:11.403Z"
   },
   {
    "duration": 4,
    "start_time": "2022-12-19T19:08:19.555Z"
   },
   {
    "duration": 2557,
    "start_time": "2022-12-19T19:19:14.945Z"
   },
   {
    "duration": 2816,
    "start_time": "2022-12-19T19:19:51.248Z"
   },
   {
    "duration": 4,
    "start_time": "2022-12-19T19:20:38.528Z"
   },
   {
    "duration": 89,
    "start_time": "2022-12-19T19:20:42.768Z"
   },
   {
    "duration": 85,
    "start_time": "2022-12-19T19:20:56.031Z"
   },
   {
    "duration": 2281,
    "start_time": "2022-12-19T19:21:39.583Z"
   },
   {
    "duration": 23416,
    "start_time": "2022-12-20T09:24:09.554Z"
   },
   {
    "duration": 55,
    "start_time": "2022-12-20T09:24:32.972Z"
   },
   {
    "duration": 5417,
    "start_time": "2022-12-20T09:27:38.118Z"
   },
   {
    "duration": 2913,
    "start_time": "2022-12-20T09:27:54.614Z"
   },
   {
    "duration": 77,
    "start_time": "2022-12-20T09:40:04.505Z"
   },
   {
    "duration": 423,
    "start_time": "2022-12-20T09:40:59.079Z"
   },
   {
    "duration": 58,
    "start_time": "2022-12-20T09:41:21.423Z"
   },
   {
    "duration": 10,
    "start_time": "2022-12-20T09:41:32.062Z"
   },
   {
    "duration": 525,
    "start_time": "2022-12-20T09:41:46.023Z"
   },
   {
    "duration": 9,
    "start_time": "2022-12-20T09:41:50.359Z"
   },
   {
    "duration": 11,
    "start_time": "2022-12-20T09:42:29.006Z"
   },
   {
    "duration": 11,
    "start_time": "2022-12-20T09:42:36.886Z"
   },
   {
    "duration": 639,
    "start_time": "2022-12-20T09:43:04.110Z"
   },
   {
    "duration": 15,
    "start_time": "2022-12-20T09:43:07.686Z"
   },
   {
    "duration": 459,
    "start_time": "2022-12-20T09:45:04.869Z"
   },
   {
    "duration": 1132,
    "start_time": "2022-12-20T09:45:08.317Z"
   },
   {
    "duration": 2264,
    "start_time": "2022-12-20T09:45:21.165Z"
   },
   {
    "duration": 563,
    "start_time": "2022-12-20T09:45:48.484Z"
   },
   {
    "duration": 1227,
    "start_time": "2022-12-20T09:45:50.917Z"
   },
   {
    "duration": 327,
    "start_time": "2022-12-20T09:49:06.603Z"
   },
   {
    "duration": 29,
    "start_time": "2022-12-20T09:49:10.658Z"
   },
   {
    "duration": 1423,
    "start_time": "2022-12-20T09:49:13.315Z"
   },
   {
    "duration": 3,
    "start_time": "2022-12-20T10:00:45.277Z"
   },
   {
    "duration": 23,
    "start_time": "2022-12-20T10:00:48.156Z"
   },
   {
    "duration": 1379,
    "start_time": "2022-12-20T10:00:50.405Z"
   },
   {
    "duration": 229,
    "start_time": "2022-12-20T10:00:58.254Z"
   },
   {
    "duration": 240,
    "start_time": "2022-12-20T10:00:59.198Z"
   },
   {
    "duration": 177,
    "start_time": "2022-12-20T10:01:17.013Z"
   },
   {
    "duration": 47,
    "start_time": "2022-12-20T10:01:29.236Z"
   },
   {
    "duration": 26,
    "start_time": "2022-12-20T10:05:32.001Z"
   },
   {
    "duration": 971,
    "start_time": "2022-12-20T10:05:32.570Z"
   },
   {
    "duration": 4,
    "start_time": "2022-12-20T10:05:51.618Z"
   },
   {
    "duration": 328,
    "start_time": "2022-12-20T10:06:48.906Z"
   },
   {
    "duration": 2459,
    "start_time": "2022-12-20T10:07:14.186Z"
   },
   {
    "duration": 21,
    "start_time": "2022-12-20T10:07:51.753Z"
   },
   {
    "duration": 460,
    "start_time": "2022-12-20T10:07:52.289Z"
   },
   {
    "duration": 17,
    "start_time": "2022-12-20T10:08:02.449Z"
   },
   {
    "duration": 1185,
    "start_time": "2022-12-20T10:08:25.137Z"
   },
   {
    "duration": 37,
    "start_time": "2022-12-20T10:08:36.120Z"
   },
   {
    "duration": 4541,
    "start_time": "2022-12-20T10:08:37.984Z"
   },
   {
    "duration": 1805,
    "start_time": "2022-12-20T10:08:52.353Z"
   },
   {
    "duration": 763,
    "start_time": "2022-12-20T10:08:56.281Z"
   },
   {
    "duration": 1705,
    "start_time": "2022-12-20T10:09:24.792Z"
   },
   {
    "duration": 472,
    "start_time": "2022-12-20T10:09:26.568Z"
   },
   {
    "duration": 121,
    "start_time": "2022-12-20T10:12:11.983Z"
   },
   {
    "duration": 340,
    "start_time": "2022-12-20T10:15:36.125Z"
   },
   {
    "duration": 86,
    "start_time": "2022-12-20T10:17:33.212Z"
   },
   {
    "duration": 805,
    "start_time": "2022-12-20T10:18:46.317Z"
   },
   {
    "duration": 493,
    "start_time": "2022-12-20T10:19:31.155Z"
   },
   {
    "duration": 427,
    "start_time": "2022-12-20T10:20:10.964Z"
   },
   {
    "duration": 9,
    "start_time": "2022-12-20T10:22:30.986Z"
   },
   {
    "duration": 486,
    "start_time": "2022-12-20T10:22:57.450Z"
   },
   {
    "duration": 321,
    "start_time": "2022-12-20T10:22:58.874Z"
   },
   {
    "duration": 124,
    "start_time": "2022-12-20T10:23:00.272Z"
   },
   {
    "duration": 81,
    "start_time": "2022-12-20T10:23:10.178Z"
   },
   {
    "duration": 367,
    "start_time": "2022-12-20T10:23:30.722Z"
   },
   {
    "duration": 25975,
    "start_time": "2022-12-21T06:09:05.776Z"
   },
   {
    "duration": 69,
    "start_time": "2022-12-21T06:09:31.753Z"
   },
   {
    "duration": 5616,
    "start_time": "2022-12-21T06:09:31.824Z"
   },
   {
    "duration": 2984,
    "start_time": "2022-12-21T06:09:37.442Z"
   },
   {
    "duration": 3,
    "start_time": "2022-12-21T06:09:40.428Z"
   },
   {
    "duration": 590,
    "start_time": "2022-12-21T06:09:40.433Z"
   },
   {
    "duration": 25,
    "start_time": "2022-12-21T06:09:41.025Z"
   },
   {
    "duration": 1669,
    "start_time": "2022-12-21T06:09:41.052Z"
   },
   {
    "duration": 3,
    "start_time": "2022-12-21T06:09:42.723Z"
   },
   {
    "duration": 31,
    "start_time": "2022-12-21T06:09:42.727Z"
   },
   {
    "duration": 1777,
    "start_time": "2022-12-21T06:09:42.759Z"
   },
   {
    "duration": 326,
    "start_time": "2022-12-21T06:09:44.537Z"
   },
   {
    "duration": 265,
    "start_time": "2022-12-21T06:09:44.864Z"
   },
   {
    "duration": 99,
    "start_time": "2022-12-21T06:09:45.132Z"
   },
   {
    "duration": 94,
    "start_time": "2022-12-21T06:09:45.233Z"
   },
   {
    "duration": 1191,
    "start_time": "2022-12-21T06:09:45.329Z"
   },
   {
    "duration": 310,
    "start_time": "2022-12-21T06:09:46.522Z"
   },
   {
    "duration": 2401,
    "start_time": "2022-12-21T06:09:46.833Z"
   },
   {
    "duration": 19,
    "start_time": "2022-12-21T06:09:49.236Z"
   },
   {
    "duration": 616,
    "start_time": "2022-12-21T06:09:49.322Z"
   },
   {
    "duration": 19,
    "start_time": "2022-12-21T06:09:49.939Z"
   },
   {
    "duration": 1610,
    "start_time": "2022-12-21T06:09:50.022Z"
   },
   {
    "duration": 204,
    "start_time": "2022-12-21T06:09:51.634Z"
   },
   {
    "duration": 4261,
    "start_time": "2022-12-21T06:09:51.840Z"
   },
   {
    "duration": 926,
    "start_time": "2022-12-21T06:09:56.120Z"
   },
   {
    "duration": 988,
    "start_time": "2022-12-21T06:09:57.048Z"
   },
   {
    "duration": 678,
    "start_time": "2022-12-21T06:09:58.038Z"
   },
   {
    "duration": 531,
    "start_time": "2022-12-21T06:09:58.718Z"
   },
   {
    "duration": 1927,
    "start_time": "2022-12-21T06:09:59.250Z"
   },
   {
    "duration": 792,
    "start_time": "2022-12-21T06:10:01.178Z"
   },
   {
    "duration": 646,
    "start_time": "2022-12-21T06:10:01.972Z"
   },
   {
    "duration": 436,
    "start_time": "2022-12-21T06:10:02.621Z"
   },
   {
    "duration": 431,
    "start_time": "2022-12-21T06:10:03.059Z"
   },
   {
    "duration": 252,
    "start_time": "2022-12-21T06:36:43.691Z"
   },
   {
    "duration": 7,
    "start_time": "2022-12-21T06:38:20.447Z"
   },
   {
    "duration": 209,
    "start_time": "2022-12-21T06:38:25.595Z"
   },
   {
    "duration": 4,
    "start_time": "2022-12-21T06:38:50.656Z"
   },
   {
    "duration": 95,
    "start_time": "2022-12-21T06:39:36.048Z"
   },
   {
    "duration": 283,
    "start_time": "2022-12-21T06:39:43.247Z"
   },
   {
    "duration": 886,
    "start_time": "2022-12-22T15:10:00.118Z"
   },
   {
    "duration": 4,
    "start_time": "2022-12-22T15:10:01.007Z"
   },
   {
    "duration": 17322,
    "start_time": "2022-12-22T15:10:01.013Z"
   },
   {
    "duration": 9925,
    "start_time": "2022-12-22T15:10:18.339Z"
   },
   {
    "duration": 24,
    "start_time": "2022-12-22T15:10:28.268Z"
   },
   {
    "duration": 712,
    "start_time": "2022-12-22T15:10:28.356Z"
   },
   {
    "duration": 6799,
    "start_time": "2022-12-22T15:10:29.070Z"
   },
   {
    "duration": 154,
    "start_time": "2022-12-22T15:10:35.872Z"
   },
   {
    "duration": 0,
    "start_time": "2022-12-22T15:10:36.028Z"
   },
   {
    "duration": 0,
    "start_time": "2022-12-22T15:10:36.029Z"
   },
   {
    "duration": 0,
    "start_time": "2022-12-22T15:10:36.031Z"
   },
   {
    "duration": 0,
    "start_time": "2022-12-22T15:10:36.032Z"
   },
   {
    "duration": 0,
    "start_time": "2022-12-22T15:10:36.055Z"
   },
   {
    "duration": 0,
    "start_time": "2022-12-22T15:10:36.056Z"
   },
   {
    "duration": 1,
    "start_time": "2022-12-22T15:10:36.057Z"
   },
   {
    "duration": 0,
    "start_time": "2022-12-22T15:10:36.058Z"
   },
   {
    "duration": 0,
    "start_time": "2022-12-22T15:10:36.059Z"
   },
   {
    "duration": 1,
    "start_time": "2022-12-22T15:10:36.060Z"
   },
   {
    "duration": 0,
    "start_time": "2022-12-22T15:10:36.062Z"
   },
   {
    "duration": 0,
    "start_time": "2022-12-22T15:10:36.062Z"
   },
   {
    "duration": 0,
    "start_time": "2022-12-22T15:10:36.063Z"
   },
   {
    "duration": 0,
    "start_time": "2022-12-22T15:10:36.064Z"
   },
   {
    "duration": 0,
    "start_time": "2022-12-22T15:10:36.066Z"
   },
   {
    "duration": 0,
    "start_time": "2022-12-22T15:10:36.067Z"
   },
   {
    "duration": 0,
    "start_time": "2022-12-22T15:10:36.068Z"
   },
   {
    "duration": 0,
    "start_time": "2022-12-22T15:10:36.069Z"
   },
   {
    "duration": 937,
    "start_time": "2022-12-22T15:12:32.556Z"
   },
   {
    "duration": 3485,
    "start_time": "2022-12-22T15:12:35.381Z"
   },
   {
    "duration": 705,
    "start_time": "2022-12-22T15:12:38.869Z"
   },
   {
    "duration": 33,
    "start_time": "2022-12-22T15:12:41.078Z"
   },
   {
    "duration": 1952,
    "start_time": "2022-12-22T15:12:42.628Z"
   },
   {
    "duration": 4,
    "start_time": "2022-12-22T15:12:44.583Z"
   },
   {
    "duration": 1499,
    "start_time": "2022-12-22T15:12:44.590Z"
   },
   {
    "duration": 0,
    "start_time": "2022-12-22T15:12:46.155Z"
   },
   {
    "duration": 0,
    "start_time": "2022-12-22T15:12:46.157Z"
   },
   {
    "duration": 0,
    "start_time": "2022-12-22T15:12:46.158Z"
   },
   {
    "duration": 0,
    "start_time": "2022-12-22T15:12:46.159Z"
   },
   {
    "duration": 0,
    "start_time": "2022-12-22T15:12:46.160Z"
   },
   {
    "duration": 0,
    "start_time": "2022-12-22T15:12:46.162Z"
   },
   {
    "duration": 2150,
    "start_time": "2022-12-22T15:12:46.236Z"
   },
   {
    "duration": 66,
    "start_time": "2022-12-22T15:12:48.390Z"
   },
   {
    "duration": 57,
    "start_time": "2022-12-22T15:12:48.458Z"
   },
   {
    "duration": 0,
    "start_time": "2022-12-22T15:12:48.554Z"
   },
   {
    "duration": 11,
    "start_time": "2022-12-22T15:12:50.757Z"
   },
   {
    "duration": 6,
    "start_time": "2022-12-22T15:13:03.613Z"
   },
   {
    "duration": 212,
    "start_time": "2022-12-22T15:13:06.781Z"
   },
   {
    "duration": 6,
    "start_time": "2022-12-22T15:13:47.741Z"
   },
   {
    "duration": 111,
    "start_time": "2022-12-22T15:13:50.020Z"
   },
   {
    "duration": 11,
    "start_time": "2022-12-22T15:14:16.348Z"
   },
   {
    "duration": 106,
    "start_time": "2022-12-22T15:14:21.348Z"
   },
   {
    "duration": 10,
    "start_time": "2022-12-22T15:15:44.469Z"
   },
   {
    "duration": 11,
    "start_time": "2022-12-22T15:15:53.387Z"
   },
   {
    "duration": 99,
    "start_time": "2022-12-22T15:15:55.099Z"
   },
   {
    "duration": 91,
    "start_time": "2022-12-22T15:16:12.347Z"
   },
   {
    "duration": 84,
    "start_time": "2022-12-22T15:16:20.420Z"
   },
   {
    "duration": 703,
    "start_time": "2022-12-22T15:16:38.599Z"
   },
   {
    "duration": 4,
    "start_time": "2022-12-22T15:16:39.304Z"
   },
   {
    "duration": 16357,
    "start_time": "2022-12-22T15:16:39.310Z"
   },
   {
    "duration": 9688,
    "start_time": "2022-12-22T15:16:55.669Z"
   },
   {
    "duration": 22,
    "start_time": "2022-12-22T15:17:05.361Z"
   },
   {
    "duration": 869,
    "start_time": "2022-12-22T15:17:05.386Z"
   },
   {
    "duration": 6627,
    "start_time": "2022-12-22T15:17:06.257Z"
   },
   {
    "duration": 1395,
    "start_time": "2022-12-22T15:17:12.886Z"
   },
   {
    "duration": 3401,
    "start_time": "2022-12-22T15:17:14.283Z"
   },
   {
    "duration": 704,
    "start_time": "2022-12-22T15:17:17.687Z"
   },
   {
    "duration": 81,
    "start_time": "2022-12-22T15:17:18.393Z"
   },
   {
    "duration": 2102,
    "start_time": "2022-12-22T15:17:18.476Z"
   },
   {
    "duration": 4,
    "start_time": "2022-12-22T15:17:20.580Z"
   },
   {
    "duration": 2034,
    "start_time": "2022-12-22T15:17:20.587Z"
   },
   {
    "duration": 344,
    "start_time": "2022-12-22T15:17:22.622Z"
   },
   {
    "duration": 336,
    "start_time": "2022-12-22T15:17:22.968Z"
   },
   {
    "duration": 99,
    "start_time": "2022-12-22T15:17:23.306Z"
   },
   {
    "duration": 151,
    "start_time": "2022-12-22T15:17:23.407Z"
   },
   {
    "duration": 1439,
    "start_time": "2022-12-22T15:17:23.561Z"
   },
   {
    "duration": 557,
    "start_time": "2022-12-22T15:17:25.055Z"
   },
   {
    "duration": 3248,
    "start_time": "2022-12-22T15:17:25.614Z"
   },
   {
    "duration": 3,
    "start_time": "2022-12-22T15:17:28.864Z"
   },
   {
    "duration": 13,
    "start_time": "2022-12-22T15:17:28.869Z"
   },
   {
    "duration": 9592,
    "start_time": "2022-12-22T15:17:28.884Z"
   },
   {
    "duration": 0,
    "start_time": "2022-12-22T15:17:38.477Z"
   },
   {
    "duration": 0,
    "start_time": "2022-12-22T15:17:38.479Z"
   },
   {
    "duration": 6,
    "start_time": "2022-12-22T15:18:27.282Z"
   },
   {
    "duration": 4967,
    "start_time": "2022-12-22T15:18:29.339Z"
   },
   {
    "duration": 10,
    "start_time": "2022-12-22T15:18:43.459Z"
   },
   {
    "duration": 6244,
    "start_time": "2022-12-22T15:18:56.027Z"
   },
   {
    "duration": 11,
    "start_time": "2022-12-22T15:19:05.145Z"
   },
   {
    "duration": 9,
    "start_time": "2022-12-22T15:19:42.842Z"
   },
   {
    "duration": 7,
    "start_time": "2022-12-22T15:20:23.493Z"
   },
   {
    "duration": 3722,
    "start_time": "2022-12-22T15:20:24.689Z"
   },
   {
    "duration": 4224,
    "start_time": "2022-12-22T15:20:28.413Z"
   },
   {
    "duration": 17,
    "start_time": "2022-12-22T15:20:33.969Z"
   },
   {
    "duration": 22,
    "start_time": "2022-12-22T15:20:44.192Z"
   },
   {
    "duration": 15,
    "start_time": "2022-12-22T15:21:10.529Z"
   },
   {
    "duration": 6,
    "start_time": "2022-12-22T15:21:33.063Z"
   },
   {
    "duration": 3800,
    "start_time": "2022-12-22T15:21:34.111Z"
   },
   {
    "duration": 761,
    "start_time": "2022-12-22T15:21:45.813Z"
   },
   {
    "duration": 4,
    "start_time": "2022-12-22T15:21:46.576Z"
   },
   {
    "duration": 15902,
    "start_time": "2022-12-22T15:21:46.581Z"
   },
   {
    "duration": 9377,
    "start_time": "2022-12-22T15:22:02.486Z"
   },
   {
    "duration": 23,
    "start_time": "2022-12-22T15:22:11.866Z"
   },
   {
    "duration": 917,
    "start_time": "2022-12-22T15:22:11.954Z"
   },
   {
    "duration": 7414,
    "start_time": "2022-12-22T15:22:12.873Z"
   },
   {
    "duration": 1481,
    "start_time": "2022-12-22T15:22:20.290Z"
   },
   {
    "duration": 3592,
    "start_time": "2022-12-22T15:22:21.774Z"
   },
   {
    "duration": 695,
    "start_time": "2022-12-22T15:22:25.368Z"
   },
   {
    "duration": 97,
    "start_time": "2022-12-22T15:22:26.064Z"
   },
   {
    "duration": 1900,
    "start_time": "2022-12-22T15:22:26.163Z"
   },
   {
    "duration": 4,
    "start_time": "2022-12-22T15:22:28.065Z"
   },
   {
    "duration": 1687,
    "start_time": "2022-12-22T15:22:28.072Z"
   },
   {
    "duration": 421,
    "start_time": "2022-12-22T15:22:29.761Z"
   },
   {
    "duration": 378,
    "start_time": "2022-12-22T15:22:30.184Z"
   },
   {
    "duration": 108,
    "start_time": "2022-12-22T15:22:30.564Z"
   },
   {
    "duration": 86,
    "start_time": "2022-12-22T15:22:30.674Z"
   },
   {
    "duration": 1317,
    "start_time": "2022-12-22T15:22:30.762Z"
   },
   {
    "duration": 514,
    "start_time": "2022-12-22T15:22:32.081Z"
   },
   {
    "duration": 3569,
    "start_time": "2022-12-22T15:22:32.597Z"
   },
   {
    "duration": 3,
    "start_time": "2022-12-22T15:22:36.169Z"
   },
   {
    "duration": 10,
    "start_time": "2022-12-22T15:22:36.174Z"
   },
   {
    "duration": 8288,
    "start_time": "2022-12-22T15:22:36.186Z"
   },
   {
    "duration": 0,
    "start_time": "2022-12-22T15:22:44.476Z"
   },
   {
    "duration": 0,
    "start_time": "2022-12-22T15:22:44.478Z"
   },
   {
    "duration": 5,
    "start_time": "2022-12-22T15:24:04.150Z"
   },
   {
    "duration": 5036,
    "start_time": "2022-12-22T15:24:06.743Z"
   },
   {
    "duration": 5664,
    "start_time": "2022-12-22T15:24:13.206Z"
   },
   {
    "duration": 17,
    "start_time": "2022-12-22T15:24:18.872Z"
   },
   {
    "duration": 11,
    "start_time": "2022-12-22T15:24:40.038Z"
   },
   {
    "duration": 53,
    "start_time": "2022-12-23T06:08:47.110Z"
   },
   {
    "duration": 55,
    "start_time": "2022-12-23T06:09:16.742Z"
   },
   {
    "duration": 727,
    "start_time": "2022-12-23T06:09:21.299Z"
   },
   {
    "duration": 3,
    "start_time": "2022-12-23T06:09:22.028Z"
   },
   {
    "duration": 19822,
    "start_time": "2022-12-23T06:09:22.033Z"
   },
   {
    "duration": 10007,
    "start_time": "2022-12-23T06:09:41.858Z"
   },
   {
    "duration": 16,
    "start_time": "2022-12-23T06:09:51.867Z"
   },
   {
    "duration": 764,
    "start_time": "2022-12-23T06:09:51.885Z"
   },
   {
    "duration": 113,
    "start_time": "2022-12-23T06:09:52.662Z"
   },
   {
    "duration": 3,
    "start_time": "2022-12-23T06:10:44.068Z"
   },
   {
    "duration": 2333,
    "start_time": "2022-12-23T06:10:45.043Z"
   },
   {
    "duration": 51,
    "start_time": "2022-12-23T14:41:36.493Z"
   },
   {
    "duration": 713,
    "start_time": "2022-12-23T14:41:42.736Z"
   },
   {
    "duration": 3,
    "start_time": "2022-12-23T14:41:43.451Z"
   },
   {
    "duration": 15778,
    "start_time": "2022-12-23T14:41:43.455Z"
   },
   {
    "duration": 9386,
    "start_time": "2022-12-23T14:41:59.235Z"
   },
   {
    "duration": 13,
    "start_time": "2022-12-23T14:42:08.623Z"
   },
   {
    "duration": 766,
    "start_time": "2022-12-23T14:42:08.638Z"
   },
   {
    "duration": 7,
    "start_time": "2022-12-23T14:42:09.406Z"
   },
   {
    "duration": 16,
    "start_time": "2022-12-23T14:42:09.416Z"
   },
   {
    "duration": 141,
    "start_time": "2022-12-23T14:42:09.433Z"
   },
   {
    "duration": 0,
    "start_time": "2022-12-23T14:42:09.576Z"
   },
   {
    "duration": 0,
    "start_time": "2022-12-23T14:42:09.577Z"
   },
   {
    "duration": 0,
    "start_time": "2022-12-23T14:42:09.578Z"
   },
   {
    "duration": 0,
    "start_time": "2022-12-23T14:42:09.579Z"
   },
   {
    "duration": 0,
    "start_time": "2022-12-23T14:42:09.580Z"
   },
   {
    "duration": 0,
    "start_time": "2022-12-23T14:42:09.581Z"
   },
   {
    "duration": 0,
    "start_time": "2022-12-23T14:42:09.581Z"
   },
   {
    "duration": 0,
    "start_time": "2022-12-23T14:42:09.598Z"
   },
   {
    "duration": 0,
    "start_time": "2022-12-23T14:42:09.600Z"
   },
   {
    "duration": 0,
    "start_time": "2022-12-23T14:42:09.601Z"
   },
   {
    "duration": 0,
    "start_time": "2022-12-23T14:42:09.602Z"
   },
   {
    "duration": 0,
    "start_time": "2022-12-23T14:42:09.603Z"
   },
   {
    "duration": 0,
    "start_time": "2022-12-23T14:42:09.605Z"
   },
   {
    "duration": 0,
    "start_time": "2022-12-23T14:42:09.606Z"
   },
   {
    "duration": 0,
    "start_time": "2022-12-23T14:42:09.607Z"
   },
   {
    "duration": 0,
    "start_time": "2022-12-23T14:42:09.608Z"
   },
   {
    "duration": 0,
    "start_time": "2022-12-23T14:42:09.610Z"
   },
   {
    "duration": 0,
    "start_time": "2022-12-23T14:42:09.611Z"
   },
   {
    "duration": 9,
    "start_time": "2022-12-23T14:43:11.914Z"
   },
   {
    "duration": 11,
    "start_time": "2022-12-23T14:43:46.111Z"
   },
   {
    "duration": 11,
    "start_time": "2022-12-23T14:43:54.314Z"
   },
   {
    "duration": 30,
    "start_time": "2022-12-23T14:44:16.857Z"
   },
   {
    "duration": 28,
    "start_time": "2022-12-23T14:44:29.609Z"
   },
   {
    "duration": 3468,
    "start_time": "2022-12-23T14:44:36.641Z"
   },
   {
    "duration": 505,
    "start_time": "2022-12-23T14:44:55.010Z"
   },
   {
    "duration": 404,
    "start_time": "2022-12-23T14:45:00.329Z"
   },
   {
    "duration": 333,
    "start_time": "2022-12-23T14:45:11.414Z"
   },
   {
    "duration": 1440,
    "start_time": "2022-12-23T14:45:16.977Z"
   },
   {
    "duration": 4,
    "start_time": "2022-12-23T14:50:38.613Z"
   },
   {
    "duration": 1506,
    "start_time": "2022-12-23T14:52:22.220Z"
   },
   {
    "duration": 3389,
    "start_time": "2022-12-23T14:52:25.133Z"
   },
   {
    "duration": 952,
    "start_time": "2022-12-23T14:52:32.957Z"
   },
   {
    "duration": 97,
    "start_time": "2022-12-23T14:52:33.912Z"
   },
   {
    "duration": 706,
    "start_time": "2022-12-23T14:52:47.331Z"
   },
   {
    "duration": 4,
    "start_time": "2022-12-23T14:52:48.038Z"
   },
   {
    "duration": 15980,
    "start_time": "2022-12-23T14:52:48.043Z"
   },
   {
    "duration": 9377,
    "start_time": "2022-12-23T14:53:04.026Z"
   },
   {
    "duration": 15,
    "start_time": "2022-12-23T14:53:13.412Z"
   },
   {
    "duration": 778,
    "start_time": "2022-12-23T14:53:13.429Z"
   },
   {
    "duration": 3333,
    "start_time": "2022-12-23T14:53:14.208Z"
   },
   {
    "duration": 3435,
    "start_time": "2022-12-23T14:53:17.599Z"
   },
   {
    "duration": 1000,
    "start_time": "2022-12-23T14:53:21.036Z"
   },
   {
    "duration": 32,
    "start_time": "2022-12-23T14:53:22.097Z"
   },
   {
    "duration": 1906,
    "start_time": "2022-12-23T14:53:22.131Z"
   },
   {
    "duration": 4,
    "start_time": "2022-12-23T14:53:24.097Z"
   },
   {
    "duration": 2012,
    "start_time": "2022-12-23T14:53:24.103Z"
   },
   {
    "duration": 327,
    "start_time": "2022-12-23T14:53:26.120Z"
   },
   {
    "duration": 372,
    "start_time": "2022-12-23T14:53:26.449Z"
   },
   {
    "duration": 101,
    "start_time": "2022-12-23T14:53:26.822Z"
   },
   {
    "duration": 90,
    "start_time": "2022-12-23T14:53:26.925Z"
   },
   {
    "duration": 1309,
    "start_time": "2022-12-23T14:53:27.017Z"
   },
   {
    "duration": 493,
    "start_time": "2022-12-23T14:53:28.327Z"
   },
   {
    "duration": 3409,
    "start_time": "2022-12-23T14:53:28.822Z"
   },
   {
    "duration": 65,
    "start_time": "2022-12-23T14:53:32.233Z"
   },
   {
    "duration": 28,
    "start_time": "2022-12-23T14:53:32.300Z"
   },
   {
    "duration": 8173,
    "start_time": "2022-12-23T14:53:32.330Z"
   },
   {
    "duration": 6657,
    "start_time": "2022-12-23T14:53:40.505Z"
   },
   {
    "duration": 41,
    "start_time": "2022-12-23T14:53:47.163Z"
   },
   {
    "duration": 886,
    "start_time": "2022-12-23T14:58:59.112Z"
   },
   {
    "duration": 707,
    "start_time": "2022-12-23T14:59:09.912Z"
   },
   {
    "duration": 509,
    "start_time": "2022-12-23T14:59:15.110Z"
   },
   {
    "duration": 688,
    "start_time": "2022-12-23T14:59:28.244Z"
   },
   {
    "duration": 4,
    "start_time": "2022-12-23T14:59:28.934Z"
   },
   {
    "duration": 16279,
    "start_time": "2022-12-23T14:59:28.939Z"
   },
   {
    "duration": 9089,
    "start_time": "2022-12-23T14:59:45.220Z"
   },
   {
    "duration": 17,
    "start_time": "2022-12-23T14:59:54.311Z"
   },
   {
    "duration": 790,
    "start_time": "2022-12-23T14:59:54.329Z"
   },
   {
    "duration": 3603,
    "start_time": "2022-12-23T14:59:55.121Z"
   },
   {
    "duration": 3485,
    "start_time": "2022-12-23T14:59:58.726Z"
   },
   {
    "duration": 1000,
    "start_time": "2022-12-23T15:00:02.214Z"
   },
   {
    "duration": 83,
    "start_time": "2022-12-23T15:00:03.219Z"
   },
   {
    "duration": 2208,
    "start_time": "2022-12-23T15:00:03.305Z"
   },
   {
    "duration": 4,
    "start_time": "2022-12-23T15:00:05.515Z"
   },
   {
    "duration": 1804,
    "start_time": "2022-12-23T15:00:05.521Z"
   },
   {
    "duration": 391,
    "start_time": "2022-12-23T15:00:07.327Z"
   },
   {
    "duration": 399,
    "start_time": "2022-12-23T15:00:07.720Z"
   },
   {
    "duration": 105,
    "start_time": "2022-12-23T15:00:08.120Z"
   },
   {
    "duration": 103,
    "start_time": "2022-12-23T15:00:08.227Z"
   },
   {
    "duration": 1274,
    "start_time": "2022-12-23T15:00:08.332Z"
   },
   {
    "duration": 493,
    "start_time": "2022-12-23T15:00:09.608Z"
   },
   {
    "duration": 3295,
    "start_time": "2022-12-23T15:00:10.103Z"
   },
   {
    "duration": 4,
    "start_time": "2022-12-23T15:00:13.399Z"
   },
   {
    "duration": 24,
    "start_time": "2022-12-23T15:00:13.404Z"
   },
   {
    "duration": 9499,
    "start_time": "2022-12-23T15:00:13.430Z"
   },
   {
    "duration": 6211,
    "start_time": "2022-12-23T15:00:22.930Z"
   },
   {
    "duration": 61,
    "start_time": "2022-12-23T15:00:29.142Z"
   },
   {
    "duration": 173,
    "start_time": "2022-12-23T15:32:00.460Z"
   },
   {
    "duration": 678,
    "start_time": "2022-12-23T15:32:37.659Z"
   },
   {
    "duration": 4,
    "start_time": "2022-12-23T15:32:38.338Z"
   },
   {
    "duration": 15293,
    "start_time": "2022-12-23T15:32:38.344Z"
   },
   {
    "duration": 9081,
    "start_time": "2022-12-23T15:32:53.639Z"
   },
   {
    "duration": 76,
    "start_time": "2022-12-23T15:33:02.722Z"
   },
   {
    "duration": 811,
    "start_time": "2022-12-23T15:33:02.801Z"
   },
   {
    "duration": 3719,
    "start_time": "2022-12-23T15:33:03.615Z"
   },
   {
    "duration": 3798,
    "start_time": "2022-12-23T15:33:07.336Z"
   },
   {
    "duration": 1075,
    "start_time": "2022-12-23T15:33:11.135Z"
   },
   {
    "duration": 37,
    "start_time": "2022-12-23T15:33:12.216Z"
   },
   {
    "duration": 2329,
    "start_time": "2022-12-23T15:33:12.302Z"
   },
   {
    "duration": 3,
    "start_time": "2022-12-23T15:33:14.633Z"
   },
   {
    "duration": 1560,
    "start_time": "2022-12-23T15:33:14.638Z"
   },
   {
    "duration": 2235,
    "start_time": "2022-12-23T15:33:20.417Z"
   },
   {
    "duration": 22,
    "start_time": "2022-12-23T15:33:56.154Z"
   },
   {
    "duration": 198,
    "start_time": "2022-12-23T15:34:57.737Z"
   },
   {
    "duration": 492,
    "start_time": "2022-12-23T15:35:12.617Z"
   },
   {
    "duration": 286,
    "start_time": "2022-12-23T15:35:44.153Z"
   },
   {
    "duration": 451,
    "start_time": "2022-12-23T15:36:44.613Z"
   },
   {
    "duration": 51,
    "start_time": "2022-12-23T15:40:54.573Z"
   },
   {
    "duration": 58,
    "start_time": "2022-12-23T15:40:56.373Z"
   },
   {
    "duration": 1206,
    "start_time": "2022-12-23T15:40:58.126Z"
   },
   {
    "duration": 197,
    "start_time": "2022-12-23T15:41:01.636Z"
   },
   {
    "duration": 94,
    "start_time": "2022-12-23T15:42:11.549Z"
   },
   {
    "duration": 715,
    "start_time": "2022-12-23T15:42:30.828Z"
   },
   {
    "duration": 3,
    "start_time": "2022-12-23T15:42:31.545Z"
   },
   {
    "duration": 16478,
    "start_time": "2022-12-23T15:42:31.550Z"
   },
   {
    "duration": 10303,
    "start_time": "2022-12-23T15:42:48.031Z"
   },
   {
    "duration": 89,
    "start_time": "2022-12-23T15:42:58.336Z"
   },
   {
    "duration": 898,
    "start_time": "2022-12-23T15:42:58.427Z"
   },
   {
    "duration": 4185,
    "start_time": "2022-12-23T15:42:59.327Z"
   },
   {
    "duration": 3914,
    "start_time": "2022-12-23T15:43:03.516Z"
   },
   {
    "duration": 1101,
    "start_time": "2022-12-23T15:43:07.432Z"
   },
   {
    "duration": 77,
    "start_time": "2022-12-23T15:43:08.536Z"
   },
   {
    "duration": 2429,
    "start_time": "2022-12-23T15:43:08.615Z"
   },
   {
    "duration": 5,
    "start_time": "2022-12-23T15:43:11.098Z"
   },
   {
    "duration": 1527,
    "start_time": "2022-12-23T15:43:11.105Z"
   },
   {
    "duration": 2571,
    "start_time": "2022-12-23T15:43:12.634Z"
   },
   {
    "duration": 615,
    "start_time": "2022-12-23T15:43:15.206Z"
   },
   {
    "duration": 291,
    "start_time": "2022-12-23T15:43:15.823Z"
   },
   {
    "duration": 634,
    "start_time": "2022-12-23T15:43:16.116Z"
   },
   {
    "duration": 464,
    "start_time": "2022-12-23T15:43:16.753Z"
   },
   {
    "duration": 101,
    "start_time": "2022-12-23T15:43:17.219Z"
   },
   {
    "duration": 112,
    "start_time": "2022-12-23T15:43:17.322Z"
   },
   {
    "duration": 1383,
    "start_time": "2022-12-23T15:43:17.436Z"
   },
   {
    "duration": 824,
    "start_time": "2022-12-23T15:43:18.821Z"
   },
   {
    "duration": 4,
    "start_time": "2022-12-23T15:43:19.647Z"
   },
   {
    "duration": 10,
    "start_time": "2022-12-23T15:43:19.697Z"
   },
   {
    "duration": 8204,
    "start_time": "2022-12-23T15:43:19.710Z"
   },
   {
    "duration": 4184,
    "start_time": "2022-12-23T15:43:27.917Z"
   },
   {
    "duration": 21,
    "start_time": "2022-12-23T15:43:32.102Z"
   },
   {
    "duration": 705,
    "start_time": "2022-12-23T15:52:06.739Z"
   },
   {
    "duration": 2,
    "start_time": "2022-12-23T15:52:07.446Z"
   },
   {
    "duration": 15653,
    "start_time": "2022-12-23T15:52:07.450Z"
   },
   {
    "duration": 9200,
    "start_time": "2022-12-23T15:52:23.105Z"
   },
   {
    "duration": 19,
    "start_time": "2022-12-23T15:52:32.307Z"
   },
   {
    "duration": 795,
    "start_time": "2022-12-23T15:52:32.328Z"
   },
   {
    "duration": 3793,
    "start_time": "2022-12-23T15:52:33.125Z"
   },
   {
    "duration": 3484,
    "start_time": "2022-12-23T15:52:36.920Z"
   },
   {
    "duration": 928,
    "start_time": "2022-12-23T15:52:40.406Z"
   },
   {
    "duration": 91,
    "start_time": "2022-12-23T15:52:41.337Z"
   },
   {
    "duration": 2183,
    "start_time": "2022-12-23T15:52:41.430Z"
   },
   {
    "duration": 3,
    "start_time": "2022-12-23T15:52:43.615Z"
   },
   {
    "duration": 1816,
    "start_time": "2022-12-23T15:52:43.619Z"
   },
   {
    "duration": 2187,
    "start_time": "2022-12-23T15:52:45.436Z"
   },
   {
    "duration": 3,
    "start_time": "2022-12-23T15:52:47.625Z"
   },
   {
    "duration": 296,
    "start_time": "2022-12-23T15:52:47.629Z"
   },
   {
    "duration": 421,
    "start_time": "2022-12-23T15:52:47.927Z"
   },
   {
    "duration": 2,
    "start_time": "2022-12-23T15:52:48.350Z"
   },
   {
    "duration": 150,
    "start_time": "2022-12-23T15:52:48.354Z"
   },
   {
    "duration": 36,
    "start_time": "2022-12-23T15:52:48.506Z"
   },
   {
    "duration": 1436,
    "start_time": "2022-12-23T15:52:48.602Z"
   },
   {
    "duration": 860,
    "start_time": "2022-12-23T15:52:50.041Z"
   },
   {
    "duration": 5,
    "start_time": "2022-12-23T15:52:50.903Z"
   },
   {
    "duration": 19,
    "start_time": "2022-12-23T15:52:50.911Z"
   },
   {
    "duration": 4757,
    "start_time": "2022-12-23T15:52:50.932Z"
   },
   {
    "duration": 0,
    "start_time": "2022-12-23T15:52:55.690Z"
   },
   {
    "duration": 0,
    "start_time": "2022-12-23T15:52:55.692Z"
   },
   {
    "duration": 688,
    "start_time": "2022-12-23T15:54:16.549Z"
   },
   {
    "duration": 3,
    "start_time": "2022-12-23T15:54:17.239Z"
   },
   {
    "duration": 16303,
    "start_time": "2022-12-23T15:54:17.244Z"
   },
   {
    "duration": 10440,
    "start_time": "2022-12-23T15:54:33.601Z"
   },
   {
    "duration": 87,
    "start_time": "2022-12-23T15:54:44.044Z"
   },
   {
    "duration": 880,
    "start_time": "2022-12-23T15:54:44.132Z"
   },
   {
    "duration": 4054,
    "start_time": "2022-12-23T15:54:45.014Z"
   },
   {
    "duration": 3744,
    "start_time": "2022-12-23T15:54:49.098Z"
   },
   {
    "duration": 980,
    "start_time": "2022-12-23T15:54:52.844Z"
   },
   {
    "duration": 104,
    "start_time": "2022-12-23T15:54:53.825Z"
   },
   {
    "duration": 2510,
    "start_time": "2022-12-23T15:54:53.931Z"
   },
   {
    "duration": 4,
    "start_time": "2022-12-23T15:54:56.443Z"
   },
   {
    "duration": 1834,
    "start_time": "2022-12-23T15:54:56.502Z"
   },
   {
    "duration": 2810,
    "start_time": "2022-12-23T15:54:58.340Z"
   },
   {
    "duration": 3,
    "start_time": "2022-12-23T15:55:01.153Z"
   },
   {
    "duration": 399,
    "start_time": "2022-12-23T15:55:01.202Z"
   },
   {
    "duration": 362,
    "start_time": "2022-12-23T15:55:01.603Z"
   },
   {
    "duration": 2,
    "start_time": "2022-12-23T15:55:02.000Z"
   },
   {
    "duration": 300,
    "start_time": "2022-12-23T15:55:02.003Z"
   },
   {
    "duration": 0,
    "start_time": "2022-12-23T15:55:02.305Z"
   },
   {
    "duration": 0,
    "start_time": "2022-12-23T15:55:02.306Z"
   },
   {
    "duration": 0,
    "start_time": "2022-12-23T15:55:02.307Z"
   },
   {
    "duration": 0,
    "start_time": "2022-12-23T15:55:02.308Z"
   },
   {
    "duration": 0,
    "start_time": "2022-12-23T15:55:02.309Z"
   },
   {
    "duration": 0,
    "start_time": "2022-12-23T15:55:02.310Z"
   },
   {
    "duration": 0,
    "start_time": "2022-12-23T15:55:02.311Z"
   },
   {
    "duration": 0,
    "start_time": "2022-12-23T15:55:02.312Z"
   },
   {
    "duration": 711,
    "start_time": "2022-12-23T16:01:00.038Z"
   },
   {
    "duration": 3,
    "start_time": "2022-12-23T16:01:00.751Z"
   },
   {
    "duration": 16082,
    "start_time": "2022-12-23T16:01:00.760Z"
   },
   {
    "duration": 9486,
    "start_time": "2022-12-23T16:01:16.844Z"
   },
   {
    "duration": 83,
    "start_time": "2022-12-23T16:01:26.332Z"
   },
   {
    "duration": 708,
    "start_time": "2022-12-23T16:01:26.417Z"
   },
   {
    "duration": 3794,
    "start_time": "2022-12-23T16:01:27.127Z"
   },
   {
    "duration": 3298,
    "start_time": "2022-12-23T16:01:30.922Z"
   },
   {
    "duration": 1006,
    "start_time": "2022-12-23T16:01:34.221Z"
   },
   {
    "duration": 93,
    "start_time": "2022-12-23T16:01:35.229Z"
   },
   {
    "duration": 2112,
    "start_time": "2022-12-23T16:01:35.324Z"
   },
   {
    "duration": 5,
    "start_time": "2022-12-23T16:01:37.505Z"
   },
   {
    "duration": 1416,
    "start_time": "2022-12-23T16:01:37.512Z"
   },
   {
    "duration": 1936,
    "start_time": "2022-12-23T16:01:38.930Z"
   },
   {
    "duration": 551,
    "start_time": "2022-12-23T16:01:40.868Z"
   },
   {
    "duration": 407,
    "start_time": "2022-12-23T16:01:41.421Z"
   },
   {
    "duration": 569,
    "start_time": "2022-12-23T16:01:41.830Z"
   },
   {
    "duration": 421,
    "start_time": "2022-12-23T16:01:42.401Z"
   },
   {
    "duration": 113,
    "start_time": "2022-12-23T16:01:42.823Z"
   },
   {
    "duration": 160,
    "start_time": "2022-12-23T16:01:42.938Z"
   },
   {
    "duration": 1521,
    "start_time": "2022-12-23T16:01:43.100Z"
   },
   {
    "duration": 888,
    "start_time": "2022-12-23T16:01:44.626Z"
   },
   {
    "duration": 4,
    "start_time": "2022-12-23T16:01:45.516Z"
   },
   {
    "duration": 8,
    "start_time": "2022-12-23T16:01:45.522Z"
   },
   {
    "duration": 6596,
    "start_time": "2022-12-23T16:01:45.531Z"
   },
   {
    "duration": 3690,
    "start_time": "2022-12-23T16:01:52.129Z"
   },
   {
    "duration": 9,
    "start_time": "2022-12-23T16:01:55.820Z"
   },
   {
    "duration": 510,
    "start_time": "2022-12-23T16:12:09.012Z"
   },
   {
    "duration": 730,
    "start_time": "2022-12-23T21:18:39.164Z"
   },
   {
    "duration": 3,
    "start_time": "2022-12-23T21:18:39.896Z"
   },
   {
    "duration": 16102,
    "start_time": "2022-12-23T21:18:39.901Z"
   },
   {
    "duration": 10179,
    "start_time": "2022-12-23T21:18:56.006Z"
   },
   {
    "duration": 75,
    "start_time": "2022-12-23T21:19:06.188Z"
   },
   {
    "duration": 888,
    "start_time": "2022-12-23T21:19:06.265Z"
   },
   {
    "duration": 3739,
    "start_time": "2022-12-23T21:19:07.155Z"
   },
   {
    "duration": 3396,
    "start_time": "2022-12-23T21:19:10.896Z"
   },
   {
    "duration": 1003,
    "start_time": "2022-12-23T21:19:14.294Z"
   },
   {
    "duration": 88,
    "start_time": "2022-12-23T21:19:15.299Z"
   },
   {
    "duration": 2406,
    "start_time": "2022-12-23T21:19:15.389Z"
   },
   {
    "duration": 3,
    "start_time": "2022-12-23T21:19:17.797Z"
   },
   {
    "duration": 1552,
    "start_time": "2022-12-23T21:19:17.801Z"
   },
   {
    "duration": 2045,
    "start_time": "2022-12-23T21:19:19.356Z"
   },
   {
    "duration": 517,
    "start_time": "2022-12-23T21:19:21.403Z"
   },
   {
    "duration": 344,
    "start_time": "2022-12-23T21:19:21.922Z"
   },
   {
    "duration": 433,
    "start_time": "2022-12-23T21:19:22.268Z"
   },
   {
    "duration": 510,
    "start_time": "2022-12-23T21:19:22.703Z"
   },
   {
    "duration": 110,
    "start_time": "2022-12-23T21:19:23.252Z"
   },
   {
    "duration": 118,
    "start_time": "2022-12-23T21:19:23.363Z"
   },
   {
    "duration": 1268,
    "start_time": "2022-12-23T21:19:23.484Z"
   },
   {
    "duration": 766,
    "start_time": "2022-12-23T21:19:56.724Z"
   },
   {
    "duration": 577,
    "start_time": "2022-12-23T21:19:59.409Z"
   },
   {
    "duration": 798,
    "start_time": "2022-12-23T21:20:11.474Z"
   },
   {
    "duration": 598,
    "start_time": "2022-12-23T21:20:18.309Z"
   },
   {
    "duration": 428,
    "start_time": "2022-12-23T21:20:22.677Z"
   }
  ],
  "colab": {
   "name": "PySparkSprint.ipynb",
   "provenance": []
  },
  "kernelspec": {
   "display_name": "Python 3 (ipykernel)",
   "language": "python",
   "name": "python3"
  },
  "language_info": {
   "codemirror_mode": {
    "name": "ipython",
    "version": 3
   },
   "file_extension": ".py",
   "mimetype": "text/x-python",
   "name": "python",
   "nbconvert_exporter": "python",
   "pygments_lexer": "ipython3",
   "version": "3.9.7"
  },
  "toc": {
   "base_numbering": 1,
   "nav_menu": {},
   "number_sections": true,
   "sideBar": true,
   "skip_h1_title": true,
   "title_cell": "Table of Contents",
   "title_sidebar": "Contents",
   "toc_cell": false,
   "toc_position": {},
   "toc_section_display": true,
   "toc_window_display": false
  }
 },
 "nbformat": 4,
 "nbformat_minor": 5
}
