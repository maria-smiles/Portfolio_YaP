{
 "cells": [
  {
   "cell_type": "markdown",
   "id": "c523d884",
   "metadata": {},
   "source": [
    "# Исследование надежности заемщиков."
   ]
  },
  {
   "cell_type": "markdown",
   "id": "2d9aa7bd",
   "metadata": {},
   "source": [
    "### Описание проекта\n",
    "Заказчик — кредитный отдел банка. Нужно разобраться, влияет ли семейное положение и количество детей клиента на факт погашения кредита в срок. Входные данные от банка — статистика о платёжеспособности клиентов.\n",
    "Результаты исследования будут учтены при построении модели кредитного скоринга — специальной системы, которая оценивает способность потенциального заёмщика вернуть кредит банку."
   ]
  },
  {
   "cell_type": "markdown",
   "id": "821a15b6",
   "metadata": {},
   "source": [
    "### Шаг 1. Обзор данных"
   ]
  },
  {
   "cell_type": "markdown",
   "id": "418c84e9",
   "metadata": {},
   "source": [
    "Посмотрим, общую информацию о таблице."
   ]
  },
  {
   "cell_type": "code",
   "execution_count": 1,
   "id": "0b2d1771",
   "metadata": {},
   "outputs": [
    {
     "name": "stdout",
     "output_type": "stream",
     "text": [
      "<class 'pandas.core.frame.DataFrame'>\n",
      "RangeIndex: 21525 entries, 0 to 21524\n",
      "Data columns (total 12 columns):\n",
      " #   Column            Non-Null Count  Dtype  \n",
      "---  ------            --------------  -----  \n",
      " 0   children          21525 non-null  int64  \n",
      " 1   days_employed     19351 non-null  float64\n",
      " 2   dob_years         21525 non-null  int64  \n",
      " 3   education         21525 non-null  object \n",
      " 4   education_id      21525 non-null  int64  \n",
      " 5   family_status     21525 non-null  object \n",
      " 6   family_status_id  21525 non-null  int64  \n",
      " 7   gender            21525 non-null  object \n",
      " 8   income_type       21525 non-null  object \n",
      " 9   debt              21525 non-null  int64  \n",
      " 10  total_income      19351 non-null  float64\n",
      " 11  purpose           21525 non-null  object \n",
      "dtypes: float64(2), int64(5), object(5)\n",
      "memory usage: 2.0+ MB\n"
     ]
    }
   ],
   "source": [
    "import pandas as pd\n",
    "df = pd.read_csv('/datasets/data.csv')\n",
    "df_reserv = pd.read_csv('/datasets/data.csv')\n",
    "df.info()"
   ]
  },
  {
   "cell_type": "markdown",
   "id": "b623a10b",
   "metadata": {},
   "source": [
    "Количество значений в колонках 1 и 10 отличается от общего числа строк."
   ]
  },
  {
   "cell_type": "code",
   "execution_count": 2,
   "id": "abafe29b",
   "metadata": {
    "scrolled": true
   },
   "outputs": [
    {
     "data": {
      "text/html": [
       "<div>\n",
       "<style scoped>\n",
       "    .dataframe tbody tr th:only-of-type {\n",
       "        vertical-align: middle;\n",
       "    }\n",
       "\n",
       "    .dataframe tbody tr th {\n",
       "        vertical-align: top;\n",
       "    }\n",
       "\n",
       "    .dataframe thead th {\n",
       "        text-align: right;\n",
       "    }\n",
       "</style>\n",
       "<table border=\"1\" class=\"dataframe\">\n",
       "  <thead>\n",
       "    <tr style=\"text-align: right;\">\n",
       "      <th></th>\n",
       "      <th>children</th>\n",
       "      <th>days_employed</th>\n",
       "      <th>dob_years</th>\n",
       "      <th>education</th>\n",
       "      <th>education_id</th>\n",
       "      <th>family_status</th>\n",
       "      <th>family_status_id</th>\n",
       "      <th>gender</th>\n",
       "      <th>income_type</th>\n",
       "      <th>debt</th>\n",
       "      <th>total_income</th>\n",
       "      <th>purpose</th>\n",
       "    </tr>\n",
       "  </thead>\n",
       "  <tbody>\n",
       "    <tr>\n",
       "      <th>5153</th>\n",
       "      <td>0</td>\n",
       "      <td>-1175.219496</td>\n",
       "      <td>22</td>\n",
       "      <td>высшее</td>\n",
       "      <td>0</td>\n",
       "      <td>женат / замужем</td>\n",
       "      <td>0</td>\n",
       "      <td>F</td>\n",
       "      <td>сотрудник</td>\n",
       "      <td>0</td>\n",
       "      <td>248980.346070</td>\n",
       "      <td>операции с жильем</td>\n",
       "    </tr>\n",
       "    <tr>\n",
       "      <th>12266</th>\n",
       "      <td>1</td>\n",
       "      <td>NaN</td>\n",
       "      <td>26</td>\n",
       "      <td>среднее</td>\n",
       "      <td>1</td>\n",
       "      <td>женат / замужем</td>\n",
       "      <td>0</td>\n",
       "      <td>M</td>\n",
       "      <td>сотрудник</td>\n",
       "      <td>0</td>\n",
       "      <td>NaN</td>\n",
       "      <td>покупка жилья для семьи</td>\n",
       "    </tr>\n",
       "    <tr>\n",
       "      <th>4760</th>\n",
       "      <td>0</td>\n",
       "      <td>-352.008504</td>\n",
       "      <td>31</td>\n",
       "      <td>высшее</td>\n",
       "      <td>0</td>\n",
       "      <td>Не женат / не замужем</td>\n",
       "      <td>4</td>\n",
       "      <td>F</td>\n",
       "      <td>компаньон</td>\n",
       "      <td>0</td>\n",
       "      <td>238322.371742</td>\n",
       "      <td>на покупку подержанного автомобиля</td>\n",
       "    </tr>\n",
       "    <tr>\n",
       "      <th>16146</th>\n",
       "      <td>0</td>\n",
       "      <td>-1704.682723</td>\n",
       "      <td>48</td>\n",
       "      <td>Среднее</td>\n",
       "      <td>1</td>\n",
       "      <td>женат / замужем</td>\n",
       "      <td>0</td>\n",
       "      <td>F</td>\n",
       "      <td>сотрудник</td>\n",
       "      <td>0</td>\n",
       "      <td>78733.333956</td>\n",
       "      <td>на покупку автомобиля</td>\n",
       "    </tr>\n",
       "    <tr>\n",
       "      <th>10622</th>\n",
       "      <td>0</td>\n",
       "      <td>385664.024835</td>\n",
       "      <td>67</td>\n",
       "      <td>среднее</td>\n",
       "      <td>1</td>\n",
       "      <td>женат / замужем</td>\n",
       "      <td>0</td>\n",
       "      <td>F</td>\n",
       "      <td>пенсионер</td>\n",
       "      <td>0</td>\n",
       "      <td>27776.117526</td>\n",
       "      <td>заняться образованием</td>\n",
       "    </tr>\n",
       "  </tbody>\n",
       "</table>\n",
       "</div>"
      ],
      "text/plain": [
       "       children  days_employed  dob_years education  education_id  \\\n",
       "5153          0   -1175.219496         22    высшее             0   \n",
       "12266         1            NaN         26   среднее             1   \n",
       "4760          0    -352.008504         31    высшее             0   \n",
       "16146         0   -1704.682723         48   Среднее             1   \n",
       "10622         0  385664.024835         67   среднее             1   \n",
       "\n",
       "               family_status  family_status_id gender income_type  debt  \\\n",
       "5153         женат / замужем                 0      F   сотрудник     0   \n",
       "12266        женат / замужем                 0      M   сотрудник     0   \n",
       "4760   Не женат / не замужем                 4      F   компаньон     0   \n",
       "16146        женат / замужем                 0      F   сотрудник     0   \n",
       "10622        женат / замужем                 0      F   пенсионер     0   \n",
       "\n",
       "        total_income                             purpose  \n",
       "5153   248980.346070                   операции с жильем  \n",
       "12266            NaN             покупка жилья для семьи  \n",
       "4760   238322.371742  на покупку подержанного автомобиля  \n",
       "16146   78733.333956               на покупку автомобиля  \n",
       "10622   27776.117526               заняться образованием  "
      ]
     },
     "metadata": {},
     "output_type": "display_data"
    }
   ],
   "source": [
    "display(df.sample(5))"
   ]
  },
  {
   "cell_type": "markdown",
   "id": "f75279a8",
   "metadata": {},
   "source": [
    "Посмотрим на оригинальные значения в столбцах 'children', 'education', 'family_status', 'income_type', 'gender', 'purpose'."
   ]
  },
  {
   "cell_type": "code",
   "execution_count": 3,
   "id": "9cb3e5ca",
   "metadata": {},
   "outputs": [
    {
     "data": {
      "text/plain": [
       " 0     14149\n",
       " 1      4818\n",
       " 2      2055\n",
       " 3       330\n",
       " 20       76\n",
       "-1        47\n",
       " 4        41\n",
       " 5         9\n",
       "Name: children, dtype: int64"
      ]
     },
     "execution_count": 3,
     "metadata": {},
     "output_type": "execute_result"
    }
   ],
   "source": [
    "df['children'].value_counts()"
   ]
  },
  {
   "cell_type": "markdown",
   "id": "e18b1b1c",
   "metadata": {},
   "source": [
    "Количество детей - исследуемый параметр. Берём на заметку, что в нём есть невозможное значение -1 в 47 строках."
   ]
  },
  {
   "cell_type": "code",
   "execution_count": 4,
   "id": "e7cd2f3b",
   "metadata": {},
   "outputs": [
    {
     "data": {
      "text/plain": [
       "array([42, 36, 33, 32, 53, 27, 43, 50, 35, 41, 40, 65, 54, 56, 26, 48, 24,\n",
       "       21, 57, 67, 28, 63, 62, 47, 34, 68, 25, 31, 30, 20, 49, 37, 45, 61,\n",
       "       64, 44, 52, 46, 23, 38, 39, 51,  0, 59, 29, 60, 55, 58, 71, 22, 73,\n",
       "       66, 69, 19, 72, 70, 74, 75])"
      ]
     },
     "execution_count": 4,
     "metadata": {},
     "output_type": "execute_result"
    }
   ],
   "source": [
    "df['dob_years'].unique()"
   ]
  },
  {
   "cell_type": "markdown",
   "id": "f4247cc1",
   "metadata": {},
   "source": [
    "Ноль выбивается из значений."
   ]
  },
  {
   "cell_type": "code",
   "execution_count": 5,
   "id": "4b66cd94",
   "metadata": {},
   "outputs": [
    {
     "name": "stdout",
     "output_type": "stream",
     "text": [
      "Строк с нулевым значением возраста 101 штука.\n"
     ]
    }
   ],
   "source": [
    "print('Строк с нулевым значением возраста', df[df['dob_years'] == 0]['dob_years'].count(), 'штука.')"
   ]
  },
  {
   "cell_type": "code",
   "execution_count": 6,
   "id": "1209c75a",
   "metadata": {
    "scrolled": false
   },
   "outputs": [
    {
     "data": {
      "text/plain": [
       "среднее                13750\n",
       "высшее                  4718\n",
       "СРЕДНЕЕ                  772\n",
       "Среднее                  711\n",
       "неоконченное высшее      668\n",
       "ВЫСШЕЕ                   274\n",
       "Высшее                   268\n",
       "начальное                250\n",
       "Неоконченное высшее       47\n",
       "НЕОКОНЧЕННОЕ ВЫСШЕЕ       29\n",
       "НАЧАЛЬНОЕ                 17\n",
       "Начальное                 15\n",
       "ученая степень             4\n",
       "Ученая степень             1\n",
       "УЧЕНАЯ СТЕПЕНЬ             1\n",
       "Name: education, dtype: int64"
      ]
     },
     "execution_count": 6,
     "metadata": {},
     "output_type": "execute_result"
    }
   ],
   "source": [
    "df['education'].value_counts()"
   ]
  },
  {
   "cell_type": "markdown",
   "id": "c8be04d4",
   "metadata": {},
   "source": [
    "В столбце 'education' есть дублирующие значения. Проблема решится приведением всех значений к одному регистру."
   ]
  },
  {
   "cell_type": "code",
   "execution_count": 7,
   "id": "4cce5948",
   "metadata": {},
   "outputs": [
    {
     "data": {
      "text/plain": [
       "женат / замужем          12380\n",
       "гражданский брак          4177\n",
       "Не женат / не замужем     2813\n",
       "в разводе                 1195\n",
       "вдовец / вдова             960\n",
       "Name: family_status, dtype: int64"
      ]
     },
     "execution_count": 7,
     "metadata": {},
     "output_type": "execute_result"
    }
   ],
   "source": [
    "df['family_status'].value_counts()"
   ]
  },
  {
   "cell_type": "markdown",
   "id": "48eac89e",
   "metadata": {},
   "source": [
    "Дублей нет, странных значений нет, со столбцом ничего делать не надо."
   ]
  },
  {
   "cell_type": "code",
   "execution_count": 8,
   "id": "7f75c2ba",
   "metadata": {
    "scrolled": true
   },
   "outputs": [
    {
     "data": {
      "text/plain": [
       "сотрудник          11119\n",
       "компаньон           5085\n",
       "пенсионер           3856\n",
       "госслужащий         1459\n",
       "предприниматель        2\n",
       "безработный            2\n",
       "в декрете              1\n",
       "студент                1\n",
       "Name: income_type, dtype: int64"
      ]
     },
     "execution_count": 8,
     "metadata": {},
     "output_type": "execute_result"
    }
   ],
   "source": [
    "df['income_type'].value_counts()"
   ]
  },
  {
   "cell_type": "markdown",
   "id": "a20174bc",
   "metadata": {},
   "source": [
    "Значения выглядят нормальными."
   ]
  },
  {
   "cell_type": "code",
   "execution_count": 9,
   "id": "881edc16",
   "metadata": {},
   "outputs": [
    {
     "data": {
      "text/plain": [
       "F      14236\n",
       "M       7288\n",
       "XNA        1\n",
       "Name: gender, dtype: int64"
      ]
     },
     "execution_count": 9,
     "metadata": {},
     "output_type": "execute_result"
    }
   ],
   "source": [
    "df['gender'].value_counts()"
   ]
  },
  {
   "cell_type": "markdown",
   "id": "332b2745",
   "metadata": {},
   "source": [
    "Одно значение какое-то странное. Посмотрим эту строку."
   ]
  },
  {
   "cell_type": "code",
   "execution_count": 10,
   "id": "5c6c1e3d",
   "metadata": {
    "scrolled": true
   },
   "outputs": [
    {
     "data": {
      "text/html": [
       "<div>\n",
       "<style scoped>\n",
       "    .dataframe tbody tr th:only-of-type {\n",
       "        vertical-align: middle;\n",
       "    }\n",
       "\n",
       "    .dataframe tbody tr th {\n",
       "        vertical-align: top;\n",
       "    }\n",
       "\n",
       "    .dataframe thead th {\n",
       "        text-align: right;\n",
       "    }\n",
       "</style>\n",
       "<table border=\"1\" class=\"dataframe\">\n",
       "  <thead>\n",
       "    <tr style=\"text-align: right;\">\n",
       "      <th></th>\n",
       "      <th>children</th>\n",
       "      <th>days_employed</th>\n",
       "      <th>dob_years</th>\n",
       "      <th>education</th>\n",
       "      <th>education_id</th>\n",
       "      <th>family_status</th>\n",
       "      <th>family_status_id</th>\n",
       "      <th>gender</th>\n",
       "      <th>income_type</th>\n",
       "      <th>debt</th>\n",
       "      <th>total_income</th>\n",
       "      <th>purpose</th>\n",
       "    </tr>\n",
       "  </thead>\n",
       "  <tbody>\n",
       "    <tr>\n",
       "      <th>10701</th>\n",
       "      <td>0</td>\n",
       "      <td>-2358.600502</td>\n",
       "      <td>24</td>\n",
       "      <td>неоконченное высшее</td>\n",
       "      <td>2</td>\n",
       "      <td>гражданский брак</td>\n",
       "      <td>1</td>\n",
       "      <td>XNA</td>\n",
       "      <td>компаньон</td>\n",
       "      <td>0</td>\n",
       "      <td>203905.157261</td>\n",
       "      <td>покупка недвижимости</td>\n",
       "    </tr>\n",
       "  </tbody>\n",
       "</table>\n",
       "</div>"
      ],
      "text/plain": [
       "       children  days_employed  dob_years            education  education_id  \\\n",
       "10701         0   -2358.600502         24  неоконченное высшее             2   \n",
       "\n",
       "          family_status  family_status_id gender income_type  debt  \\\n",
       "10701  гражданский брак                 1    XNA   компаньон     0   \n",
       "\n",
       "        total_income               purpose  \n",
       "10701  203905.157261  покупка недвижимости  "
      ]
     },
     "execution_count": 10,
     "metadata": {},
     "output_type": "execute_result"
    }
   ],
   "source": [
    "df[df['gender'] == 'XNA']"
   ]
  },
  {
   "cell_type": "markdown",
   "id": "8bf302db",
   "metadata": {},
   "source": [
    "Поскольку нет апелляции к полу в поставленных вопросах и строка такая же, как остальные, не промежуточный итог или что-то выбивающееся из списка, оставим это значение без изменений."
   ]
  },
  {
   "cell_type": "code",
   "execution_count": 11,
   "id": "5859d00d",
   "metadata": {},
   "outputs": [
    {
     "data": {
      "text/plain": [
       "свадьба                                   797\n",
       "на проведение свадьбы                     777\n",
       "сыграть свадьбу                           774\n",
       "операции с недвижимостью                  676\n",
       "покупка коммерческой недвижимости         664\n",
       "операции с жильем                         653\n",
       "покупка жилья для сдачи                   653\n",
       "операции с коммерческой недвижимостью     651\n",
       "жилье                                     647\n",
       "покупка жилья                             647\n",
       "покупка жилья для семьи                   641\n",
       "строительство собственной недвижимости    635\n",
       "недвижимость                              634\n",
       "операции со своей недвижимостью           630\n",
       "строительство жилой недвижимости          626\n",
       "покупка недвижимости                      624\n",
       "строительство недвижимости                620\n",
       "покупка своего жилья                      620\n",
       "ремонт жилью                              612\n",
       "покупка жилой недвижимости                607\n",
       "на покупку своего автомобиля              505\n",
       "заняться высшим образованием              496\n",
       "автомобиль                                495\n",
       "сделка с подержанным автомобилем          489\n",
       "свой автомобиль                           480\n",
       "на покупку подержанного автомобиля        479\n",
       "автомобили                                478\n",
       "на покупку автомобиля                     472\n",
       "приобретение автомобиля                   462\n",
       "дополнительное образование                462\n",
       "сделка с автомобилем                      455\n",
       "высшее образование                        453\n",
       "образование                               447\n",
       "получение дополнительного образования     447\n",
       "получение образования                     443\n",
       "профильное образование                    436\n",
       "получение высшего образования             426\n",
       "заняться образованием                     412\n",
       "Name: purpose, dtype: int64"
      ]
     },
     "execution_count": 11,
     "metadata": {},
     "output_type": "execute_result"
    }
   ],
   "source": [
    "df['purpose'].value_counts()"
   ]
  },
  {
   "cell_type": "markdown",
   "id": "c73bfd6f",
   "metadata": {},
   "source": [
    "Все значения выглядят нормально."
   ]
  },
  {
   "cell_type": "markdown",
   "id": "2aad5919",
   "metadata": {},
   "source": [
    "### Шаг 2.1 Заполнение пропусков"
   ]
  },
  {
   "cell_type": "markdown",
   "id": "27e2210b",
   "metadata": {},
   "source": [
    "Разберёмся со столбцом зарплат. \n",
    "\n",
    "Отсутствие данных по зарплате может говорить о нежелании клиента распространяться на эту тему, с другой стороны, уровень заработной платы влияет на одобрение кредита. Причина может быть ещё в том, что кредитополучатель сам не работает, а выплаты делает его/её партнёр. Или при выгрузке забыли указать необходимость предоставить эти данные, если датасет собирался в несколько заходов.\n",
    "\n",
    "Посмотрим диапазон значений и медиану. Медиана показывает значение среднего элемента, меньше которого половина выборки и больше которого половина выборки. Смещение медианы к краю выборки показывает большую скученность значений в этой области значений. "
   ]
  },
  {
   "cell_type": "code",
   "execution_count": 12,
   "id": "f0753154",
   "metadata": {},
   "outputs": [
    {
     "data": {
      "text/plain": [
       "20667.26379327158"
      ]
     },
     "execution_count": 12,
     "metadata": {},
     "output_type": "execute_result"
    }
   ],
   "source": [
    "df['total_income'].min()  # минимальное"
   ]
  },
  {
   "cell_type": "code",
   "execution_count": 13,
   "id": "f644a493",
   "metadata": {},
   "outputs": [
    {
     "data": {
      "text/plain": [
       "2265604.028722744"
      ]
     },
     "execution_count": 13,
     "metadata": {},
     "output_type": "execute_result"
    }
   ],
   "source": [
    "df['total_income'].max()  # максимальное"
   ]
  },
  {
   "cell_type": "code",
   "execution_count": 14,
   "id": "ba7f2ec3",
   "metadata": {
    "scrolled": false
   },
   "outputs": [
    {
     "data": {
      "text/plain": [
       "145017.93753253992"
      ]
     },
     "execution_count": 14,
     "metadata": {},
     "output_type": "execute_result"
    }
   ],
   "source": [
    "df['total_income'].median()  # медиана"
   ]
  },
  {
   "cell_type": "markdown",
   "id": "b735837f",
   "metadata": {},
   "source": [
    "Значение медианы гораздо ближе к минимальному, чем к максимальному значениям. Значит, большие значения могут быть единичными, и лучше использовать медиану, а не среднее арифметическое, для заполнения пропусков."
   ]
  },
  {
   "cell_type": "markdown",
   "id": "a9ded3ec",
   "metadata": {},
   "source": [
    "Всего пропусков в столбце входящих выплат сейчас столько:"
   ]
  },
  {
   "cell_type": "code",
   "execution_count": 15,
   "id": "1b8c0aa4",
   "metadata": {},
   "outputs": [
    {
     "data": {
      "text/plain": [
       "2174"
      ]
     },
     "execution_count": 15,
     "metadata": {},
     "output_type": "execute_result"
    }
   ],
   "source": [
    "df['total_income'].isna().sum()"
   ]
  },
  {
   "cell_type": "markdown",
   "id": "57b7b247",
   "metadata": {},
   "source": [
    "Заполним пропуски медианой"
   ]
  },
  {
   "cell_type": "code",
   "execution_count": 16,
   "id": "2ecb3887",
   "metadata": {
    "scrolled": false
   },
   "outputs": [
    {
     "data": {
      "text/plain": [
       "0"
      ]
     },
     "execution_count": 16,
     "metadata": {},
     "output_type": "execute_result"
    }
   ],
   "source": [
    "df['total_income'] = df['total_income'].fillna(145017.93753253992)\n",
    "df['total_income'].isna().sum()"
   ]
  },
  {
   "cell_type": "markdown",
   "id": "1cf85550",
   "metadata": {},
   "source": [
    "Теперь приведём этот столбец к целочисленному типу."
   ]
  },
  {
   "cell_type": "code",
   "execution_count": 17,
   "id": "55e38490",
   "metadata": {},
   "outputs": [
    {
     "name": "stdout",
     "output_type": "stream",
     "text": [
      "<class 'pandas.core.frame.DataFrame'>\n",
      "RangeIndex: 21525 entries, 0 to 21524\n",
      "Data columns (total 12 columns):\n",
      " #   Column            Non-Null Count  Dtype  \n",
      "---  ------            --------------  -----  \n",
      " 0   children          21525 non-null  int64  \n",
      " 1   days_employed     19351 non-null  float64\n",
      " 2   dob_years         21525 non-null  int64  \n",
      " 3   education         21525 non-null  object \n",
      " 4   education_id      21525 non-null  int64  \n",
      " 5   family_status     21525 non-null  object \n",
      " 6   family_status_id  21525 non-null  int64  \n",
      " 7   gender            21525 non-null  object \n",
      " 8   income_type       21525 non-null  object \n",
      " 9   debt              21525 non-null  int64  \n",
      " 10  total_income      21525 non-null  int64  \n",
      " 11  purpose           21525 non-null  object \n",
      "dtypes: float64(1), int64(6), object(5)\n",
      "memory usage: 2.0+ MB\n"
     ]
    }
   ],
   "source": [
    "df['total_income'] = df['total_income'].astype('int')\n",
    "df.info()"
   ]
  },
  {
   "cell_type": "markdown",
   "id": "5fbd8eca",
   "metadata": {},
   "source": [
    "### Шаг 2.2 Проверка данных на аномалии и исправления."
   ]
  },
  {
   "cell_type": "markdown",
   "id": "e0b18458",
   "metadata": {},
   "source": [
    "В столбце 'days_employed' видим странные значения для количества дней."
   ]
  },
  {
   "cell_type": "code",
   "execution_count": 18,
   "id": "d10fb752",
   "metadata": {},
   "outputs": [
    {
     "data": {
      "text/plain": [
       "0     -8437.673028\n",
       "1     -4024.803754\n",
       "2     -5623.422610\n",
       "3     -4124.747207\n",
       "4    340266.072047\n",
       "5      -926.185831\n",
       "6     -2879.202052\n",
       "7      -152.779569\n",
       "8     -6929.865299\n",
       "9     -2188.756445\n",
       "Name: days_employed, dtype: float64"
      ]
     },
     "execution_count": 18,
     "metadata": {},
     "output_type": "execute_result"
    }
   ],
   "source": [
    "df['days_employed'].head(10)"
   ]
  },
  {
   "cell_type": "markdown",
   "id": "fa279584",
   "metadata": {},
   "source": [
    "Посмотрим, как связаны положительные и отрицательные значения с категориями занятости. 340266 дней занятости не может быть у нормального человека, это тысяча лет без малого."
   ]
  },
  {
   "cell_type": "code",
   "execution_count": 19,
   "id": "2ce1df2f",
   "metadata": {
    "scrolled": true
   },
   "outputs": [
    {
     "data": {
      "text/plain": [
       "пенсионер      3443\n",
       "безработный       2\n",
       "Name: income_type, dtype: int64"
      ]
     },
     "execution_count": 19,
     "metadata": {},
     "output_type": "execute_result"
    }
   ],
   "source": [
    "df.loc[df['days_employed']>0]['income_type'].value_counts() # условно назовём это группа А"
   ]
  },
  {
   "cell_type": "code",
   "execution_count": 20,
   "id": "b7efd9d7",
   "metadata": {},
   "outputs": [
    {
     "data": {
      "text/plain": [
       "сотрудник          10014\n",
       "компаньон           4577\n",
       "госслужащий         1312\n",
       "в декрете              1\n",
       "предприниматель        1\n",
       "студент                1\n",
       "Name: income_type, dtype: int64"
      ]
     },
     "execution_count": 20,
     "metadata": {},
     "output_type": "execute_result"
    }
   ],
   "source": [
    "df.loc[df['days_employed']<0]['income_type'].value_counts()  # а это группа Б"
   ]
  },
  {
   "cell_type": "markdown",
   "id": "54179b6b",
   "metadata": {},
   "source": [
    "По какой-то причине количество дней занятости стало отрицательным в работающих категориях.\n",
    "Оба типа значений не похожи на настоящие, скорее всего, не являются случайными и требуют уточнения своей природы у источника данных.\n",
    "\n",
    "Выясним, как распределены пропуски в днях по категориям занятости."
   ]
  },
  {
   "cell_type": "code",
   "execution_count": 21,
   "id": "b84bf4a7",
   "metadata": {},
   "outputs": [
    {
     "data": {
      "text/plain": [
       "сотрудник          1105\n",
       "компаньон           508\n",
       "пенсионер           413\n",
       "госслужащий         147\n",
       "предприниматель       1\n",
       "Name: income_type, dtype: int64"
      ]
     },
     "execution_count": 21,
     "metadata": {},
     "output_type": "execute_result"
    }
   ],
   "source": [
    "df.loc[df['days_employed'].isna()]['income_type'].value_counts()"
   ]
  },
  {
   "cell_type": "markdown",
   "id": "09ad7270",
   "metadata": {},
   "source": [
    "Найдём медиану для пенсионеров, поскольку они одни в группе А по типу значений в днях занятости, их будет проще выделить, и заполним ею пропуски для пенсионеров."
   ]
  },
  {
   "cell_type": "code",
   "execution_count": 22,
   "id": "7ed6d0ba",
   "metadata": {},
   "outputs": [
    {
     "name": "stdout",
     "output_type": "stream",
     "text": [
      "Медиана для пенсионеров: 365213.3062657312\n"
     ]
    },
    {
     "data": {
      "text/plain": [
       "сотрудник          1105\n",
       "компаньон           508\n",
       "госслужащий         147\n",
       "предприниматель       1\n",
       "Name: income_type, dtype: int64"
      ]
     },
     "execution_count": 22,
     "metadata": {},
     "output_type": "execute_result"
    }
   ],
   "source": [
    "median_a = df.loc[df['income_type'] == 'пенсионер']['days_employed'].median()\n",
    "print('Медиана для пенсионеров:', median_a)\n",
    "df.loc[df['income_type'] == 'пенсионер'] = df.loc[df['income_type'] == 'пенсионер'].fillna(median_a)\n",
    "df.loc[df['days_employed'].isna()]['income_type'].value_counts()"
   ]
  },
  {
   "cell_type": "markdown",
   "id": "f74c8612",
   "metadata": {},
   "source": [
    "Остальные пропуски заполним медианой для группы Б."
   ]
  },
  {
   "cell_type": "code",
   "execution_count": 23,
   "id": "7fee7fbb",
   "metadata": {},
   "outputs": [
    {
     "name": "stdout",
     "output_type": "stream",
     "text": [
      "Медиана для оставшихся пропусков: -1630.0193809778218\n",
      "Пропусков осталось: 0\n"
     ]
    }
   ],
   "source": [
    "median_b = df.loc[df['days_employed']<0]['days_employed'].median()\n",
    "print('Медиана для оставшихся пропусков:', median_b)\n",
    "df['days_employed'] = df['days_employed'].fillna(median_b)\n",
    "print('Пропусков осталось:', df.loc[df['days_employed'].isna()]['income_type'].count())"
   ]
  },
  {
   "cell_type": "markdown",
   "id": "0514fb7d",
   "metadata": {},
   "source": [
    "Теперь поступим следующим образом - отрицательные значения переведём в положительные и остановимся. Для дальнейшего анализа эти данные нам не понадобятся, поэтому достаточно привести их в более правдоподобный вид, что мы и сделали."
   ]
  },
  {
   "cell_type": "code",
   "execution_count": 24,
   "id": "40a591f7",
   "metadata": {
    "scrolled": true
   },
   "outputs": [
    {
     "name": "stdout",
     "output_type": "stream",
     "text": [
      "Значений меньше нуля осталось: 0\n"
     ]
    },
    {
     "data": {
      "text/html": [
       "<div>\n",
       "<style scoped>\n",
       "    .dataframe tbody tr th:only-of-type {\n",
       "        vertical-align: middle;\n",
       "    }\n",
       "\n",
       "    .dataframe tbody tr th {\n",
       "        vertical-align: top;\n",
       "    }\n",
       "\n",
       "    .dataframe thead th {\n",
       "        text-align: right;\n",
       "    }\n",
       "</style>\n",
       "<table border=\"1\" class=\"dataframe\">\n",
       "  <thead>\n",
       "    <tr style=\"text-align: right;\">\n",
       "      <th></th>\n",
       "      <th>children</th>\n",
       "      <th>days_employed</th>\n",
       "      <th>dob_years</th>\n",
       "      <th>education</th>\n",
       "      <th>education_id</th>\n",
       "      <th>family_status</th>\n",
       "      <th>family_status_id</th>\n",
       "      <th>gender</th>\n",
       "      <th>income_type</th>\n",
       "      <th>debt</th>\n",
       "      <th>total_income</th>\n",
       "      <th>purpose</th>\n",
       "    </tr>\n",
       "  </thead>\n",
       "  <tbody>\n",
       "    <tr>\n",
       "      <th>5541</th>\n",
       "      <td>2</td>\n",
       "      <td>1506.456938</td>\n",
       "      <td>33</td>\n",
       "      <td>начальное</td>\n",
       "      <td>3</td>\n",
       "      <td>женат / замужем</td>\n",
       "      <td>0</td>\n",
       "      <td>F</td>\n",
       "      <td>компаньон</td>\n",
       "      <td>0</td>\n",
       "      <td>260288</td>\n",
       "      <td>строительство жилой недвижимости</td>\n",
       "    </tr>\n",
       "    <tr>\n",
       "      <th>18236</th>\n",
       "      <td>0</td>\n",
       "      <td>206.315544</td>\n",
       "      <td>30</td>\n",
       "      <td>среднее</td>\n",
       "      <td>1</td>\n",
       "      <td>Не женат / не замужем</td>\n",
       "      <td>4</td>\n",
       "      <td>F</td>\n",
       "      <td>сотрудник</td>\n",
       "      <td>0</td>\n",
       "      <td>114831</td>\n",
       "      <td>получение образования</td>\n",
       "    </tr>\n",
       "    <tr>\n",
       "      <th>9118</th>\n",
       "      <td>0</td>\n",
       "      <td>1630.019381</td>\n",
       "      <td>45</td>\n",
       "      <td>среднее</td>\n",
       "      <td>1</td>\n",
       "      <td>женат / замужем</td>\n",
       "      <td>0</td>\n",
       "      <td>F</td>\n",
       "      <td>сотрудник</td>\n",
       "      <td>0</td>\n",
       "      <td>145017</td>\n",
       "      <td>строительство жилой недвижимости</td>\n",
       "    </tr>\n",
       "    <tr>\n",
       "      <th>18066</th>\n",
       "      <td>0</td>\n",
       "      <td>3555.618404</td>\n",
       "      <td>47</td>\n",
       "      <td>среднее</td>\n",
       "      <td>1</td>\n",
       "      <td>гражданский брак</td>\n",
       "      <td>1</td>\n",
       "      <td>F</td>\n",
       "      <td>компаньон</td>\n",
       "      <td>0</td>\n",
       "      <td>121914</td>\n",
       "      <td>дополнительное образование</td>\n",
       "    </tr>\n",
       "    <tr>\n",
       "      <th>18528</th>\n",
       "      <td>2</td>\n",
       "      <td>448.322148</td>\n",
       "      <td>41</td>\n",
       "      <td>среднее</td>\n",
       "      <td>1</td>\n",
       "      <td>женат / замужем</td>\n",
       "      <td>0</td>\n",
       "      <td>M</td>\n",
       "      <td>сотрудник</td>\n",
       "      <td>0</td>\n",
       "      <td>105109</td>\n",
       "      <td>покупка жилья для сдачи</td>\n",
       "    </tr>\n",
       "  </tbody>\n",
       "</table>\n",
       "</div>"
      ],
      "text/plain": [
       "       children  days_employed  dob_years  education  education_id  \\\n",
       "5541          2    1506.456938         33  начальное             3   \n",
       "18236         0     206.315544         30    среднее             1   \n",
       "9118          0    1630.019381         45    среднее             1   \n",
       "18066         0    3555.618404         47    среднее             1   \n",
       "18528         2     448.322148         41    среднее             1   \n",
       "\n",
       "               family_status  family_status_id gender income_type  debt  \\\n",
       "5541         женат / замужем                 0      F   компаньон     0   \n",
       "18236  Не женат / не замужем                 4      F   сотрудник     0   \n",
       "9118         женат / замужем                 0      F   сотрудник     0   \n",
       "18066       гражданский брак                 1      F   компаньон     0   \n",
       "18528        женат / замужем                 0      M   сотрудник     0   \n",
       "\n",
       "       total_income                           purpose  \n",
       "5541         260288  строительство жилой недвижимости  \n",
       "18236        114831             получение образования  \n",
       "9118         145017  строительство жилой недвижимости  \n",
       "18066        121914        дополнительное образование  \n",
       "18528        105109           покупка жилья для сдачи  "
      ]
     },
     "metadata": {},
     "output_type": "display_data"
    }
   ],
   "source": [
    "df.loc[df['days_employed']<0,'days_employed'] *= (-1)\n",
    "print('Значений меньше нуля осталось:', df.loc[df['days_employed']<0]['days_employed'].count())\n",
    "display(df.sample(5))"
   ]
  },
  {
   "cell_type": "markdown",
   "id": "b35dc6ef",
   "metadata": {},
   "source": [
    "Приступим к детям."
   ]
  },
  {
   "cell_type": "code",
   "execution_count": 25,
   "id": "7ec8ffd4",
   "metadata": {},
   "outputs": [
    {
     "data": {
      "text/plain": [
       "женат / замужем          12351\n",
       "гражданский брак          4172\n",
       "Не женат / не замужем     2808\n",
       "в разводе                 1191\n",
       "вдовец / вдова             956\n",
       "Name: family_status, dtype: int64"
      ]
     },
     "execution_count": 25,
     "metadata": {},
     "output_type": "execute_result"
    }
   ],
   "source": [
    "children_data = df[df['children'] != -1]\n",
    "children_data['family_status'].value_counts()"
   ]
  },
  {
   "cell_type": "code",
   "execution_count": 26,
   "id": "147c8aa3",
   "metadata": {
    "scrolled": true
   },
   "outputs": [
    {
     "data": {
      "text/plain": [
       "женат / замужем          29\n",
       "гражданский брак          5\n",
       "Не женат / не замужем     5\n",
       "в разводе                 4\n",
       "вдовец / вдова            4\n",
       "Name: family_status, dtype: int64"
      ]
     },
     "execution_count": 26,
     "metadata": {},
     "output_type": "execute_result"
    }
   ],
   "source": [
    "minus_children_data = df[df['children'] == -1]\n",
    "minus_children_data['family_status'].value_counts()"
   ]
  },
  {
   "cell_type": "markdown",
   "id": "fde8f80d",
   "metadata": {},
   "source": [
    "Непонятно, что имелось ввиду под '-1', строк с таким значением 4700/21525=0,22%, что меньше рекомендованного 1%, поэтому удалим эти строки из выборки."
   ]
  },
  {
   "cell_type": "code",
   "execution_count": 27,
   "id": "17b2df4d",
   "metadata": {
    "scrolled": false
   },
   "outputs": [
    {
     "data": {
      "text/plain": [
       "0     14149\n",
       "1      4818\n",
       "2      2055\n",
       "3       330\n",
       "20       76\n",
       "4        41\n",
       "5         9\n",
       "Name: children, dtype: int64"
      ]
     },
     "execution_count": 27,
     "metadata": {},
     "output_type": "execute_result"
    }
   ],
   "source": [
    "df = df[df['children'] != -1]\n",
    "df['children'].value_counts()"
   ]
  },
  {
   "cell_type": "code",
   "execution_count": 28,
   "id": "de17f97d",
   "metadata": {},
   "outputs": [
    {
     "name": "stdout",
     "output_type": "stream",
     "text": [
      "<class 'pandas.core.frame.DataFrame'>\n",
      "Int64Index: 21478 entries, 0 to 21524\n",
      "Data columns (total 12 columns):\n",
      " #   Column            Non-Null Count  Dtype  \n",
      "---  ------            --------------  -----  \n",
      " 0   children          21478 non-null  int64  \n",
      " 1   days_employed     21478 non-null  float64\n",
      " 2   dob_years         21478 non-null  int64  \n",
      " 3   education         21478 non-null  object \n",
      " 4   education_id      21478 non-null  int64  \n",
      " 5   family_status     21478 non-null  object \n",
      " 6   family_status_id  21478 non-null  int64  \n",
      " 7   gender            21478 non-null  object \n",
      " 8   income_type       21478 non-null  object \n",
      " 9   debt              21478 non-null  int64  \n",
      " 10  total_income      21478 non-null  int64  \n",
      " 11  purpose           21478 non-null  object \n",
      "dtypes: float64(1), int64(6), object(5)\n",
      "memory usage: 2.1+ MB\n"
     ]
    }
   ],
   "source": [
    "df.info()"
   ]
  },
  {
   "cell_type": "markdown",
   "id": "77b0567b",
   "metadata": {},
   "source": [
    "Ещё был возраст 0 лет. Заменим его медианой."
   ]
  },
  {
   "cell_type": "code",
   "execution_count": 29,
   "id": "1dff62c5",
   "metadata": {
    "scrolled": true
   },
   "outputs": [
    {
     "data": {
      "text/plain": [
       "array([42, 36, 33, 32, 53, 27, 43, 50, 35, 41, 40, 65, 54, 56, 26, 48, 24,\n",
       "       21, 57, 67, 28, 63, 62, 47, 34, 68, 25, 31, 30, 20, 49, 37, 45, 61,\n",
       "       64, 44, 52, 46, 23, 38, 39, 51,  0, 59, 29, 60, 55, 58, 71, 22, 73,\n",
       "       66, 69, 19, 72, 70, 74, 75])"
      ]
     },
     "execution_count": 29,
     "metadata": {},
     "output_type": "execute_result"
    }
   ],
   "source": [
    "df['dob_years'].unique()"
   ]
  },
  {
   "cell_type": "code",
   "execution_count": 30,
   "id": "301b0f4e",
   "metadata": {},
   "outputs": [
    {
     "data": {
      "text/plain": [
       "42.0"
      ]
     },
     "execution_count": 30,
     "metadata": {},
     "output_type": "execute_result"
    }
   ],
   "source": [
    "df['dob_years'].median()"
   ]
  },
  {
   "cell_type": "code",
   "execution_count": 31,
   "id": "bef2bd80",
   "metadata": {},
   "outputs": [],
   "source": [
    "df['dob_years'] = df['dob_years'].replace(0, 42)"
   ]
  },
  {
   "cell_type": "code",
   "execution_count": 32,
   "id": "b6a08758",
   "metadata": {
    "scrolled": true
   },
   "outputs": [
    {
     "data": {
      "text/plain": [
       "array([42, 36, 33, 32, 53, 27, 43, 50, 35, 41, 40, 65, 54, 56, 26, 48, 24,\n",
       "       21, 57, 67, 28, 63, 62, 47, 34, 68, 25, 31, 30, 20, 49, 37, 45, 61,\n",
       "       64, 44, 52, 46, 23, 38, 39, 51, 59, 29, 60, 55, 58, 71, 22, 73, 66,\n",
       "       69, 19, 72, 70, 74, 75])"
      ]
     },
     "execution_count": 32,
     "metadata": {},
     "output_type": "execute_result"
    }
   ],
   "source": [
    "df['dob_years'].unique()"
   ]
  },
  {
   "cell_type": "markdown",
   "id": "1a222a7b",
   "metadata": {},
   "source": [
    "### Шаг 2.4. Удаление дубликатов."
   ]
  },
  {
   "cell_type": "markdown",
   "id": "46eb5331",
   "metadata": {},
   "source": [
    "Посмотрим, какое количество явных дублей присутствует в таблице."
   ]
  },
  {
   "cell_type": "code",
   "execution_count": 33,
   "id": "5304c598",
   "metadata": {},
   "outputs": [
    {
     "data": {
      "text/plain": [
       "55"
      ]
     },
     "execution_count": 33,
     "metadata": {},
     "output_type": "execute_result"
    }
   ],
   "source": [
    "df.duplicated().sum()"
   ]
  },
  {
   "cell_type": "markdown",
   "id": "5a5f50f6",
   "metadata": {},
   "source": [
    "Удалим их и обновим индексацию."
   ]
  },
  {
   "cell_type": "code",
   "execution_count": 34,
   "id": "6e5069f6",
   "metadata": {},
   "outputs": [],
   "source": [
    "df = df.drop_duplicates().reset_index(drop=True)"
   ]
  },
  {
   "cell_type": "markdown",
   "id": "fe46c2c9",
   "metadata": {},
   "source": [
    "\n",
    "Теперь вспомним, что при знакомствее с таблицей мы обнаружили в столбце с образованием одинаковые значения, записанные разным регистром. Приведём их к одному регистру и посмотрим, сколько ещё дублей удастся таким образом найти."
   ]
  },
  {
   "cell_type": "code",
   "execution_count": 35,
   "id": "a13d5000",
   "metadata": {},
   "outputs": [
    {
     "data": {
      "text/plain": [
       "среднее                15150\n",
       "высшее                  5242\n",
       "неоконченное высшее      743\n",
       "начальное                282\n",
       "ученая степень             6\n",
       "Name: education, dtype: int64"
      ]
     },
     "execution_count": 35,
     "metadata": {},
     "output_type": "execute_result"
    }
   ],
   "source": [
    "df['education'] = df['education'].str.lower()\n",
    "df['education'].value_counts()"
   ]
  },
  {
   "cell_type": "code",
   "execution_count": 36,
   "id": "6c009c0a",
   "metadata": {},
   "outputs": [
    {
     "data": {
      "text/plain": [
       "17"
      ]
     },
     "execution_count": 36,
     "metadata": {},
     "output_type": "execute_result"
    }
   ],
   "source": [
    "df.duplicated().sum()"
   ]
  },
  {
   "cell_type": "markdown",
   "id": "8988c7cf",
   "metadata": {},
   "source": [
    "Удалим и их."
   ]
  },
  {
   "cell_type": "code",
   "execution_count": 37,
   "id": "8f098245",
   "metadata": {
    "scrolled": true
   },
   "outputs": [
    {
     "name": "stdout",
     "output_type": "stream",
     "text": [
      "<class 'pandas.core.frame.DataFrame'>\n",
      "RangeIndex: 21406 entries, 0 to 21405\n",
      "Data columns (total 12 columns):\n",
      " #   Column            Non-Null Count  Dtype  \n",
      "---  ------            --------------  -----  \n",
      " 0   children          21406 non-null  int64  \n",
      " 1   days_employed     21406 non-null  float64\n",
      " 2   dob_years         21406 non-null  int64  \n",
      " 3   education         21406 non-null  object \n",
      " 4   education_id      21406 non-null  int64  \n",
      " 5   family_status     21406 non-null  object \n",
      " 6   family_status_id  21406 non-null  int64  \n",
      " 7   gender            21406 non-null  object \n",
      " 8   income_type       21406 non-null  object \n",
      " 9   debt              21406 non-null  int64  \n",
      " 10  total_income      21406 non-null  int64  \n",
      " 11  purpose           21406 non-null  object \n",
      "dtypes: float64(1), int64(6), object(5)\n",
      "memory usage: 2.0+ MB\n"
     ]
    }
   ],
   "source": [
    "\n",
    "df = df.drop_duplicates().reset_index(drop=True)\n",
    "\n",
    "df.info()"
   ]
  },
  {
   "cell_type": "markdown",
   "id": "e53157ea",
   "metadata": {},
   "source": [
    "### Шаг 2.5. Формирование дополнительных датафреймов словарей, декомпозиция исходного датафрейма."
   ]
  },
  {
   "cell_type": "markdown",
   "id": "57bb9423",
   "metadata": {},
   "source": [
    "Теперь создадим словари для образования и семейного статуса."
   ]
  },
  {
   "cell_type": "code",
   "execution_count": 38,
   "id": "ea5698fc",
   "metadata": {},
   "outputs": [
    {
     "data": {
      "text/plain": [
       "Index(['children', 'days_employed', 'dob_years', 'education', 'education_id',\n",
       "       'family_status', 'family_status_id', 'gender', 'income_type', 'debt',\n",
       "       'total_income', 'purpose'],\n",
       "      dtype='object')"
      ]
     },
     "execution_count": 38,
     "metadata": {},
     "output_type": "execute_result"
    }
   ],
   "source": [
    "df.columns"
   ]
  },
  {
   "cell_type": "markdown",
   "id": "026a6524",
   "metadata": {},
   "source": [
    "Образование:"
   ]
  },
  {
   "cell_type": "code",
   "execution_count": 39,
   "id": "d981ef7f",
   "metadata": {},
   "outputs": [
    {
     "data": {
      "text/html": [
       "<div>\n",
       "<style scoped>\n",
       "    .dataframe tbody tr th:only-of-type {\n",
       "        vertical-align: middle;\n",
       "    }\n",
       "\n",
       "    .dataframe tbody tr th {\n",
       "        vertical-align: top;\n",
       "    }\n",
       "\n",
       "    .dataframe thead th {\n",
       "        text-align: right;\n",
       "    }\n",
       "</style>\n",
       "<table border=\"1\" class=\"dataframe\">\n",
       "  <thead>\n",
       "    <tr style=\"text-align: right;\">\n",
       "      <th></th>\n",
       "      <th>education_id</th>\n",
       "      <th>education</th>\n",
       "    </tr>\n",
       "  </thead>\n",
       "  <tbody>\n",
       "    <tr>\n",
       "      <th>0</th>\n",
       "      <td>0</td>\n",
       "      <td>высшее</td>\n",
       "    </tr>\n",
       "    <tr>\n",
       "      <th>1</th>\n",
       "      <td>1</td>\n",
       "      <td>среднее</td>\n",
       "    </tr>\n",
       "    <tr>\n",
       "      <th>2</th>\n",
       "      <td>1</td>\n",
       "      <td>среднее</td>\n",
       "    </tr>\n",
       "    <tr>\n",
       "      <th>3</th>\n",
       "      <td>1</td>\n",
       "      <td>среднее</td>\n",
       "    </tr>\n",
       "    <tr>\n",
       "      <th>4</th>\n",
       "      <td>1</td>\n",
       "      <td>среднее</td>\n",
       "    </tr>\n",
       "    <tr>\n",
       "      <th>...</th>\n",
       "      <td>...</td>\n",
       "      <td>...</td>\n",
       "    </tr>\n",
       "    <tr>\n",
       "      <th>21401</th>\n",
       "      <td>1</td>\n",
       "      <td>среднее</td>\n",
       "    </tr>\n",
       "    <tr>\n",
       "      <th>21402</th>\n",
       "      <td>1</td>\n",
       "      <td>среднее</td>\n",
       "    </tr>\n",
       "    <tr>\n",
       "      <th>21403</th>\n",
       "      <td>1</td>\n",
       "      <td>среднее</td>\n",
       "    </tr>\n",
       "    <tr>\n",
       "      <th>21404</th>\n",
       "      <td>1</td>\n",
       "      <td>среднее</td>\n",
       "    </tr>\n",
       "    <tr>\n",
       "      <th>21405</th>\n",
       "      <td>1</td>\n",
       "      <td>среднее</td>\n",
       "    </tr>\n",
       "  </tbody>\n",
       "</table>\n",
       "<p>21406 rows × 2 columns</p>\n",
       "</div>"
      ],
      "text/plain": [
       "       education_id education\n",
       "0                 0    высшее\n",
       "1                 1   среднее\n",
       "2                 1   среднее\n",
       "3                 1   среднее\n",
       "4                 1   среднее\n",
       "...             ...       ...\n",
       "21401             1   среднее\n",
       "21402             1   среднее\n",
       "21403             1   среднее\n",
       "21404             1   среднее\n",
       "21405             1   среднее\n",
       "\n",
       "[21406 rows x 2 columns]"
      ]
     },
     "metadata": {},
     "output_type": "display_data"
    }
   ],
   "source": [
    "education_df = df[['education_id', 'education']]\n",
    "display(education_df)"
   ]
  },
  {
   "cell_type": "code",
   "execution_count": 40,
   "id": "128c0272",
   "metadata": {},
   "outputs": [
    {
     "data": {
      "text/html": [
       "<div>\n",
       "<style scoped>\n",
       "    .dataframe tbody tr th:only-of-type {\n",
       "        vertical-align: middle;\n",
       "    }\n",
       "\n",
       "    .dataframe tbody tr th {\n",
       "        vertical-align: top;\n",
       "    }\n",
       "\n",
       "    .dataframe thead th {\n",
       "        text-align: right;\n",
       "    }\n",
       "</style>\n",
       "<table border=\"1\" class=\"dataframe\">\n",
       "  <thead>\n",
       "    <tr style=\"text-align: right;\">\n",
       "      <th></th>\n",
       "      <th>education_id</th>\n",
       "      <th>education</th>\n",
       "    </tr>\n",
       "  </thead>\n",
       "  <tbody>\n",
       "    <tr>\n",
       "      <th>0</th>\n",
       "      <td>0</td>\n",
       "      <td>высшее</td>\n",
       "    </tr>\n",
       "    <tr>\n",
       "      <th>1</th>\n",
       "      <td>1</td>\n",
       "      <td>среднее</td>\n",
       "    </tr>\n",
       "    <tr>\n",
       "      <th>2</th>\n",
       "      <td>2</td>\n",
       "      <td>неоконченное высшее</td>\n",
       "    </tr>\n",
       "    <tr>\n",
       "      <th>3</th>\n",
       "      <td>3</td>\n",
       "      <td>начальное</td>\n",
       "    </tr>\n",
       "    <tr>\n",
       "      <th>4</th>\n",
       "      <td>4</td>\n",
       "      <td>ученая степень</td>\n",
       "    </tr>\n",
       "  </tbody>\n",
       "</table>\n",
       "</div>"
      ],
      "text/plain": [
       "   education_id            education\n",
       "0             0               высшее\n",
       "1             1              среднее\n",
       "2             2  неоконченное высшее\n",
       "3             3            начальное\n",
       "4             4       ученая степень"
      ]
     },
     "metadata": {},
     "output_type": "display_data"
    }
   ],
   "source": [
    "education_df = education_df.drop_duplicates().reset_index(drop=True)\n",
    "display(education_df)"
   ]
  },
  {
   "cell_type": "markdown",
   "id": "f96399d6",
   "metadata": {},
   "source": [
    "Семейный статус:"
   ]
  },
  {
   "cell_type": "code",
   "execution_count": 41,
   "id": "2f74ab4b",
   "metadata": {},
   "outputs": [
    {
     "data": {
      "text/html": [
       "<div>\n",
       "<style scoped>\n",
       "    .dataframe tbody tr th:only-of-type {\n",
       "        vertical-align: middle;\n",
       "    }\n",
       "\n",
       "    .dataframe tbody tr th {\n",
       "        vertical-align: top;\n",
       "    }\n",
       "\n",
       "    .dataframe thead th {\n",
       "        text-align: right;\n",
       "    }\n",
       "</style>\n",
       "<table border=\"1\" class=\"dataframe\">\n",
       "  <thead>\n",
       "    <tr style=\"text-align: right;\">\n",
       "      <th></th>\n",
       "      <th>family_status_id</th>\n",
       "      <th>family_status</th>\n",
       "    </tr>\n",
       "  </thead>\n",
       "  <tbody>\n",
       "    <tr>\n",
       "      <th>0</th>\n",
       "      <td>0</td>\n",
       "      <td>женат / замужем</td>\n",
       "    </tr>\n",
       "    <tr>\n",
       "      <th>1</th>\n",
       "      <td>1</td>\n",
       "      <td>гражданский брак</td>\n",
       "    </tr>\n",
       "    <tr>\n",
       "      <th>2</th>\n",
       "      <td>2</td>\n",
       "      <td>вдовец / вдова</td>\n",
       "    </tr>\n",
       "    <tr>\n",
       "      <th>3</th>\n",
       "      <td>3</td>\n",
       "      <td>в разводе</td>\n",
       "    </tr>\n",
       "    <tr>\n",
       "      <th>4</th>\n",
       "      <td>4</td>\n",
       "      <td>Не женат / не замужем</td>\n",
       "    </tr>\n",
       "  </tbody>\n",
       "</table>\n",
       "</div>"
      ],
      "text/plain": [
       "   family_status_id          family_status\n",
       "0                 0        женат / замужем\n",
       "1                 1       гражданский брак\n",
       "2                 2         вдовец / вдова\n",
       "3                 3              в разводе\n",
       "4                 4  Не женат / не замужем"
      ]
     },
     "metadata": {},
     "output_type": "display_data"
    }
   ],
   "source": [
    "family_status_df = df[['family_status_id', 'family_status']]\n",
    "family_status_df = family_status_df.drop_duplicates().reset_index(drop=True)\n",
    "display(family_status_df)"
   ]
  },
  {
   "cell_type": "code",
   "execution_count": 42,
   "id": "32e6a29c",
   "metadata": {},
   "outputs": [
    {
     "name": "stdout",
     "output_type": "stream",
     "text": [
      "Before deleting columns:\n",
      "Index(['children', 'days_employed', 'dob_years', 'education', 'education_id',\n",
      "       'family_status', 'family_status_id', 'gender', 'income_type', 'debt',\n",
      "       'total_income', 'purpose'],\n",
      "      dtype='object')\n",
      "After deleting columns:\n"
     ]
    },
    {
     "data": {
      "text/plain": [
       "Index(['children', 'days_employed', 'dob_years', 'education_id',\n",
       "       'family_status_id', 'gender', 'income_type', 'debt', 'total_income',\n",
       "       'purpose'],\n",
       "      dtype='object')"
      ]
     },
     "execution_count": 42,
     "metadata": {},
     "output_type": "execute_result"
    }
   ],
   "source": [
    "print('Before deleting columns:')\n",
    "print(df.columns)\n",
    "df = df.drop(columns=['family_status', 'education'])\n",
    "print('After deleting columns:')\n",
    "df.columns"
   ]
  },
  {
   "cell_type": "code",
   "execution_count": 43,
   "id": "528845d7",
   "metadata": {},
   "outputs": [
    {
     "name": "stdout",
     "output_type": "stream",
     "text": [
      "<class 'pandas.core.frame.DataFrame'>\n",
      "RangeIndex: 21406 entries, 0 to 21405\n",
      "Data columns (total 10 columns):\n",
      " #   Column            Non-Null Count  Dtype  \n",
      "---  ------            --------------  -----  \n",
      " 0   children          21406 non-null  int64  \n",
      " 1   days_employed     21406 non-null  float64\n",
      " 2   dob_years         21406 non-null  int64  \n",
      " 3   education_id      21406 non-null  int64  \n",
      " 4   family_status_id  21406 non-null  int64  \n",
      " 5   gender            21406 non-null  object \n",
      " 6   income_type       21406 non-null  object \n",
      " 7   debt              21406 non-null  int64  \n",
      " 8   total_income      21406 non-null  int64  \n",
      " 9   purpose           21406 non-null  object \n",
      "dtypes: float64(1), int64(6), object(3)\n",
      "memory usage: 1.6+ MB\n"
     ]
    }
   ],
   "source": [
    "df.info()"
   ]
  },
  {
   "cell_type": "code",
   "execution_count": 44,
   "id": "7182c7b2",
   "metadata": {
    "scrolled": true
   },
   "outputs": [
    {
     "data": {
      "text/html": [
       "<div>\n",
       "<style scoped>\n",
       "    .dataframe tbody tr th:only-of-type {\n",
       "        vertical-align: middle;\n",
       "    }\n",
       "\n",
       "    .dataframe tbody tr th {\n",
       "        vertical-align: top;\n",
       "    }\n",
       "\n",
       "    .dataframe thead th {\n",
       "        text-align: right;\n",
       "    }\n",
       "</style>\n",
       "<table border=\"1\" class=\"dataframe\">\n",
       "  <thead>\n",
       "    <tr style=\"text-align: right;\">\n",
       "      <th></th>\n",
       "      <th>children</th>\n",
       "      <th>days_employed</th>\n",
       "      <th>dob_years</th>\n",
       "      <th>education_id</th>\n",
       "      <th>family_status_id</th>\n",
       "      <th>gender</th>\n",
       "      <th>income_type</th>\n",
       "      <th>debt</th>\n",
       "      <th>total_income</th>\n",
       "      <th>purpose</th>\n",
       "    </tr>\n",
       "  </thead>\n",
       "  <tbody>\n",
       "    <tr>\n",
       "      <th>21383</th>\n",
       "      <td>1</td>\n",
       "      <td>1630.019381</td>\n",
       "      <td>42</td>\n",
       "      <td>1</td>\n",
       "      <td>0</td>\n",
       "      <td>F</td>\n",
       "      <td>сотрудник</td>\n",
       "      <td>0</td>\n",
       "      <td>145017</td>\n",
       "      <td>строительство жилой недвижимости</td>\n",
       "    </tr>\n",
       "    <tr>\n",
       "      <th>19876</th>\n",
       "      <td>0</td>\n",
       "      <td>165.962325</td>\n",
       "      <td>56</td>\n",
       "      <td>0</td>\n",
       "      <td>3</td>\n",
       "      <td>F</td>\n",
       "      <td>сотрудник</td>\n",
       "      <td>0</td>\n",
       "      <td>124544</td>\n",
       "      <td>жилье</td>\n",
       "    </tr>\n",
       "    <tr>\n",
       "      <th>3052</th>\n",
       "      <td>0</td>\n",
       "      <td>1158.649207</td>\n",
       "      <td>31</td>\n",
       "      <td>1</td>\n",
       "      <td>1</td>\n",
       "      <td>F</td>\n",
       "      <td>сотрудник</td>\n",
       "      <td>0</td>\n",
       "      <td>117783</td>\n",
       "      <td>свадьба</td>\n",
       "    </tr>\n",
       "    <tr>\n",
       "      <th>7955</th>\n",
       "      <td>2</td>\n",
       "      <td>1630.019381</td>\n",
       "      <td>38</td>\n",
       "      <td>1</td>\n",
       "      <td>1</td>\n",
       "      <td>M</td>\n",
       "      <td>компаньон</td>\n",
       "      <td>0</td>\n",
       "      <td>145017</td>\n",
       "      <td>на проведение свадьбы</td>\n",
       "    </tr>\n",
       "    <tr>\n",
       "      <th>19294</th>\n",
       "      <td>0</td>\n",
       "      <td>361819.105096</td>\n",
       "      <td>54</td>\n",
       "      <td>1</td>\n",
       "      <td>1</td>\n",
       "      <td>F</td>\n",
       "      <td>пенсионер</td>\n",
       "      <td>0</td>\n",
       "      <td>113178</td>\n",
       "      <td>на проведение свадьбы</td>\n",
       "    </tr>\n",
       "    <tr>\n",
       "      <th>14284</th>\n",
       "      <td>1</td>\n",
       "      <td>1630.019381</td>\n",
       "      <td>45</td>\n",
       "      <td>1</td>\n",
       "      <td>1</td>\n",
       "      <td>F</td>\n",
       "      <td>сотрудник</td>\n",
       "      <td>0</td>\n",
       "      <td>145017</td>\n",
       "      <td>на проведение свадьбы</td>\n",
       "    </tr>\n",
       "    <tr>\n",
       "      <th>6970</th>\n",
       "      <td>0</td>\n",
       "      <td>4728.364121</td>\n",
       "      <td>38</td>\n",
       "      <td>1</td>\n",
       "      <td>1</td>\n",
       "      <td>F</td>\n",
       "      <td>сотрудник</td>\n",
       "      <td>1</td>\n",
       "      <td>179521</td>\n",
       "      <td>на проведение свадьбы</td>\n",
       "    </tr>\n",
       "    <tr>\n",
       "      <th>17240</th>\n",
       "      <td>1</td>\n",
       "      <td>419.515459</td>\n",
       "      <td>34</td>\n",
       "      <td>1</td>\n",
       "      <td>0</td>\n",
       "      <td>F</td>\n",
       "      <td>сотрудник</td>\n",
       "      <td>0</td>\n",
       "      <td>59988</td>\n",
       "      <td>покупка недвижимости</td>\n",
       "    </tr>\n",
       "    <tr>\n",
       "      <th>17577</th>\n",
       "      <td>1</td>\n",
       "      <td>882.382060</td>\n",
       "      <td>25</td>\n",
       "      <td>1</td>\n",
       "      <td>0</td>\n",
       "      <td>F</td>\n",
       "      <td>сотрудник</td>\n",
       "      <td>1</td>\n",
       "      <td>172061</td>\n",
       "      <td>заняться высшим образованием</td>\n",
       "    </tr>\n",
       "    <tr>\n",
       "      <th>17061</th>\n",
       "      <td>1</td>\n",
       "      <td>3126.486056</td>\n",
       "      <td>31</td>\n",
       "      <td>0</td>\n",
       "      <td>0</td>\n",
       "      <td>F</td>\n",
       "      <td>сотрудник</td>\n",
       "      <td>0</td>\n",
       "      <td>81054</td>\n",
       "      <td>операции с недвижимостью</td>\n",
       "    </tr>\n",
       "  </tbody>\n",
       "</table>\n",
       "</div>"
      ],
      "text/plain": [
       "       children  days_employed  dob_years  education_id  family_status_id  \\\n",
       "21383         1    1630.019381         42             1                 0   \n",
       "19876         0     165.962325         56             0                 3   \n",
       "3052          0    1158.649207         31             1                 1   \n",
       "7955          2    1630.019381         38             1                 1   \n",
       "19294         0  361819.105096         54             1                 1   \n",
       "14284         1    1630.019381         45             1                 1   \n",
       "6970          0    4728.364121         38             1                 1   \n",
       "17240         1     419.515459         34             1                 0   \n",
       "17577         1     882.382060         25             1                 0   \n",
       "17061         1    3126.486056         31             0                 0   \n",
       "\n",
       "      gender income_type  debt  total_income                           purpose  \n",
       "21383      F   сотрудник     0        145017  строительство жилой недвижимости  \n",
       "19876      F   сотрудник     0        124544                             жилье  \n",
       "3052       F   сотрудник     0        117783                           свадьба  \n",
       "7955       M   компаньон     0        145017             на проведение свадьбы  \n",
       "19294      F   пенсионер     0        113178             на проведение свадьбы  \n",
       "14284      F   сотрудник     0        145017             на проведение свадьбы  \n",
       "6970       F   сотрудник     1        179521             на проведение свадьбы  \n",
       "17240      F   сотрудник     0         59988              покупка недвижимости  \n",
       "17577      F   сотрудник     1        172061      заняться высшим образованием  \n",
       "17061      F   сотрудник     0         81054          операции с недвижимостью  "
      ]
     },
     "metadata": {},
     "output_type": "display_data"
    }
   ],
   "source": [
    "display(df.sample(10))"
   ]
  },
  {
   "cell_type": "markdown",
   "id": "d6ff47e9",
   "metadata": {},
   "source": [
    "### Шаг 2.6. Категоризация дохода."
   ]
  },
  {
   "cell_type": "markdown",
   "id": "430a51bd",
   "metadata": {},
   "source": [
    "Распределим доход по категориям:\n",
    "* 0       - 30000   Е\n",
    "* 30001   - 50000   D\n",
    "* 50001   - 200000  C\n",
    "* 201000  - 1000000 B\n",
    "* 1000001 и выше    А\n",
    "    \n",
    "Для этого напишем функцию.\n",
    "    "
   ]
  },
  {
   "cell_type": "code",
   "execution_count": 45,
   "id": "1483d480",
   "metadata": {},
   "outputs": [],
   "source": [
    "def category_income(income):\n",
    "\n",
    "    if income > 0 and income <= 30000:\n",
    "        return 'E'\n",
    "    if income <= 50000:\n",
    "        return 'D'\n",
    "    if income <= 200000:\n",
    "        return 'C'\n",
    "    if income <= 1000000:\n",
    "        return 'B'\n",
    "    else:\n",
    "        return 'A'\n"
   ]
  },
  {
   "cell_type": "code",
   "execution_count": 46,
   "id": "b3abd826",
   "metadata": {},
   "outputs": [],
   "source": [
    "df['total_income_category'] = df['total_income'].apply(category_income)"
   ]
  },
  {
   "cell_type": "code",
   "execution_count": 47,
   "id": "964d8b40",
   "metadata": {
    "scrolled": false
   },
   "outputs": [
    {
     "data": {
      "text/html": [
       "<div>\n",
       "<style scoped>\n",
       "    .dataframe tbody tr th:only-of-type {\n",
       "        vertical-align: middle;\n",
       "    }\n",
       "\n",
       "    .dataframe tbody tr th {\n",
       "        vertical-align: top;\n",
       "    }\n",
       "\n",
       "    .dataframe thead th {\n",
       "        text-align: right;\n",
       "    }\n",
       "</style>\n",
       "<table border=\"1\" class=\"dataframe\">\n",
       "  <thead>\n",
       "    <tr style=\"text-align: right;\">\n",
       "      <th></th>\n",
       "      <th>children</th>\n",
       "      <th>days_employed</th>\n",
       "      <th>dob_years</th>\n",
       "      <th>education_id</th>\n",
       "      <th>family_status_id</th>\n",
       "      <th>gender</th>\n",
       "      <th>income_type</th>\n",
       "      <th>debt</th>\n",
       "      <th>total_income</th>\n",
       "      <th>purpose</th>\n",
       "      <th>total_income_category</th>\n",
       "    </tr>\n",
       "  </thead>\n",
       "  <tbody>\n",
       "    <tr>\n",
       "      <th>16715</th>\n",
       "      <td>1</td>\n",
       "      <td>1440.877105</td>\n",
       "      <td>39</td>\n",
       "      <td>1</td>\n",
       "      <td>1</td>\n",
       "      <td>F</td>\n",
       "      <td>компаньон</td>\n",
       "      <td>0</td>\n",
       "      <td>139219</td>\n",
       "      <td>строительство жилой недвижимости</td>\n",
       "      <td>C</td>\n",
       "    </tr>\n",
       "    <tr>\n",
       "      <th>2807</th>\n",
       "      <td>0</td>\n",
       "      <td>865.002968</td>\n",
       "      <td>53</td>\n",
       "      <td>1</td>\n",
       "      <td>1</td>\n",
       "      <td>M</td>\n",
       "      <td>сотрудник</td>\n",
       "      <td>0</td>\n",
       "      <td>96090</td>\n",
       "      <td>сыграть свадьбу</td>\n",
       "      <td>C</td>\n",
       "    </tr>\n",
       "    <tr>\n",
       "      <th>10241</th>\n",
       "      <td>0</td>\n",
       "      <td>345759.794669</td>\n",
       "      <td>58</td>\n",
       "      <td>1</td>\n",
       "      <td>1</td>\n",
       "      <td>F</td>\n",
       "      <td>пенсионер</td>\n",
       "      <td>0</td>\n",
       "      <td>110879</td>\n",
       "      <td>на покупку автомобиля</td>\n",
       "      <td>C</td>\n",
       "    </tr>\n",
       "    <tr>\n",
       "      <th>15190</th>\n",
       "      <td>1</td>\n",
       "      <td>189.361998</td>\n",
       "      <td>38</td>\n",
       "      <td>1</td>\n",
       "      <td>0</td>\n",
       "      <td>F</td>\n",
       "      <td>сотрудник</td>\n",
       "      <td>0</td>\n",
       "      <td>144360</td>\n",
       "      <td>покупка коммерческой недвижимости</td>\n",
       "      <td>C</td>\n",
       "    </tr>\n",
       "    <tr>\n",
       "      <th>21331</th>\n",
       "      <td>0</td>\n",
       "      <td>353581.883314</td>\n",
       "      <td>67</td>\n",
       "      <td>1</td>\n",
       "      <td>0</td>\n",
       "      <td>F</td>\n",
       "      <td>пенсионер</td>\n",
       "      <td>0</td>\n",
       "      <td>91630</td>\n",
       "      <td>недвижимость</td>\n",
       "      <td>C</td>\n",
       "    </tr>\n",
       "    <tr>\n",
       "      <th>21398</th>\n",
       "      <td>0</td>\n",
       "      <td>404.679034</td>\n",
       "      <td>42</td>\n",
       "      <td>0</td>\n",
       "      <td>1</td>\n",
       "      <td>F</td>\n",
       "      <td>компаньон</td>\n",
       "      <td>0</td>\n",
       "      <td>178059</td>\n",
       "      <td>на покупку своего автомобиля</td>\n",
       "      <td>C</td>\n",
       "    </tr>\n",
       "    <tr>\n",
       "      <th>9854</th>\n",
       "      <td>2</td>\n",
       "      <td>3336.911681</td>\n",
       "      <td>36</td>\n",
       "      <td>0</td>\n",
       "      <td>0</td>\n",
       "      <td>M</td>\n",
       "      <td>компаньон</td>\n",
       "      <td>0</td>\n",
       "      <td>590384</td>\n",
       "      <td>высшее образование</td>\n",
       "      <td>B</td>\n",
       "    </tr>\n",
       "    <tr>\n",
       "      <th>8548</th>\n",
       "      <td>1</td>\n",
       "      <td>1552.079617</td>\n",
       "      <td>37</td>\n",
       "      <td>1</td>\n",
       "      <td>0</td>\n",
       "      <td>M</td>\n",
       "      <td>компаньон</td>\n",
       "      <td>0</td>\n",
       "      <td>182866</td>\n",
       "      <td>операции с недвижимостью</td>\n",
       "      <td>C</td>\n",
       "    </tr>\n",
       "    <tr>\n",
       "      <th>20636</th>\n",
       "      <td>0</td>\n",
       "      <td>489.531421</td>\n",
       "      <td>58</td>\n",
       "      <td>1</td>\n",
       "      <td>4</td>\n",
       "      <td>F</td>\n",
       "      <td>сотрудник</td>\n",
       "      <td>0</td>\n",
       "      <td>165691</td>\n",
       "      <td>покупка жилья для сдачи</td>\n",
       "      <td>C</td>\n",
       "    </tr>\n",
       "    <tr>\n",
       "      <th>12005</th>\n",
       "      <td>1</td>\n",
       "      <td>2229.040556</td>\n",
       "      <td>32</td>\n",
       "      <td>0</td>\n",
       "      <td>0</td>\n",
       "      <td>F</td>\n",
       "      <td>сотрудник</td>\n",
       "      <td>0</td>\n",
       "      <td>143369</td>\n",
       "      <td>образование</td>\n",
       "      <td>C</td>\n",
       "    </tr>\n",
       "  </tbody>\n",
       "</table>\n",
       "</div>"
      ],
      "text/plain": [
       "       children  days_employed  dob_years  education_id  family_status_id  \\\n",
       "16715         1    1440.877105         39             1                 1   \n",
       "2807          0     865.002968         53             1                 1   \n",
       "10241         0  345759.794669         58             1                 1   \n",
       "15190         1     189.361998         38             1                 0   \n",
       "21331         0  353581.883314         67             1                 0   \n",
       "21398         0     404.679034         42             0                 1   \n",
       "9854          2    3336.911681         36             0                 0   \n",
       "8548          1    1552.079617         37             1                 0   \n",
       "20636         0     489.531421         58             1                 4   \n",
       "12005         1    2229.040556         32             0                 0   \n",
       "\n",
       "      gender income_type  debt  total_income  \\\n",
       "16715      F   компаньон     0        139219   \n",
       "2807       M   сотрудник     0         96090   \n",
       "10241      F   пенсионер     0        110879   \n",
       "15190      F   сотрудник     0        144360   \n",
       "21331      F   пенсионер     0         91630   \n",
       "21398      F   компаньон     0        178059   \n",
       "9854       M   компаньон     0        590384   \n",
       "8548       M   компаньон     0        182866   \n",
       "20636      F   сотрудник     0        165691   \n",
       "12005      F   сотрудник     0        143369   \n",
       "\n",
       "                                 purpose total_income_category  \n",
       "16715   строительство жилой недвижимости                     C  \n",
       "2807                     сыграть свадьбу                     C  \n",
       "10241              на покупку автомобиля                     C  \n",
       "15190  покупка коммерческой недвижимости                     C  \n",
       "21331                       недвижимость                     C  \n",
       "21398       на покупку своего автомобиля                     C  \n",
       "9854                  высшее образование                     B  \n",
       "8548            операции с недвижимостью                     C  \n",
       "20636            покупка жилья для сдачи                     C  \n",
       "12005                        образование                     C  "
      ]
     },
     "metadata": {},
     "output_type": "display_data"
    }
   ],
   "source": [
    "display(df.sample(10))"
   ]
  },
  {
   "cell_type": "markdown",
   "id": "0a0e6d27",
   "metadata": {},
   "source": [
    "### Шаг 2.7. Категоризация целей кредита."
   ]
  },
  {
   "cell_type": "markdown",
   "id": "a91bf9ee",
   "metadata": {},
   "source": [
    "Также при просмотре таблицы мы обнаружили, что цели кредита встречаются одинаковые, но сформулированные поразному."
   ]
  },
  {
   "cell_type": "code",
   "execution_count": 48,
   "id": "687c1c79",
   "metadata": {},
   "outputs": [
    {
     "data": {
      "text/plain": [
       "array(['покупка жилья', 'приобретение автомобиля',\n",
       "       'дополнительное образование', 'сыграть свадьбу',\n",
       "       'операции с жильем', 'образование', 'на проведение свадьбы',\n",
       "       'покупка жилья для семьи', 'покупка недвижимости',\n",
       "       'покупка коммерческой недвижимости', 'покупка жилой недвижимости',\n",
       "       'строительство собственной недвижимости', 'недвижимость',\n",
       "       'строительство недвижимости', 'на покупку подержанного автомобиля',\n",
       "       'на покупку своего автомобиля',\n",
       "       'операции с коммерческой недвижимостью',\n",
       "       'строительство жилой недвижимости', 'жилье',\n",
       "       'операции со своей недвижимостью', 'автомобили',\n",
       "       'заняться образованием', 'сделка с подержанным автомобилем',\n",
       "       'получение образования', 'автомобиль', 'свадьба',\n",
       "       'получение дополнительного образования', 'покупка своего жилья',\n",
       "       'операции с недвижимостью', 'получение высшего образования',\n",
       "       'свой автомобиль', 'сделка с автомобилем',\n",
       "       'профильное образование', 'высшее образование',\n",
       "       'покупка жилья для сдачи', 'на покупку автомобиля', 'ремонт жилью',\n",
       "       'заняться высшим образованием'], dtype=object)"
      ]
     },
     "execution_count": 48,
     "metadata": {},
     "output_type": "execute_result"
    }
   ],
   "source": [
    "df['purpose'].unique()"
   ]
  },
  {
   "cell_type": "markdown",
   "id": "79a80044",
   "metadata": {},
   "source": [
    "Сгруппируем их следующим образом:\n",
    "\n",
    "\n",
    "* 'проведение свадьбы' : \n",
    "        свадьба, на проведение свадьбы, сыграть свадьбу\n",
    "\n",
    "* 'операции с недвижимостью': \n",
    "        операции с недвижимостью, недвижимость, операции со своей недвижимостью, \n",
    "        покупка недвижимости, строительство собственной недвижимости, строительство недвижимости, \n",
    "        операции с коммерческой недвижимостью, покупка коммерческой недвижимости, операции с жильем,\n",
    "        жилье,  ремонт жилью, покупка жилья для сдачи, покупка жилья, покупка жилья для семьи,\n",
    "        покупка своего жилья, покупка жилой недвижимости, строительство жилой недвижимости\n",
    "\n",
    "* 'операции с автомобилем': \n",
    "        автомобиль, автомобили, сделка с автомобилем, на покупку своего автомобиля,\n",
    "        на покупку автомобиля, приобретение автомобиля, свой автомобиль, \n",
    "        сделка с подержанным автомобилем, на покупку подержанного автомобиля\n",
    "\n",
    "* 'получение образования': \n",
    "        образование, получение образования, заняться образованием,\n",
    "        заняться высшим образованием, высшее образование, получение высшего образования,\n",
    "        дополнительное образование, получение дополнительного образования, профильное образование\n",
    "\n"
   ]
  },
  {
   "cell_type": "code",
   "execution_count": 49,
   "id": "189c76cf",
   "metadata": {},
   "outputs": [],
   "source": [
    "def get_key(word):\n",
    "    all_dict = { \n",
    "    'проведение свадьбы': ['свадьба', 'на проведение свадьбы', 'сыграть свадьбу'],\n",
    "    'операции с недвижимостью': ['операции с недвижимостью', 'недвижимость', 'операции со своей недвижимостью', 'покупка недвижимости', 'строительство собственной недвижимости', 'строительство недвижимости', 'операции с коммерческой недвижимостью', 'покупка коммерческой недвижимости', 'операции с жильем', 'жилье', 'ремонт жилью','покупка жилья для сдачи', 'покупка жилья', 'покупка жилья для семьи', 'покупка своего жилья', 'покупка жилой недвижимости', 'строительство жилой недвижимости'],\n",
    "    'операции с автомобилем': ['автомобиль', 'автомобили', 'сделка с автомобилем', 'на покупку своего автомобиля', 'на покупку автомобиля', 'приобретение автомобиля', 'свой автомобиль', 'сделка с подержанным автомобилем', 'на покупку подержанного автомобиля'],\n",
    "    'получение образования': ['образование', 'получение образования', 'заняться образованием', 'заняться высшим образованием', 'высшее образование', 'получение высшего образования', 'дополнительное образование', 'получение дополнительного образования', 'профильное образование']\n",
    "           }\n",
    "    \n",
    "    for item in all_dict.items():\n",
    "        if word in item[1]:\n",
    "            return item[0]\n",
    "        \n"
   ]
  },
  {
   "cell_type": "markdown",
   "id": "479dc37f",
   "metadata": {},
   "source": [
    "Применим эту функцию к столбцу с целью и создадим по результатам стобец с категориями назначения кредита."
   ]
  },
  {
   "cell_type": "code",
   "execution_count": 50,
   "id": "3d691d85",
   "metadata": {
    "scrolled": false
   },
   "outputs": [
    {
     "data": {
      "text/html": [
       "<div>\n",
       "<style scoped>\n",
       "    .dataframe tbody tr th:only-of-type {\n",
       "        vertical-align: middle;\n",
       "    }\n",
       "\n",
       "    .dataframe tbody tr th {\n",
       "        vertical-align: top;\n",
       "    }\n",
       "\n",
       "    .dataframe thead th {\n",
       "        text-align: right;\n",
       "    }\n",
       "</style>\n",
       "<table border=\"1\" class=\"dataframe\">\n",
       "  <thead>\n",
       "    <tr style=\"text-align: right;\">\n",
       "      <th></th>\n",
       "      <th>children</th>\n",
       "      <th>days_employed</th>\n",
       "      <th>dob_years</th>\n",
       "      <th>education_id</th>\n",
       "      <th>family_status_id</th>\n",
       "      <th>gender</th>\n",
       "      <th>income_type</th>\n",
       "      <th>debt</th>\n",
       "      <th>total_income</th>\n",
       "      <th>purpose</th>\n",
       "      <th>total_income_category</th>\n",
       "      <th>purpose_category</th>\n",
       "    </tr>\n",
       "  </thead>\n",
       "  <tbody>\n",
       "    <tr>\n",
       "      <th>19100</th>\n",
       "      <td>0</td>\n",
       "      <td>4523.025618</td>\n",
       "      <td>40</td>\n",
       "      <td>1</td>\n",
       "      <td>0</td>\n",
       "      <td>F</td>\n",
       "      <td>сотрудник</td>\n",
       "      <td>0</td>\n",
       "      <td>109112</td>\n",
       "      <td>покупка жилой недвижимости</td>\n",
       "      <td>C</td>\n",
       "      <td>операции с недвижимостью</td>\n",
       "    </tr>\n",
       "    <tr>\n",
       "      <th>15123</th>\n",
       "      <td>0</td>\n",
       "      <td>401556.753550</td>\n",
       "      <td>68</td>\n",
       "      <td>0</td>\n",
       "      <td>1</td>\n",
       "      <td>F</td>\n",
       "      <td>пенсионер</td>\n",
       "      <td>0</td>\n",
       "      <td>231820</td>\n",
       "      <td>свадьба</td>\n",
       "      <td>B</td>\n",
       "      <td>проведение свадьбы</td>\n",
       "    </tr>\n",
       "    <tr>\n",
       "      <th>17310</th>\n",
       "      <td>0</td>\n",
       "      <td>353630.280094</td>\n",
       "      <td>64</td>\n",
       "      <td>1</td>\n",
       "      <td>3</td>\n",
       "      <td>F</td>\n",
       "      <td>пенсионер</td>\n",
       "      <td>0</td>\n",
       "      <td>305552</td>\n",
       "      <td>автомобили</td>\n",
       "      <td>B</td>\n",
       "      <td>операции с автомобилем</td>\n",
       "    </tr>\n",
       "    <tr>\n",
       "      <th>5550</th>\n",
       "      <td>1</td>\n",
       "      <td>2917.701025</td>\n",
       "      <td>52</td>\n",
       "      <td>2</td>\n",
       "      <td>1</td>\n",
       "      <td>F</td>\n",
       "      <td>сотрудник</td>\n",
       "      <td>1</td>\n",
       "      <td>200065</td>\n",
       "      <td>операции со своей недвижимостью</td>\n",
       "      <td>B</td>\n",
       "      <td>операции с недвижимостью</td>\n",
       "    </tr>\n",
       "    <tr>\n",
       "      <th>11934</th>\n",
       "      <td>1</td>\n",
       "      <td>245.303228</td>\n",
       "      <td>41</td>\n",
       "      <td>1</td>\n",
       "      <td>0</td>\n",
       "      <td>M</td>\n",
       "      <td>компаньон</td>\n",
       "      <td>1</td>\n",
       "      <td>64110</td>\n",
       "      <td>автомобили</td>\n",
       "      <td>C</td>\n",
       "      <td>операции с автомобилем</td>\n",
       "    </tr>\n",
       "    <tr>\n",
       "      <th>1198</th>\n",
       "      <td>0</td>\n",
       "      <td>788.099826</td>\n",
       "      <td>49</td>\n",
       "      <td>1</td>\n",
       "      <td>0</td>\n",
       "      <td>F</td>\n",
       "      <td>сотрудник</td>\n",
       "      <td>0</td>\n",
       "      <td>201270</td>\n",
       "      <td>строительство собственной недвижимости</td>\n",
       "      <td>B</td>\n",
       "      <td>операции с недвижимостью</td>\n",
       "    </tr>\n",
       "    <tr>\n",
       "      <th>14630</th>\n",
       "      <td>0</td>\n",
       "      <td>372846.154365</td>\n",
       "      <td>62</td>\n",
       "      <td>1</td>\n",
       "      <td>0</td>\n",
       "      <td>F</td>\n",
       "      <td>пенсионер</td>\n",
       "      <td>0</td>\n",
       "      <td>286471</td>\n",
       "      <td>строительство жилой недвижимости</td>\n",
       "      <td>B</td>\n",
       "      <td>операции с недвижимостью</td>\n",
       "    </tr>\n",
       "    <tr>\n",
       "      <th>944</th>\n",
       "      <td>0</td>\n",
       "      <td>2215.795751</td>\n",
       "      <td>35</td>\n",
       "      <td>1</td>\n",
       "      <td>1</td>\n",
       "      <td>M</td>\n",
       "      <td>сотрудник</td>\n",
       "      <td>0</td>\n",
       "      <td>209263</td>\n",
       "      <td>свадьба</td>\n",
       "      <td>B</td>\n",
       "      <td>проведение свадьбы</td>\n",
       "    </tr>\n",
       "    <tr>\n",
       "      <th>20438</th>\n",
       "      <td>1</td>\n",
       "      <td>2635.891154</td>\n",
       "      <td>32</td>\n",
       "      <td>1</td>\n",
       "      <td>0</td>\n",
       "      <td>F</td>\n",
       "      <td>сотрудник</td>\n",
       "      <td>0</td>\n",
       "      <td>70582</td>\n",
       "      <td>жилье</td>\n",
       "      <td>C</td>\n",
       "      <td>операции с недвижимостью</td>\n",
       "    </tr>\n",
       "    <tr>\n",
       "      <th>6179</th>\n",
       "      <td>20</td>\n",
       "      <td>1630.019381</td>\n",
       "      <td>35</td>\n",
       "      <td>0</td>\n",
       "      <td>4</td>\n",
       "      <td>M</td>\n",
       "      <td>компаньон</td>\n",
       "      <td>0</td>\n",
       "      <td>145017</td>\n",
       "      <td>жилье</td>\n",
       "      <td>C</td>\n",
       "      <td>операции с недвижимостью</td>\n",
       "    </tr>\n",
       "  </tbody>\n",
       "</table>\n",
       "</div>"
      ],
      "text/plain": [
       "       children  days_employed  dob_years  education_id  family_status_id  \\\n",
       "19100         0    4523.025618         40             1                 0   \n",
       "15123         0  401556.753550         68             0                 1   \n",
       "17310         0  353630.280094         64             1                 3   \n",
       "5550          1    2917.701025         52             2                 1   \n",
       "11934         1     245.303228         41             1                 0   \n",
       "1198          0     788.099826         49             1                 0   \n",
       "14630         0  372846.154365         62             1                 0   \n",
       "944           0    2215.795751         35             1                 1   \n",
       "20438         1    2635.891154         32             1                 0   \n",
       "6179         20    1630.019381         35             0                 4   \n",
       "\n",
       "      gender income_type  debt  total_income  \\\n",
       "19100      F   сотрудник     0        109112   \n",
       "15123      F   пенсионер     0        231820   \n",
       "17310      F   пенсионер     0        305552   \n",
       "5550       F   сотрудник     1        200065   \n",
       "11934      M   компаньон     1         64110   \n",
       "1198       F   сотрудник     0        201270   \n",
       "14630      F   пенсионер     0        286471   \n",
       "944        M   сотрудник     0        209263   \n",
       "20438      F   сотрудник     0         70582   \n",
       "6179       M   компаньон     0        145017   \n",
       "\n",
       "                                      purpose total_income_category  \\\n",
       "19100              покупка жилой недвижимости                     C   \n",
       "15123                                 свадьба                     B   \n",
       "17310                              автомобили                     B   \n",
       "5550          операции со своей недвижимостью                     B   \n",
       "11934                              автомобили                     C   \n",
       "1198   строительство собственной недвижимости                     B   \n",
       "14630        строительство жилой недвижимости                     B   \n",
       "944                                   свадьба                     B   \n",
       "20438                                   жилье                     C   \n",
       "6179                                    жилье                     C   \n",
       "\n",
       "               purpose_category  \n",
       "19100  операции с недвижимостью  \n",
       "15123        проведение свадьбы  \n",
       "17310    операции с автомобилем  \n",
       "5550   операции с недвижимостью  \n",
       "11934    операции с автомобилем  \n",
       "1198   операции с недвижимостью  \n",
       "14630  операции с недвижимостью  \n",
       "944          проведение свадьбы  \n",
       "20438  операции с недвижимостью  \n",
       "6179   операции с недвижимостью  "
      ]
     },
     "execution_count": 50,
     "metadata": {},
     "output_type": "execute_result"
    }
   ],
   "source": [
    "df['purpose_category'] = df['purpose'].apply(get_key)\n",
    "df.sample(10)"
   ]
  },
  {
   "cell_type": "markdown",
   "id": "e10f9b76",
   "metadata": {},
   "source": [
    "### Ответы на вопросы."
   ]
  },
  {
   "cell_type": "markdown",
   "id": "5a717939",
   "metadata": {},
   "source": [
    "##### Вопрос 1:"
   ]
  },
  {
   "cell_type": "markdown",
   "id": "b46883e3",
   "metadata": {},
   "source": [
    "**Есть ли зависимость между количеством детей и возвратом кредита в срок**"
   ]
  },
  {
   "cell_type": "code",
   "execution_count": 51,
   "id": "33076f79",
   "metadata": {},
   "outputs": [
    {
     "data": {
      "text/plain": [
       "children\n",
       "0     1063\n",
       "1      444\n",
       "2      194\n",
       "3       27\n",
       "4        4\n",
       "5        0\n",
       "20       8\n",
       "Name: debt, dtype: int64"
      ]
     },
     "execution_count": 51,
     "metadata": {},
     "output_type": "execute_result"
    }
   ],
   "source": [
    "children_debt = df.groupby('children')['debt'].sum()\n",
    "children_debt"
   ]
  },
  {
   "cell_type": "code",
   "execution_count": 52,
   "id": "2ffb1a37",
   "metadata": {},
   "outputs": [
    {
     "data": {
      "text/plain": [
       "children\n",
       "0     14090\n",
       "1      4808\n",
       "2      2052\n",
       "3       330\n",
       "4        41\n",
       "5         9\n",
       "20       76\n",
       "Name: debt, dtype: int64"
      ]
     },
     "execution_count": 52,
     "metadata": {},
     "output_type": "execute_result"
    }
   ],
   "source": [
    "children_all = df.groupby('children')['debt'].count()\n",
    "children_all"
   ]
  },
  {
   "cell_type": "code",
   "execution_count": 53,
   "id": "affc4afe",
   "metadata": {},
   "outputs": [
    {
     "data": {
      "text/plain": [
       "children\n",
       "5      0.000000\n",
       "0      7.544358\n",
       "3      8.181818\n",
       "1      9.234609\n",
       "2      9.454191\n",
       "4      9.756098\n",
       "20    10.526316\n",
       "Name: debt, dtype: float64"
      ]
     },
     "execution_count": 53,
     "metadata": {},
     "output_type": "execute_result"
    }
   ],
   "source": [
    "children_debt_conversion = children_debt * 100 / children_all\n",
    "children_debt_conversion.sort_values()    # считаем конверсию - процент задолженностей в общем количестве кредитов"
   ]
  },
  {
   "cell_type": "code",
   "execution_count": 72,
   "id": "338df350",
   "metadata": {
    "scrolled": true
   },
   "outputs": [
    {
     "data": {
      "image/png": "[encoded data removed]",
      "text/plain": [
       "<Figure size 432x288 with 1 Axes>"
      ]
     },
     "metadata": {
      "needs_background": "light"
     },
     "output_type": "display_data"
    }
   ],
   "source": [
    "ax = children_debt_conversion.plot.bar(x='children', y='%', rot=0)\n",
    "ax.set_ylabel('Доля должников')\n",
    "ax.set_xlabel('Количество детей');"
   ]
  },
  {
   "cell_type": "markdown",
   "id": "37dfc756",
   "metadata": {},
   "source": [
    "##### Вывод 1:"
   ]
  },
  {
   "cell_type": "markdown",
   "id": "49a52964",
   "metadata": {},
   "source": [
    "Количество задолженностей по кредиту колеблется от 7,5 до 10,5%, вероятней всего кредит отдадут те, у кого нет детей или их трое, вероятнее не отдадут те, у кого 20 детей. Для родителей 1, 2 и 4 разницы особой нет, задолженность будет в районе 9,5 % у всех. Про кредиторов с пятью детьми надо собрать больше информации, потому что значение сильно отличается от общей тенденции."
   ]
  },
  {
   "cell_type": "markdown",
   "id": "80095c98",
   "metadata": {},
   "source": [
    "##### Вопрос 2:"
   ]
  },
  {
   "cell_type": "markdown",
   "id": "fbdccadb",
   "metadata": {},
   "source": [
    "**Есть ли зависимость между семейным положением и возвратом кредита в срок?**"
   ]
  },
  {
   "cell_type": "code",
   "execution_count": 55,
   "id": "f7250904",
   "metadata": {},
   "outputs": [
    {
     "data": {
      "text/plain": [
       "family_status_id\n",
       "0    930\n",
       "1    388\n",
       "2     63\n",
       "3     85\n",
       "4    274\n",
       "Name: debt, dtype: int64"
      ]
     },
     "execution_count": 55,
     "metadata": {},
     "output_type": "execute_result"
    }
   ],
   "source": [
    "family_debt = df.groupby('family_status_id')['debt'].sum()\n",
    "family_debt"
   ]
  },
  {
   "cell_type": "code",
   "execution_count": 56,
   "id": "f8a859a0",
   "metadata": {},
   "outputs": [
    {
     "data": {
      "text/html": [
       "<div>\n",
       "<style scoped>\n",
       "    .dataframe tbody tr th:only-of-type {\n",
       "        vertical-align: middle;\n",
       "    }\n",
       "\n",
       "    .dataframe tbody tr th {\n",
       "        vertical-align: top;\n",
       "    }\n",
       "\n",
       "    .dataframe thead th {\n",
       "        text-align: right;\n",
       "    }\n",
       "</style>\n",
       "<table border=\"1\" class=\"dataframe\">\n",
       "  <thead>\n",
       "    <tr style=\"text-align: right;\">\n",
       "      <th></th>\n",
       "      <th>family_status_id</th>\n",
       "      <th>family_status</th>\n",
       "      <th>conversion</th>\n",
       "    </tr>\n",
       "  </thead>\n",
       "  <tbody>\n",
       "    <tr>\n",
       "      <th>2</th>\n",
       "      <td>2</td>\n",
       "      <td>вдовец / вдова</td>\n",
       "      <td>6.596859</td>\n",
       "    </tr>\n",
       "    <tr>\n",
       "      <th>3</th>\n",
       "      <td>3</td>\n",
       "      <td>в разводе</td>\n",
       "      <td>7.136860</td>\n",
       "    </tr>\n",
       "    <tr>\n",
       "      <th>0</th>\n",
       "      <td>0</td>\n",
       "      <td>женат / замужем</td>\n",
       "      <td>7.554833</td>\n",
       "    </tr>\n",
       "    <tr>\n",
       "      <th>1</th>\n",
       "      <td>1</td>\n",
       "      <td>гражданский брак</td>\n",
       "      <td>9.360676</td>\n",
       "    </tr>\n",
       "    <tr>\n",
       "      <th>4</th>\n",
       "      <td>4</td>\n",
       "      <td>Не женат / не замужем</td>\n",
       "      <td>9.768271</td>\n",
       "    </tr>\n",
       "  </tbody>\n",
       "</table>\n",
       "</div>"
      ],
      "text/plain": [
       "   family_status_id          family_status  conversion\n",
       "2                 2         вдовец / вдова    6.596859\n",
       "3                 3              в разводе    7.136860\n",
       "0                 0        женат / замужем    7.554833\n",
       "1                 1       гражданский брак    9.360676\n",
       "4                 4  Не женат / не замужем    9.768271"
      ]
     },
     "execution_count": 56,
     "metadata": {},
     "output_type": "execute_result"
    }
   ],
   "source": [
    "family_status_debt = family_status_df.copy(deep=True)\n",
    "family_all = df.groupby('family_status_id')['debt'].count()\n",
    "family_status_debt['conversion'] = family_debt * 100 / family_all\n",
    "family_status_debt.sort_values(by='conversion')"
   ]
  },
  {
   "cell_type": "code",
   "execution_count": 57,
   "id": "fb93916a",
   "metadata": {},
   "outputs": [
    {
     "data": {
      "image/png": "[encoded data removed]",
      "text/plain": [
       "<Figure size 432x288 with 1 Axes>"
      ]
     },
     "metadata": {
      "needs_background": "light"
     },
     "output_type": "display_data"
    }
   ],
   "source": [
    "ax = family_status_debt.plot.bar(x='family_status', y='conversion', rot=45)"
   ]
  },
  {
   "cell_type": "markdown",
   "id": "b01996e7",
   "metadata": {},
   "source": [
    "##### Вывод 2:"
   ]
  },
  {
   "cell_type": "markdown",
   "id": "063528c4",
   "metadata": {},
   "source": [
    "Наблюдается разброс значений от 6,5 до 9,7 %. Реже всех в должниках ходят вдовцы, средняя категория - в разводе и женатые, а чаще задерживают выплаты свободные граждане."
   ]
  },
  {
   "cell_type": "markdown",
   "id": "bd857c4e",
   "metadata": {},
   "source": [
    "##### Вопрос 3:"
   ]
  },
  {
   "cell_type": "markdown",
   "id": "bd9062d6",
   "metadata": {},
   "source": [
    "**Есть ли зависимость между уровнем дохода и возвратом кредита в срок?**"
   ]
  },
  {
   "cell_type": "code",
   "execution_count": 58,
   "id": "9a2b52fe",
   "metadata": {},
   "outputs": [
    {
     "data": {
      "text/plain": [
       "total_income_category\n",
       "A       2\n",
       "B     356\n",
       "C    1359\n",
       "D      21\n",
       "E       2\n",
       "Name: debt, dtype: int64"
      ]
     },
     "execution_count": 58,
     "metadata": {},
     "output_type": "execute_result"
    }
   ],
   "source": [
    "total_income_debt = df.groupby('total_income_category')['debt'].sum()\n",
    "total_income_debt"
   ]
  },
  {
   "cell_type": "code",
   "execution_count": 59,
   "id": "265933f5",
   "metadata": {},
   "outputs": [
    {
     "data": {
      "text/plain": [
       "total_income_category\n",
       "A       25\n",
       "B     5033\n",
       "C    15977\n",
       "D      349\n",
       "E       22\n",
       "Name: debt, dtype: int64"
      ]
     },
     "execution_count": 59,
     "metadata": {},
     "output_type": "execute_result"
    }
   ],
   "source": [
    "total_income_debt_all = df.groupby('total_income_category')['debt'].count()\n",
    "total_income_debt_all"
   ]
  },
  {
   "cell_type": "code",
   "execution_count": 60,
   "id": "c4a10fbe",
   "metadata": {},
   "outputs": [
    {
     "data": {
      "text/plain": [
       "total_income_category\n",
       "D    6.017192\n",
       "B    7.073316\n",
       "A    8.000000\n",
       "C    8.505977\n",
       "E    9.090909\n",
       "Name: debt, dtype: float64"
      ]
     },
     "execution_count": 60,
     "metadata": {},
     "output_type": "execute_result"
    }
   ],
   "source": [
    "total_income_debt_conversion = total_income_debt*100/total_income_debt_all\n",
    "total_income_debt_conversion.sort_values()"
   ]
  },
  {
   "cell_type": "code",
   "execution_count": 61,
   "id": "383fc669",
   "metadata": {},
   "outputs": [
    {
     "data": {
      "image/png": "[encoded data removed]",
      "text/plain": [
       "<Figure size 432x288 with 1 Axes>"
      ]
     },
     "metadata": {
      "needs_background": "light"
     },
     "output_type": "display_data"
    }
   ],
   "source": [
    "ax = total_income_debt_conversion.plot.bar(x='total_income_category', y='%', rot=0)"
   ]
  },
  {
   "cell_type": "markdown",
   "id": "a1bd6d46",
   "metadata": {},
   "source": [
    "##### Вывод 3:"
   ]
  },
  {
   "cell_type": "markdown",
   "id": "819e28c5",
   "metadata": {},
   "source": [
    "Разброс значений от 6 до 9%. Вероятнее всего задолжают кредиторы с доходом ниже 30000 р. Удивляет средний класс С и самые состоятельные люди, которые не сильно отстают от самых бедных и задерживают выплаты по кредитам. Самые благонадёжные кредиторы - с доходом в диапазоне 30-60 тысяч рублей (?рублей?)."
   ]
  },
  {
   "cell_type": "markdown",
   "id": "eb4c34aa",
   "metadata": {},
   "source": [
    "##### Вопрос 4:"
   ]
  },
  {
   "cell_type": "markdown",
   "id": "5ea37aad",
   "metadata": {},
   "source": [
    "**Как разные цели кредита влияют на его возврат в срок?**"
   ]
  },
  {
   "cell_type": "code",
   "execution_count": 62,
   "id": "540d4b4e",
   "metadata": {},
   "outputs": [
    {
     "data": {
      "text/plain": [
       "purpose_category\n",
       "операции с автомобилем      402\n",
       "операции с недвижимостью    782\n",
       "получение образования       370\n",
       "проведение свадьбы          186\n",
       "Name: debt, dtype: int64"
      ]
     },
     "execution_count": 62,
     "metadata": {},
     "output_type": "execute_result"
    }
   ],
   "source": [
    "purpose_category_debt = df.groupby('purpose_category')['debt'].sum()\n",
    "purpose_category_debt"
   ]
  },
  {
   "cell_type": "code",
   "execution_count": 63,
   "id": "5e104ff3",
   "metadata": {},
   "outputs": [
    {
     "data": {
      "text/plain": [
       "purpose_category\n",
       "операции с автомобилем       4295\n",
       "операции с недвижимостью    10787\n",
       "получение образования        4003\n",
       "проведение свадьбы           2321\n",
       "Name: debt, dtype: int64"
      ]
     },
     "execution_count": 63,
     "metadata": {},
     "output_type": "execute_result"
    }
   ],
   "source": [
    "purpose_category_debt_all = df.groupby('purpose_category')['debt'].count()\n",
    "purpose_category_debt_all"
   ]
  },
  {
   "cell_type": "code",
   "execution_count": 64,
   "id": "7f950bd2",
   "metadata": {},
   "outputs": [
    {
     "data": {
      "text/plain": [
       "purpose_category\n",
       "операции с недвижимостью    7.249467\n",
       "проведение свадьбы          8.013787\n",
       "получение образования       9.243068\n",
       "операции с автомобилем      9.359721\n",
       "Name: debt, dtype: float64"
      ]
     },
     "execution_count": 64,
     "metadata": {},
     "output_type": "execute_result"
    }
   ],
   "source": [
    "purpose_category_debt_conversion = purpose_category_debt*100/purpose_category_debt_all\n",
    "purpose_category_debt_conversion.sort_values()"
   ]
  },
  {
   "cell_type": "code",
   "execution_count": 65,
   "id": "ef836ecb",
   "metadata": {},
   "outputs": [
    {
     "data": {
      "image/png": "[encoded data removed]",
      "text/plain": [
       "<Figure size 432x288 with 1 Axes>"
      ]
     },
     "metadata": {
      "needs_background": "light"
     },
     "output_type": "display_data"
    }
   ],
   "source": [
    "ax = purpose_category_debt_conversion.plot.bar(x='purpose_category',  rot=45)"
   ]
  },
  {
   "cell_type": "markdown",
   "id": "f08a0b3c",
   "metadata": {},
   "source": [
    "##### Вывод 4:"
   ]
  },
  {
   "cell_type": "markdown",
   "id": "071d9b6b",
   "metadata": {},
   "source": [
    "Разброс значений от 7,2 до 9,3%. Задолженности чаще случаются по кредитам на автомобиль и образование, а на недвижимость - реже всего."
   ]
  },
  {
   "cell_type": "markdown",
   "id": "53bff9e5",
   "metadata": {},
   "source": [
    "## Общий вывод:"
   ]
  },
  {
   "cell_type": "markdown",
   "id": "619e15e5",
   "metadata": {},
   "source": [
    "Мы видим, что разница между категориями, какие бы ни взяли, составляет 2-3 %. Mожно говорить о зависимостях между задолженностью по кредиту и предложенными к рассмотрению параметрами.\n",
    "Лучший заёмщик, который скорее всего будет вносить оплату по кредиту в срок, это бездетный вдовец с доходом ниже 30000 рублей, решивший купить квартиру. Многодетная (4 или 20 детей) одинокая мать с доходом от 30 до 50 тысяч рублей, решившая купить автомобиль, будет чаще других задерживать выплаты."
   ]
  }
 ],
 "metadata": {
  "ExecuteTimeLog": [
   {
    "duration": 120,
    "start_time": "2022-04-12T08:47:19.039Z"
   },
   {
    "duration": 466,
    "start_time": "2022-04-12T08:47:30.337Z"
   },
   {
    "duration": 76,
    "start_time": "2022-04-12T08:47:37.089Z"
   },
   {
    "duration": 21,
    "start_time": "2022-04-12T09:31:07.395Z"
   },
   {
    "duration": 12,
    "start_time": "2022-04-12T09:34:38.732Z"
   },
   {
    "duration": 12,
    "start_time": "2022-04-12T09:36:19.110Z"
   },
   {
    "duration": 21,
    "start_time": "2022-04-12T09:36:32.101Z"
   },
   {
    "duration": 13,
    "start_time": "2022-04-12T09:37:00.056Z"
   },
   {
    "duration": 5,
    "start_time": "2022-04-12T09:38:49.160Z"
   },
   {
    "duration": 4,
    "start_time": "2022-04-12T09:39:04.619Z"
   },
   {
    "duration": 5,
    "start_time": "2022-04-12T09:39:22.817Z"
   },
   {
    "duration": 5,
    "start_time": "2022-04-12T09:39:57.882Z"
   },
   {
    "duration": 5,
    "start_time": "2022-04-12T09:41:38.607Z"
   },
   {
    "duration": 1013,
    "start_time": "2022-04-12T09:46:40.427Z"
   },
   {
    "duration": 14,
    "start_time": "2022-04-12T09:47:37.095Z"
   },
   {
    "duration": 15,
    "start_time": "2022-04-12T09:48:13.825Z"
   },
   {
    "duration": 176,
    "start_time": "2022-04-12T09:48:25.085Z"
   },
   {
    "duration": 210,
    "start_time": "2022-04-12T09:49:38.796Z"
   },
   {
    "duration": 17,
    "start_time": "2022-04-12T12:36:46.784Z"
   },
   {
    "duration": 26,
    "start_time": "2022-04-12T12:36:56.760Z"
   },
   {
    "duration": 12,
    "start_time": "2022-04-12T12:38:27.326Z"
   },
   {
    "duration": 21,
    "start_time": "2022-04-12T12:38:32.699Z"
   },
   {
    "duration": 22,
    "start_time": "2022-04-12T12:40:30.706Z"
   },
   {
    "duration": 20,
    "start_time": "2022-04-12T12:43:41.731Z"
   },
   {
    "duration": 27,
    "start_time": "2022-04-12T12:44:35.642Z"
   },
   {
    "duration": 26,
    "start_time": "2022-04-12T12:44:50.183Z"
   },
   {
    "duration": 19,
    "start_time": "2022-04-12T12:45:34.230Z"
   },
   {
    "duration": 26,
    "start_time": "2022-04-12T12:45:56.987Z"
   },
   {
    "duration": 9,
    "start_time": "2022-04-12T12:48:05.821Z"
   },
   {
    "duration": 18,
    "start_time": "2022-04-12T12:48:17.320Z"
   },
   {
    "duration": 10,
    "start_time": "2022-04-12T12:48:40.493Z"
   },
   {
    "duration": 11,
    "start_time": "2022-04-12T12:57:08.514Z"
   },
   {
    "duration": 10,
    "start_time": "2022-04-12T12:57:22.063Z"
   },
   {
    "duration": 8,
    "start_time": "2022-04-12T12:57:31.870Z"
   },
   {
    "duration": 8,
    "start_time": "2022-04-12T12:59:16.417Z"
   },
   {
    "duration": 6,
    "start_time": "2022-04-12T12:59:19.269Z"
   },
   {
    "duration": 8,
    "start_time": "2022-04-12T12:59:20.495Z"
   },
   {
    "duration": 8,
    "start_time": "2022-04-12T12:59:23.287Z"
   },
   {
    "duration": 9,
    "start_time": "2022-04-12T12:59:24.851Z"
   },
   {
    "duration": 9,
    "start_time": "2022-04-12T12:59:44.618Z"
   },
   {
    "duration": 14,
    "start_time": "2022-04-12T13:08:59.297Z"
   },
   {
    "duration": 107,
    "start_time": "2022-04-12T13:13:43.855Z"
   },
   {
    "duration": 15,
    "start_time": "2022-04-12T13:14:03.864Z"
   },
   {
    "duration": 16,
    "start_time": "2022-04-12T13:14:25.735Z"
   },
   {
    "duration": 18,
    "start_time": "2022-04-12T13:15:31.882Z"
   },
   {
    "duration": 6,
    "start_time": "2022-04-12T13:27:09.259Z"
   },
   {
    "duration": 113,
    "start_time": "2022-04-12T13:31:35.804Z"
   },
   {
    "duration": 7,
    "start_time": "2022-04-12T13:32:31.397Z"
   },
   {
    "duration": 8,
    "start_time": "2022-04-12T13:32:43.054Z"
   },
   {
    "duration": 17,
    "start_time": "2022-04-12T13:36:40.049Z"
   },
   {
    "duration": 21,
    "start_time": "2022-04-12T13:38:27.803Z"
   },
   {
    "duration": 22,
    "start_time": "2022-04-12T13:40:39.569Z"
   },
   {
    "duration": 16,
    "start_time": "2022-04-12T13:41:22.329Z"
   },
   {
    "duration": 16,
    "start_time": "2022-04-12T13:41:25.384Z"
   },
   {
    "duration": 15,
    "start_time": "2022-04-12T13:41:45.200Z"
   },
   {
    "duration": 10,
    "start_time": "2022-04-12T13:42:27.771Z"
   },
   {
    "duration": 140,
    "start_time": "2022-04-12T13:42:45.823Z"
   },
   {
    "duration": 13,
    "start_time": "2022-04-12T13:42:58.006Z"
   },
   {
    "duration": 21,
    "start_time": "2022-04-12T13:47:54.843Z"
   },
   {
    "duration": 23,
    "start_time": "2022-04-12T13:48:11.544Z"
   },
   {
    "duration": 22,
    "start_time": "2022-04-12T13:49:04.248Z"
   },
   {
    "duration": 30,
    "start_time": "2022-04-12T13:49:25.264Z"
   },
   {
    "duration": 16,
    "start_time": "2022-04-12T13:49:31.457Z"
   },
   {
    "duration": 14,
    "start_time": "2022-04-12T13:50:00.447Z"
   },
   {
    "duration": 8,
    "start_time": "2022-04-12T13:50:14.984Z"
   },
   {
    "duration": 5,
    "start_time": "2022-04-12T13:50:44.865Z"
   },
   {
    "duration": 15,
    "start_time": "2022-04-12T13:54:45.122Z"
   },
   {
    "duration": 7,
    "start_time": "2022-04-12T13:54:55.375Z"
   },
   {
    "duration": 14,
    "start_time": "2022-04-12T13:58:13.383Z"
   },
   {
    "duration": 21,
    "start_time": "2022-04-12T13:58:47.808Z"
   },
   {
    "duration": 513,
    "start_time": "2022-04-12T14:03:24.248Z"
   },
   {
    "duration": 598,
    "start_time": "2022-04-12T14:03:45.003Z"
   },
   {
    "duration": 15,
    "start_time": "2022-04-12T14:04:04.736Z"
   },
   {
    "duration": 16,
    "start_time": "2022-04-12T14:05:05.415Z"
   },
   {
    "duration": 15,
    "start_time": "2022-04-12T14:05:23.673Z"
   },
   {
    "duration": 15,
    "start_time": "2022-04-12T14:06:21.761Z"
   },
   {
    "duration": 15,
    "start_time": "2022-04-12T14:07:23.483Z"
   },
   {
    "duration": 2100,
    "start_time": "2022-04-12T14:08:23.553Z"
   },
   {
    "duration": 1951,
    "start_time": "2022-04-12T14:08:26.142Z"
   },
   {
    "duration": 15,
    "start_time": "2022-04-12T14:09:24.550Z"
   },
   {
    "duration": 18,
    "start_time": "2022-04-12T14:10:11.917Z"
   },
   {
    "duration": 23,
    "start_time": "2022-04-12T14:10:28.344Z"
   },
   {
    "duration": 12,
    "start_time": "2022-04-12T14:17:34.344Z"
   },
   {
    "duration": 11,
    "start_time": "2022-04-12T14:18:38.364Z"
   },
   {
    "duration": 4,
    "start_time": "2022-04-12T14:18:56.676Z"
   },
   {
    "duration": 5,
    "start_time": "2022-04-12T14:19:59.692Z"
   },
   {
    "duration": 6,
    "start_time": "2022-04-12T14:20:16.146Z"
   },
   {
    "duration": 5,
    "start_time": "2022-04-12T14:21:01.064Z"
   },
   {
    "duration": 7,
    "start_time": "2022-04-12T14:23:23.492Z"
   },
   {
    "duration": 38,
    "start_time": "2022-04-12T14:28:35.600Z"
   },
   {
    "duration": 17,
    "start_time": "2022-04-12T14:29:14.894Z"
   },
   {
    "duration": 40,
    "start_time": "2022-04-12T14:29:54.746Z"
   },
   {
    "duration": 5,
    "start_time": "2022-04-12T14:33:33.511Z"
   },
   {
    "duration": 35,
    "start_time": "2022-04-12T14:35:01.498Z"
   },
   {
    "duration": 7,
    "start_time": "2022-04-12T14:35:26.376Z"
   },
   {
    "duration": 4,
    "start_time": "2022-04-12T14:35:54.822Z"
   },
   {
    "duration": 40,
    "start_time": "2022-04-12T14:36:39.920Z"
   },
   {
    "duration": 6,
    "start_time": "2022-04-12T14:36:42.958Z"
   },
   {
    "duration": 26,
    "start_time": "2022-04-12T14:36:56.246Z"
   },
   {
    "duration": 27,
    "start_time": "2022-04-12T14:37:08.611Z"
   },
   {
    "duration": 29,
    "start_time": "2022-04-12T14:38:08.283Z"
   },
   {
    "duration": 25,
    "start_time": "2022-04-12T14:38:17.550Z"
   },
   {
    "duration": 28,
    "start_time": "2022-04-12T14:38:21.028Z"
   },
   {
    "duration": 29,
    "start_time": "2022-04-12T14:39:17.114Z"
   },
   {
    "duration": 6,
    "start_time": "2022-04-12T14:39:29.251Z"
   },
   {
    "duration": 22,
    "start_time": "2022-04-12T14:40:15.138Z"
   },
   {
    "duration": 24,
    "start_time": "2022-04-12T14:40:21.726Z"
   },
   {
    "duration": 6,
    "start_time": "2022-04-12T14:40:30.663Z"
   },
   {
    "duration": 15,
    "start_time": "2022-04-12T14:41:13.909Z"
   },
   {
    "duration": 80,
    "start_time": "2022-04-12T14:41:59.417Z"
   },
   {
    "duration": 13,
    "start_time": "2022-04-12T14:42:02.999Z"
   },
   {
    "duration": 8,
    "start_time": "2022-04-12T14:42:05.562Z"
   },
   {
    "duration": 9,
    "start_time": "2022-04-12T14:42:08.399Z"
   },
   {
    "duration": 113,
    "start_time": "2022-04-12T14:42:10.171Z"
   },
   {
    "duration": 9,
    "start_time": "2022-04-12T14:42:21.288Z"
   },
   {
    "duration": 9,
    "start_time": "2022-04-12T14:42:33.424Z"
   },
   {
    "duration": 16,
    "start_time": "2022-04-12T14:42:35.421Z"
   },
   {
    "duration": 18,
    "start_time": "2022-04-12T14:42:40.498Z"
   },
   {
    "duration": 8,
    "start_time": "2022-04-12T14:42:43.214Z"
   },
   {
    "duration": 5,
    "start_time": "2022-04-12T14:43:19.753Z"
   },
   {
    "duration": 6,
    "start_time": "2022-04-12T14:43:20.981Z"
   },
   {
    "duration": 6,
    "start_time": "2022-04-12T14:43:22.339Z"
   },
   {
    "duration": 16,
    "start_time": "2022-04-12T14:43:23.707Z"
   },
   {
    "duration": 5,
    "start_time": "2022-04-12T14:43:34.172Z"
   },
   {
    "duration": 14,
    "start_time": "2022-04-12T14:43:37.022Z"
   },
   {
    "duration": 18,
    "start_time": "2022-04-12T14:43:40.442Z"
   },
   {
    "duration": 28,
    "start_time": "2022-04-12T14:43:58.291Z"
   },
   {
    "duration": 6,
    "start_time": "2022-04-12T14:44:22.543Z"
   },
   {
    "duration": 30,
    "start_time": "2022-04-12T14:44:24.877Z"
   },
   {
    "duration": 7,
    "start_time": "2022-04-12T14:44:28.361Z"
   },
   {
    "duration": 30,
    "start_time": "2022-04-12T14:44:48.002Z"
   },
   {
    "duration": 7,
    "start_time": "2022-04-12T14:44:51.290Z"
   },
   {
    "duration": 30,
    "start_time": "2022-04-12T14:45:13.405Z"
   },
   {
    "duration": 6,
    "start_time": "2022-04-12T14:45:17.191Z"
   },
   {
    "duration": 24,
    "start_time": "2022-04-12T14:45:24.015Z"
   },
   {
    "duration": 6,
    "start_time": "2022-04-12T14:45:27.257Z"
   },
   {
    "duration": 125,
    "start_time": "2022-04-12T14:46:17.817Z"
   },
   {
    "duration": 120,
    "start_time": "2022-04-12T14:48:09.687Z"
   },
   {
    "duration": 4,
    "start_time": "2022-04-12T14:48:18.855Z"
   },
   {
    "duration": 6,
    "start_time": "2022-04-12T14:48:41.740Z"
   },
   {
    "duration": 4,
    "start_time": "2022-04-12T14:49:10.901Z"
   },
   {
    "duration": 7,
    "start_time": "2022-04-12T14:49:19.304Z"
   },
   {
    "duration": 45,
    "start_time": "2022-04-14T08:44:58.533Z"
   },
   {
    "duration": 6,
    "start_time": "2022-04-14T08:46:13.677Z"
   },
   {
    "duration": 482,
    "start_time": "2022-04-14T08:46:32.785Z"
   },
   {
    "duration": 17,
    "start_time": "2022-04-14T08:46:36.683Z"
   },
   {
    "duration": 7,
    "start_time": "2022-04-14T08:46:38.409Z"
   },
   {
    "duration": 8,
    "start_time": "2022-04-14T08:46:39.734Z"
   },
   {
    "duration": 7,
    "start_time": "2022-04-14T08:46:40.853Z"
   },
   {
    "duration": 6,
    "start_time": "2022-04-14T08:46:41.911Z"
   },
   {
    "duration": 13,
    "start_time": "2022-04-14T08:46:42.989Z"
   },
   {
    "duration": 15,
    "start_time": "2022-04-14T08:46:44.123Z"
   },
   {
    "duration": 7,
    "start_time": "2022-04-14T08:46:45.227Z"
   },
   {
    "duration": 4,
    "start_time": "2022-04-14T08:46:49.170Z"
   },
   {
    "duration": 4,
    "start_time": "2022-04-14T08:46:49.795Z"
   },
   {
    "duration": 5,
    "start_time": "2022-04-14T08:46:50.683Z"
   },
   {
    "duration": 6,
    "start_time": "2022-04-14T08:56:39.387Z"
   },
   {
    "duration": 4,
    "start_time": "2022-04-14T08:56:49.883Z"
   },
   {
    "duration": 8,
    "start_time": "2022-04-14T08:57:42.410Z"
   },
   {
    "duration": 6,
    "start_time": "2022-04-14T08:57:56.257Z"
   },
   {
    "duration": 4,
    "start_time": "2022-04-14T08:58:37.173Z"
   },
   {
    "duration": 537,
    "start_time": "2022-04-14T08:59:16.153Z"
   },
   {
    "duration": 17,
    "start_time": "2022-04-14T08:59:16.692Z"
   },
   {
    "duration": 11,
    "start_time": "2022-04-14T08:59:16.710Z"
   },
   {
    "duration": 10,
    "start_time": "2022-04-14T08:59:16.722Z"
   },
   {
    "duration": 11,
    "start_time": "2022-04-14T08:59:16.733Z"
   },
   {
    "duration": 9,
    "start_time": "2022-04-14T08:59:16.746Z"
   },
   {
    "duration": 25,
    "start_time": "2022-04-14T08:59:16.756Z"
   },
   {
    "duration": 15,
    "start_time": "2022-04-14T08:59:16.783Z"
   },
   {
    "duration": 11,
    "start_time": "2022-04-14T08:59:16.799Z"
   },
   {
    "duration": 9,
    "start_time": "2022-04-14T08:59:16.812Z"
   },
   {
    "duration": 6,
    "start_time": "2022-04-14T08:59:16.823Z"
   },
   {
    "duration": 10,
    "start_time": "2022-04-14T08:59:16.830Z"
   },
   {
    "duration": 6,
    "start_time": "2022-04-14T08:59:16.841Z"
   },
   {
    "duration": 28,
    "start_time": "2022-04-14T08:59:16.849Z"
   },
   {
    "duration": 5,
    "start_time": "2022-04-14T09:01:48.167Z"
   },
   {
    "duration": 78,
    "start_time": "2022-04-14T09:07:38.490Z"
   },
   {
    "duration": 6,
    "start_time": "2022-04-14T09:08:11.177Z"
   },
   {
    "duration": 5,
    "start_time": "2022-04-14T09:08:23.706Z"
   },
   {
    "duration": 4,
    "start_time": "2022-04-14T09:08:28.242Z"
   },
   {
    "duration": 62,
    "start_time": "2022-04-14T09:08:34.734Z"
   },
   {
    "duration": 6,
    "start_time": "2022-04-14T09:08:37.593Z"
   },
   {
    "duration": 11,
    "start_time": "2022-04-14T09:09:35.787Z"
   },
   {
    "duration": 8,
    "start_time": "2022-04-14T09:10:01.527Z"
   },
   {
    "duration": 13,
    "start_time": "2022-04-14T09:10:09.919Z"
   },
   {
    "duration": 15,
    "start_time": "2022-04-14T09:10:30.627Z"
   },
   {
    "duration": 13,
    "start_time": "2022-04-14T09:10:44.771Z"
   },
   {
    "duration": 10,
    "start_time": "2022-04-14T09:13:02.538Z"
   },
   {
    "duration": 9,
    "start_time": "2022-04-14T09:13:18.899Z"
   },
   {
    "duration": 21,
    "start_time": "2022-04-14T09:13:37.271Z"
   },
   {
    "duration": 10,
    "start_time": "2022-04-14T09:14:07.087Z"
   },
   {
    "duration": 7,
    "start_time": "2022-04-14T09:14:40.153Z"
   },
   {
    "duration": 9,
    "start_time": "2022-04-14T09:15:28.082Z"
   },
   {
    "duration": 7,
    "start_time": "2022-04-14T09:16:08.749Z"
   },
   {
    "duration": 13,
    "start_time": "2022-04-14T09:20:03.323Z"
   },
   {
    "duration": 7,
    "start_time": "2022-04-14T09:20:17.761Z"
   },
   {
    "duration": 6,
    "start_time": "2022-04-14T09:20:56.154Z"
   },
   {
    "duration": 8,
    "start_time": "2022-04-14T09:21:05.312Z"
   },
   {
    "duration": 58,
    "start_time": "2022-04-15T07:16:49.842Z"
   },
   {
    "duration": 735,
    "start_time": "2022-04-15T07:17:09.355Z"
   },
   {
    "duration": 28,
    "start_time": "2022-04-15T07:17:10.092Z"
   },
   {
    "duration": 16,
    "start_time": "2022-04-15T07:17:10.122Z"
   },
   {
    "duration": 26,
    "start_time": "2022-04-15T07:17:10.141Z"
   },
   {
    "duration": 15,
    "start_time": "2022-04-15T07:17:10.170Z"
   },
   {
    "duration": 20,
    "start_time": "2022-04-15T07:17:10.188Z"
   },
   {
    "duration": 49,
    "start_time": "2022-04-15T07:17:10.211Z"
   },
   {
    "duration": 23,
    "start_time": "2022-04-15T07:17:10.262Z"
   },
   {
    "duration": 16,
    "start_time": "2022-04-15T07:17:10.287Z"
   },
   {
    "duration": 21,
    "start_time": "2022-04-15T07:17:10.307Z"
   },
   {
    "duration": 34,
    "start_time": "2022-04-15T07:17:10.332Z"
   },
   {
    "duration": 24,
    "start_time": "2022-04-15T07:17:10.368Z"
   },
   {
    "duration": 13,
    "start_time": "2022-04-15T07:17:10.395Z"
   },
   {
    "duration": 24,
    "start_time": "2022-04-15T07:17:10.411Z"
   },
   {
    "duration": 29,
    "start_time": "2022-04-15T07:17:10.437Z"
   },
   {
    "duration": 10,
    "start_time": "2022-04-15T07:17:10.468Z"
   },
   {
    "duration": 24,
    "start_time": "2022-04-15T07:17:10.480Z"
   },
   {
    "duration": 12,
    "start_time": "2022-04-15T07:17:10.506Z"
   },
   {
    "duration": 20,
    "start_time": "2022-04-15T07:17:10.520Z"
   },
   {
    "duration": 37,
    "start_time": "2022-04-15T07:17:10.542Z"
   },
   {
    "duration": 22,
    "start_time": "2022-04-15T07:17:10.582Z"
   },
   {
    "duration": 22,
    "start_time": "2022-04-15T08:04:20.956Z"
   },
   {
    "duration": 30,
    "start_time": "2022-04-15T08:07:27.284Z"
   },
   {
    "duration": 64,
    "start_time": "2022-04-15T08:07:49.474Z"
   },
   {
    "duration": 16,
    "start_time": "2022-04-15T08:08:21.574Z"
   },
   {
    "duration": 63,
    "start_time": "2022-04-15T08:08:54.814Z"
   },
   {
    "duration": 17,
    "start_time": "2022-04-15T08:15:29.113Z"
   },
   {
    "duration": 24,
    "start_time": "2022-04-15T08:15:44.504Z"
   },
   {
    "duration": 31,
    "start_time": "2022-04-15T08:15:55.418Z"
   },
   {
    "duration": 32,
    "start_time": "2022-04-15T08:16:22.494Z"
   },
   {
    "duration": 55,
    "start_time": "2022-04-15T08:17:13.595Z"
   },
   {
    "duration": 39,
    "start_time": "2022-04-15T08:17:20.822Z"
   },
   {
    "duration": 9,
    "start_time": "2022-04-15T08:20:55.244Z"
   },
   {
    "duration": 25,
    "start_time": "2022-04-15T08:21:09.084Z"
   },
   {
    "duration": 5,
    "start_time": "2022-04-15T08:21:22.394Z"
   },
   {
    "duration": 20,
    "start_time": "2022-04-15T08:21:25.512Z"
   },
   {
    "duration": 37,
    "start_time": "2022-04-15T08:21:35.913Z"
   },
   {
    "duration": 640,
    "start_time": "2022-04-15T08:21:43.156Z"
   },
   {
    "duration": 43,
    "start_time": "2022-04-15T08:21:43.799Z"
   },
   {
    "duration": 14,
    "start_time": "2022-04-15T08:21:43.845Z"
   },
   {
    "duration": 21,
    "start_time": "2022-04-15T08:21:43.861Z"
   },
   {
    "duration": 12,
    "start_time": "2022-04-15T08:21:43.885Z"
   },
   {
    "duration": 23,
    "start_time": "2022-04-15T08:21:43.899Z"
   },
   {
    "duration": 55,
    "start_time": "2022-04-15T08:21:43.924Z"
   },
   {
    "duration": 32,
    "start_time": "2022-04-15T08:21:43.982Z"
   },
   {
    "duration": 20,
    "start_time": "2022-04-15T08:21:44.016Z"
   },
   {
    "duration": 40,
    "start_time": "2022-04-15T08:21:44.038Z"
   },
   {
    "duration": 14,
    "start_time": "2022-04-15T08:21:44.081Z"
   },
   {
    "duration": 10,
    "start_time": "2022-04-15T08:21:44.097Z"
   },
   {
    "duration": 21,
    "start_time": "2022-04-15T08:21:44.109Z"
   },
   {
    "duration": 39,
    "start_time": "2022-04-15T08:21:44.133Z"
   },
   {
    "duration": 12,
    "start_time": "2022-04-15T08:21:44.174Z"
   },
   {
    "duration": 10,
    "start_time": "2022-04-15T08:21:44.188Z"
   },
   {
    "duration": 21,
    "start_time": "2022-04-15T08:21:44.201Z"
   },
   {
    "duration": 21,
    "start_time": "2022-04-15T08:21:44.224Z"
   },
   {
    "duration": 23,
    "start_time": "2022-04-15T08:21:44.248Z"
   },
   {
    "duration": 10,
    "start_time": "2022-04-15T08:21:44.274Z"
   },
   {
    "duration": 22,
    "start_time": "2022-04-15T08:21:44.286Z"
   },
   {
    "duration": 38,
    "start_time": "2022-04-15T08:21:44.310Z"
   },
   {
    "duration": 77,
    "start_time": "2022-04-15T08:21:44.354Z"
   },
   {
    "duration": 30,
    "start_time": "2022-04-15T08:21:44.433Z"
   },
   {
    "duration": 36,
    "start_time": "2022-04-15T08:21:44.465Z"
   },
   {
    "duration": 41,
    "start_time": "2022-04-15T08:21:44.503Z"
   },
   {
    "duration": 39,
    "start_time": "2022-04-15T08:26:13.200Z"
   },
   {
    "duration": 156,
    "start_time": "2022-04-15T08:27:34.710Z"
   },
   {
    "duration": 13,
    "start_time": "2022-04-15T08:27:41.775Z"
   },
   {
    "duration": 16,
    "start_time": "2022-04-15T09:10:21.000Z"
   },
   {
    "duration": 17,
    "start_time": "2022-04-15T09:10:36.580Z"
   },
   {
    "duration": 23,
    "start_time": "2022-04-15T09:11:18.248Z"
   },
   {
    "duration": 15,
    "start_time": "2022-04-15T09:11:37.551Z"
   },
   {
    "duration": 609,
    "start_time": "2022-04-15T13:42:39.214Z"
   },
   {
    "duration": 28,
    "start_time": "2022-04-15T13:42:39.826Z"
   },
   {
    "duration": 27,
    "start_time": "2022-04-15T13:42:39.856Z"
   },
   {
    "duration": 9,
    "start_time": "2022-04-15T13:42:39.885Z"
   },
   {
    "duration": 9,
    "start_time": "2022-04-15T13:42:39.897Z"
   },
   {
    "duration": 9,
    "start_time": "2022-04-15T13:42:39.908Z"
   },
   {
    "duration": 22,
    "start_time": "2022-04-15T13:42:39.919Z"
   },
   {
    "duration": 55,
    "start_time": "2022-04-15T13:42:39.943Z"
   },
   {
    "duration": 10,
    "start_time": "2022-04-15T13:42:40.000Z"
   },
   {
    "duration": 8,
    "start_time": "2022-04-15T13:42:40.012Z"
   },
   {
    "duration": 7,
    "start_time": "2022-04-15T13:42:40.022Z"
   },
   {
    "duration": 11,
    "start_time": "2022-04-15T13:42:40.031Z"
   },
   {
    "duration": 43,
    "start_time": "2022-04-15T13:42:40.044Z"
   },
   {
    "duration": 10,
    "start_time": "2022-04-15T13:42:40.091Z"
   },
   {
    "duration": 8,
    "start_time": "2022-04-15T13:42:40.103Z"
   },
   {
    "duration": 9,
    "start_time": "2022-04-15T13:42:40.113Z"
   },
   {
    "duration": 14,
    "start_time": "2022-04-15T13:42:40.124Z"
   },
   {
    "duration": 54,
    "start_time": "2022-04-15T13:42:40.140Z"
   },
   {
    "duration": 6,
    "start_time": "2022-04-15T13:42:40.197Z"
   },
   {
    "duration": 5,
    "start_time": "2022-04-15T13:42:40.205Z"
   },
   {
    "duration": 31,
    "start_time": "2022-04-15T13:42:40.212Z"
   },
   {
    "duration": 58,
    "start_time": "2022-04-15T13:42:40.245Z"
   },
   {
    "duration": 43,
    "start_time": "2022-04-15T13:42:40.305Z"
   },
   {
    "duration": 43,
    "start_time": "2022-04-15T13:42:40.350Z"
   },
   {
    "duration": 27,
    "start_time": "2022-04-15T13:42:40.395Z"
   },
   {
    "duration": 57,
    "start_time": "2022-04-15T13:42:40.424Z"
   },
   {
    "duration": 15,
    "start_time": "2022-04-15T13:42:40.484Z"
   },
   {
    "duration": 15,
    "start_time": "2022-04-15T13:42:40.501Z"
   },
   {
    "duration": 15,
    "start_time": "2022-04-15T13:53:09.485Z"
   },
   {
    "duration": 13,
    "start_time": "2022-04-15T13:53:49.908Z"
   },
   {
    "duration": 56,
    "start_time": "2022-04-16T09:48:45.805Z"
   },
   {
    "duration": 464,
    "start_time": "2022-04-16T09:48:50.647Z"
   },
   {
    "duration": 23,
    "start_time": "2022-04-16T09:48:51.114Z"
   },
   {
    "duration": 7,
    "start_time": "2022-04-16T09:48:51.138Z"
   },
   {
    "duration": 11,
    "start_time": "2022-04-16T09:48:51.147Z"
   },
   {
    "duration": 8,
    "start_time": "2022-04-16T09:48:51.159Z"
   },
   {
    "duration": 8,
    "start_time": "2022-04-16T09:48:51.169Z"
   },
   {
    "duration": 43,
    "start_time": "2022-04-16T09:48:51.179Z"
   },
   {
    "duration": 16,
    "start_time": "2022-04-16T09:48:51.224Z"
   },
   {
    "duration": 7,
    "start_time": "2022-04-16T09:48:51.242Z"
   },
   {
    "duration": 4,
    "start_time": "2022-04-16T09:48:51.253Z"
   },
   {
    "duration": 4,
    "start_time": "2022-04-16T09:48:51.258Z"
   },
   {
    "duration": 5,
    "start_time": "2022-04-16T09:48:51.263Z"
   },
   {
    "duration": 44,
    "start_time": "2022-04-16T09:48:51.269Z"
   },
   {
    "duration": 7,
    "start_time": "2022-04-16T09:48:51.315Z"
   },
   {
    "duration": 6,
    "start_time": "2022-04-16T09:48:51.325Z"
   },
   {
    "duration": 5,
    "start_time": "2022-04-16T09:48:51.333Z"
   },
   {
    "duration": 11,
    "start_time": "2022-04-16T09:48:51.339Z"
   },
   {
    "duration": 8,
    "start_time": "2022-04-16T09:48:51.351Z"
   },
   {
    "duration": 52,
    "start_time": "2022-04-16T09:48:51.360Z"
   },
   {
    "duration": 6,
    "start_time": "2022-04-16T09:48:51.414Z"
   },
   {
    "duration": 17,
    "start_time": "2022-04-16T09:48:51.422Z"
   },
   {
    "duration": 15,
    "start_time": "2022-04-16T09:48:51.441Z"
   },
   {
    "duration": 18,
    "start_time": "2022-04-16T09:48:51.458Z"
   },
   {
    "duration": 56,
    "start_time": "2022-04-16T09:48:51.478Z"
   },
   {
    "duration": 19,
    "start_time": "2022-04-16T09:48:51.536Z"
   },
   {
    "duration": 17,
    "start_time": "2022-04-16T09:48:51.556Z"
   },
   {
    "duration": 7,
    "start_time": "2022-04-16T09:48:51.575Z"
   },
   {
    "duration": 28,
    "start_time": "2022-04-16T09:55:32.366Z"
   },
   {
    "duration": 66,
    "start_time": "2022-04-16T09:58:49.936Z"
   },
   {
    "duration": 8,
    "start_time": "2022-04-16T10:00:23.796Z"
   },
   {
    "duration": 5,
    "start_time": "2022-04-16T10:10:11.203Z"
   },
   {
    "duration": 9,
    "start_time": "2022-04-16T10:11:25.328Z"
   },
   {
    "duration": 8,
    "start_time": "2022-04-16T10:12:05.707Z"
   },
   {
    "duration": 13,
    "start_time": "2022-04-16T10:13:49.533Z"
   },
   {
    "duration": 11,
    "start_time": "2022-04-16T10:14:38.081Z"
   },
   {
    "duration": 8,
    "start_time": "2022-04-16T10:14:57.070Z"
   },
   {
    "duration": 8,
    "start_time": "2022-04-16T10:15:31.159Z"
   },
   {
    "duration": 6,
    "start_time": "2022-04-16T10:15:38.641Z"
   },
   {
    "duration": 16,
    "start_time": "2022-04-16T10:18:33.557Z"
   },
   {
    "duration": 7,
    "start_time": "2022-04-16T10:18:58.211Z"
   },
   {
    "duration": 7,
    "start_time": "2022-04-16T10:20:11.803Z"
   },
   {
    "duration": 116,
    "start_time": "2022-04-16T10:20:57.652Z"
   },
   {
    "duration": 5,
    "start_time": "2022-04-16T10:21:06.939Z"
   },
   {
    "duration": 5,
    "start_time": "2022-04-16T10:21:20.483Z"
   },
   {
    "duration": 31,
    "start_time": "2022-04-16T10:23:05.357Z"
   },
   {
    "duration": 488,
    "start_time": "2022-04-16T10:23:20.949Z"
   },
   {
    "duration": 1185,
    "start_time": "2022-04-16T10:26:45.691Z"
   },
   {
    "duration": 1398,
    "start_time": "2022-04-16T10:27:09.210Z"
   },
   {
    "duration": 7,
    "start_time": "2022-04-16T10:29:42.960Z"
   },
   {
    "duration": 12,
    "start_time": "2022-04-16T10:30:00.576Z"
   },
   {
    "duration": 30,
    "start_time": "2022-04-16T10:30:47.607Z"
   },
   {
    "duration": 7,
    "start_time": "2022-04-16T10:32:11.154Z"
   },
   {
    "duration": 13,
    "start_time": "2022-04-16T10:34:25.653Z"
   },
   {
    "duration": 14,
    "start_time": "2022-04-16T10:34:38.238Z"
   },
   {
    "duration": 18,
    "start_time": "2022-04-16T10:35:19.514Z"
   },
   {
    "duration": 16,
    "start_time": "2022-04-16T10:36:19.723Z"
   },
   {
    "duration": 22,
    "start_time": "2022-04-16T10:40:00.155Z"
   },
   {
    "duration": 23,
    "start_time": "2022-04-16T10:40:36.827Z"
   },
   {
    "duration": 32,
    "start_time": "2022-04-16T10:42:12.370Z"
   },
   {
    "duration": 9,
    "start_time": "2022-04-16T11:06:52.613Z"
   },
   {
    "duration": 5,
    "start_time": "2022-04-16T11:07:17.686Z"
   },
   {
    "duration": 5,
    "start_time": "2022-04-16T11:18:35.870Z"
   },
   {
    "duration": 12,
    "start_time": "2022-04-16T11:18:51.168Z"
   },
   {
    "duration": 8,
    "start_time": "2022-04-16T11:19:25.729Z"
   },
   {
    "duration": 10,
    "start_time": "2022-04-16T11:19:39.215Z"
   },
   {
    "duration": 17,
    "start_time": "2022-04-16T11:20:03.255Z"
   },
   {
    "duration": 10,
    "start_time": "2022-04-16T11:23:08.997Z"
   },
   {
    "duration": 10,
    "start_time": "2022-04-16T11:23:53.081Z"
   },
   {
    "duration": 8,
    "start_time": "2022-04-16T11:23:59.564Z"
   },
   {
    "duration": 538,
    "start_time": "2022-04-16T11:26:27.518Z"
   },
   {
    "duration": 27,
    "start_time": "2022-04-16T11:26:29.997Z"
   },
   {
    "duration": 7,
    "start_time": "2022-04-16T11:26:32.799Z"
   },
   {
    "duration": 6,
    "start_time": "2022-04-16T11:26:34.461Z"
   },
   {
    "duration": 13,
    "start_time": "2022-04-16T11:26:38.108Z"
   },
   {
    "duration": 7,
    "start_time": "2022-04-16T11:26:42.019Z"
   },
   {
    "duration": 13,
    "start_time": "2022-04-16T11:26:44.946Z"
   },
   {
    "duration": 17,
    "start_time": "2022-04-16T11:26:50.860Z"
   },
   {
    "duration": 9,
    "start_time": "2022-04-16T11:29:24.013Z"
   },
   {
    "duration": 7,
    "start_time": "2022-04-16T11:57:34.100Z"
   },
   {
    "duration": 6,
    "start_time": "2022-04-16T11:58:03.218Z"
   },
   {
    "duration": 8,
    "start_time": "2022-04-16T12:01:25.536Z"
   },
   {
    "duration": 5,
    "start_time": "2022-04-16T12:01:41.644Z"
   },
   {
    "duration": 9,
    "start_time": "2022-04-16T12:01:51.211Z"
   },
   {
    "duration": 6,
    "start_time": "2022-04-16T12:02:57.977Z"
   },
   {
    "duration": 6,
    "start_time": "2022-04-16T12:05:06.755Z"
   },
   {
    "duration": 6,
    "start_time": "2022-04-16T12:05:52.198Z"
   },
   {
    "duration": 8,
    "start_time": "2022-04-16T12:06:31.309Z"
   },
   {
    "duration": 12,
    "start_time": "2022-04-16T12:06:46.711Z"
   },
   {
    "duration": 8,
    "start_time": "2022-04-16T12:08:42.181Z"
   },
   {
    "duration": 5,
    "start_time": "2022-04-16T12:08:48.287Z"
   },
   {
    "duration": 6,
    "start_time": "2022-04-16T12:08:54.205Z"
   },
   {
    "duration": 5,
    "start_time": "2022-04-16T12:09:07.740Z"
   },
   {
    "duration": 5,
    "start_time": "2022-04-16T12:11:18.541Z"
   },
   {
    "duration": 5,
    "start_time": "2022-04-16T12:11:28.736Z"
   },
   {
    "duration": 5,
    "start_time": "2022-04-16T12:20:38.462Z"
   },
   {
    "duration": 7,
    "start_time": "2022-04-16T12:20:46.562Z"
   },
   {
    "duration": 18,
    "start_time": "2022-04-16T12:21:26.852Z"
   },
   {
    "duration": 67,
    "start_time": "2022-04-16T12:30:56.610Z"
   },
   {
    "duration": 8,
    "start_time": "2022-04-16T12:31:08.337Z"
   },
   {
    "duration": 564,
    "start_time": "2022-04-16T12:31:19.512Z"
   },
   {
    "duration": 15,
    "start_time": "2022-04-16T12:31:38.114Z"
   },
   {
    "duration": 8,
    "start_time": "2022-04-16T12:31:39.741Z"
   },
   {
    "duration": 9,
    "start_time": "2022-04-16T12:31:41.461Z"
   },
   {
    "duration": 11,
    "start_time": "2022-04-16T12:31:43.522Z"
   },
   {
    "duration": 4,
    "start_time": "2022-04-16T12:31:45.953Z"
   },
   {
    "duration": 52,
    "start_time": "2022-04-16T12:32:28.811Z"
   },
   {
    "duration": 22,
    "start_time": "2022-04-16T12:32:38.492Z"
   },
   {
    "duration": 12,
    "start_time": "2022-04-16T12:33:51.489Z"
   },
   {
    "duration": 17,
    "start_time": "2022-04-16T12:34:08.005Z"
   },
   {
    "duration": 17,
    "start_time": "2022-04-16T12:34:19.523Z"
   },
   {
    "duration": 15,
    "start_time": "2022-04-16T12:36:34.177Z"
   },
   {
    "duration": 15,
    "start_time": "2022-04-16T12:38:15.936Z"
   },
   {
    "duration": 14,
    "start_time": "2022-04-16T12:38:21.690Z"
   },
   {
    "duration": 9,
    "start_time": "2022-04-16T12:42:07.239Z"
   },
   {
    "duration": 14,
    "start_time": "2022-04-16T12:42:14.651Z"
   },
   {
    "duration": 45,
    "start_time": "2022-04-16T12:44:18.451Z"
   },
   {
    "duration": 17,
    "start_time": "2022-04-16T12:44:47.479Z"
   },
   {
    "duration": 17,
    "start_time": "2022-04-16T12:46:27.673Z"
   },
   {
    "duration": 15,
    "start_time": "2022-04-16T12:46:55.438Z"
   },
   {
    "duration": 15,
    "start_time": "2022-04-16T12:46:59.667Z"
   },
   {
    "duration": 551,
    "start_time": "2022-04-16T12:47:13.727Z"
   },
   {
    "duration": 10,
    "start_time": "2022-04-16T12:50:18.073Z"
   },
   {
    "duration": 6,
    "start_time": "2022-04-16T12:50:25.650Z"
   },
   {
    "duration": 22,
    "start_time": "2022-04-16T12:50:38.142Z"
   },
   {
    "duration": 15,
    "start_time": "2022-04-16T12:51:04.267Z"
   },
   {
    "duration": 24,
    "start_time": "2022-04-16T12:52:49.594Z"
   },
   {
    "duration": 18,
    "start_time": "2022-04-16T12:53:41.436Z"
   },
   {
    "duration": 33,
    "start_time": "2022-04-16T12:55:03.026Z"
   },
   {
    "duration": 8,
    "start_time": "2022-04-16T12:56:32.291Z"
   },
   {
    "duration": 86,
    "start_time": "2022-04-16T12:57:29.543Z"
   },
   {
    "duration": 8,
    "start_time": "2022-04-16T12:58:36.343Z"
   },
   {
    "duration": 7,
    "start_time": "2022-04-16T12:58:46.837Z"
   },
   {
    "duration": 14,
    "start_time": "2022-04-16T12:59:12.220Z"
   },
   {
    "duration": 23,
    "start_time": "2022-04-16T13:00:55.152Z"
   },
   {
    "duration": 25,
    "start_time": "2022-04-16T13:01:25.036Z"
   },
   {
    "duration": 5,
    "start_time": "2022-04-16T13:02:53.385Z"
   },
   {
    "duration": 9,
    "start_time": "2022-04-16T13:04:34.081Z"
   },
   {
    "duration": 9,
    "start_time": "2022-04-16T13:05:11.722Z"
   },
   {
    "duration": 574,
    "start_time": "2022-04-16T13:07:14.184Z"
   },
   {
    "duration": 19,
    "start_time": "2022-04-16T13:07:14.760Z"
   },
   {
    "duration": 6,
    "start_time": "2022-04-16T13:07:14.784Z"
   },
   {
    "duration": 11,
    "start_time": "2022-04-16T13:07:14.808Z"
   },
   {
    "duration": 13,
    "start_time": "2022-04-16T13:07:14.820Z"
   },
   {
    "duration": 10,
    "start_time": "2022-04-16T13:07:14.837Z"
   },
   {
    "duration": 8,
    "start_time": "2022-04-16T13:07:14.849Z"
   },
   {
    "duration": 8,
    "start_time": "2022-04-16T13:07:14.859Z"
   },
   {
    "duration": 42,
    "start_time": "2022-04-16T13:07:14.870Z"
   },
   {
    "duration": 19,
    "start_time": "2022-04-16T13:07:14.914Z"
   },
   {
    "duration": 9,
    "start_time": "2022-04-16T13:07:14.935Z"
   },
   {
    "duration": 5,
    "start_time": "2022-04-16T13:07:14.947Z"
   },
   {
    "duration": 8,
    "start_time": "2022-04-16T13:07:14.954Z"
   },
   {
    "duration": 55,
    "start_time": "2022-04-16T13:07:14.964Z"
   },
   {
    "duration": 8,
    "start_time": "2022-04-16T13:07:15.022Z"
   },
   {
    "duration": 8,
    "start_time": "2022-04-16T13:07:15.035Z"
   },
   {
    "duration": 5,
    "start_time": "2022-04-16T13:07:15.045Z"
   },
   {
    "duration": 16,
    "start_time": "2022-04-16T13:07:15.051Z"
   },
   {
    "duration": 42,
    "start_time": "2022-04-16T13:07:15.069Z"
   },
   {
    "duration": 10,
    "start_time": "2022-04-16T13:07:15.114Z"
   },
   {
    "duration": 25,
    "start_time": "2022-04-16T13:07:15.132Z"
   },
   {
    "duration": 10,
    "start_time": "2022-04-16T13:07:15.159Z"
   },
   {
    "duration": 65,
    "start_time": "2022-04-16T13:07:15.170Z"
   },
   {
    "duration": 5,
    "start_time": "2022-04-16T13:07:15.237Z"
   },
   {
    "duration": 17,
    "start_time": "2022-04-16T13:07:15.244Z"
   },
   {
    "duration": 56,
    "start_time": "2022-04-16T13:07:15.262Z"
   },
   {
    "duration": 29,
    "start_time": "2022-04-16T13:07:15.323Z"
   },
   {
    "duration": 16,
    "start_time": "2022-04-16T13:07:15.354Z"
   },
   {
    "duration": 19,
    "start_time": "2022-04-16T13:07:15.372Z"
   },
   {
    "duration": 57,
    "start_time": "2022-04-16T13:07:15.392Z"
   },
   {
    "duration": 7,
    "start_time": "2022-04-16T13:07:15.451Z"
   },
   {
    "duration": 10,
    "start_time": "2022-04-16T13:08:23.540Z"
   },
   {
    "duration": 538,
    "start_time": "2022-04-16T13:08:31.148Z"
   },
   {
    "duration": 30,
    "start_time": "2022-04-16T13:08:31.688Z"
   },
   {
    "duration": 7,
    "start_time": "2022-04-16T13:08:31.720Z"
   },
   {
    "duration": 5,
    "start_time": "2022-04-16T13:08:31.729Z"
   },
   {
    "duration": 12,
    "start_time": "2022-04-16T13:08:31.735Z"
   },
   {
    "duration": 7,
    "start_time": "2022-04-16T13:08:31.749Z"
   },
   {
    "duration": 52,
    "start_time": "2022-04-16T13:08:31.758Z"
   },
   {
    "duration": 15,
    "start_time": "2022-04-16T13:08:31.817Z"
   },
   {
    "duration": 11,
    "start_time": "2022-04-16T13:08:31.834Z"
   },
   {
    "duration": 18,
    "start_time": "2022-04-16T13:08:31.850Z"
   },
   {
    "duration": 9,
    "start_time": "2022-04-16T13:08:31.870Z"
   },
   {
    "duration": 11,
    "start_time": "2022-04-16T13:08:31.910Z"
   },
   {
    "duration": 7,
    "start_time": "2022-04-16T13:08:31.923Z"
   },
   {
    "duration": 12,
    "start_time": "2022-04-16T13:08:31.931Z"
   },
   {
    "duration": 6,
    "start_time": "2022-04-16T13:08:31.946Z"
   },
   {
    "duration": 7,
    "start_time": "2022-04-16T13:08:31.953Z"
   },
   {
    "duration": 5,
    "start_time": "2022-04-16T13:08:31.962Z"
   },
   {
    "duration": 16,
    "start_time": "2022-04-16T13:08:32.014Z"
   },
   {
    "duration": 14,
    "start_time": "2022-04-16T13:08:32.036Z"
   },
   {
    "duration": 8,
    "start_time": "2022-04-16T13:08:32.052Z"
   },
   {
    "duration": 56,
    "start_time": "2022-04-16T13:08:32.061Z"
   },
   {
    "duration": 24,
    "start_time": "2022-04-16T13:08:32.122Z"
   },
   {
    "duration": 19,
    "start_time": "2022-04-16T13:08:32.148Z"
   },
   {
    "duration": 4,
    "start_time": "2022-04-16T13:08:32.168Z"
   },
   {
    "duration": 50,
    "start_time": "2022-04-16T13:08:32.173Z"
   },
   {
    "duration": 25,
    "start_time": "2022-04-16T13:08:32.225Z"
   },
   {
    "duration": 20,
    "start_time": "2022-04-16T13:08:32.252Z"
   },
   {
    "duration": 48,
    "start_time": "2022-04-16T13:08:32.276Z"
   },
   {
    "duration": 29,
    "start_time": "2022-04-16T13:08:32.325Z"
   },
   {
    "duration": 29,
    "start_time": "2022-04-16T13:08:32.356Z"
   },
   {
    "duration": 23,
    "start_time": "2022-04-16T13:08:32.406Z"
   },
   {
    "duration": 13,
    "start_time": "2022-04-16T13:10:33.479Z"
   },
   {
    "duration": 4,
    "start_time": "2022-04-16T13:14:37.118Z"
   },
   {
    "duration": 16,
    "start_time": "2022-04-16T13:14:45.993Z"
   },
   {
    "duration": 34,
    "start_time": "2022-04-16T13:16:14.965Z"
   },
   {
    "duration": 21,
    "start_time": "2022-04-16T13:16:57.036Z"
   },
   {
    "duration": 19,
    "start_time": "2022-04-16T13:17:09.273Z"
   },
   {
    "duration": 22,
    "start_time": "2022-04-16T13:17:52.249Z"
   },
   {
    "duration": 23,
    "start_time": "2022-04-16T13:17:56.927Z"
   },
   {
    "duration": 11,
    "start_time": "2022-04-16T13:18:43.392Z"
   },
   {
    "duration": 11,
    "start_time": "2022-04-16T13:19:20.142Z"
   },
   {
    "duration": 24,
    "start_time": "2022-04-16T13:19:38.155Z"
   },
   {
    "duration": 24,
    "start_time": "2022-04-16T13:19:59.940Z"
   },
   {
    "duration": 19,
    "start_time": "2022-04-16T13:20:25.864Z"
   },
   {
    "duration": 36,
    "start_time": "2022-04-16T13:20:31.594Z"
   },
   {
    "duration": 28,
    "start_time": "2022-04-16T13:20:38.368Z"
   },
   {
    "duration": 25,
    "start_time": "2022-04-16T13:20:54.598Z"
   },
   {
    "duration": 17,
    "start_time": "2022-04-16T13:21:00.756Z"
   },
   {
    "duration": 7,
    "start_time": "2022-04-16T13:25:12.621Z"
   },
   {
    "duration": 7,
    "start_time": "2022-04-16T13:26:12.466Z"
   },
   {
    "duration": 5,
    "start_time": "2022-04-16T13:27:22.778Z"
   },
   {
    "duration": 10,
    "start_time": "2022-04-16T13:28:30.631Z"
   },
   {
    "duration": 81,
    "start_time": "2022-04-16T13:32:38.083Z"
   },
   {
    "duration": 7,
    "start_time": "2022-04-16T13:33:54.194Z"
   },
   {
    "duration": 7,
    "start_time": "2022-04-16T13:35:18.373Z"
   },
   {
    "duration": 10,
    "start_time": "2022-04-16T13:36:01.660Z"
   },
   {
    "duration": 31,
    "start_time": "2022-04-16T13:36:37.021Z"
   },
   {
    "duration": 23,
    "start_time": "2022-04-16T13:38:09.117Z"
   },
   {
    "duration": 24,
    "start_time": "2022-04-16T13:38:16.581Z"
   },
   {
    "duration": 45,
    "start_time": "2022-04-16T13:39:18.295Z"
   },
   {
    "duration": 43,
    "start_time": "2022-04-16T13:40:16.211Z"
   },
   {
    "duration": 25,
    "start_time": "2022-04-16T13:40:37.567Z"
   },
   {
    "duration": 37,
    "start_time": "2022-04-16T13:42:01.645Z"
   },
   {
    "duration": 120,
    "start_time": "2022-04-16T13:49:28.545Z"
   },
   {
    "duration": 4,
    "start_time": "2022-04-16T13:49:47.103Z"
   },
   {
    "duration": 10,
    "start_time": "2022-04-16T13:49:54.141Z"
   },
   {
    "duration": 25,
    "start_time": "2022-04-16T13:50:29.913Z"
   },
   {
    "duration": 575,
    "start_time": "2022-04-16T13:50:47.987Z"
   },
   {
    "duration": 28,
    "start_time": "2022-04-16T13:50:48.565Z"
   },
   {
    "duration": 10,
    "start_time": "2022-04-16T13:50:48.609Z"
   },
   {
    "duration": 6,
    "start_time": "2022-04-16T13:50:48.622Z"
   },
   {
    "duration": 6,
    "start_time": "2022-04-16T13:50:48.630Z"
   },
   {
    "duration": 7,
    "start_time": "2022-04-16T13:50:48.638Z"
   },
   {
    "duration": 8,
    "start_time": "2022-04-16T13:50:48.647Z"
   },
   {
    "duration": 56,
    "start_time": "2022-04-16T13:50:48.657Z"
   },
   {
    "duration": 11,
    "start_time": "2022-04-16T13:50:48.716Z"
   },
   {
    "duration": 15,
    "start_time": "2022-04-16T13:50:48.732Z"
   },
   {
    "duration": 8,
    "start_time": "2022-04-16T13:50:48.749Z"
   },
   {
    "duration": 55,
    "start_time": "2022-04-16T13:50:48.760Z"
   },
   {
    "duration": 11,
    "start_time": "2022-04-16T13:50:48.817Z"
   },
   {
    "duration": 7,
    "start_time": "2022-04-16T13:50:48.829Z"
   },
   {
    "duration": 5,
    "start_time": "2022-04-16T13:50:48.838Z"
   },
   {
    "duration": 12,
    "start_time": "2022-04-16T13:50:48.846Z"
   },
   {
    "duration": 102,
    "start_time": "2022-04-16T13:50:48.860Z"
   },
   {
    "duration": 0,
    "start_time": "2022-04-16T13:50:48.965Z"
   },
   {
    "duration": 0,
    "start_time": "2022-04-16T13:50:48.966Z"
   },
   {
    "duration": 0,
    "start_time": "2022-04-16T13:50:48.968Z"
   },
   {
    "duration": 0,
    "start_time": "2022-04-16T13:50:48.969Z"
   },
   {
    "duration": 0,
    "start_time": "2022-04-16T13:50:48.971Z"
   },
   {
    "duration": 0,
    "start_time": "2022-04-16T13:50:48.973Z"
   },
   {
    "duration": 0,
    "start_time": "2022-04-16T13:50:48.974Z"
   },
   {
    "duration": 0,
    "start_time": "2022-04-16T13:50:48.976Z"
   },
   {
    "duration": 0,
    "start_time": "2022-04-16T13:50:48.977Z"
   },
   {
    "duration": 0,
    "start_time": "2022-04-16T13:50:48.979Z"
   },
   {
    "duration": 0,
    "start_time": "2022-04-16T13:50:48.980Z"
   },
   {
    "duration": 0,
    "start_time": "2022-04-16T13:50:48.982Z"
   },
   {
    "duration": 0,
    "start_time": "2022-04-16T13:50:48.983Z"
   },
   {
    "duration": 0,
    "start_time": "2022-04-16T13:50:48.985Z"
   },
   {
    "duration": 0,
    "start_time": "2022-04-16T13:50:48.986Z"
   },
   {
    "duration": 0,
    "start_time": "2022-04-16T13:50:48.988Z"
   },
   {
    "duration": 0,
    "start_time": "2022-04-16T13:50:48.989Z"
   },
   {
    "duration": 0,
    "start_time": "2022-04-16T13:50:48.992Z"
   },
   {
    "duration": 0,
    "start_time": "2022-04-16T13:50:48.993Z"
   },
   {
    "duration": 538,
    "start_time": "2022-04-16T13:51:13.222Z"
   },
   {
    "duration": 19,
    "start_time": "2022-04-16T13:51:13.762Z"
   },
   {
    "duration": 5,
    "start_time": "2022-04-16T13:51:13.783Z"
   },
   {
    "duration": 17,
    "start_time": "2022-04-16T13:51:13.790Z"
   },
   {
    "duration": 9,
    "start_time": "2022-04-16T13:51:13.813Z"
   },
   {
    "duration": 10,
    "start_time": "2022-04-16T13:51:13.824Z"
   },
   {
    "duration": 9,
    "start_time": "2022-04-16T13:51:13.836Z"
   },
   {
    "duration": 8,
    "start_time": "2022-04-16T13:51:13.847Z"
   },
   {
    "duration": 57,
    "start_time": "2022-04-16T13:51:13.857Z"
   },
   {
    "duration": 14,
    "start_time": "2022-04-16T13:51:13.923Z"
   },
   {
    "duration": 9,
    "start_time": "2022-04-16T13:51:13.938Z"
   },
   {
    "duration": 6,
    "start_time": "2022-04-16T13:51:13.949Z"
   },
   {
    "duration": 4,
    "start_time": "2022-04-16T13:51:13.957Z"
   },
   {
    "duration": 51,
    "start_time": "2022-04-16T13:51:13.963Z"
   },
   {
    "duration": 5,
    "start_time": "2022-04-16T13:51:14.017Z"
   },
   {
    "duration": 5,
    "start_time": "2022-04-16T13:51:14.025Z"
   },
   {
    "duration": 16,
    "start_time": "2022-04-16T13:51:14.032Z"
   },
   {
    "duration": 5,
    "start_time": "2022-04-16T13:51:14.049Z"
   },
   {
    "duration": 10,
    "start_time": "2022-04-16T13:51:14.055Z"
   },
   {
    "duration": 16,
    "start_time": "2022-04-16T13:51:14.108Z"
   },
   {
    "duration": 7,
    "start_time": "2022-04-16T13:51:14.130Z"
   },
   {
    "duration": 24,
    "start_time": "2022-04-16T13:51:14.138Z"
   },
   {
    "duration": 59,
    "start_time": "2022-04-16T13:51:14.163Z"
   },
   {
    "duration": 16,
    "start_time": "2022-04-16T13:51:14.224Z"
   },
   {
    "duration": 9,
    "start_time": "2022-04-16T13:51:14.242Z"
   },
   {
    "duration": 7,
    "start_time": "2022-04-16T13:51:14.253Z"
   },
   {
    "duration": 51,
    "start_time": "2022-04-16T13:51:14.261Z"
   },
   {
    "duration": 21,
    "start_time": "2022-04-16T13:51:14.316Z"
   },
   {
    "duration": 26,
    "start_time": "2022-04-16T13:51:14.339Z"
   },
   {
    "duration": 54,
    "start_time": "2022-04-16T13:51:14.367Z"
   },
   {
    "duration": 20,
    "start_time": "2022-04-16T13:51:14.422Z"
   },
   {
    "duration": 17,
    "start_time": "2022-04-16T13:51:14.444Z"
   },
   {
    "duration": 19,
    "start_time": "2022-04-16T13:51:14.463Z"
   },
   {
    "duration": 62,
    "start_time": "2022-04-16T13:51:14.484Z"
   },
   {
    "duration": 9,
    "start_time": "2022-04-16T13:51:14.548Z"
   },
   {
    "duration": 4,
    "start_time": "2022-04-16T13:53:05.372Z"
   },
   {
    "duration": 1459,
    "start_time": "2022-04-16T13:53:46.182Z"
   },
   {
    "duration": 1466,
    "start_time": "2022-04-16T13:53:59.549Z"
   },
   {
    "duration": 1701,
    "start_time": "2022-04-16T13:54:09.616Z"
   },
   {
    "duration": 18,
    "start_time": "2022-04-16T13:54:56.546Z"
   },
   {
    "duration": 11,
    "start_time": "2022-04-16T13:56:21.918Z"
   },
   {
    "duration": 9,
    "start_time": "2022-04-16T13:56:34.478Z"
   },
   {
    "duration": 10,
    "start_time": "2022-04-16T14:00:01.129Z"
   },
   {
    "duration": 21,
    "start_time": "2022-04-16T14:00:08.603Z"
   },
   {
    "duration": 5,
    "start_time": "2022-04-16T14:01:16.137Z"
   },
   {
    "duration": 5,
    "start_time": "2022-04-16T14:01:31.341Z"
   },
   {
    "duration": 9,
    "start_time": "2022-04-16T14:02:06.021Z"
   },
   {
    "duration": 5,
    "start_time": "2022-04-16T14:02:21.632Z"
   },
   {
    "duration": 534,
    "start_time": "2022-04-16T14:03:28.443Z"
   },
   {
    "duration": 19,
    "start_time": "2022-04-16T14:03:28.979Z"
   },
   {
    "duration": 16,
    "start_time": "2022-04-16T14:03:28.999Z"
   },
   {
    "duration": 10,
    "start_time": "2022-04-16T14:03:29.017Z"
   },
   {
    "duration": 5,
    "start_time": "2022-04-16T14:03:29.029Z"
   },
   {
    "duration": 6,
    "start_time": "2022-04-16T14:03:29.036Z"
   },
   {
    "duration": 11,
    "start_time": "2022-04-16T14:03:29.044Z"
   },
   {
    "duration": 10,
    "start_time": "2022-04-16T14:03:29.056Z"
   },
   {
    "duration": 57,
    "start_time": "2022-04-16T14:03:29.068Z"
   },
   {
    "duration": 18,
    "start_time": "2022-04-16T14:03:29.130Z"
   },
   {
    "duration": 10,
    "start_time": "2022-04-16T14:03:29.150Z"
   },
   {
    "duration": 7,
    "start_time": "2022-04-16T14:03:29.162Z"
   },
   {
    "duration": 38,
    "start_time": "2022-04-16T14:03:29.170Z"
   },
   {
    "duration": 6,
    "start_time": "2022-04-16T14:03:29.209Z"
   },
   {
    "duration": 5,
    "start_time": "2022-04-16T14:03:29.222Z"
   },
   {
    "duration": 6,
    "start_time": "2022-04-16T14:03:29.228Z"
   },
   {
    "duration": 15,
    "start_time": "2022-04-16T14:03:29.235Z"
   },
   {
    "duration": 5,
    "start_time": "2022-04-16T14:03:29.251Z"
   },
   {
    "duration": 8,
    "start_time": "2022-04-16T14:03:29.258Z"
   },
   {
    "duration": 14,
    "start_time": "2022-04-16T14:03:29.312Z"
   },
   {
    "duration": 7,
    "start_time": "2022-04-16T14:03:29.327Z"
   },
   {
    "duration": 22,
    "start_time": "2022-04-16T14:03:29.336Z"
   },
   {
    "duration": 8,
    "start_time": "2022-04-16T14:03:29.359Z"
   },
   {
    "duration": 55,
    "start_time": "2022-04-16T14:03:29.368Z"
   },
   {
    "duration": 9,
    "start_time": "2022-04-16T14:03:29.425Z"
   },
   {
    "duration": 6,
    "start_time": "2022-04-16T14:03:29.436Z"
   },
   {
    "duration": 10,
    "start_time": "2022-04-16T14:03:29.443Z"
   },
   {
    "duration": 15,
    "start_time": "2022-04-16T14:03:29.455Z"
   },
   {
    "duration": 6,
    "start_time": "2022-04-16T14:03:29.512Z"
   },
   {
    "duration": 7,
    "start_time": "2022-04-16T14:03:29.520Z"
   },
   {
    "duration": 6,
    "start_time": "2022-04-16T14:04:19.209Z"
   },
   {
    "duration": 72,
    "start_time": "2022-04-16T14:04:33.431Z"
   },
   {
    "duration": 5,
    "start_time": "2022-04-16T14:05:29.079Z"
   },
   {
    "duration": 710,
    "start_time": "2022-04-16T14:05:35.963Z"
   },
   {
    "duration": 4,
    "start_time": "2022-04-16T14:07:10.886Z"
   },
   {
    "duration": 5,
    "start_time": "2022-04-16T14:07:22.603Z"
   },
   {
    "duration": 5,
    "start_time": "2022-04-16T14:07:58.623Z"
   },
   {
    "duration": 5,
    "start_time": "2022-04-16T14:08:11.044Z"
   },
   {
    "duration": 26,
    "start_time": "2022-04-16T14:08:57.663Z"
   },
   {
    "duration": 26,
    "start_time": "2022-04-16T14:09:00.509Z"
   },
   {
    "duration": 16,
    "start_time": "2022-04-16T14:09:02.790Z"
   },
   {
    "duration": 19,
    "start_time": "2022-04-16T14:09:08.274Z"
   },
   {
    "duration": 37,
    "start_time": "2022-04-16T14:09:11.006Z"
   },
   {
    "duration": 3,
    "start_time": "2022-04-16T15:11:15.344Z"
   },
   {
    "duration": 9,
    "start_time": "2022-04-16T15:11:34.666Z"
   },
   {
    "duration": 5,
    "start_time": "2022-04-16T15:11:41.927Z"
   },
   {
    "duration": 8,
    "start_time": "2022-04-16T15:22:06.043Z"
   },
   {
    "duration": 5,
    "start_time": "2022-04-16T15:22:10.911Z"
   },
   {
    "duration": 97,
    "start_time": "2022-04-16T15:22:53.900Z"
   },
   {
    "duration": 1592,
    "start_time": "2022-04-16T15:22:59.831Z"
   },
   {
    "duration": 7,
    "start_time": "2022-04-16T15:23:24.139Z"
   },
   {
    "duration": 18,
    "start_time": "2022-04-16T15:26:17.579Z"
   },
   {
    "duration": 4,
    "start_time": "2022-04-16T15:27:31.177Z"
   },
   {
    "duration": 13,
    "start_time": "2022-04-16T15:29:38.614Z"
   },
   {
    "duration": 4,
    "start_time": "2022-04-16T15:30:41.639Z"
   },
   {
    "duration": 10,
    "start_time": "2022-04-16T15:31:01.016Z"
   },
   {
    "duration": 14,
    "start_time": "2022-04-16T15:31:27.761Z"
   },
   {
    "duration": 17,
    "start_time": "2022-04-16T15:31:35.705Z"
   },
   {
    "duration": 13,
    "start_time": "2022-04-16T15:31:50.723Z"
   },
   {
    "duration": 13,
    "start_time": "2022-04-16T15:32:11.452Z"
   },
   {
    "duration": 8,
    "start_time": "2022-04-16T15:32:26.869Z"
   },
   {
    "duration": 12,
    "start_time": "2022-04-16T15:32:37.672Z"
   },
   {
    "duration": 11,
    "start_time": "2022-04-16T15:33:00.824Z"
   },
   {
    "duration": 8,
    "start_time": "2022-04-16T15:50:49.316Z"
   },
   {
    "duration": 12,
    "start_time": "2022-04-16T15:51:06.522Z"
   },
   {
    "duration": 578,
    "start_time": "2022-04-16T15:51:45.287Z"
   },
   {
    "duration": 19,
    "start_time": "2022-04-16T15:51:45.868Z"
   },
   {
    "duration": 5,
    "start_time": "2022-04-16T15:51:45.889Z"
   },
   {
    "duration": 5,
    "start_time": "2022-04-16T15:51:45.910Z"
   },
   {
    "duration": 8,
    "start_time": "2022-04-16T15:51:45.917Z"
   },
   {
    "duration": 7,
    "start_time": "2022-04-16T15:51:45.927Z"
   },
   {
    "duration": 8,
    "start_time": "2022-04-16T15:51:45.935Z"
   },
   {
    "duration": 8,
    "start_time": "2022-04-16T15:51:45.944Z"
   },
   {
    "duration": 62,
    "start_time": "2022-04-16T15:51:45.954Z"
   },
   {
    "duration": 15,
    "start_time": "2022-04-16T15:51:46.020Z"
   },
   {
    "duration": 10,
    "start_time": "2022-04-16T15:51:46.037Z"
   },
   {
    "duration": 5,
    "start_time": "2022-04-16T15:51:46.049Z"
   },
   {
    "duration": 5,
    "start_time": "2022-04-16T15:51:46.056Z"
   },
   {
    "duration": 52,
    "start_time": "2022-04-16T15:51:46.063Z"
   },
   {
    "duration": 6,
    "start_time": "2022-04-16T15:51:46.116Z"
   },
   {
    "duration": 8,
    "start_time": "2022-04-16T15:51:46.125Z"
   },
   {
    "duration": 17,
    "start_time": "2022-04-16T15:51:46.135Z"
   },
   {
    "duration": 6,
    "start_time": "2022-04-16T15:51:46.154Z"
   },
   {
    "duration": 52,
    "start_time": "2022-04-16T15:51:46.162Z"
   },
   {
    "duration": 14,
    "start_time": "2022-04-16T15:51:46.215Z"
   },
   {
    "duration": 6,
    "start_time": "2022-04-16T15:51:46.231Z"
   },
   {
    "duration": 21,
    "start_time": "2022-04-16T15:51:46.239Z"
   },
   {
    "duration": 8,
    "start_time": "2022-04-16T15:51:46.262Z"
   },
   {
    "duration": 56,
    "start_time": "2022-04-16T15:51:46.271Z"
   },
   {
    "duration": 9,
    "start_time": "2022-04-16T15:51:46.328Z"
   },
   {
    "duration": 5,
    "start_time": "2022-04-16T15:51:46.338Z"
   },
   {
    "duration": 9,
    "start_time": "2022-04-16T15:51:46.345Z"
   },
   {
    "duration": 13,
    "start_time": "2022-04-16T15:51:46.357Z"
   },
   {
    "duration": 6,
    "start_time": "2022-04-16T15:51:46.412Z"
   },
   {
    "duration": 7,
    "start_time": "2022-04-16T15:51:46.420Z"
   },
   {
    "duration": 5,
    "start_time": "2022-04-16T15:51:46.428Z"
   },
   {
    "duration": 4,
    "start_time": "2022-04-16T15:51:46.435Z"
   },
   {
    "duration": 31,
    "start_time": "2022-04-16T15:51:46.441Z"
   },
   {
    "duration": 60,
    "start_time": "2022-04-16T15:51:46.475Z"
   },
   {
    "duration": 30,
    "start_time": "2022-04-16T15:51:46.537Z"
   },
   {
    "duration": 42,
    "start_time": "2022-04-16T15:51:46.570Z"
   },
   {
    "duration": 32,
    "start_time": "2022-04-16T15:51:46.616Z"
   },
   {
    "duration": 5,
    "start_time": "2022-04-16T15:51:46.650Z"
   },
   {
    "duration": 131,
    "start_time": "2022-04-16T15:51:46.657Z"
   },
   {
    "duration": 0,
    "start_time": "2022-04-16T15:51:46.789Z"
   },
   {
    "duration": 1,
    "start_time": "2022-04-16T15:51:46.790Z"
   },
   {
    "duration": 0,
    "start_time": "2022-04-16T15:51:46.792Z"
   },
   {
    "duration": 0,
    "start_time": "2022-04-16T15:51:46.793Z"
   },
   {
    "duration": 0,
    "start_time": "2022-04-16T15:51:46.794Z"
   },
   {
    "duration": 11,
    "start_time": "2022-04-16T15:52:20.557Z"
   },
   {
    "duration": 11,
    "start_time": "2022-04-16T15:52:23.091Z"
   },
   {
    "duration": 15,
    "start_time": "2022-04-16T15:52:24.908Z"
   },
   {
    "duration": 10,
    "start_time": "2022-04-16T15:52:26.751Z"
   },
   {
    "duration": 12,
    "start_time": "2022-04-16T15:52:44.154Z"
   },
   {
    "duration": 12,
    "start_time": "2022-04-16T15:53:04.787Z"
   },
   {
    "duration": 13,
    "start_time": "2022-04-16T15:54:15.384Z"
   },
   {
    "duration": 3,
    "start_time": "2022-04-16T16:04:38.261Z"
   },
   {
    "duration": 14,
    "start_time": "2022-04-16T16:04:39.513Z"
   },
   {
    "duration": 36,
    "start_time": "2022-04-16T16:04:47.905Z"
   },
   {
    "duration": 21,
    "start_time": "2022-04-16T16:05:04.323Z"
   },
   {
    "duration": 9,
    "start_time": "2022-04-16T16:12:02.581Z"
   },
   {
    "duration": 78,
    "start_time": "2022-04-16T16:33:43.188Z"
   },
   {
    "duration": 11,
    "start_time": "2022-04-16T16:34:50.793Z"
   },
   {
    "duration": 5,
    "start_time": "2022-04-16T17:18:10.287Z"
   },
   {
    "duration": 11,
    "start_time": "2022-04-16T17:19:12.134Z"
   },
   {
    "duration": 6,
    "start_time": "2022-04-16T17:19:20.533Z"
   },
   {
    "duration": 5,
    "start_time": "2022-04-16T17:19:51.446Z"
   },
   {
    "duration": 63,
    "start_time": "2022-04-16T17:23:21.284Z"
   },
   {
    "duration": 4,
    "start_time": "2022-04-16T17:24:08.661Z"
   },
   {
    "duration": 32,
    "start_time": "2022-04-16T17:24:11.259Z"
   },
   {
    "duration": 5,
    "start_time": "2022-04-16T17:24:37.690Z"
   },
   {
    "duration": 525,
    "start_time": "2022-04-16T17:28:45.135Z"
   },
   {
    "duration": 24,
    "start_time": "2022-04-16T17:28:45.662Z"
   },
   {
    "duration": 4,
    "start_time": "2022-04-16T17:28:45.688Z"
   },
   {
    "duration": 20,
    "start_time": "2022-04-16T17:28:45.694Z"
   },
   {
    "duration": 8,
    "start_time": "2022-04-16T17:28:45.719Z"
   },
   {
    "duration": 10,
    "start_time": "2022-04-16T17:28:45.730Z"
   },
   {
    "duration": 7,
    "start_time": "2022-04-16T17:28:45.741Z"
   },
   {
    "duration": 7,
    "start_time": "2022-04-16T17:28:45.750Z"
   },
   {
    "duration": 54,
    "start_time": "2022-04-16T17:28:45.758Z"
   },
   {
    "duration": 31,
    "start_time": "2022-04-16T17:28:45.815Z"
   },
   {
    "duration": 7,
    "start_time": "2022-04-16T17:28:45.847Z"
   },
   {
    "duration": 5,
    "start_time": "2022-04-16T17:28:45.856Z"
   },
   {
    "duration": 48,
    "start_time": "2022-04-16T17:28:45.863Z"
   },
   {
    "duration": 9,
    "start_time": "2022-04-16T17:28:45.914Z"
   },
   {
    "duration": 8,
    "start_time": "2022-04-16T17:28:45.925Z"
   },
   {
    "duration": 6,
    "start_time": "2022-04-16T17:28:45.938Z"
   },
   {
    "duration": 14,
    "start_time": "2022-04-16T17:28:45.946Z"
   },
   {
    "duration": 5,
    "start_time": "2022-04-16T17:28:45.961Z"
   },
   {
    "duration": 19,
    "start_time": "2022-04-16T17:28:46.008Z"
   },
   {
    "duration": 10,
    "start_time": "2022-04-16T17:28:46.030Z"
   },
   {
    "duration": 16,
    "start_time": "2022-04-16T17:28:46.042Z"
   },
   {
    "duration": 56,
    "start_time": "2022-04-16T17:28:46.061Z"
   },
   {
    "duration": 18,
    "start_time": "2022-04-16T17:28:46.120Z"
   },
   {
    "duration": 24,
    "start_time": "2022-04-16T17:28:46.140Z"
   },
   {
    "duration": 14,
    "start_time": "2022-04-16T17:28:46.167Z"
   },
   {
    "duration": 33,
    "start_time": "2022-04-16T17:28:46.183Z"
   },
   {
    "duration": 16,
    "start_time": "2022-04-16T17:28:46.218Z"
   },
   {
    "duration": 17,
    "start_time": "2022-04-16T17:28:46.236Z"
   },
   {
    "duration": 5,
    "start_time": "2022-04-16T17:28:46.256Z"
   },
   {
    "duration": 52,
    "start_time": "2022-04-16T17:28:46.263Z"
   },
   {
    "duration": 5,
    "start_time": "2022-04-16T17:28:46.320Z"
   },
   {
    "duration": 8,
    "start_time": "2022-04-16T17:28:46.327Z"
   },
   {
    "duration": 25,
    "start_time": "2022-04-16T17:28:46.337Z"
   },
   {
    "duration": 58,
    "start_time": "2022-04-16T17:28:46.364Z"
   },
   {
    "duration": 24,
    "start_time": "2022-04-16T17:28:46.425Z"
   },
   {
    "duration": 20,
    "start_time": "2022-04-16T17:28:46.451Z"
   },
   {
    "duration": 71,
    "start_time": "2022-04-16T17:28:46.473Z"
   },
   {
    "duration": 4,
    "start_time": "2022-04-16T17:28:46.546Z"
   },
   {
    "duration": 12,
    "start_time": "2022-04-16T17:28:46.551Z"
   },
   {
    "duration": 11,
    "start_time": "2022-04-16T17:28:46.564Z"
   },
   {
    "duration": 17,
    "start_time": "2022-04-16T17:28:46.613Z"
   },
   {
    "duration": 8,
    "start_time": "2022-04-16T17:28:46.632Z"
   },
   {
    "duration": 26,
    "start_time": "2022-04-16T17:28:46.644Z"
   },
   {
    "duration": 45,
    "start_time": "2022-04-16T17:28:46.671Z"
   },
   {
    "duration": 10,
    "start_time": "2022-04-16T17:28:46.718Z"
   },
   {
    "duration": 15,
    "start_time": "2022-04-16T17:28:46.730Z"
   },
   {
    "duration": 15,
    "start_time": "2022-04-16T17:28:46.747Z"
   },
   {
    "duration": 7,
    "start_time": "2022-04-16T17:28:46.764Z"
   },
   {
    "duration": 41,
    "start_time": "2022-04-16T17:28:46.773Z"
   },
   {
    "duration": 61,
    "start_time": "2022-04-16T17:28:46.819Z"
   },
   {
    "duration": 100,
    "start_time": "2022-04-16T17:33:17.038Z"
   },
   {
    "duration": 7,
    "start_time": "2022-04-16T17:33:21.230Z"
   },
   {
    "duration": 8,
    "start_time": "2022-04-16T17:34:15.916Z"
   },
   {
    "duration": 9,
    "start_time": "2022-04-16T17:35:03.400Z"
   },
   {
    "duration": 79,
    "start_time": "2022-04-16T17:40:54.045Z"
   },
   {
    "duration": 17,
    "start_time": "2022-04-16T17:42:05.277Z"
   },
   {
    "duration": 21,
    "start_time": "2022-04-16T17:42:22.283Z"
   },
   {
    "duration": 21,
    "start_time": "2022-04-16T17:43:24.558Z"
   },
   {
    "duration": 20,
    "start_time": "2022-04-16T17:43:54.202Z"
   },
   {
    "duration": 91,
    "start_time": "2022-04-16T17:44:24.317Z"
   },
   {
    "duration": 19,
    "start_time": "2022-04-16T17:45:30.745Z"
   },
   {
    "duration": 25,
    "start_time": "2022-04-16T17:46:08.193Z"
   },
   {
    "duration": 4,
    "start_time": "2022-04-16T17:48:22.578Z"
   },
   {
    "duration": 5,
    "start_time": "2022-04-16T17:48:27.892Z"
   },
   {
    "duration": 9,
    "start_time": "2022-04-16T17:48:40.033Z"
   },
   {
    "duration": 7,
    "start_time": "2022-04-16T17:48:47.308Z"
   },
   {
    "duration": 10,
    "start_time": "2022-04-16T17:49:37.720Z"
   },
   {
    "duration": 6,
    "start_time": "2022-04-16T17:49:58.477Z"
   },
   {
    "duration": 6,
    "start_time": "2022-04-16T17:56:17.496Z"
   },
   {
    "duration": 684,
    "start_time": "2022-04-18T08:15:22.996Z"
   },
   {
    "duration": 17,
    "start_time": "2022-04-18T08:15:23.682Z"
   },
   {
    "duration": 7,
    "start_time": "2022-04-18T08:15:23.700Z"
   },
   {
    "duration": 5,
    "start_time": "2022-04-18T08:15:23.709Z"
   },
   {
    "duration": 7,
    "start_time": "2022-04-18T08:15:23.715Z"
   },
   {
    "duration": 6,
    "start_time": "2022-04-18T08:15:23.723Z"
   },
   {
    "duration": 9,
    "start_time": "2022-04-18T08:15:23.731Z"
   },
   {
    "duration": 16,
    "start_time": "2022-04-18T08:15:23.755Z"
   },
   {
    "duration": 9,
    "start_time": "2022-04-18T08:15:23.772Z"
   },
   {
    "duration": 12,
    "start_time": "2022-04-18T08:15:23.785Z"
   },
   {
    "duration": 9,
    "start_time": "2022-04-18T08:15:23.798Z"
   },
   {
    "duration": 6,
    "start_time": "2022-04-18T08:15:23.808Z"
   },
   {
    "duration": 5,
    "start_time": "2022-04-18T08:15:23.815Z"
   },
   {
    "duration": 45,
    "start_time": "2022-04-18T08:15:23.822Z"
   },
   {
    "duration": 4,
    "start_time": "2022-04-18T08:15:23.870Z"
   },
   {
    "duration": 13,
    "start_time": "2022-04-18T08:15:23.876Z"
   },
   {
    "duration": 16,
    "start_time": "2022-04-18T08:15:23.890Z"
   },
   {
    "duration": 4,
    "start_time": "2022-04-18T08:15:23.908Z"
   },
   {
    "duration": 13,
    "start_time": "2022-04-18T08:15:23.914Z"
   },
   {
    "duration": 13,
    "start_time": "2022-04-18T08:15:23.928Z"
   },
   {
    "duration": 17,
    "start_time": "2022-04-18T08:15:23.943Z"
   },
   {
    "duration": 27,
    "start_time": "2022-04-18T08:15:23.964Z"
   },
   {
    "duration": 7,
    "start_time": "2022-04-18T08:15:23.993Z"
   },
   {
    "duration": 22,
    "start_time": "2022-04-18T08:15:24.001Z"
   },
   {
    "duration": 49,
    "start_time": "2022-04-18T08:15:24.025Z"
   },
   {
    "duration": 7,
    "start_time": "2022-04-18T08:15:24.075Z"
   },
   {
    "duration": 10,
    "start_time": "2022-04-18T08:15:24.083Z"
   },
   {
    "duration": 13,
    "start_time": "2022-04-18T08:15:24.096Z"
   },
   {
    "duration": 4,
    "start_time": "2022-04-18T08:15:24.111Z"
   },
   {
    "duration": 6,
    "start_time": "2022-04-18T08:15:24.117Z"
   },
   {
    "duration": 8,
    "start_time": "2022-04-18T08:15:24.124Z"
   },
   {
    "duration": 30,
    "start_time": "2022-04-18T08:15:24.133Z"
   },
   {
    "duration": 22,
    "start_time": "2022-04-18T08:15:24.166Z"
   },
   {
    "duration": 19,
    "start_time": "2022-04-18T08:15:24.190Z"
   },
   {
    "duration": 16,
    "start_time": "2022-04-18T08:15:24.211Z"
   },
   {
    "duration": 22,
    "start_time": "2022-04-18T08:15:24.260Z"
   },
   {
    "duration": 27,
    "start_time": "2022-04-18T08:15:24.284Z"
   },
   {
    "duration": 4,
    "start_time": "2022-04-18T08:15:24.312Z"
   },
   {
    "duration": 18,
    "start_time": "2022-04-18T08:15:24.317Z"
   },
   {
    "duration": 13,
    "start_time": "2022-04-18T08:15:24.360Z"
   },
   {
    "duration": 10,
    "start_time": "2022-04-18T08:15:24.375Z"
   },
   {
    "duration": 9,
    "start_time": "2022-04-18T08:15:24.386Z"
   },
   {
    "duration": 20,
    "start_time": "2022-04-18T08:15:24.396Z"
   },
   {
    "duration": 12,
    "start_time": "2022-04-18T08:15:24.417Z"
   },
   {
    "duration": 31,
    "start_time": "2022-04-18T08:15:24.431Z"
   },
   {
    "duration": 16,
    "start_time": "2022-04-18T08:15:24.465Z"
   },
   {
    "duration": 12,
    "start_time": "2022-04-18T08:15:24.483Z"
   },
   {
    "duration": 5,
    "start_time": "2022-04-18T08:15:24.496Z"
   },
   {
    "duration": 26,
    "start_time": "2022-04-18T08:15:24.502Z"
   },
   {
    "duration": 57,
    "start_time": "2022-04-18T08:15:24.530Z"
   },
   {
    "duration": 5,
    "start_time": "2022-04-18T08:15:24.589Z"
   },
   {
    "duration": 11,
    "start_time": "2022-04-18T08:15:24.595Z"
   },
   {
    "duration": 22,
    "start_time": "2022-04-18T08:15:24.607Z"
   },
   {
    "duration": 40,
    "start_time": "2022-04-18T08:15:24.630Z"
   },
   {
    "duration": 5,
    "start_time": "2022-04-18T08:19:00.880Z"
   },
   {
    "duration": 14,
    "start_time": "2022-04-18T08:20:36.543Z"
   },
   {
    "duration": 6,
    "start_time": "2022-04-18T08:21:51.400Z"
   },
   {
    "duration": 8,
    "start_time": "2022-04-18T08:22:03.550Z"
   },
   {
    "duration": 95,
    "start_time": "2022-04-18T08:23:51.941Z"
   },
   {
    "duration": 9,
    "start_time": "2022-04-18T08:24:24.791Z"
   },
   {
    "duration": 8,
    "start_time": "2022-04-18T08:24:39.296Z"
   },
   {
    "duration": 8,
    "start_time": "2022-04-18T08:25:12.722Z"
   },
   {
    "duration": 8,
    "start_time": "2022-04-18T08:25:32.868Z"
   },
   {
    "duration": 13,
    "start_time": "2022-04-18T08:37:22.341Z"
   },
   {
    "duration": 9,
    "start_time": "2022-04-18T08:38:25.941Z"
   },
   {
    "duration": 487,
    "start_time": "2022-04-18T08:38:34.767Z"
   },
   {
    "duration": 10,
    "start_time": "2022-04-18T08:38:49.852Z"
   },
   {
    "duration": 11,
    "start_time": "2022-04-18T08:39:15.496Z"
   },
   {
    "duration": 9,
    "start_time": "2022-04-18T08:39:41.452Z"
   },
   {
    "duration": 11,
    "start_time": "2022-04-18T08:39:47.771Z"
   },
   {
    "duration": 8,
    "start_time": "2022-04-18T08:39:58.152Z"
   },
   {
    "duration": 12,
    "start_time": "2022-04-18T08:40:13.321Z"
   },
   {
    "duration": 19,
    "start_time": "2022-04-18T08:40:26.256Z"
   },
   {
    "duration": 14,
    "start_time": "2022-04-18T08:41:03.502Z"
   },
   {
    "duration": 6,
    "start_time": "2022-04-18T08:41:12.312Z"
   },
   {
    "duration": 6,
    "start_time": "2022-04-18T08:41:15.537Z"
   },
   {
    "duration": 8,
    "start_time": "2022-04-18T08:41:33.712Z"
   },
   {
    "duration": 4,
    "start_time": "2022-04-18T08:46:57.641Z"
   },
   {
    "duration": 7,
    "start_time": "2022-04-18T08:47:18.082Z"
   },
   {
    "duration": 3,
    "start_time": "2022-04-18T08:51:01.181Z"
   },
   {
    "duration": 9,
    "start_time": "2022-04-18T08:51:12.762Z"
   },
   {
    "duration": 13,
    "start_time": "2022-04-18T08:52:35.167Z"
   },
   {
    "duration": 9,
    "start_time": "2022-04-18T08:52:45.512Z"
   },
   {
    "duration": 9,
    "start_time": "2022-04-18T08:53:05.226Z"
   },
   {
    "duration": 9,
    "start_time": "2022-04-18T08:54:31.017Z"
   },
   {
    "duration": 8,
    "start_time": "2022-04-18T08:55:36.151Z"
   },
   {
    "duration": 12,
    "start_time": "2022-04-18T08:56:18.862Z"
   },
   {
    "duration": 12,
    "start_time": "2022-04-18T08:56:34.502Z"
   },
   {
    "duration": 15,
    "start_time": "2022-04-18T09:01:23.257Z"
   },
   {
    "duration": 521,
    "start_time": "2022-04-18T09:05:16.170Z"
   },
   {
    "duration": 19,
    "start_time": "2022-04-18T09:05:16.692Z"
   },
   {
    "duration": 7,
    "start_time": "2022-04-18T09:05:16.712Z"
   },
   {
    "duration": 4,
    "start_time": "2022-04-18T09:05:16.721Z"
   },
   {
    "duration": 30,
    "start_time": "2022-04-18T09:05:16.727Z"
   },
   {
    "duration": 7,
    "start_time": "2022-04-18T09:05:16.759Z"
   },
   {
    "duration": 11,
    "start_time": "2022-04-18T09:05:16.768Z"
   },
   {
    "duration": 14,
    "start_time": "2022-04-18T09:05:16.780Z"
   },
   {
    "duration": 9,
    "start_time": "2022-04-18T09:05:16.796Z"
   },
   {
    "duration": 14,
    "start_time": "2022-04-18T09:05:16.809Z"
   },
   {
    "duration": 10,
    "start_time": "2022-04-18T09:05:16.825Z"
   },
   {
    "duration": 5,
    "start_time": "2022-04-18T09:05:16.855Z"
   },
   {
    "duration": 17,
    "start_time": "2022-04-18T09:05:16.862Z"
   },
   {
    "duration": 10,
    "start_time": "2022-04-18T09:05:16.881Z"
   },
   {
    "duration": 9,
    "start_time": "2022-04-18T09:05:16.892Z"
   },
   {
    "duration": 8,
    "start_time": "2022-04-18T09:05:16.902Z"
   },
   {
    "duration": 21,
    "start_time": "2022-04-18T09:05:16.911Z"
   },
   {
    "duration": 5,
    "start_time": "2022-04-18T09:05:16.933Z"
   },
   {
    "duration": 24,
    "start_time": "2022-04-18T09:05:16.940Z"
   },
   {
    "duration": 9,
    "start_time": "2022-04-18T09:05:16.965Z"
   },
   {
    "duration": 7,
    "start_time": "2022-04-18T09:05:16.975Z"
   },
   {
    "duration": 25,
    "start_time": "2022-04-18T09:05:16.984Z"
   },
   {
    "duration": 9,
    "start_time": "2022-04-18T09:05:17.011Z"
   },
   {
    "duration": 17,
    "start_time": "2022-04-18T09:05:17.054Z"
   },
   {
    "duration": 9,
    "start_time": "2022-04-18T09:05:17.072Z"
   },
   {
    "duration": 11,
    "start_time": "2022-04-18T09:05:17.083Z"
   },
   {
    "duration": 10,
    "start_time": "2022-04-18T09:05:17.096Z"
   },
   {
    "duration": 14,
    "start_time": "2022-04-18T09:05:17.110Z"
   },
   {
    "duration": 4,
    "start_time": "2022-04-18T09:05:17.155Z"
   },
   {
    "duration": 15,
    "start_time": "2022-04-18T09:05:17.161Z"
   },
   {
    "duration": 8,
    "start_time": "2022-04-18T09:05:17.178Z"
   },
   {
    "duration": 8,
    "start_time": "2022-04-18T09:05:17.187Z"
   },
   {
    "duration": 20,
    "start_time": "2022-04-18T09:05:17.196Z"
   },
   {
    "duration": 36,
    "start_time": "2022-04-18T09:05:17.218Z"
   },
   {
    "duration": 20,
    "start_time": "2022-04-18T09:05:17.256Z"
   },
   {
    "duration": 23,
    "start_time": "2022-04-18T09:05:17.278Z"
   },
   {
    "duration": 29,
    "start_time": "2022-04-18T09:05:17.303Z"
   },
   {
    "duration": 22,
    "start_time": "2022-04-18T09:05:17.333Z"
   },
   {
    "duration": 10,
    "start_time": "2022-04-18T09:05:17.357Z"
   },
   {
    "duration": 14,
    "start_time": "2022-04-18T09:05:17.368Z"
   },
   {
    "duration": 11,
    "start_time": "2022-04-18T09:05:17.384Z"
   },
   {
    "duration": 14,
    "start_time": "2022-04-18T09:05:17.396Z"
   },
   {
    "duration": 13,
    "start_time": "2022-04-18T09:05:17.412Z"
   },
   {
    "duration": 37,
    "start_time": "2022-04-18T09:05:17.427Z"
   },
   {
    "duration": 14,
    "start_time": "2022-04-18T09:05:17.467Z"
   },
   {
    "duration": 21,
    "start_time": "2022-04-18T09:05:17.483Z"
   },
   {
    "duration": 19,
    "start_time": "2022-04-18T09:05:17.506Z"
   },
   {
    "duration": 8,
    "start_time": "2022-04-18T09:05:17.527Z"
   },
   {
    "duration": 18,
    "start_time": "2022-04-18T09:05:17.537Z"
   },
   {
    "duration": 61,
    "start_time": "2022-04-18T09:05:17.557Z"
   },
   {
    "duration": 7,
    "start_time": "2022-04-18T09:05:17.620Z"
   },
   {
    "duration": 7,
    "start_time": "2022-04-18T09:05:17.629Z"
   },
   {
    "duration": 19,
    "start_time": "2022-04-18T09:05:17.637Z"
   },
   {
    "duration": 9,
    "start_time": "2022-04-18T09:05:17.657Z"
   },
   {
    "duration": 12,
    "start_time": "2022-04-18T09:05:17.668Z"
   },
   {
    "duration": 15,
    "start_time": "2022-04-18T09:05:17.682Z"
   },
   {
    "duration": 8,
    "start_time": "2022-04-18T09:05:17.699Z"
   },
   {
    "duration": 12,
    "start_time": "2022-04-18T09:05:17.708Z"
   },
   {
    "duration": 9,
    "start_time": "2022-04-18T09:05:17.721Z"
   },
   {
    "duration": 40,
    "start_time": "2022-04-18T09:05:17.732Z"
   },
   {
    "duration": 6,
    "start_time": "2022-04-18T09:05:42.516Z"
   },
   {
    "duration": 495,
    "start_time": "2022-04-18T09:09:58.750Z"
   },
   {
    "duration": 100,
    "start_time": "2022-04-18T09:10:21.101Z"
   },
   {
    "duration": 118,
    "start_time": "2022-04-18T09:11:15.476Z"
   },
   {
    "duration": 125,
    "start_time": "2022-04-18T09:11:48.056Z"
   },
   {
    "duration": 157,
    "start_time": "2022-04-18T09:13:46.832Z"
   },
   {
    "duration": 86,
    "start_time": "2022-04-18T09:18:37.081Z"
   },
   {
    "duration": 15,
    "start_time": "2022-04-18T09:19:25.401Z"
   },
   {
    "duration": 12,
    "start_time": "2022-04-18T09:19:32.051Z"
   },
   {
    "duration": 25,
    "start_time": "2022-04-18T09:22:16.407Z"
   },
   {
    "duration": 12,
    "start_time": "2022-04-18T09:25:08.526Z"
   },
   {
    "duration": 7,
    "start_time": "2022-04-18T09:25:47.596Z"
   },
   {
    "duration": 8,
    "start_time": "2022-04-18T09:26:14.917Z"
   },
   {
    "duration": 11,
    "start_time": "2022-04-18T09:26:58.996Z"
   },
   {
    "duration": 6,
    "start_time": "2022-04-18T09:27:00.630Z"
   },
   {
    "duration": 7,
    "start_time": "2022-04-18T09:27:24.491Z"
   },
   {
    "duration": 107,
    "start_time": "2022-04-18T09:29:00.706Z"
   },
   {
    "duration": 102,
    "start_time": "2022-04-18T09:29:09.321Z"
   },
   {
    "duration": 114,
    "start_time": "2022-04-18T09:29:15.907Z"
   },
   {
    "duration": 111,
    "start_time": "2022-04-18T09:29:28.021Z"
   },
   {
    "duration": 133,
    "start_time": "2022-04-18T09:29:47.546Z"
   },
   {
    "duration": 9,
    "start_time": "2022-04-18T09:31:31.072Z"
   },
   {
    "duration": 10,
    "start_time": "2022-04-18T09:31:46.460Z"
   },
   {
    "duration": 9,
    "start_time": "2022-04-18T09:32:55.631Z"
   },
   {
    "duration": 8,
    "start_time": "2022-04-18T09:33:24.836Z"
   },
   {
    "duration": 106,
    "start_time": "2022-04-18T09:40:00.156Z"
   },
   {
    "duration": 98,
    "start_time": "2022-04-18T09:40:16.747Z"
   },
   {
    "duration": 100,
    "start_time": "2022-04-18T09:40:41.425Z"
   },
   {
    "duration": 108,
    "start_time": "2022-04-18T09:40:51.976Z"
   },
   {
    "duration": 15,
    "start_time": "2022-04-18T09:41:23.892Z"
   },
   {
    "duration": 126,
    "start_time": "2022-04-18T09:41:41.821Z"
   },
   {
    "duration": 27,
    "start_time": "2022-04-18T09:57:25.125Z"
   },
   {
    "duration": 27,
    "start_time": "2022-04-18T09:58:47.686Z"
   },
   {
    "duration": 919,
    "start_time": "2022-04-18T10:00:30.127Z"
   },
   {
    "duration": 420,
    "start_time": "2022-04-18T10:00:54.972Z"
   },
   {
    "duration": 269,
    "start_time": "2022-04-18T10:01:55.666Z"
   },
   {
    "duration": 310,
    "start_time": "2022-04-18T10:02:22.661Z"
   },
   {
    "duration": 528,
    "start_time": "2022-04-18T10:13:41.569Z"
   },
   {
    "duration": 18,
    "start_time": "2022-04-18T10:13:42.099Z"
   },
   {
    "duration": 4,
    "start_time": "2022-04-18T10:13:42.119Z"
   },
   {
    "duration": 6,
    "start_time": "2022-04-18T10:13:42.124Z"
   },
   {
    "duration": 31,
    "start_time": "2022-04-18T10:13:42.132Z"
   },
   {
    "duration": 9,
    "start_time": "2022-04-18T10:13:42.164Z"
   },
   {
    "duration": 8,
    "start_time": "2022-04-18T10:13:42.175Z"
   },
   {
    "duration": 10,
    "start_time": "2022-04-18T10:13:42.184Z"
   },
   {
    "duration": 8,
    "start_time": "2022-04-18T10:13:42.196Z"
   },
   {
    "duration": 15,
    "start_time": "2022-04-18T10:13:42.205Z"
   },
   {
    "duration": 8,
    "start_time": "2022-04-18T10:13:42.222Z"
   },
   {
    "duration": 31,
    "start_time": "2022-04-18T10:13:42.231Z"
   },
   {
    "duration": 5,
    "start_time": "2022-04-18T10:13:42.264Z"
   },
   {
    "duration": 5,
    "start_time": "2022-04-18T10:13:42.272Z"
   },
   {
    "duration": 7,
    "start_time": "2022-04-18T10:13:42.278Z"
   },
   {
    "duration": 9,
    "start_time": "2022-04-18T10:13:42.287Z"
   },
   {
    "duration": 20,
    "start_time": "2022-04-18T10:13:42.297Z"
   },
   {
    "duration": 5,
    "start_time": "2022-04-18T10:13:42.318Z"
   },
   {
    "duration": 17,
    "start_time": "2022-04-18T10:13:42.324Z"
   },
   {
    "duration": 19,
    "start_time": "2022-04-18T10:13:42.343Z"
   },
   {
    "duration": 14,
    "start_time": "2022-04-18T10:13:42.364Z"
   },
   {
    "duration": 32,
    "start_time": "2022-04-18T10:13:42.379Z"
   },
   {
    "duration": 8,
    "start_time": "2022-04-18T10:13:42.413Z"
   },
   {
    "duration": 16,
    "start_time": "2022-04-18T10:13:42.422Z"
   },
   {
    "duration": 29,
    "start_time": "2022-04-18T10:13:42.440Z"
   },
   {
    "duration": 10,
    "start_time": "2022-04-18T10:13:42.471Z"
   },
   {
    "duration": 12,
    "start_time": "2022-04-18T10:13:42.483Z"
   },
   {
    "duration": 12,
    "start_time": "2022-04-18T10:13:42.497Z"
   },
   {
    "duration": 4,
    "start_time": "2022-04-18T10:13:42.511Z"
   },
   {
    "duration": 5,
    "start_time": "2022-04-18T10:13:42.517Z"
   },
   {
    "duration": 4,
    "start_time": "2022-04-18T10:13:42.524Z"
   },
   {
    "duration": 29,
    "start_time": "2022-04-18T10:13:42.530Z"
   },
   {
    "duration": 29,
    "start_time": "2022-04-18T10:13:42.561Z"
   },
   {
    "duration": 18,
    "start_time": "2022-04-18T10:13:42.592Z"
   },
   {
    "duration": 15,
    "start_time": "2022-04-18T10:13:42.611Z"
   },
   {
    "duration": 38,
    "start_time": "2022-04-18T10:13:42.628Z"
   },
   {
    "duration": 28,
    "start_time": "2022-04-18T10:13:42.668Z"
   },
   {
    "duration": 5,
    "start_time": "2022-04-18T10:13:42.698Z"
   },
   {
    "duration": 17,
    "start_time": "2022-04-18T10:13:42.704Z"
   },
   {
    "duration": 10,
    "start_time": "2022-04-18T10:13:42.723Z"
   },
   {
    "duration": 35,
    "start_time": "2022-04-18T10:13:42.738Z"
   },
   {
    "duration": 9,
    "start_time": "2022-04-18T10:13:42.775Z"
   },
   {
    "duration": 19,
    "start_time": "2022-04-18T10:13:42.785Z"
   },
   {
    "duration": 12,
    "start_time": "2022-04-18T10:13:42.805Z"
   },
   {
    "duration": 5,
    "start_time": "2022-04-18T10:13:42.818Z"
   },
   {
    "duration": 9,
    "start_time": "2022-04-18T10:13:42.825Z"
   },
   {
    "duration": 40,
    "start_time": "2022-04-18T10:13:42.835Z"
   },
   {
    "duration": 5,
    "start_time": "2022-04-18T10:13:42.877Z"
   },
   {
    "duration": 4,
    "start_time": "2022-04-18T10:13:42.884Z"
   },
   {
    "duration": 40,
    "start_time": "2022-04-18T10:13:42.890Z"
   },
   {
    "duration": 6,
    "start_time": "2022-04-18T10:13:42.931Z"
   },
   {
    "duration": 29,
    "start_time": "2022-04-18T10:13:42.938Z"
   },
   {
    "duration": 8,
    "start_time": "2022-04-18T10:13:42.969Z"
   },
   {
    "duration": 371,
    "start_time": "2022-04-18T10:13:42.978Z"
   },
   {
    "duration": 15,
    "start_time": "2022-04-18T10:13:43.355Z"
   },
   {
    "duration": 12,
    "start_time": "2022-04-18T10:13:43.371Z"
   },
   {
    "duration": 136,
    "start_time": "2022-04-18T10:13:43.385Z"
   },
   {
    "duration": 8,
    "start_time": "2022-04-18T10:13:43.523Z"
   },
   {
    "duration": 7,
    "start_time": "2022-04-18T10:13:43.532Z"
   },
   {
    "duration": 19,
    "start_time": "2022-04-18T10:13:43.540Z"
   },
   {
    "duration": 108,
    "start_time": "2022-04-18T10:13:43.560Z"
   },
   {
    "duration": 8,
    "start_time": "2022-04-18T10:13:43.670Z"
   },
   {
    "duration": 8,
    "start_time": "2022-04-18T10:13:43.680Z"
   },
   {
    "duration": 8,
    "start_time": "2022-04-18T10:13:43.689Z"
   },
   {
    "duration": 126,
    "start_time": "2022-04-18T10:13:43.698Z"
   },
   {
    "duration": 743,
    "start_time": "2022-04-18T10:13:43.826Z"
   },
   {
    "duration": 273,
    "start_time": "2022-04-18T10:13:44.571Z"
   },
   {
    "duration": 326,
    "start_time": "2022-04-18T10:13:44.845Z"
   },
   {
    "duration": 4,
    "start_time": "2022-04-18T10:33:33.240Z"
   },
   {
    "duration": 534,
    "start_time": "2022-04-26T19:25:51.383Z"
   },
   {
    "duration": 19,
    "start_time": "2022-04-26T19:25:51.918Z"
   },
   {
    "duration": 5,
    "start_time": "2022-04-26T19:25:51.939Z"
   },
   {
    "duration": 28,
    "start_time": "2022-04-26T19:25:51.946Z"
   },
   {
    "duration": 7,
    "start_time": "2022-04-26T19:25:51.977Z"
   },
   {
    "duration": 9,
    "start_time": "2022-04-26T19:25:51.985Z"
   },
   {
    "duration": 10,
    "start_time": "2022-04-26T19:25:51.996Z"
   },
   {
    "duration": 19,
    "start_time": "2022-04-26T19:25:52.008Z"
   },
   {
    "duration": 11,
    "start_time": "2022-04-26T19:25:52.029Z"
   },
   {
    "duration": 38,
    "start_time": "2022-04-26T19:25:52.044Z"
   },
   {
    "duration": 19,
    "start_time": "2022-04-26T19:25:52.084Z"
   },
   {
    "duration": 12,
    "start_time": "2022-04-26T19:25:52.105Z"
   },
   {
    "duration": 7,
    "start_time": "2022-04-26T19:25:52.118Z"
   },
   {
    "duration": 9,
    "start_time": "2022-04-26T19:25:52.127Z"
   },
   {
    "duration": 5,
    "start_time": "2022-04-26T19:25:52.137Z"
   },
   {
    "duration": 9,
    "start_time": "2022-04-26T19:25:52.143Z"
   },
   {
    "duration": 29,
    "start_time": "2022-04-26T19:25:52.153Z"
   },
   {
    "duration": 5,
    "start_time": "2022-04-26T19:25:52.184Z"
   },
   {
    "duration": 10,
    "start_time": "2022-04-26T19:25:52.190Z"
   },
   {
    "duration": 8,
    "start_time": "2022-04-26T19:25:52.202Z"
   },
   {
    "duration": 6,
    "start_time": "2022-04-26T19:25:52.212Z"
   },
   {
    "duration": 57,
    "start_time": "2022-04-26T19:25:52.219Z"
   },
   {
    "duration": 9,
    "start_time": "2022-04-26T19:25:52.278Z"
   },
   {
    "duration": 17,
    "start_time": "2022-04-26T19:25:52.288Z"
   },
   {
    "duration": 9,
    "start_time": "2022-04-26T19:25:52.306Z"
   },
   {
    "duration": 6,
    "start_time": "2022-04-26T19:25:52.316Z"
   },
   {
    "duration": 13,
    "start_time": "2022-04-26T19:25:52.324Z"
   },
   {
    "duration": 15,
    "start_time": "2022-04-26T19:25:52.376Z"
   },
   {
    "duration": 5,
    "start_time": "2022-04-26T19:25:52.393Z"
   },
   {
    "duration": 11,
    "start_time": "2022-04-26T19:25:52.399Z"
   },
   {
    "duration": 7,
    "start_time": "2022-04-26T19:25:52.411Z"
   },
   {
    "duration": 6,
    "start_time": "2022-04-26T19:25:52.420Z"
   },
   {
    "duration": 46,
    "start_time": "2022-04-26T19:25:52.428Z"
   },
   {
    "duration": 20,
    "start_time": "2022-04-26T19:25:52.476Z"
   },
   {
    "duration": 18,
    "start_time": "2022-04-26T19:25:52.497Z"
   },
   {
    "duration": 21,
    "start_time": "2022-04-26T19:25:52.516Z"
   },
   {
    "duration": 57,
    "start_time": "2022-04-26T19:25:52.538Z"
   },
   {
    "duration": 4,
    "start_time": "2022-04-26T19:25:52.597Z"
   },
   {
    "duration": 19,
    "start_time": "2022-04-26T19:25:52.603Z"
   },
   {
    "duration": 13,
    "start_time": "2022-04-26T19:25:52.624Z"
   },
   {
    "duration": 35,
    "start_time": "2022-04-26T19:25:52.639Z"
   },
   {
    "duration": 9,
    "start_time": "2022-04-26T19:25:52.676Z"
   },
   {
    "duration": 18,
    "start_time": "2022-04-26T19:25:52.686Z"
   },
   {
    "duration": 12,
    "start_time": "2022-04-26T19:25:52.707Z"
   },
   {
    "duration": 11,
    "start_time": "2022-04-26T19:25:52.721Z"
   },
   {
    "duration": 16,
    "start_time": "2022-04-26T19:25:52.733Z"
   },
   {
    "duration": 36,
    "start_time": "2022-04-26T19:25:52.751Z"
   },
   {
    "duration": 7,
    "start_time": "2022-04-26T19:25:52.790Z"
   },
   {
    "duration": 5,
    "start_time": "2022-04-26T19:25:52.799Z"
   },
   {
    "duration": 36,
    "start_time": "2022-04-26T19:25:52.806Z"
   },
   {
    "duration": 30,
    "start_time": "2022-04-26T19:25:52.844Z"
   },
   {
    "duration": 8,
    "start_time": "2022-04-26T19:25:52.877Z"
   },
   {
    "duration": 7,
    "start_time": "2022-04-26T19:25:52.886Z"
   },
   {
    "duration": 551,
    "start_time": "2022-04-26T19:25:52.895Z"
   },
   {
    "duration": 9,
    "start_time": "2022-04-26T19:25:53.448Z"
   },
   {
    "duration": 25,
    "start_time": "2022-04-26T19:25:53.459Z"
   },
   {
    "duration": 158,
    "start_time": "2022-04-26T19:25:53.486Z"
   },
   {
    "duration": 9,
    "start_time": "2022-04-26T19:25:53.646Z"
   },
   {
    "duration": 21,
    "start_time": "2022-04-26T19:25:53.657Z"
   },
   {
    "duration": 7,
    "start_time": "2022-04-26T19:25:53.680Z"
   },
   {
    "duration": 119,
    "start_time": "2022-04-26T19:25:53.689Z"
   },
   {
    "duration": 11,
    "start_time": "2022-04-26T19:25:53.810Z"
   },
   {
    "duration": 9,
    "start_time": "2022-04-26T19:25:53.822Z"
   },
   {
    "duration": 7,
    "start_time": "2022-04-26T19:25:53.833Z"
   },
   {
    "duration": 150,
    "start_time": "2022-04-26T19:25:53.842Z"
   },
   {
    "duration": 10,
    "start_time": "2022-04-26T19:42:19.001Z"
   },
   {
    "duration": 5,
    "start_time": "2022-04-26T19:42:27.559Z"
   },
   {
    "duration": 583,
    "start_time": "2022-04-26T19:52:33.921Z"
   },
   {
    "duration": 13,
    "start_time": "2022-04-26T19:52:44.469Z"
   },
   {
    "duration": 184,
    "start_time": "2022-04-26T19:55:41.253Z"
   },
   {
    "duration": 116,
    "start_time": "2022-04-26T19:55:59.622Z"
   },
   {
    "duration": 124,
    "start_time": "2022-04-26T19:56:08.163Z"
   }
  ],
  "kernelspec": {
   "display_name": "Python 3 (ipykernel)",
   "language": "python",
   "name": "python3"
  },
  "language_info": {
   "codemirror_mode": {
    "name": "ipython",
    "version": 3
   },
   "file_extension": ".py",
   "mimetype": "text/x-python",
   "name": "python",
   "nbconvert_exporter": "python",
   "pygments_lexer": "ipython3",
   "version": "3.9.7"
  },
  "toc": {
   "base_numbering": 1,
   "nav_menu": {},
   "number_sections": true,
   "sideBar": true,
   "skip_h1_title": true,
   "title_cell": "Table of Contents",
   "title_sidebar": "Contents",
   "toc_cell": false,
   "toc_position": {},
   "toc_section_display": true,
   "toc_window_display": false
  }
 },
 "nbformat": 4,
 "nbformat_minor": 5
}
