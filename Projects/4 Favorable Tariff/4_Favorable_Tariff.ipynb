{
 "cells": [
  {
   "cell_type": "markdown",
   "metadata": {},
   "source": [
    "# Рекомендация тарифов"
   ]
  },
  {
   "cell_type": "markdown",
   "metadata": {},
   "source": [
    "В вашем распоряжении данные о поведении клиентов, которые уже перешли на тарифы \"smart\" и \"ultra\". Нужно построить модель для задачи классификации, которая выберет подходящий тариф. \n"
   ]
  },
  {
   "cell_type": "code",
   "execution_count": 15,
   "metadata": {},
   "outputs": [],
   "source": [
    "import pandas as pd\n",
    "\n",
    "\n",
    "from sklearn.linear_model import LogisticRegression\n",
    "from sklearn.model_selection import train_test_split\n",
    "from sklearn.metrics import mean_squared_error, accuracy_score\n",
    "from sklearn.ensemble import RandomForestClassifier\n",
    "from sklearn.tree import DecisionTreeClassifier"
   ]
  },
  {
   "cell_type": "markdown",
   "metadata": {},
   "source": [
    "## Откройте и изучите файл"
   ]
  },
  {
   "cell_type": "code",
   "execution_count": 16,
   "metadata": {},
   "outputs": [
    {
     "name": "stdout",
     "output_type": "stream",
     "text": [
      "<class 'pandas.core.frame.DataFrame'>\n",
      "RangeIndex: 3214 entries, 0 to 3213\n",
      "Data columns (total 5 columns):\n",
      " #   Column    Non-Null Count  Dtype  \n",
      "---  ------    --------------  -----  \n",
      " 0   calls     3214 non-null   float64\n",
      " 1   minutes   3214 non-null   float64\n",
      " 2   messages  3214 non-null   float64\n",
      " 3   mb_used   3214 non-null   float64\n",
      " 4   is_ultra  3214 non-null   int64  \n",
      "dtypes: float64(4), int64(1)\n",
      "memory usage: 125.7 KB\n"
     ]
    }
   ],
   "source": [
    "df = pd.read_csv('/datasets/users_behavior.csv')\n",
    "df.info()"
   ]
  },
  {
   "cell_type": "code",
   "execution_count": 17,
   "metadata": {},
   "outputs": [
    {
     "data": {
      "text/html": [
       "<div>\n",
       "<style scoped>\n",
       "    .dataframe tbody tr th:only-of-type {\n",
       "        vertical-align: middle;\n",
       "    }\n",
       "\n",
       "    .dataframe tbody tr th {\n",
       "        vertical-align: top;\n",
       "    }\n",
       "\n",
       "    .dataframe thead th {\n",
       "        text-align: right;\n",
       "    }\n",
       "</style>\n",
       "<table border=\"1\" class=\"dataframe\">\n",
       "  <thead>\n",
       "    <tr style=\"text-align: right;\">\n",
       "      <th></th>\n",
       "      <th>calls</th>\n",
       "      <th>minutes</th>\n",
       "      <th>messages</th>\n",
       "      <th>mb_used</th>\n",
       "      <th>is_ultra</th>\n",
       "    </tr>\n",
       "  </thead>\n",
       "  <tbody>\n",
       "    <tr>\n",
       "      <th>2392</th>\n",
       "      <td>69.0</td>\n",
       "      <td>422.80</td>\n",
       "      <td>28.0</td>\n",
       "      <td>25065.10</td>\n",
       "      <td>0</td>\n",
       "    </tr>\n",
       "    <tr>\n",
       "      <th>1828</th>\n",
       "      <td>77.0</td>\n",
       "      <td>503.29</td>\n",
       "      <td>28.0</td>\n",
       "      <td>15346.17</td>\n",
       "      <td>0</td>\n",
       "    </tr>\n",
       "    <tr>\n",
       "      <th>2768</th>\n",
       "      <td>52.0</td>\n",
       "      <td>331.84</td>\n",
       "      <td>56.0</td>\n",
       "      <td>13217.21</td>\n",
       "      <td>0</td>\n",
       "    </tr>\n",
       "    <tr>\n",
       "      <th>1460</th>\n",
       "      <td>86.0</td>\n",
       "      <td>643.92</td>\n",
       "      <td>0.0</td>\n",
       "      <td>25872.85</td>\n",
       "      <td>0</td>\n",
       "    </tr>\n",
       "    <tr>\n",
       "      <th>119</th>\n",
       "      <td>40.0</td>\n",
       "      <td>258.20</td>\n",
       "      <td>20.0</td>\n",
       "      <td>13804.51</td>\n",
       "      <td>0</td>\n",
       "    </tr>\n",
       "  </tbody>\n",
       "</table>\n",
       "</div>"
      ],
      "text/plain": [
       "      calls  minutes  messages   mb_used  is_ultra\n",
       "2392   69.0   422.80      28.0  25065.10         0\n",
       "1828   77.0   503.29      28.0  15346.17         0\n",
       "2768   52.0   331.84      56.0  13217.21         0\n",
       "1460   86.0   643.92       0.0  25872.85         0\n",
       "119    40.0   258.20      20.0  13804.51         0"
      ]
     },
     "execution_count": 17,
     "metadata": {},
     "output_type": "execute_result"
    }
   ],
   "source": [
    "df.sample(5)"
   ]
  },
  {
   "cell_type": "code",
   "execution_count": 18,
   "metadata": {},
   "outputs": [
    {
     "data": {
      "text/html": [
       "<div>\n",
       "<style scoped>\n",
       "    .dataframe tbody tr th:only-of-type {\n",
       "        vertical-align: middle;\n",
       "    }\n",
       "\n",
       "    .dataframe tbody tr th {\n",
       "        vertical-align: top;\n",
       "    }\n",
       "\n",
       "    .dataframe thead th {\n",
       "        text-align: right;\n",
       "    }\n",
       "</style>\n",
       "<table border=\"1\" class=\"dataframe\">\n",
       "  <thead>\n",
       "    <tr style=\"text-align: right;\">\n",
       "      <th></th>\n",
       "      <th>calls</th>\n",
       "      <th>minutes</th>\n",
       "      <th>messages</th>\n",
       "      <th>mb_used</th>\n",
       "      <th>is_ultra</th>\n",
       "    </tr>\n",
       "  </thead>\n",
       "  <tbody>\n",
       "    <tr>\n",
       "      <th>count</th>\n",
       "      <td>3214.000000</td>\n",
       "      <td>3214.000000</td>\n",
       "      <td>3214.000000</td>\n",
       "      <td>3214.000000</td>\n",
       "      <td>3214.000000</td>\n",
       "    </tr>\n",
       "    <tr>\n",
       "      <th>mean</th>\n",
       "      <td>63.038892</td>\n",
       "      <td>438.208787</td>\n",
       "      <td>38.281269</td>\n",
       "      <td>17207.673836</td>\n",
       "      <td>0.306472</td>\n",
       "    </tr>\n",
       "    <tr>\n",
       "      <th>std</th>\n",
       "      <td>33.236368</td>\n",
       "      <td>234.569872</td>\n",
       "      <td>36.148326</td>\n",
       "      <td>7570.968246</td>\n",
       "      <td>0.461100</td>\n",
       "    </tr>\n",
       "    <tr>\n",
       "      <th>min</th>\n",
       "      <td>0.000000</td>\n",
       "      <td>0.000000</td>\n",
       "      <td>0.000000</td>\n",
       "      <td>0.000000</td>\n",
       "      <td>0.000000</td>\n",
       "    </tr>\n",
       "    <tr>\n",
       "      <th>25%</th>\n",
       "      <td>40.000000</td>\n",
       "      <td>274.575000</td>\n",
       "      <td>9.000000</td>\n",
       "      <td>12491.902500</td>\n",
       "      <td>0.000000</td>\n",
       "    </tr>\n",
       "    <tr>\n",
       "      <th>50%</th>\n",
       "      <td>62.000000</td>\n",
       "      <td>430.600000</td>\n",
       "      <td>30.000000</td>\n",
       "      <td>16943.235000</td>\n",
       "      <td>0.000000</td>\n",
       "    </tr>\n",
       "    <tr>\n",
       "      <th>75%</th>\n",
       "      <td>82.000000</td>\n",
       "      <td>571.927500</td>\n",
       "      <td>57.000000</td>\n",
       "      <td>21424.700000</td>\n",
       "      <td>1.000000</td>\n",
       "    </tr>\n",
       "    <tr>\n",
       "      <th>max</th>\n",
       "      <td>244.000000</td>\n",
       "      <td>1632.060000</td>\n",
       "      <td>224.000000</td>\n",
       "      <td>49745.730000</td>\n",
       "      <td>1.000000</td>\n",
       "    </tr>\n",
       "  </tbody>\n",
       "</table>\n",
       "</div>"
      ],
      "text/plain": [
       "             calls      minutes     messages       mb_used     is_ultra\n",
       "count  3214.000000  3214.000000  3214.000000   3214.000000  3214.000000\n",
       "mean     63.038892   438.208787    38.281269  17207.673836     0.306472\n",
       "std      33.236368   234.569872    36.148326   7570.968246     0.461100\n",
       "min       0.000000     0.000000     0.000000      0.000000     0.000000\n",
       "25%      40.000000   274.575000     9.000000  12491.902500     0.000000\n",
       "50%      62.000000   430.600000    30.000000  16943.235000     0.000000\n",
       "75%      82.000000   571.927500    57.000000  21424.700000     1.000000\n",
       "max     244.000000  1632.060000   224.000000  49745.730000     1.000000"
      ]
     },
     "execution_count": 18,
     "metadata": {},
     "output_type": "execute_result"
    }
   ],
   "source": [
    "df.describe()"
   ]
  },
  {
   "cell_type": "markdown",
   "metadata": {},
   "source": [
    "Все данные числовые, среднее немного смещено вправо от медианы.\n"
   ]
  },
  {
   "cell_type": "markdown",
   "metadata": {},
   "source": [
    "## Разбейте данные на выборки"
   ]
  },
  {
   "cell_type": "markdown",
   "metadata": {},
   "source": [
    "Выделю в целевую выборку столбец значений 'is_ultra', поскольку цель - принимать решение о необходимом тарифе на основе параметров использования связи. Из выборки с исходными данными этот столбец исключаю."
   ]
  },
  {
   "cell_type": "code",
   "execution_count": 19,
   "metadata": {},
   "outputs": [],
   "source": [
    "features = df.drop(['is_ultra'], axis=1)\n",
    "target = df['is_ultra']"
   ]
  },
  {
   "cell_type": "markdown",
   "metadata": {},
   "source": [
    "Мне нужно из всех предоставленных данных создать три типа выборок - для обучения, для тестирования и для контрольной проверки.\n",
    "Рекомендуемые пропорции - 3 : 1 : 1, поэтому я сначала отделю от обучающей выборки тестовую и контрольную (60 и 40 %), а потом меньшую поделю пополам."
   ]
  },
  {
   "cell_type": "code",
   "execution_count": 6,
   "metadata": {},
   "outputs": [],
   "source": [
    "features_train, features_valid_test, target_train, target_valid_test = train_test_split(\n",
    "    features, target, test_size=0.4, random_state=0) # отделяю 40% данных для валидационной и тестовой выборки"
   ]
  },
  {
   "cell_type": "code",
   "execution_count": 20,
   "metadata": {},
   "outputs": [],
   "source": [
    "features_valid, features_test, target_valid, target_test = train_test_split(\n",
    "    features_valid_test, target_valid_test, test_size=0.5, random_state=0) # отделяю 50% данных от валидационной для тестовой выборки"
   ]
  },
  {
   "cell_type": "code",
   "execution_count": 8,
   "metadata": {
    "scrolled": true
   },
   "outputs": [
    {
     "data": {
      "text/html": [
       "<div>\n",
       "<style scoped>\n",
       "    .dataframe tbody tr th:only-of-type {\n",
       "        vertical-align: middle;\n",
       "    }\n",
       "\n",
       "    .dataframe tbody tr th {\n",
       "        vertical-align: top;\n",
       "    }\n",
       "\n",
       "    .dataframe thead th {\n",
       "        text-align: right;\n",
       "    }\n",
       "</style>\n",
       "<table border=\"1\" class=\"dataframe\">\n",
       "  <thead>\n",
       "    <tr style=\"text-align: right;\">\n",
       "      <th></th>\n",
       "      <th>calls</th>\n",
       "      <th>minutes</th>\n",
       "      <th>messages</th>\n",
       "      <th>mb_used</th>\n",
       "    </tr>\n",
       "  </thead>\n",
       "  <tbody>\n",
       "    <tr>\n",
       "      <th>386</th>\n",
       "      <td>19.0</td>\n",
       "      <td>147.72</td>\n",
       "      <td>20.0</td>\n",
       "      <td>19476.83</td>\n",
       "    </tr>\n",
       "    <tr>\n",
       "      <th>651</th>\n",
       "      <td>18.0</td>\n",
       "      <td>147.93</td>\n",
       "      <td>18.0</td>\n",
       "      <td>1904.01</td>\n",
       "    </tr>\n",
       "    <tr>\n",
       "      <th>2415</th>\n",
       "      <td>83.0</td>\n",
       "      <td>620.75</td>\n",
       "      <td>0.0</td>\n",
       "      <td>17914.78</td>\n",
       "    </tr>\n",
       "    <tr>\n",
       "      <th>805</th>\n",
       "      <td>40.0</td>\n",
       "      <td>232.35</td>\n",
       "      <td>37.0</td>\n",
       "      <td>13941.60</td>\n",
       "    </tr>\n",
       "    <tr>\n",
       "      <th>2488</th>\n",
       "      <td>77.0</td>\n",
       "      <td>566.52</td>\n",
       "      <td>20.0</td>\n",
       "      <td>13180.37</td>\n",
       "    </tr>\n",
       "    <tr>\n",
       "      <th>...</th>\n",
       "      <td>...</td>\n",
       "      <td>...</td>\n",
       "      <td>...</td>\n",
       "      <td>...</td>\n",
       "    </tr>\n",
       "    <tr>\n",
       "      <th>763</th>\n",
       "      <td>78.0</td>\n",
       "      <td>523.42</td>\n",
       "      <td>40.0</td>\n",
       "      <td>12477.65</td>\n",
       "    </tr>\n",
       "    <tr>\n",
       "      <th>835</th>\n",
       "      <td>70.0</td>\n",
       "      <td>519.74</td>\n",
       "      <td>28.0</td>\n",
       "      <td>24750.54</td>\n",
       "    </tr>\n",
       "    <tr>\n",
       "      <th>1653</th>\n",
       "      <td>80.0</td>\n",
       "      <td>538.39</td>\n",
       "      <td>51.0</td>\n",
       "      <td>21691.46</td>\n",
       "    </tr>\n",
       "    <tr>\n",
       "      <th>2607</th>\n",
       "      <td>54.0</td>\n",
       "      <td>396.41</td>\n",
       "      <td>11.0</td>\n",
       "      <td>21085.67</td>\n",
       "    </tr>\n",
       "    <tr>\n",
       "      <th>2732</th>\n",
       "      <td>77.0</td>\n",
       "      <td>538.81</td>\n",
       "      <td>69.0</td>\n",
       "      <td>17753.41</td>\n",
       "    </tr>\n",
       "  </tbody>\n",
       "</table>\n",
       "<p>1928 rows × 4 columns</p>\n",
       "</div>"
      ],
      "text/plain": [
       "      calls  minutes  messages   mb_used\n",
       "386    19.0   147.72      20.0  19476.83\n",
       "651    18.0   147.93      18.0   1904.01\n",
       "2415   83.0   620.75       0.0  17914.78\n",
       "805    40.0   232.35      37.0  13941.60\n",
       "2488   77.0   566.52      20.0  13180.37\n",
       "...     ...      ...       ...       ...\n",
       "763    78.0   523.42      40.0  12477.65\n",
       "835    70.0   519.74      28.0  24750.54\n",
       "1653   80.0   538.39      51.0  21691.46\n",
       "2607   54.0   396.41      11.0  21085.67\n",
       "2732   77.0   538.81      69.0  17753.41\n",
       "\n",
       "[1928 rows x 4 columns]"
      ]
     },
     "metadata": {},
     "output_type": "display_data"
    },
    {
     "data": {
      "text/plain": [
       "386     0\n",
       "651     1\n",
       "2415    0\n",
       "805     0\n",
       "2488    0\n",
       "       ..\n",
       "763     1\n",
       "835     0\n",
       "1653    0\n",
       "2607    0\n",
       "2732    0\n",
       "Name: is_ultra, Length: 1928, dtype: int64"
      ]
     },
     "metadata": {},
     "output_type": "display_data"
    },
    {
     "data": {
      "text/html": [
       "<div>\n",
       "<style scoped>\n",
       "    .dataframe tbody tr th:only-of-type {\n",
       "        vertical-align: middle;\n",
       "    }\n",
       "\n",
       "    .dataframe tbody tr th {\n",
       "        vertical-align: top;\n",
       "    }\n",
       "\n",
       "    .dataframe thead th {\n",
       "        text-align: right;\n",
       "    }\n",
       "</style>\n",
       "<table border=\"1\" class=\"dataframe\">\n",
       "  <thead>\n",
       "    <tr style=\"text-align: right;\">\n",
       "      <th></th>\n",
       "      <th>calls</th>\n",
       "      <th>minutes</th>\n",
       "      <th>messages</th>\n",
       "      <th>mb_used</th>\n",
       "    </tr>\n",
       "  </thead>\n",
       "  <tbody>\n",
       "    <tr>\n",
       "      <th>2409</th>\n",
       "      <td>36.0</td>\n",
       "      <td>277.79</td>\n",
       "      <td>0.0</td>\n",
       "      <td>11990.31</td>\n",
       "    </tr>\n",
       "    <tr>\n",
       "      <th>891</th>\n",
       "      <td>56.0</td>\n",
       "      <td>404.18</td>\n",
       "      <td>91.0</td>\n",
       "      <td>16476.40</td>\n",
       "    </tr>\n",
       "    <tr>\n",
       "      <th>128</th>\n",
       "      <td>44.0</td>\n",
       "      <td>359.39</td>\n",
       "      <td>43.0</td>\n",
       "      <td>15583.93</td>\n",
       "    </tr>\n",
       "    <tr>\n",
       "      <th>2390</th>\n",
       "      <td>3.0</td>\n",
       "      <td>48.74</td>\n",
       "      <td>2.0</td>\n",
       "      <td>439.62</td>\n",
       "    </tr>\n",
       "    <tr>\n",
       "      <th>1826</th>\n",
       "      <td>93.0</td>\n",
       "      <td>534.60</td>\n",
       "      <td>124.0</td>\n",
       "      <td>21252.19</td>\n",
       "    </tr>\n",
       "    <tr>\n",
       "      <th>...</th>\n",
       "      <td>...</td>\n",
       "      <td>...</td>\n",
       "      <td>...</td>\n",
       "      <td>...</td>\n",
       "    </tr>\n",
       "    <tr>\n",
       "      <th>64</th>\n",
       "      <td>67.0</td>\n",
       "      <td>390.62</td>\n",
       "      <td>99.0</td>\n",
       "      <td>12991.39</td>\n",
       "    </tr>\n",
       "    <tr>\n",
       "      <th>2580</th>\n",
       "      <td>55.0</td>\n",
       "      <td>337.04</td>\n",
       "      <td>31.0</td>\n",
       "      <td>17762.52</td>\n",
       "    </tr>\n",
       "    <tr>\n",
       "      <th>2935</th>\n",
       "      <td>88.0</td>\n",
       "      <td>642.31</td>\n",
       "      <td>170.0</td>\n",
       "      <td>44296.86</td>\n",
       "    </tr>\n",
       "    <tr>\n",
       "      <th>1217</th>\n",
       "      <td>38.0</td>\n",
       "      <td>244.50</td>\n",
       "      <td>27.0</td>\n",
       "      <td>22060.68</td>\n",
       "    </tr>\n",
       "    <tr>\n",
       "      <th>493</th>\n",
       "      <td>31.0</td>\n",
       "      <td>210.44</td>\n",
       "      <td>19.0</td>\n",
       "      <td>27437.43</td>\n",
       "    </tr>\n",
       "  </tbody>\n",
       "</table>\n",
       "<p>643 rows × 4 columns</p>\n",
       "</div>"
      ],
      "text/plain": [
       "      calls  minutes  messages   mb_used\n",
       "2409   36.0   277.79       0.0  11990.31\n",
       "891    56.0   404.18      91.0  16476.40\n",
       "128    44.0   359.39      43.0  15583.93\n",
       "2390    3.0    48.74       2.0    439.62\n",
       "1826   93.0   534.60     124.0  21252.19\n",
       "...     ...      ...       ...       ...\n",
       "64     67.0   390.62      99.0  12991.39\n",
       "2580   55.0   337.04      31.0  17762.52\n",
       "2935   88.0   642.31     170.0  44296.86\n",
       "1217   38.0   244.50      27.0  22060.68\n",
       "493    31.0   210.44      19.0  27437.43\n",
       "\n",
       "[643 rows x 4 columns]"
      ]
     },
     "metadata": {},
     "output_type": "display_data"
    },
    {
     "data": {
      "text/plain": [
       "2409    0\n",
       "891     0\n",
       "128     0\n",
       "2390    1\n",
       "1826    0\n",
       "       ..\n",
       "64      0\n",
       "2580    0\n",
       "2935    1\n",
       "1217    0\n",
       "493     0\n",
       "Name: is_ultra, Length: 643, dtype: int64"
      ]
     },
     "metadata": {},
     "output_type": "display_data"
    },
    {
     "data": {
      "text/html": [
       "<div>\n",
       "<style scoped>\n",
       "    .dataframe tbody tr th:only-of-type {\n",
       "        vertical-align: middle;\n",
       "    }\n",
       "\n",
       "    .dataframe tbody tr th {\n",
       "        vertical-align: top;\n",
       "    }\n",
       "\n",
       "    .dataframe thead th {\n",
       "        text-align: right;\n",
       "    }\n",
       "</style>\n",
       "<table border=\"1\" class=\"dataframe\">\n",
       "  <thead>\n",
       "    <tr style=\"text-align: right;\">\n",
       "      <th></th>\n",
       "      <th>calls</th>\n",
       "      <th>minutes</th>\n",
       "      <th>messages</th>\n",
       "      <th>mb_used</th>\n",
       "    </tr>\n",
       "  </thead>\n",
       "  <tbody>\n",
       "    <tr>\n",
       "      <th>2329</th>\n",
       "      <td>86.0</td>\n",
       "      <td>580.55</td>\n",
       "      <td>33.0</td>\n",
       "      <td>8289.21</td>\n",
       "    </tr>\n",
       "    <tr>\n",
       "      <th>1791</th>\n",
       "      <td>21.0</td>\n",
       "      <td>112.98</td>\n",
       "      <td>115.0</td>\n",
       "      <td>24994.41</td>\n",
       "    </tr>\n",
       "    <tr>\n",
       "      <th>2481</th>\n",
       "      <td>77.0</td>\n",
       "      <td>551.43</td>\n",
       "      <td>56.0</td>\n",
       "      <td>7694.58</td>\n",
       "    </tr>\n",
       "    <tr>\n",
       "      <th>2537</th>\n",
       "      <td>97.0</td>\n",
       "      <td>788.48</td>\n",
       "      <td>0.0</td>\n",
       "      <td>23525.63</td>\n",
       "    </tr>\n",
       "    <tr>\n",
       "      <th>1768</th>\n",
       "      <td>70.0</td>\n",
       "      <td>497.55</td>\n",
       "      <td>66.0</td>\n",
       "      <td>24918.49</td>\n",
       "    </tr>\n",
       "    <tr>\n",
       "      <th>...</th>\n",
       "      <td>...</td>\n",
       "      <td>...</td>\n",
       "      <td>...</td>\n",
       "      <td>...</td>\n",
       "    </tr>\n",
       "    <tr>\n",
       "      <th>530</th>\n",
       "      <td>9.0</td>\n",
       "      <td>34.29</td>\n",
       "      <td>95.0</td>\n",
       "      <td>13403.98</td>\n",
       "    </tr>\n",
       "    <tr>\n",
       "      <th>688</th>\n",
       "      <td>111.0</td>\n",
       "      <td>633.05</td>\n",
       "      <td>94.0</td>\n",
       "      <td>8792.86</td>\n",
       "    </tr>\n",
       "    <tr>\n",
       "      <th>682</th>\n",
       "      <td>78.0</td>\n",
       "      <td>515.89</td>\n",
       "      <td>49.0</td>\n",
       "      <td>17368.65</td>\n",
       "    </tr>\n",
       "    <tr>\n",
       "      <th>6</th>\n",
       "      <td>57.0</td>\n",
       "      <td>431.64</td>\n",
       "      <td>20.0</td>\n",
       "      <td>3738.90</td>\n",
       "    </tr>\n",
       "    <tr>\n",
       "      <th>913</th>\n",
       "      <td>51.0</td>\n",
       "      <td>406.86</td>\n",
       "      <td>57.0</td>\n",
       "      <td>5336.82</td>\n",
       "    </tr>\n",
       "  </tbody>\n",
       "</table>\n",
       "<p>643 rows × 4 columns</p>\n",
       "</div>"
      ],
      "text/plain": [
       "      calls  minutes  messages   mb_used\n",
       "2329   86.0   580.55      33.0   8289.21\n",
       "1791   21.0   112.98     115.0  24994.41\n",
       "2481   77.0   551.43      56.0   7694.58\n",
       "2537   97.0   788.48       0.0  23525.63\n",
       "1768   70.0   497.55      66.0  24918.49\n",
       "...     ...      ...       ...       ...\n",
       "530     9.0    34.29      95.0  13403.98\n",
       "688   111.0   633.05      94.0   8792.86\n",
       "682    78.0   515.89      49.0  17368.65\n",
       "6      57.0   431.64      20.0   3738.90\n",
       "913    51.0   406.86      57.0   5336.82\n",
       "\n",
       "[643 rows x 4 columns]"
      ]
     },
     "metadata": {},
     "output_type": "display_data"
    },
    {
     "data": {
      "text/plain": [
       "2329    0\n",
       "1791    1\n",
       "2481    0\n",
       "2537    1\n",
       "1768    0\n",
       "       ..\n",
       "530     1\n",
       "688     1\n",
       "682     0\n",
       "6       1\n",
       "913     1\n",
       "Name: is_ultra, Length: 643, dtype: int64"
      ]
     },
     "metadata": {},
     "output_type": "display_data"
    }
   ],
   "source": [
    "display(features_train, target_train, features_valid, target_valid, features_test, target_test)"
   ]
  },
  {
   "cell_type": "markdown",
   "metadata": {},
   "source": [
    "Визуально разделение прошло хорошо."
   ]
  },
  {
   "cell_type": "markdown",
   "metadata": {},
   "source": [
    "## Исследуйте модели"
   ]
  },
  {
   "cell_type": "markdown",
   "metadata": {},
   "source": [
    "Везде фиксирую случайную последовательность параметром random_state=0."
   ]
  },
  {
   "cell_type": "markdown",
   "metadata": {},
   "source": [
    "### Дерево решений"
   ]
  },
  {
   "cell_type": "markdown",
   "metadata": {},
   "source": [
    "В цикле нахожу лучшую модель, меняя параметр глубины max_depth."
   ]
  },
  {
   "cell_type": "code",
   "execution_count": 9,
   "metadata": {},
   "outputs": [
    {
     "name": "stdout",
     "output_type": "stream",
     "text": [
      "RMSE наилучшей модели на валидационной выборке: 0.44616910922652836 Глубина дерева: 3\n"
     ]
    }
   ],
   "source": [
    "best_model = None\n",
    "best_result = 10000\n",
    "best_depth = 0\n",
    "for depth in range(1, 6):\n",
    "    model1 = DecisionTreeClassifier(random_state=0, max_depth=depth)\n",
    "    model1.fit(features_train, target_train) # обучение на тренировочной выборке\n",
    "    predictions_valid = model1.predict(features_valid) # предсказание на валидационной выборке\n",
    "    result = mean_squared_error(target_valid, predictions_valid)**0.5 # значение метрики rmse на валидационной выборке\n",
    "    if result < best_result:\n",
    "        best_model = model1\n",
    "        best_result = result\n",
    "        best_depth = depth\n",
    "model1 = best_model\n",
    "print(\"RMSE наилучшей модели на валидационной выборке:\", best_result, \"Глубина дерева:\", best_depth)\n",
    "\n"
   ]
  },
  {
   "cell_type": "markdown",
   "metadata": {},
   "source": [
    "### Случайный лес"
   ]
  },
  {
   "cell_type": "markdown",
   "metadata": {},
   "source": [
    "В цикле нахожу лучшую модель, меняя параметр глубины max_depth и количества деревьев n_estimators."
   ]
  },
  {
   "cell_type": "code",
   "execution_count": 21,
   "metadata": {
    "scrolled": true
   },
   "outputs": [
    {
     "name": "stdout",
     "output_type": "stream",
     "text": [
      "RMSE наилучшей модели на валидационной выборке: 0.4229055977810245 Количество деревьев: 50 Максимальная глубина: 10\n"
     ]
    }
   ],
   "source": [
    "best_model = None\n",
    "best_result = 10000\n",
    "best_est = 0\n",
    "best_depth = 0\n",
    "for est in range(10, 51, 10):\n",
    "    for depth in range (1, 11):\n",
    "        model2 = RandomForestClassifier(random_state=0, n_estimators=est, max_depth=depth)\n",
    "        model2.fit(features_train, target_train) # обучение на тренировочной выборке\n",
    "        predictions_valid = model2.predict(features_valid) # предсказание на валидационной выборке\n",
    "        result = mean_squared_error(target_valid, predictions_valid)**0.5 # значение метрики rmse на валидационной выборке\n",
    "        if result < best_result:\n",
    "            best_model = model2\n",
    "            best_result = result\n",
    "            best_est = est\n",
    "            best_depth = depth\n",
    "model2 = best_model\n",
    "print(\"RMSE наилучшей модели на валидационной выборке:\", best_result, \"Количество деревьев:\", best_est, \"Максимальная глубина:\", depth)\n"
   ]
  },
  {
   "cell_type": "markdown",
   "metadata": {},
   "source": [
    "### Логистическая регрессия"
   ]
  },
  {
   "cell_type": "code",
   "execution_count": 11,
   "metadata": {},
   "outputs": [
    {
     "name": "stdout",
     "output_type": "stream",
     "text": [
      "RMSE модели логистической регрессии на валидационной выборке: 0.5065665230763978\n"
     ]
    }
   ],
   "source": [
    "model3 = LogisticRegression()\n",
    "model3.fit(features_train, target_train) # обучение на тренировочной выборке\n",
    "predictions_valid = model3.predict(features_valid) # предсказание на валидационной выборке\n",
    "\n",
    "result = mean_squared_error(target_valid, predictions_valid)**0.5 # значение метрики RMSE на валидационной выборке\n",
    "\n",
    "print(\"RMSE модели логистической регрессии на валидационной выборке:\", result)\n"
   ]
  },
  {
   "cell_type": "markdown",
   "metadata": {},
   "source": [
    "Меньшую ошибку даёт случайный лес с количеством деревьев 50 и максимальной глубиной 10."
   ]
  },
  {
   "cell_type": "markdown",
   "metadata": {},
   "source": [
    "## Проверьте модель на тестовой выборке"
   ]
  },
  {
   "cell_type": "markdown",
   "metadata": {},
   "source": [
    "Посмотрим на другую метрику - accuracy. По заданию надо подобрать модель со значением этой метрики более 0,75."
   ]
  },
  {
   "cell_type": "markdown",
   "metadata": {},
   "source": [
    "### Дерево решений с глубиной 3."
   ]
  },
  {
   "cell_type": "code",
   "execution_count": 22,
   "metadata": {},
   "outputs": [
    {
     "name": "stdout",
     "output_type": "stream",
     "text": [
      "Accuracy модели на тестовой выборке: 0.7713841368584758\n"
     ]
    }
   ],
   "source": [
    "predictions_test = model1.predict(features_test)\n",
    "\n",
    "acc = accuracy_score(predictions_test, target_test)\n",
    "\n",
    "print(\"Accuracy модели на тестовой выборке:\", acc)"
   ]
  },
  {
   "cell_type": "markdown",
   "metadata": {},
   "source": [
    "### Случайный лес к количеством деревьев 50 и глубиной 10"
   ]
  },
  {
   "cell_type": "code",
   "execution_count": 23,
   "metadata": {},
   "outputs": [
    {
     "name": "stdout",
     "output_type": "stream",
     "text": [
      "Accuracy модели на тестовой выборке: 0.7822706065318819\n"
     ]
    }
   ],
   "source": [
    "predictions_test = model2.predict(features_test)\n",
    "\n",
    "acc = accuracy_score(predictions_test, target_test)\n",
    "\n",
    "print(\"Accuracy модели на тестовой выборке:\", acc)\n"
   ]
  },
  {
   "cell_type": "markdown",
   "metadata": {},
   "source": [
    "### Логистическая регрессия"
   ]
  },
  {
   "cell_type": "code",
   "execution_count": 24,
   "metadata": {},
   "outputs": [
    {
     "name": "stdout",
     "output_type": "stream",
     "text": [
      "Accuracy модели на тестовой выборке: 0.7542768273716952\n"
     ]
    }
   ],
   "source": [
    "predictions_test = model3.predict(features_test)\n",
    "\n",
    "acc = accuracy_score(predictions_test, target_test)\n",
    "\n",
    "print(\"Accuracy модели на тестовой выборке:\", acc)"
   ]
  },
  {
   "cell_type": "markdown",
   "metadata": {},
   "source": [
    "Получается, что лучше всего подходит модель случайного леса на 50 деревьев глубиной 10."
   ]
  },
  {
   "cell_type": "markdown",
   "metadata": {},
   "source": [
    "## (бонус) Проверьте модели на адекватность"
   ]
  },
  {
   "cell_type": "markdown",
   "metadata": {},
   "source": [
    "Я взяла для обучения 60% выборки. Адекватной будет считаться модель с accurcy выше 0,6. У всех трёх моделей условие выполнено.\n",
    "Лучшая метрика у model2 - случайного леса с количеством деревьев 50 и глубиной 10."
   ]
  }
 ],
 "metadata": {
  "ExecuteTimeLog": [
   {
    "duration": 1132,
    "start_time": "2022-07-05T12:38:13.365Z"
   },
   {
    "duration": 41,
    "start_time": "2022-07-05T12:38:14.716Z"
   },
   {
    "duration": 27,
    "start_time": "2022-07-05T12:38:29.875Z"
   },
   {
    "duration": 19,
    "start_time": "2022-07-05T12:38:44.795Z"
   },
   {
    "duration": 22,
    "start_time": "2022-07-05T12:39:26.275Z"
   },
   {
    "duration": 11,
    "start_time": "2022-07-05T12:41:19.865Z"
   },
   {
    "duration": 99,
    "start_time": "2022-07-05T13:05:09.716Z"
   },
   {
    "duration": 4,
    "start_time": "2022-07-05T13:05:12.776Z"
   },
   {
    "duration": 5,
    "start_time": "2022-07-05T13:05:13.226Z"
   },
   {
    "duration": 7,
    "start_time": "2022-07-05T13:06:49.985Z"
   },
   {
    "duration": 43,
    "start_time": "2022-07-05T13:08:08.686Z"
   },
   {
    "duration": 35,
    "start_time": "2022-07-05T13:09:04.066Z"
   },
   {
    "duration": 28,
    "start_time": "2022-07-05T13:16:16.026Z"
   },
   {
    "duration": 3894,
    "start_time": "2022-07-05T13:16:44.375Z"
   },
   {
    "duration": 10,
    "start_time": "2022-07-05T13:17:07.815Z"
   },
   {
    "duration": 13,
    "start_time": "2022-07-05T13:22:38.906Z"
   },
   {
    "duration": 3,
    "start_time": "2022-07-05T13:35:20.195Z"
   },
   {
    "duration": 17,
    "start_time": "2022-07-05T13:36:31.926Z"
   },
   {
    "duration": 17,
    "start_time": "2022-07-05T13:37:00.015Z"
   },
   {
    "duration": 22,
    "start_time": "2022-07-05T15:49:35.008Z"
   },
   {
    "duration": 10,
    "start_time": "2022-07-05T15:49:40.928Z"
   },
   {
    "duration": 10,
    "start_time": "2022-07-05T16:19:43.734Z"
   },
   {
    "duration": 8,
    "start_time": "2022-07-05T16:25:02.834Z"
   },
   {
    "duration": 15,
    "start_time": "2022-07-05T16:25:17.734Z"
   },
   {
    "duration": 1092,
    "start_time": "2022-07-05T16:36:06.683Z"
   },
   {
    "duration": 26,
    "start_time": "2022-07-05T16:36:07.778Z"
   },
   {
    "duration": 17,
    "start_time": "2022-07-05T16:36:07.806Z"
   },
   {
    "duration": 29,
    "start_time": "2022-07-05T16:36:07.825Z"
   },
   {
    "duration": 3,
    "start_time": "2022-07-05T16:36:07.856Z"
   },
   {
    "duration": 7,
    "start_time": "2022-07-05T16:36:07.861Z"
   },
   {
    "duration": 7,
    "start_time": "2022-07-05T16:36:07.869Z"
   },
   {
    "duration": 38,
    "start_time": "2022-07-05T16:36:07.878Z"
   },
   {
    "duration": 55,
    "start_time": "2022-07-05T16:36:07.917Z"
   },
   {
    "duration": 11851,
    "start_time": "2022-07-05T16:36:07.974Z"
   },
   {
    "duration": 19,
    "start_time": "2022-07-05T16:36:19.826Z"
   },
   {
    "duration": 8,
    "start_time": "2022-07-05T16:36:19.847Z"
   },
   {
    "duration": 67,
    "start_time": "2022-07-05T16:36:19.857Z"
   },
   {
    "duration": 0,
    "start_time": "2022-07-05T16:36:19.926Z"
   },
   {
    "duration": 12,
    "start_time": "2022-07-05T16:41:32.223Z"
   },
   {
    "duration": 6,
    "start_time": "2022-07-05T16:41:36.893Z"
   },
   {
    "duration": 37,
    "start_time": "2022-07-05T16:43:36.043Z"
   },
   {
    "duration": 11270,
    "start_time": "2022-07-05T16:44:02.189Z"
   },
   {
    "duration": 13357,
    "start_time": "2022-07-05T16:44:40.593Z"
   },
   {
    "duration": 134028,
    "start_time": "2022-07-05T16:45:24.693Z"
   },
   {
    "duration": 50698,
    "start_time": "2022-07-05T16:48:05.444Z"
   },
   {
    "duration": 5583,
    "start_time": "2022-07-05T16:49:10.193Z"
   },
   {
    "duration": 143164,
    "start_time": "2022-07-05T16:49:23.613Z"
   },
   {
    "duration": 41081,
    "start_time": "2022-07-05T16:52:51.833Z"
   },
   {
    "duration": 42241,
    "start_time": "2022-07-05T16:53:43.923Z"
   },
   {
    "duration": 4143,
    "start_time": "2022-07-05T16:54:56.914Z"
   },
   {
    "duration": 852,
    "start_time": "2022-07-05T17:02:07.731Z"
   },
   {
    "duration": 6,
    "start_time": "2022-07-05T17:02:49.662Z"
   },
   {
    "duration": 16,
    "start_time": "2022-07-05T17:02:53.443Z"
   },
   {
    "duration": 7,
    "start_time": "2022-07-05T17:03:11.672Z"
   },
   {
    "duration": 841,
    "start_time": "2022-07-05T17:03:23.583Z"
   },
   {
    "duration": 6,
    "start_time": "2022-07-05T17:03:38.233Z"
   },
   {
    "duration": 7,
    "start_time": "2022-07-05T17:04:13.033Z"
   },
   {
    "duration": 6,
    "start_time": "2022-07-05T17:05:17.003Z"
   },
   {
    "duration": 6,
    "start_time": "2022-07-05T17:06:49.934Z"
   },
   {
    "duration": 5,
    "start_time": "2022-07-05T17:07:10.012Z"
   },
   {
    "duration": 7,
    "start_time": "2022-07-05T17:07:11.123Z"
   },
   {
    "duration": 46,
    "start_time": "2022-07-05T17:09:24.452Z"
   },
   {
    "duration": 16,
    "start_time": "2022-07-05T17:10:01.643Z"
   },
   {
    "duration": 16,
    "start_time": "2022-07-05T17:13:09.494Z"
   },
   {
    "duration": 20,
    "start_time": "2022-07-05T17:13:24.943Z"
   },
   {
    "duration": 15,
    "start_time": "2022-07-05T17:13:44.672Z"
   },
   {
    "duration": 273,
    "start_time": "2022-07-05T17:28:59.975Z"
   },
   {
    "duration": 45,
    "start_time": "2022-07-05T17:29:17.276Z"
   },
   {
    "duration": 1187,
    "start_time": "2022-07-05T17:29:47.799Z"
   },
   {
    "duration": 27,
    "start_time": "2022-07-05T17:29:51.071Z"
   },
   {
    "duration": 33,
    "start_time": "2022-07-05T17:29:57.139Z"
   },
   {
    "duration": 26,
    "start_time": "2022-07-05T17:30:00.009Z"
   },
   {
    "duration": 8,
    "start_time": "2022-07-05T17:30:05.080Z"
   },
   {
    "duration": 6,
    "start_time": "2022-07-05T17:30:09.875Z"
   },
   {
    "duration": 7,
    "start_time": "2022-07-05T17:30:12.140Z"
   },
   {
    "duration": 90,
    "start_time": "2022-07-05T17:30:15.973Z"
   },
   {
    "duration": 81,
    "start_time": "2022-07-05T17:30:33.429Z"
   },
   {
    "duration": 119,
    "start_time": "2022-07-05T17:30:55.720Z"
   },
   {
    "duration": 13,
    "start_time": "2022-07-05T17:32:05.229Z"
   },
   {
    "duration": 54,
    "start_time": "2022-07-05T17:34:17.321Z"
   },
   {
    "duration": 1226,
    "start_time": "2022-07-05T17:34:36.982Z"
   },
   {
    "duration": 30,
    "start_time": "2022-07-05T17:34:38.210Z"
   },
   {
    "duration": 25,
    "start_time": "2022-07-05T17:34:38.242Z"
   },
   {
    "duration": 41,
    "start_time": "2022-07-05T17:34:38.270Z"
   },
   {
    "duration": 3,
    "start_time": "2022-07-05T17:34:38.314Z"
   },
   {
    "duration": 11,
    "start_time": "2022-07-05T17:34:38.319Z"
   },
   {
    "duration": 5,
    "start_time": "2022-07-05T17:34:38.332Z"
   },
   {
    "duration": 59,
    "start_time": "2022-07-05T17:34:38.339Z"
   },
   {
    "duration": 59,
    "start_time": "2022-07-05T17:34:38.400Z"
   },
   {
    "duration": 5115,
    "start_time": "2022-07-05T17:34:38.464Z"
   },
   {
    "duration": 11,
    "start_time": "2022-07-05T17:34:43.582Z"
   },
   {
    "duration": 83,
    "start_time": "2022-07-05T17:34:43.594Z"
   },
   {
    "duration": 12,
    "start_time": "2022-07-05T17:34:43.678Z"
   },
   {
    "duration": 7,
    "start_time": "2022-07-05T17:34:43.693Z"
   },
   {
    "duration": 1103,
    "start_time": "2022-07-05T17:38:42.578Z"
   },
   {
    "duration": 28,
    "start_time": "2022-07-05T17:38:43.683Z"
   },
   {
    "duration": 21,
    "start_time": "2022-07-05T17:38:43.713Z"
   },
   {
    "duration": 33,
    "start_time": "2022-07-05T17:38:43.736Z"
   },
   {
    "duration": 5,
    "start_time": "2022-07-05T17:38:43.770Z"
   },
   {
    "duration": 9,
    "start_time": "2022-07-05T17:38:43.777Z"
   },
   {
    "duration": 6,
    "start_time": "2022-07-05T17:38:43.788Z"
   },
   {
    "duration": 66,
    "start_time": "2022-07-05T17:38:43.795Z"
   },
   {
    "duration": 51,
    "start_time": "2022-07-05T17:38:43.863Z"
   },
   {
    "duration": 4464,
    "start_time": "2022-07-05T17:38:43.917Z"
   },
   {
    "duration": 16,
    "start_time": "2022-07-05T17:38:48.382Z"
   },
   {
    "duration": 26,
    "start_time": "2022-07-05T17:38:48.400Z"
   },
   {
    "duration": 17,
    "start_time": "2022-07-05T17:38:48.428Z"
   },
   {
    "duration": 37,
    "start_time": "2022-07-05T17:38:48.447Z"
   },
   {
    "duration": 10,
    "start_time": "2022-07-05T18:05:30.088Z"
   },
   {
    "duration": 50,
    "start_time": "2022-07-05T18:10:09.131Z"
   },
   {
    "duration": 61,
    "start_time": "2022-07-05T18:10:20.954Z"
   },
   {
    "duration": 4685,
    "start_time": "2022-07-05T18:10:26.798Z"
   },
   {
    "duration": 1207,
    "start_time": "2022-07-05T18:13:42.899Z"
   },
   {
    "duration": 28,
    "start_time": "2022-07-05T18:13:44.108Z"
   },
   {
    "duration": 29,
    "start_time": "2022-07-05T18:13:44.138Z"
   },
   {
    "duration": 25,
    "start_time": "2022-07-05T18:13:44.169Z"
   },
   {
    "duration": 4,
    "start_time": "2022-07-05T18:13:44.196Z"
   },
   {
    "duration": 9,
    "start_time": "2022-07-05T18:13:44.202Z"
   },
   {
    "duration": 6,
    "start_time": "2022-07-05T18:13:44.213Z"
   },
   {
    "duration": 68,
    "start_time": "2022-07-05T18:13:44.221Z"
   },
   {
    "duration": 67,
    "start_time": "2022-07-05T18:13:44.291Z"
   },
   {
    "duration": 4302,
    "start_time": "2022-07-05T18:13:44.363Z"
   },
   {
    "duration": 23,
    "start_time": "2022-07-05T18:13:48.668Z"
   },
   {
    "duration": 19,
    "start_time": "2022-07-05T18:13:48.693Z"
   },
   {
    "duration": 14,
    "start_time": "2022-07-05T18:13:48.717Z"
   },
   {
    "duration": 8,
    "start_time": "2022-07-05T18:13:48.749Z"
   },
   {
    "duration": 10,
    "start_time": "2022-07-05T18:17:10.159Z"
   },
   {
    "duration": 14,
    "start_time": "2022-07-05T18:18:44.099Z"
   },
   {
    "duration": 877,
    "start_time": "2022-07-05T18:21:35.090Z"
   },
   {
    "duration": 770,
    "start_time": "2022-07-05T18:23:55.909Z"
   },
   {
    "duration": 810,
    "start_time": "2022-07-05T18:25:12.186Z"
   },
   {
    "duration": 1207,
    "start_time": "2022-07-05T18:34:17.030Z"
   },
   {
    "duration": 41,
    "start_time": "2022-07-05T18:34:18.239Z"
   },
   {
    "duration": 17,
    "start_time": "2022-07-05T18:34:18.282Z"
   },
   {
    "duration": 24,
    "start_time": "2022-07-05T18:34:18.301Z"
   },
   {
    "duration": 4,
    "start_time": "2022-07-05T18:34:18.326Z"
   },
   {
    "duration": 9,
    "start_time": "2022-07-05T18:34:18.331Z"
   },
   {
    "duration": 10,
    "start_time": "2022-07-05T18:34:18.345Z"
   },
   {
    "duration": 46,
    "start_time": "2022-07-05T18:34:18.357Z"
   },
   {
    "duration": 53,
    "start_time": "2022-07-05T18:34:18.405Z"
   },
   {
    "duration": 5913,
    "start_time": "2022-07-05T18:34:18.461Z"
   },
   {
    "duration": 16,
    "start_time": "2022-07-05T18:34:24.377Z"
   },
   {
    "duration": 5,
    "start_time": "2022-07-05T18:34:24.395Z"
   },
   {
    "duration": 1124,
    "start_time": "2022-07-07T10:22:06.971Z"
   },
   {
    "duration": 50,
    "start_time": "2022-07-07T10:22:08.098Z"
   },
   {
    "duration": 17,
    "start_time": "2022-07-07T10:22:08.150Z"
   },
   {
    "duration": 23,
    "start_time": "2022-07-07T10:22:08.169Z"
   },
   {
    "duration": 4,
    "start_time": "2022-07-07T10:22:08.193Z"
   },
   {
    "duration": 7,
    "start_time": "2022-07-07T10:22:08.198Z"
   },
   {
    "duration": 7,
    "start_time": "2022-07-07T10:22:08.207Z"
   },
   {
    "duration": 56,
    "start_time": "2022-07-07T10:22:08.216Z"
   },
   {
    "duration": 31,
    "start_time": "2022-07-07T10:22:08.274Z"
   },
   {
    "duration": 3790,
    "start_time": "2022-07-07T10:22:08.308Z"
   },
   {
    "duration": 37,
    "start_time": "2022-07-07T10:22:12.100Z"
   },
   {
    "duration": 6,
    "start_time": "2022-07-07T10:22:12.138Z"
   },
   {
    "duration": 28,
    "start_time": "2022-07-07T10:22:12.145Z"
   },
   {
    "duration": 5,
    "start_time": "2022-07-07T10:22:12.175Z"
   },
   {
    "duration": 6,
    "start_time": "2022-07-07T10:43:31.446Z"
   },
   {
    "duration": 15,
    "start_time": "2022-07-07T10:43:33.339Z"
   },
   {
    "duration": 6,
    "start_time": "2022-07-07T10:43:34.959Z"
   },
   {
    "duration": 6,
    "start_time": "2022-07-07T10:53:22.384Z"
   },
   {
    "duration": 6,
    "start_time": "2022-07-07T10:53:32.384Z"
   },
   {
    "duration": 1606,
    "start_time": "2022-07-07T15:17:59.271Z"
   },
   {
    "duration": 140,
    "start_time": "2022-07-07T15:18:00.878Z"
   },
   {
    "duration": 18,
    "start_time": "2022-07-07T15:18:01.020Z"
   },
   {
    "duration": 49,
    "start_time": "2022-07-07T15:18:01.040Z"
   },
   {
    "duration": 4,
    "start_time": "2022-07-07T15:18:01.091Z"
   },
   {
    "duration": 9,
    "start_time": "2022-07-07T15:18:01.097Z"
   },
   {
    "duration": 7,
    "start_time": "2022-07-07T15:18:01.108Z"
   },
   {
    "duration": 39,
    "start_time": "2022-07-07T15:18:01.116Z"
   },
   {
    "duration": 48,
    "start_time": "2022-07-07T15:18:01.157Z"
   },
   {
    "duration": 3738,
    "start_time": "2022-07-07T15:18:01.208Z"
   },
   {
    "duration": 32,
    "start_time": "2022-07-07T15:18:04.948Z"
   },
   {
    "duration": 26,
    "start_time": "2022-07-07T15:18:04.982Z"
   },
   {
    "duration": 23,
    "start_time": "2022-07-07T15:18:05.009Z"
   },
   {
    "duration": 6,
    "start_time": "2022-07-07T15:18:05.034Z"
   },
   {
    "duration": 3,
    "start_time": "2022-07-07T15:19:20.635Z"
   },
   {
    "duration": 39,
    "start_time": "2022-07-07T15:19:21.509Z"
   },
   {
    "duration": 11,
    "start_time": "2022-07-07T15:19:21.928Z"
   },
   {
    "duration": 23,
    "start_time": "2022-07-07T15:19:22.353Z"
   },
   {
    "duration": 4,
    "start_time": "2022-07-07T15:19:24.069Z"
   },
   {
    "duration": 5,
    "start_time": "2022-07-07T15:19:27.107Z"
   },
   {
    "duration": 4037,
    "start_time": "2022-07-07T15:19:33.956Z"
   },
   {
    "duration": 11,
    "start_time": "2022-07-07T15:19:37.995Z"
   },
   {
    "duration": 15,
    "start_time": "2022-07-07T15:19:38.697Z"
   },
   {
    "duration": 6,
    "start_time": "2022-07-07T15:19:39.529Z"
   },
   {
    "duration": 3853,
    "start_time": "2022-07-07T15:37:11.008Z"
   },
   {
    "duration": 3706,
    "start_time": "2022-07-07T15:37:26.333Z"
   },
   {
    "duration": 3923,
    "start_time": "2022-07-07T15:40:21.302Z"
   },
   {
    "duration": 6,
    "start_time": "2022-07-07T15:41:01.281Z"
   },
   {
    "duration": 120,
    "start_time": "2022-07-07T15:41:52.741Z"
   }
  ],
  "kernelspec": {
   "display_name": "Python 3 (ipykernel)",
   "language": "python",
   "name": "python3"
  },
  "language_info": {
   "codemirror_mode": {
    "name": "ipython",
    "version": 3
   },
   "file_extension": ".py",
   "mimetype": "text/x-python",
   "name": "python",
   "nbconvert_exporter": "python",
   "pygments_lexer": "ipython3",
   "version": "3.9.7"
  },
  "toc": {
   "base_numbering": 1,
   "nav_menu": {},
   "number_sections": true,
   "sideBar": true,
   "skip_h1_title": true,
   "title_cell": "Table of Contents",
   "title_sidebar": "Contents",
   "toc_cell": false,
   "toc_position": {
    "height": "calc(100% - 180px)",
    "left": "10px",
    "top": "150px",
    "width": "165px"
   },
   "toc_section_display": true,
   "toc_window_display": false
  }
 },
 "nbformat": 4,
 "nbformat_minor": 2
}
