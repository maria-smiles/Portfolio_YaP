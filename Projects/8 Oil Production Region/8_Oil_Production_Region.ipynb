{
 "cells": [
  {
   "cell_type": "markdown",
   "metadata": {},
   "source": [
    "# Выбор локации для скважины"
   ]
  },
  {
   "cell_type": "markdown",
   "metadata": {},
   "source": [
    "Допустим, вы работаете в добывающей компании «ГлавРосГосНефть». Нужно решить, где бурить новую скважину.\n",
    "\n",
    "Вам предоставлены пробы нефти в трёх регионах: в каждом 10 000 месторождений, где измерили качество нефти и объём её запасов. Постройте модель машинного обучения, которая поможет определить регион, где добыча принесёт наибольшую прибыль. Проанализируйте возможную прибыль и риски техникой *Bootstrap.*\n",
    "\n",
    "Шаги для выбора локации:\n",
    "\n",
    "- В избранном регионе ищут месторождения, для каждого определяют значения признаков;\n",
    "- Строят модель и оценивают объём запасов;\n",
    "- Выбирают месторождения с самым высокими оценками значений. Количество месторождений зависит от бюджета компании и стоимости разработки одной скважины;\n",
    "- Прибыль равна суммарной прибыли отобранных месторождений."
   ]
  },
  {
   "cell_type": "markdown",
   "metadata": {},
   "source": [
    "### Описание данных\n",
    "\n",
    "    id — уникальный идентификатор скважины;\n",
    "    \n",
    "    f0, f1, f2 — три признака точек (неважно, что они означают, но сами признаки значимы);\n",
    "    \n",
    "    product — объём запасов в скважине (тыс. баррелей).\n",
    "    \n",
    "    \n",
    "### Условия задачи\n",
    "\n",
    "\n",
    "    - Для обучения модели подходит только линейная регрессия (остальные — недостаточно предсказуемые).\n",
    "    - При разведке региона исследуют 500 точек, из которых с помощью машинного обучения выбирают 200 лучших для разработки.\n",
    "    - Бюджет на разработку скважин в регионе — 10 млрд рублей.\n",
    "    - При нынешних ценах один баррель сырья приносит 450 рублей дохода. Доход с каждой единицы продукта составляет 450 тыс. рублей, поскольку объём указан в тысячах баррелей.\n",
    "    - После оценки рисков нужно оставить лишь те регионы, в которых вероятность убытков меньше 2.5%. Среди них выбирают регион с наибольшей средней прибылью.\n",
    "\n",
    "Данные синтетические."
   ]
  },
  {
   "cell_type": "markdown",
   "metadata": {},
   "source": [
    "## Загрузка и подготовка данных"
   ]
  },
  {
   "cell_type": "code",
   "execution_count": 1,
   "metadata": {},
   "outputs": [],
   "source": [
    "import pandas as pd\n",
    "from sklearn.model_selection import train_test_split\n",
    "from sklearn.linear_model import LinearRegression\n",
    "from sklearn.metrics import mean_squared_error\n",
    "import seaborn as sns\n",
    "import matplotlib.pyplot as plt\n",
    "import itertools\n",
    "from sklearn.preprocessing import StandardScaler\n",
    "from sklearn.linear_model import LinearRegression\n",
    "import numpy as np\n",
    "from scipy import stats as st\n",
    "\n",
    "\n",
    "RANDOM_STATE = 0\n"
   ]
  },
  {
   "cell_type": "code",
   "execution_count": 2,
   "metadata": {
    "scrolled": false
   },
   "outputs": [
    {
     "data": {
      "text/plain": [
       "'data_0'"
      ]
     },
     "metadata": {},
     "output_type": "display_data"
    },
    {
     "name": "stdout",
     "output_type": "stream",
     "text": [
      "<class 'pandas.core.frame.DataFrame'>\n",
      "RangeIndex: 100000 entries, 0 to 99999\n",
      "Data columns (total 5 columns):\n",
      " #   Column   Non-Null Count   Dtype  \n",
      "---  ------   --------------   -----  \n",
      " 0   id       100000 non-null  object \n",
      " 1   f0       100000 non-null  float64\n",
      " 2   f1       100000 non-null  float64\n",
      " 3   f2       100000 non-null  float64\n",
      " 4   product  100000 non-null  float64\n",
      "dtypes: float64(4), object(1)\n",
      "memory usage: 3.8+ MB\n"
     ]
    },
    {
     "data": {
      "text/html": [
       "<div>\n",
       "<style scoped>\n",
       "    .dataframe tbody tr th:only-of-type {\n",
       "        vertical-align: middle;\n",
       "    }\n",
       "\n",
       "    .dataframe tbody tr th {\n",
       "        vertical-align: top;\n",
       "    }\n",
       "\n",
       "    .dataframe thead th {\n",
       "        text-align: right;\n",
       "    }\n",
       "</style>\n",
       "<table border=\"1\" class=\"dataframe\">\n",
       "  <thead>\n",
       "    <tr style=\"text-align: right;\">\n",
       "      <th></th>\n",
       "      <th>id</th>\n",
       "      <th>f0</th>\n",
       "      <th>f1</th>\n",
       "      <th>f2</th>\n",
       "      <th>product</th>\n",
       "    </tr>\n",
       "  </thead>\n",
       "  <tbody>\n",
       "    <tr>\n",
       "      <th>0</th>\n",
       "      <td>txEyH</td>\n",
       "      <td>0.705745</td>\n",
       "      <td>-0.497823</td>\n",
       "      <td>1.221170</td>\n",
       "      <td>105.280062</td>\n",
       "    </tr>\n",
       "    <tr>\n",
       "      <th>1</th>\n",
       "      <td>2acmU</td>\n",
       "      <td>1.334711</td>\n",
       "      <td>-0.340164</td>\n",
       "      <td>4.365080</td>\n",
       "      <td>73.037750</td>\n",
       "    </tr>\n",
       "    <tr>\n",
       "      <th>2</th>\n",
       "      <td>409Wp</td>\n",
       "      <td>1.022732</td>\n",
       "      <td>0.151990</td>\n",
       "      <td>1.419926</td>\n",
       "      <td>85.265647</td>\n",
       "    </tr>\n",
       "    <tr>\n",
       "      <th>3</th>\n",
       "      <td>iJLyR</td>\n",
       "      <td>-0.032172</td>\n",
       "      <td>0.139033</td>\n",
       "      <td>2.978566</td>\n",
       "      <td>168.620776</td>\n",
       "    </tr>\n",
       "    <tr>\n",
       "      <th>4</th>\n",
       "      <td>Xdl7t</td>\n",
       "      <td>1.988431</td>\n",
       "      <td>0.155413</td>\n",
       "      <td>4.751769</td>\n",
       "      <td>154.036647</td>\n",
       "    </tr>\n",
       "    <tr>\n",
       "      <th>5</th>\n",
       "      <td>wX4Hy</td>\n",
       "      <td>0.969570</td>\n",
       "      <td>0.489775</td>\n",
       "      <td>-0.735383</td>\n",
       "      <td>64.741541</td>\n",
       "    </tr>\n",
       "    <tr>\n",
       "      <th>6</th>\n",
       "      <td>tL6pL</td>\n",
       "      <td>0.645075</td>\n",
       "      <td>0.530656</td>\n",
       "      <td>1.780266</td>\n",
       "      <td>49.055285</td>\n",
       "    </tr>\n",
       "    <tr>\n",
       "      <th>7</th>\n",
       "      <td>BYPU6</td>\n",
       "      <td>-0.400648</td>\n",
       "      <td>0.808337</td>\n",
       "      <td>-5.624670</td>\n",
       "      <td>72.943292</td>\n",
       "    </tr>\n",
       "  </tbody>\n",
       "</table>\n",
       "</div>"
      ],
      "text/plain": [
       "      id        f0        f1        f2     product\n",
       "0  txEyH  0.705745 -0.497823  1.221170  105.280062\n",
       "1  2acmU  1.334711 -0.340164  4.365080   73.037750\n",
       "2  409Wp  1.022732  0.151990  1.419926   85.265647\n",
       "3  iJLyR -0.032172  0.139033  2.978566  168.620776\n",
       "4  Xdl7t  1.988431  0.155413  4.751769  154.036647\n",
       "5  wX4Hy  0.969570  0.489775 -0.735383   64.741541\n",
       "6  tL6pL  0.645075  0.530656  1.780266   49.055285\n",
       "7  BYPU6 -0.400648  0.808337 -5.624670   72.943292"
      ]
     },
     "metadata": {},
     "output_type": "display_data"
    },
    {
     "data": {
      "text/plain": [
       "'data_1'"
      ]
     },
     "metadata": {},
     "output_type": "display_data"
    },
    {
     "name": "stdout",
     "output_type": "stream",
     "text": [
      "<class 'pandas.core.frame.DataFrame'>\n",
      "RangeIndex: 100000 entries, 0 to 99999\n",
      "Data columns (total 5 columns):\n",
      " #   Column   Non-Null Count   Dtype  \n",
      "---  ------   --------------   -----  \n",
      " 0   id       100000 non-null  object \n",
      " 1   f0       100000 non-null  float64\n",
      " 2   f1       100000 non-null  float64\n",
      " 3   f2       100000 non-null  float64\n",
      " 4   product  100000 non-null  float64\n",
      "dtypes: float64(4), object(1)\n",
      "memory usage: 3.8+ MB\n"
     ]
    },
    {
     "data": {
      "text/html": [
       "<div>\n",
       "<style scoped>\n",
       "    .dataframe tbody tr th:only-of-type {\n",
       "        vertical-align: middle;\n",
       "    }\n",
       "\n",
       "    .dataframe tbody tr th {\n",
       "        vertical-align: top;\n",
       "    }\n",
       "\n",
       "    .dataframe thead th {\n",
       "        text-align: right;\n",
       "    }\n",
       "</style>\n",
       "<table border=\"1\" class=\"dataframe\">\n",
       "  <thead>\n",
       "    <tr style=\"text-align: right;\">\n",
       "      <th></th>\n",
       "      <th>id</th>\n",
       "      <th>f0</th>\n",
       "      <th>f1</th>\n",
       "      <th>f2</th>\n",
       "      <th>product</th>\n",
       "    </tr>\n",
       "  </thead>\n",
       "  <tbody>\n",
       "    <tr>\n",
       "      <th>0</th>\n",
       "      <td>kBEdx</td>\n",
       "      <td>-15.001348</td>\n",
       "      <td>-8.276000</td>\n",
       "      <td>-0.005876</td>\n",
       "      <td>3.179103</td>\n",
       "    </tr>\n",
       "    <tr>\n",
       "      <th>1</th>\n",
       "      <td>62mP7</td>\n",
       "      <td>14.272088</td>\n",
       "      <td>-3.475083</td>\n",
       "      <td>0.999183</td>\n",
       "      <td>26.953261</td>\n",
       "    </tr>\n",
       "    <tr>\n",
       "      <th>2</th>\n",
       "      <td>vyE1P</td>\n",
       "      <td>6.263187</td>\n",
       "      <td>-5.948386</td>\n",
       "      <td>5.001160</td>\n",
       "      <td>134.766305</td>\n",
       "    </tr>\n",
       "    <tr>\n",
       "      <th>3</th>\n",
       "      <td>KcrkZ</td>\n",
       "      <td>-13.081196</td>\n",
       "      <td>-11.506057</td>\n",
       "      <td>4.999415</td>\n",
       "      <td>137.945408</td>\n",
       "    </tr>\n",
       "    <tr>\n",
       "      <th>4</th>\n",
       "      <td>AHL4O</td>\n",
       "      <td>12.702195</td>\n",
       "      <td>-8.147433</td>\n",
       "      <td>5.004363</td>\n",
       "      <td>134.766305</td>\n",
       "    </tr>\n",
       "    <tr>\n",
       "      <th>5</th>\n",
       "      <td>HHckp</td>\n",
       "      <td>-3.327590</td>\n",
       "      <td>-2.205276</td>\n",
       "      <td>3.003647</td>\n",
       "      <td>84.038886</td>\n",
       "    </tr>\n",
       "    <tr>\n",
       "      <th>6</th>\n",
       "      <td>h5Ujo</td>\n",
       "      <td>-11.142655</td>\n",
       "      <td>-10.133399</td>\n",
       "      <td>4.002382</td>\n",
       "      <td>110.992147</td>\n",
       "    </tr>\n",
       "    <tr>\n",
       "      <th>7</th>\n",
       "      <td>muH9x</td>\n",
       "      <td>4.234715</td>\n",
       "      <td>-0.001354</td>\n",
       "      <td>2.004588</td>\n",
       "      <td>53.906522</td>\n",
       "    </tr>\n",
       "  </tbody>\n",
       "</table>\n",
       "</div>"
      ],
      "text/plain": [
       "      id         f0         f1        f2     product\n",
       "0  kBEdx -15.001348  -8.276000 -0.005876    3.179103\n",
       "1  62mP7  14.272088  -3.475083  0.999183   26.953261\n",
       "2  vyE1P   6.263187  -5.948386  5.001160  134.766305\n",
       "3  KcrkZ -13.081196 -11.506057  4.999415  137.945408\n",
       "4  AHL4O  12.702195  -8.147433  5.004363  134.766305\n",
       "5  HHckp  -3.327590  -2.205276  3.003647   84.038886\n",
       "6  h5Ujo -11.142655 -10.133399  4.002382  110.992147\n",
       "7  muH9x   4.234715  -0.001354  2.004588   53.906522"
      ]
     },
     "metadata": {},
     "output_type": "display_data"
    },
    {
     "data": {
      "text/plain": [
       "'data_2'"
      ]
     },
     "metadata": {},
     "output_type": "display_data"
    },
    {
     "name": "stdout",
     "output_type": "stream",
     "text": [
      "<class 'pandas.core.frame.DataFrame'>\n",
      "RangeIndex: 100000 entries, 0 to 99999\n",
      "Data columns (total 5 columns):\n",
      " #   Column   Non-Null Count   Dtype  \n",
      "---  ------   --------------   -----  \n",
      " 0   id       100000 non-null  object \n",
      " 1   f0       100000 non-null  float64\n",
      " 2   f1       100000 non-null  float64\n",
      " 3   f2       100000 non-null  float64\n",
      " 4   product  100000 non-null  float64\n",
      "dtypes: float64(4), object(1)\n",
      "memory usage: 3.8+ MB\n"
     ]
    },
    {
     "data": {
      "text/html": [
       "<div>\n",
       "<style scoped>\n",
       "    .dataframe tbody tr th:only-of-type {\n",
       "        vertical-align: middle;\n",
       "    }\n",
       "\n",
       "    .dataframe tbody tr th {\n",
       "        vertical-align: top;\n",
       "    }\n",
       "\n",
       "    .dataframe thead th {\n",
       "        text-align: right;\n",
       "    }\n",
       "</style>\n",
       "<table border=\"1\" class=\"dataframe\">\n",
       "  <thead>\n",
       "    <tr style=\"text-align: right;\">\n",
       "      <th></th>\n",
       "      <th>id</th>\n",
       "      <th>f0</th>\n",
       "      <th>f1</th>\n",
       "      <th>f2</th>\n",
       "      <th>product</th>\n",
       "    </tr>\n",
       "  </thead>\n",
       "  <tbody>\n",
       "    <tr>\n",
       "      <th>0</th>\n",
       "      <td>fwXo0</td>\n",
       "      <td>-1.146987</td>\n",
       "      <td>0.963328</td>\n",
       "      <td>-0.828965</td>\n",
       "      <td>27.758673</td>\n",
       "    </tr>\n",
       "    <tr>\n",
       "      <th>1</th>\n",
       "      <td>WJtFt</td>\n",
       "      <td>0.262778</td>\n",
       "      <td>0.269839</td>\n",
       "      <td>-2.530187</td>\n",
       "      <td>56.069697</td>\n",
       "    </tr>\n",
       "    <tr>\n",
       "      <th>2</th>\n",
       "      <td>ovLUW</td>\n",
       "      <td>0.194587</td>\n",
       "      <td>0.289035</td>\n",
       "      <td>-5.586433</td>\n",
       "      <td>62.871910</td>\n",
       "    </tr>\n",
       "    <tr>\n",
       "      <th>3</th>\n",
       "      <td>q6cA6</td>\n",
       "      <td>2.236060</td>\n",
       "      <td>-0.553760</td>\n",
       "      <td>0.930038</td>\n",
       "      <td>114.572842</td>\n",
       "    </tr>\n",
       "    <tr>\n",
       "      <th>4</th>\n",
       "      <td>WPMUX</td>\n",
       "      <td>-0.515993</td>\n",
       "      <td>1.716266</td>\n",
       "      <td>5.899011</td>\n",
       "      <td>149.600746</td>\n",
       "    </tr>\n",
       "    <tr>\n",
       "      <th>5</th>\n",
       "      <td>LzZXx</td>\n",
       "      <td>-0.758092</td>\n",
       "      <td>0.710691</td>\n",
       "      <td>2.585887</td>\n",
       "      <td>90.222465</td>\n",
       "    </tr>\n",
       "    <tr>\n",
       "      <th>6</th>\n",
       "      <td>WBHRv</td>\n",
       "      <td>-0.574891</td>\n",
       "      <td>0.317727</td>\n",
       "      <td>1.773745</td>\n",
       "      <td>45.641478</td>\n",
       "    </tr>\n",
       "    <tr>\n",
       "      <th>7</th>\n",
       "      <td>XO8fn</td>\n",
       "      <td>-1.906649</td>\n",
       "      <td>-2.458350</td>\n",
       "      <td>-0.177097</td>\n",
       "      <td>72.480640</td>\n",
       "    </tr>\n",
       "  </tbody>\n",
       "</table>\n",
       "</div>"
      ],
      "text/plain": [
       "      id        f0        f1        f2     product\n",
       "0  fwXo0 -1.146987  0.963328 -0.828965   27.758673\n",
       "1  WJtFt  0.262778  0.269839 -2.530187   56.069697\n",
       "2  ovLUW  0.194587  0.289035 -5.586433   62.871910\n",
       "3  q6cA6  2.236060 -0.553760  0.930038  114.572842\n",
       "4  WPMUX -0.515993  1.716266  5.899011  149.600746\n",
       "5  LzZXx -0.758092  0.710691  2.585887   90.222465\n",
       "6  WBHRv -0.574891  0.317727  1.773745   45.641478\n",
       "7  XO8fn -1.906649 -2.458350 -0.177097   72.480640"
      ]
     },
     "metadata": {},
     "output_type": "display_data"
    }
   ],
   "source": [
    "data_0 = pd.read_csv('/datasets/geo_data_0.csv')\n",
    "data_1 = pd.read_csv('/datasets/geo_data_1.csv')\n",
    "data_2 = pd.read_csv('/datasets/geo_data_2.csv')\n",
    "\n",
    "display('data_0')\n",
    "data_0.info()\n",
    "display(data_0.head(8))\n",
    "display('data_1')\n",
    "data_1.info()\n",
    "display(data_1.head(8))\n",
    "display('data_2')\n",
    "data_2.info()\n",
    "display(data_2.head(8))"
   ]
  },
  {
   "cell_type": "markdown",
   "metadata": {},
   "source": [
    "Посмотрим дубли."
   ]
  },
  {
   "cell_type": "code",
   "execution_count": 3,
   "metadata": {
    "scrolled": true
   },
   "outputs": [
    {
     "name": "stdout",
     "output_type": "stream",
     "text": [
      "Количество дубликатов в data_0: 0\n",
      "Количество дубликатов в data_1: 0\n",
      "Количество дубликатов в data_2: 0\n"
     ]
    }
   ],
   "source": [
    "print('Количество дубликатов в data_0:', data_0.duplicated().sum())\n",
    "print('Количество дубликатов в data_1:', data_1.duplicated().sum())\n",
    "print('Количество дубликатов в data_2:', data_2.duplicated().sum())"
   ]
  },
  {
   "cell_type": "code",
   "execution_count": 4,
   "metadata": {
    "scrolled": true
   },
   "outputs": [
    {
     "name": "stdout",
     "output_type": "stream",
     "text": [
      "Количество дубликатов по id в data_0: 10\n",
      "Количество дубликатов по id в data_1: 4\n",
      "Количество дубликатов по id в data_2: 4\n"
     ]
    }
   ],
   "source": [
    "print('Количество дубликатов по id в data_0:', data_0.duplicated(subset=['id']).sum())\n",
    "print('Количество дубликатов по id в data_1:', data_1.duplicated(subset=['id']).sum())\n",
    "print('Количество дубликатов по id в data_2:', data_2.duplicated(subset=['id']).sum())"
   ]
  },
  {
   "cell_type": "code",
   "execution_count": 5,
   "metadata": {},
   "outputs": [],
   "source": [
    "data_0 = data_0.drop_duplicates(subset=['id'])\n",
    "data_1 = data_1.drop_duplicates(subset=['id'])\n",
    "data_2 = data_2.drop_duplicates(subset=['id'])"
   ]
  },
  {
   "cell_type": "markdown",
   "metadata": {
    "scrolled": true
   },
   "source": [
    "Поскольку теперь 'id' нам не нужен, удалю этот столбец из всех таблиц.\n"
   ]
  },
  {
   "cell_type": "code",
   "execution_count": 6,
   "metadata": {},
   "outputs": [],
   "source": [
    "data_0 = data_0.drop('id', axis=1)\n",
    "data_1 = data_1.drop('id', axis=1)\n",
    "data_2 = data_2.drop('id', axis=1)"
   ]
  },
  {
   "cell_type": "markdown",
   "metadata": {},
   "source": [
    "В столбце product должны быть положительные значения, потому что это объём добываемого ресурса, он не может быть отрицательным. Про параметры f нам ничего такого неизвестно, они такие, как есть. На их значения будем пристальней смотреть в диапазоне размаха. Проверим разброс значений."
   ]
  },
  {
   "cell_type": "code",
   "execution_count": 7,
   "metadata": {
    "scrolled": false
   },
   "outputs": [
    {
     "data": {
      "text/plain": [
       "'data_0:'"
      ]
     },
     "metadata": {},
     "output_type": "display_data"
    },
    {
     "data": {
      "text/html": [
       "<div>\n",
       "<style scoped>\n",
       "    .dataframe tbody tr th:only-of-type {\n",
       "        vertical-align: middle;\n",
       "    }\n",
       "\n",
       "    .dataframe tbody tr th {\n",
       "        vertical-align: top;\n",
       "    }\n",
       "\n",
       "    .dataframe thead th {\n",
       "        text-align: right;\n",
       "    }\n",
       "</style>\n",
       "<table border=\"1\" class=\"dataframe\">\n",
       "  <thead>\n",
       "    <tr style=\"text-align: right;\">\n",
       "      <th></th>\n",
       "      <th>f0</th>\n",
       "      <th>f1</th>\n",
       "      <th>f2</th>\n",
       "      <th>product</th>\n",
       "    </tr>\n",
       "  </thead>\n",
       "  <tbody>\n",
       "    <tr>\n",
       "      <th>count</th>\n",
       "      <td>99990.000000</td>\n",
       "      <td>99990.000000</td>\n",
       "      <td>99990.000000</td>\n",
       "      <td>99990.000000</td>\n",
       "    </tr>\n",
       "    <tr>\n",
       "      <th>mean</th>\n",
       "      <td>0.500454</td>\n",
       "      <td>0.250141</td>\n",
       "      <td>2.502629</td>\n",
       "      <td>92.499684</td>\n",
       "    </tr>\n",
       "    <tr>\n",
       "      <th>std</th>\n",
       "      <td>0.871844</td>\n",
       "      <td>0.504430</td>\n",
       "      <td>3.248149</td>\n",
       "      <td>44.288304</td>\n",
       "    </tr>\n",
       "    <tr>\n",
       "      <th>min</th>\n",
       "      <td>-1.408605</td>\n",
       "      <td>-0.848218</td>\n",
       "      <td>-12.088328</td>\n",
       "      <td>0.000000</td>\n",
       "    </tr>\n",
       "    <tr>\n",
       "      <th>25%</th>\n",
       "      <td>-0.072572</td>\n",
       "      <td>-0.200877</td>\n",
       "      <td>0.287784</td>\n",
       "      <td>56.497069</td>\n",
       "    </tr>\n",
       "    <tr>\n",
       "      <th>50%</th>\n",
       "      <td>0.502405</td>\n",
       "      <td>0.250252</td>\n",
       "      <td>2.515969</td>\n",
       "      <td>91.847928</td>\n",
       "    </tr>\n",
       "    <tr>\n",
       "      <th>75%</th>\n",
       "      <td>1.073626</td>\n",
       "      <td>0.700640</td>\n",
       "      <td>4.715035</td>\n",
       "      <td>128.563699</td>\n",
       "    </tr>\n",
       "    <tr>\n",
       "      <th>max</th>\n",
       "      <td>2.362331</td>\n",
       "      <td>1.343769</td>\n",
       "      <td>16.003790</td>\n",
       "      <td>185.364347</td>\n",
       "    </tr>\n",
       "  </tbody>\n",
       "</table>\n",
       "</div>"
      ],
      "text/plain": [
       "                 f0            f1            f2       product\n",
       "count  99990.000000  99990.000000  99990.000000  99990.000000\n",
       "mean       0.500454      0.250141      2.502629     92.499684\n",
       "std        0.871844      0.504430      3.248149     44.288304\n",
       "min       -1.408605     -0.848218    -12.088328      0.000000\n",
       "25%       -0.072572     -0.200877      0.287784     56.497069\n",
       "50%        0.502405      0.250252      2.515969     91.847928\n",
       "75%        1.073626      0.700640      4.715035    128.563699\n",
       "max        2.362331      1.343769     16.003790    185.364347"
      ]
     },
     "metadata": {},
     "output_type": "display_data"
    },
    {
     "data": {
      "text/plain": [
       "'data_1:'"
      ]
     },
     "metadata": {},
     "output_type": "display_data"
    },
    {
     "data": {
      "text/html": [
       "<div>\n",
       "<style scoped>\n",
       "    .dataframe tbody tr th:only-of-type {\n",
       "        vertical-align: middle;\n",
       "    }\n",
       "\n",
       "    .dataframe tbody tr th {\n",
       "        vertical-align: top;\n",
       "    }\n",
       "\n",
       "    .dataframe thead th {\n",
       "        text-align: right;\n",
       "    }\n",
       "</style>\n",
       "<table border=\"1\" class=\"dataframe\">\n",
       "  <thead>\n",
       "    <tr style=\"text-align: right;\">\n",
       "      <th></th>\n",
       "      <th>f0</th>\n",
       "      <th>f1</th>\n",
       "      <th>f2</th>\n",
       "      <th>product</th>\n",
       "    </tr>\n",
       "  </thead>\n",
       "  <tbody>\n",
       "    <tr>\n",
       "      <th>count</th>\n",
       "      <td>99996.000000</td>\n",
       "      <td>99996.000000</td>\n",
       "      <td>99996.000000</td>\n",
       "      <td>99996.000000</td>\n",
       "    </tr>\n",
       "    <tr>\n",
       "      <th>mean</th>\n",
       "      <td>1.141209</td>\n",
       "      <td>-4.796608</td>\n",
       "      <td>2.494501</td>\n",
       "      <td>68.823916</td>\n",
       "    </tr>\n",
       "    <tr>\n",
       "      <th>std</th>\n",
       "      <td>8.965815</td>\n",
       "      <td>5.119906</td>\n",
       "      <td>1.703579</td>\n",
       "      <td>45.944663</td>\n",
       "    </tr>\n",
       "    <tr>\n",
       "      <th>min</th>\n",
       "      <td>-31.609576</td>\n",
       "      <td>-26.358598</td>\n",
       "      <td>-0.018144</td>\n",
       "      <td>0.000000</td>\n",
       "    </tr>\n",
       "    <tr>\n",
       "      <th>25%</th>\n",
       "      <td>-6.298551</td>\n",
       "      <td>-8.267985</td>\n",
       "      <td>1.000021</td>\n",
       "      <td>26.953261</td>\n",
       "    </tr>\n",
       "    <tr>\n",
       "      <th>50%</th>\n",
       "      <td>1.153055</td>\n",
       "      <td>-4.813172</td>\n",
       "      <td>2.011475</td>\n",
       "      <td>57.085625</td>\n",
       "    </tr>\n",
       "    <tr>\n",
       "      <th>75%</th>\n",
       "      <td>8.620964</td>\n",
       "      <td>-1.332816</td>\n",
       "      <td>3.999904</td>\n",
       "      <td>107.813044</td>\n",
       "    </tr>\n",
       "    <tr>\n",
       "      <th>max</th>\n",
       "      <td>29.421755</td>\n",
       "      <td>18.734063</td>\n",
       "      <td>5.019721</td>\n",
       "      <td>137.945408</td>\n",
       "    </tr>\n",
       "  </tbody>\n",
       "</table>\n",
       "</div>"
      ],
      "text/plain": [
       "                 f0            f1            f2       product\n",
       "count  99996.000000  99996.000000  99996.000000  99996.000000\n",
       "mean       1.141209     -4.796608      2.494501     68.823916\n",
       "std        8.965815      5.119906      1.703579     45.944663\n",
       "min      -31.609576    -26.358598     -0.018144      0.000000\n",
       "25%       -6.298551     -8.267985      1.000021     26.953261\n",
       "50%        1.153055     -4.813172      2.011475     57.085625\n",
       "75%        8.620964     -1.332816      3.999904    107.813044\n",
       "max       29.421755     18.734063      5.019721    137.945408"
      ]
     },
     "metadata": {},
     "output_type": "display_data"
    },
    {
     "data": {
      "text/plain": [
       "'data_2:'"
      ]
     },
     "metadata": {},
     "output_type": "display_data"
    },
    {
     "data": {
      "text/html": [
       "<div>\n",
       "<style scoped>\n",
       "    .dataframe tbody tr th:only-of-type {\n",
       "        vertical-align: middle;\n",
       "    }\n",
       "\n",
       "    .dataframe tbody tr th {\n",
       "        vertical-align: top;\n",
       "    }\n",
       "\n",
       "    .dataframe thead th {\n",
       "        text-align: right;\n",
       "    }\n",
       "</style>\n",
       "<table border=\"1\" class=\"dataframe\">\n",
       "  <thead>\n",
       "    <tr style=\"text-align: right;\">\n",
       "      <th></th>\n",
       "      <th>f0</th>\n",
       "      <th>f1</th>\n",
       "      <th>f2</th>\n",
       "      <th>product</th>\n",
       "    </tr>\n",
       "  </thead>\n",
       "  <tbody>\n",
       "    <tr>\n",
       "      <th>count</th>\n",
       "      <td>99996.000000</td>\n",
       "      <td>99996.000000</td>\n",
       "      <td>99996.000000</td>\n",
       "      <td>99996.000000</td>\n",
       "    </tr>\n",
       "    <tr>\n",
       "      <th>mean</th>\n",
       "      <td>0.002002</td>\n",
       "      <td>-0.002159</td>\n",
       "      <td>2.495084</td>\n",
       "      <td>94.998342</td>\n",
       "    </tr>\n",
       "    <tr>\n",
       "      <th>std</th>\n",
       "      <td>1.732052</td>\n",
       "      <td>1.730397</td>\n",
       "      <td>3.473482</td>\n",
       "      <td>44.749573</td>\n",
       "    </tr>\n",
       "    <tr>\n",
       "      <th>min</th>\n",
       "      <td>-8.760004</td>\n",
       "      <td>-7.084020</td>\n",
       "      <td>-11.970335</td>\n",
       "      <td>0.000000</td>\n",
       "    </tr>\n",
       "    <tr>\n",
       "      <th>25%</th>\n",
       "      <td>-1.162328</td>\n",
       "      <td>-1.174841</td>\n",
       "      <td>0.130269</td>\n",
       "      <td>59.450028</td>\n",
       "    </tr>\n",
       "    <tr>\n",
       "      <th>50%</th>\n",
       "      <td>0.009424</td>\n",
       "      <td>-0.009661</td>\n",
       "      <td>2.484236</td>\n",
       "      <td>94.925026</td>\n",
       "    </tr>\n",
       "    <tr>\n",
       "      <th>75%</th>\n",
       "      <td>1.158477</td>\n",
       "      <td>1.163523</td>\n",
       "      <td>4.858720</td>\n",
       "      <td>130.586815</td>\n",
       "    </tr>\n",
       "    <tr>\n",
       "      <th>max</th>\n",
       "      <td>7.238262</td>\n",
       "      <td>7.844801</td>\n",
       "      <td>16.739402</td>\n",
       "      <td>190.029838</td>\n",
       "    </tr>\n",
       "  </tbody>\n",
       "</table>\n",
       "</div>"
      ],
      "text/plain": [
       "                 f0            f1            f2       product\n",
       "count  99996.000000  99996.000000  99996.000000  99996.000000\n",
       "mean       0.002002     -0.002159      2.495084     94.998342\n",
       "std        1.732052      1.730397      3.473482     44.749573\n",
       "min       -8.760004     -7.084020    -11.970335      0.000000\n",
       "25%       -1.162328     -1.174841      0.130269     59.450028\n",
       "50%        0.009424     -0.009661      2.484236     94.925026\n",
       "75%        1.158477      1.163523      4.858720    130.586815\n",
       "max        7.238262      7.844801     16.739402    190.029838"
      ]
     },
     "metadata": {},
     "output_type": "display_data"
    }
   ],
   "source": [
    "display('data_0:', data_0.describe())\n",
    "display('data_1:', data_1.describe())\n",
    "display('data_2:', data_2.describe())"
   ]
  },
  {
   "cell_type": "markdown",
   "metadata": {},
   "source": [
    "Да, добыча имеет положительные значения."
   ]
  },
  {
   "cell_type": "code",
   "execution_count": 8,
   "metadata": {
    "scrolled": false
   },
   "outputs": [
    {
     "data": {
      "image/png": "[encoded data removed]",
      "text/plain": [
       "<Figure size 1440x1080 with 12 Axes>"
      ]
     },
     "metadata": {
      "needs_background": "light"
     },
     "output_type": "display_data"
    }
   ],
   "source": [
    "fig,ax = plt.subplots(3,4,figsize = (20,15))\n",
    "\n",
    "all_df = [\"data_0\",\"data_1\",\"data_2\"]\n",
    "num_columns = data_0.columns\n",
    "num_columns_with_columns = zip(data_0.columns,range(4))\n",
    "all_df_with_rows = zip([data_0,data_1,data_2],range(3))\n",
    "\n",
    "# графики\n",
    "\n",
    "for column in list(itertools.product(all_df_with_rows,num_columns_with_columns)):\n",
    "    ax[column[0][1]][column[1][1]].boxplot(column[0][0][column[1][0]])\n",
    "    \n",
    "# название таблицы\n",
    "\n",
    "for row in range(3):\n",
    "    ax[row][0].set_ylabel(all_df[row])\n",
    "    \n",
    "# название столбца\n",
    "\n",
    "for column in range(4):\n",
    "    ax[0][column].set_title(num_columns[column])"
   ]
  },
  {
   "cell_type": "markdown",
   "metadata": {},
   "source": [
    "Визуально наблюдаем много выбросов в data_0 f2, data_1 f1, data_2 все параметры. И какой-то одинокий выброс в data_1 f0.\n",
    "\n",
    "Надо бы их удалить."
   ]
  },
  {
   "cell_type": "code",
   "execution_count": 9,
   "metadata": {},
   "outputs": [
    {
     "name": "stdout",
     "output_type": "stream",
     "text": [
      "Процент отброшенных данных в выборке: 0.51 %\n",
      "количество отброшенных строк: 506\n",
      "Было строк: 99990\n"
     ]
    }
   ],
   "source": [
    "    before = len(data_0)\n",
    "    # граничные значения\n",
    "    \n",
    "    q1 = data_0['f2'].quantile(.25)\n",
    "    q3 = data_0['f2'].quantile(.75)\n",
    "    low = q1 - 1.5*(q3 - q1)\n",
    "    high = q3 + 1.5*(q3 - q1)\n",
    "    \n",
    "    # перезапись того, что внутри значений\n",
    "    data_0_clr = data_0.loc[(data_0['f2']>=low) & (data_0['f2']<=high)]\n",
    "    after = len(data_0_clr)\n",
    "    print('Процент отброшенных данных в выборке:', round((before-after)*100/before, 2),'%\\nколичество отброшенных строк:', before-after)\n",
    "    print('Было строк:', before)"
   ]
  },
  {
   "cell_type": "code",
   "execution_count": 10,
   "metadata": {},
   "outputs": [
    {
     "name": "stdout",
     "output_type": "stream",
     "text": [
      "<class 'pandas.core.frame.DataFrame'>\n",
      "Int64Index: 99484 entries, 0 to 99999\n",
      "Data columns (total 4 columns):\n",
      " #   Column   Non-Null Count  Dtype  \n",
      "---  ------   --------------  -----  \n",
      " 0   f0       99484 non-null  float64\n",
      " 1   f1       99484 non-null  float64\n",
      " 2   f2       99484 non-null  float64\n",
      " 3   product  99484 non-null  float64\n",
      "dtypes: float64(4)\n",
      "memory usage: 3.8 MB\n"
     ]
    }
   ],
   "source": [
    "data_0_clr.info()"
   ]
  },
  {
   "cell_type": "code",
   "execution_count": 11,
   "metadata": {},
   "outputs": [
    {
     "name": "stdout",
     "output_type": "stream",
     "text": [
      "Процент отброшенных данных в выборке: 0.0 %\n",
      "количество отброшенных строк: 1\n",
      "Должно стать строк: 99995\n"
     ]
    }
   ],
   "source": [
    "    before = len(data_1)\n",
    "    # граничные значения\n",
    "    \n",
    "    q1 = data_1['f0'].quantile(.25)\n",
    "    q3 = data_1['f0'].quantile(.75)\n",
    "    low = q1 - 1.5*(q3 - q1)\n",
    "    high = q3 + 1.5*(q3 - q1)\n",
    "    \n",
    "    # перезапись того, что внутри значений\n",
    "    df_clr = data_1.loc[(data_1['f0']>=low) & (data_1['f0']<=high)]\n",
    "    after = len(df_clr)\n",
    "    print('Процент отброшенных данных в выборке:', round((before-after)*100/before, 2),'%\\nколичество отброшенных строк:', before-after)\n",
    "    print('Должно стать строк:', after)"
   ]
  },
  {
   "cell_type": "code",
   "execution_count": 12,
   "metadata": {},
   "outputs": [
    {
     "name": "stdout",
     "output_type": "stream",
     "text": [
      "Процент отброшенных данных в выборке: 0.64 %\n",
      "количество отброшенных строк: 636\n",
      "Должно стать строк: 99359\n"
     ]
    }
   ],
   "source": [
    "    before = len(df_clr)\n",
    "    # граничные значения\n",
    "    \n",
    "    q1 = data_1['f1'].quantile(.25)\n",
    "    q3 = data_1['f1'].quantile(.75)\n",
    "    low = q1 - 1.5*(q3 - q1)\n",
    "    high = q3 + 1.5*(q3 - q1)\n",
    "    \n",
    "    # перезапись того, что внутри значений\n",
    "    data_1_clr = df_clr.loc[(df_clr['f1']>=low) & (df_clr['f1']<=high)]\n",
    "    after = len(data_1_clr)\n",
    "    print('Процент отброшенных данных в выборке:', round((before-after)*100/before, 2),'%\\nколичество отброшенных строк:', before-after)\n",
    "    print('Должно стать строк:', after)\n",
    "    "
   ]
  },
  {
   "cell_type": "code",
   "execution_count": 13,
   "metadata": {},
   "outputs": [
    {
     "name": "stdout",
     "output_type": "stream",
     "text": [
      "<class 'pandas.core.frame.DataFrame'>\n",
      "Int64Index: 99359 entries, 0 to 99999\n",
      "Data columns (total 4 columns):\n",
      " #   Column   Non-Null Count  Dtype  \n",
      "---  ------   --------------  -----  \n",
      " 0   f0       99359 non-null  float64\n",
      " 1   f1       99359 non-null  float64\n",
      " 2   f2       99359 non-null  float64\n",
      " 3   product  99359 non-null  float64\n",
      "dtypes: float64(4)\n",
      "memory usage: 3.8 MB\n"
     ]
    }
   ],
   "source": [
    "data_1_clr.info()"
   ]
  },
  {
   "cell_type": "code",
   "execution_count": 14,
   "metadata": {},
   "outputs": [
    {
     "name": "stdout",
     "output_type": "stream",
     "text": [
      "Процент отброшенных данных в выборке: 0.73 %\n",
      "количество отброшенных строк: 733\n",
      "Должно стать строк: 99263\n"
     ]
    }
   ],
   "source": [
    "    before = len(data_2)\n",
    "    # граничные значения\n",
    "    \n",
    "    q1 = data_2['f0'].quantile(.25)\n",
    "    q3 = data_2['f0'].quantile(.75)\n",
    "    low = q1 - 1.5*(q3 - q1)\n",
    "    high = q3 + 1.5*(q3 - q1)\n",
    "    \n",
    "    # перезапись того, что внутри значений\n",
    "    df_clr = data_2.loc[(data_2['f0']>=low) & (data_2['f0']<=high)].copy()\n",
    "    after = len(df_clr)\n",
    "    print('Процент отброшенных данных в выборке:', round((before-after)*100/before, 2),'%\\nколичество отброшенных строк:', before-after)\n",
    "    print('Должно стать строк:', after)"
   ]
  },
  {
   "cell_type": "code",
   "execution_count": 15,
   "metadata": {},
   "outputs": [
    {
     "name": "stdout",
     "output_type": "stream",
     "text": [
      "Процент отброшенных данных в выборке: 0.69 %\n",
      "количество отброшенных строк: 681\n",
      "Должно стать строк: 98582\n"
     ]
    }
   ],
   "source": [
    "    before = len(df_clr)\n",
    "    # граничные значения\n",
    "    \n",
    "    q1 = data_2['f1'].quantile(.25)\n",
    "    q3 = data_2['f1'].quantile(.75)\n",
    "    low = q1 - 1.5*(q3 - q1)\n",
    "    high = q3 + 1.5*(q3 - q1)\n",
    "    \n",
    "    # перезапись того, что внутри значений\n",
    "    df_clr = df_clr.loc[(df_clr['f1']>=low) & (df_clr['f1']<=high)].copy()\n",
    "    after = len(df_clr)\n",
    "    print('Процент отброшенных данных в выборке:', round((before-after)*100/before, 2),'%\\nколичество отброшенных строк:', before-after)\n",
    "    print('Должно стать строк:', after)"
   ]
  },
  {
   "cell_type": "code",
   "execution_count": 16,
   "metadata": {},
   "outputs": [
    {
     "name": "stdout",
     "output_type": "stream",
     "text": [
      "Процент отброшенных данных в выборке: 0.59 %\n",
      "количество отброшенных строк: 582\n",
      "Должно стать строк: 98000\n"
     ]
    }
   ],
   "source": [
    "    before = len(df_clr)\n",
    "    # граничные значения\n",
    "    \n",
    "    q1 = data_2['f2'].quantile(.25)\n",
    "    q3 = data_2['f2'].quantile(.75)\n",
    "    low = q1 - 1.5*(q3 - q1)\n",
    "    high = q3 + 1.5*(q3 - q1)\n",
    "    \n",
    "    # перезапись того, что внутри значений\n",
    "    data_2_clr = df_clr.loc[(df_clr['f2']>=low) & (df_clr['f2']<=high)].copy()\n",
    "    after = len(data_2_clr)\n",
    "    print('Процент отброшенных данных в выборке:', round((before-after)*100/before, 2),'%\\nколичество отброшенных строк:', before-after)\n",
    "    print('Должно стать строк:', after)"
   ]
  },
  {
   "cell_type": "code",
   "execution_count": 17,
   "metadata": {},
   "outputs": [
    {
     "name": "stdout",
     "output_type": "stream",
     "text": [
      "<class 'pandas.core.frame.DataFrame'>\n",
      "Int64Index: 98000 entries, 0 to 99999\n",
      "Data columns (total 4 columns):\n",
      " #   Column   Non-Null Count  Dtype  \n",
      "---  ------   --------------  -----  \n",
      " 0   f0       98000 non-null  float64\n",
      " 1   f1       98000 non-null  float64\n",
      " 2   f2       98000 non-null  float64\n",
      " 3   product  98000 non-null  float64\n",
      "dtypes: float64(4)\n",
      "memory usage: 3.7 MB\n"
     ]
    }
   ],
   "source": [
    "data_2_clr.info()"
   ]
  },
  {
   "cell_type": "markdown",
   "metadata": {},
   "source": [
    "Суммарно отброшено не более 3 % данных для одного региона, это не должно исказить дальнейшие изыскания."
   ]
  },
  {
   "cell_type": "markdown",
   "metadata": {
    "scrolled": true
   },
   "source": [
    "Рассмотрим матрицу корреляций для каждого региона.\n"
   ]
  },
  {
   "cell_type": "code",
   "execution_count": 18,
   "metadata": {
    "scrolled": true
   },
   "outputs": [],
   "source": [
    "def correlation(df):\n",
    "    df_corr = df.corr()\n",
    "    sns.heatmap(df_corr , xticklabels=df_corr.columns, yticklabels=df_corr.columns, annot=True)"
   ]
  },
  {
   "cell_type": "code",
   "execution_count": 19,
   "metadata": {
    "scrolled": false
   },
   "outputs": [
    {
     "data": {
      "image/png": "[encoded data removed]",
      "text/plain": [
       "<Figure size 432x288 with 2 Axes>"
      ]
     },
     "metadata": {
      "needs_background": "light"
     },
     "output_type": "display_data"
    }
   ],
   "source": [
    "correlation(data_0_clr)    "
   ]
  },
  {
   "cell_type": "markdown",
   "metadata": {},
   "source": [
    "Здесь мы видим обратную корреляцию между признаками f1 и f0 и прямую между f2 и product."
   ]
  },
  {
   "cell_type": "code",
   "execution_count": 20,
   "metadata": {},
   "outputs": [
    {
     "data": {
      "image/png": "[encoded data removed]",
      "text/plain": [
       "<Figure size 432x288 with 2 Axes>"
      ]
     },
     "metadata": {
      "needs_background": "light"
     },
     "output_type": "display_data"
    }
   ],
   "source": [
    "correlation(data_1_clr)    "
   ]
  },
  {
   "cell_type": "markdown",
   "metadata": {},
   "source": [
    "Mежду целевым признаком и f2 есть высокая прямая корреляция.\n"
   ]
  },
  {
   "cell_type": "code",
   "execution_count": 21,
   "metadata": {},
   "outputs": [
    {
     "data": {
      "image/png": "[encoded data removed]",
      "text/plain": [
       "<Figure size 432x288 with 2 Axes>"
      ]
     },
     "metadata": {
      "needs_background": "light"
     },
     "output_type": "display_data"
    }
   ],
   "source": [
    "correlation(data_2_clr)    "
   ]
  },
  {
   "cell_type": "markdown",
   "metadata": {},
   "source": [
    "Здесь также прямая корреляция между f2 и product."
   ]
  },
  {
   "cell_type": "markdown",
   "metadata": {},
   "source": [
    "Всё. Дубли по скважинам удалены, учтены разбросы и корреляции, теперь можно приступать к обучению моделей."
   ]
  },
  {
   "cell_type": "markdown",
   "metadata": {},
   "source": [
    "## Обучение и проверка модели"
   ]
  },
  {
   "cell_type": "markdown",
   "metadata": {},
   "source": [
    "### Разбиение выборок на обучающую, валидационную и тестовую"
   ]
  },
  {
   "cell_type": "markdown",
   "metadata": {},
   "source": [
    "Поскольку у нас три датасета, напишу функцию для дальнейшей работы."
   ]
  },
  {
   "cell_type": "code",
   "execution_count": 22,
   "metadata": {},
   "outputs": [],
   "source": [
    "def separate(data, data_name, test_size_valid, target_feature):\n",
    "    \n",
    "    # \n",
    "    \n",
    "    features = data.drop(target_feature, axis=1)\n",
    "    target = data[target_feature]\n",
    "    \n",
    "    #\n",
    "    \n",
    "    features_train, features_valid, target_train, target_valid = train_test_split(features,\n",
    "                                target, test_size=test_size_valid, random_state=RANDOM_STATE)\n",
    "    \n",
    "    print(f'Размеры выборок для {data_name}:\\n_____________________________')\n",
    "\n",
    "    print('features_valid:', features_valid.shape)\n",
    "    print('target_valid:', target_valid.shape)\n",
    "    print('features_train:', features_train.shape)\n",
    "    print('target_train:', target_train.shape)\n",
    "    print('_____________________________\\n')\n",
    "    return features_valid, target_valid, features_train, target_train\n",
    "    \n"
   ]
  },
  {
   "cell_type": "code",
   "execution_count": 23,
   "metadata": {},
   "outputs": [],
   "source": [
    "\n",
    "test_size_valid = 0.25\n",
    "target_feature = 'product'\n",
    "data_name = ['data_0_clr', 'data_1_clr', 'data_2_clr']\n",
    "\n"
   ]
  },
  {
   "cell_type": "code",
   "execution_count": 24,
   "metadata": {
    "scrolled": false
   },
   "outputs": [
    {
     "name": "stdout",
     "output_type": "stream",
     "text": [
      "Размеры выборок для data_0_clr:\n",
      "_____________________________\n",
      "features_valid: (24871, 3)\n",
      "target_valid: (24871,)\n",
      "features_train: (74613, 3)\n",
      "target_train: (74613,)\n",
      "_____________________________\n",
      "\n",
      "Размеры выборок для data_1_clr:\n",
      "_____________________________\n",
      "features_valid: (24840, 3)\n",
      "target_valid: (24840,)\n",
      "features_train: (74519, 3)\n",
      "target_train: (74519,)\n",
      "_____________________________\n",
      "\n",
      "Размеры выборок для data_2_clr:\n",
      "_____________________________\n",
      "features_valid: (24500, 3)\n",
      "target_valid: (24500,)\n",
      "features_train: (73500, 3)\n",
      "target_train: (73500,)\n",
      "_____________________________\n",
      "\n"
     ]
    }
   ],
   "source": [
    "features_valid_0, target_valid_0, features_train_0, target_train_0 = separate(data_0_clr, data_name[0], test_size_valid, target_feature)\n",
    "features_valid_1, target_valid_1, features_train_1, target_train_1 = separate(data_1_clr, data_name[1], test_size_valid, target_feature)\n",
    "features_valid_2, target_valid_2, features_train_2, target_train_2 = separate(data_2_clr, data_name[2], test_size_valid, target_feature)"
   ]
  },
  {
   "cell_type": "markdown",
   "metadata": {},
   "source": [
    "И теперь надо стандартизировать каждую."
   ]
  },
  {
   "cell_type": "code",
   "execution_count": 25,
   "metadata": {},
   "outputs": [],
   "source": [
    "# data_to_scale = [features_valid, features_train]\n",
    "def scale_data(features_valid, features_train):\n",
    "    scaler = StandardScaler()\n",
    "    scaler.fit(features_train)\n",
    "\n",
    "    features_train = scaler.transform(features_train)\n",
    "    features_valid = scaler.transform(features_valid)\n",
    "\n",
    "    return features_valid, features_train"
   ]
  },
  {
   "cell_type": "code",
   "execution_count": 26,
   "metadata": {},
   "outputs": [],
   "source": [
    "features_valid_0, features_train_0 = scale_data(features_valid_0, features_train_0)\n",
    "features_valid_1, features_train_1 = scale_data(features_valid_1, features_train_1)\n",
    "features_valid_2, features_train_2 = scale_data(features_valid_2, features_train_2)"
   ]
  },
  {
   "cell_type": "markdown",
   "metadata": {},
   "source": [
    "### Обучение модели"
   ]
  },
  {
   "cell_type": "code",
   "execution_count": 27,
   "metadata": {},
   "outputs": [],
   "source": [
    "def study_model(data_name, features_valid, target_valid, features_train, target_train):\n",
    "    model = LinearRegression()\n",
    "    model.fit(features_train, target_train)\n",
    "    predicted_valid = model.predict(features_valid)\n",
    "\n",
    "    mse_v = mean_squared_error(target_valid, predicted_valid)\n",
    "    rmse_v = mse_v ** 0.5\n",
    "\n",
    "    print(f'для выборки {data_name}\\n')\n",
    "    print(\"RMSE =\", rmse_v)\n",
    "    print('Средняя добыча:', predicted_valid.mean())\n",
    "    print('___________________\\n')\n",
    "    \n",
    "    \n",
    "    return model, predicted_valid.mean(), predicted_valid"
   ]
  },
  {
   "cell_type": "code",
   "execution_count": 28,
   "metadata": {
    "scrolled": false
   },
   "outputs": [
    {
     "name": "stdout",
     "output_type": "stream",
     "text": [
      "для выборки data_0_clr\n",
      "\n",
      "RMSE = 37.70681752824511\n",
      "Средняя добыча: 92.5084815165794\n",
      "___________________\n",
      "\n",
      "для выборки data_1_clr\n",
      "\n",
      "RMSE = 0.892938466308693\n",
      "Средняя добыча: 69.07803125241199\n",
      "___________________\n",
      "\n",
      "для выборки data_2_clr\n",
      "\n",
      "RMSE = 40.17595283670293\n",
      "Средняя добыча: 95.07139658346769\n",
      "___________________\n",
      "\n"
     ]
    }
   ],
   "source": [
    "model_0, mean_0, predict_0 = study_model(data_name[0], features_valid_0, target_valid_0, features_train_0, target_train_0)\n",
    "model_1, mean_1, predict_1 = study_model(data_name[1], features_valid_1, target_valid_1, features_train_1, target_train_1)\n",
    "model_2, mean_2, predict_2 = study_model(data_name[2], features_valid_2, target_valid_2, features_train_2, target_train_2)"
   ]
  },
  {
   "cell_type": "markdown",
   "metadata": {},
   "source": [
    "    По среднему объёму регионы выстроились по убыванию в следующем порядке:\n",
    "        - Регион 2\n",
    "        - Регион 0\n",
    "        - Регион 1\n",
    "        \n",
    "    Ошибка распределена также."
   ]
  },
  {
   "cell_type": "markdown",
   "metadata": {},
   "source": [
    "## Подготовка к расчёту прибыли"
   ]
  },
  {
   "cell_type": "markdown",
   "metadata": {},
   "source": [
    "На один регион выделяется бюджет в 10 млн рублей"
   ]
  },
  {
   "cell_type": "code",
   "execution_count": 29,
   "metadata": {
    "scrolled": false
   },
   "outputs": [
    {
     "name": "stdout",
     "output_type": "stream",
     "text": [
      "Расчётный объём средней добычи со скважины для безубыточности региона =  111.11\n"
     ]
    }
   ],
   "source": [
    "REGION_BUGET = 10*(10**9)\n",
    "MEGABARREL_PRICE = 450000\n",
    "# в таблице представлена добыча в тысячах баррелей \n",
    "WELLS_NEED = 200\n",
    "\n",
    "print('Расчётный объём средней добычи со скважины для безубыточности региона = ', round(REGION_BUGET/(WELLS_NEED*MEGABARREL_PRICE), 2))"
   ]
  },
  {
   "cell_type": "code",
   "execution_count": 30,
   "metadata": {},
   "outputs": [
    {
     "name": "stdout",
     "output_type": "stream",
     "text": [
      "Средние запасы по регионам: \n",
      "\tРегион 0 = 92.51\n",
      "\tРегион 1 = 69.08\n",
      "\tРегион 2 = 95.07\n"
     ]
    }
   ],
   "source": [
    "print(f'Средние запасы по регионам: \\n\\tРегион 0 = {round(mean_0, 2)}\\n\\tРегион 1 = {round(mean_1, 2)}\\n\\tРегион 2 = {round(mean_2, 2)}')"
   ]
  },
  {
   "cell_type": "markdown",
   "metadata": {},
   "source": [
    "Везде маловато, особенно в регионе 1."
   ]
  },
  {
   "cell_type": "markdown",
   "metadata": {},
   "source": [
    "## Расчёт прибыли и рисков "
   ]
  },
  {
   "cell_type": "markdown",
   "metadata": {},
   "source": [
    "Функция расчёта прибыли:"
   ]
  },
  {
   "cell_type": "code",
   "execution_count": 31,
   "metadata": {},
   "outputs": [],
   "source": [
    "def profit(target, predict, cost, count):\n",
    "    predict = pd.Series(predict)\n",
    "    probs_sorted = predict.sort_values(ascending=False)\n",
    "\n",
    "    selected = target[probs_sorted.index][:count] * cost\n",
    "    \n",
    "    return selected.sum() - REGION_BUGET"
   ]
  },
  {
   "cell_type": "markdown",
   "metadata": {},
   "source": [
    "Воспользуемся методом bootstrap и сгенерируем 1000 выборок для нахождения распределения средней прибыли."
   ]
  },
  {
   "cell_type": "code",
   "execution_count": 32,
   "metadata": {},
   "outputs": [],
   "source": [
    "def print_res(region_name, mean, low, high, risk):\n",
    "    print(region_name, '\\n----------------')\n",
    "    print(\"Средняя выручка (200 лучших скважин):\", round(mean, 0))\n",
    "    print(\"95% доверительный интервал:\", round(low,0), '-', round(high,0))\n",
    "    print(\"Риск убытков:\", risk, '%')\n",
    "    print('----------------\\n')"
   ]
  },
  {
   "cell_type": "code",
   "execution_count": 33,
   "metadata": {},
   "outputs": [],
   "source": [
    "\n",
    "\n",
    "predict_0_pd = pd.Series(predict_0, index=target_valid_0.index)\n",
    "predict_1_pd = pd.Series(predict_1, index=target_valid_1.index)\n",
    "predict_2_pd = pd.Series(predict_2, index=target_valid_2.index)\n",
    "\n"
   ]
  },
  {
   "cell_type": "code",
   "execution_count": 34,
   "metadata": {},
   "outputs": [],
   "source": [
    "def bootstrap_def(region_name: str, target: pd.Series, prediction: pd.Series) -> tuple:\n",
    "    \n",
    "    state = np.random.RandomState(12345)\n",
    "\n",
    "    values = []\n",
    "    for i in range(1000):\n",
    "        target_subsample = target.sample(n=500, replace=True, random_state=state)\n",
    "        \n",
    "        \n",
    "        prediction_subsample = prediction[target_subsample.index]\n",
    "    \n",
    "        values.append(profit(target_subsample, prediction_subsample, MEGABARREL_PRICE, 200))\n",
    "\n",
    "    values = pd.Series(values)\n",
    "    ##\n",
    "    mean = values.mean()\n",
    "    low = values.quantile(.025)\n",
    "    high = values.quantile(.975)\n",
    "    risk = st.percentileofscore(values, 0) \n",
    "    \n",
    "    print_res(region_name, mean, low, high, risk)\n",
    "    return mean, low, high, risk\n",
    "\n",
    "    \n",
    "\n"
   ]
  },
  {
   "cell_type": "code",
   "execution_count": 35,
   "metadata": {
    "scrolled": false
   },
   "outputs": [
    {
     "name": "stdout",
     "output_type": "stream",
     "text": [
      "Регион 0 \n",
      "----------------\n",
      "Средняя выручка (200 лучших скважин): 464061755.0\n",
      "95% доверительный интервал: -61230866.0 - 985085375.0\n",
      "Риск убытков: 4.5 %\n",
      "----------------\n",
      "\n",
      "Регион 1 \n",
      "----------------\n",
      "Средняя выручка (200 лучших скважин): 547191186.0\n",
      "95% доверительный интервал: 146462852.0 - 945990393.0\n",
      "Риск убытков: 0.5 %\n",
      "----------------\n",
      "\n",
      "Регион 2 \n",
      "----------------\n",
      "Средняя выручка (200 лучших скважин): 309525250.0\n",
      "95% доверительный интервал: -237174846.0 - 853424964.0\n",
      "Риск убытков: 14.5 %\n",
      "----------------\n",
      "\n"
     ]
    }
   ],
   "source": [
    "mean_oil_0, low_0, high_0, risk_0 = bootstrap_def('Регион 0', target_valid_0, predict_0_pd)\n",
    "mean_oil_1, low_1, high_1, risk_1 = bootstrap_def('Регион 1', target_valid_1, predict_1_pd)\n",
    "mean_oil_2, low_2, high_2, risk_2 = bootstrap_def('Регион 2', target_valid_2, predict_2_pd)"
   ]
  },
  {
   "cell_type": "markdown",
   "metadata": {},
   "source": [
    "Регион 1 единственный удовлетворяет по безопасности - риск убытков в пять раз меньше установленного, как максимального. И расчётная прибыль на нём также максимальна. И всё это не смотря на то, что по средней добыче Регион 1 на последнем месте из рассматриваемых.\n",
    "\n",
    "Вывод: к разработке рекомендован Регион 1"
   ]
  }
 ],
 "metadata": {
  "ExecuteTimeLog": [
   {
    "duration": 379,
    "start_time": "2022-09-04T14:53:53.314Z"
   },
   {
    "duration": 1632,
    "start_time": "2022-09-04T14:53:53.730Z"
   },
   {
    "duration": 410,
    "start_time": "2022-09-04T15:11:51.721Z"
   },
   {
    "duration": 21,
    "start_time": "2022-09-04T15:24:07.360Z"
   },
   {
    "duration": 15,
    "start_time": "2022-09-04T15:24:39.040Z"
   },
   {
    "duration": 385,
    "start_time": "2022-09-04T15:25:46.639Z"
   },
   {
    "duration": 413,
    "start_time": "2022-09-04T15:27:43.263Z"
   },
   {
    "duration": 409,
    "start_time": "2022-09-04T15:28:33.005Z"
   },
   {
    "duration": 402,
    "start_time": "2022-09-04T15:28:51.239Z"
   },
   {
    "duration": 409,
    "start_time": "2022-09-04T15:29:05.601Z"
   },
   {
    "duration": 364,
    "start_time": "2022-09-04T15:29:21.958Z"
   },
   {
    "duration": 32,
    "start_time": "2022-09-04T15:30:21.916Z"
   },
   {
    "duration": 73,
    "start_time": "2022-09-04T15:32:26.185Z"
   },
   {
    "duration": 17,
    "start_time": "2022-09-04T15:47:38.241Z"
   },
   {
    "duration": 18,
    "start_time": "2022-09-04T15:47:44.800Z"
   },
   {
    "duration": 17,
    "start_time": "2022-09-04T15:47:58.785Z"
   },
   {
    "duration": 17,
    "start_time": "2022-09-04T15:48:07.720Z"
   },
   {
    "duration": 56,
    "start_time": "2022-09-04T16:00:47.328Z"
   },
   {
    "duration": 56,
    "start_time": "2022-09-04T16:03:17.654Z"
   },
   {
    "duration": 7,
    "start_time": "2022-09-04T16:03:22.510Z"
   },
   {
    "duration": 142,
    "start_time": "2022-09-04T16:03:30.591Z"
   },
   {
    "duration": 978,
    "start_time": "2022-09-04T18:35:32.386Z"
   },
   {
    "duration": 12,
    "start_time": "2022-09-04T18:35:44.636Z"
   },
   {
    "duration": 9,
    "start_time": "2022-09-04T18:36:09.036Z"
   },
   {
    "duration": 5,
    "start_time": "2022-09-04T18:39:43.217Z"
   },
   {
    "duration": 7,
    "start_time": "2022-09-04T18:46:32.438Z"
   },
   {
    "duration": 620,
    "start_time": "2022-09-04T18:46:45.438Z"
   },
   {
    "duration": 24,
    "start_time": "2022-09-04T18:46:50.734Z"
   },
   {
    "duration": 22,
    "start_time": "2022-09-04T18:46:52.178Z"
   },
   {
    "duration": 36,
    "start_time": "2022-09-04T18:50:47.524Z"
   },
   {
    "duration": 68,
    "start_time": "2022-09-04T18:51:11.444Z"
   },
   {
    "duration": 11,
    "start_time": "2022-09-04T18:51:24.419Z"
   },
   {
    "duration": 15,
    "start_time": "2022-09-04T18:52:02.581Z"
   },
   {
    "duration": 4,
    "start_time": "2022-09-04T18:52:03.340Z"
   },
   {
    "duration": 1027,
    "start_time": "2022-09-04T18:52:11.239Z"
   },
   {
    "duration": 375,
    "start_time": "2022-09-04T18:52:12.268Z"
   },
   {
    "duration": 23,
    "start_time": "2022-09-04T18:52:12.644Z"
   },
   {
    "duration": 49,
    "start_time": "2022-09-04T18:52:12.669Z"
   },
   {
    "duration": 58,
    "start_time": "2022-09-04T18:52:12.720Z"
   },
   {
    "duration": 33,
    "start_time": "2022-09-04T18:52:12.780Z"
   },
   {
    "duration": 16,
    "start_time": "2022-09-04T18:52:12.814Z"
   },
   {
    "duration": 14,
    "start_time": "2022-09-04T18:52:12.831Z"
   },
   {
    "duration": 6,
    "start_time": "2022-09-04T18:52:12.847Z"
   },
   {
    "duration": 9,
    "start_time": "2022-09-04T18:52:12.855Z"
   },
   {
    "duration": 6,
    "start_time": "2022-09-04T18:52:12.866Z"
   },
   {
    "duration": 48,
    "start_time": "2022-09-04T18:52:12.874Z"
   },
   {
    "duration": 22,
    "start_time": "2022-09-04T18:52:12.924Z"
   },
   {
    "duration": 5,
    "start_time": "2022-09-04T18:52:12.947Z"
   },
   {
    "duration": 91,
    "start_time": "2022-09-04T18:59:51.688Z"
   },
   {
    "duration": 20,
    "start_time": "2022-09-04T19:00:00.222Z"
   },
   {
    "duration": 13,
    "start_time": "2022-09-04T19:00:06.814Z"
   },
   {
    "duration": 17,
    "start_time": "2022-09-04T19:00:13.542Z"
   },
   {
    "duration": 4,
    "start_time": "2022-09-04T19:02:04.889Z"
   },
   {
    "duration": 5,
    "start_time": "2022-09-04T19:03:48.666Z"
   },
   {
    "duration": 5,
    "start_time": "2022-09-04T19:03:54.804Z"
   },
   {
    "duration": 5,
    "start_time": "2022-09-04T19:04:27.487Z"
   },
   {
    "duration": 177,
    "start_time": "2022-09-04T19:05:02.066Z"
   },
   {
    "duration": 5,
    "start_time": "2022-09-04T19:05:05.940Z"
   },
   {
    "duration": 3,
    "start_time": "2022-09-04T19:10:38.897Z"
   },
   {
    "duration": 3,
    "start_time": "2022-09-04T19:17:14.376Z"
   },
   {
    "duration": 3,
    "start_time": "2022-09-04T19:19:09.134Z"
   },
   {
    "duration": 1198,
    "start_time": "2022-09-05T09:21:45.156Z"
   },
   {
    "duration": 1066,
    "start_time": "2022-09-05T09:21:46.358Z"
   },
   {
    "duration": 32,
    "start_time": "2022-09-05T09:21:47.427Z"
   },
   {
    "duration": 67,
    "start_time": "2022-09-05T09:21:47.462Z"
   },
   {
    "duration": 102,
    "start_time": "2022-09-05T09:21:47.531Z"
   },
   {
    "duration": 26,
    "start_time": "2022-09-05T09:21:47.635Z"
   },
   {
    "duration": 23,
    "start_time": "2022-09-05T09:21:47.662Z"
   },
   {
    "duration": 46,
    "start_time": "2022-09-05T09:21:47.687Z"
   },
   {
    "duration": 9,
    "start_time": "2022-09-05T09:21:47.734Z"
   },
   {
    "duration": 14,
    "start_time": "2022-09-05T09:21:47.746Z"
   },
   {
    "duration": 14,
    "start_time": "2022-09-05T09:21:47.762Z"
   },
   {
    "duration": 65,
    "start_time": "2022-09-05T09:21:47.778Z"
   },
   {
    "duration": 27,
    "start_time": "2022-09-05T09:21:47.845Z"
   },
   {
    "duration": 6,
    "start_time": "2022-09-05T09:21:47.874Z"
   },
   {
    "duration": 143,
    "start_time": "2022-09-05T09:21:47.882Z"
   },
   {
    "duration": 9,
    "start_time": "2022-09-05T09:21:48.110Z"
   },
   {
    "duration": 9,
    "start_time": "2022-09-05T09:21:48.124Z"
   },
   {
    "duration": 6,
    "start_time": "2022-09-05T09:21:48.135Z"
   },
   {
    "duration": 520,
    "start_time": "2022-09-05T10:57:31.192Z"
   },
   {
    "duration": 469,
    "start_time": "2022-09-05T10:57:58.024Z"
   },
   {
    "duration": 145,
    "start_time": "2022-09-05T11:09:05.750Z"
   },
   {
    "duration": 41,
    "start_time": "2022-09-05T11:09:42.679Z"
   },
   {
    "duration": 55,
    "start_time": "2022-09-05T11:09:57.179Z"
   },
   {
    "duration": 39,
    "start_time": "2022-09-05T11:10:01.237Z"
   },
   {
    "duration": 956,
    "start_time": "2022-09-05T11:11:30.554Z"
   },
   {
    "duration": 133,
    "start_time": "2022-09-05T11:11:50.290Z"
   },
   {
    "duration": 480,
    "start_time": "2022-09-05T11:12:03.778Z"
   },
   {
    "duration": 463,
    "start_time": "2022-09-05T11:12:17.961Z"
   },
   {
    "duration": 26,
    "start_time": "2022-09-05T11:17:03.579Z"
   },
   {
    "duration": 81,
    "start_time": "2022-09-05T11:18:03.376Z"
   },
   {
    "duration": 18,
    "start_time": "2022-09-05T11:19:24.808Z"
   },
   {
    "duration": 26,
    "start_time": "2022-09-05T11:20:37.055Z"
   },
   {
    "duration": 49,
    "start_time": "2022-09-05T11:20:41.879Z"
   },
   {
    "duration": 78,
    "start_time": "2022-09-05T11:21:14.323Z"
   },
   {
    "duration": 43,
    "start_time": "2022-09-05T11:21:46.576Z"
   },
   {
    "duration": 22,
    "start_time": "2022-09-05T11:24:23.173Z"
   },
   {
    "duration": 16,
    "start_time": "2022-09-05T11:24:38.974Z"
   },
   {
    "duration": 155,
    "start_time": "2022-09-05T11:27:17.672Z"
   },
   {
    "duration": 3,
    "start_time": "2022-09-05T11:30:07.910Z"
   },
   {
    "duration": 219,
    "start_time": "2022-09-05T11:30:43.741Z"
   },
   {
    "duration": 206,
    "start_time": "2022-09-05T11:30:58.949Z"
   },
   {
    "duration": 218,
    "start_time": "2022-09-05T11:31:01.388Z"
   },
   {
    "duration": 6,
    "start_time": "2022-09-05T11:38:51.581Z"
   },
   {
    "duration": 1580,
    "start_time": "2022-09-05T11:40:55.594Z"
   },
   {
    "duration": 560,
    "start_time": "2022-09-05T11:40:57.177Z"
   },
   {
    "duration": 172,
    "start_time": "2022-09-05T11:41:01.565Z"
   },
   {
    "duration": 66,
    "start_time": "2022-09-05T11:41:02.203Z"
   },
   {
    "duration": 80,
    "start_time": "2022-09-05T11:41:02.899Z"
   },
   {
    "duration": 19,
    "start_time": "2022-09-05T11:41:09.946Z"
   },
   {
    "duration": 118,
    "start_time": "2022-09-05T11:46:46.221Z"
   },
   {
    "duration": 3,
    "start_time": "2022-09-05T11:46:52.061Z"
   },
   {
    "duration": 1051,
    "start_time": "2022-09-05T11:46:58.405Z"
   },
   {
    "duration": 4,
    "start_time": "2022-09-05T11:47:23.637Z"
   },
   {
    "duration": 1135,
    "start_time": "2022-09-05T11:47:28.559Z"
   },
   {
    "duration": 117,
    "start_time": "2022-09-05T15:23:25.130Z"
   },
   {
    "duration": 134,
    "start_time": "2022-09-05T15:23:50.406Z"
   },
   {
    "duration": 113,
    "start_time": "2022-09-05T15:24:01.654Z"
   },
   {
    "duration": 152,
    "start_time": "2022-09-05T15:40:37.210Z"
   },
   {
    "duration": 56,
    "start_time": "2022-09-05T15:40:53.571Z"
   },
   {
    "duration": 119,
    "start_time": "2022-09-05T15:40:58.961Z"
   },
   {
    "duration": 123,
    "start_time": "2022-09-05T15:41:09.810Z"
   },
   {
    "duration": 9,
    "start_time": "2022-09-05T18:08:16.175Z"
   },
   {
    "duration": 17,
    "start_time": "2022-09-05T18:08:17.511Z"
   },
   {
    "duration": 7,
    "start_time": "2022-09-05T18:08:27.999Z"
   },
   {
    "duration": 10,
    "start_time": "2022-09-05T18:08:43.138Z"
   },
   {
    "duration": 4,
    "start_time": "2022-09-05T18:09:42.494Z"
   },
   {
    "duration": 9,
    "start_time": "2022-09-05T18:09:56.190Z"
   },
   {
    "duration": 3,
    "start_time": "2022-09-05T18:09:58.262Z"
   },
   {
    "duration": 110,
    "start_time": "2022-09-05T18:10:00.199Z"
   },
   {
    "duration": 5,
    "start_time": "2022-09-05T18:10:09.070Z"
   },
   {
    "duration": 9,
    "start_time": "2022-09-05T18:10:09.958Z"
   },
   {
    "duration": 4,
    "start_time": "2022-09-05T18:11:00.254Z"
   },
   {
    "duration": 3,
    "start_time": "2022-09-05T18:14:07.652Z"
   },
   {
    "duration": 3,
    "start_time": "2022-09-05T18:14:24.980Z"
   },
   {
    "duration": 19,
    "start_time": "2022-09-05T18:14:30.604Z"
   },
   {
    "duration": 3,
    "start_time": "2022-09-05T18:14:35.148Z"
   },
   {
    "duration": 4,
    "start_time": "2022-09-05T18:19:29.633Z"
   },
   {
    "duration": 4,
    "start_time": "2022-09-05T18:30:29.594Z"
   },
   {
    "duration": 6,
    "start_time": "2022-09-05T18:34:04.046Z"
   },
   {
    "duration": 97,
    "start_time": "2022-09-05T18:42:54.007Z"
   },
   {
    "duration": 10,
    "start_time": "2022-09-05T18:43:02.271Z"
   },
   {
    "duration": 51,
    "start_time": "2022-09-05T18:45:58.076Z"
   },
   {
    "duration": 8,
    "start_time": "2022-09-05T18:53:19.047Z"
   },
   {
    "duration": 14,
    "start_time": "2022-09-05T18:53:48.732Z"
   },
   {
    "duration": 56,
    "start_time": "2022-09-05T18:54:27.605Z"
   },
   {
    "duration": 8,
    "start_time": "2022-09-05T18:54:29.285Z"
   },
   {
    "duration": 8,
    "start_time": "2022-09-05T18:54:42.565Z"
   },
   {
    "duration": 25,
    "start_time": "2022-09-05T18:56:15.735Z"
   },
   {
    "duration": 5,
    "start_time": "2022-09-05T18:56:41.142Z"
   },
   {
    "duration": 13,
    "start_time": "2022-09-05T18:56:42.539Z"
   },
   {
    "duration": 1336,
    "start_time": "2022-09-05T19:19:08.822Z"
   },
   {
    "duration": 424,
    "start_time": "2022-09-05T19:19:10.160Z"
   },
   {
    "duration": 112,
    "start_time": "2022-09-05T19:19:19.046Z"
   },
   {
    "duration": 45,
    "start_time": "2022-09-05T19:19:21.111Z"
   },
   {
    "duration": 61,
    "start_time": "2022-09-05T19:19:23.398Z"
   },
   {
    "duration": 16,
    "start_time": "2022-09-05T19:19:25.150Z"
   },
   {
    "duration": 99,
    "start_time": "2022-09-05T19:19:31.247Z"
   },
   {
    "duration": 946,
    "start_time": "2022-09-05T19:19:40.679Z"
   },
   {
    "duration": 4,
    "start_time": "2022-09-05T19:19:54.310Z"
   },
   {
    "duration": 103,
    "start_time": "2022-09-05T19:19:56.470Z"
   },
   {
    "duration": 10,
    "start_time": "2022-09-05T19:24:02.157Z"
   },
   {
    "duration": 14,
    "start_time": "2022-09-05T19:24:35.894Z"
   },
   {
    "duration": 49,
    "start_time": "2022-09-05T19:25:18.325Z"
   },
   {
    "duration": 15,
    "start_time": "2022-09-05T19:25:22.678Z"
   },
   {
    "duration": 5,
    "start_time": "2022-09-05T19:25:47.398Z"
   },
   {
    "duration": 13,
    "start_time": "2022-09-05T19:25:48.221Z"
   },
   {
    "duration": 8,
    "start_time": "2022-09-05T19:26:01.621Z"
   },
   {
    "duration": 3,
    "start_time": "2022-09-05T19:26:34.213Z"
   },
   {
    "duration": 4,
    "start_time": "2022-09-05T19:27:20.604Z"
   },
   {
    "duration": 11,
    "start_time": "2022-09-05T19:27:29.909Z"
   },
   {
    "duration": 5,
    "start_time": "2022-09-05T19:27:38.708Z"
   },
   {
    "duration": 12,
    "start_time": "2022-09-05T19:27:40.620Z"
   },
   {
    "duration": 4,
    "start_time": "2022-09-05T19:32:30.339Z"
   },
   {
    "duration": 3,
    "start_time": "2022-09-05T19:32:30.946Z"
   },
   {
    "duration": 12,
    "start_time": "2022-09-05T19:32:31.409Z"
   },
   {
    "duration": 4,
    "start_time": "2022-09-05T19:32:59.603Z"
   },
   {
    "duration": 10,
    "start_time": "2022-09-05T19:33:57.482Z"
   },
   {
    "duration": 16,
    "start_time": "2022-09-05T19:33:58.314Z"
   },
   {
    "duration": 45,
    "start_time": "2022-09-05T19:34:37.954Z"
   },
   {
    "duration": 1333,
    "start_time": "2022-09-05T19:35:13.886Z"
   },
   {
    "duration": 448,
    "start_time": "2022-09-05T19:35:15.221Z"
   },
   {
    "duration": 129,
    "start_time": "2022-09-05T19:35:19.601Z"
   },
   {
    "duration": 47,
    "start_time": "2022-09-05T19:35:20.144Z"
   },
   {
    "duration": 72,
    "start_time": "2022-09-05T19:35:20.649Z"
   },
   {
    "duration": 18,
    "start_time": "2022-09-05T19:35:22.017Z"
   },
   {
    "duration": 106,
    "start_time": "2022-09-05T19:35:25.417Z"
   },
   {
    "duration": 937,
    "start_time": "2022-09-05T19:35:28.753Z"
   },
   {
    "duration": 4,
    "start_time": "2022-09-05T19:35:38.478Z"
   },
   {
    "duration": 10,
    "start_time": "2022-09-05T19:35:42.441Z"
   },
   {
    "duration": 51,
    "start_time": "2022-09-05T19:35:44.537Z"
   },
   {
    "duration": 11,
    "start_time": "2022-09-05T19:36:11.761Z"
   },
   {
    "duration": 9,
    "start_time": "2022-09-05T19:36:44.353Z"
   },
   {
    "duration": 10,
    "start_time": "2022-09-05T19:36:57.057Z"
   },
   {
    "duration": 10,
    "start_time": "2022-09-05T19:37:09.664Z"
   },
   {
    "duration": 8,
    "start_time": "2022-09-05T19:38:30.343Z"
   },
   {
    "duration": 44,
    "start_time": "2022-09-05T19:38:31.553Z"
   },
   {
    "duration": 12,
    "start_time": "2022-09-05T19:38:34.216Z"
   },
   {
    "duration": 11,
    "start_time": "2022-09-05T19:38:36.888Z"
   },
   {
    "duration": 9,
    "start_time": "2022-09-05T19:38:38.729Z"
   },
   {
    "duration": 1375,
    "start_time": "2022-09-05T19:39:51.697Z"
   },
   {
    "duration": 447,
    "start_time": "2022-09-05T19:39:53.663Z"
   },
   {
    "duration": 123,
    "start_time": "2022-09-05T19:39:57.542Z"
   },
   {
    "duration": 51,
    "start_time": "2022-09-05T19:39:58.809Z"
   },
   {
    "duration": 60,
    "start_time": "2022-09-05T19:39:59.376Z"
   },
   {
    "duration": 18,
    "start_time": "2022-09-05T19:40:01.416Z"
   },
   {
    "duration": 106,
    "start_time": "2022-09-05T19:40:07.074Z"
   },
   {
    "duration": 988,
    "start_time": "2022-09-05T19:40:09.984Z"
   },
   {
    "duration": 8,
    "start_time": "2022-09-05T19:40:12.944Z"
   },
   {
    "duration": 1408,
    "start_time": "2022-09-05T19:41:10.717Z"
   },
   {
    "duration": 449,
    "start_time": "2022-09-05T19:41:12.127Z"
   },
   {
    "duration": 125,
    "start_time": "2022-09-05T19:41:16.445Z"
   },
   {
    "duration": 51,
    "start_time": "2022-09-05T19:41:17.553Z"
   },
   {
    "duration": 59,
    "start_time": "2022-09-05T19:41:19.287Z"
   },
   {
    "duration": 16,
    "start_time": "2022-09-05T19:41:20.495Z"
   },
   {
    "duration": 94,
    "start_time": "2022-09-05T19:41:21.437Z"
   },
   {
    "duration": 955,
    "start_time": "2022-09-05T19:41:23.768Z"
   },
   {
    "duration": 3,
    "start_time": "2022-09-05T19:41:28.783Z"
   },
   {
    "duration": 4,
    "start_time": "2022-09-05T19:41:31.937Z"
   },
   {
    "duration": 51,
    "start_time": "2022-09-05T19:41:46.287Z"
   },
   {
    "duration": 3,
    "start_time": "2022-09-05T19:41:51.246Z"
   },
   {
    "duration": 4,
    "start_time": "2022-09-05T19:41:54.529Z"
   },
   {
    "duration": 4,
    "start_time": "2022-09-05T19:41:55.846Z"
   },
   {
    "duration": 4,
    "start_time": "2022-09-05T19:42:19.446Z"
   },
   {
    "duration": 43,
    "start_time": "2022-09-05T19:42:21.671Z"
   },
   {
    "duration": 4,
    "start_time": "2022-09-05T19:42:40.929Z"
   },
   {
    "duration": 42,
    "start_time": "2022-09-05T19:42:42.063Z"
   },
   {
    "duration": 3,
    "start_time": "2022-09-05T19:43:03.879Z"
   },
   {
    "duration": 46,
    "start_time": "2022-09-05T19:43:10.861Z"
   },
   {
    "duration": 3,
    "start_time": "2022-09-05T19:43:13.846Z"
   },
   {
    "duration": 99,
    "start_time": "2022-09-05T19:44:35.277Z"
   },
   {
    "duration": 4,
    "start_time": "2022-09-05T19:44:38.943Z"
   },
   {
    "duration": 46,
    "start_time": "2022-09-05T19:44:40.019Z"
   },
   {
    "duration": 4,
    "start_time": "2022-09-05T19:44:43.053Z"
   },
   {
    "duration": 3,
    "start_time": "2022-09-05T19:44:44.678Z"
   },
   {
    "duration": 4,
    "start_time": "2022-09-05T19:44:46.530Z"
   },
   {
    "duration": 4,
    "start_time": "2022-09-05T19:45:02.540Z"
   },
   {
    "duration": 45,
    "start_time": "2022-09-05T19:45:03.797Z"
   },
   {
    "duration": 4,
    "start_time": "2022-09-05T19:45:05.434Z"
   },
   {
    "duration": 12,
    "start_time": "2022-09-05T19:45:58.396Z"
   },
   {
    "duration": 15,
    "start_time": "2022-09-05T19:57:37.961Z"
   },
   {
    "duration": 8,
    "start_time": "2022-09-05T19:58:02.633Z"
   },
   {
    "duration": 1355,
    "start_time": "2022-09-05T20:01:54.828Z"
   },
   {
    "duration": 438,
    "start_time": "2022-09-05T20:01:56.185Z"
   },
   {
    "duration": 119,
    "start_time": "2022-09-05T20:01:59.467Z"
   },
   {
    "duration": 57,
    "start_time": "2022-09-05T20:02:00.547Z"
   },
   {
    "duration": 73,
    "start_time": "2022-09-05T20:02:01.531Z"
   },
   {
    "duration": 17,
    "start_time": "2022-09-05T20:02:03.147Z"
   },
   {
    "duration": 97,
    "start_time": "2022-09-05T20:02:04.163Z"
   },
   {
    "duration": 1147,
    "start_time": "2022-09-05T20:02:06.356Z"
   },
   {
    "duration": 20,
    "start_time": "2022-09-05T20:02:14.643Z"
   },
   {
    "duration": 15,
    "start_time": "2022-09-05T20:02:16.011Z"
   },
   {
    "duration": 15,
    "start_time": "2022-09-05T20:05:03.030Z"
   },
   {
    "duration": 16,
    "start_time": "2022-09-05T20:05:05.732Z"
   },
   {
    "duration": 9,
    "start_time": "2022-09-05T20:05:24.098Z"
   },
   {
    "duration": 14,
    "start_time": "2022-09-05T20:06:19.323Z"
   },
   {
    "duration": 15,
    "start_time": "2022-09-05T20:07:00.043Z"
   },
   {
    "duration": 12,
    "start_time": "2022-09-05T20:07:03.426Z"
   },
   {
    "duration": 12,
    "start_time": "2022-09-05T20:08:23.130Z"
   },
   {
    "duration": 13,
    "start_time": "2022-09-05T20:08:35.738Z"
   },
   {
    "duration": 11,
    "start_time": "2022-09-05T20:08:42.922Z"
   },
   {
    "duration": 13,
    "start_time": "2022-09-05T20:10:25.064Z"
   },
   {
    "duration": 15,
    "start_time": "2022-09-05T20:11:27.007Z"
   },
   {
    "duration": 12,
    "start_time": "2022-09-05T20:12:37.928Z"
   },
   {
    "duration": 14,
    "start_time": "2022-09-05T20:14:07.990Z"
   },
   {
    "duration": 9,
    "start_time": "2022-09-05T20:14:35.430Z"
   },
   {
    "duration": 12,
    "start_time": "2022-09-05T20:16:02.319Z"
   },
   {
    "duration": 13,
    "start_time": "2022-09-05T20:16:23.918Z"
   },
   {
    "duration": 15,
    "start_time": "2022-09-05T20:16:32.903Z"
   },
   {
    "duration": 13,
    "start_time": "2022-09-05T20:16:39.343Z"
   },
   {
    "duration": 13,
    "start_time": "2022-09-05T20:16:44.335Z"
   },
   {
    "duration": 9,
    "start_time": "2022-09-05T20:16:46.750Z"
   },
   {
    "duration": 101,
    "start_time": "2022-09-05T20:22:15.483Z"
   },
   {
    "duration": 2,
    "start_time": "2022-09-05T20:22:21.804Z"
   },
   {
    "duration": 539,
    "start_time": "2022-09-05T20:22:23.044Z"
   },
   {
    "duration": 607,
    "start_time": "2022-09-05T20:22:44.133Z"
   },
   {
    "duration": 553,
    "start_time": "2022-09-05T20:25:10.756Z"
   },
   {
    "duration": 567,
    "start_time": "2022-09-05T20:25:26.188Z"
   },
   {
    "duration": 189,
    "start_time": "2022-09-05T20:26:06.364Z"
   },
   {
    "duration": 179,
    "start_time": "2022-09-05T20:26:20.395Z"
   },
   {
    "duration": 291,
    "start_time": "2022-09-05T20:26:22.555Z"
   },
   {
    "duration": 4,
    "start_time": "2022-09-05T20:27:14.034Z"
   },
   {
    "duration": 1778,
    "start_time": "2022-09-06T06:24:06.846Z"
   },
   {
    "duration": 1186,
    "start_time": "2022-09-06T06:24:08.626Z"
   },
   {
    "duration": 146,
    "start_time": "2022-09-06T06:24:09.816Z"
   },
   {
    "duration": 76,
    "start_time": "2022-09-06T06:24:09.965Z"
   },
   {
    "duration": 87,
    "start_time": "2022-09-06T06:24:10.043Z"
   },
   {
    "duration": 20,
    "start_time": "2022-09-06T06:24:10.132Z"
   },
   {
    "duration": 139,
    "start_time": "2022-09-06T06:24:10.154Z"
   },
   {
    "duration": 1236,
    "start_time": "2022-09-06T06:24:10.304Z"
   },
   {
    "duration": 18,
    "start_time": "2022-09-06T06:24:11.542Z"
   },
   {
    "duration": 15,
    "start_time": "2022-09-06T06:24:11.563Z"
   },
   {
    "duration": 23,
    "start_time": "2022-09-06T06:24:11.603Z"
   },
   {
    "duration": 16,
    "start_time": "2022-09-06T06:24:11.628Z"
   },
   {
    "duration": 14,
    "start_time": "2022-09-06T06:24:11.646Z"
   },
   {
    "duration": 51,
    "start_time": "2022-09-06T06:24:11.662Z"
   },
   {
    "duration": 19,
    "start_time": "2022-09-06T06:24:11.720Z"
   },
   {
    "duration": 14,
    "start_time": "2022-09-06T06:24:11.741Z"
   },
   {
    "duration": 10,
    "start_time": "2022-09-06T06:24:11.757Z"
   },
   {
    "duration": 3,
    "start_time": "2022-09-06T06:24:11.769Z"
   },
   {
    "duration": 32,
    "start_time": "2022-09-06T06:24:11.774Z"
   },
   {
    "duration": 243,
    "start_time": "2022-09-06T06:24:11.808Z"
   },
   {
    "duration": 251,
    "start_time": "2022-09-06T06:24:12.053Z"
   },
   {
    "duration": 229,
    "start_time": "2022-09-06T06:24:12.313Z"
   },
   {
    "duration": 5,
    "start_time": "2022-09-06T06:24:12.544Z"
   },
   {
    "duration": 133,
    "start_time": "2022-09-06T06:24:12.550Z"
   },
   {
    "duration": 0,
    "start_time": "2022-09-06T06:24:12.685Z"
   },
   {
    "duration": 0,
    "start_time": "2022-09-06T06:24:12.686Z"
   },
   {
    "duration": 0,
    "start_time": "2022-09-06T06:24:12.688Z"
   },
   {
    "duration": 0,
    "start_time": "2022-09-06T06:24:12.690Z"
   },
   {
    "duration": 1,
    "start_time": "2022-09-06T06:24:12.702Z"
   },
   {
    "duration": 0,
    "start_time": "2022-09-06T06:24:12.704Z"
   },
   {
    "duration": 0,
    "start_time": "2022-09-06T06:24:12.710Z"
   },
   {
    "duration": 6,
    "start_time": "2022-09-06T06:26:27.755Z"
   },
   {
    "duration": 6,
    "start_time": "2022-09-06T08:02:05.974Z"
   },
   {
    "duration": 3,
    "start_time": "2022-09-06T08:02:07.567Z"
   },
   {
    "duration": 57,
    "start_time": "2022-09-06T08:06:51.234Z"
   },
   {
    "duration": 34,
    "start_time": "2022-09-06T08:06:59.835Z"
   },
   {
    "duration": 11,
    "start_time": "2022-09-06T08:07:47.979Z"
   },
   {
    "duration": 5,
    "start_time": "2022-09-06T08:08:05.099Z"
   },
   {
    "duration": 31,
    "start_time": "2022-09-06T08:08:06.843Z"
   },
   {
    "duration": 4,
    "start_time": "2022-09-06T08:08:42.251Z"
   },
   {
    "duration": 4,
    "start_time": "2022-09-06T08:09:05.362Z"
   },
   {
    "duration": 63,
    "start_time": "2022-09-06T08:09:07.586Z"
   },
   {
    "duration": 4,
    "start_time": "2022-09-06T08:10:09.170Z"
   },
   {
    "duration": 48,
    "start_time": "2022-09-06T08:10:09.834Z"
   },
   {
    "duration": 47,
    "start_time": "2022-09-06T08:10:34.934Z"
   },
   {
    "duration": 64,
    "start_time": "2022-09-06T08:14:21.976Z"
   },
   {
    "duration": 15,
    "start_time": "2022-09-06T08:16:56.368Z"
   },
   {
    "duration": 1514,
    "start_time": "2022-09-07T11:22:11.395Z"
   },
   {
    "duration": 805,
    "start_time": "2022-09-07T11:22:12.911Z"
   },
   {
    "duration": 119,
    "start_time": "2022-09-07T11:22:13.718Z"
   },
   {
    "duration": 60,
    "start_time": "2022-09-07T11:22:13.839Z"
   },
   {
    "duration": 62,
    "start_time": "2022-09-07T11:22:13.901Z"
   },
   {
    "duration": 28,
    "start_time": "2022-09-07T11:22:13.965Z"
   },
   {
    "duration": 119,
    "start_time": "2022-09-07T11:22:13.995Z"
   },
   {
    "duration": 963,
    "start_time": "2022-09-07T11:22:14.115Z"
   },
   {
    "duration": 18,
    "start_time": "2022-09-07T11:22:15.080Z"
   },
   {
    "duration": 9,
    "start_time": "2022-09-07T11:22:15.099Z"
   },
   {
    "duration": 13,
    "start_time": "2022-09-07T11:22:15.110Z"
   },
   {
    "duration": 12,
    "start_time": "2022-09-07T11:22:15.125Z"
   },
   {
    "duration": 14,
    "start_time": "2022-09-07T11:22:15.138Z"
   },
   {
    "duration": 46,
    "start_time": "2022-09-07T11:22:15.155Z"
   },
   {
    "duration": 15,
    "start_time": "2022-09-07T11:22:15.202Z"
   },
   {
    "duration": 12,
    "start_time": "2022-09-07T11:22:15.219Z"
   },
   {
    "duration": 8,
    "start_time": "2022-09-07T11:22:15.233Z"
   },
   {
    "duration": 4,
    "start_time": "2022-09-07T11:22:15.243Z"
   },
   {
    "duration": 38,
    "start_time": "2022-09-07T11:22:15.249Z"
   },
   {
    "duration": 204,
    "start_time": "2022-09-07T11:22:15.289Z"
   },
   {
    "duration": 187,
    "start_time": "2022-09-07T11:22:15.495Z"
   },
   {
    "duration": 4,
    "start_time": "2022-09-07T11:22:15.687Z"
   },
   {
    "duration": 201,
    "start_time": "2022-09-07T11:22:15.693Z"
   },
   {
    "duration": 6,
    "start_time": "2022-09-07T11:22:15.896Z"
   },
   {
    "duration": 12,
    "start_time": "2022-09-07T11:22:15.903Z"
   },
   {
    "duration": 65,
    "start_time": "2022-09-07T11:22:15.917Z"
   },
   {
    "duration": 3,
    "start_time": "2022-09-07T11:22:15.984Z"
   },
   {
    "duration": 5,
    "start_time": "2022-09-07T11:22:15.989Z"
   },
   {
    "duration": 9,
    "start_time": "2022-09-07T11:22:15.996Z"
   },
   {
    "duration": 150,
    "start_time": "2022-09-07T11:22:16.007Z"
   },
   {
    "duration": 4,
    "start_time": "2022-09-07T13:00:53.153Z"
   },
   {
    "duration": 53,
    "start_time": "2022-09-07T13:00:55.568Z"
   },
   {
    "duration": 5,
    "start_time": "2022-09-07T13:01:06.999Z"
   },
   {
    "duration": 2,
    "start_time": "2022-09-07T13:01:08.112Z"
   },
   {
    "duration": 29,
    "start_time": "2022-09-07T13:01:08.519Z"
   },
   {
    "duration": 93,
    "start_time": "2022-09-07T13:01:13.608Z"
   },
   {
    "duration": 5,
    "start_time": "2022-09-07T13:01:19.224Z"
   },
   {
    "duration": 31,
    "start_time": "2022-09-07T13:01:21.479Z"
   },
   {
    "duration": 11,
    "start_time": "2022-09-07T13:02:39.203Z"
   },
   {
    "duration": 7,
    "start_time": "2022-09-07T13:02:52.368Z"
   },
   {
    "duration": 50,
    "start_time": "2022-09-07T13:02:54.056Z"
   },
   {
    "duration": 4,
    "start_time": "2022-09-07T13:29:14.575Z"
   },
   {
    "duration": 43,
    "start_time": "2022-09-07T13:29:15.942Z"
   },
   {
    "duration": 9,
    "start_time": "2022-09-07T13:38:22.857Z"
   },
   {
    "duration": 3,
    "start_time": "2022-09-07T13:38:27.529Z"
   },
   {
    "duration": 8,
    "start_time": "2022-09-07T13:38:37.401Z"
   },
   {
    "duration": 4,
    "start_time": "2022-09-07T13:39:53.943Z"
   },
   {
    "duration": 28,
    "start_time": "2022-09-07T13:41:31.063Z"
   },
   {
    "duration": 4,
    "start_time": "2022-09-07T14:29:32.682Z"
   },
   {
    "duration": 10,
    "start_time": "2022-09-07T14:30:37.249Z"
   },
   {
    "duration": 3,
    "start_time": "2022-09-07T14:30:55.347Z"
   },
   {
    "duration": 70,
    "start_time": "2022-09-07T14:30:56.650Z"
   },
   {
    "duration": 44,
    "start_time": "2022-09-07T14:31:06.521Z"
   },
   {
    "duration": 4,
    "start_time": "2022-09-07T14:31:14.177Z"
   },
   {
    "duration": 231,
    "start_time": "2022-09-07T14:31:16.264Z"
   },
   {
    "duration": 5,
    "start_time": "2022-09-07T14:31:52.367Z"
   },
   {
    "duration": 260,
    "start_time": "2022-09-07T14:31:53.328Z"
   },
   {
    "duration": 93,
    "start_time": "2022-09-07T14:32:02.440Z"
   },
   {
    "duration": 217,
    "start_time": "2022-09-07T14:32:02.977Z"
   },
   {
    "duration": 5,
    "start_time": "2022-09-07T14:32:23.775Z"
   },
   {
    "duration": 308,
    "start_time": "2022-09-07T14:32:24.383Z"
   },
   {
    "duration": 4,
    "start_time": "2022-09-07T14:47:29.647Z"
   },
   {
    "duration": 236,
    "start_time": "2022-09-07T14:47:30.759Z"
   },
   {
    "duration": 4,
    "start_time": "2022-09-07T14:51:49.823Z"
   },
   {
    "duration": 3,
    "start_time": "2022-09-07T14:55:45.349Z"
   },
   {
    "duration": 4,
    "start_time": "2022-09-07T14:57:20.476Z"
   },
   {
    "duration": 306,
    "start_time": "2022-09-07T14:57:21.588Z"
   },
   {
    "duration": 258,
    "start_time": "2022-09-07T15:03:03.737Z"
   },
   {
    "duration": 3,
    "start_time": "2022-09-07T15:07:00.847Z"
   },
   {
    "duration": 3,
    "start_time": "2022-09-07T15:25:43.822Z"
   },
   {
    "duration": 5,
    "start_time": "2022-09-07T15:30:29.362Z"
   },
   {
    "duration": 3,
    "start_time": "2022-09-07T15:35:36.880Z"
   },
   {
    "duration": 4,
    "start_time": "2022-09-07T15:35:54.535Z"
   },
   {
    "duration": 17,
    "start_time": "2022-09-07T15:38:57.598Z"
   },
   {
    "duration": 11,
    "start_time": "2022-09-07T15:40:11.975Z"
   },
   {
    "duration": 13,
    "start_time": "2022-09-07T15:40:43.253Z"
   },
   {
    "duration": 3,
    "start_time": "2022-09-07T15:44:15.611Z"
   },
   {
    "duration": 3,
    "start_time": "2022-09-07T15:44:16.788Z"
   },
   {
    "duration": 5,
    "start_time": "2022-09-07T15:44:17.802Z"
   },
   {
    "duration": 14,
    "start_time": "2022-09-07T15:44:18.627Z"
   },
   {
    "duration": 4,
    "start_time": "2022-09-07T15:45:57.162Z"
   },
   {
    "duration": 13,
    "start_time": "2022-09-07T15:45:58.819Z"
   },
   {
    "duration": 3,
    "start_time": "2022-09-07T15:47:50.497Z"
   },
   {
    "duration": 277,
    "start_time": "2022-09-07T15:47:51.674Z"
   },
   {
    "duration": 4,
    "start_time": "2022-09-07T15:52:18.710Z"
   },
   {
    "duration": 281,
    "start_time": "2022-09-07T15:52:19.471Z"
   },
   {
    "duration": 5,
    "start_time": "2022-09-07T15:53:04.694Z"
   },
   {
    "duration": 447,
    "start_time": "2022-09-07T15:53:05.647Z"
   },
   {
    "duration": 3,
    "start_time": "2022-09-07T15:53:57.734Z"
   },
   {
    "duration": 14,
    "start_time": "2022-09-07T15:53:58.975Z"
   },
   {
    "duration": 11,
    "start_time": "2022-09-07T18:10:02.126Z"
   },
   {
    "duration": 11,
    "start_time": "2022-09-07T18:10:15.990Z"
   },
   {
    "duration": 2,
    "start_time": "2022-09-07T18:11:03.582Z"
   },
   {
    "duration": 4,
    "start_time": "2022-09-07T18:11:11.942Z"
   },
   {
    "duration": 21,
    "start_time": "2022-09-07T18:11:14.709Z"
   },
   {
    "duration": 3,
    "start_time": "2022-09-07T18:11:41.573Z"
   },
   {
    "duration": 11,
    "start_time": "2022-09-07T18:11:50.421Z"
   },
   {
    "duration": 6,
    "start_time": "2022-09-07T18:12:00.878Z"
   },
   {
    "duration": 25,
    "start_time": "2022-09-07T18:12:02.302Z"
   },
   {
    "duration": 4,
    "start_time": "2022-09-07T18:12:38.165Z"
   },
   {
    "duration": 18,
    "start_time": "2022-09-07T18:12:40.549Z"
   },
   {
    "duration": 9,
    "start_time": "2022-09-07T18:13:48.076Z"
   },
   {
    "duration": 7,
    "start_time": "2022-09-07T18:14:12.555Z"
   },
   {
    "duration": 6,
    "start_time": "2022-09-07T18:15:26.363Z"
   },
   {
    "duration": 3,
    "start_time": "2022-09-07T18:15:47.795Z"
   },
   {
    "duration": 5,
    "start_time": "2022-09-07T18:15:48.811Z"
   },
   {
    "duration": 18,
    "start_time": "2022-09-07T18:15:49.347Z"
   },
   {
    "duration": 6,
    "start_time": "2022-09-07T18:16:56.546Z"
   },
   {
    "duration": 6,
    "start_time": "2022-09-07T18:17:25.688Z"
   },
   {
    "duration": 14,
    "start_time": "2022-09-07T18:17:26.994Z"
   },
   {
    "duration": 9,
    "start_time": "2022-09-07T18:18:31.010Z"
   },
   {
    "duration": 6,
    "start_time": "2022-09-07T18:26:40.820Z"
   },
   {
    "duration": 19,
    "start_time": "2022-09-07T18:26:42.476Z"
   },
   {
    "duration": 7,
    "start_time": "2022-09-07T18:27:29.347Z"
   },
   {
    "duration": 20,
    "start_time": "2022-09-07T18:27:30.108Z"
   },
   {
    "duration": 6,
    "start_time": "2022-09-07T18:27:47.051Z"
   },
   {
    "duration": 16,
    "start_time": "2022-09-07T18:27:49.115Z"
   },
   {
    "duration": 5,
    "start_time": "2022-09-07T18:29:24.769Z"
   },
   {
    "duration": 19,
    "start_time": "2022-09-07T18:29:25.658Z"
   },
   {
    "duration": 5,
    "start_time": "2022-09-07T18:30:37.033Z"
   },
   {
    "duration": 15,
    "start_time": "2022-09-07T18:30:37.961Z"
   },
   {
    "duration": 94,
    "start_time": "2022-09-07T18:31:59.249Z"
   },
   {
    "duration": 338,
    "start_time": "2022-09-07T18:32:05.792Z"
   },
   {
    "duration": 48,
    "start_time": "2022-09-07T18:32:12.416Z"
   },
   {
    "duration": 4,
    "start_time": "2022-09-07T18:32:51.368Z"
   },
   {
    "duration": 5,
    "start_time": "2022-09-07T18:49:04.239Z"
   },
   {
    "duration": 20,
    "start_time": "2022-09-07T18:49:06.052Z"
   },
   {
    "duration": 5,
    "start_time": "2022-09-07T18:51:06.334Z"
   },
   {
    "duration": 16,
    "start_time": "2022-09-07T18:51:07.318Z"
   },
   {
    "duration": 5,
    "start_time": "2022-09-07T18:53:39.292Z"
   },
   {
    "duration": 14,
    "start_time": "2022-09-07T18:53:40.630Z"
   },
   {
    "duration": 5,
    "start_time": "2022-09-07T18:55:02.883Z"
   },
   {
    "duration": 15,
    "start_time": "2022-09-07T18:55:03.388Z"
   },
   {
    "duration": 5,
    "start_time": "2022-09-07T18:55:48.395Z"
   },
   {
    "duration": 15,
    "start_time": "2022-09-07T18:55:48.995Z"
   },
   {
    "duration": 4,
    "start_time": "2022-09-07T18:56:04.586Z"
   },
   {
    "duration": 5,
    "start_time": "2022-09-07T18:56:08.907Z"
   },
   {
    "duration": 17,
    "start_time": "2022-09-07T18:56:10.683Z"
   },
   {
    "duration": 4,
    "start_time": "2022-09-07T19:00:50.448Z"
   },
   {
    "duration": 3,
    "start_time": "2022-09-07T19:01:32.217Z"
   },
   {
    "duration": 5,
    "start_time": "2022-09-07T19:01:45.698Z"
   },
   {
    "duration": 24,
    "start_time": "2022-09-07T19:01:46.227Z"
   },
   {
    "duration": 4,
    "start_time": "2022-09-07T19:04:05.030Z"
   },
   {
    "duration": 5,
    "start_time": "2022-09-07T19:04:08.519Z"
   },
   {
    "duration": 35,
    "start_time": "2022-09-07T19:04:09.575Z"
   },
   {
    "duration": 11,
    "start_time": "2022-09-07T19:12:53.537Z"
   },
   {
    "duration": 11,
    "start_time": "2022-09-07T19:13:00.209Z"
   },
   {
    "duration": 4,
    "start_time": "2022-09-07T19:13:17.289Z"
   },
   {
    "duration": 8,
    "start_time": "2022-09-07T19:13:34.825Z"
   },
   {
    "duration": 5,
    "start_time": "2022-09-07T19:13:47.338Z"
   },
   {
    "duration": 8,
    "start_time": "2022-09-07T19:14:19.825Z"
   },
   {
    "duration": 2,
    "start_time": "2022-09-07T19:14:29.265Z"
   },
   {
    "duration": 2,
    "start_time": "2022-09-07T19:14:59.521Z"
   },
   {
    "duration": 3,
    "start_time": "2022-09-07T19:15:07.840Z"
   },
   {
    "duration": 4,
    "start_time": "2022-09-07T19:15:50.391Z"
   },
   {
    "duration": 10,
    "start_time": "2022-09-07T19:29:34.072Z"
   },
   {
    "duration": 7,
    "start_time": "2022-09-07T19:29:50.839Z"
   },
   {
    "duration": 5,
    "start_time": "2022-09-07T19:30:05.778Z"
   },
   {
    "duration": 5,
    "start_time": "2022-09-07T19:31:01.159Z"
   },
   {
    "duration": 2,
    "start_time": "2022-09-07T19:32:15.400Z"
   },
   {
    "duration": 6,
    "start_time": "2022-09-07T19:32:25.813Z"
   },
   {
    "duration": 6,
    "start_time": "2022-09-07T19:34:01.180Z"
   },
   {
    "duration": 5,
    "start_time": "2022-09-07T19:34:01.980Z"
   },
   {
    "duration": 11,
    "start_time": "2022-09-07T19:36:10.788Z"
   },
   {
    "duration": 9,
    "start_time": "2022-09-07T19:36:24.827Z"
   },
   {
    "duration": 1429,
    "start_time": "2022-09-07T19:37:00.480Z"
   },
   {
    "duration": 436,
    "start_time": "2022-09-07T19:37:01.911Z"
   },
   {
    "duration": 143,
    "start_time": "2022-09-07T19:37:02.349Z"
   },
   {
    "duration": 52,
    "start_time": "2022-09-07T19:37:02.494Z"
   },
   {
    "duration": 105,
    "start_time": "2022-09-07T19:37:02.549Z"
   },
   {
    "duration": 15,
    "start_time": "2022-09-07T19:37:02.655Z"
   },
   {
    "duration": 128,
    "start_time": "2022-09-07T19:37:02.672Z"
   },
   {
    "duration": 971,
    "start_time": "2022-09-07T19:37:02.801Z"
   },
   {
    "duration": 22,
    "start_time": "2022-09-07T19:37:03.774Z"
   },
   {
    "duration": 11,
    "start_time": "2022-09-07T19:37:03.799Z"
   },
   {
    "duration": 16,
    "start_time": "2022-09-07T19:37:03.812Z"
   },
   {
    "duration": 16,
    "start_time": "2022-09-07T19:37:03.830Z"
   },
   {
    "duration": 43,
    "start_time": "2022-09-07T19:37:03.848Z"
   },
   {
    "duration": 18,
    "start_time": "2022-09-07T19:37:03.892Z"
   },
   {
    "duration": 16,
    "start_time": "2022-09-07T19:37:03.912Z"
   },
   {
    "duration": 14,
    "start_time": "2022-09-07T19:37:03.930Z"
   },
   {
    "duration": 43,
    "start_time": "2022-09-07T19:37:03.946Z"
   },
   {
    "duration": 3,
    "start_time": "2022-09-07T19:37:03.991Z"
   },
   {
    "duration": 15,
    "start_time": "2022-09-07T19:37:03.995Z"
   },
   {
    "duration": 214,
    "start_time": "2022-09-07T19:37:04.012Z"
   },
   {
    "duration": 193,
    "start_time": "2022-09-07T19:37:04.228Z"
   },
   {
    "duration": 5,
    "start_time": "2022-09-07T19:37:04.422Z"
   },
   {
    "duration": 203,
    "start_time": "2022-09-07T19:37:04.428Z"
   },
   {
    "duration": 5,
    "start_time": "2022-09-07T19:37:04.633Z"
   },
   {
    "duration": 11,
    "start_time": "2022-09-07T19:37:04.639Z"
   },
   {
    "duration": 120,
    "start_time": "2022-09-07T19:37:04.652Z"
   },
   {
    "duration": 0,
    "start_time": "2022-09-07T19:37:04.774Z"
   },
   {
    "duration": 0,
    "start_time": "2022-09-07T19:37:04.775Z"
   },
   {
    "duration": 0,
    "start_time": "2022-09-07T19:37:04.776Z"
   },
   {
    "duration": 0,
    "start_time": "2022-09-07T19:37:04.787Z"
   },
   {
    "duration": 0,
    "start_time": "2022-09-07T19:37:04.787Z"
   },
   {
    "duration": 0,
    "start_time": "2022-09-07T19:37:04.788Z"
   },
   {
    "duration": 0,
    "start_time": "2022-09-07T19:37:04.790Z"
   },
   {
    "duration": 0,
    "start_time": "2022-09-07T19:37:04.790Z"
   },
   {
    "duration": 0,
    "start_time": "2022-09-07T19:37:04.791Z"
   },
   {
    "duration": 0,
    "start_time": "2022-09-07T19:37:04.792Z"
   },
   {
    "duration": 0,
    "start_time": "2022-09-07T19:37:04.793Z"
   },
   {
    "duration": 3,
    "start_time": "2022-09-07T19:37:42.599Z"
   },
   {
    "duration": 1325,
    "start_time": "2022-09-07T19:37:48.336Z"
   },
   {
    "duration": 436,
    "start_time": "2022-09-07T19:37:49.663Z"
   },
   {
    "duration": 136,
    "start_time": "2022-09-07T19:37:50.101Z"
   },
   {
    "duration": 64,
    "start_time": "2022-09-07T19:37:50.239Z"
   },
   {
    "duration": 63,
    "start_time": "2022-09-07T19:37:50.305Z"
   },
   {
    "duration": 31,
    "start_time": "2022-09-07T19:37:50.370Z"
   },
   {
    "duration": 123,
    "start_time": "2022-09-07T19:37:50.402Z"
   },
   {
    "duration": 976,
    "start_time": "2022-09-07T19:37:50.528Z"
   },
   {
    "duration": 15,
    "start_time": "2022-09-07T19:37:51.506Z"
   },
   {
    "duration": 10,
    "start_time": "2022-09-07T19:37:51.524Z"
   },
   {
    "duration": 15,
    "start_time": "2022-09-07T19:37:51.535Z"
   },
   {
    "duration": 44,
    "start_time": "2022-09-07T19:37:51.552Z"
   },
   {
    "duration": 9,
    "start_time": "2022-09-07T19:37:51.597Z"
   },
   {
    "duration": 15,
    "start_time": "2022-09-07T19:37:51.608Z"
   },
   {
    "duration": 14,
    "start_time": "2022-09-07T19:37:51.625Z"
   },
   {
    "duration": 12,
    "start_time": "2022-09-07T19:37:51.640Z"
   },
   {
    "duration": 41,
    "start_time": "2022-09-07T19:37:51.654Z"
   },
   {
    "duration": 3,
    "start_time": "2022-09-07T19:37:51.696Z"
   },
   {
    "duration": 7,
    "start_time": "2022-09-07T19:37:51.701Z"
   },
   {
    "duration": 219,
    "start_time": "2022-09-07T19:37:51.709Z"
   },
   {
    "duration": 192,
    "start_time": "2022-09-07T19:37:51.930Z"
   },
   {
    "duration": 4,
    "start_time": "2022-09-07T19:37:52.123Z"
   },
   {
    "duration": 202,
    "start_time": "2022-09-07T19:37:52.129Z"
   },
   {
    "duration": 5,
    "start_time": "2022-09-07T19:37:52.332Z"
   },
   {
    "duration": 13,
    "start_time": "2022-09-07T19:37:52.339Z"
   },
   {
    "duration": 62,
    "start_time": "2022-09-07T19:37:52.353Z"
   },
   {
    "duration": 3,
    "start_time": "2022-09-07T19:37:52.417Z"
   },
   {
    "duration": 39,
    "start_time": "2022-09-07T19:37:52.424Z"
   },
   {
    "duration": 6,
    "start_time": "2022-09-07T19:37:52.465Z"
   },
   {
    "duration": 215,
    "start_time": "2022-09-07T19:37:52.473Z"
   },
   {
    "duration": 4,
    "start_time": "2022-09-07T19:37:52.690Z"
   },
   {
    "duration": 95,
    "start_time": "2022-09-07T19:37:52.698Z"
   },
   {
    "duration": 6,
    "start_time": "2022-09-07T19:37:52.795Z"
   },
   {
    "duration": 6,
    "start_time": "2022-09-07T19:37:52.802Z"
   },
   {
    "duration": 8,
    "start_time": "2022-09-07T19:37:52.810Z"
   },
   {
    "duration": 45,
    "start_time": "2022-09-07T19:37:52.820Z"
   },
   {
    "duration": 0,
    "start_time": "2022-09-07T19:37:52.866Z"
   },
   {
    "duration": 5,
    "start_time": "2022-09-07T19:38:24.842Z"
   },
   {
    "duration": 124,
    "start_time": "2022-09-07T19:38:25.794Z"
   },
   {
    "duration": 5,
    "start_time": "2022-09-07T19:41:25.471Z"
   },
   {
    "duration": 34,
    "start_time": "2022-09-07T19:41:26.393Z"
   },
   {
    "duration": 5,
    "start_time": "2022-09-07T19:41:51.760Z"
   },
   {
    "duration": 25,
    "start_time": "2022-09-07T19:41:52.464Z"
   },
   {
    "duration": 6,
    "start_time": "2022-09-07T19:42:27.799Z"
   },
   {
    "duration": 19,
    "start_time": "2022-09-07T19:42:28.851Z"
   },
   {
    "duration": 5,
    "start_time": "2022-09-07T19:43:02.639Z"
   },
   {
    "duration": 7722,
    "start_time": "2022-09-07T19:43:03.240Z"
   },
   {
    "duration": 3,
    "start_time": "2022-09-07T19:43:38.231Z"
   },
   {
    "duration": 5,
    "start_time": "2022-09-07T19:43:41.374Z"
   },
   {
    "duration": 3933,
    "start_time": "2022-09-07T19:43:44.622Z"
   },
   {
    "duration": 4,
    "start_time": "2022-09-07T19:44:14.184Z"
   },
   {
    "duration": 6,
    "start_time": "2022-09-07T19:44:15.391Z"
   },
   {
    "duration": 3778,
    "start_time": "2022-09-07T19:44:16.418Z"
   },
   {
    "duration": 4,
    "start_time": "2022-09-07T19:47:29.373Z"
   },
   {
    "duration": 3715,
    "start_time": "2022-09-07T19:47:29.877Z"
   },
   {
    "duration": 4,
    "start_time": "2022-09-07T19:47:40.237Z"
   },
   {
    "duration": 5,
    "start_time": "2022-09-07T19:47:42.708Z"
   },
   {
    "duration": 4042,
    "start_time": "2022-09-07T19:47:44.108Z"
   },
   {
    "duration": 1724,
    "start_time": "2022-09-08T12:23:29.582Z"
   },
   {
    "duration": 1823,
    "start_time": "2022-09-08T12:23:31.308Z"
   },
   {
    "duration": 117,
    "start_time": "2022-09-08T12:23:33.132Z"
   },
   {
    "duration": 56,
    "start_time": "2022-09-08T12:23:33.251Z"
   },
   {
    "duration": 65,
    "start_time": "2022-09-08T12:23:33.310Z"
   },
   {
    "duration": 15,
    "start_time": "2022-09-08T12:23:33.376Z"
   },
   {
    "duration": 126,
    "start_time": "2022-09-08T12:23:33.406Z"
   },
   {
    "duration": 1016,
    "start_time": "2022-09-08T12:23:33.533Z"
   },
   {
    "duration": 15,
    "start_time": "2022-09-08T12:23:34.551Z"
   },
   {
    "duration": 11,
    "start_time": "2022-09-08T12:23:34.569Z"
   },
   {
    "duration": 33,
    "start_time": "2022-09-08T12:23:34.582Z"
   },
   {
    "duration": 18,
    "start_time": "2022-09-08T12:23:34.618Z"
   },
   {
    "duration": 10,
    "start_time": "2022-09-08T12:23:34.638Z"
   },
   {
    "duration": 27,
    "start_time": "2022-09-08T12:23:34.650Z"
   },
   {
    "duration": 27,
    "start_time": "2022-09-08T12:23:34.679Z"
   },
   {
    "duration": 16,
    "start_time": "2022-09-08T12:23:34.708Z"
   },
   {
    "duration": 32,
    "start_time": "2022-09-08T12:23:34.726Z"
   },
   {
    "duration": 6,
    "start_time": "2022-09-08T12:23:34.759Z"
   },
   {
    "duration": 217,
    "start_time": "2022-09-08T12:23:34.767Z"
   },
   {
    "duration": 188,
    "start_time": "2022-09-08T12:23:34.985Z"
   },
   {
    "duration": 4,
    "start_time": "2022-09-08T12:23:35.174Z"
   },
   {
    "duration": 191,
    "start_time": "2022-09-08T12:23:35.179Z"
   },
   {
    "duration": 5,
    "start_time": "2022-09-08T12:23:35.372Z"
   },
   {
    "duration": 8,
    "start_time": "2022-09-08T12:23:35.379Z"
   },
   {
    "duration": 58,
    "start_time": "2022-09-08T12:23:35.388Z"
   },
   {
    "duration": 4,
    "start_time": "2022-09-08T12:23:35.448Z"
   },
   {
    "duration": 29,
    "start_time": "2022-09-08T12:23:35.454Z"
   },
   {
    "duration": 5,
    "start_time": "2022-09-08T12:23:35.505Z"
   },
   {
    "duration": 206,
    "start_time": "2022-09-08T12:23:35.513Z"
   },
   {
    "duration": 87,
    "start_time": "2022-09-08T12:23:35.724Z"
   },
   {
    "duration": 102,
    "start_time": "2022-09-08T12:23:35.815Z"
   },
   {
    "duration": 9,
    "start_time": "2022-09-08T12:23:35.918Z"
   },
   {
    "duration": 7,
    "start_time": "2022-09-08T12:23:35.928Z"
   },
   {
    "duration": 12,
    "start_time": "2022-09-08T12:23:35.937Z"
   },
   {
    "duration": 9,
    "start_time": "2022-09-08T12:23:35.950Z"
   },
   {
    "duration": 3791,
    "start_time": "2022-09-08T12:23:35.960Z"
   },
   {
    "duration": 5,
    "start_time": "2022-09-08T12:25:34.436Z"
   },
   {
    "duration": 3956,
    "start_time": "2022-09-08T12:25:37.063Z"
   },
   {
    "duration": 5,
    "start_time": "2022-09-08T12:34:14.322Z"
   },
   {
    "duration": 3975,
    "start_time": "2022-09-08T12:34:15.826Z"
   },
   {
    "duration": 1386,
    "start_time": "2022-09-08T12:40:21.301Z"
   },
   {
    "duration": 379,
    "start_time": "2022-09-08T12:40:22.689Z"
   },
   {
    "duration": 131,
    "start_time": "2022-09-08T12:40:23.070Z"
   },
   {
    "duration": 46,
    "start_time": "2022-09-08T12:40:23.205Z"
   },
   {
    "duration": 103,
    "start_time": "2022-09-08T12:40:23.253Z"
   },
   {
    "duration": 14,
    "start_time": "2022-09-08T12:40:23.358Z"
   },
   {
    "duration": 106,
    "start_time": "2022-09-08T12:40:23.373Z"
   },
   {
    "duration": 997,
    "start_time": "2022-09-08T12:40:23.480Z"
   },
   {
    "duration": 37,
    "start_time": "2022-09-08T12:40:24.479Z"
   },
   {
    "duration": 14,
    "start_time": "2022-09-08T12:40:24.519Z"
   },
   {
    "duration": 15,
    "start_time": "2022-09-08T12:40:24.534Z"
   },
   {
    "duration": 13,
    "start_time": "2022-09-08T12:40:24.551Z"
   },
   {
    "duration": 52,
    "start_time": "2022-09-08T12:40:24.565Z"
   },
   {
    "duration": 18,
    "start_time": "2022-09-08T12:40:24.619Z"
   },
   {
    "duration": 13,
    "start_time": "2022-09-08T12:40:24.638Z"
   },
   {
    "duration": 11,
    "start_time": "2022-09-08T12:40:24.652Z"
   },
   {
    "duration": 50,
    "start_time": "2022-09-08T12:40:24.664Z"
   },
   {
    "duration": 3,
    "start_time": "2022-09-08T12:40:24.715Z"
   },
   {
    "duration": 193,
    "start_time": "2022-09-08T12:40:24.719Z"
   },
   {
    "duration": 176,
    "start_time": "2022-09-08T12:40:24.914Z"
   },
   {
    "duration": 3,
    "start_time": "2022-09-08T12:40:25.092Z"
   },
   {
    "duration": 185,
    "start_time": "2022-09-08T12:40:25.097Z"
   },
   {
    "duration": 4,
    "start_time": "2022-09-08T12:40:25.284Z"
   },
   {
    "duration": 20,
    "start_time": "2022-09-08T12:40:25.290Z"
   },
   {
    "duration": 112,
    "start_time": "2022-09-08T12:40:25.312Z"
   },
   {
    "duration": 0,
    "start_time": "2022-09-08T12:40:25.426Z"
   },
   {
    "duration": 0,
    "start_time": "2022-09-08T12:40:25.427Z"
   },
   {
    "duration": 0,
    "start_time": "2022-09-08T12:40:25.428Z"
   },
   {
    "duration": 0,
    "start_time": "2022-09-08T12:40:25.429Z"
   },
   {
    "duration": 0,
    "start_time": "2022-09-08T12:40:25.430Z"
   },
   {
    "duration": 0,
    "start_time": "2022-09-08T12:40:25.431Z"
   },
   {
    "duration": 0,
    "start_time": "2022-09-08T12:40:25.433Z"
   },
   {
    "duration": 0,
    "start_time": "2022-09-08T12:40:25.433Z"
   },
   {
    "duration": 0,
    "start_time": "2022-09-08T12:40:25.435Z"
   },
   {
    "duration": 0,
    "start_time": "2022-09-08T12:40:25.436Z"
   },
   {
    "duration": 0,
    "start_time": "2022-09-08T12:40:25.437Z"
   },
   {
    "duration": 1666,
    "start_time": "2022-09-08T12:40:59.199Z"
   },
   {
    "duration": 409,
    "start_time": "2022-09-08T12:41:00.867Z"
   },
   {
    "duration": 147,
    "start_time": "2022-09-08T12:41:01.277Z"
   },
   {
    "duration": 51,
    "start_time": "2022-09-08T12:41:01.426Z"
   },
   {
    "duration": 82,
    "start_time": "2022-09-08T12:41:01.479Z"
   },
   {
    "duration": 17,
    "start_time": "2022-09-08T12:41:01.563Z"
   },
   {
    "duration": 135,
    "start_time": "2022-09-08T12:41:01.581Z"
   },
   {
    "duration": 952,
    "start_time": "2022-09-08T12:41:01.717Z"
   },
   {
    "duration": 30,
    "start_time": "2022-09-08T12:41:02.671Z"
   },
   {
    "duration": 21,
    "start_time": "2022-09-08T12:41:02.703Z"
   },
   {
    "duration": 27,
    "start_time": "2022-09-08T12:41:02.725Z"
   },
   {
    "duration": 14,
    "start_time": "2022-09-08T12:41:02.754Z"
   },
   {
    "duration": 18,
    "start_time": "2022-09-08T12:41:02.769Z"
   },
   {
    "duration": 27,
    "start_time": "2022-09-08T12:41:02.790Z"
   },
   {
    "duration": 27,
    "start_time": "2022-09-08T12:41:02.818Z"
   },
   {
    "duration": 24,
    "start_time": "2022-09-08T12:41:02.847Z"
   },
   {
    "duration": 17,
    "start_time": "2022-09-08T12:41:02.872Z"
   },
   {
    "duration": 14,
    "start_time": "2022-09-08T12:41:02.890Z"
   },
   {
    "duration": 198,
    "start_time": "2022-09-08T12:41:02.906Z"
   },
   {
    "duration": 180,
    "start_time": "2022-09-08T12:41:03.105Z"
   },
   {
    "duration": 4,
    "start_time": "2022-09-08T12:41:03.286Z"
   },
   {
    "duration": 189,
    "start_time": "2022-09-08T12:41:03.291Z"
   },
   {
    "duration": 4,
    "start_time": "2022-09-08T12:41:03.482Z"
   },
   {
    "duration": 7,
    "start_time": "2022-09-08T12:41:03.487Z"
   },
   {
    "duration": 38,
    "start_time": "2022-09-08T12:41:03.495Z"
   },
   {
    "duration": 3,
    "start_time": "2022-09-08T12:41:03.535Z"
   },
   {
    "duration": 118,
    "start_time": "2022-09-08T12:41:03.539Z"
   },
   {
    "duration": 0,
    "start_time": "2022-09-08T12:41:03.658Z"
   },
   {
    "duration": 0,
    "start_time": "2022-09-08T12:41:03.659Z"
   },
   {
    "duration": 0,
    "start_time": "2022-09-08T12:41:03.661Z"
   },
   {
    "duration": 0,
    "start_time": "2022-09-08T12:41:03.661Z"
   },
   {
    "duration": 0,
    "start_time": "2022-09-08T12:41:03.663Z"
   },
   {
    "duration": 0,
    "start_time": "2022-09-08T12:41:03.664Z"
   },
   {
    "duration": 0,
    "start_time": "2022-09-08T12:41:03.665Z"
   },
   {
    "duration": 0,
    "start_time": "2022-09-08T12:41:03.666Z"
   },
   {
    "duration": 0,
    "start_time": "2022-09-08T12:41:03.666Z"
   },
   {
    "duration": 19,
    "start_time": "2022-09-08T12:41:32.750Z"
   },
   {
    "duration": 3,
    "start_time": "2022-09-08T12:41:38.398Z"
   },
   {
    "duration": 28,
    "start_time": "2022-09-08T12:41:39.454Z"
   },
   {
    "duration": 4,
    "start_time": "2022-09-08T12:41:42.311Z"
   },
   {
    "duration": 30,
    "start_time": "2022-09-08T12:41:43.078Z"
   },
   {
    "duration": 3,
    "start_time": "2022-09-08T12:41:54.134Z"
   },
   {
    "duration": 26,
    "start_time": "2022-09-08T12:41:54.790Z"
   },
   {
    "duration": 3,
    "start_time": "2022-09-08T12:42:07.470Z"
   },
   {
    "duration": 86,
    "start_time": "2022-09-08T12:42:07.922Z"
   },
   {
    "duration": 3,
    "start_time": "2022-09-08T12:42:29.302Z"
   },
   {
    "duration": 3,
    "start_time": "2022-09-08T12:42:30.014Z"
   },
   {
    "duration": 4,
    "start_time": "2022-09-08T12:42:34.229Z"
   },
   {
    "duration": 3,
    "start_time": "2022-09-08T12:42:35.863Z"
   },
   {
    "duration": 4,
    "start_time": "2022-09-08T12:42:36.541Z"
   },
   {
    "duration": 4,
    "start_time": "2022-09-08T12:42:39.254Z"
   },
   {
    "duration": 3790,
    "start_time": "2022-09-08T12:42:40.022Z"
   },
   {
    "duration": 4,
    "start_time": "2022-09-08T12:48:09.362Z"
   },
   {
    "duration": 4,
    "start_time": "2022-09-08T12:48:10.938Z"
   },
   {
    "duration": 3,
    "start_time": "2022-09-08T12:48:15.345Z"
   },
   {
    "duration": 3,
    "start_time": "2022-09-08T12:48:17.337Z"
   },
   {
    "duration": 4,
    "start_time": "2022-09-08T12:48:17.907Z"
   },
   {
    "duration": 5,
    "start_time": "2022-09-08T12:48:18.369Z"
   },
   {
    "duration": 3772,
    "start_time": "2022-09-08T12:48:20.194Z"
   },
   {
    "duration": 3,
    "start_time": "2022-09-08T12:48:57.290Z"
   },
   {
    "duration": 5,
    "start_time": "2022-09-08T12:49:00.110Z"
   },
   {
    "duration": 3739,
    "start_time": "2022-09-08T12:49:01.938Z"
   },
   {
    "duration": 3,
    "start_time": "2022-09-08T12:49:24.463Z"
   },
   {
    "duration": 4,
    "start_time": "2022-09-08T12:51:22.920Z"
   },
   {
    "duration": 4300,
    "start_time": "2022-09-08T12:51:26.850Z"
   },
   {
    "duration": 4,
    "start_time": "2022-09-08T12:52:43.930Z"
   },
   {
    "duration": 4,
    "start_time": "2022-09-08T12:53:31.830Z"
   },
   {
    "duration": 3,
    "start_time": "2022-09-08T12:53:48.180Z"
   },
   {
    "duration": 5,
    "start_time": "2022-09-08T12:53:56.100Z"
   },
   {
    "duration": 4359,
    "start_time": "2022-09-08T12:53:57.250Z"
   },
   {
    "duration": 84,
    "start_time": "2022-09-08T12:55:48.894Z"
   },
   {
    "duration": 5,
    "start_time": "2022-09-08T12:55:51.518Z"
   },
   {
    "duration": 4865,
    "start_time": "2022-09-08T12:55:55.357Z"
   },
   {
    "duration": 3,
    "start_time": "2022-09-08T12:59:10.674Z"
   },
   {
    "duration": 4223,
    "start_time": "2022-09-08T12:59:14.667Z"
   },
   {
    "duration": 3,
    "start_time": "2022-09-08T12:59:25.174Z"
   },
   {
    "duration": 4178,
    "start_time": "2022-09-08T12:59:27.946Z"
   },
   {
    "duration": 2179,
    "start_time": "2022-09-08T18:28:35.153Z"
   },
   {
    "duration": 2170,
    "start_time": "2022-09-08T18:28:37.333Z"
   },
   {
    "duration": 138,
    "start_time": "2022-09-08T18:28:39.506Z"
   },
   {
    "duration": 60,
    "start_time": "2022-09-08T18:28:39.647Z"
   },
   {
    "duration": 77,
    "start_time": "2022-09-08T18:28:39.709Z"
   },
   {
    "duration": 28,
    "start_time": "2022-09-08T18:28:39.788Z"
   },
   {
    "duration": 129,
    "start_time": "2022-09-08T18:28:39.818Z"
   },
   {
    "duration": 1000,
    "start_time": "2022-09-08T18:28:39.949Z"
   },
   {
    "duration": 15,
    "start_time": "2022-09-08T18:28:40.950Z"
   },
   {
    "duration": 9,
    "start_time": "2022-09-08T18:28:40.967Z"
   },
   {
    "duration": 36,
    "start_time": "2022-09-08T18:28:40.978Z"
   },
   {
    "duration": 13,
    "start_time": "2022-09-08T18:28:41.015Z"
   },
   {
    "duration": 10,
    "start_time": "2022-09-08T18:28:41.030Z"
   },
   {
    "duration": 16,
    "start_time": "2022-09-08T18:28:41.041Z"
   },
   {
    "duration": 14,
    "start_time": "2022-09-08T18:28:41.059Z"
   },
   {
    "duration": 41,
    "start_time": "2022-09-08T18:28:41.075Z"
   },
   {
    "duration": 12,
    "start_time": "2022-09-08T18:28:41.118Z"
   },
   {
    "duration": 5,
    "start_time": "2022-09-08T18:28:41.131Z"
   },
   {
    "duration": 208,
    "start_time": "2022-09-08T18:28:41.138Z"
   },
   {
    "duration": 183,
    "start_time": "2022-09-08T18:28:41.347Z"
   },
   {
    "duration": 192,
    "start_time": "2022-09-08T18:28:41.532Z"
   },
   {
    "duration": 4,
    "start_time": "2022-09-08T18:28:41.726Z"
   },
   {
    "duration": 6,
    "start_time": "2022-09-08T18:28:41.732Z"
   },
   {
    "duration": 126,
    "start_time": "2022-09-08T18:28:41.739Z"
   },
   {
    "duration": 0,
    "start_time": "2022-09-08T18:28:41.867Z"
   },
   {
    "duration": 0,
    "start_time": "2022-09-08T18:28:41.869Z"
   },
   {
    "duration": 0,
    "start_time": "2022-09-08T18:28:41.869Z"
   },
   {
    "duration": 0,
    "start_time": "2022-09-08T18:28:41.870Z"
   },
   {
    "duration": 0,
    "start_time": "2022-09-08T18:28:41.871Z"
   },
   {
    "duration": 0,
    "start_time": "2022-09-08T18:28:41.872Z"
   },
   {
    "duration": 0,
    "start_time": "2022-09-08T18:28:41.873Z"
   },
   {
    "duration": 0,
    "start_time": "2022-09-08T18:28:41.874Z"
   },
   {
    "duration": 0,
    "start_time": "2022-09-08T18:28:41.875Z"
   },
   {
    "duration": 0,
    "start_time": "2022-09-08T18:28:41.876Z"
   },
   {
    "duration": 0,
    "start_time": "2022-09-08T18:28:41.877Z"
   },
   {
    "duration": 1266,
    "start_time": "2022-09-08T18:30:17.166Z"
   },
   {
    "duration": 389,
    "start_time": "2022-09-08T18:30:18.434Z"
   },
   {
    "duration": 118,
    "start_time": "2022-09-08T18:30:18.824Z"
   },
   {
    "duration": 44,
    "start_time": "2022-09-08T18:30:18.944Z"
   },
   {
    "duration": 65,
    "start_time": "2022-09-08T18:30:18.990Z"
   },
   {
    "duration": 15,
    "start_time": "2022-09-08T18:30:19.056Z"
   },
   {
    "duration": 102,
    "start_time": "2022-09-08T18:30:19.073Z"
   },
   {
    "duration": 935,
    "start_time": "2022-09-08T18:30:19.176Z"
   },
   {
    "duration": 15,
    "start_time": "2022-09-08T18:30:20.113Z"
   },
   {
    "duration": 10,
    "start_time": "2022-09-08T18:30:20.130Z"
   },
   {
    "duration": 14,
    "start_time": "2022-09-08T18:30:20.141Z"
   },
   {
    "duration": 13,
    "start_time": "2022-09-08T18:30:20.157Z"
   },
   {
    "duration": 10,
    "start_time": "2022-09-08T18:30:20.205Z"
   },
   {
    "duration": 16,
    "start_time": "2022-09-08T18:30:20.219Z"
   },
   {
    "duration": 13,
    "start_time": "2022-09-08T18:30:20.237Z"
   },
   {
    "duration": 10,
    "start_time": "2022-09-08T18:30:20.252Z"
   },
   {
    "duration": 42,
    "start_time": "2022-09-08T18:30:20.264Z"
   },
   {
    "duration": 3,
    "start_time": "2022-09-08T18:30:20.308Z"
   },
   {
    "duration": 187,
    "start_time": "2022-09-08T18:30:20.312Z"
   },
   {
    "duration": 184,
    "start_time": "2022-09-08T18:30:20.506Z"
   },
   {
    "duration": 182,
    "start_time": "2022-09-08T18:30:20.692Z"
   },
   {
    "duration": 4,
    "start_time": "2022-09-08T18:30:20.876Z"
   },
   {
    "duration": 7,
    "start_time": "2022-09-08T18:30:20.881Z"
   },
   {
    "duration": 43,
    "start_time": "2022-09-08T18:30:20.889Z"
   },
   {
    "duration": 3,
    "start_time": "2022-09-08T18:30:20.933Z"
   },
   {
    "duration": 31,
    "start_time": "2022-09-08T18:30:20.937Z"
   },
   {
    "duration": 3,
    "start_time": "2022-09-08T18:30:20.969Z"
   },
   {
    "duration": 132,
    "start_time": "2022-09-08T18:30:20.974Z"
   },
   {
    "duration": 4,
    "start_time": "2022-09-08T18:30:21.108Z"
   },
   {
    "duration": 93,
    "start_time": "2022-09-08T18:30:21.114Z"
   },
   {
    "duration": 7,
    "start_time": "2022-09-08T18:30:21.209Z"
   },
   {
    "duration": 6,
    "start_time": "2022-09-08T18:30:21.217Z"
   },
   {
    "duration": 6,
    "start_time": "2022-09-08T18:30:21.224Z"
   },
   {
    "duration": 4,
    "start_time": "2022-09-08T18:30:21.232Z"
   },
   {
    "duration": 4063,
    "start_time": "2022-09-08T18:30:21.237Z"
   },
   {
    "duration": 119,
    "start_time": "2022-09-08T18:40:11.652Z"
   },
   {
    "duration": 122,
    "start_time": "2022-09-08T18:48:04.141Z"
   },
   {
    "duration": 11,
    "start_time": "2022-09-08T18:48:54.802Z"
   },
   {
    "duration": 1396,
    "start_time": "2022-09-08T18:49:47.886Z"
   },
   {
    "duration": 378,
    "start_time": "2022-09-08T18:49:49.283Z"
   },
   {
    "duration": 143,
    "start_time": "2022-09-08T18:49:49.663Z"
   },
   {
    "duration": 50,
    "start_time": "2022-09-08T18:49:49.810Z"
   },
   {
    "duration": 78,
    "start_time": "2022-09-08T18:49:49.861Z"
   },
   {
    "duration": 15,
    "start_time": "2022-09-08T18:49:49.941Z"
   },
   {
    "duration": 111,
    "start_time": "2022-09-08T18:49:49.957Z"
   },
   {
    "duration": 1027,
    "start_time": "2022-09-08T18:49:50.069Z"
   },
   {
    "duration": 23,
    "start_time": "2022-09-08T18:49:51.097Z"
   },
   {
    "duration": 10,
    "start_time": "2022-09-08T18:49:51.123Z"
   },
   {
    "duration": 14,
    "start_time": "2022-09-08T18:49:51.135Z"
   },
   {
    "duration": 11,
    "start_time": "2022-09-08T18:49:51.150Z"
   },
   {
    "duration": 9,
    "start_time": "2022-09-08T18:49:51.163Z"
   },
   {
    "duration": 53,
    "start_time": "2022-09-08T18:49:51.173Z"
   },
   {
    "duration": 15,
    "start_time": "2022-09-08T18:49:51.228Z"
   },
   {
    "duration": 12,
    "start_time": "2022-09-08T18:49:51.245Z"
   },
   {
    "duration": 11,
    "start_time": "2022-09-08T18:49:51.258Z"
   },
   {
    "duration": 3,
    "start_time": "2022-09-08T18:49:51.271Z"
   },
   {
    "duration": 216,
    "start_time": "2022-09-08T18:49:51.276Z"
   },
   {
    "duration": 186,
    "start_time": "2022-09-08T18:49:51.494Z"
   },
   {
    "duration": 214,
    "start_time": "2022-09-08T18:49:51.681Z"
   },
   {
    "duration": 10,
    "start_time": "2022-09-08T18:49:51.896Z"
   },
   {
    "duration": 18,
    "start_time": "2022-09-08T18:49:51.907Z"
   },
   {
    "duration": 44,
    "start_time": "2022-09-08T18:49:51.926Z"
   },
   {
    "duration": 4,
    "start_time": "2022-09-08T18:49:51.971Z"
   },
   {
    "duration": 33,
    "start_time": "2022-09-08T18:49:51.977Z"
   },
   {
    "duration": 6,
    "start_time": "2022-09-08T18:49:52.013Z"
   },
   {
    "duration": 94,
    "start_time": "2022-09-08T18:49:52.024Z"
   },
   {
    "duration": 90,
    "start_time": "2022-09-08T18:49:52.122Z"
   },
   {
    "duration": 96,
    "start_time": "2022-09-08T18:49:52.220Z"
   },
   {
    "duration": 11,
    "start_time": "2022-09-08T18:49:52.318Z"
   },
   {
    "duration": 7,
    "start_time": "2022-09-08T18:49:52.331Z"
   },
   {
    "duration": 27,
    "start_time": "2022-09-08T18:49:52.339Z"
   },
   {
    "duration": 10,
    "start_time": "2022-09-08T18:49:52.367Z"
   },
   {
    "duration": 4272,
    "start_time": "2022-09-08T18:49:52.378Z"
   }
  ],
  "kernelspec": {
   "display_name": "Python 3 (ipykernel)",
   "language": "python",
   "name": "python3"
  },
  "language_info": {
   "codemirror_mode": {
    "name": "ipython",
    "version": 3
   },
   "file_extension": ".py",
   "mimetype": "text/x-python",
   "name": "python",
   "nbconvert_exporter": "python",
   "pygments_lexer": "ipython3",
   "version": "3.9.7"
  },
  "toc": {
   "base_numbering": 1,
   "nav_menu": {},
   "number_sections": true,
   "sideBar": true,
   "skip_h1_title": true,
   "title_cell": "Table of Contents",
   "title_sidebar": "Contents",
   "toc_cell": false,
   "toc_position": {},
   "toc_section_display": true,
   "toc_window_display": false
  }
 },
 "nbformat": 4,
 "nbformat_minor": 2
}
