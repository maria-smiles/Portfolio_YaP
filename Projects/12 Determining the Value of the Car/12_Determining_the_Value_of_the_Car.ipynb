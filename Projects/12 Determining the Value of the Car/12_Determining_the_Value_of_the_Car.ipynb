{
 "cells": [
  {
   "cell_type": "markdown",
   "metadata": {},
   "source": [
    "# Определение стоимости автомобилей"
   ]
  },
  {
   "cell_type": "markdown",
   "metadata": {},
   "source": [
    "Сервис по продаже автомобилей с пробегом «Не бит, не крашен» разрабатывает приложение для привлечения новых клиентов. В нём можно быстро узнать рыночную стоимость своего автомобиля. В вашем распоряжении исторические данные: технические характеристики, комплектации и цены автомобилей. Вам нужно построить модель для определения стоимости. \n",
    "\n",
    "Заказчику важны:\n",
    "\n",
    "- качество предсказания;\n",
    "- скорость предсказания;\n",
    "- время обучения."
   ]
  },
  {
   "cell_type": "code",
   "execution_count": 1,
   "metadata": {},
   "outputs": [],
   "source": [
    "import pandas as pd\n",
    "import seaborn as sns\n",
    "import numpy as np\n",
    "import matplotlib.pyplot as plt\n",
    "import warnings\n",
    "\n",
    "from sklearn.model_selection import train_test_split, GridSearchCV, cross_val_score\n",
    "from sklearn.tree import DecisionTreeRegressor\n",
    "from sklearn.ensemble import RandomForestRegressor\n",
    "from sklearn.metrics import mean_squared_error\n",
    "from sklearn.preprocessing import OrdinalEncoder, OneHotEncoder, StandardScaler\n",
    "from sklearn.inspection import permutation_importance\n",
    "\n",
    "\n",
    "from catboost import CatBoostRegressor\n",
    "\n",
    "from lightgbm import LGBMRegressor\n",
    "\n",
    "from matplotlib import pyplot \n",
    "\n",
    "from time import time\n",
    "\n",
    "\n",
    "RANDOM_STATE = 123\n",
    "\n",
    "\n",
    "warnings.filterwarnings('ignore')\n",
    "\n"
   ]
  },
  {
   "cell_type": "code",
   "execution_count": 2,
   "metadata": {},
   "outputs": [],
   "source": [
    "def quantile_del(data, columns):    \n",
    "    \n",
    "    for name in columns:\n",
    "        \n",
    "        before = len(data)\n",
    "            \n",
    "        # граничные значения    \n",
    "        q1 = data[name].quantile(.25)\n",
    "        q3 = data[name].quantile(.75)\n",
    "        low = q1 - 1.5*(q3 - q1)\n",
    "        high = q3 + 1.5*(q3 - q1)\n",
    "    \n",
    "        # перезапись того, что внутри значений\n",
    "        data = data.loc[(data[name]>=low) & (data[name]<=high)]\n",
    "        after = len(data)\n",
    "        print('Процент отброшенных данных в выборке после обработки параметра', name, ':', round((before-after)*100/before, 2),'%\\nколичество отброшенных строк:', before-after)\n",
    "        print('Было строк:', before)"
   ]
  },
  {
   "cell_type": "markdown",
   "metadata": {},
   "source": [
    "## Подготовка данных\n",
    "\n",
    "### Общие сведения"
   ]
  },
  {
   "cell_type": "code",
   "execution_count": 3,
   "metadata": {},
   "outputs": [],
   "source": [
    "df = pd.read_csv('/datasets/autos.csv')"
   ]
  },
  {
   "cell_type": "code",
   "execution_count": 4,
   "metadata": {
    "scrolled": false
   },
   "outputs": [
    {
     "name": "stdout",
     "output_type": "stream",
     "text": [
      "<class 'pandas.core.frame.DataFrame'>\n",
      "RangeIndex: 354369 entries, 0 to 354368\n",
      "Data columns (total 16 columns):\n",
      " #   Column             Non-Null Count   Dtype \n",
      "---  ------             --------------   ----- \n",
      " 0   DateCrawled        354369 non-null  object\n",
      " 1   Price              354369 non-null  int64 \n",
      " 2   VehicleType        316879 non-null  object\n",
      " 3   RegistrationYear   354369 non-null  int64 \n",
      " 4   Gearbox            334536 non-null  object\n",
      " 5   Power              354369 non-null  int64 \n",
      " 6   Model              334664 non-null  object\n",
      " 7   Kilometer          354369 non-null  int64 \n",
      " 8   RegistrationMonth  354369 non-null  int64 \n",
      " 9   FuelType           321474 non-null  object\n",
      " 10  Brand              354369 non-null  object\n",
      " 11  Repaired           283215 non-null  object\n",
      " 12  DateCreated        354369 non-null  object\n",
      " 13  NumberOfPictures   354369 non-null  int64 \n",
      " 14  PostalCode         354369 non-null  int64 \n",
      " 15  LastSeen           354369 non-null  object\n",
      "dtypes: int64(7), object(9)\n",
      "memory usage: 43.3+ MB\n"
     ]
    }
   ],
   "source": [
    "df.info() "
   ]
  },
  {
   "cell_type": "code",
   "execution_count": 5,
   "metadata": {
    "scrolled": false
   },
   "outputs": [
    {
     "data": {
      "text/html": [
       "<div>\n",
       "<style scoped>\n",
       "    .dataframe tbody tr th:only-of-type {\n",
       "        vertical-align: middle;\n",
       "    }\n",
       "\n",
       "    .dataframe tbody tr th {\n",
       "        vertical-align: top;\n",
       "    }\n",
       "\n",
       "    .dataframe thead th {\n",
       "        text-align: right;\n",
       "    }\n",
       "</style>\n",
       "<table border=\"1\" class=\"dataframe\">\n",
       "  <thead>\n",
       "    <tr style=\"text-align: right;\">\n",
       "      <th></th>\n",
       "      <th>DateCrawled</th>\n",
       "      <th>Price</th>\n",
       "      <th>VehicleType</th>\n",
       "      <th>RegistrationYear</th>\n",
       "      <th>Gearbox</th>\n",
       "      <th>Power</th>\n",
       "      <th>Model</th>\n",
       "      <th>Kilometer</th>\n",
       "      <th>RegistrationMonth</th>\n",
       "      <th>FuelType</th>\n",
       "      <th>Brand</th>\n",
       "      <th>Repaired</th>\n",
       "      <th>DateCreated</th>\n",
       "      <th>NumberOfPictures</th>\n",
       "      <th>PostalCode</th>\n",
       "      <th>LastSeen</th>\n",
       "    </tr>\n",
       "  </thead>\n",
       "  <tbody>\n",
       "    <tr>\n",
       "      <th>80367</th>\n",
       "      <td>2016-03-09 15:48:42</td>\n",
       "      <td>1650</td>\n",
       "      <td>sedan</td>\n",
       "      <td>2000</td>\n",
       "      <td>manual</td>\n",
       "      <td>0</td>\n",
       "      <td>c_klasse</td>\n",
       "      <td>150000</td>\n",
       "      <td>4</td>\n",
       "      <td>petrol</td>\n",
       "      <td>mercedes_benz</td>\n",
       "      <td>no</td>\n",
       "      <td>2016-03-09 00:00:00</td>\n",
       "      <td>0</td>\n",
       "      <td>23795</td>\n",
       "      <td>2016-03-15 00:46:18</td>\n",
       "    </tr>\n",
       "    <tr>\n",
       "      <th>311080</th>\n",
       "      <td>2016-03-10 14:47:20</td>\n",
       "      <td>4850</td>\n",
       "      <td>wagon</td>\n",
       "      <td>2004</td>\n",
       "      <td>auto</td>\n",
       "      <td>180</td>\n",
       "      <td>a6</td>\n",
       "      <td>150000</td>\n",
       "      <td>2</td>\n",
       "      <td>gasoline</td>\n",
       "      <td>audi</td>\n",
       "      <td>NaN</td>\n",
       "      <td>2016-03-10 00:00:00</td>\n",
       "      <td>0</td>\n",
       "      <td>39615</td>\n",
       "      <td>2016-03-23 11:47:30</td>\n",
       "    </tr>\n",
       "    <tr>\n",
       "      <th>161908</th>\n",
       "      <td>2016-04-03 19:42:45</td>\n",
       "      <td>6399</td>\n",
       "      <td>bus</td>\n",
       "      <td>2008</td>\n",
       "      <td>manual</td>\n",
       "      <td>143</td>\n",
       "      <td>5_reihe</td>\n",
       "      <td>125000</td>\n",
       "      <td>3</td>\n",
       "      <td>gasoline</td>\n",
       "      <td>mazda</td>\n",
       "      <td>no</td>\n",
       "      <td>2016-04-03 00:00:00</td>\n",
       "      <td>0</td>\n",
       "      <td>86668</td>\n",
       "      <td>2016-04-05 20:16:01</td>\n",
       "    </tr>\n",
       "    <tr>\n",
       "      <th>46765</th>\n",
       "      <td>2016-03-17 18:58:37</td>\n",
       "      <td>1099</td>\n",
       "      <td>sedan</td>\n",
       "      <td>1995</td>\n",
       "      <td>manual</td>\n",
       "      <td>101</td>\n",
       "      <td>a4</td>\n",
       "      <td>150000</td>\n",
       "      <td>2</td>\n",
       "      <td>petrol</td>\n",
       "      <td>audi</td>\n",
       "      <td>NaN</td>\n",
       "      <td>2016-03-17 00:00:00</td>\n",
       "      <td>0</td>\n",
       "      <td>42659</td>\n",
       "      <td>2016-03-20 21:19:17</td>\n",
       "    </tr>\n",
       "    <tr>\n",
       "      <th>273226</th>\n",
       "      <td>2016-03-19 09:54:53</td>\n",
       "      <td>49</td>\n",
       "      <td>small</td>\n",
       "      <td>1999</td>\n",
       "      <td>NaN</td>\n",
       "      <td>0</td>\n",
       "      <td>polo</td>\n",
       "      <td>100000</td>\n",
       "      <td>0</td>\n",
       "      <td>NaN</td>\n",
       "      <td>volkswagen</td>\n",
       "      <td>NaN</td>\n",
       "      <td>2016-03-19 00:00:00</td>\n",
       "      <td>0</td>\n",
       "      <td>6528</td>\n",
       "      <td>2016-04-06 10:15:49</td>\n",
       "    </tr>\n",
       "    <tr>\n",
       "      <th>77230</th>\n",
       "      <td>2016-03-19 14:56:04</td>\n",
       "      <td>400</td>\n",
       "      <td>wagon</td>\n",
       "      <td>1998</td>\n",
       "      <td>manual</td>\n",
       "      <td>0</td>\n",
       "      <td>vectra</td>\n",
       "      <td>150000</td>\n",
       "      <td>0</td>\n",
       "      <td>petrol</td>\n",
       "      <td>opel</td>\n",
       "      <td>no</td>\n",
       "      <td>2016-03-19 00:00:00</td>\n",
       "      <td>0</td>\n",
       "      <td>74172</td>\n",
       "      <td>2016-04-06 22:45:48</td>\n",
       "    </tr>\n",
       "    <tr>\n",
       "      <th>312799</th>\n",
       "      <td>2016-03-23 19:55:22</td>\n",
       "      <td>2350</td>\n",
       "      <td>wagon</td>\n",
       "      <td>1999</td>\n",
       "      <td>manual</td>\n",
       "      <td>150</td>\n",
       "      <td>bora</td>\n",
       "      <td>150000</td>\n",
       "      <td>6</td>\n",
       "      <td>lpg</td>\n",
       "      <td>volkswagen</td>\n",
       "      <td>no</td>\n",
       "      <td>2016-03-23 00:00:00</td>\n",
       "      <td>0</td>\n",
       "      <td>13347</td>\n",
       "      <td>2016-03-23 19:55:22</td>\n",
       "    </tr>\n",
       "    <tr>\n",
       "      <th>299306</th>\n",
       "      <td>2016-03-20 07:58:53</td>\n",
       "      <td>2000</td>\n",
       "      <td>sedan</td>\n",
       "      <td>2002</td>\n",
       "      <td>manual</td>\n",
       "      <td>120</td>\n",
       "      <td>6_reihe</td>\n",
       "      <td>150000</td>\n",
       "      <td>11</td>\n",
       "      <td>petrol</td>\n",
       "      <td>mazda</td>\n",
       "      <td>no</td>\n",
       "      <td>2016-03-20 00:00:00</td>\n",
       "      <td>0</td>\n",
       "      <td>44807</td>\n",
       "      <td>2016-03-25 06:15:21</td>\n",
       "    </tr>\n",
       "  </tbody>\n",
       "</table>\n",
       "</div>"
      ],
      "text/plain": [
       "                DateCrawled  Price VehicleType  RegistrationYear Gearbox  \\\n",
       "80367   2016-03-09 15:48:42   1650       sedan              2000  manual   \n",
       "311080  2016-03-10 14:47:20   4850       wagon              2004    auto   \n",
       "161908  2016-04-03 19:42:45   6399         bus              2008  manual   \n",
       "46765   2016-03-17 18:58:37   1099       sedan              1995  manual   \n",
       "273226  2016-03-19 09:54:53     49       small              1999     NaN   \n",
       "77230   2016-03-19 14:56:04    400       wagon              1998  manual   \n",
       "312799  2016-03-23 19:55:22   2350       wagon              1999  manual   \n",
       "299306  2016-03-20 07:58:53   2000       sedan              2002  manual   \n",
       "\n",
       "        Power     Model  Kilometer  RegistrationMonth  FuelType  \\\n",
       "80367       0  c_klasse     150000                  4    petrol   \n",
       "311080    180        a6     150000                  2  gasoline   \n",
       "161908    143   5_reihe     125000                  3  gasoline   \n",
       "46765     101        a4     150000                  2    petrol   \n",
       "273226      0      polo     100000                  0       NaN   \n",
       "77230       0    vectra     150000                  0    petrol   \n",
       "312799    150      bora     150000                  6       lpg   \n",
       "299306    120   6_reihe     150000                 11    petrol   \n",
       "\n",
       "                Brand Repaired          DateCreated  NumberOfPictures  \\\n",
       "80367   mercedes_benz       no  2016-03-09 00:00:00                 0   \n",
       "311080           audi      NaN  2016-03-10 00:00:00                 0   \n",
       "161908          mazda       no  2016-04-03 00:00:00                 0   \n",
       "46765            audi      NaN  2016-03-17 00:00:00                 0   \n",
       "273226     volkswagen      NaN  2016-03-19 00:00:00                 0   \n",
       "77230            opel       no  2016-03-19 00:00:00                 0   \n",
       "312799     volkswagen       no  2016-03-23 00:00:00                 0   \n",
       "299306          mazda       no  2016-03-20 00:00:00                 0   \n",
       "\n",
       "        PostalCode             LastSeen  \n",
       "80367        23795  2016-03-15 00:46:18  \n",
       "311080       39615  2016-03-23 11:47:30  \n",
       "161908       86668  2016-04-05 20:16:01  \n",
       "46765        42659  2016-03-20 21:19:17  \n",
       "273226        6528  2016-04-06 10:15:49  \n",
       "77230        74172  2016-04-06 22:45:48  \n",
       "312799       13347  2016-03-23 19:55:22  \n",
       "299306       44807  2016-03-25 06:15:21  "
      ]
     },
     "execution_count": 5,
     "metadata": {},
     "output_type": "execute_result"
    }
   ],
   "source": [
    "df.sample(8)"
   ]
  },
  {
   "cell_type": "code",
   "execution_count": 6,
   "metadata": {},
   "outputs": [],
   "source": [
    "df.index.name = 'index'"
   ]
  },
  {
   "cell_type": "markdown",
   "metadata": {},
   "source": [
    "### Полные дубли"
   ]
  },
  {
   "cell_type": "code",
   "execution_count": 7,
   "metadata": {
    "scrolled": true
   },
   "outputs": [
    {
     "data": {
      "text/plain": [
       "4"
      ]
     },
     "execution_count": 7,
     "metadata": {},
     "output_type": "execute_result"
    }
   ],
   "source": [
    "df.duplicated().sum() "
   ]
  },
  {
   "cell_type": "markdown",
   "metadata": {},
   "source": [
    "Удаляем полные дубликаты с переназначением индексов"
   ]
  },
  {
   "cell_type": "code",
   "execution_count": 8,
   "metadata": {},
   "outputs": [
    {
     "data": {
      "text/plain": [
       "DateCrawled              0\n",
       "Price                    0\n",
       "VehicleType          37490\n",
       "RegistrationYear         0\n",
       "Gearbox              19833\n",
       "Power                    0\n",
       "Model                19705\n",
       "Kilometer                0\n",
       "RegistrationMonth        0\n",
       "FuelType             32895\n",
       "Brand                    0\n",
       "Repaired             71154\n",
       "DateCreated              0\n",
       "NumberOfPictures         0\n",
       "PostalCode               0\n",
       "LastSeen                 0\n",
       "dtype: int64"
      ]
     },
     "execution_count": 8,
     "metadata": {},
     "output_type": "execute_result"
    }
   ],
   "source": [
    "df.drop_duplicates().reset_index() \n",
    "df.isna().sum()"
   ]
  },
  {
   "cell_type": "markdown",
   "metadata": {},
   "source": [
    "### Анализ параметров"
   ]
  },
  {
   "cell_type": "markdown",
   "metadata": {},
   "source": [
    "Длина первоначального датасета"
   ]
  },
  {
   "cell_type": "code",
   "execution_count": 9,
   "metadata": {},
   "outputs": [],
   "source": [
    "len_df = len(df)"
   ]
  },
  {
   "cell_type": "markdown",
   "metadata": {},
   "source": [
    "На всякий случай, если вдруг придётся обратиться к первоначальной информации, скопирую данные."
   ]
  },
  {
   "cell_type": "code",
   "execution_count": 10,
   "metadata": {},
   "outputs": [],
   "source": [
    "df_original = df.copy() "
   ]
  },
  {
   "cell_type": "markdown",
   "metadata": {},
   "source": [
    "    В датасете 354369 оригинальных строк, 16 параметров типа int64 и object. Точно есть пропуски.\n",
    "\n",
    "Признаки\n",
    "\n",
    "\t• DateCrawled — дата скачивания анкеты из базы\n",
    "\t• VehicleType — тип автомобильного кузова\n",
    "\t• RegistrationYear — год регистрации автомобиля\n",
    "\t• Gearbox — тип коробки передач\n",
    "\t• Power — мощность (л. с.)\n",
    "\t• Model — модель автомобиля\n",
    "\t• Kilometer — пробег (км)\n",
    "\t• RegistrationMonth — месяц регистрации автомобиля\n",
    "\t• FuelType — тип топлива\n",
    "\t• Brand — марка автомобиля\n",
    "\t• Repaired — была машина в ремонте или нет\n",
    "\t• DateCreated — дата создания анкеты\n",
    "\t• NumberOfPictures — количество фотографий автомобиля\n",
    "\t• PostalCode — почтовый индекс владельца анкеты (пользователя)\n",
    "\t• LastSeen — дата последней активности пользователя\n",
    "    \n",
    "Целевой признак\n",
    "\n",
    "      Price — цена (евро)\n",
    "      \n",
    "\n",
    "#### LastSeen, DateCrawled, PostalCode\n",
    "      \n",
    "    LastSeen и DateCrawled можно было бы преобразовать в тип DateTime, но делать этого не будем, потому что эти параметры не связаны с продаваемым автомобилем, только с объявлением.\n",
    " \n",
    "    PostalCode - вызывает вопросы. С одной стороны, климат влияет на состояние автомобиля, но с другой, в одной Москве индексов очень много (как пример). Также, эксплуатация автомобиля может проходить в нескольких климатических зонах, разные владельцы по-разному ухаживают за автомобилями в одном и том же регионе. В связи со всем перечисленным считаю эту колонку не информативной и предлагаю тоже удалить.\n",
    "\n",
    "   \n"
   ]
  },
  {
   "cell_type": "code",
   "execution_count": 11,
   "metadata": {},
   "outputs": [],
   "source": [
    "df = df.drop(['DateCrawled', 'LastSeen', 'PostalCode'], axis='columns')"
   ]
  },
  {
   "cell_type": "markdown",
   "metadata": {},
   "source": [
    "#### RegistrationYear, RegistrationMonth, DateCreated \n",
    " \n",
    " Теперь надо обдумать информацию из столбца RegistrationYear - насколько актуальным будут годы постановки на учёт автомобиля. Первый автомобиль создан в 1885 году, но вряд ли старинные автомобили массово привлекательны для водителей. Нужно как-то подобрать диапазон лет для удаления строк с неподходящими значениями."
   ]
  },
  {
   "cell_type": "code",
   "execution_count": 12,
   "metadata": {
    "scrolled": true
   },
   "outputs": [
    {
     "data": {
      "text/plain": [
       "array([1000, 1001, 1039, 1111, 1200, 1234, 1253, 1255, 1300, 1400, 1500,\n",
       "       1600, 1602, 1688, 1800, 1910, 1915, 1919, 1920, 1923, 1925, 1927,\n",
       "       1928, 1929, 1930, 1931, 1932, 1933, 1934, 1935, 1936, 1937, 1938,\n",
       "       1940, 1941, 1942, 1943, 1944, 1945, 1946, 1947, 1948, 1949, 1950,\n",
       "       1951, 1952, 1953, 1954, 1955, 1956, 1957, 1958, 1959, 1960, 1961,\n",
       "       1962, 1963, 1964, 1965, 1966, 1967, 1968, 1969, 1970, 1971, 1972,\n",
       "       1973, 1974, 1975, 1976, 1977, 1978, 1979, 1980, 1981, 1982, 1983,\n",
       "       1984, 1985, 1986, 1987, 1988, 1989, 1990, 1991, 1992, 1993, 1994,\n",
       "       1995, 1996, 1997, 1998, 1999, 2000, 2001, 2002, 2003, 2004, 2005,\n",
       "       2006, 2007, 2008, 2009, 2010, 2011, 2012, 2013, 2014, 2015, 2016,\n",
       "       2017, 2018, 2019, 2066, 2200, 2222, 2290, 2500, 2800, 2900, 3000,\n",
       "       3200, 3500, 3700, 3800, 4000, 4100, 4500, 4800, 5000, 5300, 5555,\n",
       "       5600, 5900, 5911, 6000, 6500, 7000, 7100, 7500, 7800, 8000, 8200,\n",
       "       8455, 8500, 8888, 9000, 9229, 9450, 9996, 9999])"
      ]
     },
     "execution_count": 12,
     "metadata": {},
     "output_type": "execute_result"
    }
   ],
   "source": [
    "df['RegistrationYear'].sort_values().unique()"
   ]
  },
  {
   "cell_type": "markdown",
   "metadata": {},
   "source": [
    "Видим странные значения как в меньшую сторону от 20 века, так и в большую.\n"
   ]
  },
  {
   "cell_type": "code",
   "execution_count": 13,
   "metadata": {},
   "outputs": [
    {
     "data": {
      "text/plain": [
       "array([ 0,  1,  2,  3,  4,  5,  6,  7,  8,  9, 10, 11, 12])"
      ]
     },
     "execution_count": 13,
     "metadata": {},
     "output_type": "execute_result"
    }
   ],
   "source": [
    "df['RegistrationMonth'].sort_values().unique()"
   ]
  },
  {
   "cell_type": "markdown",
   "metadata": {},
   "source": [
    "Видимо, некоторые владельцы не считают важным указывать месяц регистрации. Поскольку какой-то логики, по которой мжно восстановитьзначения в этом параметре, не найти, посмотрим, сколко процентов от всех данных составляют строки с нулевым месяцем."
   ]
  },
  {
   "cell_type": "code",
   "execution_count": 14,
   "metadata": {},
   "outputs": [
    {
     "data": {
      "text/plain": [
       "10.54"
      ]
     },
     "execution_count": 14,
     "metadata": {},
     "output_type": "execute_result"
    }
   ],
   "source": [
    "round(len(df[df['RegistrationMonth']==0])*100/len_df, 2)"
   ]
  },
  {
   "cell_type": "markdown",
   "metadata": {},
   "source": [
    "Довольно много, удалять не очень хочется, надо заменить. Этот параметр нам нужен для выбора строк, но не для моделирования, поэтому если и будет перебор каких-то значений, то на модели он не скажется. Поэтому заменим 0 на 1, будто машину поставили на учёт в январе. Это минимально возможное значение параметра, и оно позволит максимально точно отсечь те строки, в которых дата регистрации позже, чем дата подачи объявления."
   ]
  },
  {
   "cell_type": "code",
   "execution_count": 15,
   "metadata": {},
   "outputs": [
    {
     "data": {
      "text/plain": [
       "array([ 1,  2,  3,  4,  5,  6,  7,  8,  9, 10, 11, 12])"
      ]
     },
     "execution_count": 15,
     "metadata": {},
     "output_type": "execute_result"
    }
   ],
   "source": [
    "df['RegistrationMonth'] = df['RegistrationMonth'].replace(0,1)\n",
    "df['RegistrationMonth'].sort_values().unique()"
   ]
  },
  {
   "cell_type": "markdown",
   "metadata": {},
   "source": [
    "\n",
    "\"Для иностранных моделей энтузиасты пользовались класси­фикациями FIVA (Международной организации старинных транспортных средств), которые ранжируют автомобили по возрасту, степени аутентич­ности и редкости модели. Машины в возрасте 20–29 лет относят к категории «янгтаймеров» (youngtimer vehicle), на которых предлагается ездить каждый день. Всё, что старше, — «исторические автомобили» (historical vehicle), для которых главное — это аутентичное состояние.\" - цитата по https://auto.ru/mag/article/kak-priznat-staruyu-mashinu-raritetom-i-zachem-eto-nuzhno/\n",
    "\n",
    "Сделаем преобразование типа в DateTime у DateCreated, чтоб узнать, к каким годам относятся объявления о продаже."
   ]
  },
  {
   "cell_type": "code",
   "execution_count": 16,
   "metadata": {},
   "outputs": [
    {
     "data": {
      "text/plain": [
       "array([2014, 2015, 2016])"
      ]
     },
     "execution_count": 16,
     "metadata": {},
     "output_type": "execute_result"
    }
   ],
   "source": [
    "df['DateCreated'] = pd.to_datetime(df['DateCreated']) \n",
    "df['DateCreated'].dt.year.sort_values().unique()"
   ]
  },
  {
   "cell_type": "markdown",
   "metadata": {},
   "source": [
    "Тогда отсчитаем от 2014 года 58 лет назад (удвоим указанный промежуток для сохранения большего количества строк) и так ограничим год регистрации снизу, а 2016 возьмём как текущий, больше которого дата регистрации не может быть."
   ]
  },
  {
   "cell_type": "code",
   "execution_count": 17,
   "metadata": {
    "scrolled": true
   },
   "outputs": [
    {
     "name": "stdout",
     "output_type": "stream",
     "text": [
      "В сете 354369 строк\n",
      "В сете осталось 339474 строк\n",
      "удалено 14895 строк\n",
      "В процентах удалено 4.2 % строк\n"
     ]
    }
   ],
   "source": [
    "len_before = len(df)\n",
    "print('В сете', len_before , 'строк')\n",
    "\n",
    "df = df.loc[(df['RegistrationYear']<=2016) & (df['RegistrationYear']>=(2016-58))]\n",
    "\n",
    "len_after = len(df)\n",
    "print('В сете осталось', len_after, 'строк\\nудалено', len_before - len_after, 'строк\\nВ процентах удалено',\\\n",
    "     round((len_before - len_after)*100/len_before, 2), '% строк')"
   ]
  },
  {
   "cell_type": "markdown",
   "metadata": {},
   "source": [
    "Логично, что автомобиль сначала изготовили и только потом повесили объявление о его продаже. Оставим в сете только те строки, в которых дата размещения анкеты больше даты регистрации автомобиля.\n",
    "\n",
    "Стобцы RegistrationYear и RegistrationMonth надо привести к одному значению вместо двух. И чтобы было удобно и просто потом посчитать интересующую разницу, приведём DateCreated, RegistrationYear и RegistrationMonth к размерности \"месяц\".\n",
    "\n",
    "После этого колонка DateCreated нам не нужна, она не связана с ценой на автомобиль, удалю её."
   ]
  },
  {
   "cell_type": "markdown",
   "metadata": {},
   "source": [
    "Перевод в месяцы:"
   ]
  },
  {
   "cell_type": "code",
   "execution_count": 18,
   "metadata": {},
   "outputs": [
    {
     "data": {
      "text/plain": [
       "array([24195, 24196, 24194, 24183, 24191, 24193, 24192, 24171, 24189,\n",
       "       24188, 24186])"
      ]
     },
     "execution_count": 18,
     "metadata": {},
     "output_type": "execute_result"
    }
   ],
   "source": [
    "df['DateCreated'] = df['DateCreated'].dt.year*12 + df['DateCreated'].dt.month \n",
    "df['DateCreated'].unique()"
   ]
  },
  {
   "cell_type": "markdown",
   "metadata": {},
   "source": [
    "Получили немного чисел в удобном и простом виде.\n",
    "\n",
    "Теперь преобразуем дату регистрации к той же размерности и удалим стобцы RegistrationYear и RegistrationMonth.\n"
   ]
  },
  {
   "cell_type": "code",
   "execution_count": 19,
   "metadata": {},
   "outputs": [],
   "source": [
    "df['RegistrationMonthTime'] = df['RegistrationYear']*12 + df['RegistrationMonth']"
   ]
  },
  {
   "cell_type": "code",
   "execution_count": 20,
   "metadata": {
    "scrolled": false
   },
   "outputs": [
    {
     "data": {
      "text/plain": [
       "array([23917, 24137, 24056, 24018, 24103, 23950, 23767, 24176, 23977,\n",
       "       24060, 24072, 23951, 24050, 24135, 24193, 24090, 24049, 24112,\n",
       "       24031, 23969, 23890, 24033, 24107, 23773, 24039, 23941, 24198,\n",
       "       23930, 24089, 24059, 24196, 23893, 24035, 23816, 23881, 24028,\n",
       "       24083, 24092, 24102, 23996, 23978, 24151, 24100, 24108, 24061,\n",
       "       24073, 23986, 23939, 23944, 24051, 24124, 24082, 24104, 24008,\n",
       "       23913, 24013, 23919, 23967, 24106, 24160, 24044, 24002, 24076,\n",
       "       24195, 24001, 23934, 24069, 23974, 24068, 24019, 24120, 24045,\n",
       "       23811, 24109, 24041, 23999, 24098, 23945, 24052, 23995, 23972,\n",
       "       23905, 23997, 23943, 24111, 24081, 24027, 23897, 23989, 23960,\n",
       "       24010, 24125, 24005, 24025, 23882, 23952, 24118, 24024, 24149,\n",
       "       23958, 24071, 24048, 24088, 23961, 24011, 24130, 23987, 23953,\n",
       "       24037, 23824, 23955, 24057, 24042, 24113, 24058, 24038, 24095,\n",
       "       23925, 24034, 24021, 23935, 23879, 24096, 23982, 24136, 24079,\n",
       "       24040, 24078, 24147, 23971, 24188, 24047, 24086, 24097, 23907,\n",
       "       24080, 23970, 24144, 23992, 24032, 24201, 23957, 24143, 24117,\n",
       "       24022, 24123, 24094, 23931, 23914, 23895, 23821, 24036, 23795,\n",
       "       24003, 23948, 24012, 24016, 24156, 23965, 24026, 24155, 23924,\n",
       "       24132, 24009, 24017, 23998, 24004, 24114, 23886, 23981, 24054,\n",
       "       23936, 24139, 24023, 24020, 24145, 24116, 23878, 24055, 24006,\n",
       "       24204, 24000, 24105, 23994, 24087, 24163, 24172, 23899, 24075,\n",
       "       24122, 23990, 24179, 23927, 24159, 23956, 23988, 24177, 23713,\n",
       "       23806, 24093, 24101, 24029, 24066, 24146, 24154, 24167, 23916,\n",
       "       24202, 24131, 23906, 23909, 24015, 24197, 24121, 24053, 24127,\n",
       "       23985, 24091, 23984, 23929, 23975, 24099, 24148, 23991, 23870,\n",
       "       24077, 24180, 24150, 24140, 24119, 23983, 23898, 23979, 24157,\n",
       "       24070, 23775, 23680, 23932, 24200, 24185, 24138, 23831, 23980,\n",
       "       23949, 24084, 24030, 24046, 24110, 24126, 23911, 23976, 23954,\n",
       "       23933, 23903, 23631, 24133, 23656, 24067, 23993, 24085, 24062,\n",
       "       23962, 23908, 24158, 24184, 23963, 23938, 24165, 23966, 24007,\n",
       "       23968, 24074, 23874, 23973, 24063, 24065, 23926, 24169, 24166,\n",
       "       24142, 23946, 24152, 24115, 23964, 24162, 24161, 24064, 23658,\n",
       "       24134, 23885, 23852, 23884, 24199, 23677, 23901, 23833, 23791,\n",
       "       24181, 23869, 23802, 23830, 23862, 23859, 24175, 24043, 23920,\n",
       "       24203, 23769, 24141, 23657, 24128, 23812, 23761, 23947, 23921,\n",
       "       23645, 24014, 23889, 24129, 23835, 23809, 23942, 23880, 23877,\n",
       "       23891, 23959, 24164, 23875, 23776, 24171, 23883, 23887, 23825,\n",
       "       23799, 23588, 24153, 23827, 23928, 23918, 23896, 24191, 23829,\n",
       "       24183, 23826, 23803, 24194, 23915, 23586, 23855, 23840, 23691,\n",
       "       23755, 23798, 23923, 23872, 23902, 23785, 23836, 24182, 23692,\n",
       "       24170, 23817, 23797, 23940, 23848, 23871, 24173, 23772, 24174,\n",
       "       23858, 23873, 23922, 23782, 23786, 23857, 23888, 23868, 23808,\n",
       "       24168, 23768, 23581, 23647, 23739, 23892, 23910, 24187, 23635,\n",
       "       23719, 23865, 23813, 23750, 23894, 23790, 23669, 23793, 23641,\n",
       "       23788, 23904, 23876, 23841, 23754, 23617, 23860, 23823, 23731,\n",
       "       23846, 23810, 23722, 23912, 23743, 23536, 23849, 23537, 23800,\n",
       "       23733, 24186, 23715, 23741, 23937, 23678, 23742, 23674, 23900,\n",
       "       23589, 24192, 23526, 23598, 23807, 23738, 23851, 23787, 23763,\n",
       "       23653, 23818, 23730, 23521, 23714, 23701, 23659, 23834, 24178,\n",
       "       23670, 23696, 23837, 23867, 23845, 23864, 23778, 23781, 23620,\n",
       "       23866, 23850, 23703, 23863, 23765, 23624, 24189, 23794, 23619,\n",
       "       23562, 23695, 23597, 23629, 23574, 23804, 23780, 23737, 23847,\n",
       "       23861, 23729, 23666, 23758, 23801, 23497, 23853, 23725, 23805,\n",
       "       23854, 23839, 23539, 23856, 24190, 23789, 23627, 23599, 23665,\n",
       "       23820, 23535, 23605, 23707, 23718, 23717, 23515, 23749, 23637,\n",
       "       23673, 23675, 23838, 23744, 23525, 23723, 23524, 23644, 23523,\n",
       "       23764, 23779, 23661, 23527, 23770, 23668, 23815, 23777, 23822,\n",
       "       23593, 23842, 23583, 23746, 23689, 23667, 23728, 23682, 23705,\n",
       "       23751, 23639, 23575, 23756, 23686, 23726, 23753, 23550, 23654,\n",
       "       23634, 23587, 23533, 23538, 23716, 23832, 23708, 23774, 23595,\n",
       "       23623, 23652, 23706, 23671, 23501, 23844, 23784, 23559, 23766,\n",
       "       23622, 23609, 23828, 23693, 23752, 23643, 23556, 23690, 23557,\n",
       "       23734, 23584, 23720, 23679, 23759, 23702, 23651, 23518, 23569,\n",
       "       23612, 23843, 23747, 23732, 23727, 23638, 23650, 23633, 23655,\n",
       "       23601, 23519, 23683, 23664, 23503, 23699, 23694, 23660, 23748,\n",
       "       23579, 23672, 23724, 23796, 23819, 23504, 23551, 23592, 23736,\n",
       "       23600, 23607, 23760, 23698, 23513, 23745, 23704, 23687, 23792,\n",
       "       23522, 23570, 23547, 23630, 23712, 23762, 23534, 23608, 23632,\n",
       "       23596, 23621, 23649, 23613, 23814, 23688, 23573, 23646, 23618,\n",
       "       23545, 23594, 23549, 23681, 23676, 23508, 23563, 23514, 23640,\n",
       "       23740, 23511, 23576, 23697, 23560, 23552, 23540, 23604, 23590,\n",
       "       23606, 23648, 23663, 23757, 23642, 23616, 23636, 23554, 23662,\n",
       "       23517, 23710, 23771, 23783, 23585, 23531, 23529, 23610, 23611,\n",
       "       23528, 23711, 23700, 23561, 23510, 23566, 23532, 23582, 23565,\n",
       "       23512, 23684, 23520, 23572, 23546, 23558, 23542, 23685, 23568,\n",
       "       23721, 23709, 23530, 23509, 23548, 23626, 23578, 23625, 23735,\n",
       "       23615, 23543, 23571, 23614, 23499, 23553, 23577, 23628, 23564,\n",
       "       23498, 23506])"
      ]
     },
     "execution_count": 20,
     "metadata": {},
     "output_type": "execute_result"
    }
   ],
   "source": [
    "df['RegistrationMonthTime'].unique()"
   ]
  },
  {
   "cell_type": "code",
   "execution_count": 21,
   "metadata": {
    "scrolled": false
   },
   "outputs": [
    {
     "data": {
      "text/html": [
       "<div>\n",
       "<style scoped>\n",
       "    .dataframe tbody tr th:only-of-type {\n",
       "        vertical-align: middle;\n",
       "    }\n",
       "\n",
       "    .dataframe tbody tr th {\n",
       "        vertical-align: top;\n",
       "    }\n",
       "\n",
       "    .dataframe thead th {\n",
       "        text-align: right;\n",
       "    }\n",
       "</style>\n",
       "<table border=\"1\" class=\"dataframe\">\n",
       "  <thead>\n",
       "    <tr style=\"text-align: right;\">\n",
       "      <th></th>\n",
       "      <th>Price</th>\n",
       "      <th>VehicleType</th>\n",
       "      <th>RegistrationYear</th>\n",
       "      <th>Gearbox</th>\n",
       "      <th>Power</th>\n",
       "      <th>Model</th>\n",
       "      <th>Kilometer</th>\n",
       "      <th>RegistrationMonth</th>\n",
       "      <th>FuelType</th>\n",
       "      <th>Brand</th>\n",
       "      <th>Repaired</th>\n",
       "      <th>DateCreated</th>\n",
       "      <th>NumberOfPictures</th>\n",
       "      <th>RegistrationMonthTime</th>\n",
       "    </tr>\n",
       "    <tr>\n",
       "      <th>index</th>\n",
       "      <th></th>\n",
       "      <th></th>\n",
       "      <th></th>\n",
       "      <th></th>\n",
       "      <th></th>\n",
       "      <th></th>\n",
       "      <th></th>\n",
       "      <th></th>\n",
       "      <th></th>\n",
       "      <th></th>\n",
       "      <th></th>\n",
       "      <th></th>\n",
       "      <th></th>\n",
       "      <th></th>\n",
       "    </tr>\n",
       "  </thead>\n",
       "  <tbody>\n",
       "    <tr>\n",
       "      <th>181836</th>\n",
       "      <td>10950</td>\n",
       "      <td>bus</td>\n",
       "      <td>1991</td>\n",
       "      <td>manual</td>\n",
       "      <td>77</td>\n",
       "      <td>transporter</td>\n",
       "      <td>150000</td>\n",
       "      <td>10</td>\n",
       "      <td>gasoline</td>\n",
       "      <td>volkswagen</td>\n",
       "      <td>no</td>\n",
       "      <td>24195</td>\n",
       "      <td>0</td>\n",
       "      <td>23902</td>\n",
       "    </tr>\n",
       "    <tr>\n",
       "      <th>103847</th>\n",
       "      <td>1000</td>\n",
       "      <td>small</td>\n",
       "      <td>2001</td>\n",
       "      <td>manual</td>\n",
       "      <td>75</td>\n",
       "      <td>lupo</td>\n",
       "      <td>150000</td>\n",
       "      <td>1</td>\n",
       "      <td>petrol</td>\n",
       "      <td>volkswagen</td>\n",
       "      <td>no</td>\n",
       "      <td>24195</td>\n",
       "      <td>0</td>\n",
       "      <td>24013</td>\n",
       "    </tr>\n",
       "    <tr>\n",
       "      <th>87592</th>\n",
       "      <td>300</td>\n",
       "      <td>other</td>\n",
       "      <td>1998</td>\n",
       "      <td>manual</td>\n",
       "      <td>63</td>\n",
       "      <td>other</td>\n",
       "      <td>100000</td>\n",
       "      <td>3</td>\n",
       "      <td>petrol</td>\n",
       "      <td>ford</td>\n",
       "      <td>yes</td>\n",
       "      <td>24195</td>\n",
       "      <td>0</td>\n",
       "      <td>23979</td>\n",
       "    </tr>\n",
       "    <tr>\n",
       "      <th>325691</th>\n",
       "      <td>2650</td>\n",
       "      <td>coupe</td>\n",
       "      <td>2002</td>\n",
       "      <td>manual</td>\n",
       "      <td>143</td>\n",
       "      <td>c_klasse</td>\n",
       "      <td>150000</td>\n",
       "      <td>10</td>\n",
       "      <td>petrol</td>\n",
       "      <td>mercedes_benz</td>\n",
       "      <td>no</td>\n",
       "      <td>24195</td>\n",
       "      <td>0</td>\n",
       "      <td>24034</td>\n",
       "    </tr>\n",
       "    <tr>\n",
       "      <th>236223</th>\n",
       "      <td>150</td>\n",
       "      <td>small</td>\n",
       "      <td>2000</td>\n",
       "      <td>manual</td>\n",
       "      <td>0</td>\n",
       "      <td>punto</td>\n",
       "      <td>150000</td>\n",
       "      <td>3</td>\n",
       "      <td>petrol</td>\n",
       "      <td>fiat</td>\n",
       "      <td>yes</td>\n",
       "      <td>24195</td>\n",
       "      <td>0</td>\n",
       "      <td>24003</td>\n",
       "    </tr>\n",
       "    <tr>\n",
       "      <th>85909</th>\n",
       "      <td>3200</td>\n",
       "      <td>wagon</td>\n",
       "      <td>1995</td>\n",
       "      <td>manual</td>\n",
       "      <td>193</td>\n",
       "      <td>3er</td>\n",
       "      <td>150000</td>\n",
       "      <td>12</td>\n",
       "      <td>petrol</td>\n",
       "      <td>bmw</td>\n",
       "      <td>NaN</td>\n",
       "      <td>24195</td>\n",
       "      <td>0</td>\n",
       "      <td>23952</td>\n",
       "    </tr>\n",
       "    <tr>\n",
       "      <th>110311</th>\n",
       "      <td>575</td>\n",
       "      <td>sedan</td>\n",
       "      <td>1999</td>\n",
       "      <td>auto</td>\n",
       "      <td>170</td>\n",
       "      <td>vectra</td>\n",
       "      <td>150000</td>\n",
       "      <td>4</td>\n",
       "      <td>petrol</td>\n",
       "      <td>opel</td>\n",
       "      <td>no</td>\n",
       "      <td>24195</td>\n",
       "      <td>0</td>\n",
       "      <td>23992</td>\n",
       "    </tr>\n",
       "    <tr>\n",
       "      <th>163801</th>\n",
       "      <td>12500</td>\n",
       "      <td>sedan</td>\n",
       "      <td>2006</td>\n",
       "      <td>manual</td>\n",
       "      <td>163</td>\n",
       "      <td>a4</td>\n",
       "      <td>125000</td>\n",
       "      <td>7</td>\n",
       "      <td>petrol</td>\n",
       "      <td>audi</td>\n",
       "      <td>no</td>\n",
       "      <td>24195</td>\n",
       "      <td>0</td>\n",
       "      <td>24079</td>\n",
       "    </tr>\n",
       "  </tbody>\n",
       "</table>\n",
       "</div>"
      ],
      "text/plain": [
       "        Price VehicleType  RegistrationYear Gearbox  Power        Model  \\\n",
       "index                                                                     \n",
       "181836  10950         bus              1991  manual     77  transporter   \n",
       "103847   1000       small              2001  manual     75         lupo   \n",
       "87592     300       other              1998  manual     63        other   \n",
       "325691   2650       coupe              2002  manual    143     c_klasse   \n",
       "236223    150       small              2000  manual      0        punto   \n",
       "85909    3200       wagon              1995  manual    193          3er   \n",
       "110311    575       sedan              1999    auto    170       vectra   \n",
       "163801  12500       sedan              2006  manual    163           a4   \n",
       "\n",
       "        Kilometer  RegistrationMonth  FuelType          Brand Repaired  \\\n",
       "index                                                                    \n",
       "181836     150000                 10  gasoline     volkswagen       no   \n",
       "103847     150000                  1    petrol     volkswagen       no   \n",
       "87592      100000                  3    petrol           ford      yes   \n",
       "325691     150000                 10    petrol  mercedes_benz       no   \n",
       "236223     150000                  3    petrol           fiat      yes   \n",
       "85909      150000                 12    petrol            bmw      NaN   \n",
       "110311     150000                  4    petrol           opel       no   \n",
       "163801     125000                  7    petrol           audi       no   \n",
       "\n",
       "        DateCreated  NumberOfPictures  RegistrationMonthTime  \n",
       "index                                                         \n",
       "181836        24195                 0                  23902  \n",
       "103847        24195                 0                  24013  \n",
       "87592         24195                 0                  23979  \n",
       "325691        24195                 0                  24034  \n",
       "236223        24195                 0                  24003  \n",
       "85909         24195                 0                  23952  \n",
       "110311        24195                 0                  23992  \n",
       "163801        24195                 0                  24079  "
      ]
     },
     "execution_count": 21,
     "metadata": {},
     "output_type": "execute_result"
    }
   ],
   "source": [
    "df.sample(8)"
   ]
  },
  {
   "cell_type": "markdown",
   "metadata": {},
   "source": [
    "Теперь отфильтруем строки по датам - RegistrationMonthTime должна быть меньше DateCreated."
   ]
  },
  {
   "cell_type": "code",
   "execution_count": 22,
   "metadata": {
    "scrolled": true
   },
   "outputs": [
    {
     "name": "stdout",
     "output_type": "stream",
     "text": [
      "В сете было 339474 строк\n",
      "В сете осталось 333565 строк\n",
      "удалено 5909 строк\n",
      "В процентах удалено 1.67 % строк\n"
     ]
    }
   ],
   "source": [
    "len_before = len(df)\n",
    "print('В сете было', len_before , 'строк')\n",
    "\n",
    "df = df.loc[df['RegistrationMonthTime']<df['DateCreated']]\n",
    "\n",
    "len_after = len(df)\n",
    "print('В сете осталось', len_after, 'строк\\nудалено', len_before - len_after, 'строк\\nВ процентах удалено',\\\n",
    "     round((len_before - len_after)*100/len_df, 2), '% строк')"
   ]
  },
  {
   "cell_type": "markdown",
   "metadata": {},
   "source": [
    "Оставим столбец с годом регистрации - неправильные значения мы отфильтровали, оставляем более удобный вид данных."
   ]
  },
  {
   "cell_type": "code",
   "execution_count": 23,
   "metadata": {},
   "outputs": [],
   "source": [
    "df = df.drop(['RegistrationMonthTime', 'RegistrationMonth', 'DateCreated'], axis='columns')"
   ]
  },
  {
   "cell_type": "markdown",
   "metadata": {},
   "source": [
    "Проанализируем значения в других столбцах и начнём с NumberOfPictures, потому что во всех сэмплах видим нулевые значения, привлекает внимание."
   ]
  },
  {
   "cell_type": "code",
   "execution_count": 24,
   "metadata": {},
   "outputs": [
    {
     "data": {
      "text/plain": [
       "array([0])"
      ]
     },
     "execution_count": 24,
     "metadata": {},
     "output_type": "execute_result"
    }
   ],
   "source": [
    "df['NumberOfPictures'].unique()"
   ]
  },
  {
   "cell_type": "markdown",
   "metadata": {},
   "source": [
    "Колонка \"NumberOfPictures\" содержит только одно значение - '0'. Не повлияет на итог, удаляем столбец.\n"
   ]
  },
  {
   "cell_type": "code",
   "execution_count": 25,
   "metadata": {},
   "outputs": [],
   "source": [
    "df = df.drop(['NumberOfPictures'], axis='columns')"
   ]
  },
  {
   "cell_type": "markdown",
   "metadata": {},
   "source": [
    "#### Числовые параметры Price, Power, Kilometer\n"
   ]
  },
  {
   "cell_type": "code",
   "execution_count": 26,
   "metadata": {
    "scrolled": true
   },
   "outputs": [
    {
     "data": {
      "text/html": [
       "<div>\n",
       "<style scoped>\n",
       "    .dataframe tbody tr th:only-of-type {\n",
       "        vertical-align: middle;\n",
       "    }\n",
       "\n",
       "    .dataframe tbody tr th {\n",
       "        vertical-align: top;\n",
       "    }\n",
       "\n",
       "    .dataframe thead th {\n",
       "        text-align: right;\n",
       "    }\n",
       "</style>\n",
       "<table border=\"1\" class=\"dataframe\">\n",
       "  <thead>\n",
       "    <tr style=\"text-align: right;\">\n",
       "      <th></th>\n",
       "      <th>Price</th>\n",
       "      <th>VehicleType</th>\n",
       "      <th>RegistrationYear</th>\n",
       "      <th>Gearbox</th>\n",
       "      <th>Power</th>\n",
       "      <th>Model</th>\n",
       "      <th>Kilometer</th>\n",
       "      <th>FuelType</th>\n",
       "      <th>Brand</th>\n",
       "      <th>Repaired</th>\n",
       "    </tr>\n",
       "    <tr>\n",
       "      <th>index</th>\n",
       "      <th></th>\n",
       "      <th></th>\n",
       "      <th></th>\n",
       "      <th></th>\n",
       "      <th></th>\n",
       "      <th></th>\n",
       "      <th></th>\n",
       "      <th></th>\n",
       "      <th></th>\n",
       "      <th></th>\n",
       "    </tr>\n",
       "  </thead>\n",
       "  <tbody>\n",
       "    <tr>\n",
       "      <th>60886</th>\n",
       "      <td>5500</td>\n",
       "      <td>sedan</td>\n",
       "      <td>2003</td>\n",
       "      <td>manual</td>\n",
       "      <td>170</td>\n",
       "      <td>5er</td>\n",
       "      <td>150000</td>\n",
       "      <td>petrol</td>\n",
       "      <td>bmw</td>\n",
       "      <td>no</td>\n",
       "    </tr>\n",
       "    <tr>\n",
       "      <th>131447</th>\n",
       "      <td>0</td>\n",
       "      <td>small</td>\n",
       "      <td>1998</td>\n",
       "      <td>manual</td>\n",
       "      <td>41</td>\n",
       "      <td>cuore</td>\n",
       "      <td>150000</td>\n",
       "      <td>petrol</td>\n",
       "      <td>daihatsu</td>\n",
       "      <td>yes</td>\n",
       "    </tr>\n",
       "    <tr>\n",
       "      <th>170675</th>\n",
       "      <td>8200</td>\n",
       "      <td>small</td>\n",
       "      <td>2013</td>\n",
       "      <td>manual</td>\n",
       "      <td>87</td>\n",
       "      <td>corsa</td>\n",
       "      <td>20000</td>\n",
       "      <td>petrol</td>\n",
       "      <td>opel</td>\n",
       "      <td>no</td>\n",
       "    </tr>\n",
       "    <tr>\n",
       "      <th>328043</th>\n",
       "      <td>0</td>\n",
       "      <td>NaN</td>\n",
       "      <td>2000</td>\n",
       "      <td>NaN</td>\n",
       "      <td>0</td>\n",
       "      <td>ibiza</td>\n",
       "      <td>150000</td>\n",
       "      <td>NaN</td>\n",
       "      <td>seat</td>\n",
       "      <td>NaN</td>\n",
       "    </tr>\n",
       "    <tr>\n",
       "      <th>89178</th>\n",
       "      <td>2000</td>\n",
       "      <td>sedan</td>\n",
       "      <td>1999</td>\n",
       "      <td>manual</td>\n",
       "      <td>101</td>\n",
       "      <td>focus</td>\n",
       "      <td>150000</td>\n",
       "      <td>petrol</td>\n",
       "      <td>ford</td>\n",
       "      <td>NaN</td>\n",
       "    </tr>\n",
       "    <tr>\n",
       "      <th>53811</th>\n",
       "      <td>2000</td>\n",
       "      <td>small</td>\n",
       "      <td>2001</td>\n",
       "      <td>manual</td>\n",
       "      <td>115</td>\n",
       "      <td>NaN</td>\n",
       "      <td>90000</td>\n",
       "      <td>petrol</td>\n",
       "      <td>volkswagen</td>\n",
       "      <td>NaN</td>\n",
       "    </tr>\n",
       "    <tr>\n",
       "      <th>323435</th>\n",
       "      <td>12250</td>\n",
       "      <td>sedan</td>\n",
       "      <td>2012</td>\n",
       "      <td>manual</td>\n",
       "      <td>140</td>\n",
       "      <td>astra</td>\n",
       "      <td>50000</td>\n",
       "      <td>petrol</td>\n",
       "      <td>opel</td>\n",
       "      <td>no</td>\n",
       "    </tr>\n",
       "    <tr>\n",
       "      <th>58692</th>\n",
       "      <td>15500</td>\n",
       "      <td>wagon</td>\n",
       "      <td>2012</td>\n",
       "      <td>auto</td>\n",
       "      <td>240</td>\n",
       "      <td>c5</td>\n",
       "      <td>150000</td>\n",
       "      <td>gasoline</td>\n",
       "      <td>citroen</td>\n",
       "      <td>NaN</td>\n",
       "    </tr>\n",
       "  </tbody>\n",
       "</table>\n",
       "</div>"
      ],
      "text/plain": [
       "        Price VehicleType  RegistrationYear Gearbox  Power  Model  Kilometer  \\\n",
       "index                                                                          \n",
       "60886    5500       sedan              2003  manual    170    5er     150000   \n",
       "131447      0       small              1998  manual     41  cuore     150000   \n",
       "170675   8200       small              2013  manual     87  corsa      20000   \n",
       "328043      0         NaN              2000     NaN      0  ibiza     150000   \n",
       "89178    2000       sedan              1999  manual    101  focus     150000   \n",
       "53811    2000       small              2001  manual    115    NaN      90000   \n",
       "323435  12250       sedan              2012  manual    140  astra      50000   \n",
       "58692   15500       wagon              2012    auto    240     c5     150000   \n",
       "\n",
       "        FuelType       Brand Repaired  \n",
       "index                                  \n",
       "60886     petrol         bmw       no  \n",
       "131447    petrol    daihatsu      yes  \n",
       "170675    petrol        opel       no  \n",
       "328043       NaN        seat      NaN  \n",
       "89178     petrol        ford      NaN  \n",
       "53811     petrol  volkswagen      NaN  \n",
       "323435    petrol        opel       no  \n",
       "58692   gasoline     citroen      NaN  "
      ]
     },
     "execution_count": 26,
     "metadata": {},
     "output_type": "execute_result"
    }
   ],
   "source": [
    "df.sample(8)"
   ]
  },
  {
   "cell_type": "code",
   "execution_count": 27,
   "metadata": {
    "scrolled": true
   },
   "outputs": [
    {
     "data": {
      "text/plain": [
       "Index(['Price', 'VehicleType', 'RegistrationYear', 'Gearbox', 'Power', 'Model',\n",
       "       'Kilometer', 'FuelType', 'Brand', 'Repaired'],\n",
       "      dtype='object')"
      ]
     },
     "execution_count": 27,
     "metadata": {},
     "output_type": "execute_result"
    }
   ],
   "source": [
    "columns = df.columns\n",
    "columns"
   ]
  },
  {
   "cell_type": "markdown",
   "metadata": {},
   "source": [
    "Беру те, которые мы ещё не обрабатывали."
   ]
  },
  {
   "cell_type": "code",
   "execution_count": 28,
   "metadata": {},
   "outputs": [],
   "source": [
    "columns_numeric = ['Price', 'Power', 'Kilometer']"
   ]
  },
  {
   "cell_type": "code",
   "execution_count": 29,
   "metadata": {
    "scrolled": true
   },
   "outputs": [
    {
     "data": {
      "text/html": [
       "<div>\n",
       "<style scoped>\n",
       "    .dataframe tbody tr th:only-of-type {\n",
       "        vertical-align: middle;\n",
       "    }\n",
       "\n",
       "    .dataframe tbody tr th {\n",
       "        vertical-align: top;\n",
       "    }\n",
       "\n",
       "    .dataframe thead th {\n",
       "        text-align: right;\n",
       "    }\n",
       "</style>\n",
       "<table border=\"1\" class=\"dataframe\">\n",
       "  <thead>\n",
       "    <tr style=\"text-align: right;\">\n",
       "      <th></th>\n",
       "      <th>Price</th>\n",
       "      <th>Power</th>\n",
       "      <th>Kilometer</th>\n",
       "    </tr>\n",
       "  </thead>\n",
       "  <tbody>\n",
       "    <tr>\n",
       "      <th>count</th>\n",
       "      <td>333565.000000</td>\n",
       "      <td>333565.000000</td>\n",
       "      <td>333565.000000</td>\n",
       "    </tr>\n",
       "    <tr>\n",
       "      <th>mean</th>\n",
       "      <td>4506.497336</td>\n",
       "      <td>111.493982</td>\n",
       "      <td>128044.399143</td>\n",
       "    </tr>\n",
       "    <tr>\n",
       "      <th>std</th>\n",
       "      <td>4555.860851</td>\n",
       "      <td>183.770938</td>\n",
       "      <td>37853.864270</td>\n",
       "    </tr>\n",
       "    <tr>\n",
       "      <th>min</th>\n",
       "      <td>0.000000</td>\n",
       "      <td>0.000000</td>\n",
       "      <td>5000.000000</td>\n",
       "    </tr>\n",
       "    <tr>\n",
       "      <th>25%</th>\n",
       "      <td>1100.000000</td>\n",
       "      <td>69.000000</td>\n",
       "      <td>125000.000000</td>\n",
       "    </tr>\n",
       "    <tr>\n",
       "      <th>50%</th>\n",
       "      <td>2800.000000</td>\n",
       "      <td>105.000000</td>\n",
       "      <td>150000.000000</td>\n",
       "    </tr>\n",
       "    <tr>\n",
       "      <th>75%</th>\n",
       "      <td>6500.000000</td>\n",
       "      <td>143.000000</td>\n",
       "      <td>150000.000000</td>\n",
       "    </tr>\n",
       "    <tr>\n",
       "      <th>max</th>\n",
       "      <td>20000.000000</td>\n",
       "      <td>20000.000000</td>\n",
       "      <td>150000.000000</td>\n",
       "    </tr>\n",
       "  </tbody>\n",
       "</table>\n",
       "</div>"
      ],
      "text/plain": [
       "               Price          Power      Kilometer\n",
       "count  333565.000000  333565.000000  333565.000000\n",
       "mean     4506.497336     111.493982  128044.399143\n",
       "std      4555.860851     183.770938   37853.864270\n",
       "min         0.000000       0.000000    5000.000000\n",
       "25%      1100.000000      69.000000  125000.000000\n",
       "50%      2800.000000     105.000000  150000.000000\n",
       "75%      6500.000000     143.000000  150000.000000\n",
       "max     20000.000000   20000.000000  150000.000000"
      ]
     },
     "execution_count": 29,
     "metadata": {},
     "output_type": "execute_result"
    }
   ],
   "source": [
    "df[columns_numeric].describe()"
   ]
  },
  {
   "cell_type": "markdown",
   "metadata": {},
   "source": [
    "Обратим внимание на то, что пробег имеет медиану такую, же как и максимальное значение. Посмотрим, сколько авто с таким большим пробегом."
   ]
  },
  {
   "cell_type": "markdown",
   "metadata": {},
   "source": [
    "##### Kilometer"
   ]
  },
  {
   "cell_type": "code",
   "execution_count": 30,
   "metadata": {
    "scrolled": true
   },
   "outputs": [
    {
     "data": {
      "text/plain": [
       "Kilometer\n",
       "5000        5624\n",
       "10000       1119\n",
       "20000       3766\n",
       "30000       4275\n",
       "40000       4780\n",
       "50000       6015\n",
       "60000       7200\n",
       "70000       8276\n",
       "80000       9638\n",
       "90000      11056\n",
       "100000     14193\n",
       "125000     34554\n",
       "150000    223069\n",
       "Name: Kilometer, dtype: int64"
      ]
     },
     "execution_count": 30,
     "metadata": {},
     "output_type": "execute_result"
    }
   ],
   "source": [
    "df.groupby('Kilometer')['Kilometer'].count()"
   ]
  },
  {
   "cell_type": "code",
   "execution_count": 31,
   "metadata": {
    "scrolled": true
   },
   "outputs": [
    {
     "name": "stdout",
     "output_type": "stream",
     "text": [
      "Процент строк в сете с пробегом 150000 км - 62.95\n"
     ]
    }
   ],
   "source": [
    "print('Процент строк в сете с пробегом 150000 км -',round(len(df.loc[df['Kilometer']==150000])*100/len_df, 2))"
   ]
  },
  {
   "cell_type": "markdown",
   "metadata": {},
   "source": [
    "То есть, больше половины автомобилей указывают пробег как одно значение. Видимо, вариации значений выше 150000 не имеет особого смысла множить."
   ]
  },
  {
   "cell_type": "markdown",
   "metadata": {},
   "source": [
    "Перезапишем для кодировки перечень числовых и категориальных характеристик - перенесём километры в категории и уберём цену, потому что она является целевым признаком."
   ]
  },
  {
   "cell_type": "code",
   "execution_count": 32,
   "metadata": {},
   "outputs": [],
   "source": [
    "columns_numeric = ['Power'] \n",
    "\n",
    "columns_cat = ['VehicleType', 'RegistrationYear', 'Gearbox', 'Model', 'Kilometer', 'FuelType', 'Brand', 'Repaired'] "
   ]
  },
  {
   "cell_type": "markdown",
   "metadata": {},
   "source": [
    "##### Power"
   ]
  },
  {
   "cell_type": "code",
   "execution_count": 33,
   "metadata": {
    "scrolled": false
   },
   "outputs": [
    {
     "data": {
      "image/png": "[encoded data removed]",
      "text/plain": [
       "<Figure size 1152x720 with 2 Axes>"
      ]
     },
     "metadata": {
      "needs_background": "light"
     },
     "output_type": "display_data"
    }
   ],
   "source": [
    "f, (ax1, ax2) = plt.subplots(2,1)\n",
    "sns.boxplot(data=df['Power'], orient='horizontal', ax=ax1)\n",
    "ax1.set(xlabel='Мощность, л.с.', title='Разброс значений мощностей двигателей в л.с.')\n",
    "ax1.grid(True)\n",
    "sns.boxplot(data=df['Power'], orient='horizontal', ax=ax2)\n",
    "ax2.set(xlabel='Мощность, л.с.', xlim=(-50,1600),\\\n",
    "        title='Разброс значений мощностей двигателей в л.с. (диапазон от 0 л.с. до 1000 л.с.)')\n",
    "ax2.grid(True)\n",
    "f.set_figwidth(16)\n",
    "f.set_figheight(10)"
   ]
  },
  {
   "cell_type": "markdown",
   "metadata": {},
   "source": [
    "Cамое большое значение - 1600, самое маленькое - 0,75 за всю историю автомобилестроения, как говорит поиск в интернете.\n",
    "\n",
    "\n",
    "Можем изменить значения больше 10000 на два порядка, предположив, что каким-то образом оказалась пропущена запятая для отделения целой части."
   ]
  },
  {
   "cell_type": "code",
   "execution_count": 34,
   "metadata": {},
   "outputs": [],
   "source": [
    "df.loc[df['Power']>=10000, 'Power'] = df.loc[df['Power']>=10000, 'Power'] /100"
   ]
  },
  {
   "cell_type": "markdown",
   "metadata": {},
   "source": [
    "Посмотрим, какие бренды представлены в значениях больше 400 л. с."
   ]
  },
  {
   "cell_type": "code",
   "execution_count": 35,
   "metadata": {},
   "outputs": [],
   "source": [
    "brand_power = df.loc[df['Power']>400].groupby('Brand')['Power'].count()"
   ]
  },
  {
   "cell_type": "code",
   "execution_count": 36,
   "metadata": {
    "scrolled": false
   },
   "outputs": [
    {
     "data": {
      "text/plain": [
       "Brand\n",
       "audi              132\n",
       "mercedes_benz      96\n",
       "volkswagen         93\n",
       "bmw                63\n",
       "opel               46\n",
       "porsche            43\n",
       "ford               28\n",
       "renault            21\n",
       "fiat               13\n",
       "chevrolet          12\n",
       "citroen            12\n",
       "sonstige_autos     11\n",
       "seat               10\n",
       "nissan              8\n",
       "peugeot             6\n",
       "toyota              5\n",
       "lancia              4\n",
       "smart               4\n",
       "chrysler            4\n",
       "mini                3\n",
       "jaguar              3\n",
       "honda               3\n",
       "volvo               3\n",
       "mitsubishi          2\n",
       "mazda               2\n",
       "jeep                2\n",
       "skoda               2\n",
       "suzuki              2\n",
       "kia                 1\n",
       "hyundai             1\n",
       "subaru              1\n",
       "daewoo              1\n",
       "Name: Power, dtype: int64"
      ]
     },
     "execution_count": 36,
     "metadata": {},
     "output_type": "execute_result"
    }
   ],
   "source": [
    "brand_power.sort_values(ascending=False)"
   ]
  },
  {
   "cell_type": "markdown",
   "metadata": {},
   "source": [
    "    audi в гугле имеет максимум 500 лс на автомобилях массового производства\n",
    "    mercedes_benz - 730 лс\n",
    "    volkswagen - 400 лс\n",
    "    bmw - 632 лс\n",
    "    \n",
    "То есть, за максимум можно взять 730 лс, а остальное заполнить в соответствии со средним значением для модели"
   ]
  },
  {
   "cell_type": "code",
   "execution_count": 37,
   "metadata": {},
   "outputs": [],
   "source": [
    "df.loc[df['Power']>730,'Power'] = np.nan"
   ]
  },
  {
   "cell_type": "code",
   "execution_count": 38,
   "metadata": {},
   "outputs": [],
   "source": [
    "df[\"Power\"] = df[\"Power\"].fillna(df.groupby(\"Model\")[\"Power\"].transform(\"mean\"))"
   ]
  },
  {
   "cell_type": "code",
   "execution_count": 39,
   "metadata": {
    "scrolled": true
   },
   "outputs": [
    {
     "data": {
      "text/plain": [
       "33"
      ]
     },
     "execution_count": 39,
     "metadata": {},
     "output_type": "execute_result"
    }
   ],
   "source": [
    "df[\"Power\"].isna().sum()"
   ]
  },
  {
   "cell_type": "code",
   "execution_count": 40,
   "metadata": {},
   "outputs": [
    {
     "data": {
      "text/html": [
       "<div>\n",
       "<style scoped>\n",
       "    .dataframe tbody tr th:only-of-type {\n",
       "        vertical-align: middle;\n",
       "    }\n",
       "\n",
       "    .dataframe tbody tr th {\n",
       "        vertical-align: top;\n",
       "    }\n",
       "\n",
       "    .dataframe thead th {\n",
       "        text-align: right;\n",
       "    }\n",
       "</style>\n",
       "<table border=\"1\" class=\"dataframe\">\n",
       "  <thead>\n",
       "    <tr style=\"text-align: right;\">\n",
       "      <th></th>\n",
       "      <th>Price</th>\n",
       "      <th>VehicleType</th>\n",
       "      <th>RegistrationYear</th>\n",
       "      <th>Gearbox</th>\n",
       "      <th>Power</th>\n",
       "      <th>Model</th>\n",
       "      <th>Kilometer</th>\n",
       "      <th>FuelType</th>\n",
       "      <th>Brand</th>\n",
       "      <th>Repaired</th>\n",
       "    </tr>\n",
       "    <tr>\n",
       "      <th>index</th>\n",
       "      <th></th>\n",
       "      <th></th>\n",
       "      <th></th>\n",
       "      <th></th>\n",
       "      <th></th>\n",
       "      <th></th>\n",
       "      <th></th>\n",
       "      <th></th>\n",
       "      <th></th>\n",
       "      <th></th>\n",
       "    </tr>\n",
       "  </thead>\n",
       "  <tbody>\n",
       "    <tr>\n",
       "      <th>7720</th>\n",
       "      <td>1500</td>\n",
       "      <td>small</td>\n",
       "      <td>2000</td>\n",
       "      <td>manual</td>\n",
       "      <td>NaN</td>\n",
       "      <td>NaN</td>\n",
       "      <td>150000</td>\n",
       "      <td>petrol</td>\n",
       "      <td>honda</td>\n",
       "      <td>NaN</td>\n",
       "    </tr>\n",
       "    <tr>\n",
       "      <th>21609</th>\n",
       "      <td>200</td>\n",
       "      <td>small</td>\n",
       "      <td>2000</td>\n",
       "      <td>manual</td>\n",
       "      <td>NaN</td>\n",
       "      <td>NaN</td>\n",
       "      <td>125000</td>\n",
       "      <td>petrol</td>\n",
       "      <td>lancia</td>\n",
       "      <td>NaN</td>\n",
       "    </tr>\n",
       "    <tr>\n",
       "      <th>24591</th>\n",
       "      <td>1499</td>\n",
       "      <td>sedan</td>\n",
       "      <td>1998</td>\n",
       "      <td>manual</td>\n",
       "      <td>NaN</td>\n",
       "      <td>NaN</td>\n",
       "      <td>100000</td>\n",
       "      <td>petrol</td>\n",
       "      <td>opel</td>\n",
       "      <td>NaN</td>\n",
       "    </tr>\n",
       "    <tr>\n",
       "      <th>46073</th>\n",
       "      <td>0</td>\n",
       "      <td>sedan</td>\n",
       "      <td>2002</td>\n",
       "      <td>manual</td>\n",
       "      <td>NaN</td>\n",
       "      <td>NaN</td>\n",
       "      <td>150000</td>\n",
       "      <td>gasoline</td>\n",
       "      <td>seat</td>\n",
       "      <td>no</td>\n",
       "    </tr>\n",
       "    <tr>\n",
       "      <th>46941</th>\n",
       "      <td>15000</td>\n",
       "      <td>coupe</td>\n",
       "      <td>2013</td>\n",
       "      <td>auto</td>\n",
       "      <td>NaN</td>\n",
       "      <td>NaN</td>\n",
       "      <td>10000</td>\n",
       "      <td>petrol</td>\n",
       "      <td>sonstige_autos</td>\n",
       "      <td>no</td>\n",
       "    </tr>\n",
       "    <tr>\n",
       "      <th>56059</th>\n",
       "      <td>2450</td>\n",
       "      <td>bus</td>\n",
       "      <td>1992</td>\n",
       "      <td>manual</td>\n",
       "      <td>NaN</td>\n",
       "      <td>NaN</td>\n",
       "      <td>150000</td>\n",
       "      <td>NaN</td>\n",
       "      <td>volkswagen</td>\n",
       "      <td>NaN</td>\n",
       "    </tr>\n",
       "    <tr>\n",
       "      <th>59887</th>\n",
       "      <td>300</td>\n",
       "      <td>sedan</td>\n",
       "      <td>2004</td>\n",
       "      <td>manual</td>\n",
       "      <td>NaN</td>\n",
       "      <td>NaN</td>\n",
       "      <td>150000</td>\n",
       "      <td>NaN</td>\n",
       "      <td>ford</td>\n",
       "      <td>yes</td>\n",
       "    </tr>\n",
       "    <tr>\n",
       "      <th>69741</th>\n",
       "      <td>500</td>\n",
       "      <td>small</td>\n",
       "      <td>1997</td>\n",
       "      <td>manual</td>\n",
       "      <td>NaN</td>\n",
       "      <td>NaN</td>\n",
       "      <td>150000</td>\n",
       "      <td>NaN</td>\n",
       "      <td>audi</td>\n",
       "      <td>NaN</td>\n",
       "    </tr>\n",
       "    <tr>\n",
       "      <th>91751</th>\n",
       "      <td>4500</td>\n",
       "      <td>suv</td>\n",
       "      <td>2004</td>\n",
       "      <td>auto</td>\n",
       "      <td>NaN</td>\n",
       "      <td>NaN</td>\n",
       "      <td>125000</td>\n",
       "      <td>petrol</td>\n",
       "      <td>nissan</td>\n",
       "      <td>yes</td>\n",
       "    </tr>\n",
       "    <tr>\n",
       "      <th>104463</th>\n",
       "      <td>11399</td>\n",
       "      <td>NaN</td>\n",
       "      <td>1995</td>\n",
       "      <td>manual</td>\n",
       "      <td>NaN</td>\n",
       "      <td>NaN</td>\n",
       "      <td>150000</td>\n",
       "      <td>gasoline</td>\n",
       "      <td>bmw</td>\n",
       "      <td>NaN</td>\n",
       "    </tr>\n",
       "    <tr>\n",
       "      <th>117936</th>\n",
       "      <td>3999</td>\n",
       "      <td>sedan</td>\n",
       "      <td>2000</td>\n",
       "      <td>manual</td>\n",
       "      <td>NaN</td>\n",
       "      <td>NaN</td>\n",
       "      <td>150000</td>\n",
       "      <td>petrol</td>\n",
       "      <td>audi</td>\n",
       "      <td>no</td>\n",
       "    </tr>\n",
       "    <tr>\n",
       "      <th>121250</th>\n",
       "      <td>1990</td>\n",
       "      <td>convertible</td>\n",
       "      <td>1998</td>\n",
       "      <td>manual</td>\n",
       "      <td>NaN</td>\n",
       "      <td>NaN</td>\n",
       "      <td>150000</td>\n",
       "      <td>petrol</td>\n",
       "      <td>volkswagen</td>\n",
       "      <td>no</td>\n",
       "    </tr>\n",
       "    <tr>\n",
       "      <th>122890</th>\n",
       "      <td>11000</td>\n",
       "      <td>coupe</td>\n",
       "      <td>2002</td>\n",
       "      <td>manual</td>\n",
       "      <td>NaN</td>\n",
       "      <td>NaN</td>\n",
       "      <td>150000</td>\n",
       "      <td>NaN</td>\n",
       "      <td>opel</td>\n",
       "      <td>NaN</td>\n",
       "    </tr>\n",
       "    <tr>\n",
       "      <th>145154</th>\n",
       "      <td>1200</td>\n",
       "      <td>sedan</td>\n",
       "      <td>2000</td>\n",
       "      <td>manual</td>\n",
       "      <td>NaN</td>\n",
       "      <td>NaN</td>\n",
       "      <td>150000</td>\n",
       "      <td>petrol</td>\n",
       "      <td>bmw</td>\n",
       "      <td>NaN</td>\n",
       "    </tr>\n",
       "    <tr>\n",
       "      <th>146238</th>\n",
       "      <td>1500</td>\n",
       "      <td>sedan</td>\n",
       "      <td>1996</td>\n",
       "      <td>manual</td>\n",
       "      <td>NaN</td>\n",
       "      <td>NaN</td>\n",
       "      <td>150000</td>\n",
       "      <td>petrol</td>\n",
       "      <td>bmw</td>\n",
       "      <td>NaN</td>\n",
       "    </tr>\n",
       "    <tr>\n",
       "      <th>153939</th>\n",
       "      <td>500</td>\n",
       "      <td>sedan</td>\n",
       "      <td>1994</td>\n",
       "      <td>manual</td>\n",
       "      <td>NaN</td>\n",
       "      <td>NaN</td>\n",
       "      <td>150000</td>\n",
       "      <td>petrol</td>\n",
       "      <td>bmw</td>\n",
       "      <td>NaN</td>\n",
       "    </tr>\n",
       "    <tr>\n",
       "      <th>165900</th>\n",
       "      <td>0</td>\n",
       "      <td>other</td>\n",
       "      <td>1990</td>\n",
       "      <td>manual</td>\n",
       "      <td>NaN</td>\n",
       "      <td>NaN</td>\n",
       "      <td>150000</td>\n",
       "      <td>NaN</td>\n",
       "      <td>sonstige_autos</td>\n",
       "      <td>no</td>\n",
       "    </tr>\n",
       "    <tr>\n",
       "      <th>192034</th>\n",
       "      <td>3500</td>\n",
       "      <td>wagon</td>\n",
       "      <td>2003</td>\n",
       "      <td>manual</td>\n",
       "      <td>NaN</td>\n",
       "      <td>NaN</td>\n",
       "      <td>150000</td>\n",
       "      <td>gasoline</td>\n",
       "      <td>volkswagen</td>\n",
       "      <td>no</td>\n",
       "    </tr>\n",
       "    <tr>\n",
       "      <th>201787</th>\n",
       "      <td>0</td>\n",
       "      <td>sedan</td>\n",
       "      <td>1991</td>\n",
       "      <td>manual</td>\n",
       "      <td>NaN</td>\n",
       "      <td>NaN</td>\n",
       "      <td>5000</td>\n",
       "      <td>petrol</td>\n",
       "      <td>bmw</td>\n",
       "      <td>NaN</td>\n",
       "    </tr>\n",
       "    <tr>\n",
       "      <th>205634</th>\n",
       "      <td>250</td>\n",
       "      <td>sedan</td>\n",
       "      <td>1996</td>\n",
       "      <td>manual</td>\n",
       "      <td>NaN</td>\n",
       "      <td>NaN</td>\n",
       "      <td>150000</td>\n",
       "      <td>petrol</td>\n",
       "      <td>ford</td>\n",
       "      <td>yes</td>\n",
       "    </tr>\n",
       "    <tr>\n",
       "      <th>221057</th>\n",
       "      <td>11000</td>\n",
       "      <td>wagon</td>\n",
       "      <td>2010</td>\n",
       "      <td>manual</td>\n",
       "      <td>NaN</td>\n",
       "      <td>NaN</td>\n",
       "      <td>70000</td>\n",
       "      <td>petrol</td>\n",
       "      <td>opel</td>\n",
       "      <td>NaN</td>\n",
       "    </tr>\n",
       "    <tr>\n",
       "      <th>231712</th>\n",
       "      <td>1350</td>\n",
       "      <td>sedan</td>\n",
       "      <td>2000</td>\n",
       "      <td>manual</td>\n",
       "      <td>NaN</td>\n",
       "      <td>NaN</td>\n",
       "      <td>150000</td>\n",
       "      <td>NaN</td>\n",
       "      <td>volkswagen</td>\n",
       "      <td>yes</td>\n",
       "    </tr>\n",
       "    <tr>\n",
       "      <th>233383</th>\n",
       "      <td>300</td>\n",
       "      <td>other</td>\n",
       "      <td>2002</td>\n",
       "      <td>manual</td>\n",
       "      <td>NaN</td>\n",
       "      <td>NaN</td>\n",
       "      <td>5000</td>\n",
       "      <td>petrol</td>\n",
       "      <td>sonstige_autos</td>\n",
       "      <td>no</td>\n",
       "    </tr>\n",
       "    <tr>\n",
       "      <th>259983</th>\n",
       "      <td>0</td>\n",
       "      <td>NaN</td>\n",
       "      <td>2000</td>\n",
       "      <td>NaN</td>\n",
       "      <td>NaN</td>\n",
       "      <td>NaN</td>\n",
       "      <td>150000</td>\n",
       "      <td>NaN</td>\n",
       "      <td>sonstige_autos</td>\n",
       "      <td>NaN</td>\n",
       "    </tr>\n",
       "    <tr>\n",
       "      <th>279932</th>\n",
       "      <td>1999</td>\n",
       "      <td>small</td>\n",
       "      <td>2004</td>\n",
       "      <td>manual</td>\n",
       "      <td>NaN</td>\n",
       "      <td>NaN</td>\n",
       "      <td>150000</td>\n",
       "      <td>petrol</td>\n",
       "      <td>renault</td>\n",
       "      <td>NaN</td>\n",
       "    </tr>\n",
       "    <tr>\n",
       "      <th>289174</th>\n",
       "      <td>7799</td>\n",
       "      <td>NaN</td>\n",
       "      <td>2004</td>\n",
       "      <td>auto</td>\n",
       "      <td>NaN</td>\n",
       "      <td>NaN</td>\n",
       "      <td>150000</td>\n",
       "      <td>petrol</td>\n",
       "      <td>mercedes_benz</td>\n",
       "      <td>yes</td>\n",
       "    </tr>\n",
       "    <tr>\n",
       "      <th>290879</th>\n",
       "      <td>899</td>\n",
       "      <td>suv</td>\n",
       "      <td>1959</td>\n",
       "      <td>manual</td>\n",
       "      <td>NaN</td>\n",
       "      <td>NaN</td>\n",
       "      <td>100000</td>\n",
       "      <td>petrol</td>\n",
       "      <td>sonstige_autos</td>\n",
       "      <td>no</td>\n",
       "    </tr>\n",
       "    <tr>\n",
       "      <th>293372</th>\n",
       "      <td>5</td>\n",
       "      <td>bus</td>\n",
       "      <td>2004</td>\n",
       "      <td>manual</td>\n",
       "      <td>NaN</td>\n",
       "      <td>NaN</td>\n",
       "      <td>150000</td>\n",
       "      <td>NaN</td>\n",
       "      <td>volkswagen</td>\n",
       "      <td>no</td>\n",
       "    </tr>\n",
       "    <tr>\n",
       "      <th>296686</th>\n",
       "      <td>3500</td>\n",
       "      <td>wagon</td>\n",
       "      <td>2002</td>\n",
       "      <td>manual</td>\n",
       "      <td>NaN</td>\n",
       "      <td>NaN</td>\n",
       "      <td>150000</td>\n",
       "      <td>gasoline</td>\n",
       "      <td>audi</td>\n",
       "      <td>no</td>\n",
       "    </tr>\n",
       "    <tr>\n",
       "      <th>309245</th>\n",
       "      <td>950</td>\n",
       "      <td>small</td>\n",
       "      <td>1998</td>\n",
       "      <td>manual</td>\n",
       "      <td>NaN</td>\n",
       "      <td>NaN</td>\n",
       "      <td>150000</td>\n",
       "      <td>petrol</td>\n",
       "      <td>volkswagen</td>\n",
       "      <td>no</td>\n",
       "    </tr>\n",
       "    <tr>\n",
       "      <th>319576</th>\n",
       "      <td>2300</td>\n",
       "      <td>sedan</td>\n",
       "      <td>1992</td>\n",
       "      <td>NaN</td>\n",
       "      <td>NaN</td>\n",
       "      <td>NaN</td>\n",
       "      <td>150000</td>\n",
       "      <td>petrol</td>\n",
       "      <td>bmw</td>\n",
       "      <td>no</td>\n",
       "    </tr>\n",
       "    <tr>\n",
       "      <th>320442</th>\n",
       "      <td>3400</td>\n",
       "      <td>small</td>\n",
       "      <td>2007</td>\n",
       "      <td>NaN</td>\n",
       "      <td>NaN</td>\n",
       "      <td>NaN</td>\n",
       "      <td>125000</td>\n",
       "      <td>petrol</td>\n",
       "      <td>citroen</td>\n",
       "      <td>no</td>\n",
       "    </tr>\n",
       "    <tr>\n",
       "      <th>321246</th>\n",
       "      <td>650</td>\n",
       "      <td>suv</td>\n",
       "      <td>1996</td>\n",
       "      <td>manual</td>\n",
       "      <td>NaN</td>\n",
       "      <td>NaN</td>\n",
       "      <td>150000</td>\n",
       "      <td>petrol</td>\n",
       "      <td>nissan</td>\n",
       "      <td>no</td>\n",
       "    </tr>\n",
       "  </tbody>\n",
       "</table>\n",
       "</div>"
      ],
      "text/plain": [
       "        Price  VehicleType  RegistrationYear Gearbox  Power Model  Kilometer  \\\n",
       "index                                                                          \n",
       "7720     1500        small              2000  manual    NaN   NaN     150000   \n",
       "21609     200        small              2000  manual    NaN   NaN     125000   \n",
       "24591    1499        sedan              1998  manual    NaN   NaN     100000   \n",
       "46073       0        sedan              2002  manual    NaN   NaN     150000   \n",
       "46941   15000        coupe              2013    auto    NaN   NaN      10000   \n",
       "56059    2450          bus              1992  manual    NaN   NaN     150000   \n",
       "59887     300        sedan              2004  manual    NaN   NaN     150000   \n",
       "69741     500        small              1997  manual    NaN   NaN     150000   \n",
       "91751    4500          suv              2004    auto    NaN   NaN     125000   \n",
       "104463  11399          NaN              1995  manual    NaN   NaN     150000   \n",
       "117936   3999        sedan              2000  manual    NaN   NaN     150000   \n",
       "121250   1990  convertible              1998  manual    NaN   NaN     150000   \n",
       "122890  11000        coupe              2002  manual    NaN   NaN     150000   \n",
       "145154   1200        sedan              2000  manual    NaN   NaN     150000   \n",
       "146238   1500        sedan              1996  manual    NaN   NaN     150000   \n",
       "153939    500        sedan              1994  manual    NaN   NaN     150000   \n",
       "165900      0        other              1990  manual    NaN   NaN     150000   \n",
       "192034   3500        wagon              2003  manual    NaN   NaN     150000   \n",
       "201787      0        sedan              1991  manual    NaN   NaN       5000   \n",
       "205634    250        sedan              1996  manual    NaN   NaN     150000   \n",
       "221057  11000        wagon              2010  manual    NaN   NaN      70000   \n",
       "231712   1350        sedan              2000  manual    NaN   NaN     150000   \n",
       "233383    300        other              2002  manual    NaN   NaN       5000   \n",
       "259983      0          NaN              2000     NaN    NaN   NaN     150000   \n",
       "279932   1999        small              2004  manual    NaN   NaN     150000   \n",
       "289174   7799          NaN              2004    auto    NaN   NaN     150000   \n",
       "290879    899          suv              1959  manual    NaN   NaN     100000   \n",
       "293372      5          bus              2004  manual    NaN   NaN     150000   \n",
       "296686   3500        wagon              2002  manual    NaN   NaN     150000   \n",
       "309245    950        small              1998  manual    NaN   NaN     150000   \n",
       "319576   2300        sedan              1992     NaN    NaN   NaN     150000   \n",
       "320442   3400        small              2007     NaN    NaN   NaN     125000   \n",
       "321246    650          suv              1996  manual    NaN   NaN     150000   \n",
       "\n",
       "        FuelType           Brand Repaired  \n",
       "index                                      \n",
       "7720      petrol           honda      NaN  \n",
       "21609     petrol          lancia      NaN  \n",
       "24591     petrol            opel      NaN  \n",
       "46073   gasoline            seat       no  \n",
       "46941     petrol  sonstige_autos       no  \n",
       "56059        NaN      volkswagen      NaN  \n",
       "59887        NaN            ford      yes  \n",
       "69741        NaN            audi      NaN  \n",
       "91751     petrol          nissan      yes  \n",
       "104463  gasoline             bmw      NaN  \n",
       "117936    petrol            audi       no  \n",
       "121250    petrol      volkswagen       no  \n",
       "122890       NaN            opel      NaN  \n",
       "145154    petrol             bmw      NaN  \n",
       "146238    petrol             bmw      NaN  \n",
       "153939    petrol             bmw      NaN  \n",
       "165900       NaN  sonstige_autos       no  \n",
       "192034  gasoline      volkswagen       no  \n",
       "201787    petrol             bmw      NaN  \n",
       "205634    petrol            ford      yes  \n",
       "221057    petrol            opel      NaN  \n",
       "231712       NaN      volkswagen      yes  \n",
       "233383    petrol  sonstige_autos       no  \n",
       "259983       NaN  sonstige_autos      NaN  \n",
       "279932    petrol         renault      NaN  \n",
       "289174    petrol   mercedes_benz      yes  \n",
       "290879    petrol  sonstige_autos       no  \n",
       "293372       NaN      volkswagen       no  \n",
       "296686  gasoline            audi       no  \n",
       "309245    petrol      volkswagen       no  \n",
       "319576    petrol             bmw       no  \n",
       "320442    petrol         citroen       no  \n",
       "321246    petrol          nissan       no  "
      ]
     },
     "execution_count": 40,
     "metadata": {},
     "output_type": "execute_result"
    }
   ],
   "source": [
    "df.loc[df[\"Power\"].isna()]"
   ]
  },
  {
   "cell_type": "markdown",
   "metadata": {},
   "source": [
    "Для модели other не получится восстановить power. Удаляю."
   ]
  },
  {
   "cell_type": "code",
   "execution_count": 41,
   "metadata": {},
   "outputs": [],
   "source": [
    "df = df.dropna(subset=['Power'])"
   ]
  },
  {
   "cell_type": "markdown",
   "metadata": {},
   "source": [
    "##### Price"
   ]
  },
  {
   "cell_type": "markdown",
   "metadata": {},
   "source": [
    "Теперь рассмотрим цену."
   ]
  },
  {
   "cell_type": "code",
   "execution_count": 42,
   "metadata": {
    "scrolled": true
   },
   "outputs": [
    {
     "data": {
      "text/plain": [
       "<AxesSubplot:>"
      ]
     },
     "execution_count": 42,
     "metadata": {},
     "output_type": "execute_result"
    },
    {
     "data": {
      "image/png": "[encoded data removed]",
      "text/plain": [
       "<Figure size 360x360 with 1 Axes>"
      ]
     },
     "metadata": {
      "needs_background": "light"
     },
     "output_type": "display_data"
    }
   ],
   "source": [
    "df.boxplot(column='Price',figsize=(5,5))"
   ]
  },
  {
   "cell_type": "code",
   "execution_count": 43,
   "metadata": {},
   "outputs": [
    {
     "name": "stdout",
     "output_type": "stream",
     "text": [
      "Автомобилей стоимостью ниже 100 евро в сете в процентах: 3.66\n"
     ]
    }
   ],
   "source": [
    "print('Автомобилей стоимостью ниже 100 евро в сете в процентах:', round(len(df.loc[df['Price']<=100])*100/len_df,2))"
   ]
  },
  {
   "cell_type": "markdown",
   "metadata": {},
   "source": [
    "Выделю эти автомобили в отдельный датасет и после построения модели определю их стоимость. Сделаю это в конце корректировки всех данных, чтоб и эти строки были исправлены."
   ]
  },
  {
   "cell_type": "markdown",
   "metadata": {},
   "source": [
    "#### Категориальные параметры\n",
    "\n",
    "Вспомним, что мы определили, как категории."
   ]
  },
  {
   "cell_type": "code",
   "execution_count": 44,
   "metadata": {},
   "outputs": [
    {
     "data": {
      "text/plain": [
       "['VehicleType',\n",
       " 'RegistrationYear',\n",
       " 'Gearbox',\n",
       " 'Model',\n",
       " 'Kilometer',\n",
       " 'FuelType',\n",
       " 'Brand',\n",
       " 'Repaired']"
      ]
     },
     "execution_count": 44,
     "metadata": {},
     "output_type": "execute_result"
    }
   ],
   "source": [
    "columns_cat"
   ]
  },
  {
   "cell_type": "markdown",
   "metadata": {},
   "source": [
    "RegistrationYear, Kilometer отработаны.\n",
    "###### В столбцах VehicleType, Gearbox, Model, FuelType, Repaired надо подумать над заполнением пустот.\n"
   ]
  },
  {
   "cell_type": "markdown",
   "metadata": {},
   "source": [
    "##### Repaired \n",
    "— была машина в ремонте или нет.\n"
   ]
  },
  {
   "cell_type": "code",
   "execution_count": 45,
   "metadata": {},
   "outputs": [
    {
     "data": {
      "text/plain": [
       "array(['no', 'yes', nan], dtype=object)"
      ]
     },
     "execution_count": 45,
     "metadata": {},
     "output_type": "execute_result"
    }
   ],
   "source": [
    "df['Repaired'].sort_values().unique()"
   ]
  },
  {
   "cell_type": "markdown",
   "metadata": {},
   "source": [
    "Предположим, что пропуск означает, что машина не была в ремонте. Тогда, заполнив пропуски значением 'no', Repaired можно привести к типу boolean.\n"
   ]
  },
  {
   "cell_type": "code",
   "execution_count": 46,
   "metadata": {},
   "outputs": [
    {
     "data": {
      "text/plain": [
       "Repaired\n",
       "no     299417\n",
       "yes     34115\n",
       "Name: Power, dtype: int64"
      ]
     },
     "execution_count": 46,
     "metadata": {},
     "output_type": "execute_result"
    }
   ],
   "source": [
    "df['Repaired'] = df['Repaired'].fillna('no')\n",
    "df.groupby('Repaired')['Power'].count()"
   ]
  },
  {
   "cell_type": "code",
   "execution_count": 47,
   "metadata": {},
   "outputs": [
    {
     "data": {
      "text/plain": [
       "array(['no', 'yes'], dtype=object)"
      ]
     },
     "execution_count": 47,
     "metadata": {},
     "output_type": "execute_result"
    }
   ],
   "source": [
    "df['Repaired'].sort_values().unique()"
   ]
  },
  {
   "cell_type": "markdown",
   "metadata": {},
   "source": [
    "##### Brand, Model\n"
   ]
  },
  {
   "cell_type": "code",
   "execution_count": 48,
   "metadata": {
    "scrolled": true
   },
   "outputs": [
    {
     "data": {
      "text/plain": [
       "array(['alfa_romeo', 'audi', 'bmw', 'chevrolet', 'chrysler', 'citroen',\n",
       "       'dacia', 'daewoo', 'daihatsu', 'fiat', 'ford', 'honda', 'hyundai',\n",
       "       'jaguar', 'jeep', 'kia', 'lada', 'lancia', 'land_rover', 'mazda',\n",
       "       'mercedes_benz', 'mini', 'mitsubishi', 'nissan', 'opel', 'peugeot',\n",
       "       'porsche', 'renault', 'rover', 'saab', 'seat', 'skoda', 'smart',\n",
       "       'sonstige_autos', 'subaru', 'suzuki', 'toyota', 'trabant',\n",
       "       'volkswagen', 'volvo'], dtype=object)"
      ]
     },
     "execution_count": 48,
     "metadata": {},
     "output_type": "execute_result"
    }
   ],
   "source": [
    "df['Brand'].sort_values().unique()"
   ]
  },
  {
   "cell_type": "markdown",
   "metadata": {},
   "source": [
    "Как будто нормально, нет опечаток, повторов из-за опечаток и пустот."
   ]
  },
  {
   "cell_type": "code",
   "execution_count": 49,
   "metadata": {
    "scrolled": false
   },
   "outputs": [
    {
     "data": {
      "text/plain": [
       "array(['100', '145', '147', '156', '159', '1_reihe', '1er', '200',\n",
       "       '2_reihe', '300c', '3_reihe', '3er', '4_reihe', '500', '5_reihe',\n",
       "       '5er', '601', '6_reihe', '6er', '7er', '80', '850', '90', '900',\n",
       "       '9000', '911', 'a1', 'a2', 'a3', 'a4', 'a5', 'a6', 'a8',\n",
       "       'a_klasse', 'accord', 'agila', 'alhambra', 'almera', 'altea',\n",
       "       'amarok', 'antara', 'arosa', 'astra', 'auris', 'avensis', 'aveo',\n",
       "       'aygo', 'b_klasse', 'b_max', 'beetle', 'berlingo', 'bora',\n",
       "       'boxster', 'bravo', 'c1', 'c2', 'c3', 'c4', 'c5', 'c_klasse',\n",
       "       'c_max', 'c_reihe', 'caddy', 'calibra', 'captiva', 'carisma',\n",
       "       'carnival', 'cayenne', 'cc', 'ceed', 'charade', 'cherokee',\n",
       "       'citigo', 'civic', 'cl', 'clio', 'clk', 'clubman', 'colt', 'combo',\n",
       "       'cooper', 'cordoba', 'corolla', 'corsa', 'cr_reihe', 'croma',\n",
       "       'crossfire', 'cuore', 'cx_reihe', 'defender', 'delta', 'discovery',\n",
       "       'doblo', 'ducato', 'duster', 'e_klasse', 'elefantino', 'eos',\n",
       "       'escort', 'espace', 'exeo', 'fabia', 'fiesta', 'focus', 'forester',\n",
       "       'forfour', 'fortwo', 'fox', 'freelander', 'fusion', 'g_klasse',\n",
       "       'galant', 'galaxy', 'getz', 'gl', 'glk', 'golf', 'grand', 'i3',\n",
       "       'i_reihe', 'ibiza', 'impreza', 'insignia', 'jazz', 'jetta',\n",
       "       'jimny', 'juke', 'justy', 'ka', 'kadett', 'kaefer', 'kalina',\n",
       "       'kalos', 'kangoo', 'kappa', 'kuga', 'laguna', 'lancer', 'lanos',\n",
       "       'legacy', 'leon', 'lodgy', 'logan', 'lupo', 'lybra', 'm_klasse',\n",
       "       'm_reihe', 'materia', 'matiz', 'megane', 'meriva', 'micra', 'mii',\n",
       "       'modus', 'mondeo', 'move', 'musa', 'mustang', 'mx_reihe', 'navara',\n",
       "       'niva', 'note', 'nubira', 'octavia', 'omega', 'one', 'other',\n",
       "       'outlander', 'pajero', 'panda', 'passat', 'phaeton', 'picanto',\n",
       "       'polo', 'primera', 'ptcruiser', 'punto', 'q3', 'q5', 'q7',\n",
       "       'qashqai', 'r19', 'range_rover', 'range_rover_evoque',\n",
       "       'range_rover_sport', 'rangerover', 'rav', 'rio', 'roadster',\n",
       "       'roomster', 'rx_reihe', 's60', 's_klasse', 's_max', 's_type',\n",
       "       'samara', 'sandero', 'santa', 'scenic', 'scirocco', 'seicento',\n",
       "       'serie_1', 'serie_2', 'serie_3', 'sharan', 'signum', 'sirion',\n",
       "       'sl', 'slk', 'sorento', 'spark', 'spider', 'sportage', 'sprinter',\n",
       "       'stilo', 'superb', 'swift', 'terios', 'tigra', 'tiguan', 'toledo',\n",
       "       'touareg', 'touran', 'transit', 'transporter', 'tt', 'tucson',\n",
       "       'twingo', 'up', 'v40', 'v50', 'v60', 'v70', 'v_klasse', 'vectra',\n",
       "       'verso', 'viano', 'vito', 'vivaro', 'voyager', 'wrangler',\n",
       "       'x_reihe', 'x_trail', 'x_type', 'xc_reihe', 'yaris', 'yeti',\n",
       "       'ypsilon', 'z_reihe', 'zafira', nan], dtype=object)"
      ]
     },
     "execution_count": 49,
     "metadata": {},
     "output_type": "execute_result"
    }
   ],
   "source": [
    "df['Model'].sort_values().unique()"
   ]
  },
  {
   "cell_type": "markdown",
   "metadata": {},
   "source": [
    "В моделях есть пропуски. Посмотрим, сколько их."
   ]
  },
  {
   "cell_type": "code",
   "execution_count": 50,
   "metadata": {
    "scrolled": true
   },
   "outputs": [
    {
     "name": "stdout",
     "output_type": "stream",
     "text": [
      "Автомобилей неопределённой модели в процентах: 4.72\n",
      "Автомобилей неопределённой модели: 16709\n"
     ]
    }
   ],
   "source": [
    "print('Автомобилей неопределённой модели в процентах:', round(len(df.loc[df['Model'].isna()])*100/len_df,2))\n",
    "print('Автомобилей неопределённой модели:', len(df.loc[df['Model'].isna()]))"
   ]
  },
  {
   "cell_type": "markdown",
   "metadata": {},
   "source": [
    "Можно удалить, потому что не восстановить никак. Можно ввести категорию 'other'. Например, пользователь не посчитал нужным указывать модель, или, например, была возможность выбирать из выпадающего списка, и нужной модели не оказалось, поэтому возник пропуск."
   ]
  },
  {
   "cell_type": "code",
   "execution_count": 51,
   "metadata": {},
   "outputs": [],
   "source": [
    "df['Model'] = df['Model'].fillna('other')"
   ]
  },
  {
   "cell_type": "code",
   "execution_count": 52,
   "metadata": {},
   "outputs": [
    {
     "data": {
      "text/plain": [
       "['VehicleType',\n",
       " 'RegistrationYear',\n",
       " 'Gearbox',\n",
       " 'Model',\n",
       " 'Kilometer',\n",
       " 'FuelType',\n",
       " 'Brand',\n",
       " 'Repaired']"
      ]
     },
     "execution_count": 52,
     "metadata": {},
     "output_type": "execute_result"
    }
   ],
   "source": [
    "columns_cat"
   ]
  },
  {
   "cell_type": "markdown",
   "metadata": {},
   "source": [
    "##### VehicleType \n"
   ]
  },
  {
   "cell_type": "code",
   "execution_count": 53,
   "metadata": {},
   "outputs": [
    {
     "data": {
      "text/plain": [
       "17025"
      ]
     },
     "execution_count": 53,
     "metadata": {},
     "output_type": "execute_result"
    }
   ],
   "source": [
    "df['VehicleType'].isna().sum()"
   ]
  },
  {
   "cell_type": "code",
   "execution_count": 54,
   "metadata": {},
   "outputs": [
    {
     "data": {
      "text/html": [
       "<div>\n",
       "<style scoped>\n",
       "    .dataframe tbody tr th:only-of-type {\n",
       "        vertical-align: middle;\n",
       "    }\n",
       "\n",
       "    .dataframe tbody tr th {\n",
       "        vertical-align: top;\n",
       "    }\n",
       "\n",
       "    .dataframe thead th {\n",
       "        text-align: right;\n",
       "    }\n",
       "</style>\n",
       "<table border=\"1\" class=\"dataframe\">\n",
       "  <thead>\n",
       "    <tr style=\"text-align: right;\">\n",
       "      <th></th>\n",
       "      <th>Price</th>\n",
       "      <th>VehicleType</th>\n",
       "      <th>RegistrationYear</th>\n",
       "      <th>Gearbox</th>\n",
       "      <th>Power</th>\n",
       "      <th>Model</th>\n",
       "      <th>Kilometer</th>\n",
       "      <th>FuelType</th>\n",
       "      <th>Brand</th>\n",
       "      <th>Repaired</th>\n",
       "    </tr>\n",
       "    <tr>\n",
       "      <th>index</th>\n",
       "      <th></th>\n",
       "      <th></th>\n",
       "      <th></th>\n",
       "      <th></th>\n",
       "      <th></th>\n",
       "      <th></th>\n",
       "      <th></th>\n",
       "      <th></th>\n",
       "      <th></th>\n",
       "      <th></th>\n",
       "    </tr>\n",
       "  </thead>\n",
       "  <tbody>\n",
       "    <tr>\n",
       "      <th>94905</th>\n",
       "      <td>8500</td>\n",
       "      <td>NaN</td>\n",
       "      <td>1998</td>\n",
       "      <td>NaN</td>\n",
       "      <td>0.0</td>\n",
       "      <td>other</td>\n",
       "      <td>90000</td>\n",
       "      <td>NaN</td>\n",
       "      <td>volkswagen</td>\n",
       "      <td>no</td>\n",
       "    </tr>\n",
       "    <tr>\n",
       "      <th>85074</th>\n",
       "      <td>500</td>\n",
       "      <td>NaN</td>\n",
       "      <td>1995</td>\n",
       "      <td>manual</td>\n",
       "      <td>150.0</td>\n",
       "      <td>other</td>\n",
       "      <td>150000</td>\n",
       "      <td>NaN</td>\n",
       "      <td>bmw</td>\n",
       "      <td>no</td>\n",
       "    </tr>\n",
       "    <tr>\n",
       "      <th>236014</th>\n",
       "      <td>1250</td>\n",
       "      <td>NaN</td>\n",
       "      <td>1985</td>\n",
       "      <td>manual</td>\n",
       "      <td>54.0</td>\n",
       "      <td>golf</td>\n",
       "      <td>150000</td>\n",
       "      <td>gasoline</td>\n",
       "      <td>volkswagen</td>\n",
       "      <td>no</td>\n",
       "    </tr>\n",
       "    <tr>\n",
       "      <th>156607</th>\n",
       "      <td>200</td>\n",
       "      <td>NaN</td>\n",
       "      <td>2000</td>\n",
       "      <td>NaN</td>\n",
       "      <td>0.0</td>\n",
       "      <td>corsa</td>\n",
       "      <td>20000</td>\n",
       "      <td>NaN</td>\n",
       "      <td>opel</td>\n",
       "      <td>no</td>\n",
       "    </tr>\n",
       "    <tr>\n",
       "      <th>344141</th>\n",
       "      <td>0</td>\n",
       "      <td>NaN</td>\n",
       "      <td>1990</td>\n",
       "      <td>NaN</td>\n",
       "      <td>0.0</td>\n",
       "      <td>601</td>\n",
       "      <td>40000</td>\n",
       "      <td>NaN</td>\n",
       "      <td>trabant</td>\n",
       "      <td>no</td>\n",
       "    </tr>\n",
       "    <tr>\n",
       "      <th>102922</th>\n",
       "      <td>2200</td>\n",
       "      <td>NaN</td>\n",
       "      <td>2016</td>\n",
       "      <td>manual</td>\n",
       "      <td>0.0</td>\n",
       "      <td>golf</td>\n",
       "      <td>125000</td>\n",
       "      <td>petrol</td>\n",
       "      <td>volkswagen</td>\n",
       "      <td>no</td>\n",
       "    </tr>\n",
       "    <tr>\n",
       "      <th>133251</th>\n",
       "      <td>650</td>\n",
       "      <td>NaN</td>\n",
       "      <td>1996</td>\n",
       "      <td>NaN</td>\n",
       "      <td>0.0</td>\n",
       "      <td>other</td>\n",
       "      <td>150000</td>\n",
       "      <td>NaN</td>\n",
       "      <td>citroen</td>\n",
       "      <td>no</td>\n",
       "    </tr>\n",
       "    <tr>\n",
       "      <th>340957</th>\n",
       "      <td>0</td>\n",
       "      <td>NaN</td>\n",
       "      <td>1985</td>\n",
       "      <td>manual</td>\n",
       "      <td>75.0</td>\n",
       "      <td>caddy</td>\n",
       "      <td>150000</td>\n",
       "      <td>petrol</td>\n",
       "      <td>volkswagen</td>\n",
       "      <td>no</td>\n",
       "    </tr>\n",
       "  </tbody>\n",
       "</table>\n",
       "</div>"
      ],
      "text/plain": [
       "        Price VehicleType  RegistrationYear Gearbox  Power  Model  Kilometer  \\\n",
       "index                                                                          \n",
       "94905    8500         NaN              1998     NaN    0.0  other      90000   \n",
       "85074     500         NaN              1995  manual  150.0  other     150000   \n",
       "236014   1250         NaN              1985  manual   54.0   golf     150000   \n",
       "156607    200         NaN              2000     NaN    0.0  corsa      20000   \n",
       "344141      0         NaN              1990     NaN    0.0    601      40000   \n",
       "102922   2200         NaN              2016  manual    0.0   golf     125000   \n",
       "133251    650         NaN              1996     NaN    0.0  other     150000   \n",
       "340957      0         NaN              1985  manual   75.0  caddy     150000   \n",
       "\n",
       "        FuelType       Brand Repaired  \n",
       "index                                  \n",
       "94905        NaN  volkswagen       no  \n",
       "85074        NaN         bmw       no  \n",
       "236014  gasoline  volkswagen       no  \n",
       "156607       NaN        opel       no  \n",
       "344141       NaN     trabant       no  \n",
       "102922    petrol  volkswagen       no  \n",
       "133251       NaN     citroen       no  \n",
       "340957    petrol  volkswagen       no  "
      ]
     },
     "execution_count": 54,
     "metadata": {},
     "output_type": "execute_result"
    }
   ],
   "source": [
    "df.loc[df['VehicleType'].isna()].sample(8)"
   ]
  },
  {
   "cell_type": "markdown",
   "metadata": {},
   "source": [
    "Тип транспортного средства можно восстановить по модели."
   ]
  },
  {
   "cell_type": "code",
   "execution_count": 55,
   "metadata": {},
   "outputs": [],
   "source": [
    "auto_model = df.loc[df['VehicleType'].isna()]['Model'].unique()\n"
   ]
  },
  {
   "cell_type": "code",
   "execution_count": 56,
   "metadata": {},
   "outputs": [
    {
     "data": {
      "text/plain": [
       "array(['100', '145', '147', '156', '159', '1_reihe', '1er', '200',\n",
       "       '2_reihe', '300c', '3_reihe', '3er', '4_reihe', '500', '5_reihe',\n",
       "       '5er', '601', '6_reihe', '6er', '7er', '80', '850', '90', '900',\n",
       "       '911', 'a1', 'a2', 'a3', 'a4', 'a5', 'a6', 'a8', 'a_klasse',\n",
       "       'accord', 'agila', 'alhambra', 'almera', 'altea', 'antara',\n",
       "       'arosa', 'astra', 'auris', 'avensis', 'aveo', 'aygo', 'b_klasse',\n",
       "       'b_max', 'beetle', 'berlingo', 'bora', 'boxster', 'bravo', 'c1',\n",
       "       'c2', 'c3', 'c4', 'c5', 'c_klasse', 'c_max', 'c_reihe', 'caddy',\n",
       "       'calibra', 'carisma', 'carnival', 'cayenne', 'cc', 'ceed',\n",
       "       'charade', 'cherokee', 'citigo', 'civic', 'cl', 'clio', 'clk',\n",
       "       'clubman', 'colt', 'combo', 'cooper', 'cordoba', 'corolla',\n",
       "       'corsa', 'cr_reihe', 'croma', 'cuore', 'cx_reihe', 'defender',\n",
       "       'delta', 'doblo', 'ducato', 'duster', 'e_klasse', 'eos', 'escort',\n",
       "       'espace', 'fabia', 'fiesta', 'focus', 'forester', 'forfour',\n",
       "       'fortwo', 'fox', 'freelander', 'fusion', 'g_klasse', 'galant',\n",
       "       'galaxy', 'getz', 'glk', 'golf', 'grand', 'i_reihe', 'ibiza',\n",
       "       'impreza', 'insignia', 'jazz', 'jetta', 'jimny', 'juke', 'justy',\n",
       "       'ka', 'kadett', 'kaefer', 'kalos', 'kangoo', 'kappa', 'kuga',\n",
       "       'laguna', 'lancer', 'lanos', 'legacy', 'leon', 'logan', 'lupo',\n",
       "       'lybra', 'm_klasse', 'm_reihe', 'matiz', 'megane', 'meriva',\n",
       "       'micra', 'modus', 'mondeo', 'move', 'mustang', 'mx_reihe',\n",
       "       'navara', 'niva', 'note', 'nubira', 'octavia', 'omega', 'one',\n",
       "       'other', 'outlander', 'pajero', 'panda', 'passat', 'phaeton',\n",
       "       'picanto', 'polo', 'primera', 'ptcruiser', 'punto', 'q3', 'q7',\n",
       "       'qashqai', 'r19', 'range_rover', 'rav', 'rio', 'roadster',\n",
       "       'roomster', 'rx_reihe', 's_klasse', 's_max', 's_type', 'samara',\n",
       "       'sandero', 'santa', 'scenic', 'scirocco', 'seicento', 'serie_1',\n",
       "       'serie_2', 'serie_3', 'sharan', 'signum', 'sirion', 'sl', 'slk',\n",
       "       'sorento', 'spark', 'spider', 'sportage', 'sprinter', 'stilo',\n",
       "       'superb', 'swift', 'tigra', 'tiguan', 'toledo', 'touareg',\n",
       "       'touran', 'transit', 'transporter', 'tt', 'tucson', 'twingo', 'up',\n",
       "       'v40', 'v50', 'v70', 'v_klasse', 'vectra', 'verso', 'viano',\n",
       "       'vito', 'vivaro', 'voyager', 'wrangler', 'x_reihe', 'x_trail',\n",
       "       'x_type', 'xc_reihe', 'yaris', 'yeti', 'ypsilon', 'z_reihe',\n",
       "       'zafira'], dtype=object)"
      ]
     },
     "execution_count": 56,
     "metadata": {},
     "output_type": "execute_result"
    }
   ],
   "source": [
    "auto_model.sort()\n",
    "auto_model"
   ]
  },
  {
   "cell_type": "code",
   "execution_count": 57,
   "metadata": {},
   "outputs": [
    {
     "data": {
      "text/plain": [
       "Model\n",
       "100                       [wagon, sedan, coupe, convertible]\n",
       "145                             [small, sedan, coupe, other]\n",
       "147                 [sedan, small, wagon, coupe, suv, other]\n",
       "156                      [wagon, sedan, coupe, other, small]\n",
       "159                                           [sedan, wagon]\n",
       "                                 ...                        \n",
       "yaris                      [small, bus, other, wagon, sedan]\n",
       "yeti                                     [suv, other, wagon]\n",
       "ypsilon                                 [small, convertible]\n",
       "z_reihe                          [convertible, coupe, sedan]\n",
       "zafira     [bus, other, wagon, small, suv, sedan, convert...\n",
       "Name: VehicleType, Length: 250, dtype: object"
      ]
     },
     "execution_count": 57,
     "metadata": {},
     "output_type": "execute_result"
    }
   ],
   "source": [
    "df.loc[df['VehicleType'].notna()].groupby('Model')['VehicleType'].unique()"
   ]
  },
  {
   "cell_type": "markdown",
   "metadata": {},
   "source": [
    "Заменю модой, ориентируясь на модель, мощность двигателя, год регистрации."
   ]
  },
  {
   "cell_type": "code",
   "execution_count": 58,
   "metadata": {
    "scrolled": true
   },
   "outputs": [],
   "source": [
    "df['VehicleType'] = df.groupby(['Model','RegistrationYear', 'Power'])['VehicleType'].transform(lambda x: x.fillna((x.mode()[0] if x.count()!=0 else \"other\")))"
   ]
  },
  {
   "cell_type": "markdown",
   "metadata": {},
   "source": [
    "Посмотрим, остались ли пропуски."
   ]
  },
  {
   "cell_type": "code",
   "execution_count": 59,
   "metadata": {},
   "outputs": [
    {
     "data": {
      "text/plain": [
       "0"
      ]
     },
     "execution_count": 59,
     "metadata": {},
     "output_type": "execute_result"
    }
   ],
   "source": [
    "df['VehicleType'].isna().sum()"
   ]
  },
  {
   "cell_type": "markdown",
   "metadata": {},
   "source": [
    "Прекрасно. Можно не удалять строки."
   ]
  },
  {
   "cell_type": "markdown",
   "metadata": {},
   "source": [
    "##### Gearbox, FuelType\n"
   ]
  },
  {
   "cell_type": "code",
   "execution_count": 60,
   "metadata": {
    "scrolled": true
   },
   "outputs": [
    {
     "data": {
      "text/plain": [
       "array(['auto', 'manual', nan], dtype=object)"
      ]
     },
     "execution_count": 60,
     "metadata": {},
     "output_type": "execute_result"
    }
   ],
   "source": [
    "df['Gearbox'].sort_values().unique()"
   ]
  },
  {
   "cell_type": "markdown",
   "metadata": {},
   "source": [
    "Помимо механики и автомата, ещё бывают роботы и вариаторы. Предлагаю пропуски заменить на 'other'.\n"
   ]
  },
  {
   "cell_type": "code",
   "execution_count": 61,
   "metadata": {
    "scrolled": true
   },
   "outputs": [
    {
     "data": {
      "text/plain": [
       "array(['petrol', 'gasoline', nan, 'lpg', 'other', 'hybrid', 'cng',\n",
       "       'electric'], dtype=object)"
      ]
     },
     "execution_count": 61,
     "metadata": {},
     "output_type": "execute_result"
    }
   ],
   "source": [
    "df['FuelType'].unique()"
   ]
  },
  {
   "cell_type": "code",
   "execution_count": 62,
   "metadata": {},
   "outputs": [
    {
     "name": "stdout",
     "output_type": "stream",
     "text": [
      "Автомобилей c неопределённой коробкой в процентах: 4.87\n",
      "Автомобилей c неопределённой коробкой: 17262\n"
     ]
    }
   ],
   "source": [
    "print('Автомобилей c неопределённой коробкой в процентах:', round(len(df.loc[df['Gearbox'].isna()])*100/len_df,2))\n",
    "print('Автомобилей c неопределённой коробкой:', len(df.loc[df['Gearbox'].isna()]))"
   ]
  },
  {
   "cell_type": "code",
   "execution_count": 63,
   "metadata": {
    "scrolled": true
   },
   "outputs": [
    {
     "name": "stdout",
     "output_type": "stream",
     "text": [
      "Автомобилей неопределённым типом топлива в процентах: 7.0\n",
      "Автомобилей неопределённым типом топлива модели: 24814\n"
     ]
    }
   ],
   "source": [
    "print('Автомобилей неопределённым типом топлива в процентах:', round(len(df.loc[df['FuelType'].isna()])*100/len_df, 2))\n",
    "print('Автомобилей неопределённым типом топлива модели:', len(df.loc[df['FuelType'].isna()]))"
   ]
  },
  {
   "cell_type": "markdown",
   "metadata": {},
   "source": [
    "Без коробки и топлива машина не ездит, поэтому все пустоты опять попробуем заменить модой."
   ]
  },
  {
   "cell_type": "code",
   "execution_count": 64,
   "metadata": {
    "scrolled": true
   },
   "outputs": [],
   "source": [
    "df['FuelType'] = df.groupby(['Model','RegistrationYear', 'Power'])['FuelType'].transform(lambda x: x.fillna((x.mode()[0] if x.count()!=0 else \"other\")))"
   ]
  },
  {
   "cell_type": "code",
   "execution_count": 65,
   "metadata": {
    "scrolled": true
   },
   "outputs": [],
   "source": [
    "df['Gearbox'] = df.groupby(['Model','RegistrationYear', 'Power'])['Gearbox'].transform(lambda x: x.fillna((x.mode()[0] if x.count()!=0 else \"other\")))"
   ]
  },
  {
   "cell_type": "markdown",
   "metadata": {},
   "source": [
    "Обработка данных закончена.\n",
    "Отделяю от датасета данные с ценой ниже 100 евро."
   ]
  },
  {
   "cell_type": "code",
   "execution_count": 66,
   "metadata": {},
   "outputs": [],
   "source": [
    "df_low_price = df.loc[df['Price']<=100]"
   ]
  },
  {
   "cell_type": "code",
   "execution_count": 67,
   "metadata": {},
   "outputs": [],
   "source": [
    "df = df.loc[df['Price']>100]"
   ]
  },
  {
   "cell_type": "markdown",
   "metadata": {},
   "source": [
    "После обработки данных могли появиться новые полные дкбли, поэтому проверю датасет ещё раз."
   ]
  },
  {
   "cell_type": "code",
   "execution_count": 68,
   "metadata": {
    "scrolled": true
   },
   "outputs": [
    {
     "data": {
      "text/plain": [
       "52771"
      ]
     },
     "execution_count": 68,
     "metadata": {},
     "output_type": "execute_result"
    }
   ],
   "source": [
    "df.duplicated().sum()"
   ]
  },
  {
   "cell_type": "markdown",
   "metadata": {},
   "source": [
    "Довольно много, но ничего не поделаешь, надо от них избавиться."
   ]
  },
  {
   "cell_type": "code",
   "execution_count": 69,
   "metadata": {},
   "outputs": [
    {
     "data": {
      "text/html": [
       "<div>\n",
       "<style scoped>\n",
       "    .dataframe tbody tr th:only-of-type {\n",
       "        vertical-align: middle;\n",
       "    }\n",
       "\n",
       "    .dataframe tbody tr th {\n",
       "        vertical-align: top;\n",
       "    }\n",
       "\n",
       "    .dataframe thead th {\n",
       "        text-align: right;\n",
       "    }\n",
       "</style>\n",
       "<table border=\"1\" class=\"dataframe\">\n",
       "  <thead>\n",
       "    <tr style=\"text-align: right;\">\n",
       "      <th></th>\n",
       "      <th>index</th>\n",
       "      <th>Price</th>\n",
       "      <th>VehicleType</th>\n",
       "      <th>RegistrationYear</th>\n",
       "      <th>Gearbox</th>\n",
       "      <th>Power</th>\n",
       "      <th>Model</th>\n",
       "      <th>Kilometer</th>\n",
       "      <th>FuelType</th>\n",
       "      <th>Brand</th>\n",
       "      <th>Repaired</th>\n",
       "    </tr>\n",
       "  </thead>\n",
       "  <tbody>\n",
       "    <tr>\n",
       "      <th>0</th>\n",
       "      <td>0</td>\n",
       "      <td>480</td>\n",
       "      <td>sedan</td>\n",
       "      <td>1993</td>\n",
       "      <td>manual</td>\n",
       "      <td>0.0</td>\n",
       "      <td>golf</td>\n",
       "      <td>150000</td>\n",
       "      <td>petrol</td>\n",
       "      <td>volkswagen</td>\n",
       "      <td>no</td>\n",
       "    </tr>\n",
       "    <tr>\n",
       "      <th>1</th>\n",
       "      <td>1</td>\n",
       "      <td>18300</td>\n",
       "      <td>coupe</td>\n",
       "      <td>2011</td>\n",
       "      <td>manual</td>\n",
       "      <td>190.0</td>\n",
       "      <td>other</td>\n",
       "      <td>125000</td>\n",
       "      <td>gasoline</td>\n",
       "      <td>audi</td>\n",
       "      <td>yes</td>\n",
       "    </tr>\n",
       "    <tr>\n",
       "      <th>2</th>\n",
       "      <td>2</td>\n",
       "      <td>9800</td>\n",
       "      <td>suv</td>\n",
       "      <td>2004</td>\n",
       "      <td>auto</td>\n",
       "      <td>163.0</td>\n",
       "      <td>grand</td>\n",
       "      <td>125000</td>\n",
       "      <td>gasoline</td>\n",
       "      <td>jeep</td>\n",
       "      <td>no</td>\n",
       "    </tr>\n",
       "    <tr>\n",
       "      <th>3</th>\n",
       "      <td>3</td>\n",
       "      <td>1500</td>\n",
       "      <td>small</td>\n",
       "      <td>2001</td>\n",
       "      <td>manual</td>\n",
       "      <td>75.0</td>\n",
       "      <td>golf</td>\n",
       "      <td>150000</td>\n",
       "      <td>petrol</td>\n",
       "      <td>volkswagen</td>\n",
       "      <td>no</td>\n",
       "    </tr>\n",
       "    <tr>\n",
       "      <th>4</th>\n",
       "      <td>4</td>\n",
       "      <td>3600</td>\n",
       "      <td>small</td>\n",
       "      <td>2008</td>\n",
       "      <td>manual</td>\n",
       "      <td>69.0</td>\n",
       "      <td>fabia</td>\n",
       "      <td>90000</td>\n",
       "      <td>gasoline</td>\n",
       "      <td>skoda</td>\n",
       "      <td>no</td>\n",
       "    </tr>\n",
       "    <tr>\n",
       "      <th>...</th>\n",
       "      <td>...</td>\n",
       "      <td>...</td>\n",
       "      <td>...</td>\n",
       "      <td>...</td>\n",
       "      <td>...</td>\n",
       "      <td>...</td>\n",
       "      <td>...</td>\n",
       "      <td>...</td>\n",
       "      <td>...</td>\n",
       "      <td>...</td>\n",
       "      <td>...</td>\n",
       "    </tr>\n",
       "    <tr>\n",
       "      <th>267780</th>\n",
       "      <td>354362</td>\n",
       "      <td>3200</td>\n",
       "      <td>sedan</td>\n",
       "      <td>2004</td>\n",
       "      <td>manual</td>\n",
       "      <td>225.0</td>\n",
       "      <td>leon</td>\n",
       "      <td>150000</td>\n",
       "      <td>petrol</td>\n",
       "      <td>seat</td>\n",
       "      <td>yes</td>\n",
       "    </tr>\n",
       "    <tr>\n",
       "      <th>267781</th>\n",
       "      <td>354365</td>\n",
       "      <td>2200</td>\n",
       "      <td>sedan</td>\n",
       "      <td>2005</td>\n",
       "      <td>manual</td>\n",
       "      <td>0.0</td>\n",
       "      <td>other</td>\n",
       "      <td>20000</td>\n",
       "      <td>petrol</td>\n",
       "      <td>sonstige_autos</td>\n",
       "      <td>no</td>\n",
       "    </tr>\n",
       "    <tr>\n",
       "      <th>267782</th>\n",
       "      <td>354366</td>\n",
       "      <td>1199</td>\n",
       "      <td>convertible</td>\n",
       "      <td>2000</td>\n",
       "      <td>auto</td>\n",
       "      <td>101.0</td>\n",
       "      <td>fortwo</td>\n",
       "      <td>125000</td>\n",
       "      <td>petrol</td>\n",
       "      <td>smart</td>\n",
       "      <td>no</td>\n",
       "    </tr>\n",
       "    <tr>\n",
       "      <th>267783</th>\n",
       "      <td>354367</td>\n",
       "      <td>9200</td>\n",
       "      <td>bus</td>\n",
       "      <td>1996</td>\n",
       "      <td>manual</td>\n",
       "      <td>102.0</td>\n",
       "      <td>transporter</td>\n",
       "      <td>150000</td>\n",
       "      <td>gasoline</td>\n",
       "      <td>volkswagen</td>\n",
       "      <td>no</td>\n",
       "    </tr>\n",
       "    <tr>\n",
       "      <th>267784</th>\n",
       "      <td>354368</td>\n",
       "      <td>3400</td>\n",
       "      <td>wagon</td>\n",
       "      <td>2002</td>\n",
       "      <td>manual</td>\n",
       "      <td>100.0</td>\n",
       "      <td>golf</td>\n",
       "      <td>150000</td>\n",
       "      <td>gasoline</td>\n",
       "      <td>volkswagen</td>\n",
       "      <td>no</td>\n",
       "    </tr>\n",
       "  </tbody>\n",
       "</table>\n",
       "<p>267785 rows × 11 columns</p>\n",
       "</div>"
      ],
      "text/plain": [
       "         index  Price  VehicleType  RegistrationYear Gearbox  Power  \\\n",
       "0            0    480        sedan              1993  manual    0.0   \n",
       "1            1  18300        coupe              2011  manual  190.0   \n",
       "2            2   9800          suv              2004    auto  163.0   \n",
       "3            3   1500        small              2001  manual   75.0   \n",
       "4            4   3600        small              2008  manual   69.0   \n",
       "...        ...    ...          ...               ...     ...    ...   \n",
       "267780  354362   3200        sedan              2004  manual  225.0   \n",
       "267781  354365   2200        sedan              2005  manual    0.0   \n",
       "267782  354366   1199  convertible              2000    auto  101.0   \n",
       "267783  354367   9200          bus              1996  manual  102.0   \n",
       "267784  354368   3400        wagon              2002  manual  100.0   \n",
       "\n",
       "              Model  Kilometer  FuelType           Brand Repaired  \n",
       "0              golf     150000    petrol      volkswagen       no  \n",
       "1             other     125000  gasoline            audi      yes  \n",
       "2             grand     125000  gasoline            jeep       no  \n",
       "3              golf     150000    petrol      volkswagen       no  \n",
       "4             fabia      90000  gasoline           skoda       no  \n",
       "...             ...        ...       ...             ...      ...  \n",
       "267780         leon     150000    petrol            seat      yes  \n",
       "267781        other      20000    petrol  sonstige_autos       no  \n",
       "267782       fortwo     125000    petrol           smart       no  \n",
       "267783  transporter     150000  gasoline      volkswagen       no  \n",
       "267784         golf     150000  gasoline      volkswagen       no  \n",
       "\n",
       "[267785 rows x 11 columns]"
      ]
     },
     "execution_count": 69,
     "metadata": {},
     "output_type": "execute_result"
    }
   ],
   "source": [
    "df.drop_duplicates().reset_index()"
   ]
  },
  {
   "cell_type": "code",
   "execution_count": 70,
   "metadata": {},
   "outputs": [
    {
     "name": "stdout",
     "output_type": "stream",
     "text": [
      "Всего удалено данных из датасета 9.54 %\n"
     ]
    }
   ],
   "source": [
    "print('Всего удалено данных из датасета', round((len_df-len(df))*100/len_df, 2),'%')"
   ]
  },
  {
   "cell_type": "markdown",
   "metadata": {},
   "source": [
    "### Матрица корреляций"
   ]
  },
  {
   "cell_type": "code",
   "execution_count": 71,
   "metadata": {
    "scrolled": false
   },
   "outputs": [
    {
     "data": {
      "text/plain": [
       "<AxesSubplot:>"
      ]
     },
     "execution_count": 71,
     "metadata": {},
     "output_type": "execute_result"
    },
    {
     "data": {
      "image/png": "[encoded data removed]",
      "text/plain": [
       "<Figure size 720x720 with 2 Axes>"
      ]
     },
     "metadata": {
      "needs_background": "light"
     },
     "output_type": "display_data"
    }
   ],
   "source": [
    "plt.figure(figsize=(10,10))\n",
    "sns.heatmap(df.corr(), annot=True, square=True)"
   ]
  },
  {
   "cell_type": "markdown",
   "metadata": {},
   "source": [
    "Видим прямую зависимость от Года регистрации и мощности двигателя и обратную от километража. \n"
   ]
  },
  {
   "cell_type": "markdown",
   "metadata": {},
   "source": [
    "### Кодирование данных\n"
   ]
  },
  {
   "cell_type": "markdown",
   "metadata": {},
   "source": [
    "#### Целевой признак, фичи"
   ]
  },
  {
   "cell_type": "markdown",
   "metadata": {},
   "source": [
    "Теперь делю на тестовую и обучающую выборки в отношении 20/80, потому что хочу использовать кроссвалидацию, для которой валидационная выборка не нужна."
   ]
  },
  {
   "cell_type": "code",
   "execution_count": 72,
   "metadata": {},
   "outputs": [],
   "source": [
    "target = df['Price']\n",
    "\n",
    "features = df.drop(['Price'], axis=1)\n"
   ]
  },
  {
   "cell_type": "code",
   "execution_count": 73,
   "metadata": {},
   "outputs": [],
   "source": [
    "features_train, features_test, target_train, target_test = train_test_split(\n",
    "    features, target, test_size=0.2, random_state=RANDOM_STATE)"
   ]
  },
  {
   "cell_type": "markdown",
   "metadata": {},
   "source": [
    "Поскольку модели CatBoost и LGBM умеют сами обрабатывать категориальные параметры, сделаем для них только шкалирование числовых параметров. Для дерева обработаем и категориальные признаки."
   ]
  },
  {
   "cell_type": "code",
   "execution_count": 74,
   "metadata": {},
   "outputs": [],
   "source": [
    "features_train_code = features_train.copy()\n",
    "features_test_code = features_test.copy()"
   ]
  },
  {
   "cell_type": "markdown",
   "metadata": {},
   "source": [
    "Вспомним, как разделились данные по типу признака.\n",
    "\n",
    "Числовые:"
   ]
  },
  {
   "cell_type": "code",
   "execution_count": 75,
   "metadata": {},
   "outputs": [
    {
     "data": {
      "text/plain": [
       "['Power']"
      ]
     },
     "execution_count": 75,
     "metadata": {},
     "output_type": "execute_result"
    }
   ],
   "source": [
    "columns_numeric"
   ]
  },
  {
   "cell_type": "markdown",
   "metadata": {},
   "source": [
    "Категориальные:"
   ]
  },
  {
   "cell_type": "code",
   "execution_count": 76,
   "metadata": {
    "scrolled": true
   },
   "outputs": [
    {
     "data": {
      "text/plain": [
       "['VehicleType',\n",
       " 'RegistrationYear',\n",
       " 'Gearbox',\n",
       " 'Model',\n",
       " 'Kilometer',\n",
       " 'FuelType',\n",
       " 'Brand',\n",
       " 'Repaired']"
      ]
     },
     "execution_count": 76,
     "metadata": {},
     "output_type": "execute_result"
    }
   ],
   "source": [
    "columns_cat"
   ]
  },
  {
   "cell_type": "code",
   "execution_count": 77,
   "metadata": {},
   "outputs": [
    {
     "name": "stdout",
     "output_type": "stream",
     "text": [
      "<class 'pandas.core.frame.DataFrame'>\n",
      "Int64Index: 320556 entries, 0 to 354368\n",
      "Data columns (total 10 columns):\n",
      " #   Column            Non-Null Count   Dtype  \n",
      "---  ------            --------------   -----  \n",
      " 0   Price             320556 non-null  int64  \n",
      " 1   VehicleType       320556 non-null  object \n",
      " 2   RegistrationYear  320556 non-null  int64  \n",
      " 3   Gearbox           320556 non-null  object \n",
      " 4   Power             320556 non-null  float64\n",
      " 5   Model             320556 non-null  object \n",
      " 6   Kilometer         320556 non-null  int64  \n",
      " 7   FuelType          320556 non-null  object \n",
      " 8   Brand             320556 non-null  object \n",
      " 9   Repaired          320556 non-null  object \n",
      "dtypes: float64(1), int64(3), object(6)\n",
      "memory usage: 26.9+ MB\n"
     ]
    }
   ],
   "source": [
    "df.info()"
   ]
  },
  {
   "cell_type": "markdown",
   "metadata": {},
   "source": [
    "#### Ordinal Encoder"
   ]
  },
  {
   "cell_type": "markdown",
   "metadata": {},
   "source": [
    "Кодируем категориальные признаки для дерева."
   ]
  },
  {
   "cell_type": "code",
   "execution_count": 78,
   "metadata": {},
   "outputs": [],
   "source": [
    "encoder = OrdinalEncoder(handle_unknown=\"use_encoded_value\", unknown_value=352) \n",
    "encoder.fit(features_train[columns_cat])\n",
    "\n",
    "features_train_code[columns_cat] = encoder.transform(features_train_code[columns_cat])\n",
    "features_test_code[columns_cat] = encoder.transform(features_test_code[columns_cat])"
   ]
  },
  {
   "cell_type": "markdown",
   "metadata": {},
   "source": [
    "#### Масштабиование количественных признаков"
   ]
  },
  {
   "cell_type": "markdown",
   "metadata": {},
   "source": [
    "Кодируем числовые признаки для всех моделей."
   ]
  },
  {
   "cell_type": "code",
   "execution_count": 79,
   "metadata": {},
   "outputs": [
    {
     "data": {
      "text/plain": [
       "StandardScaler()"
      ]
     },
     "execution_count": 79,
     "metadata": {},
     "output_type": "execute_result"
    }
   ],
   "source": [
    "scaler = StandardScaler()\n",
    "scaler.fit(features_train[columns_numeric])"
   ]
  },
  {
   "cell_type": "code",
   "execution_count": 80,
   "metadata": {},
   "outputs": [],
   "source": [
    "features_train[columns_numeric] = scaler.transform(features_train[columns_numeric])\n",
    "features_test[columns_numeric] = scaler.transform(features_test[columns_numeric])\n",
    "features_train_code[columns_numeric] = scaler.transform(features_train[columns_numeric])\n",
    "features_test_code[columns_numeric] = scaler.transform(features_test[columns_numeric])"
   ]
  },
  {
   "cell_type": "code",
   "execution_count": 81,
   "metadata": {},
   "outputs": [
    {
     "data": {
      "text/html": [
       "<div>\n",
       "<style scoped>\n",
       "    .dataframe tbody tr th:only-of-type {\n",
       "        vertical-align: middle;\n",
       "    }\n",
       "\n",
       "    .dataframe tbody tr th {\n",
       "        vertical-align: top;\n",
       "    }\n",
       "\n",
       "    .dataframe thead th {\n",
       "        text-align: right;\n",
       "    }\n",
       "</style>\n",
       "<table border=\"1\" class=\"dataframe\">\n",
       "  <thead>\n",
       "    <tr style=\"text-align: right;\">\n",
       "      <th></th>\n",
       "      <th>VehicleType</th>\n",
       "      <th>RegistrationYear</th>\n",
       "      <th>Gearbox</th>\n",
       "      <th>Power</th>\n",
       "      <th>Model</th>\n",
       "      <th>Kilometer</th>\n",
       "      <th>FuelType</th>\n",
       "      <th>Brand</th>\n",
       "      <th>Repaired</th>\n",
       "    </tr>\n",
       "    <tr>\n",
       "      <th>index</th>\n",
       "      <th></th>\n",
       "      <th></th>\n",
       "      <th></th>\n",
       "      <th></th>\n",
       "      <th></th>\n",
       "      <th></th>\n",
       "      <th></th>\n",
       "      <th></th>\n",
       "      <th></th>\n",
       "    </tr>\n",
       "  </thead>\n",
       "  <tbody>\n",
       "    <tr>\n",
       "      <th>72743</th>\n",
       "      <td>bus</td>\n",
       "      <td>2012</td>\n",
       "      <td>auto</td>\n",
       "      <td>0.483978</td>\n",
       "      <td>galaxy</td>\n",
       "      <td>60000</td>\n",
       "      <td>gasoline</td>\n",
       "      <td>ford</td>\n",
       "      <td>no</td>\n",
       "    </tr>\n",
       "    <tr>\n",
       "      <th>29669</th>\n",
       "      <td>sedan</td>\n",
       "      <td>2010</td>\n",
       "      <td>auto</td>\n",
       "      <td>0.195630</td>\n",
       "      <td>other</td>\n",
       "      <td>60000</td>\n",
       "      <td>petrol</td>\n",
       "      <td>bmw</td>\n",
       "      <td>no</td>\n",
       "    </tr>\n",
       "    <tr>\n",
       "      <th>43909</th>\n",
       "      <td>small</td>\n",
       "      <td>1999</td>\n",
       "      <td>auto</td>\n",
       "      <td>-0.893687</td>\n",
       "      <td>fortwo</td>\n",
       "      <td>150000</td>\n",
       "      <td>petrol</td>\n",
       "      <td>smart</td>\n",
       "      <td>no</td>\n",
       "    </tr>\n",
       "    <tr>\n",
       "      <th>145381</th>\n",
       "      <td>wagon</td>\n",
       "      <td>2005</td>\n",
       "      <td>auto</td>\n",
       "      <td>1.941740</td>\n",
       "      <td>5er</td>\n",
       "      <td>150000</td>\n",
       "      <td>gasoline</td>\n",
       "      <td>bmw</td>\n",
       "      <td>no</td>\n",
       "    </tr>\n",
       "    <tr>\n",
       "      <th>25471</th>\n",
       "      <td>small</td>\n",
       "      <td>1988</td>\n",
       "      <td>manual</td>\n",
       "      <td>-1.758733</td>\n",
       "      <td>other</td>\n",
       "      <td>60000</td>\n",
       "      <td>petrol</td>\n",
       "      <td>citroen</td>\n",
       "      <td>no</td>\n",
       "    </tr>\n",
       "    <tr>\n",
       "      <th>2309</th>\n",
       "      <td>wagon</td>\n",
       "      <td>2004</td>\n",
       "      <td>manual</td>\n",
       "      <td>1.076694</td>\n",
       "      <td>5er</td>\n",
       "      <td>150000</td>\n",
       "      <td>gasoline</td>\n",
       "      <td>bmw</td>\n",
       "      <td>no</td>\n",
       "    </tr>\n",
       "    <tr>\n",
       "      <th>103538</th>\n",
       "      <td>sedan</td>\n",
       "      <td>2007</td>\n",
       "      <td>manual</td>\n",
       "      <td>0.964559</td>\n",
       "      <td>passat</td>\n",
       "      <td>150000</td>\n",
       "      <td>gasoline</td>\n",
       "      <td>volkswagen</td>\n",
       "      <td>no</td>\n",
       "    </tr>\n",
       "    <tr>\n",
       "      <th>237762</th>\n",
       "      <td>wagon</td>\n",
       "      <td>2010</td>\n",
       "      <td>auto</td>\n",
       "      <td>0.532036</td>\n",
       "      <td>a4</td>\n",
       "      <td>150000</td>\n",
       "      <td>gasoline</td>\n",
       "      <td>audi</td>\n",
       "      <td>no</td>\n",
       "    </tr>\n",
       "  </tbody>\n",
       "</table>\n",
       "</div>"
      ],
      "text/plain": [
       "       VehicleType  RegistrationYear Gearbox     Power   Model  Kilometer  \\\n",
       "index                                                                       \n",
       "72743          bus              2012    auto  0.483978  galaxy      60000   \n",
       "29669        sedan              2010    auto  0.195630   other      60000   \n",
       "43909        small              1999    auto -0.893687  fortwo     150000   \n",
       "145381       wagon              2005    auto  1.941740     5er     150000   \n",
       "25471        small              1988  manual -1.758733   other      60000   \n",
       "2309         wagon              2004  manual  1.076694     5er     150000   \n",
       "103538       sedan              2007  manual  0.964559  passat     150000   \n",
       "237762       wagon              2010    auto  0.532036      a4     150000   \n",
       "\n",
       "        FuelType       Brand Repaired  \n",
       "index                                  \n",
       "72743   gasoline        ford       no  \n",
       "29669     petrol         bmw       no  \n",
       "43909     petrol       smart       no  \n",
       "145381  gasoline         bmw       no  \n",
       "25471     petrol     citroen       no  \n",
       "2309    gasoline         bmw       no  \n",
       "103538  gasoline  volkswagen       no  \n",
       "237762  gasoline        audi       no  "
      ]
     },
     "execution_count": 81,
     "metadata": {},
     "output_type": "execute_result"
    }
   ],
   "source": [
    "features_train.sample(8)"
   ]
  },
  {
   "cell_type": "code",
   "execution_count": 82,
   "metadata": {
    "scrolled": true
   },
   "outputs": [
    {
     "data": {
      "text/html": [
       "<div>\n",
       "<style scoped>\n",
       "    .dataframe tbody tr th:only-of-type {\n",
       "        vertical-align: middle;\n",
       "    }\n",
       "\n",
       "    .dataframe tbody tr th {\n",
       "        vertical-align: top;\n",
       "    }\n",
       "\n",
       "    .dataframe thead th {\n",
       "        text-align: right;\n",
       "    }\n",
       "</style>\n",
       "<table border=\"1\" class=\"dataframe\">\n",
       "  <thead>\n",
       "    <tr style=\"text-align: right;\">\n",
       "      <th></th>\n",
       "      <th>VehicleType</th>\n",
       "      <th>RegistrationYear</th>\n",
       "      <th>Gearbox</th>\n",
       "      <th>Power</th>\n",
       "      <th>Model</th>\n",
       "      <th>Kilometer</th>\n",
       "      <th>FuelType</th>\n",
       "      <th>Brand</th>\n",
       "      <th>Repaired</th>\n",
       "    </tr>\n",
       "    <tr>\n",
       "      <th>index</th>\n",
       "      <th></th>\n",
       "      <th></th>\n",
       "      <th></th>\n",
       "      <th></th>\n",
       "      <th></th>\n",
       "      <th></th>\n",
       "      <th></th>\n",
       "      <th></th>\n",
       "      <th></th>\n",
       "    </tr>\n",
       "  </thead>\n",
       "  <tbody>\n",
       "    <tr>\n",
       "      <th>233869</th>\n",
       "      <td>4.0</td>\n",
       "      <td>40.0</td>\n",
       "      <td>1.0</td>\n",
       "      <td>-1.765864</td>\n",
       "      <td>33.0</td>\n",
       "      <td>12.0</td>\n",
       "      <td>6.0</td>\n",
       "      <td>20.0</td>\n",
       "      <td>0.0</td>\n",
       "    </tr>\n",
       "    <tr>\n",
       "      <th>291037</th>\n",
       "      <td>3.0</td>\n",
       "      <td>37.0</td>\n",
       "      <td>1.0</td>\n",
       "      <td>-1.759961</td>\n",
       "      <td>17.0</td>\n",
       "      <td>12.0</td>\n",
       "      <td>6.0</td>\n",
       "      <td>19.0</td>\n",
       "      <td>0.0</td>\n",
       "    </tr>\n",
       "    <tr>\n",
       "      <th>325749</th>\n",
       "      <td>4.0</td>\n",
       "      <td>49.0</td>\n",
       "      <td>1.0</td>\n",
       "      <td>-1.752006</td>\n",
       "      <td>166.0</td>\n",
       "      <td>12.0</td>\n",
       "      <td>2.0</td>\n",
       "      <td>39.0</td>\n",
       "      <td>0.0</td>\n",
       "    </tr>\n",
       "    <tr>\n",
       "      <th>335095</th>\n",
       "      <td>0.0</td>\n",
       "      <td>49.0</td>\n",
       "      <td>1.0</td>\n",
       "      <td>-1.750210</td>\n",
       "      <td>14.0</td>\n",
       "      <td>12.0</td>\n",
       "      <td>2.0</td>\n",
       "      <td>19.0</td>\n",
       "      <td>0.0</td>\n",
       "    </tr>\n",
       "    <tr>\n",
       "      <th>184543</th>\n",
       "      <td>5.0</td>\n",
       "      <td>55.0</td>\n",
       "      <td>1.0</td>\n",
       "      <td>-1.764837</td>\n",
       "      <td>120.0</td>\n",
       "      <td>4.0</td>\n",
       "      <td>6.0</td>\n",
       "      <td>30.0</td>\n",
       "      <td>0.0</td>\n",
       "    </tr>\n",
       "    <tr>\n",
       "      <th>132240</th>\n",
       "      <td>4.0</td>\n",
       "      <td>42.0</td>\n",
       "      <td>1.0</td>\n",
       "      <td>-1.755599</td>\n",
       "      <td>59.0</td>\n",
       "      <td>12.0</td>\n",
       "      <td>6.0</td>\n",
       "      <td>20.0</td>\n",
       "      <td>0.0</td>\n",
       "    </tr>\n",
       "    <tr>\n",
       "      <th>353955</th>\n",
       "      <td>2.0</td>\n",
       "      <td>47.0</td>\n",
       "      <td>0.0</td>\n",
       "      <td>-1.701452</td>\n",
       "      <td>18.0</td>\n",
       "      <td>12.0</td>\n",
       "      <td>6.0</td>\n",
       "      <td>2.0</td>\n",
       "      <td>0.0</td>\n",
       "    </tr>\n",
       "    <tr>\n",
       "      <th>164440</th>\n",
       "      <td>5.0</td>\n",
       "      <td>54.0</td>\n",
       "      <td>1.0</td>\n",
       "      <td>-1.771509</td>\n",
       "      <td>72.0</td>\n",
       "      <td>5.0</td>\n",
       "      <td>6.0</td>\n",
       "      <td>31.0</td>\n",
       "      <td>0.0</td>\n",
       "    </tr>\n",
       "  </tbody>\n",
       "</table>\n",
       "</div>"
      ],
      "text/plain": [
       "        VehicleType  RegistrationYear  Gearbox     Power  Model  Kilometer  \\\n",
       "index                                                                        \n",
       "233869          4.0              40.0      1.0 -1.765864   33.0       12.0   \n",
       "291037          3.0              37.0      1.0 -1.759961   17.0       12.0   \n",
       "325749          4.0              49.0      1.0 -1.752006  166.0       12.0   \n",
       "335095          0.0              49.0      1.0 -1.750210   14.0       12.0   \n",
       "184543          5.0              55.0      1.0 -1.764837  120.0        4.0   \n",
       "132240          4.0              42.0      1.0 -1.755599   59.0       12.0   \n",
       "353955          2.0              47.0      0.0 -1.701452   18.0       12.0   \n",
       "164440          5.0              54.0      1.0 -1.771509   72.0        5.0   \n",
       "\n",
       "        FuelType  Brand  Repaired  \n",
       "index                              \n",
       "233869       6.0   20.0       0.0  \n",
       "291037       6.0   19.0       0.0  \n",
       "325749       2.0   39.0       0.0  \n",
       "335095       2.0   19.0       0.0  \n",
       "184543       6.0   30.0       0.0  \n",
       "132240       6.0   20.0       0.0  \n",
       "353955       6.0    2.0       0.0  \n",
       "164440       6.0   31.0       0.0  "
      ]
     },
     "execution_count": 82,
     "metadata": {},
     "output_type": "execute_result"
    }
   ],
   "source": [
    "features_train_code.sample(8)"
   ]
  },
  {
   "cell_type": "code",
   "execution_count": 83,
   "metadata": {
    "scrolled": false
   },
   "outputs": [
    {
     "data": {
      "text/plain": [
       "<AxesSubplot:>"
      ]
     },
     "execution_count": 83,
     "metadata": {},
     "output_type": "execute_result"
    },
    {
     "data": {
      "image/png": "[encoded data removed]",
      "text/plain": [
       "<Figure size 720x720 with 2 Axes>"
      ]
     },
     "metadata": {
      "needs_background": "light"
     },
     "output_type": "display_data"
    }
   ],
   "source": [
    "plt.figure(figsize=(10,10))\n",
    "sns.heatmap(features_train_code.corr(), annot=True, square=True)"
   ]
  },
  {
   "cell_type": "markdown",
   "metadata": {},
   "source": [
    "Видим корреляцию между параметрами.\n",
    "Положительная между моделью и брендом, отрицательная между мощностью двигателя и типом коробки передач.\n",
    "Связи слабее между мощностью двигателя, километражом, типом топлива и годом регистрации авто.\n",
    "\n",
    "Можно было бы удалить бренд и мощность, но в брендах есть модели other, которые после удаления сольются в один тип, а коробка может стоять на абсолютно одинаковых по мощности машинах, но стоить разнообразно, потому что от типа кпп зависит строение автомобиля."
   ]
  },
  {
   "cell_type": "code",
   "execution_count": 84,
   "metadata": {
    "scrolled": true
   },
   "outputs": [
    {
     "data": {
      "text/plain": [
       "<AxesSubplot:>"
      ]
     },
     "execution_count": 84,
     "metadata": {},
     "output_type": "execute_result"
    },
    {
     "data": {
      "image/png": "[encoded data removed]",
      "text/plain": [
       "<Figure size 216x216 with 2 Axes>"
      ]
     },
     "metadata": {
      "needs_background": "light"
     },
     "output_type": "display_data"
    }
   ],
   "source": [
    "plt.figure(figsize=(3,3))\n",
    "sns.heatmap(features_train.corr(), annot=True, square=True)"
   ]
  },
  {
   "cell_type": "markdown",
   "metadata": {},
   "source": [
    "В этом сете почти такая же корреляция между километражом и годом реистрации, как и в полностью закодированном."
   ]
  },
  {
   "cell_type": "markdown",
   "metadata": {},
   "source": [
    "## Обучение моделей"
   ]
  },
  {
   "cell_type": "code",
   "execution_count": 85,
   "metadata": {},
   "outputs": [],
   "source": [
    "model_list = {\n",
    "    'RMSE': [],\n",
    "    'Время обучения(сек)': [],\n",
    "    'Время предсказания(сек)': []\n",
    "}"
   ]
  },
  {
   "cell_type": "markdown",
   "metadata": {},
   "source": [
    "В качестве моделей использую DecisionTreeClassifier, CatBoostClassifier, LightGBM.\n",
    "\n",
    "Алгоритм будет один -  выбрать гиперпараметры, засечь время обучения модели, просчитать модель. Может быть, у меня получится создать функцию для этой цели."
   ]
  },
  {
   "cell_type": "markdown",
   "metadata": {},
   "source": [
    "### DecisionTreeRegressor"
   ]
  },
  {
   "cell_type": "code",
   "execution_count": 86,
   "metadata": {},
   "outputs": [
    {
     "name": "stdout",
     "output_type": "stream",
     "text": [
      "{'max_depth': 16000, 'min_samples_leaf': 4, 'min_samples_split': 20}\n",
      "13.561309337615967\n",
      "CPU times: user 13.6 s, sys: 242 µs, total: 13.6 s\n",
      "Wall time: 13.6 s\n"
     ]
    }
   ],
   "source": [
    "%%time \n",
    "start = time()\n",
    "model_tree = DecisionTreeRegressor(random_state=RANDOM_STATE)\n",
    "\n",
    "parameters = {'max_depth' : [3, 16000], 'min_samples_split' : [10, 20], 'min_samples_leaf' : [4, 30]}\n",
    "\n",
    "grid_tree = GridSearchCV(DecisionTreeRegressor(random_state=RANDOM_STATE), parameters, scoring=\"neg_root_mean_squared_error\", cv = 5, n_jobs= -1)   # , class_weight = 'balanced'\n",
    "grid_tree.fit(features_train_code, target_train)\n",
    "\n",
    "print(grid_tree.best_params_)\n",
    "time_tree = time() - start\n",
    "print(time_tree)\n",
    "\n"
   ]
  },
  {
   "cell_type": "code",
   "execution_count": 87,
   "metadata": {},
   "outputs": [
    {
     "name": "stdout",
     "output_type": "stream",
     "text": [
      "[-1777.27317588 -1787.08268086 -1775.38092692 -1760.62535402\n",
      " -1777.56474121]\n",
      "2.813124895095825\n",
      "CPU times: user 2.81 s, sys: 0 ns, total: 2.81 s\n",
      "Wall time: 2.81 s\n"
     ]
    }
   ],
   "source": [
    "%%time\n",
    "start = time()\n",
    "model_tree = DecisionTreeRegressor(max_depth=grid_tree.best_params_.get('max_depth'),\\\n",
    "                                    min_samples_leaf=grid_tree.best_params_.get('min_samples_leaf'),\\\n",
    "                                    min_samples_split= grid_tree.best_params_.get('min_samples_split'))\n",
    "\n",
    "score_tree = cross_val_score(model_tree, features_train_code, target_train, scoring=\"neg_root_mean_squared_error\", cv=5)\n",
    "\n",
    "print(score_tree)\n",
    "time_tree = time() - start\n",
    "print(time_tree)"
   ]
  },
  {
   "cell_type": "code",
   "execution_count": 88,
   "metadata": {},
   "outputs": [
    {
     "data": {
      "text/plain": [
       "1775.5853757775271"
      ]
     },
     "execution_count": 88,
     "metadata": {},
     "output_type": "execute_result"
    }
   ],
   "source": [
    "mean_score_tree = np.mean(score_tree)*(-1)\n",
    "mean_score_tree"
   ]
  },
  {
   "cell_type": "code",
   "execution_count": 89,
   "metadata": {},
   "outputs": [
    {
     "data": {
      "text/plain": [
       "DecisionTreeRegressor(max_depth=16000, min_samples_leaf=4, min_samples_split=20)"
      ]
     },
     "execution_count": 89,
     "metadata": {},
     "output_type": "execute_result"
    }
   ],
   "source": [
    "model_tree.fit(features_train_code, target_train)\n"
   ]
  },
  {
   "cell_type": "code",
   "execution_count": 90,
   "metadata": {},
   "outputs": [
    {
     "name": "stdout",
     "output_type": "stream",
     "text": [
      "CPU times: user 66 ms, sys: 0 ns, total: 66 ms\n",
      "Wall time: 66 ms\n"
     ]
    }
   ],
   "source": [
    "%%time\n",
    "\n",
    "start = time()\n",
    "predicted_tree = model_tree.predict(features_train_code)\n",
    "\n",
    "predicted_time = time() - start"
   ]
  },
  {
   "cell_type": "code",
   "execution_count": 91,
   "metadata": {},
   "outputs": [],
   "source": [
    "model_list['Время обучения(сек)'].append(time_tree)\n",
    "model_list['RMSE'].append(mean_score_tree)\n",
    "model_list['Время предсказания(сек)'].append(predicted_time)\n"
   ]
  },
  {
   "cell_type": "markdown",
   "metadata": {},
   "source": [
    "### CatBoostRegressor"
   ]
  },
  {
   "cell_type": "code",
   "execution_count": 92,
   "metadata": {
    "scrolled": false
   },
   "outputs": [
    {
     "name": "stdout",
     "output_type": "stream",
     "text": [
      "Best params: {'l2_leaf_reg': 1, 'max_depth': 1, 'n_estimators': 20}\n",
      "time = 99.32125091552734\n",
      "CPU times: user 54.8 s, sys: 493 ms, total: 55.3 s\n",
      "Wall time: 1min 39s\n"
     ]
    }
   ],
   "source": [
    "%%time\n",
    "\n",
    "parameters_cat = {'n_estimators': [1, 20, 4], 'max_depth' : [1, 300, 30], 'l2_leaf_reg': [1, 50, 5]}\n",
    "\n",
    "start = time()                     \n",
    "\n",
    "grid_cat = GridSearchCV(CatBoostRegressor(random_state=RANDOM_STATE),\\\n",
    "                        parameters_cat, scoring=\"neg_root_mean_squared_error\",\\\n",
    "                        cv=5, n_jobs=-1)\n",
    "\n",
    "grid_cat.fit(features_train, target_train, silent=True, cat_features=columns_cat)\n",
    "\n",
    "time_cat = time() - start\n",
    "\n",
    "print('Best params:', grid_cat.best_params_)\n",
    "print('time =', time_cat)\n",
    "\n"
   ]
  },
  {
   "cell_type": "code",
   "execution_count": 93,
   "metadata": {},
   "outputs": [
    {
     "name": "stdout",
     "output_type": "stream",
     "text": [
      "time = 7.945383787155151\n",
      "CPU times: user 5.05 s, sys: 128 ms, total: 5.18 s\n",
      "Wall time: 7.95 s\n"
     ]
    },
    {
     "data": {
      "text/plain": [
       "array([-3825.25342484, -3791.31322733, -3804.92588328, -3777.77176225,\n",
       "       -3780.64894643])"
      ]
     },
     "execution_count": 93,
     "metadata": {},
     "output_type": "execute_result"
    }
   ],
   "source": [
    "%%time\n",
    "start = time()\n",
    "\n",
    "model_cat = CatBoostRegressor(n_estimators=grid_cat.best_params_.get('n_estimators'),\\\n",
    "                              max_depth=grid_cat.best_params_.get('max_depth'),\\\n",
    "                              l2_leaf_reg=grid_cat.best_params_.get('l2_leaf_reg'),\\\n",
    "                              random_state=RANDOM_STATE, silent=True,\\\n",
    "                              cat_features=columns_cat)\n",
    "\n",
    "\n",
    "                              \n",
    "score_cat =cross_val_score(model_cat, features_train, target_train, scoring=\"neg_root_mean_squared_error\", cv=5)\n",
    "\n",
    "time_cat = time() - start\n",
    "print('time =', time_cat) \n",
    "\n",
    "\n",
    "\n",
    "score_cat"
   ]
  },
  {
   "cell_type": "code",
   "execution_count": 94,
   "metadata": {},
   "outputs": [
    {
     "data": {
      "text/plain": [
       "3795.9826488246167"
      ]
     },
     "execution_count": 94,
     "metadata": {},
     "output_type": "execute_result"
    }
   ],
   "source": [
    "mean_score_cat = np.mean(score_cat)*(-1)\n",
    "mean_score_cat"
   ]
  },
  {
   "cell_type": "code",
   "execution_count": 95,
   "metadata": {},
   "outputs": [
    {
     "data": {
      "text/plain": [
       "<catboost.core.CatBoostRegressor at 0x7f20ad560af0>"
      ]
     },
     "execution_count": 95,
     "metadata": {},
     "output_type": "execute_result"
    }
   ],
   "source": [
    "model_cat.fit(features_train, target_train, cat_features=columns_cat)"
   ]
  },
  {
   "cell_type": "code",
   "execution_count": 96,
   "metadata": {},
   "outputs": [
    {
     "name": "stdout",
     "output_type": "stream",
     "text": [
      "time = 0.3178431987762451\n",
      "CPU times: user 315 ms, sys: 0 ns, total: 315 ms\n",
      "Wall time: 318 ms\n"
     ]
    }
   ],
   "source": [
    "%%time\n",
    "start = time()\n",
    "predicted_cat = model_cat.predict(features_train)\n",
    "\n",
    "predicted_time = time() - start\n",
    "print('time =', predicted_time)"
   ]
  },
  {
   "cell_type": "code",
   "execution_count": 97,
   "metadata": {},
   "outputs": [],
   "source": [
    "model_list['Время обучения(сек)'].append(time_cat)\n",
    "model_list['RMSE'].append(mean_score_cat)\n",
    "model_list['Время предсказания(сек)'].append(predicted_time)"
   ]
  },
  {
   "cell_type": "code",
   "execution_count": 98,
   "metadata": {},
   "outputs": [],
   "source": [
    "del len_df, len_before, len_after, columns, columns_numeric, f, (ax1, ax2), brand_power, auto_model, features_train_code\n",
    "del features_test_code, encoder, scaler, model_tree, parameters, grid_tree, time_tree, score_tree, mean_score_tree\n",
    "del predicted_time, parameters_cat, grid_cat, time_cat, score_cat, mean_score_cat, predicted_cat, model_cat"
   ]
  },
  {
   "cell_type": "markdown",
   "metadata": {},
   "source": [
    "### LGBMRegressor"
   ]
  },
  {
   "cell_type": "code",
   "execution_count": 99,
   "metadata": {},
   "outputs": [],
   "source": [
    "parameters_lgbm = {\n",
    "    'max_depth': range(4,10,3),\n",
    "    'n_estimators': range(1,100,25)\n",
    "}\n",
    "\n",
    "    "
   ]
  },
  {
   "cell_type": "code",
   "execution_count": 100,
   "metadata": {},
   "outputs": [],
   "source": [
    "features_train[columns_cat] = features_train[columns_cat].astype('category')"
   ]
  },
  {
   "cell_type": "code",
   "execution_count": 101,
   "metadata": {},
   "outputs": [
    {
     "name": "stdout",
     "output_type": "stream",
     "text": [
      "Best params: {'max_depth': 7, 'n_estimators': 76}\n",
      "550.9910814762115\n",
      "CPU times: user 9min 1s, sys: 4.03 s, total: 9min 5s\n",
      "Wall time: 9min 10s\n"
     ]
    }
   ],
   "source": [
    "%%time\n",
    "lgbm = LGBMRegressor(seed=RANDOM_STATE)\n",
    "start = time()\n",
    "grid_lgbm = GridSearchCV(lgbm, parameters_lgbm, cv=5, scoring='neg_mean_squared_error')\n",
    "grid_lgbm.fit(features_train, target_train, categorical_feature=columns_cat);\n",
    "grid_lgbm.best_params_\n",
    "time_lgbm = time() - start\n",
    "print('Best params:', grid_lgbm.best_params_)\n",
    "print(time_lgbm)\n",
    "\n"
   ]
  },
  {
   "cell_type": "code",
   "execution_count": 102,
   "metadata": {},
   "outputs": [
    {
     "name": "stdout",
     "output_type": "stream",
     "text": [
      "21.609668970108032\n",
      "CPU times: user 21.4 s, sys: 85.6 ms, total: 21.5 s\n",
      "Wall time: 21.6 s\n"
     ]
    }
   ],
   "source": [
    "%%time\n",
    "start = time()\n",
    "\n",
    "model_lgbm = LGBMRegressor(max_depth=grid_lgbm.best_params_.get('max_depth'),\n",
    "                           n_estimators=grid_lgbm.best_params_.get('n_estimators'),\n",
    "                           seed=RANDOM_STATE)\n",
    "\n",
    "\n",
    "                                                      \n",
    "                               \n",
    "score_lgbm =cross_val_score(model_lgbm, features_train, target_train, scoring=\"neg_root_mean_squared_error\",\\\n",
    "                            cv=5)\n",
    "score_lgbm\n",
    "time_lgbm = time() - start\n",
    "print(time_lgbm)\n",
    "\n"
   ]
  },
  {
   "cell_type": "code",
   "execution_count": 103,
   "metadata": {
    "scrolled": true
   },
   "outputs": [
    {
     "data": {
      "text/plain": [
       "1654.3680511379935"
      ]
     },
     "execution_count": 103,
     "metadata": {},
     "output_type": "execute_result"
    }
   ],
   "source": [
    "mean_score_lgbm = np.mean(score_lgbm)*(-1)\n",
    "mean_score_lgbm"
   ]
  },
  {
   "cell_type": "code",
   "execution_count": 104,
   "metadata": {},
   "outputs": [
    {
     "data": {
      "text/plain": [
       "LGBMRegressor(max_depth=7, n_estimators=76, seed=123)"
      ]
     },
     "execution_count": 104,
     "metadata": {},
     "output_type": "execute_result"
    }
   ],
   "source": [
    "model_lgbm.fit(features_train, target_train, categorical_feature=columns_cat)"
   ]
  },
  {
   "cell_type": "code",
   "execution_count": 105,
   "metadata": {},
   "outputs": [
    {
     "name": "stdout",
     "output_type": "stream",
     "text": [
      "CPU times: user 1.87 s, sys: 0 ns, total: 1.87 s\n",
      "Wall time: 1.91 s\n"
     ]
    }
   ],
   "source": [
    "%%time\n",
    "start = time()\n",
    "predicted_lgbm = model_lgbm.predict(features_train)\n",
    "\n",
    "predicted_time = time() - start\n",
    "\n"
   ]
  },
  {
   "cell_type": "code",
   "execution_count": 106,
   "metadata": {},
   "outputs": [],
   "source": [
    "model_list['Время обучения(сек)'].append(time_lgbm)\n",
    "model_list['RMSE'].append(mean_score_lgbm)\n",
    "model_list['Время предсказания(сек)'].append(predicted_time)"
   ]
  },
  {
   "cell_type": "code",
   "execution_count": 107,
   "metadata": {},
   "outputs": [
    {
     "data": {
      "text/plain": [
       "{'RMSE': [1775.5853757775271, 3795.9826488246167, 1654.3680511379935],\n",
       " 'Время обучения(сек)': [2.813124895095825,\n",
       "  7.945383787155151,\n",
       "  21.609668970108032],\n",
       " 'Время предсказания(сек)': [0.06596231460571289,\n",
       "  0.3178431987762451,\n",
       "  1.9063165187835693]}"
      ]
     },
     "execution_count": 107,
     "metadata": {},
     "output_type": "execute_result"
    }
   ],
   "source": [
    "model_list"
   ]
  },
  {
   "cell_type": "code",
   "execution_count": 108,
   "metadata": {},
   "outputs": [],
   "source": [
    "model_rating_table = {\n",
    "    'Model': ['DecisionTree', 'CatBoost', 'LightGBM'],\n",
    "    'RMSE': model_list['RMSE'],\n",
    "    'Время обучения(сек)': model_list['Время обучения(сек)'],    \n",
    "    'Время предсказания(сек)': model_list['Время предсказания(сек)']\n",
    "}"
   ]
  },
  {
   "cell_type": "code",
   "execution_count": 109,
   "metadata": {
    "scrolled": true
   },
   "outputs": [
    {
     "data": {
      "text/html": [
       "<style  type=\"text/css\" >\n",
       "#T_3e774_row1_col2,#T_3e774_row1_col3,#T_3e774_row2_col1{\n",
       "            background-color:  yellow;\n",
       "        }</style><table id=\"T_3e774_\" ><thead>    <tr>        <th class=\"blank level0\" ></th>        <th class=\"col_heading level0 col0\" >Model</th>        <th class=\"col_heading level0 col1\" >RMSE</th>        <th class=\"col_heading level0 col2\" >Время обучения(сек)</th>        <th class=\"col_heading level0 col3\" >Время предсказания(сек)</th>    </tr></thead><tbody>\n",
       "                <tr>\n",
       "                        <th id=\"T_3e774_level0_row0\" class=\"row_heading level0 row0\" >1</th>\n",
       "                        <td id=\"T_3e774_row0_col0\" class=\"data row0 col0\" >CatBoost</td>\n",
       "                        <td id=\"T_3e774_row0_col1\" class=\"data row0 col1\" >3795.982649</td>\n",
       "                        <td id=\"T_3e774_row0_col2\" class=\"data row0 col2\" >7.945384</td>\n",
       "                        <td id=\"T_3e774_row0_col3\" class=\"data row0 col3\" >0.317843</td>\n",
       "            </tr>\n",
       "            <tr>\n",
       "                        <th id=\"T_3e774_level0_row1\" class=\"row_heading level0 row1\" >0</th>\n",
       "                        <td id=\"T_3e774_row1_col0\" class=\"data row1 col0\" >DecisionTree</td>\n",
       "                        <td id=\"T_3e774_row1_col1\" class=\"data row1 col1\" >1775.585376</td>\n",
       "                        <td id=\"T_3e774_row1_col2\" class=\"data row1 col2\" >2.813125</td>\n",
       "                        <td id=\"T_3e774_row1_col3\" class=\"data row1 col3\" >0.065962</td>\n",
       "            </tr>\n",
       "            <tr>\n",
       "                        <th id=\"T_3e774_level0_row2\" class=\"row_heading level0 row2\" >2</th>\n",
       "                        <td id=\"T_3e774_row2_col0\" class=\"data row2 col0\" >LightGBM</td>\n",
       "                        <td id=\"T_3e774_row2_col1\" class=\"data row2 col1\" >1654.368051</td>\n",
       "                        <td id=\"T_3e774_row2_col2\" class=\"data row2 col2\" >21.609669</td>\n",
       "                        <td id=\"T_3e774_row2_col3\" class=\"data row2 col3\" >1.906317</td>\n",
       "            </tr>\n",
       "    </tbody></table>"
      ],
      "text/plain": [
       "<pandas.io.formats.style.Styler at 0x7f20ad5cbb50>"
      ]
     },
     "execution_count": 109,
     "metadata": {},
     "output_type": "execute_result"
    }
   ],
   "source": [
    "model_rating_table = pd.DataFrame(model_rating_table)\n",
    "model_rating_table.sort_values('RMSE', ascending=False).style.highlight_min(subset=['RMSE',\\\n",
    "                                                             'Время обучения(сек)', 'Время предсказания(сек)'])"
   ]
  },
  {
   "cell_type": "markdown",
   "metadata": {},
   "source": [
    "Получается, что моделью выбора становится LGBM с лучшей из полученных метрик RMSE."
   ]
  },
  {
   "cell_type": "markdown",
   "metadata": {},
   "source": [
    "## Анализ моделей"
   ]
  },
  {
   "cell_type": "markdown",
   "metadata": {},
   "source": [
    "Запустим выбранную модель на тестовой выборке."
   ]
  },
  {
   "cell_type": "markdown",
   "metadata": {},
   "source": [
    "###### LGBMRegressor"
   ]
  },
  {
   "cell_type": "code",
   "execution_count": 110,
   "metadata": {},
   "outputs": [],
   "source": [
    "features_test[columns_cat] = features_test[columns_cat].astype('category')"
   ]
  },
  {
   "cell_type": "code",
   "execution_count": 111,
   "metadata": {
    "scrolled": true
   },
   "outputs": [
    {
     "name": "stdout",
     "output_type": "stream",
     "text": [
      "Время предсказания(сек):  0.45\n",
      "RMSE:  1668.57466\n",
      "CPU times: user 502 ms, sys: 0 ns, total: 502 ms\n",
      "Wall time: 454 ms\n"
     ]
    }
   ],
   "source": [
    "%%time\n",
    "\n",
    "start = time()\n",
    "predicted_lgbm = model_lgbm.predict(features_test)\n",
    "\n",
    "predicted_time = round(time() - start,2)\n",
    "rmse_lgbm = round(mean_squared_error(target_test, predicted_lgbm) ** 0.5,6)\n",
    "\n",
    "print('Время предсказания(сек): ', predicted_time)\n",
    "print('RMSE: ', rmse_lgbm)\n",
    "\n"
   ]
  },
  {
   "cell_type": "code",
   "execution_count": 112,
   "metadata": {},
   "outputs": [
    {
     "data": {
      "text/plain": [
       "Text(0.5, 1.0, 'Correlation Heatmap\\n')"
      ]
     },
     "execution_count": 112,
     "metadata": {},
     "output_type": "execute_result"
    },
    {
     "data": {
      "image/png": "[encoded data removed]",
      "text/plain": [
       "<Figure size 144x576 with 2 Axes>"
      ]
     },
     "metadata": {
      "needs_background": "light"
     },
     "output_type": "display_data"
    }
   ],
   "source": [
    "feature_names = features_train.columns\n",
    "model_importances = pd.Series(model_lgbm.feature_importances_, index=feature_names).reset_index()\n",
    "model_importances.index=model_importances['index']\n",
    "model_importances.rename(columns={0:'features'}, inplace=True)\n",
    "plt.figure(figsize=(2,8))\n",
    "sns.heatmap(model_importances[['features']].sort_values(by='features',ascending=False),\\\n",
    "            annot=True, cmap='Greens_r')\n",
    "plt.title('Correlation Heatmap'+'\\n',fontsize=16)"
   ]
  },
  {
   "cell_type": "code",
   "execution_count": 115,
   "metadata": {},
   "outputs": [
    {
     "data": {
      "image/png": "[encoded data removed]",
      "text/plain": [
       "<Figure size 576x367.2 with 2 Axes>"
      ]
     },
     "metadata": {
      "needs_background": "light"
     },
     "output_type": "display_data"
    }
   ],
   "source": [
    "import shap\n",
    "\n",
    "shap_test = shap.TreeExplainer(model_lgbm).shap_values(features_test)\n",
    "shap.summary_plot(shap_test, features_test,\n",
    "                      max_display=30, auto_size_plot=True)\n"
   ]
  },
  {
   "cell_type": "markdown",
   "metadata": {},
   "source": [
    "## Вывод"
   ]
  },
  {
   "cell_type": "markdown",
   "metadata": {},
   "source": [
    "В работе проведён анализ данных: убраны полные дубли, изъяты данные с ошибочными датами, низкой ценой (до 100 евро), исключены признаки PostalCode, LastSeen, NumberOfPictures по причине неинформативности, заполнены пропуски. \n",
    "\n",
    "Для обучения модели DecisionTree кодирую категориальные признаки и масштабирую числовые, для моделей CatBoost и LGBM провожу только масштабирование числовых признаков, потому что эти модели сами обрабатывают категориальные признаки.\n",
    "\n",
    "С помощью gridSearch подбираю оптимальные параметры моделей и на кроссвалидации рассчитываю метрику RMSE. Составляю сводную таблицу интересующих параметров работы модели - метрика RMSE, время обучения и время предсказания."
   ]
  },
  {
   "cell_type": "code",
   "execution_count": 116,
   "metadata": {
    "scrolled": true
   },
   "outputs": [
    {
     "data": {
      "text/html": [
       "<div>\n",
       "<style scoped>\n",
       "    .dataframe tbody tr th:only-of-type {\n",
       "        vertical-align: middle;\n",
       "    }\n",
       "\n",
       "    .dataframe tbody tr th {\n",
       "        vertical-align: top;\n",
       "    }\n",
       "\n",
       "    .dataframe thead th {\n",
       "        text-align: right;\n",
       "    }\n",
       "</style>\n",
       "<table border=\"1\" class=\"dataframe\">\n",
       "  <thead>\n",
       "    <tr style=\"text-align: right;\">\n",
       "      <th></th>\n",
       "      <th>Model</th>\n",
       "      <th>RMSE</th>\n",
       "      <th>Время обучения(сек)</th>\n",
       "      <th>Время предсказания(сек)</th>\n",
       "    </tr>\n",
       "  </thead>\n",
       "  <tbody>\n",
       "    <tr>\n",
       "      <th>0</th>\n",
       "      <td>DecisionTree</td>\n",
       "      <td>1775.585376</td>\n",
       "      <td>2.813125</td>\n",
       "      <td>0.065962</td>\n",
       "    </tr>\n",
       "    <tr>\n",
       "      <th>1</th>\n",
       "      <td>CatBoost</td>\n",
       "      <td>3795.982649</td>\n",
       "      <td>7.945384</td>\n",
       "      <td>0.317843</td>\n",
       "    </tr>\n",
       "    <tr>\n",
       "      <th>2</th>\n",
       "      <td>LightGBM</td>\n",
       "      <td>1654.368051</td>\n",
       "      <td>21.609669</td>\n",
       "      <td>1.906317</td>\n",
       "    </tr>\n",
       "  </tbody>\n",
       "</table>\n",
       "</div>"
      ],
      "text/plain": [
       "          Model         RMSE  Время обучения(сек)  Время предсказания(сек)\n",
       "0  DecisionTree  1775.585376             2.813125                 0.065962\n",
       "1      CatBoost  3795.982649             7.945384                 0.317843\n",
       "2      LightGBM  1654.368051            21.609669                 1.906317"
      ]
     },
     "execution_count": 116,
     "metadata": {},
     "output_type": "execute_result"
    }
   ],
   "source": [
    "model_rating_table"
   ]
  },
  {
   "cell_type": "markdown",
   "metadata": {},
   "source": [
    "Таблица показывает, что лучше всех метрика у модели LGBM. Параметры модели: max_depth=7, n_estimators=76, seed=123. Далее я тестирую эту модель на тестовой выборке, получая следующие данные: "
   ]
  },
  {
   "cell_type": "code",
   "execution_count": 117,
   "metadata": {
    "scrolled": true
   },
   "outputs": [
    {
     "name": "stdout",
     "output_type": "stream",
     "text": [
      "Время обучения(сек):  21.609668970108032\n",
      "Время предсказания(сек):  0.45\n",
      "RMSE:  1668.57466\n"
     ]
    }
   ],
   "source": [
    "print('Время обучения(сек): ', time_lgbm)\n",
    "print('Время предсказания(сек): ', predicted_time)\n",
    "print('RMSE: ', rmse_lgbm)"
   ]
  },
  {
   "cell_type": "markdown",
   "metadata": {},
   "source": [
    "Анализ важности признаков показывает, что модель LGBM  для определения цены автомобиля в текущих данных считает важными модель автомобиля, год регистрации автомобиля и мощность двигателя. Был ли автомобиль в ремонте, коробка передач и тип используемого топлива практически не имеют влияния на формирование цены."
   ]
  }
 ],
 "metadata": {
  "ExecuteTimeLog": [
   {
    "duration": 2222,
    "start_time": "2023-06-13T09:01:18.621Z"
   },
   {
    "duration": 2095,
    "start_time": "2023-06-13T09:01:20.845Z"
   },
   {
    "duration": 218,
    "start_time": "2023-06-13T09:01:45.188Z"
   },
   {
    "duration": 638,
    "start_time": "2023-06-13T09:02:35.900Z"
   },
   {
    "duration": 36,
    "start_time": "2023-06-13T09:02:46.971Z"
   },
   {
    "duration": 320,
    "start_time": "2023-06-13T10:01:16.759Z"
   },
   {
    "duration": 297,
    "start_time": "2023-06-13T10:01:45.817Z"
   },
   {
    "duration": 798,
    "start_time": "2023-06-13T10:02:23.571Z"
   },
   {
    "duration": 265,
    "start_time": "2023-06-13T10:02:36.110Z"
   },
   {
    "duration": 720,
    "start_time": "2023-06-13T10:14:32.378Z"
   },
   {
    "duration": 62,
    "start_time": "2023-06-13T10:19:58.144Z"
   },
   {
    "duration": 197,
    "start_time": "2023-06-13T10:20:02.880Z"
   },
   {
    "duration": 112,
    "start_time": "2023-06-13T10:20:18.831Z"
   },
   {
    "duration": 107,
    "start_time": "2023-06-13T10:20:37.401Z"
   },
   {
    "duration": 48,
    "start_time": "2023-06-13T10:21:35.206Z"
   },
   {
    "duration": 154,
    "start_time": "2023-06-13T10:22:08.770Z"
   },
   {
    "duration": 59,
    "start_time": "2023-06-13T10:22:37.414Z"
   },
   {
    "duration": 167,
    "start_time": "2023-06-13T10:22:43.849Z"
   },
   {
    "duration": 36,
    "start_time": "2023-06-13T10:22:54.818Z"
   },
   {
    "duration": 109,
    "start_time": "2023-06-13T10:22:57.301Z"
   },
   {
    "duration": 107,
    "start_time": "2023-06-13T10:23:08.475Z"
   },
   {
    "duration": 3,
    "start_time": "2023-06-13T10:26:14.080Z"
   },
   {
    "duration": 201,
    "start_time": "2023-06-13T10:26:15.823Z"
   },
   {
    "duration": 31,
    "start_time": "2023-06-13T10:31:27.995Z"
   },
   {
    "duration": 143,
    "start_time": "2023-06-13T11:00:18.177Z"
   },
   {
    "duration": 57,
    "start_time": "2023-06-14T07:50:49.317Z"
   },
   {
    "duration": 1969,
    "start_time": "2023-06-14T07:51:14.046Z"
   },
   {
    "duration": 3380,
    "start_time": "2023-06-14T07:51:19.852Z"
   },
   {
    "duration": 176,
    "start_time": "2023-06-14T07:51:23.240Z"
   },
   {
    "duration": 43,
    "start_time": "2023-06-14T07:51:23.418Z"
   },
   {
    "duration": 543,
    "start_time": "2023-06-14T07:51:23.466Z"
   },
   {
    "duration": 660,
    "start_time": "2023-06-14T07:51:24.011Z"
   },
   {
    "duration": 74,
    "start_time": "2023-06-14T07:51:24.673Z"
   },
   {
    "duration": 49,
    "start_time": "2023-06-14T07:51:24.749Z"
   },
   {
    "duration": 187,
    "start_time": "2023-06-14T07:51:24.800Z"
   },
   {
    "duration": 143,
    "start_time": "2023-06-14T07:51:24.990Z"
   },
   {
    "duration": 10,
    "start_time": "2023-06-14T07:51:25.135Z"
   },
   {
    "duration": 168,
    "start_time": "2023-06-14T07:51:25.147Z"
   },
   {
    "duration": 38,
    "start_time": "2023-06-14T07:51:25.317Z"
   },
   {
    "duration": 10,
    "start_time": "2023-06-14T07:51:25.358Z"
   },
   {
    "duration": 25,
    "start_time": "2023-06-14T07:51:25.370Z"
   },
   {
    "duration": 6,
    "start_time": "2023-06-14T07:51:38.556Z"
   },
   {
    "duration": 39,
    "start_time": "2023-06-14T07:52:01.120Z"
   },
   {
    "duration": 25,
    "start_time": "2023-06-14T07:52:01.903Z"
   },
   {
    "duration": 53,
    "start_time": "2023-06-14T13:35:32.386Z"
   },
   {
    "duration": 7,
    "start_time": "2023-06-14T13:35:39.537Z"
   },
   {
    "duration": 1488,
    "start_time": "2023-06-14T13:36:00.828Z"
   },
   {
    "duration": 1085,
    "start_time": "2023-06-14T13:36:02.318Z"
   },
   {
    "duration": 120,
    "start_time": "2023-06-14T13:36:03.405Z"
   },
   {
    "duration": 26,
    "start_time": "2023-06-14T13:36:03.527Z"
   },
   {
    "duration": 502,
    "start_time": "2023-06-14T13:36:03.555Z"
   },
   {
    "duration": 560,
    "start_time": "2023-06-14T13:36:04.059Z"
   },
   {
    "duration": 49,
    "start_time": "2023-06-14T13:36:04.621Z"
   },
   {
    "duration": 55,
    "start_time": "2023-06-14T13:36:04.672Z"
   },
   {
    "duration": 98,
    "start_time": "2023-06-14T13:36:04.729Z"
   },
   {
    "duration": 68,
    "start_time": "2023-06-14T13:36:04.829Z"
   },
   {
    "duration": 13,
    "start_time": "2023-06-14T13:36:04.898Z"
   },
   {
    "duration": 145,
    "start_time": "2023-06-14T13:36:04.913Z"
   },
   {
    "duration": 28,
    "start_time": "2023-06-14T13:36:05.060Z"
   },
   {
    "duration": 9,
    "start_time": "2023-06-14T13:36:05.089Z"
   },
   {
    "duration": 30,
    "start_time": "2023-06-14T13:36:05.100Z"
   },
   {
    "duration": 33,
    "start_time": "2023-06-14T13:36:05.132Z"
   },
   {
    "duration": 104,
    "start_time": "2023-06-14T13:38:07.690Z"
   },
   {
    "duration": 10,
    "start_time": "2023-06-14T13:38:22.990Z"
   },
   {
    "duration": 8,
    "start_time": "2023-06-14T13:38:56.729Z"
   },
   {
    "duration": 131,
    "start_time": "2023-06-14T13:39:06.011Z"
   },
   {
    "duration": 1350,
    "start_time": "2023-06-14T13:39:39.870Z"
   },
   {
    "duration": 733,
    "start_time": "2023-06-14T13:39:41.222Z"
   },
   {
    "duration": 117,
    "start_time": "2023-06-14T13:39:41.957Z"
   },
   {
    "duration": 26,
    "start_time": "2023-06-14T13:39:42.076Z"
   },
   {
    "duration": 453,
    "start_time": "2023-06-14T13:39:42.103Z"
   },
   {
    "duration": 612,
    "start_time": "2023-06-14T13:39:42.558Z"
   },
   {
    "duration": 60,
    "start_time": "2023-06-14T13:39:43.172Z"
   },
   {
    "duration": 40,
    "start_time": "2023-06-14T13:39:43.234Z"
   },
   {
    "duration": 97,
    "start_time": "2023-06-14T13:39:43.276Z"
   },
   {
    "duration": 79,
    "start_time": "2023-06-14T13:39:43.377Z"
   },
   {
    "duration": 3,
    "start_time": "2023-06-14T13:39:43.458Z"
   },
   {
    "duration": 150,
    "start_time": "2023-06-14T13:39:43.463Z"
   },
   {
    "duration": 30,
    "start_time": "2023-06-14T13:39:43.615Z"
   },
   {
    "duration": 10,
    "start_time": "2023-06-14T13:39:43.647Z"
   },
   {
    "duration": 36,
    "start_time": "2023-06-14T13:39:43.658Z"
   },
   {
    "duration": 21,
    "start_time": "2023-06-14T13:39:43.696Z"
   },
   {
    "duration": 132,
    "start_time": "2023-06-14T13:39:43.719Z"
   },
   {
    "duration": 85,
    "start_time": "2023-06-14T13:42:16.177Z"
   },
   {
    "duration": 9,
    "start_time": "2023-06-14T13:42:21.473Z"
   },
   {
    "duration": 3,
    "start_time": "2023-06-14T13:44:24.150Z"
   },
   {
    "duration": 96,
    "start_time": "2023-06-14T13:44:29.095Z"
   },
   {
    "duration": 121,
    "start_time": "2023-06-14T13:44:40.744Z"
   },
   {
    "duration": 3,
    "start_time": "2023-06-14T13:47:16.050Z"
   },
   {
    "duration": 4,
    "start_time": "2023-06-14T13:48:04.991Z"
   },
   {
    "duration": 115,
    "start_time": "2023-06-14T13:48:13.207Z"
   },
   {
    "duration": 91,
    "start_time": "2023-06-14T13:48:25.792Z"
   },
   {
    "duration": 10,
    "start_time": "2023-06-14T13:49:56.856Z"
   },
   {
    "duration": 23,
    "start_time": "2023-06-14T13:50:25.450Z"
   },
   {
    "duration": 10,
    "start_time": "2023-06-14T13:50:40.586Z"
   },
   {
    "duration": 19,
    "start_time": "2023-06-14T13:51:55.695Z"
   },
   {
    "duration": 13,
    "start_time": "2023-06-14T13:51:56.247Z"
   },
   {
    "duration": 14,
    "start_time": "2023-06-14T13:53:23.261Z"
   },
   {
    "duration": 4,
    "start_time": "2023-06-14T13:54:44.902Z"
   },
   {
    "duration": 20,
    "start_time": "2023-06-14T13:54:49.022Z"
   },
   {
    "duration": 14,
    "start_time": "2023-06-14T13:54:50.003Z"
   },
   {
    "duration": 1495,
    "start_time": "2023-06-14T13:55:15.443Z"
   },
   {
    "duration": 918,
    "start_time": "2023-06-14T13:55:16.940Z"
   },
   {
    "duration": 376,
    "start_time": "2023-06-14T13:55:17.860Z"
   },
   {
    "duration": 97,
    "start_time": "2023-06-14T13:55:18.238Z"
   },
   {
    "duration": 1081,
    "start_time": "2023-06-14T13:55:18.338Z"
   },
   {
    "duration": 882,
    "start_time": "2023-06-14T13:55:19.421Z"
   },
   {
    "duration": 52,
    "start_time": "2023-06-14T13:55:20.304Z"
   },
   {
    "duration": 59,
    "start_time": "2023-06-14T13:55:20.359Z"
   },
   {
    "duration": 79,
    "start_time": "2023-06-14T13:55:20.420Z"
   },
   {
    "duration": 69,
    "start_time": "2023-06-14T13:55:20.512Z"
   },
   {
    "duration": 2,
    "start_time": "2023-06-14T13:55:20.583Z"
   },
   {
    "duration": 154,
    "start_time": "2023-06-14T13:55:20.587Z"
   },
   {
    "duration": 40,
    "start_time": "2023-06-14T13:55:20.743Z"
   },
   {
    "duration": 5,
    "start_time": "2023-06-14T13:55:20.786Z"
   },
   {
    "duration": 49,
    "start_time": "2023-06-14T13:55:20.793Z"
   },
   {
    "duration": 18,
    "start_time": "2023-06-14T13:55:20.844Z"
   },
   {
    "duration": 12,
    "start_time": "2023-06-14T13:55:20.863Z"
   },
   {
    "duration": 4,
    "start_time": "2023-06-14T13:55:20.877Z"
   },
   {
    "duration": 18,
    "start_time": "2023-06-14T13:55:20.883Z"
   },
   {
    "duration": 131,
    "start_time": "2023-06-14T13:55:20.902Z"
   },
   {
    "duration": 65,
    "start_time": "2023-06-16T07:18:02.085Z"
   },
   {
    "duration": 2183,
    "start_time": "2023-06-16T07:18:09.478Z"
   },
   {
    "duration": 4057,
    "start_time": "2023-06-16T07:18:11.664Z"
   },
   {
    "duration": 197,
    "start_time": "2023-06-16T07:18:15.727Z"
   },
   {
    "duration": 42,
    "start_time": "2023-06-16T07:18:15.934Z"
   },
   {
    "duration": 672,
    "start_time": "2023-06-16T07:18:15.979Z"
   },
   {
    "duration": 675,
    "start_time": "2023-06-16T07:18:16.654Z"
   },
   {
    "duration": 51,
    "start_time": "2023-06-16T07:18:17.332Z"
   },
   {
    "duration": 53,
    "start_time": "2023-06-16T07:18:17.386Z"
   },
   {
    "duration": 114,
    "start_time": "2023-06-16T07:18:17.441Z"
   },
   {
    "duration": 104,
    "start_time": "2023-06-16T07:18:17.558Z"
   },
   {
    "duration": 8,
    "start_time": "2023-06-16T07:18:17.663Z"
   },
   {
    "duration": 241,
    "start_time": "2023-06-16T07:18:17.673Z"
   },
   {
    "duration": 36,
    "start_time": "2023-06-16T07:18:17.916Z"
   },
   {
    "duration": 40,
    "start_time": "2023-06-16T07:18:17.954Z"
   },
   {
    "duration": 53,
    "start_time": "2023-06-16T07:18:17.996Z"
   },
   {
    "duration": 20,
    "start_time": "2023-06-16T07:18:18.051Z"
   },
   {
    "duration": 15,
    "start_time": "2023-06-16T07:18:18.073Z"
   },
   {
    "duration": 15,
    "start_time": "2023-06-16T07:18:18.090Z"
   },
   {
    "duration": 4,
    "start_time": "2023-06-16T07:18:18.107Z"
   },
   {
    "duration": 227,
    "start_time": "2023-06-16T07:18:18.115Z"
   },
   {
    "duration": 831,
    "start_time": "2023-06-16T07:18:18.344Z"
   },
   {
    "duration": 585,
    "start_time": "2023-06-16T07:19:20.334Z"
   },
   {
    "duration": 27,
    "start_time": "2023-06-16T07:22:38.506Z"
   },
   {
    "duration": 21,
    "start_time": "2023-06-16T07:23:32.510Z"
   },
   {
    "duration": 85,
    "start_time": "2023-06-16T07:24:36.753Z"
   },
   {
    "duration": 11,
    "start_time": "2023-06-16T07:24:48.648Z"
   },
   {
    "duration": 10,
    "start_time": "2023-06-16T07:24:54.452Z"
   },
   {
    "duration": 235,
    "start_time": "2023-06-16T07:26:57.258Z"
   },
   {
    "duration": 205,
    "start_time": "2023-06-16T07:32:16.513Z"
   },
   {
    "duration": 184,
    "start_time": "2023-06-16T07:34:11.131Z"
   },
   {
    "duration": 31,
    "start_time": "2023-06-16T08:35:05.333Z"
   },
   {
    "duration": 21,
    "start_time": "2023-06-16T08:35:08.938Z"
   },
   {
    "duration": 20,
    "start_time": "2023-06-16T08:35:10.348Z"
   },
   {
    "duration": 4,
    "start_time": "2023-06-16T08:35:12.396Z"
   },
   {
    "duration": 2,
    "start_time": "2023-06-16T08:35:12.653Z"
   },
   {
    "duration": 4,
    "start_time": "2023-06-16T08:35:12.898Z"
   },
   {
    "duration": 155,
    "start_time": "2023-06-16T08:35:13.116Z"
   },
   {
    "duration": 207,
    "start_time": "2023-06-16T08:35:54.663Z"
   },
   {
    "duration": 189,
    "start_time": "2023-06-16T08:36:00.187Z"
   },
   {
    "duration": 181,
    "start_time": "2023-06-16T08:36:05.172Z"
   },
   {
    "duration": 539,
    "start_time": "2023-06-16T08:37:15.874Z"
   },
   {
    "duration": 94,
    "start_time": "2023-06-16T09:53:23.968Z"
   },
   {
    "duration": 11,
    "start_time": "2023-06-16T09:53:30.575Z"
   },
   {
    "duration": 36,
    "start_time": "2023-06-16T09:56:35.605Z"
   },
   {
    "duration": 58,
    "start_time": "2023-06-16T09:59:15.034Z"
   },
   {
    "duration": 29,
    "start_time": "2023-06-16T09:59:42.635Z"
   },
   {
    "duration": 8,
    "start_time": "2023-06-16T10:02:52.411Z"
   },
   {
    "duration": 97,
    "start_time": "2023-06-16T10:17:45.659Z"
   },
   {
    "duration": 50,
    "start_time": "2023-06-16T10:18:00.914Z"
   },
   {
    "duration": 38,
    "start_time": "2023-06-16T10:18:47.863Z"
   },
   {
    "duration": 52,
    "start_time": "2023-06-16T10:19:10.051Z"
   },
   {
    "duration": 175,
    "start_time": "2023-06-16T10:26:10.645Z"
   },
   {
    "duration": 12,
    "start_time": "2023-06-16T10:26:17.814Z"
   },
   {
    "duration": 13,
    "start_time": "2023-06-16T10:26:23.633Z"
   },
   {
    "duration": 141,
    "start_time": "2023-06-16T10:26:35.645Z"
   },
   {
    "duration": 8,
    "start_time": "2023-06-16T10:27:03.518Z"
   },
   {
    "duration": 196,
    "start_time": "2023-06-16T10:27:33.148Z"
   },
   {
    "duration": 168,
    "start_time": "2023-06-16T10:27:37.062Z"
   },
   {
    "duration": 1684,
    "start_time": "2023-06-16T10:31:17.022Z"
   },
   {
    "duration": 18,
    "start_time": "2023-06-16T10:32:02.754Z"
   },
   {
    "duration": 16,
    "start_time": "2023-06-16T10:32:38.167Z"
   },
   {
    "duration": 16,
    "start_time": "2023-06-16T10:34:06.375Z"
   },
   {
    "duration": 3,
    "start_time": "2023-06-16T10:38:11.778Z"
   },
   {
    "duration": 328,
    "start_time": "2023-06-16T10:38:14.545Z"
   },
   {
    "duration": 1762,
    "start_time": "2023-06-16T10:38:39.922Z"
   },
   {
    "duration": 1336,
    "start_time": "2023-06-16T10:38:41.687Z"
   },
   {
    "duration": 337,
    "start_time": "2023-06-16T10:38:43.025Z"
   },
   {
    "duration": 103,
    "start_time": "2023-06-16T10:38:43.365Z"
   },
   {
    "duration": 40,
    "start_time": "2023-06-16T10:38:43.475Z"
   },
   {
    "duration": 1442,
    "start_time": "2023-06-16T10:38:43.517Z"
   },
   {
    "duration": 1613,
    "start_time": "2023-06-16T10:38:44.961Z"
   },
   {
    "duration": 154,
    "start_time": "2023-06-16T10:38:46.576Z"
   },
   {
    "duration": 82,
    "start_time": "2023-06-16T10:38:46.732Z"
   },
   {
    "duration": 230,
    "start_time": "2023-06-16T10:38:46.816Z"
   },
   {
    "duration": 203,
    "start_time": "2023-06-16T10:38:47.049Z"
   },
   {
    "duration": 61,
    "start_time": "2023-06-16T10:38:47.253Z"
   },
   {
    "duration": 437,
    "start_time": "2023-06-16T10:38:47.317Z"
   },
   {
    "duration": 91,
    "start_time": "2023-06-16T10:38:47.759Z"
   },
   {
    "duration": 3,
    "start_time": "2023-06-16T10:38:47.853Z"
   },
   {
    "duration": 67,
    "start_time": "2023-06-16T10:38:47.858Z"
   },
   {
    "duration": 313,
    "start_time": "2023-06-16T10:38:47.927Z"
   },
   {
    "duration": 317,
    "start_time": "2023-06-16T10:38:48.242Z"
   },
   {
    "duration": 195,
    "start_time": "2023-06-16T10:38:48.561Z"
   },
   {
    "duration": 58,
    "start_time": "2023-06-16T10:38:48.758Z"
   },
   {
    "duration": 218,
    "start_time": "2023-06-16T10:38:48.818Z"
   },
   {
    "duration": 321,
    "start_time": "2023-06-16T10:38:49.039Z"
   },
   {
    "duration": 243,
    "start_time": "2023-06-16T10:38:49.363Z"
   },
   {
    "duration": 38,
    "start_time": "2023-06-16T10:38:49.609Z"
   },
   {
    "duration": 23,
    "start_time": "2023-06-16T10:38:49.649Z"
   },
   {
    "duration": 10,
    "start_time": "2023-06-16T10:38:49.674Z"
   },
   {
    "duration": 28,
    "start_time": "2023-06-16T10:38:49.686Z"
   },
   {
    "duration": 45,
    "start_time": "2023-06-16T10:38:49.719Z"
   },
   {
    "duration": 249,
    "start_time": "2023-06-16T10:38:49.767Z"
   },
   {
    "duration": 41,
    "start_time": "2023-06-16T10:38:50.018Z"
   },
   {
    "duration": 41,
    "start_time": "2023-06-16T10:38:50.061Z"
   },
   {
    "duration": 11,
    "start_time": "2023-06-16T10:38:50.104Z"
   },
   {
    "duration": 203,
    "start_time": "2023-06-16T10:38:50.120Z"
   },
   {
    "duration": 40,
    "start_time": "2023-06-16T10:38:50.325Z"
   },
   {
    "duration": 224,
    "start_time": "2023-06-16T10:38:50.367Z"
   },
   {
    "duration": 63,
    "start_time": "2023-06-16T10:38:50.593Z"
   },
   {
    "duration": 257,
    "start_time": "2023-06-16T10:38:50.658Z"
   },
   {
    "duration": 145,
    "start_time": "2023-06-16T10:38:50.918Z"
   },
   {
    "duration": 0,
    "start_time": "2023-06-16T10:38:51.065Z"
   },
   {
    "duration": 1,
    "start_time": "2023-06-16T10:38:51.066Z"
   },
   {
    "duration": 419,
    "start_time": "2023-06-16T10:40:06.051Z"
   },
   {
    "duration": 217,
    "start_time": "2023-06-16T10:40:51.903Z"
   },
   {
    "duration": 279,
    "start_time": "2023-06-16T10:41:17.930Z"
   },
   {
    "duration": 229,
    "start_time": "2023-06-16T10:51:10.553Z"
   },
   {
    "duration": 303,
    "start_time": "2023-06-16T10:52:52.240Z"
   },
   {
    "duration": 409,
    "start_time": "2023-06-16T10:55:03.636Z"
   },
   {
    "duration": 26,
    "start_time": "2023-06-16T10:56:08.903Z"
   },
   {
    "duration": 19,
    "start_time": "2023-06-16T10:57:00.128Z"
   },
   {
    "duration": 23,
    "start_time": "2023-06-16T10:57:14.727Z"
   },
   {
    "duration": 18,
    "start_time": "2023-06-16T10:57:48.220Z"
   },
   {
    "duration": 26,
    "start_time": "2023-06-16T10:58:13.471Z"
   },
   {
    "duration": 210,
    "start_time": "2023-06-16T10:58:42.807Z"
   },
   {
    "duration": 47,
    "start_time": "2023-06-16T10:58:59.133Z"
   },
   {
    "duration": 49,
    "start_time": "2023-06-16T10:59:06.536Z"
   },
   {
    "duration": 199,
    "start_time": "2023-06-16T10:59:12.719Z"
   },
   {
    "duration": 309,
    "start_time": "2023-06-16T10:59:21.031Z"
   },
   {
    "duration": 198,
    "start_time": "2023-06-16T10:59:39.215Z"
   },
   {
    "duration": 38,
    "start_time": "2023-06-16T10:59:44.703Z"
   },
   {
    "duration": 180,
    "start_time": "2023-06-16T10:59:54.133Z"
   },
   {
    "duration": 56,
    "start_time": "2023-06-16T11:00:00.707Z"
   },
   {
    "duration": 244,
    "start_time": "2023-06-16T11:00:06.007Z"
   },
   {
    "duration": 219,
    "start_time": "2023-06-16T11:00:11.303Z"
   },
   {
    "duration": 565,
    "start_time": "2023-06-16T11:00:23.844Z"
   },
   {
    "duration": 450,
    "start_time": "2023-06-16T11:01:27.932Z"
   },
   {
    "duration": 330,
    "start_time": "2023-06-16T11:01:36.091Z"
   },
   {
    "duration": 301,
    "start_time": "2023-06-16T11:02:24.005Z"
   },
   {
    "duration": 215,
    "start_time": "2023-06-16T11:04:55.042Z"
   },
   {
    "duration": 1489,
    "start_time": "2023-06-17T10:51:10.705Z"
   },
   {
    "duration": 831,
    "start_time": "2023-06-17T10:51:12.196Z"
   },
   {
    "duration": 127,
    "start_time": "2023-06-17T10:51:13.028Z"
   },
   {
    "duration": 26,
    "start_time": "2023-06-17T10:51:13.157Z"
   },
   {
    "duration": 3,
    "start_time": "2023-06-17T10:51:13.185Z"
   },
   {
    "duration": 471,
    "start_time": "2023-06-17T10:51:13.189Z"
   },
   {
    "duration": 715,
    "start_time": "2023-06-17T10:51:13.665Z"
   },
   {
    "duration": 52,
    "start_time": "2023-06-17T10:51:14.382Z"
   },
   {
    "duration": 41,
    "start_time": "2023-06-17T10:51:14.455Z"
   },
   {
    "duration": 105,
    "start_time": "2023-06-17T10:51:14.498Z"
   },
   {
    "duration": 108,
    "start_time": "2023-06-17T10:51:14.605Z"
   },
   {
    "duration": 2,
    "start_time": "2023-06-17T10:51:14.715Z"
   },
   {
    "duration": 87,
    "start_time": "2023-06-17T10:51:14.720Z"
   },
   {
    "duration": 0,
    "start_time": "2023-06-17T10:51:14.811Z"
   },
   {
    "duration": 0,
    "start_time": "2023-06-17T10:51:14.812Z"
   },
   {
    "duration": 0,
    "start_time": "2023-06-17T10:51:14.814Z"
   },
   {
    "duration": 0,
    "start_time": "2023-06-17T10:51:14.816Z"
   },
   {
    "duration": 0,
    "start_time": "2023-06-17T10:51:14.819Z"
   },
   {
    "duration": 0,
    "start_time": "2023-06-17T10:51:14.823Z"
   },
   {
    "duration": 0,
    "start_time": "2023-06-17T10:51:14.824Z"
   },
   {
    "duration": 0,
    "start_time": "2023-06-17T10:51:14.858Z"
   },
   {
    "duration": 0,
    "start_time": "2023-06-17T10:51:14.861Z"
   },
   {
    "duration": 0,
    "start_time": "2023-06-17T10:51:14.863Z"
   },
   {
    "duration": 0,
    "start_time": "2023-06-17T10:51:14.864Z"
   },
   {
    "duration": 0,
    "start_time": "2023-06-17T10:51:14.866Z"
   },
   {
    "duration": 1,
    "start_time": "2023-06-17T10:51:14.867Z"
   },
   {
    "duration": 0,
    "start_time": "2023-06-17T10:51:14.869Z"
   },
   {
    "duration": 0,
    "start_time": "2023-06-17T10:51:14.871Z"
   },
   {
    "duration": 0,
    "start_time": "2023-06-17T10:51:14.873Z"
   },
   {
    "duration": 1,
    "start_time": "2023-06-17T10:51:14.874Z"
   },
   {
    "duration": 0,
    "start_time": "2023-06-17T10:51:14.876Z"
   },
   {
    "duration": 0,
    "start_time": "2023-06-17T10:51:14.878Z"
   },
   {
    "duration": 0,
    "start_time": "2023-06-17T10:51:14.880Z"
   },
   {
    "duration": 0,
    "start_time": "2023-06-17T10:51:14.881Z"
   },
   {
    "duration": 0,
    "start_time": "2023-06-17T10:51:14.883Z"
   },
   {
    "duration": 0,
    "start_time": "2023-06-17T10:51:14.885Z"
   },
   {
    "duration": 0,
    "start_time": "2023-06-17T10:51:14.886Z"
   },
   {
    "duration": 0,
    "start_time": "2023-06-17T10:51:14.888Z"
   },
   {
    "duration": 0,
    "start_time": "2023-06-17T10:51:14.889Z"
   },
   {
    "duration": 157,
    "start_time": "2023-06-17T10:51:49.229Z"
   },
   {
    "duration": 127,
    "start_time": "2023-06-17T10:52:34.413Z"
   },
   {
    "duration": 35,
    "start_time": "2023-06-17T10:52:41.629Z"
   },
   {
    "duration": 132,
    "start_time": "2023-06-17T10:53:52.037Z"
   },
   {
    "duration": 10,
    "start_time": "2023-06-17T10:54:17.681Z"
   },
   {
    "duration": 131,
    "start_time": "2023-06-17T10:54:23.876Z"
   },
   {
    "duration": 130,
    "start_time": "2023-06-17T10:54:47.972Z"
   },
   {
    "duration": 29,
    "start_time": "2023-06-17T10:55:22.830Z"
   },
   {
    "duration": 2,
    "start_time": "2023-06-17T10:55:23.109Z"
   },
   {
    "duration": 4,
    "start_time": "2023-06-17T10:55:23.981Z"
   },
   {
    "duration": 13,
    "start_time": "2023-06-17T10:55:24.053Z"
   },
   {
    "duration": 163,
    "start_time": "2023-06-17T10:55:24.212Z"
   },
   {
    "duration": 202,
    "start_time": "2023-06-17T10:55:24.377Z"
   },
   {
    "duration": 158,
    "start_time": "2023-06-17T10:55:24.581Z"
   },
   {
    "duration": 40,
    "start_time": "2023-06-17T10:55:24.742Z"
   },
   {
    "duration": 153,
    "start_time": "2023-06-17T10:55:24.784Z"
   },
   {
    "duration": 255,
    "start_time": "2023-06-17T10:55:24.938Z"
   },
   {
    "duration": 161,
    "start_time": "2023-06-17T10:55:25.195Z"
   },
   {
    "duration": 34,
    "start_time": "2023-06-17T10:55:25.358Z"
   },
   {
    "duration": 19,
    "start_time": "2023-06-17T10:55:25.394Z"
   },
   {
    "duration": 38,
    "start_time": "2023-06-17T10:55:25.416Z"
   },
   {
    "duration": 13,
    "start_time": "2023-06-17T10:55:25.456Z"
   },
   {
    "duration": 11,
    "start_time": "2023-06-17T10:55:25.471Z"
   },
   {
    "duration": 5,
    "start_time": "2023-06-17T10:55:25.483Z"
   },
   {
    "duration": 107,
    "start_time": "2023-06-17T10:55:25.489Z"
   },
   {
    "duration": 4,
    "start_time": "2023-06-17T10:55:25.598Z"
   },
   {
    "duration": 49,
    "start_time": "2023-06-17T10:55:25.604Z"
   },
   {
    "duration": 20,
    "start_time": "2023-06-17T10:55:25.677Z"
   },
   {
    "duration": 6,
    "start_time": "2023-06-17T10:55:25.737Z"
   },
   {
    "duration": 25,
    "start_time": "2023-06-17T10:55:25.878Z"
   },
   {
    "duration": 37,
    "start_time": "2023-06-17T10:55:27.009Z"
   },
   {
    "duration": 193,
    "start_time": "2023-06-17T10:55:27.522Z"
   },
   {
    "duration": 502,
    "start_time": "2023-06-17T10:55:27.718Z"
   },
   {
    "duration": 20,
    "start_time": "2023-06-17T10:56:53.009Z"
   },
   {
    "duration": 21,
    "start_time": "2023-06-17T10:57:54.051Z"
   },
   {
    "duration": 46,
    "start_time": "2023-06-17T10:58:05.552Z"
   },
   {
    "duration": 79,
    "start_time": "2023-06-17T10:59:20.301Z"
   },
   {
    "duration": 87,
    "start_time": "2023-06-17T11:01:10.239Z"
   },
   {
    "duration": 4,
    "start_time": "2023-06-17T11:01:12.959Z"
   },
   {
    "duration": 41,
    "start_time": "2023-06-17T11:01:26.639Z"
   },
   {
    "duration": 32,
    "start_time": "2023-06-17T11:01:50.516Z"
   },
   {
    "duration": 52,
    "start_time": "2023-06-17T11:01:54.521Z"
   },
   {
    "duration": 17,
    "start_time": "2023-06-17T11:02:43.700Z"
   },
   {
    "duration": 1437,
    "start_time": "2023-06-17T11:04:10.695Z"
   },
   {
    "duration": 1128,
    "start_time": "2023-06-17T11:04:12.134Z"
   },
   {
    "duration": 209,
    "start_time": "2023-06-17T11:04:13.263Z"
   },
   {
    "duration": 79,
    "start_time": "2023-06-17T11:04:13.473Z"
   },
   {
    "duration": 2,
    "start_time": "2023-06-17T11:04:13.555Z"
   },
   {
    "duration": 996,
    "start_time": "2023-06-17T11:04:13.559Z"
   },
   {
    "duration": 583,
    "start_time": "2023-06-17T11:04:14.557Z"
   },
   {
    "duration": 52,
    "start_time": "2023-06-17T11:04:15.142Z"
   },
   {
    "duration": 39,
    "start_time": "2023-06-17T11:04:15.196Z"
   },
   {
    "duration": 94,
    "start_time": "2023-06-17T11:04:15.237Z"
   },
   {
    "duration": 70,
    "start_time": "2023-06-17T11:04:15.333Z"
   },
   {
    "duration": 2,
    "start_time": "2023-06-17T11:04:15.404Z"
   },
   {
    "duration": 142,
    "start_time": "2023-06-17T11:04:15.408Z"
   },
   {
    "duration": 28,
    "start_time": "2023-06-17T11:04:15.553Z"
   },
   {
    "duration": 4,
    "start_time": "2023-06-17T11:04:15.583Z"
   },
   {
    "duration": 4,
    "start_time": "2023-06-17T11:04:15.589Z"
   },
   {
    "duration": 24,
    "start_time": "2023-06-17T11:04:15.595Z"
   },
   {
    "duration": 155,
    "start_time": "2023-06-17T11:04:15.620Z"
   },
   {
    "duration": 183,
    "start_time": "2023-06-17T11:04:15.777Z"
   },
   {
    "duration": 167,
    "start_time": "2023-06-17T11:04:15.962Z"
   },
   {
    "duration": 44,
    "start_time": "2023-06-17T11:04:16.131Z"
   },
   {
    "duration": 144,
    "start_time": "2023-06-17T11:04:16.177Z"
   },
   {
    "duration": 265,
    "start_time": "2023-06-17T11:04:16.322Z"
   },
   {
    "duration": 152,
    "start_time": "2023-06-17T11:04:16.589Z"
   },
   {
    "duration": 34,
    "start_time": "2023-06-17T11:04:16.750Z"
   },
   {
    "duration": 20,
    "start_time": "2023-06-17T11:04:16.785Z"
   },
   {
    "duration": 14,
    "start_time": "2023-06-17T11:04:16.806Z"
   },
   {
    "duration": 29,
    "start_time": "2023-06-17T11:04:16.822Z"
   },
   {
    "duration": 2,
    "start_time": "2023-06-17T11:04:16.853Z"
   },
   {
    "duration": 6,
    "start_time": "2023-06-17T11:04:16.857Z"
   },
   {
    "duration": 87,
    "start_time": "2023-06-17T11:04:16.864Z"
   },
   {
    "duration": 3,
    "start_time": "2023-06-17T11:04:16.953Z"
   },
   {
    "duration": 25,
    "start_time": "2023-06-17T11:04:16.957Z"
   },
   {
    "duration": 11,
    "start_time": "2023-06-17T11:04:16.983Z"
   },
   {
    "duration": 19,
    "start_time": "2023-06-17T11:04:16.995Z"
   },
   {
    "duration": 40,
    "start_time": "2023-06-17T11:04:17.016Z"
   },
   {
    "duration": 8,
    "start_time": "2023-06-17T11:04:17.058Z"
   },
   {
    "duration": 29,
    "start_time": "2023-06-17T11:04:17.068Z"
   },
   {
    "duration": 61,
    "start_time": "2023-06-17T11:04:17.099Z"
   },
   {
    "duration": 195,
    "start_time": "2023-06-17T11:04:17.161Z"
   },
   {
    "duration": 39,
    "start_time": "2023-06-17T11:04:17.359Z"
   },
   {
    "duration": 64,
    "start_time": "2023-06-17T11:04:17.399Z"
   },
   {
    "duration": 488,
    "start_time": "2023-06-17T11:04:17.464Z"
   },
   {
    "duration": 13,
    "start_time": "2023-06-17T11:11:25.415Z"
   },
   {
    "duration": 53,
    "start_time": "2023-06-17T11:11:26.406Z"
   },
   {
    "duration": 115,
    "start_time": "2023-06-17T11:19:56.952Z"
   },
   {
    "duration": 103,
    "start_time": "2023-06-17T11:21:14.832Z"
   },
   {
    "duration": 106,
    "start_time": "2023-06-17T11:21:30.645Z"
   },
   {
    "duration": 107,
    "start_time": "2023-06-17T11:21:45.555Z"
   },
   {
    "duration": 1461,
    "start_time": "2023-06-17T11:22:16.385Z"
   },
   {
    "duration": 820,
    "start_time": "2023-06-17T11:22:17.848Z"
   },
   {
    "duration": 223,
    "start_time": "2023-06-17T11:22:18.670Z"
   },
   {
    "duration": 92,
    "start_time": "2023-06-17T11:22:18.895Z"
   },
   {
    "duration": 3,
    "start_time": "2023-06-17T11:22:18.989Z"
   },
   {
    "duration": 969,
    "start_time": "2023-06-17T11:22:18.994Z"
   },
   {
    "duration": 962,
    "start_time": "2023-06-17T11:22:19.966Z"
   },
   {
    "duration": 59,
    "start_time": "2023-06-17T11:22:20.929Z"
   },
   {
    "duration": 40,
    "start_time": "2023-06-17T11:22:20.989Z"
   },
   {
    "duration": 85,
    "start_time": "2023-06-17T11:22:21.031Z"
   },
   {
    "duration": 85,
    "start_time": "2023-06-17T11:22:21.118Z"
   },
   {
    "duration": 3,
    "start_time": "2023-06-17T11:22:21.205Z"
   },
   {
    "duration": 162,
    "start_time": "2023-06-17T11:22:21.210Z"
   },
   {
    "duration": 29,
    "start_time": "2023-06-17T11:22:21.376Z"
   },
   {
    "duration": 3,
    "start_time": "2023-06-17T11:22:21.407Z"
   },
   {
    "duration": 6,
    "start_time": "2023-06-17T11:22:21.411Z"
   },
   {
    "duration": 38,
    "start_time": "2023-06-17T11:22:21.419Z"
   },
   {
    "duration": 168,
    "start_time": "2023-06-17T11:22:21.459Z"
   },
   {
    "duration": 203,
    "start_time": "2023-06-17T11:22:21.628Z"
   },
   {
    "duration": 175,
    "start_time": "2023-06-17T11:22:21.833Z"
   },
   {
    "duration": 44,
    "start_time": "2023-06-17T11:22:22.009Z"
   },
   {
    "duration": 156,
    "start_time": "2023-06-17T11:22:22.056Z"
   },
   {
    "duration": 310,
    "start_time": "2023-06-17T11:22:22.213Z"
   },
   {
    "duration": 184,
    "start_time": "2023-06-17T11:22:22.525Z"
   },
   {
    "duration": 44,
    "start_time": "2023-06-17T11:22:22.710Z"
   },
   {
    "duration": 22,
    "start_time": "2023-06-17T11:22:22.756Z"
   },
   {
    "duration": 18,
    "start_time": "2023-06-17T11:22:22.779Z"
   },
   {
    "duration": 28,
    "start_time": "2023-06-17T11:22:22.799Z"
   },
   {
    "duration": 15,
    "start_time": "2023-06-17T11:22:22.828Z"
   },
   {
    "duration": 9,
    "start_time": "2023-06-17T11:22:22.845Z"
   },
   {
    "duration": 91,
    "start_time": "2023-06-17T11:22:22.856Z"
   },
   {
    "duration": 5,
    "start_time": "2023-06-17T11:22:22.949Z"
   },
   {
    "duration": 29,
    "start_time": "2023-06-17T11:22:22.955Z"
   },
   {
    "duration": 12,
    "start_time": "2023-06-17T11:22:22.987Z"
   },
   {
    "duration": 23,
    "start_time": "2023-06-17T11:22:23.001Z"
   },
   {
    "duration": 35,
    "start_time": "2023-06-17T11:22:23.025Z"
   },
   {
    "duration": 8,
    "start_time": "2023-06-17T11:22:23.062Z"
   },
   {
    "duration": 23,
    "start_time": "2023-06-17T11:22:23.071Z"
   },
   {
    "duration": 56,
    "start_time": "2023-06-17T11:22:23.095Z"
   },
   {
    "duration": 200,
    "start_time": "2023-06-17T11:22:23.152Z"
   },
   {
    "duration": 40,
    "start_time": "2023-06-17T11:22:23.355Z"
   },
   {
    "duration": 61,
    "start_time": "2023-06-17T11:22:23.396Z"
   },
   {
    "duration": 527,
    "start_time": "2023-06-17T11:22:23.458Z"
   },
   {
    "duration": 14,
    "start_time": "2023-06-17T11:22:23.987Z"
   },
   {
    "duration": 83,
    "start_time": "2023-06-17T11:22:24.003Z"
   },
   {
    "duration": 247,
    "start_time": "2023-06-17T11:22:24.089Z"
   },
   {
    "duration": 0,
    "start_time": "2023-06-17T11:22:24.337Z"
   },
   {
    "duration": 0,
    "start_time": "2023-06-17T11:22:24.339Z"
   },
   {
    "duration": 1,
    "start_time": "2023-06-17T11:22:24.350Z"
   },
   {
    "duration": 0,
    "start_time": "2023-06-17T11:22:24.352Z"
   },
   {
    "duration": 20,
    "start_time": "2023-06-17T11:23:47.238Z"
   },
   {
    "duration": 10,
    "start_time": "2023-06-17T11:24:04.011Z"
   },
   {
    "duration": 15,
    "start_time": "2023-06-17T11:27:37.921Z"
   },
   {
    "duration": 5,
    "start_time": "2023-06-17T13:10:09.115Z"
   },
   {
    "duration": 50,
    "start_time": "2023-06-17T13:20:21.424Z"
   },
   {
    "duration": 18,
    "start_time": "2023-06-17T13:20:50.719Z"
   },
   {
    "duration": 22,
    "start_time": "2023-06-17T13:42:53.614Z"
   },
   {
    "duration": 1687,
    "start_time": "2023-06-17T14:23:27.332Z"
   },
   {
    "duration": 933,
    "start_time": "2023-06-17T14:23:29.021Z"
   },
   {
    "duration": 147,
    "start_time": "2023-06-17T14:23:29.960Z"
   },
   {
    "duration": 26,
    "start_time": "2023-06-17T14:23:30.109Z"
   },
   {
    "duration": 29,
    "start_time": "2023-06-17T14:23:30.137Z"
   },
   {
    "duration": 557,
    "start_time": "2023-06-17T14:23:30.168Z"
   },
   {
    "duration": 645,
    "start_time": "2023-06-17T14:23:30.727Z"
   },
   {
    "duration": 41,
    "start_time": "2023-06-17T14:23:31.375Z"
   },
   {
    "duration": 141,
    "start_time": "2023-06-17T14:23:31.418Z"
   },
   {
    "duration": 56,
    "start_time": "2023-06-17T14:23:31.561Z"
   },
   {
    "duration": 17,
    "start_time": "2023-06-17T14:23:31.620Z"
   },
   {
    "duration": 182,
    "start_time": "2023-06-17T14:23:31.639Z"
   },
   {
    "duration": 47,
    "start_time": "2023-06-17T14:23:31.824Z"
   },
   {
    "duration": 3,
    "start_time": "2023-06-17T14:23:31.876Z"
   },
   {
    "duration": 6,
    "start_time": "2023-06-17T14:23:31.880Z"
   },
   {
    "duration": 16,
    "start_time": "2023-06-17T14:23:31.887Z"
   },
   {
    "duration": 272,
    "start_time": "2023-06-17T14:23:31.904Z"
   },
   {
    "duration": 303,
    "start_time": "2023-06-17T14:23:32.180Z"
   },
   {
    "duration": 293,
    "start_time": "2023-06-17T14:23:32.486Z"
   },
   {
    "duration": 38,
    "start_time": "2023-06-17T14:23:32.782Z"
   },
   {
    "duration": 232,
    "start_time": "2023-06-17T14:23:32.822Z"
   },
   {
    "duration": 236,
    "start_time": "2023-06-17T14:23:33.062Z"
   },
   {
    "duration": 204,
    "start_time": "2023-06-17T14:23:33.301Z"
   },
   {
    "duration": 53,
    "start_time": "2023-06-17T14:23:33.507Z"
   },
   {
    "duration": 25,
    "start_time": "2023-06-17T14:23:33.562Z"
   },
   {
    "duration": 14,
    "start_time": "2023-06-17T14:23:33.589Z"
   },
   {
    "duration": 10,
    "start_time": "2023-06-17T14:23:33.605Z"
   },
   {
    "duration": 34,
    "start_time": "2023-06-17T14:23:33.617Z"
   },
   {
    "duration": 7,
    "start_time": "2023-06-17T14:23:33.653Z"
   },
   {
    "duration": 109,
    "start_time": "2023-06-17T14:23:33.662Z"
   },
   {
    "duration": 4,
    "start_time": "2023-06-17T14:23:33.774Z"
   },
   {
    "duration": 32,
    "start_time": "2023-06-17T14:23:33.779Z"
   },
   {
    "duration": 45,
    "start_time": "2023-06-17T14:23:33.813Z"
   },
   {
    "duration": 33,
    "start_time": "2023-06-17T14:23:33.859Z"
   },
   {
    "duration": 18,
    "start_time": "2023-06-17T14:23:33.894Z"
   },
   {
    "duration": 7,
    "start_time": "2023-06-17T14:23:33.914Z"
   },
   {
    "duration": 57,
    "start_time": "2023-06-17T14:23:33.923Z"
   },
   {
    "duration": 32,
    "start_time": "2023-06-17T14:23:33.982Z"
   },
   {
    "duration": 272,
    "start_time": "2023-06-17T14:23:34.016Z"
   },
   {
    "duration": 61,
    "start_time": "2023-06-17T14:23:34.290Z"
   },
   {
    "duration": 174,
    "start_time": "2023-06-17T14:23:34.356Z"
   },
   {
    "duration": 0,
    "start_time": "2023-06-17T14:23:34.532Z"
   },
   {
    "duration": 0,
    "start_time": "2023-06-17T14:23:34.534Z"
   },
   {
    "duration": 0,
    "start_time": "2023-06-17T14:23:34.535Z"
   },
   {
    "duration": 0,
    "start_time": "2023-06-17T14:23:34.537Z"
   },
   {
    "duration": 0,
    "start_time": "2023-06-17T14:23:34.539Z"
   },
   {
    "duration": 1511,
    "start_time": "2023-06-17T14:40:53.405Z"
   },
   {
    "duration": 791,
    "start_time": "2023-06-17T14:40:58.337Z"
   },
   {
    "duration": 117,
    "start_time": "2023-06-17T14:41:01.619Z"
   },
   {
    "duration": 25,
    "start_time": "2023-06-17T14:41:10.833Z"
   },
   {
    "duration": 3,
    "start_time": "2023-06-17T14:41:20.102Z"
   },
   {
    "duration": 434,
    "start_time": "2023-06-17T14:41:22.613Z"
   },
   {
    "duration": 548,
    "start_time": "2023-06-17T14:41:25.002Z"
   },
   {
    "duration": 53,
    "start_time": "2023-06-17T14:43:02.263Z"
   },
   {
    "duration": 40,
    "start_time": "2023-06-17T14:43:27.053Z"
   },
   {
    "duration": 2,
    "start_time": "2023-06-17T14:43:34.659Z"
   },
   {
    "duration": 161,
    "start_time": "2023-06-17T14:47:51.020Z"
   },
   {
    "duration": 20,
    "start_time": "2023-06-17T14:47:58.927Z"
   },
   {
    "duration": 1579,
    "start_time": "2023-06-17T14:49:02.269Z"
   },
   {
    "duration": 798,
    "start_time": "2023-06-17T14:49:06.356Z"
   },
   {
    "duration": 110,
    "start_time": "2023-06-17T14:49:07.156Z"
   },
   {
    "duration": 29,
    "start_time": "2023-06-17T14:49:07.345Z"
   },
   {
    "duration": 2,
    "start_time": "2023-06-17T14:49:10.383Z"
   },
   {
    "duration": 475,
    "start_time": "2023-06-17T14:49:11.288Z"
   },
   {
    "duration": 592,
    "start_time": "2023-06-17T14:49:12.690Z"
   },
   {
    "duration": 52,
    "start_time": "2023-06-17T14:49:17.051Z"
   },
   {
    "duration": 46,
    "start_time": "2023-06-17T14:49:20.603Z"
   },
   {
    "duration": 97,
    "start_time": "2023-06-17T14:49:36.145Z"
   },
   {
    "duration": 20,
    "start_time": "2023-06-17T14:49:37.473Z"
   },
   {
    "duration": 1460,
    "start_time": "2023-06-17T14:50:04.980Z"
   },
   {
    "duration": 781,
    "start_time": "2023-06-17T14:50:06.442Z"
   },
   {
    "duration": 112,
    "start_time": "2023-06-17T14:50:07.225Z"
   },
   {
    "duration": 34,
    "start_time": "2023-06-17T14:50:07.340Z"
   },
   {
    "duration": 2,
    "start_time": "2023-06-17T14:50:11.908Z"
   },
   {
    "duration": 477,
    "start_time": "2023-06-17T14:50:12.296Z"
   },
   {
    "duration": 547,
    "start_time": "2023-06-17T14:50:12.867Z"
   },
   {
    "duration": 49,
    "start_time": "2023-06-17T14:50:13.707Z"
   },
   {
    "duration": 39,
    "start_time": "2023-06-17T14:50:16.607Z"
   },
   {
    "duration": 74,
    "start_time": "2023-06-17T14:50:18.981Z"
   },
   {
    "duration": 20,
    "start_time": "2023-06-17T14:50:19.476Z"
   },
   {
    "duration": 147,
    "start_time": "2023-06-17T14:51:32.296Z"
   },
   {
    "duration": 11,
    "start_time": "2023-06-17T14:51:37.411Z"
   },
   {
    "duration": 87,
    "start_time": "2023-06-17T14:52:09.026Z"
   },
   {
    "duration": 7,
    "start_time": "2023-06-17T14:52:09.874Z"
   },
   {
    "duration": 12,
    "start_time": "2023-06-17T14:54:28.264Z"
   },
   {
    "duration": 11,
    "start_time": "2023-06-17T14:54:34.479Z"
   },
   {
    "duration": 6,
    "start_time": "2023-06-17T14:54:38.357Z"
   },
   {
    "duration": 78,
    "start_time": "2023-06-17T14:54:50.669Z"
   },
   {
    "duration": 6,
    "start_time": "2023-06-17T14:59:01.900Z"
   },
   {
    "duration": 38,
    "start_time": "2023-06-17T14:59:40.691Z"
   },
   {
    "duration": 21,
    "start_time": "2023-06-17T14:59:54.367Z"
   },
   {
    "duration": 9,
    "start_time": "2023-06-17T15:09:32.671Z"
   },
   {
    "duration": 1597,
    "start_time": "2023-06-17T15:11:31.224Z"
   },
   {
    "duration": 856,
    "start_time": "2023-06-17T15:11:33.830Z"
   },
   {
    "duration": 128,
    "start_time": "2023-06-17T15:11:34.688Z"
   },
   {
    "duration": 48,
    "start_time": "2023-06-17T15:11:34.818Z"
   },
   {
    "duration": 2,
    "start_time": "2023-06-17T15:11:34.868Z"
   },
   {
    "duration": 453,
    "start_time": "2023-06-17T15:11:35.083Z"
   },
   {
    "duration": 607,
    "start_time": "2023-06-17T15:11:38.137Z"
   },
   {
    "duration": 53,
    "start_time": "2023-06-17T15:11:38.746Z"
   },
   {
    "duration": 43,
    "start_time": "2023-06-17T15:11:41.941Z"
   },
   {
    "duration": 151,
    "start_time": "2023-06-17T15:11:42.348Z"
   },
   {
    "duration": 5,
    "start_time": "2023-06-17T15:11:42.717Z"
   },
   {
    "duration": 5,
    "start_time": "2023-06-17T15:11:44.795Z"
   },
   {
    "duration": 39,
    "start_time": "2023-06-17T15:11:45.298Z"
   },
   {
    "duration": 8,
    "start_time": "2023-06-17T15:12:09.968Z"
   },
   {
    "duration": 20,
    "start_time": "2023-06-17T15:12:38.875Z"
   },
   {
    "duration": 17,
    "start_time": "2023-06-17T15:13:02.035Z"
   },
   {
    "duration": 1544,
    "start_time": "2023-06-17T15:13:38.347Z"
   },
   {
    "duration": 809,
    "start_time": "2023-06-17T15:13:39.893Z"
   },
   {
    "duration": 111,
    "start_time": "2023-06-17T15:13:40.704Z"
   },
   {
    "duration": 41,
    "start_time": "2023-06-17T15:13:40.817Z"
   },
   {
    "duration": 3,
    "start_time": "2023-06-17T15:13:40.860Z"
   },
   {
    "duration": 447,
    "start_time": "2023-06-17T15:13:41.081Z"
   },
   {
    "duration": 573,
    "start_time": "2023-06-17T15:13:41.578Z"
   },
   {
    "duration": 51,
    "start_time": "2023-06-17T15:13:42.152Z"
   },
   {
    "duration": 39,
    "start_time": "2023-06-17T15:13:43.526Z"
   },
   {
    "duration": 138,
    "start_time": "2023-06-17T15:13:44.198Z"
   },
   {
    "duration": 6,
    "start_time": "2023-06-17T15:13:45.230Z"
   },
   {
    "duration": 5,
    "start_time": "2023-06-17T15:13:46.861Z"
   },
   {
    "duration": 42,
    "start_time": "2023-06-17T15:13:47.475Z"
   },
   {
    "duration": 8,
    "start_time": "2023-06-17T15:13:48.168Z"
   },
   {
    "duration": 20,
    "start_time": "2023-06-17T15:13:56.570Z"
   },
   {
    "duration": 27,
    "start_time": "2023-06-17T15:13:57.889Z"
   },
   {
    "duration": 5,
    "start_time": "2023-06-17T15:16:51.784Z"
   },
   {
    "duration": 7,
    "start_time": "2023-06-17T15:18:22.772Z"
   },
   {
    "duration": 17,
    "start_time": "2023-06-17T15:18:58.078Z"
   },
   {
    "duration": 2,
    "start_time": "2023-06-17T15:19:26.357Z"
   },
   {
    "duration": 119,
    "start_time": "2023-06-17T15:26:28.815Z"
   },
   {
    "duration": 11,
    "start_time": "2023-06-17T15:26:40.900Z"
   },
   {
    "duration": 11,
    "start_time": "2023-06-17T15:26:47.768Z"
   },
   {
    "duration": 1498,
    "start_time": "2023-06-17T15:27:10.742Z"
   },
   {
    "duration": 1500,
    "start_time": "2023-06-17T15:27:34.737Z"
   },
   {
    "duration": 819,
    "start_time": "2023-06-17T15:27:36.239Z"
   },
   {
    "duration": 120,
    "start_time": "2023-06-17T15:27:37.060Z"
   },
   {
    "duration": 28,
    "start_time": "2023-06-17T15:27:37.182Z"
   },
   {
    "duration": 3,
    "start_time": "2023-06-17T15:27:37.211Z"
   },
   {
    "duration": 475,
    "start_time": "2023-06-17T15:27:37.216Z"
   },
   {
    "duration": 617,
    "start_time": "2023-06-17T15:27:37.692Z"
   },
   {
    "duration": 62,
    "start_time": "2023-06-17T15:27:38.311Z"
   },
   {
    "duration": 31,
    "start_time": "2023-06-17T15:27:42.875Z"
   },
   {
    "duration": 54,
    "start_time": "2023-06-17T15:29:03.446Z"
   },
   {
    "duration": 71,
    "start_time": "2023-06-17T15:37:27.407Z"
   },
   {
    "duration": 43,
    "start_time": "2023-06-17T15:37:57.695Z"
   },
   {
    "duration": 91,
    "start_time": "2023-06-17T15:43:20.743Z"
   },
   {
    "duration": 37,
    "start_time": "2023-06-17T15:43:29.367Z"
   },
   {
    "duration": 2,
    "start_time": "2023-06-17T15:43:49.190Z"
   },
   {
    "duration": 68,
    "start_time": "2023-06-17T15:49:18.721Z"
   },
   {
    "duration": 6,
    "start_time": "2023-06-17T15:49:37.622Z"
   },
   {
    "duration": 38,
    "start_time": "2023-06-17T15:49:40.270Z"
   },
   {
    "duration": 6,
    "start_time": "2023-06-17T15:49:42.791Z"
   },
   {
    "duration": 31,
    "start_time": "2023-06-17T15:50:14.211Z"
   },
   {
    "duration": 26,
    "start_time": "2023-06-17T15:51:51.291Z"
   },
   {
    "duration": 6,
    "start_time": "2023-06-17T15:52:06.098Z"
   },
   {
    "duration": 19,
    "start_time": "2023-06-17T15:52:07.697Z"
   },
   {
    "duration": 3,
    "start_time": "2023-06-17T15:57:51.112Z"
   },
   {
    "duration": 4,
    "start_time": "2023-06-17T15:58:00.896Z"
   },
   {
    "duration": 23,
    "start_time": "2023-06-17T16:00:53.976Z"
   },
   {
    "duration": 19,
    "start_time": "2023-06-17T16:01:14.594Z"
   },
   {
    "duration": 19,
    "start_time": "2023-06-17T16:01:45.409Z"
   },
   {
    "duration": 111,
    "start_time": "2023-06-17T16:03:09.531Z"
   },
   {
    "duration": 3,
    "start_time": "2023-06-17T16:03:23.837Z"
   },
   {
    "duration": 75,
    "start_time": "2023-06-17T16:03:24.625Z"
   },
   {
    "duration": 1774,
    "start_time": "2023-06-17T18:16:02.911Z"
   },
   {
    "duration": 873,
    "start_time": "2023-06-17T18:16:05.712Z"
   },
   {
    "duration": 127,
    "start_time": "2023-06-17T18:16:06.588Z"
   },
   {
    "duration": 47,
    "start_time": "2023-06-17T18:16:06.717Z"
   },
   {
    "duration": 10,
    "start_time": "2023-06-17T18:16:06.772Z"
   },
   {
    "duration": 498,
    "start_time": "2023-06-17T18:16:06.783Z"
   },
   {
    "duration": 617,
    "start_time": "2023-06-17T18:16:07.283Z"
   },
   {
    "duration": 65,
    "start_time": "2023-06-17T18:16:07.903Z"
   },
   {
    "duration": 51,
    "start_time": "2023-06-17T18:16:09.919Z"
   },
   {
    "duration": 35,
    "start_time": "2023-06-17T18:16:10.582Z"
   },
   {
    "duration": 119,
    "start_time": "2023-06-17T18:16:12.786Z"
   },
   {
    "duration": 45,
    "start_time": "2023-06-17T18:16:14.221Z"
   },
   {
    "duration": 3,
    "start_time": "2023-06-17T18:16:15.905Z"
   },
   {
    "duration": 73,
    "start_time": "2023-06-17T18:16:16.694Z"
   },
   {
    "duration": 7,
    "start_time": "2023-06-17T18:16:17.579Z"
   },
   {
    "duration": 10,
    "start_time": "2023-06-17T18:16:18.057Z"
   },
   {
    "duration": 43,
    "start_time": "2023-06-17T18:16:20.495Z"
   },
   {
    "duration": 26,
    "start_time": "2023-06-17T18:16:22.932Z"
   },
   {
    "duration": 1778,
    "start_time": "2023-06-17T18:16:26.102Z"
   },
   {
    "duration": 1653,
    "start_time": "2023-06-17T18:19:26.088Z"
   },
   {
    "duration": 933,
    "start_time": "2023-06-17T18:19:27.743Z"
   },
   {
    "duration": 180,
    "start_time": "2023-06-17T18:19:28.684Z"
   },
   {
    "duration": 31,
    "start_time": "2023-06-17T18:19:28.865Z"
   },
   {
    "duration": 3,
    "start_time": "2023-06-17T18:19:28.899Z"
   },
   {
    "duration": 527,
    "start_time": "2023-06-17T18:19:28.903Z"
   },
   {
    "duration": 669,
    "start_time": "2023-06-17T18:19:29.432Z"
   },
   {
    "duration": 61,
    "start_time": "2023-06-17T18:19:30.103Z"
   },
   {
    "duration": 50,
    "start_time": "2023-06-17T18:19:30.165Z"
   },
   {
    "duration": 47,
    "start_time": "2023-06-17T18:19:30.217Z"
   },
   {
    "duration": 124,
    "start_time": "2023-06-17T18:19:30.278Z"
   },
   {
    "duration": 35,
    "start_time": "2023-06-17T18:19:30.404Z"
   },
   {
    "duration": 31,
    "start_time": "2023-06-17T18:19:30.441Z"
   },
   {
    "duration": 91,
    "start_time": "2023-06-17T18:19:30.483Z"
   },
   {
    "duration": 14,
    "start_time": "2023-06-17T18:19:30.578Z"
   },
   {
    "duration": 32,
    "start_time": "2023-06-17T18:19:30.595Z"
   },
   {
    "duration": 76,
    "start_time": "2023-06-17T18:19:30.629Z"
   },
   {
    "duration": 33,
    "start_time": "2023-06-17T18:19:30.708Z"
   },
   {
    "duration": 27,
    "start_time": "2023-06-17T18:19:30.743Z"
   },
   {
    "duration": 46,
    "start_time": "2023-06-17T18:19:30.772Z"
   },
   {
    "duration": 41,
    "start_time": "2023-06-17T18:19:30.820Z"
   },
   {
    "duration": 32,
    "start_time": "2023-06-17T18:19:30.864Z"
   },
   {
    "duration": 42,
    "start_time": "2023-06-17T18:19:30.898Z"
   },
   {
    "duration": 39,
    "start_time": "2023-06-17T18:19:30.942Z"
   },
   {
    "duration": 120,
    "start_time": "2023-06-17T18:19:30.983Z"
   },
   {
    "duration": 4,
    "start_time": "2023-06-17T18:19:31.105Z"
   },
   {
    "duration": 41,
    "start_time": "2023-06-17T18:19:31.112Z"
   },
   {
    "duration": 231,
    "start_time": "2023-06-17T18:19:31.155Z"
   },
   {
    "duration": 332,
    "start_time": "2023-06-17T18:19:31.390Z"
   },
   {
    "duration": 300,
    "start_time": "2023-06-17T18:19:31.724Z"
   },
   {
    "duration": 49,
    "start_time": "2023-06-17T18:19:32.027Z"
   },
   {
    "duration": 221,
    "start_time": "2023-06-17T18:19:32.081Z"
   },
   {
    "duration": 298,
    "start_time": "2023-06-17T18:19:32.304Z"
   },
   {
    "duration": 236,
    "start_time": "2023-06-17T18:19:32.608Z"
   },
   {
    "duration": 6,
    "start_time": "2023-06-17T18:19:32.845Z"
   },
   {
    "duration": 29,
    "start_time": "2023-06-17T18:19:32.855Z"
   },
   {
    "duration": 19,
    "start_time": "2023-06-17T18:19:32.886Z"
   },
   {
    "duration": 6,
    "start_time": "2023-06-17T18:19:32.906Z"
   },
   {
    "duration": 3,
    "start_time": "2023-06-17T18:19:32.914Z"
   },
   {
    "duration": 149,
    "start_time": "2023-06-17T18:19:32.920Z"
   },
   {
    "duration": 15,
    "start_time": "2023-06-17T18:19:33.078Z"
   },
   {
    "duration": 30,
    "start_time": "2023-06-17T18:19:33.095Z"
   },
   {
    "duration": 9,
    "start_time": "2023-06-17T18:19:33.127Z"
   },
   {
    "duration": 37,
    "start_time": "2023-06-17T18:19:33.138Z"
   },
   {
    "duration": 45,
    "start_time": "2023-06-17T18:19:33.177Z"
   },
   {
    "duration": 270,
    "start_time": "2023-06-17T18:19:33.223Z"
   },
   {
    "duration": 59,
    "start_time": "2023-06-17T18:19:33.496Z"
   },
   {
    "duration": 159,
    "start_time": "2023-06-17T18:19:33.557Z"
   },
   {
    "duration": 0,
    "start_time": "2023-06-17T18:19:33.718Z"
   },
   {
    "duration": 0,
    "start_time": "2023-06-17T18:19:33.720Z"
   },
   {
    "duration": 0,
    "start_time": "2023-06-17T18:19:33.721Z"
   },
   {
    "duration": 0,
    "start_time": "2023-06-17T18:19:33.722Z"
   },
   {
    "duration": 0,
    "start_time": "2023-06-17T18:19:33.723Z"
   },
   {
    "duration": 1877,
    "start_time": "2023-06-17T18:33:53.679Z"
   },
   {
    "duration": 2040,
    "start_time": "2023-06-17T18:33:55.558Z"
   },
   {
    "duration": 387,
    "start_time": "2023-06-17T18:33:57.610Z"
   },
   {
    "duration": 78,
    "start_time": "2023-06-17T18:33:58.000Z"
   },
   {
    "duration": 5,
    "start_time": "2023-06-17T18:33:58.081Z"
   },
   {
    "duration": 1053,
    "start_time": "2023-06-17T18:33:58.089Z"
   },
   {
    "duration": 706,
    "start_time": "2023-06-17T18:33:59.145Z"
   },
   {
    "duration": 57,
    "start_time": "2023-06-17T18:33:59.853Z"
   },
   {
    "duration": 56,
    "start_time": "2023-06-17T18:33:59.912Z"
   },
   {
    "duration": 43,
    "start_time": "2023-06-17T18:33:59.975Z"
   },
   {
    "duration": 125,
    "start_time": "2023-06-17T18:34:00.020Z"
   },
   {
    "duration": 64,
    "start_time": "2023-06-17T18:34:00.147Z"
   },
   {
    "duration": 4,
    "start_time": "2023-06-17T18:34:00.213Z"
   },
   {
    "duration": 113,
    "start_time": "2023-06-17T18:34:00.219Z"
   },
   {
    "duration": 8,
    "start_time": "2023-06-17T18:34:00.334Z"
   },
   {
    "duration": 45,
    "start_time": "2023-06-17T18:34:00.344Z"
   },
   {
    "duration": 83,
    "start_time": "2023-06-17T18:34:00.390Z"
   },
   {
    "duration": 47,
    "start_time": "2023-06-17T18:34:00.483Z"
   },
   {
    "duration": 44,
    "start_time": "2023-06-17T18:34:00.532Z"
   },
   {
    "duration": 16,
    "start_time": "2023-06-17T18:34:00.584Z"
   },
   {
    "duration": 31,
    "start_time": "2023-06-17T18:34:00.604Z"
   },
   {
    "duration": 61,
    "start_time": "2023-06-17T18:34:00.637Z"
   },
   {
    "duration": 14,
    "start_time": "2023-06-17T18:34:00.699Z"
   },
   {
    "duration": 17,
    "start_time": "2023-06-17T18:34:00.715Z"
   },
   {
    "duration": 158,
    "start_time": "2023-06-17T18:34:00.735Z"
   },
   {
    "duration": 5,
    "start_time": "2023-06-17T18:34:00.895Z"
   },
   {
    "duration": 55,
    "start_time": "2023-06-17T18:34:00.905Z"
   },
   {
    "duration": 249,
    "start_time": "2023-06-17T18:34:00.963Z"
   },
   {
    "duration": 285,
    "start_time": "2023-06-17T18:34:01.215Z"
   },
   {
    "duration": 323,
    "start_time": "2023-06-17T18:34:01.501Z"
   },
   {
    "duration": 57,
    "start_time": "2023-06-17T18:34:01.827Z"
   },
   {
    "duration": 215,
    "start_time": "2023-06-17T18:34:01.888Z"
   },
   {
    "duration": 262,
    "start_time": "2023-06-17T18:34:02.105Z"
   },
   {
    "duration": 253,
    "start_time": "2023-06-17T18:34:02.373Z"
   },
   {
    "duration": 3,
    "start_time": "2023-06-17T18:34:02.628Z"
   },
   {
    "duration": 30,
    "start_time": "2023-06-17T18:34:02.633Z"
   },
   {
    "duration": 17,
    "start_time": "2023-06-17T18:34:02.665Z"
   },
   {
    "duration": 13,
    "start_time": "2023-06-17T18:34:02.684Z"
   },
   {
    "duration": 3,
    "start_time": "2023-06-17T18:34:02.705Z"
   },
   {
    "duration": 128,
    "start_time": "2023-06-17T18:34:02.711Z"
   },
   {
    "duration": 4,
    "start_time": "2023-06-17T18:34:02.841Z"
   },
   {
    "duration": 33,
    "start_time": "2023-06-17T18:34:02.855Z"
   },
   {
    "duration": 8,
    "start_time": "2023-06-17T18:34:02.890Z"
   },
   {
    "duration": 33,
    "start_time": "2023-06-17T18:34:02.900Z"
   },
   {
    "duration": 77,
    "start_time": "2023-06-17T18:34:02.935Z"
   },
   {
    "duration": 240,
    "start_time": "2023-06-17T18:34:03.015Z"
   },
   {
    "duration": 80,
    "start_time": "2023-06-17T18:34:03.257Z"
   },
   {
    "duration": 507,
    "start_time": "2023-06-17T18:34:03.338Z"
   },
   {
    "duration": 19,
    "start_time": "2023-06-17T18:34:03.855Z"
   },
   {
    "duration": 90,
    "start_time": "2023-06-17T18:34:03.880Z"
   },
   {
    "duration": 9,
    "start_time": "2023-06-17T18:34:03.971Z"
   },
   {
    "duration": 272,
    "start_time": "2023-06-17T18:50:47.642Z"
   },
   {
    "duration": 23,
    "start_time": "2023-06-17T18:52:11.605Z"
   },
   {
    "duration": 50,
    "start_time": "2023-06-17T18:56:36.630Z"
   },
   {
    "duration": 126,
    "start_time": "2023-06-17T18:59:40.277Z"
   },
   {
    "duration": 5,
    "start_time": "2023-06-17T19:00:13.417Z"
   },
   {
    "duration": 9,
    "start_time": "2023-06-17T19:00:18.910Z"
   },
   {
    "duration": 634,
    "start_time": "2023-06-17T19:01:42.391Z"
   },
   {
    "duration": 21,
    "start_time": "2023-06-17T19:02:25.228Z"
   },
   {
    "duration": 90,
    "start_time": "2023-06-17T19:04:58.369Z"
   },
   {
    "duration": 16,
    "start_time": "2023-06-17T19:08:38.695Z"
   },
   {
    "duration": 3,
    "start_time": "2023-06-17T19:11:38.471Z"
   },
   {
    "duration": 1427,
    "start_time": "2023-06-17T19:12:46.075Z"
   },
   {
    "duration": 1533,
    "start_time": "2023-06-17T19:13:17.647Z"
   },
   {
    "duration": 899,
    "start_time": "2023-06-17T19:13:19.749Z"
   },
   {
    "duration": 121,
    "start_time": "2023-06-17T19:13:20.652Z"
   },
   {
    "duration": 25,
    "start_time": "2023-06-17T19:13:20.775Z"
   },
   {
    "duration": 3,
    "start_time": "2023-06-17T19:13:20.802Z"
   },
   {
    "duration": 530,
    "start_time": "2023-06-17T19:13:20.806Z"
   },
   {
    "duration": 609,
    "start_time": "2023-06-17T19:13:21.338Z"
   },
   {
    "duration": 56,
    "start_time": "2023-06-17T19:13:21.952Z"
   },
   {
    "duration": 50,
    "start_time": "2023-06-17T19:13:24.325Z"
   },
   {
    "duration": 33,
    "start_time": "2023-06-17T19:13:26.012Z"
   },
   {
    "duration": 27,
    "start_time": "2023-06-17T19:13:27.714Z"
   },
   {
    "duration": 163,
    "start_time": "2023-06-17T19:19:32.096Z"
   },
   {
    "duration": 134,
    "start_time": "2023-06-17T19:19:35.460Z"
   },
   {
    "duration": 18,
    "start_time": "2023-06-17T19:19:48.202Z"
   },
   {
    "duration": 5,
    "start_time": "2023-06-17T19:20:06.314Z"
   },
   {
    "duration": 11,
    "start_time": "2023-06-17T19:20:54.322Z"
   },
   {
    "duration": 1422,
    "start_time": "2023-06-17T19:21:25.402Z"
   },
   {
    "duration": 792,
    "start_time": "2023-06-17T19:21:26.825Z"
   },
   {
    "duration": 115,
    "start_time": "2023-06-17T19:21:27.619Z"
   },
   {
    "duration": 35,
    "start_time": "2023-06-17T19:21:27.736Z"
   },
   {
    "duration": 2,
    "start_time": "2023-06-17T19:21:27.773Z"
   },
   {
    "duration": 501,
    "start_time": "2023-06-17T19:21:27.777Z"
   },
   {
    "duration": 596,
    "start_time": "2023-06-17T19:21:28.281Z"
   },
   {
    "duration": 53,
    "start_time": "2023-06-17T19:21:28.878Z"
   },
   {
    "duration": 42,
    "start_time": "2023-06-17T19:21:29.554Z"
   },
   {
    "duration": 35,
    "start_time": "2023-06-17T19:21:33.960Z"
   },
   {
    "duration": 29,
    "start_time": "2023-06-17T19:21:35.117Z"
   },
   {
    "duration": 108,
    "start_time": "2023-06-17T19:21:46.874Z"
   },
   {
    "duration": 36,
    "start_time": "2023-06-17T19:23:10.805Z"
   },
   {
    "duration": 2,
    "start_time": "2023-06-17T19:23:22.577Z"
   },
   {
    "duration": 63,
    "start_time": "2023-06-17T19:23:41.887Z"
   },
   {
    "duration": 152,
    "start_time": "2023-06-17T19:24:42.718Z"
   },
   {
    "duration": 89,
    "start_time": "2023-06-17T19:25:47.161Z"
   },
   {
    "duration": 3,
    "start_time": "2023-06-17T19:26:03.565Z"
   },
   {
    "duration": 47,
    "start_time": "2023-06-17T19:26:13.638Z"
   },
   {
    "duration": 14,
    "start_time": "2023-06-17T19:26:43.316Z"
   },
   {
    "duration": 29,
    "start_time": "2023-06-17T19:34:03.087Z"
   },
   {
    "duration": 51,
    "start_time": "2023-06-17T19:34:10.903Z"
   },
   {
    "duration": 32,
    "start_time": "2023-06-17T19:34:15.711Z"
   },
   {
    "duration": 1526,
    "start_time": "2023-06-17T19:35:06.242Z"
   },
   {
    "duration": 839,
    "start_time": "2023-06-17T19:35:08.267Z"
   },
   {
    "duration": 122,
    "start_time": "2023-06-17T19:35:09.108Z"
   },
   {
    "duration": 33,
    "start_time": "2023-06-17T19:35:09.232Z"
   },
   {
    "duration": 3,
    "start_time": "2023-06-17T19:35:09.267Z"
   },
   {
    "duration": 464,
    "start_time": "2023-06-17T19:35:09.271Z"
   },
   {
    "duration": 592,
    "start_time": "2023-06-17T19:35:09.737Z"
   },
   {
    "duration": 3,
    "start_time": "2023-06-17T19:35:10.331Z"
   },
   {
    "duration": 55,
    "start_time": "2023-06-17T19:35:10.336Z"
   },
   {
    "duration": 46,
    "start_time": "2023-06-17T19:35:12.444Z"
   },
   {
    "duration": 32,
    "start_time": "2023-06-17T19:35:13.058Z"
   },
   {
    "duration": 33,
    "start_time": "2023-06-17T19:35:14.353Z"
   },
   {
    "duration": 13,
    "start_time": "2023-06-17T19:35:17.637Z"
   },
   {
    "duration": 30,
    "start_time": "2023-06-17T19:35:19.618Z"
   },
   {
    "duration": 119,
    "start_time": "2023-06-17T19:35:22.472Z"
   },
   {
    "duration": 32,
    "start_time": "2023-06-17T19:35:26.479Z"
   },
   {
    "duration": 68,
    "start_time": "2023-06-17T19:35:59.693Z"
   },
   {
    "duration": 6,
    "start_time": "2023-06-17T19:36:03.945Z"
   },
   {
    "duration": 8,
    "start_time": "2023-06-17T19:36:05.025Z"
   },
   {
    "duration": 40,
    "start_time": "2023-06-17T19:36:08.786Z"
   },
   {
    "duration": 27,
    "start_time": "2023-06-17T19:36:14.526Z"
   },
   {
    "duration": 20,
    "start_time": "2023-06-17T19:43:10.393Z"
   },
   {
    "duration": 5,
    "start_time": "2023-06-17T19:43:13.488Z"
   },
   {
    "duration": 23,
    "start_time": "2023-06-17T19:43:27.896Z"
   },
   {
    "duration": 20,
    "start_time": "2023-06-17T19:43:30.801Z"
   },
   {
    "duration": 4,
    "start_time": "2023-06-17T19:43:31.989Z"
   },
   {
    "duration": 3,
    "start_time": "2023-06-17T19:43:35.604Z"
   },
   {
    "duration": 47,
    "start_time": "2023-06-17T19:43:36.523Z"
   },
   {
    "duration": 11,
    "start_time": "2023-06-17T19:43:56.380Z"
   },
   {
    "duration": 19,
    "start_time": "2023-06-17T19:43:59.169Z"
   },
   {
    "duration": 3,
    "start_time": "2023-06-17T19:44:12.752Z"
   },
   {
    "duration": 3,
    "start_time": "2023-06-17T19:45:43.583Z"
   },
   {
    "duration": 105,
    "start_time": "2023-06-17T19:48:38.297Z"
   },
   {
    "duration": 581,
    "start_time": "2023-06-17T19:49:00.302Z"
   },
   {
    "duration": 742,
    "start_time": "2023-06-17T19:49:39.081Z"
   },
   {
    "duration": 329,
    "start_time": "2023-06-17T19:50:53.122Z"
   },
   {
    "duration": 238,
    "start_time": "2023-06-17T19:51:05.715Z"
   },
   {
    "duration": 675,
    "start_time": "2023-06-17T19:52:09.170Z"
   },
   {
    "duration": 474,
    "start_time": "2023-06-17T20:03:55.269Z"
   },
   {
    "duration": 184,
    "start_time": "2023-06-17T20:05:12.750Z"
   },
   {
    "duration": 439,
    "start_time": "2023-06-17T20:05:31.203Z"
   },
   {
    "duration": 447,
    "start_time": "2023-06-17T20:05:42.120Z"
   },
   {
    "duration": 330,
    "start_time": "2023-06-17T20:06:18.209Z"
   },
   {
    "duration": 433,
    "start_time": "2023-06-17T20:06:25.922Z"
   },
   {
    "duration": 194,
    "start_time": "2023-06-17T20:07:47.302Z"
   },
   {
    "duration": 1518,
    "start_time": "2023-06-17T20:08:08.863Z"
   },
   {
    "duration": 328,
    "start_time": "2023-06-17T20:08:26.083Z"
   },
   {
    "duration": 342,
    "start_time": "2023-06-17T20:08:45.089Z"
   },
   {
    "duration": 399,
    "start_time": "2023-06-17T20:10:02.303Z"
   },
   {
    "duration": 9,
    "start_time": "2023-06-17T20:32:47.122Z"
   },
   {
    "duration": 336,
    "start_time": "2023-06-17T20:33:22.280Z"
   },
   {
    "duration": 12,
    "start_time": "2023-06-17T20:38:20.643Z"
   },
   {
    "duration": 15,
    "start_time": "2023-06-17T20:38:34.924Z"
   },
   {
    "duration": 16,
    "start_time": "2023-06-17T20:40:26.156Z"
   },
   {
    "duration": 16,
    "start_time": "2023-06-17T20:41:24.524Z"
   },
   {
    "duration": 9,
    "start_time": "2023-06-17T20:46:08.690Z"
   },
   {
    "duration": 16,
    "start_time": "2023-06-17T20:46:27.620Z"
   },
   {
    "duration": 9,
    "start_time": "2023-06-17T20:46:40.017Z"
   },
   {
    "duration": 14,
    "start_time": "2023-06-17T20:47:00.702Z"
   },
   {
    "duration": 9,
    "start_time": "2023-06-17T20:47:13.786Z"
   },
   {
    "duration": 7,
    "start_time": "2023-06-17T20:48:27.049Z"
   },
   {
    "duration": 7,
    "start_time": "2023-06-17T20:48:46.029Z"
   },
   {
    "duration": 6,
    "start_time": "2023-06-17T20:49:00.345Z"
   },
   {
    "duration": 5,
    "start_time": "2023-06-17T20:49:05.948Z"
   },
   {
    "duration": 7,
    "start_time": "2023-06-17T20:59:53.377Z"
   },
   {
    "duration": 49,
    "start_time": "2023-06-17T20:59:54.547Z"
   },
   {
    "duration": 347,
    "start_time": "2023-06-17T21:00:15.132Z"
   },
   {
    "duration": 93,
    "start_time": "2023-06-17T21:01:09.939Z"
   },
   {
    "duration": 455,
    "start_time": "2023-06-17T21:01:16.351Z"
   },
   {
    "duration": 15,
    "start_time": "2023-06-17T21:16:08.201Z"
   },
   {
    "duration": 11,
    "start_time": "2023-06-17T21:17:20.091Z"
   },
   {
    "duration": 4,
    "start_time": "2023-06-17T21:17:41.167Z"
   },
   {
    "duration": 12,
    "start_time": "2023-06-17T21:17:54.940Z"
   },
   {
    "duration": 10,
    "start_time": "2023-06-17T21:18:02.067Z"
   },
   {
    "duration": 10,
    "start_time": "2023-06-17T21:18:16.486Z"
   },
   {
    "duration": 9,
    "start_time": "2023-06-17T21:18:34.489Z"
   },
   {
    "duration": 9,
    "start_time": "2023-06-17T21:19:08.078Z"
   },
   {
    "duration": 10,
    "start_time": "2023-06-17T21:21:03.618Z"
   },
   {
    "duration": 26,
    "start_time": "2023-06-17T21:21:17.404Z"
   },
   {
    "duration": 12,
    "start_time": "2023-06-17T21:24:59.860Z"
   },
   {
    "duration": 4,
    "start_time": "2023-06-17T21:25:25.293Z"
   },
   {
    "duration": 258,
    "start_time": "2023-06-17T21:28:34.490Z"
   },
   {
    "duration": 225,
    "start_time": "2023-06-17T21:28:43.411Z"
   },
   {
    "duration": 160,
    "start_time": "2023-06-17T21:32:00.595Z"
   },
   {
    "duration": 132,
    "start_time": "2023-06-17T21:32:04.446Z"
   },
   {
    "duration": 10,
    "start_time": "2023-06-17T21:32:12.985Z"
   },
   {
    "duration": 1545,
    "start_time": "2023-06-17T21:34:49.823Z"
   },
   {
    "duration": 820,
    "start_time": "2023-06-17T21:34:51.370Z"
   },
   {
    "duration": 120,
    "start_time": "2023-06-17T21:34:52.191Z"
   },
   {
    "duration": 27,
    "start_time": "2023-06-17T21:34:52.314Z"
   },
   {
    "duration": 3,
    "start_time": "2023-06-17T21:34:52.350Z"
   },
   {
    "duration": 480,
    "start_time": "2023-06-17T21:34:52.354Z"
   },
   {
    "duration": 841,
    "start_time": "2023-06-17T21:34:52.836Z"
   },
   {
    "duration": 3,
    "start_time": "2023-06-17T21:34:53.679Z"
   },
   {
    "duration": 111,
    "start_time": "2023-06-17T21:34:53.684Z"
   },
   {
    "duration": 94,
    "start_time": "2023-06-17T21:34:53.798Z"
   },
   {
    "duration": 83,
    "start_time": "2023-06-17T21:34:53.894Z"
   },
   {
    "duration": 81,
    "start_time": "2023-06-17T21:34:53.979Z"
   },
   {
    "duration": 17,
    "start_time": "2023-06-17T21:34:54.062Z"
   },
   {
    "duration": 103,
    "start_time": "2023-06-17T21:34:54.081Z"
   },
   {
    "duration": 294,
    "start_time": "2023-06-17T21:34:54.186Z"
   },
   {
    "duration": 91,
    "start_time": "2023-06-17T21:34:54.482Z"
   },
   {
    "duration": 116,
    "start_time": "2023-06-17T21:34:54.574Z"
   },
   {
    "duration": 5,
    "start_time": "2023-06-17T21:34:54.692Z"
   },
   {
    "duration": 9,
    "start_time": "2023-06-17T21:34:54.750Z"
   },
   {
    "duration": 105,
    "start_time": "2023-06-17T21:34:54.761Z"
   },
   {
    "duration": 85,
    "start_time": "2023-06-17T21:34:54.868Z"
   },
   {
    "duration": 19,
    "start_time": "2023-06-17T21:34:54.955Z"
   },
   {
    "duration": 6,
    "start_time": "2023-06-17T21:34:54.975Z"
   },
   {
    "duration": 76,
    "start_time": "2023-06-17T21:34:54.982Z"
   },
   {
    "duration": 20,
    "start_time": "2023-06-17T21:34:55.060Z"
   },
   {
    "duration": 5,
    "start_time": "2023-06-17T21:34:55.081Z"
   },
   {
    "duration": 62,
    "start_time": "2023-06-17T21:34:55.088Z"
   },
   {
    "duration": 109,
    "start_time": "2023-06-17T21:34:55.155Z"
   },
   {
    "duration": 14,
    "start_time": "2023-06-17T21:34:55.266Z"
   },
   {
    "duration": 83,
    "start_time": "2023-06-17T21:34:55.282Z"
   },
   {
    "duration": 3,
    "start_time": "2023-06-17T21:34:55.367Z"
   },
   {
    "duration": 614,
    "start_time": "2023-06-17T21:34:55.372Z"
   },
   {
    "duration": 9,
    "start_time": "2023-06-17T21:34:55.988Z"
   },
   {
    "duration": 6,
    "start_time": "2023-06-17T21:34:55.999Z"
   },
   {
    "duration": 6,
    "start_time": "2023-06-17T21:34:56.006Z"
   },
   {
    "duration": 7,
    "start_time": "2023-06-17T21:34:56.013Z"
   },
   {
    "duration": 51,
    "start_time": "2023-06-17T21:34:56.022Z"
   },
   {
    "duration": 448,
    "start_time": "2023-06-17T21:34:56.076Z"
   },
   {
    "duration": 10,
    "start_time": "2023-06-17T21:34:56.525Z"
   },
   {
    "duration": 20,
    "start_time": "2023-06-17T21:34:56.536Z"
   },
   {
    "duration": 24,
    "start_time": "2023-06-17T21:34:56.558Z"
   },
   {
    "duration": 4,
    "start_time": "2023-06-17T21:34:56.584Z"
   },
   {
    "duration": 10,
    "start_time": "2023-06-17T21:34:56.590Z"
   },
   {
    "duration": 169,
    "start_time": "2023-06-17T21:34:56.601Z"
   },
   {
    "duration": 53,
    "start_time": "2023-06-17T21:34:56.772Z"
   },
   {
    "duration": 29,
    "start_time": "2023-06-17T21:34:56.827Z"
   },
   {
    "duration": 10,
    "start_time": "2023-06-17T21:34:56.858Z"
   },
   {
    "duration": 3,
    "start_time": "2023-06-17T21:34:56.870Z"
   },
   {
    "duration": 95,
    "start_time": "2023-06-17T21:34:56.874Z"
   },
   {
    "duration": 7,
    "start_time": "2023-06-17T21:34:56.971Z"
   },
   {
    "duration": 3,
    "start_time": "2023-06-17T21:34:56.980Z"
   },
   {
    "duration": 3,
    "start_time": "2023-06-17T21:34:56.985Z"
   },
   {
    "duration": 4,
    "start_time": "2023-06-17T21:34:56.989Z"
   },
   {
    "duration": 11,
    "start_time": "2023-06-17T21:34:56.995Z"
   },
   {
    "duration": 426,
    "start_time": "2023-06-17T21:34:57.008Z"
   },
   {
    "duration": 23,
    "start_time": "2023-06-17T21:34:57.436Z"
   },
   {
    "duration": 58,
    "start_time": "2023-06-17T21:34:57.460Z"
   },
   {
    "duration": 4,
    "start_time": "2023-06-17T21:34:57.519Z"
   },
   {
    "duration": 5,
    "start_time": "2023-06-17T21:35:43.787Z"
   },
   {
    "duration": 59,
    "start_time": "2023-06-17T21:36:05.654Z"
   },
   {
    "duration": 23,
    "start_time": "2023-06-17T21:36:19.106Z"
   },
   {
    "duration": 1526,
    "start_time": "2023-06-17T21:38:15.024Z"
   },
   {
    "duration": 808,
    "start_time": "2023-06-17T21:38:16.552Z"
   },
   {
    "duration": 121,
    "start_time": "2023-06-17T21:38:17.361Z"
   },
   {
    "duration": 25,
    "start_time": "2023-06-17T21:38:17.484Z"
   },
   {
    "duration": 3,
    "start_time": "2023-06-17T21:38:17.510Z"
   },
   {
    "duration": 474,
    "start_time": "2023-06-17T21:38:17.515Z"
   },
   {
    "duration": 697,
    "start_time": "2023-06-17T21:38:17.991Z"
   },
   {
    "duration": 2,
    "start_time": "2023-06-17T21:38:18.690Z"
   },
   {
    "duration": 61,
    "start_time": "2023-06-17T21:38:18.694Z"
   },
   {
    "duration": 42,
    "start_time": "2023-06-17T21:38:18.757Z"
   },
   {
    "duration": 32,
    "start_time": "2023-06-17T21:38:18.801Z"
   },
   {
    "duration": 26,
    "start_time": "2023-06-17T21:38:18.850Z"
   },
   {
    "duration": 13,
    "start_time": "2023-06-17T21:38:18.877Z"
   },
   {
    "duration": 28,
    "start_time": "2023-06-17T21:38:18.892Z"
   },
   {
    "duration": 139,
    "start_time": "2023-06-17T21:38:18.922Z"
   },
   {
    "duration": 33,
    "start_time": "2023-06-17T21:38:19.062Z"
   },
   {
    "duration": 74,
    "start_time": "2023-06-17T21:38:19.097Z"
   },
   {
    "duration": 5,
    "start_time": "2023-06-17T21:38:19.173Z"
   },
   {
    "duration": 8,
    "start_time": "2023-06-17T21:38:19.180Z"
   },
   {
    "duration": 41,
    "start_time": "2023-06-17T21:38:19.189Z"
   },
   {
    "duration": 43,
    "start_time": "2023-06-17T21:38:19.232Z"
   },
   {
    "duration": 26,
    "start_time": "2023-06-17T21:38:19.277Z"
   },
   {
    "duration": 5,
    "start_time": "2023-06-17T21:38:19.306Z"
   },
   {
    "duration": 41,
    "start_time": "2023-06-17T21:38:19.313Z"
   },
   {
    "duration": 19,
    "start_time": "2023-06-17T21:38:19.355Z"
   },
   {
    "duration": 3,
    "start_time": "2023-06-17T21:38:19.376Z"
   },
   {
    "duration": 15,
    "start_time": "2023-06-17T21:38:19.381Z"
   },
   {
    "duration": 62,
    "start_time": "2023-06-17T21:38:19.399Z"
   },
   {
    "duration": 13,
    "start_time": "2023-06-17T21:38:19.463Z"
   },
   {
    "duration": 29,
    "start_time": "2023-06-17T21:38:19.477Z"
   },
   {
    "duration": 3,
    "start_time": "2023-06-17T21:38:19.508Z"
   },
   {
    "duration": 380,
    "start_time": "2023-06-17T21:38:19.512Z"
   },
   {
    "duration": 10,
    "start_time": "2023-06-17T21:38:19.893Z"
   },
   {
    "duration": 7,
    "start_time": "2023-06-17T21:38:19.905Z"
   },
   {
    "duration": 5,
    "start_time": "2023-06-17T21:38:19.914Z"
   },
   {
    "duration": 29,
    "start_time": "2023-06-17T21:38:19.921Z"
   },
   {
    "duration": 27,
    "start_time": "2023-06-17T21:38:19.952Z"
   },
   {
    "duration": 448,
    "start_time": "2023-06-17T21:38:19.981Z"
   },
   {
    "duration": 24,
    "start_time": "2023-06-17T21:38:20.430Z"
   },
   {
    "duration": 8,
    "start_time": "2023-06-17T21:38:20.456Z"
   },
   {
    "duration": 29,
    "start_time": "2023-06-17T21:38:20.466Z"
   },
   {
    "duration": 6,
    "start_time": "2023-06-17T21:38:20.497Z"
   },
   {
    "duration": 8,
    "start_time": "2023-06-17T21:38:20.504Z"
   },
   {
    "duration": 180,
    "start_time": "2023-06-17T21:38:20.513Z"
   },
   {
    "duration": 123,
    "start_time": "2023-06-17T21:38:20.694Z"
   },
   {
    "duration": 40,
    "start_time": "2023-06-17T21:38:20.819Z"
   },
   {
    "duration": 95,
    "start_time": "2023-06-17T21:38:20.860Z"
   },
   {
    "duration": 3,
    "start_time": "2023-06-17T21:38:20.957Z"
   },
   {
    "duration": 35,
    "start_time": "2023-06-17T21:38:20.962Z"
   },
   {
    "duration": 32,
    "start_time": "2023-06-17T21:38:21.000Z"
   },
   {
    "duration": 33,
    "start_time": "2023-06-17T21:38:21.034Z"
   },
   {
    "duration": 9,
    "start_time": "2023-06-17T21:38:21.069Z"
   },
   {
    "duration": 10,
    "start_time": "2023-06-17T21:38:21.079Z"
   },
   {
    "duration": 4,
    "start_time": "2023-06-17T21:38:21.091Z"
   },
   {
    "duration": 210,
    "start_time": "2023-06-17T21:38:21.096Z"
   },
   {
    "duration": 0,
    "start_time": "2023-06-17T21:38:21.308Z"
   },
   {
    "duration": 0,
    "start_time": "2023-06-17T21:38:21.309Z"
   },
   {
    "duration": 0,
    "start_time": "2023-06-17T21:38:21.310Z"
   },
   {
    "duration": 17,
    "start_time": "2023-06-17T21:45:32.299Z"
   },
   {
    "duration": 90,
    "start_time": "2023-06-17T21:46:19.282Z"
   },
   {
    "duration": 82,
    "start_time": "2023-06-17T21:46:23.684Z"
   },
   {
    "duration": 13,
    "start_time": "2023-06-17T21:46:41.823Z"
   },
   {
    "duration": 148,
    "start_time": "2023-06-17T21:47:00.826Z"
   },
   {
    "duration": 215,
    "start_time": "2023-06-17T21:49:45.072Z"
   },
   {
    "duration": 27,
    "start_time": "2023-06-17T21:52:41.375Z"
   },
   {
    "duration": 31,
    "start_time": "2023-06-17T21:54:50.183Z"
   },
   {
    "duration": 245,
    "start_time": "2023-06-17T21:55:27.609Z"
   },
   {
    "duration": 45,
    "start_time": "2023-06-17T21:56:07.967Z"
   },
   {
    "duration": 25,
    "start_time": "2023-06-17T21:56:56.974Z"
   },
   {
    "duration": 23,
    "start_time": "2023-06-17T22:02:21.576Z"
   },
   {
    "duration": 39,
    "start_time": "2023-06-17T22:05:57.573Z"
   },
   {
    "duration": 15,
    "start_time": "2023-06-17T22:07:53.291Z"
   },
   {
    "duration": 30,
    "start_time": "2023-06-17T22:07:55.671Z"
   },
   {
    "duration": 15,
    "start_time": "2023-06-17T22:10:36.067Z"
   },
   {
    "duration": 4,
    "start_time": "2023-06-17T22:11:23.408Z"
   },
   {
    "duration": 13,
    "start_time": "2023-06-17T22:12:23.368Z"
   },
   {
    "duration": 36,
    "start_time": "2023-06-17T22:12:24.163Z"
   },
   {
    "duration": 25,
    "start_time": "2023-06-17T22:16:29.751Z"
   },
   {
    "duration": 25,
    "start_time": "2023-06-17T22:17:07.883Z"
   },
   {
    "duration": 20,
    "start_time": "2023-06-17T22:17:37.276Z"
   },
   {
    "duration": 9,
    "start_time": "2023-06-17T22:17:43.757Z"
   },
   {
    "duration": 24,
    "start_time": "2023-06-17T22:18:46.828Z"
   },
   {
    "duration": 18,
    "start_time": "2023-06-17T22:19:18.511Z"
   },
   {
    "duration": 4,
    "start_time": "2023-06-17T22:19:25.727Z"
   },
   {
    "duration": 25,
    "start_time": "2023-06-17T22:24:30.275Z"
   },
   {
    "duration": 39,
    "start_time": "2023-06-17T22:25:22.114Z"
   },
   {
    "duration": 148,
    "start_time": "2023-06-17T22:25:43.733Z"
   },
   {
    "duration": 11,
    "start_time": "2023-06-17T22:33:30.376Z"
   },
   {
    "duration": 55,
    "start_time": "2023-06-17T22:33:42.305Z"
   },
   {
    "duration": 68,
    "start_time": "2023-06-17T22:33:57.270Z"
   },
   {
    "duration": 4,
    "start_time": "2023-06-17T22:36:26.507Z"
   },
   {
    "duration": 79,
    "start_time": "2023-06-17T22:36:43.802Z"
   },
   {
    "duration": 87,
    "start_time": "2023-06-17T22:37:03.678Z"
   },
   {
    "duration": 52,
    "start_time": "2023-06-17T22:37:13.376Z"
   },
   {
    "duration": 119,
    "start_time": "2023-06-17T22:38:13.787Z"
   },
   {
    "duration": 114,
    "start_time": "2023-06-17T22:38:23.310Z"
   },
   {
    "duration": 18,
    "start_time": "2023-06-17T22:42:13.042Z"
   },
   {
    "duration": 51,
    "start_time": "2023-06-17T22:42:20.579Z"
   },
   {
    "duration": 203,
    "start_time": "2023-06-17T22:44:47.505Z"
   },
   {
    "duration": 25,
    "start_time": "2023-06-17T22:48:29.470Z"
   },
   {
    "duration": 18,
    "start_time": "2023-06-17T22:52:24.641Z"
   },
   {
    "duration": 23,
    "start_time": "2023-06-17T22:52:42.601Z"
   },
   {
    "duration": 37,
    "start_time": "2023-06-17T22:56:09.487Z"
   },
   {
    "duration": 36,
    "start_time": "2023-06-17T22:56:10.730Z"
   },
   {
    "duration": 49,
    "start_time": "2023-06-17T23:02:18.191Z"
   },
   {
    "duration": 101,
    "start_time": "2023-06-17T23:02:49.178Z"
   },
   {
    "duration": 17,
    "start_time": "2023-06-17T23:04:09.216Z"
   },
   {
    "duration": 17,
    "start_time": "2023-06-17T23:04:17.001Z"
   },
   {
    "duration": 24,
    "start_time": "2023-06-17T23:04:57.484Z"
   },
   {
    "duration": 20,
    "start_time": "2023-06-17T23:06:34.372Z"
   },
   {
    "duration": 62,
    "start_time": "2023-06-17T23:08:07.854Z"
   },
   {
    "duration": 1445,
    "start_time": "2023-06-17T23:09:00.194Z"
   },
   {
    "duration": 839,
    "start_time": "2023-06-17T23:09:01.641Z"
   },
   {
    "duration": 135,
    "start_time": "2023-06-17T23:09:02.482Z"
   },
   {
    "duration": 33,
    "start_time": "2023-06-17T23:09:02.619Z"
   },
   {
    "duration": 3,
    "start_time": "2023-06-17T23:09:02.653Z"
   },
   {
    "duration": 485,
    "start_time": "2023-06-17T23:09:02.658Z"
   },
   {
    "duration": 638,
    "start_time": "2023-06-17T23:09:03.149Z"
   },
   {
    "duration": 2,
    "start_time": "2023-06-17T23:09:03.788Z"
   },
   {
    "duration": 44,
    "start_time": "2023-06-17T23:09:03.792Z"
   },
   {
    "duration": 49,
    "start_time": "2023-06-17T23:09:03.838Z"
   },
   {
    "duration": 32,
    "start_time": "2023-06-17T23:09:03.889Z"
   },
   {
    "duration": 43,
    "start_time": "2023-06-17T23:09:03.923Z"
   },
   {
    "duration": 15,
    "start_time": "2023-06-17T23:09:03.968Z"
   },
   {
    "duration": 31,
    "start_time": "2023-06-17T23:09:03.985Z"
   },
   {
    "duration": 161,
    "start_time": "2023-06-17T23:09:04.018Z"
   },
   {
    "duration": 35,
    "start_time": "2023-06-17T23:09:04.183Z"
   },
   {
    "duration": 75,
    "start_time": "2023-06-17T23:09:04.220Z"
   },
   {
    "duration": 5,
    "start_time": "2023-06-17T23:09:04.297Z"
   },
   {
    "duration": 9,
    "start_time": "2023-06-17T23:09:04.303Z"
   },
   {
    "duration": 55,
    "start_time": "2023-06-17T23:09:04.313Z"
   },
   {
    "duration": 28,
    "start_time": "2023-06-17T23:09:04.370Z"
   },
   {
    "duration": 23,
    "start_time": "2023-06-17T23:09:04.399Z"
   },
   {
    "duration": 29,
    "start_time": "2023-06-17T23:09:04.423Z"
   },
   {
    "duration": 26,
    "start_time": "2023-06-17T23:09:04.454Z"
   },
   {
    "duration": 25,
    "start_time": "2023-06-17T23:09:04.482Z"
   },
   {
    "duration": 7,
    "start_time": "2023-06-17T23:09:04.508Z"
   },
   {
    "duration": 2,
    "start_time": "2023-06-17T23:09:04.516Z"
   },
   {
    "duration": 66,
    "start_time": "2023-06-17T23:09:04.522Z"
   },
   {
    "duration": 9,
    "start_time": "2023-06-17T23:09:04.589Z"
   },
   {
    "duration": 17,
    "start_time": "2023-06-17T23:09:04.600Z"
   },
   {
    "duration": 2,
    "start_time": "2023-06-17T23:09:04.619Z"
   },
   {
    "duration": 379,
    "start_time": "2023-06-17T23:09:04.623Z"
   },
   {
    "duration": 9,
    "start_time": "2023-06-17T23:09:05.003Z"
   },
   {
    "duration": 6,
    "start_time": "2023-06-17T23:09:05.014Z"
   },
   {
    "duration": 6,
    "start_time": "2023-06-17T23:09:05.021Z"
   },
   {
    "duration": 26,
    "start_time": "2023-06-17T23:09:05.028Z"
   },
   {
    "duration": 28,
    "start_time": "2023-06-17T23:09:05.056Z"
   },
   {
    "duration": 5,
    "start_time": "2023-06-17T23:09:05.085Z"
   },
   {
    "duration": 20,
    "start_time": "2023-06-17T23:09:05.091Z"
   },
   {
    "duration": 51,
    "start_time": "2023-06-17T23:09:05.113Z"
   },
   {
    "duration": 399,
    "start_time": "2023-06-17T23:09:05.165Z"
   },
   {
    "duration": 9,
    "start_time": "2023-06-17T23:09:05.566Z"
   },
   {
    "duration": 7,
    "start_time": "2023-06-17T23:09:05.577Z"
   },
   {
    "duration": 35,
    "start_time": "2023-06-17T23:09:05.586Z"
   },
   {
    "duration": 5,
    "start_time": "2023-06-17T23:09:05.623Z"
   },
   {
    "duration": 12,
    "start_time": "2023-06-17T23:09:05.629Z"
   },
   {
    "duration": 154,
    "start_time": "2023-06-17T23:09:05.651Z"
   },
   {
    "duration": 158,
    "start_time": "2023-06-17T23:09:05.806Z"
   },
   {
    "duration": 422,
    "start_time": "2023-06-17T23:09:05.966Z"
   },
   {
    "duration": 403,
    "start_time": "2023-06-17T23:09:06.389Z"
   },
   {
    "duration": 81,
    "start_time": "2023-06-17T23:09:06.794Z"
   },
   {
    "duration": 489,
    "start_time": "2023-06-17T23:09:06.877Z"
   },
   {
    "duration": 25,
    "start_time": "2023-06-17T23:09:07.368Z"
   },
   {
    "duration": 78,
    "start_time": "2023-06-17T23:09:07.395Z"
   },
   {
    "duration": 89,
    "start_time": "2023-06-17T23:09:07.474Z"
   },
   {
    "duration": 16,
    "start_time": "2023-06-17T23:09:07.565Z"
   },
   {
    "duration": 5,
    "start_time": "2023-06-17T23:09:07.583Z"
   },
   {
    "duration": 70,
    "start_time": "2023-06-17T23:09:07.590Z"
   },
   {
    "duration": 31,
    "start_time": "2023-06-17T23:09:07.662Z"
   },
   {
    "duration": 70,
    "start_time": "2023-06-17T23:09:07.695Z"
   },
   {
    "duration": 4,
    "start_time": "2023-06-17T23:09:07.767Z"
   },
   {
    "duration": 143,
    "start_time": "2023-06-17T23:09:07.773Z"
   },
   {
    "duration": 70,
    "start_time": "2023-06-17T23:09:07.918Z"
   },
   {
    "duration": 201,
    "start_time": "2023-06-17T23:09:07.990Z"
   },
   {
    "duration": 26,
    "start_time": "2023-06-17T23:09:08.193Z"
   },
   {
    "duration": 34,
    "start_time": "2023-06-17T23:09:08.221Z"
   },
   {
    "duration": 30,
    "start_time": "2023-06-17T23:09:08.256Z"
   },
   {
    "duration": 39,
    "start_time": "2023-06-17T23:09:08.289Z"
   },
   {
    "duration": 51,
    "start_time": "2023-06-17T23:09:08.329Z"
   },
   {
    "duration": 42,
    "start_time": "2023-06-17T23:09:08.382Z"
   },
   {
    "duration": 125,
    "start_time": "2023-06-17T23:09:08.426Z"
   },
   {
    "duration": 203,
    "start_time": "2023-06-17T23:09:08.552Z"
   },
   {
    "duration": 0,
    "start_time": "2023-06-17T23:09:08.757Z"
   },
   {
    "duration": 0,
    "start_time": "2023-06-17T23:09:08.758Z"
   },
   {
    "duration": 0,
    "start_time": "2023-06-17T23:09:08.759Z"
   },
   {
    "duration": 5,
    "start_time": "2023-06-17T23:09:54.115Z"
   },
   {
    "duration": 4,
    "start_time": "2023-06-17T23:10:04.748Z"
   },
   {
    "duration": 3,
    "start_time": "2023-06-17T23:11:06.706Z"
   },
   {
    "duration": 1474,
    "start_time": "2023-06-17T23:11:52.425Z"
   },
   {
    "duration": 836,
    "start_time": "2023-06-17T23:11:53.902Z"
   },
   {
    "duration": 121,
    "start_time": "2023-06-17T23:11:54.739Z"
   },
   {
    "duration": 24,
    "start_time": "2023-06-17T23:11:54.863Z"
   },
   {
    "duration": 2,
    "start_time": "2023-06-17T23:11:54.888Z"
   },
   {
    "duration": 466,
    "start_time": "2023-06-17T23:11:54.892Z"
   },
   {
    "duration": 656,
    "start_time": "2023-06-17T23:11:55.359Z"
   },
   {
    "duration": 2,
    "start_time": "2023-06-17T23:11:56.017Z"
   },
   {
    "duration": 65,
    "start_time": "2023-06-17T23:11:56.021Z"
   },
   {
    "duration": 43,
    "start_time": "2023-06-17T23:11:56.089Z"
   },
   {
    "duration": 53,
    "start_time": "2023-06-17T23:11:56.134Z"
   },
   {
    "duration": 24,
    "start_time": "2023-06-17T23:11:56.189Z"
   },
   {
    "duration": 16,
    "start_time": "2023-06-17T23:11:56.215Z"
   },
   {
    "duration": 45,
    "start_time": "2023-06-17T23:11:56.233Z"
   },
   {
    "duration": 105,
    "start_time": "2023-06-17T23:11:56.279Z"
   },
   {
    "duration": 38,
    "start_time": "2023-06-17T23:11:56.386Z"
   },
   {
    "duration": 74,
    "start_time": "2023-06-17T23:11:56.425Z"
   },
   {
    "duration": 5,
    "start_time": "2023-06-17T23:11:56.501Z"
   },
   {
    "duration": 7,
    "start_time": "2023-06-17T23:11:56.507Z"
   },
   {
    "duration": 57,
    "start_time": "2023-06-17T23:11:56.516Z"
   },
   {
    "duration": 30,
    "start_time": "2023-06-17T23:11:56.574Z"
   },
   {
    "duration": 18,
    "start_time": "2023-06-17T23:11:56.606Z"
   },
   {
    "duration": 24,
    "start_time": "2023-06-17T23:11:56.626Z"
   },
   {
    "duration": 20,
    "start_time": "2023-06-17T23:11:56.652Z"
   },
   {
    "duration": 17,
    "start_time": "2023-06-17T23:11:56.673Z"
   },
   {
    "duration": 3,
    "start_time": "2023-06-17T23:11:56.692Z"
   },
   {
    "duration": 3,
    "start_time": "2023-06-17T23:11:56.697Z"
   },
   {
    "duration": 71,
    "start_time": "2023-06-17T23:11:56.704Z"
   },
   {
    "duration": 8,
    "start_time": "2023-06-17T23:11:56.777Z"
   },
   {
    "duration": 18,
    "start_time": "2023-06-17T23:11:56.786Z"
   },
   {
    "duration": 3,
    "start_time": "2023-06-17T23:11:56.805Z"
   },
   {
    "duration": 479,
    "start_time": "2023-06-17T23:11:56.809Z"
   },
   {
    "duration": 61,
    "start_time": "2023-06-17T23:11:57.290Z"
   },
   {
    "duration": 6,
    "start_time": "2023-06-17T23:11:57.353Z"
   },
   {
    "duration": 12,
    "start_time": "2023-06-17T23:11:57.361Z"
   },
   {
    "duration": 20,
    "start_time": "2023-06-17T23:11:57.374Z"
   },
   {
    "duration": 72,
    "start_time": "2023-06-17T23:11:57.396Z"
   },
   {
    "duration": 5,
    "start_time": "2023-06-17T23:11:57.470Z"
   },
   {
    "duration": 15,
    "start_time": "2023-06-17T23:11:57.476Z"
   },
   {
    "duration": 94,
    "start_time": "2023-06-17T23:11:57.493Z"
   },
   {
    "duration": 872,
    "start_time": "2023-06-17T23:11:57.588Z"
   },
   {
    "duration": 9,
    "start_time": "2023-06-17T23:11:58.462Z"
   },
   {
    "duration": 10,
    "start_time": "2023-06-17T23:11:58.473Z"
   },
   {
    "duration": 77,
    "start_time": "2023-06-17T23:11:58.485Z"
   },
   {
    "duration": 5,
    "start_time": "2023-06-17T23:11:58.565Z"
   },
   {
    "duration": 12,
    "start_time": "2023-06-17T23:11:58.572Z"
   },
   {
    "duration": 297,
    "start_time": "2023-06-17T23:11:58.586Z"
   },
   {
    "duration": 174,
    "start_time": "2023-06-17T23:11:58.885Z"
   },
   {
    "duration": 220,
    "start_time": "2023-06-17T23:11:59.060Z"
   },
   {
    "duration": 204,
    "start_time": "2023-06-17T23:11:59.281Z"
   },
   {
    "duration": 31,
    "start_time": "2023-06-17T23:11:59.486Z"
   },
   {
    "duration": 228,
    "start_time": "2023-06-17T23:11:59.518Z"
   },
   {
    "duration": 23,
    "start_time": "2023-06-17T23:11:59.748Z"
   },
   {
    "duration": 20,
    "start_time": "2023-06-17T23:11:59.772Z"
   },
   {
    "duration": 38,
    "start_time": "2023-06-17T23:11:59.793Z"
   },
   {
    "duration": 16,
    "start_time": "2023-06-17T23:11:59.850Z"
   },
   {
    "duration": 4,
    "start_time": "2023-06-17T23:11:59.868Z"
   },
   {
    "duration": 14,
    "start_time": "2023-06-17T23:11:59.873Z"
   },
   {
    "duration": 29,
    "start_time": "2023-06-17T23:11:59.889Z"
   },
   {
    "duration": 42,
    "start_time": "2023-06-17T23:11:59.919Z"
   },
   {
    "duration": 4,
    "start_time": "2023-06-17T23:11:59.963Z"
   },
   {
    "duration": 142,
    "start_time": "2023-06-17T23:11:59.968Z"
   },
   {
    "duration": 67,
    "start_time": "2023-06-17T23:12:00.112Z"
   },
   {
    "duration": 197,
    "start_time": "2023-06-17T23:12:00.180Z"
   },
   {
    "duration": 24,
    "start_time": "2023-06-17T23:12:00.379Z"
   },
   {
    "duration": 60,
    "start_time": "2023-06-17T23:12:00.404Z"
   },
   {
    "duration": 75,
    "start_time": "2023-06-17T23:12:00.465Z"
   },
   {
    "duration": 78,
    "start_time": "2023-06-17T23:12:00.542Z"
   },
   {
    "duration": 38,
    "start_time": "2023-06-17T23:12:00.622Z"
   },
   {
    "duration": 46,
    "start_time": "2023-06-17T23:12:00.662Z"
   },
   {
    "duration": 114,
    "start_time": "2023-06-17T23:12:00.710Z"
   },
   {
    "duration": 17,
    "start_time": "2023-06-17T23:12:00.826Z"
   },
   {
    "duration": 239,
    "start_time": "2023-06-17T23:12:00.849Z"
   },
   {
    "duration": 0,
    "start_time": "2023-06-17T23:12:01.090Z"
   },
   {
    "duration": 0,
    "start_time": "2023-06-17T23:12:01.091Z"
   },
   {
    "duration": 0,
    "start_time": "2023-06-17T23:12:01.092Z"
   },
   {
    "duration": 115,
    "start_time": "2023-06-17T23:13:00.106Z"
   },
   {
    "duration": 1354,
    "start_time": "2023-06-17T23:15:34.225Z"
   },
   {
    "duration": 114,
    "start_time": "2023-06-17T23:15:49.178Z"
   },
   {
    "duration": 2085,
    "start_time": "2023-06-18T09:57:43.559Z"
   },
   {
    "duration": 2700,
    "start_time": "2023-06-18T09:57:45.646Z"
   },
   {
    "duration": 161,
    "start_time": "2023-06-18T09:57:48.348Z"
   },
   {
    "duration": 48,
    "start_time": "2023-06-18T09:57:48.511Z"
   },
   {
    "duration": 54,
    "start_time": "2023-06-18T09:57:48.562Z"
   },
   {
    "duration": 698,
    "start_time": "2023-06-18T09:57:48.619Z"
   },
   {
    "duration": 872,
    "start_time": "2023-06-18T09:57:49.319Z"
   },
   {
    "duration": 3,
    "start_time": "2023-06-18T09:57:50.193Z"
   },
   {
    "duration": 70,
    "start_time": "2023-06-18T09:57:50.199Z"
   },
   {
    "duration": 49,
    "start_time": "2023-06-18T09:57:50.271Z"
   },
   {
    "duration": 81,
    "start_time": "2023-06-18T09:57:50.322Z"
   },
   {
    "duration": 45,
    "start_time": "2023-06-18T09:57:50.405Z"
   },
   {
    "duration": 50,
    "start_time": "2023-06-18T09:57:50.453Z"
   },
   {
    "duration": 56,
    "start_time": "2023-06-18T09:57:50.508Z"
   },
   {
    "duration": 175,
    "start_time": "2023-06-18T09:57:50.566Z"
   },
   {
    "duration": 66,
    "start_time": "2023-06-18T09:57:50.743Z"
   },
   {
    "duration": 72,
    "start_time": "2023-06-18T09:57:50.812Z"
   },
   {
    "duration": 10,
    "start_time": "2023-06-18T09:57:50.886Z"
   },
   {
    "duration": 26,
    "start_time": "2023-06-18T09:57:50.898Z"
   },
   {
    "duration": 43,
    "start_time": "2023-06-18T09:57:50.926Z"
   },
   {
    "duration": 64,
    "start_time": "2023-06-18T09:57:50.971Z"
   },
   {
    "duration": 55,
    "start_time": "2023-06-18T09:57:51.037Z"
   },
   {
    "duration": 37,
    "start_time": "2023-06-18T09:57:51.097Z"
   },
   {
    "duration": 23,
    "start_time": "2023-06-18T09:57:51.135Z"
   },
   {
    "duration": 66,
    "start_time": "2023-06-18T09:57:51.160Z"
   },
   {
    "duration": 15,
    "start_time": "2023-06-18T09:57:51.228Z"
   },
   {
    "duration": 11,
    "start_time": "2023-06-18T09:57:51.246Z"
   },
   {
    "duration": 117,
    "start_time": "2023-06-18T09:57:51.260Z"
   },
   {
    "duration": 17,
    "start_time": "2023-06-18T09:57:51.384Z"
   },
   {
    "duration": 39,
    "start_time": "2023-06-18T09:57:51.402Z"
   },
   {
    "duration": 3,
    "start_time": "2023-06-18T09:57:51.443Z"
   },
   {
    "duration": 495,
    "start_time": "2023-06-18T09:57:51.447Z"
   },
   {
    "duration": 32,
    "start_time": "2023-06-18T09:57:51.944Z"
   },
   {
    "duration": 38,
    "start_time": "2023-06-18T09:57:51.982Z"
   },
   {
    "duration": 16,
    "start_time": "2023-06-18T09:57:52.023Z"
   },
   {
    "duration": 43,
    "start_time": "2023-06-18T09:57:52.041Z"
   },
   {
    "duration": 77,
    "start_time": "2023-06-18T09:57:52.087Z"
   },
   {
    "duration": 63,
    "start_time": "2023-06-18T09:57:52.166Z"
   },
   {
    "duration": 53,
    "start_time": "2023-06-18T09:57:52.232Z"
   },
   {
    "duration": 52,
    "start_time": "2023-06-18T09:57:52.290Z"
   },
   {
    "duration": 555,
    "start_time": "2023-06-18T09:57:52.346Z"
   },
   {
    "duration": 10,
    "start_time": "2023-06-18T09:57:52.903Z"
   },
   {
    "duration": 15,
    "start_time": "2023-06-18T09:57:52.916Z"
   },
   {
    "duration": 45,
    "start_time": "2023-06-18T09:57:52.933Z"
   },
   {
    "duration": 29,
    "start_time": "2023-06-18T09:57:52.981Z"
   },
   {
    "duration": 38,
    "start_time": "2023-06-18T09:57:53.012Z"
   },
   {
    "duration": 309,
    "start_time": "2023-06-18T09:57:53.060Z"
   },
   {
    "duration": 214,
    "start_time": "2023-06-18T09:57:53.371Z"
   },
   {
    "duration": 307,
    "start_time": "2023-06-18T09:57:53.590Z"
   },
   {
    "duration": 259,
    "start_time": "2023-06-18T09:57:53.901Z"
   },
   {
    "duration": 45,
    "start_time": "2023-06-18T09:57:54.168Z"
   },
   {
    "duration": 295,
    "start_time": "2023-06-18T09:57:54.215Z"
   },
   {
    "duration": 27,
    "start_time": "2023-06-18T09:57:54.512Z"
   },
   {
    "duration": 49,
    "start_time": "2023-06-18T09:57:54.556Z"
   },
   {
    "duration": 44,
    "start_time": "2023-06-18T09:57:54.606Z"
   },
   {
    "duration": 34,
    "start_time": "2023-06-18T09:57:54.652Z"
   },
   {
    "duration": 14,
    "start_time": "2023-06-18T09:57:54.689Z"
   },
   {
    "duration": 29,
    "start_time": "2023-06-18T09:57:54.705Z"
   },
   {
    "duration": 52,
    "start_time": "2023-06-18T09:57:54.736Z"
   },
   {
    "duration": 36,
    "start_time": "2023-06-18T09:57:54.790Z"
   },
   {
    "duration": 14,
    "start_time": "2023-06-18T09:57:54.829Z"
   },
   {
    "duration": 180,
    "start_time": "2023-06-18T09:57:54.845Z"
   },
   {
    "duration": 88,
    "start_time": "2023-06-18T09:57:55.027Z"
   },
   {
    "duration": 348,
    "start_time": "2023-06-18T09:57:55.117Z"
   },
   {
    "duration": 33,
    "start_time": "2023-06-18T09:57:55.475Z"
   },
   {
    "duration": 31,
    "start_time": "2023-06-18T09:57:55.510Z"
   },
   {
    "duration": 54,
    "start_time": "2023-06-18T09:57:55.543Z"
   },
   {
    "duration": 42,
    "start_time": "2023-06-18T09:57:55.598Z"
   },
   {
    "duration": 54,
    "start_time": "2023-06-18T09:57:55.642Z"
   },
   {
    "duration": 91,
    "start_time": "2023-06-18T09:57:55.699Z"
   },
   {
    "duration": 134,
    "start_time": "2023-06-18T09:57:55.792Z"
   },
   {
    "duration": 80,
    "start_time": "2023-06-18T09:57:55.928Z"
   },
   {
    "duration": 0,
    "start_time": "2023-06-18T09:57:56.011Z"
   },
   {
    "duration": 0,
    "start_time": "2023-06-18T09:57:56.012Z"
   },
   {
    "duration": 0,
    "start_time": "2023-06-18T09:57:56.013Z"
   },
   {
    "duration": 0,
    "start_time": "2023-06-18T09:57:56.014Z"
   },
   {
    "duration": 55,
    "start_time": "2023-06-18T09:58:11.680Z"
   },
   {
    "duration": 5,
    "start_time": "2023-06-18T09:59:14.496Z"
   },
   {
    "duration": 27,
    "start_time": "2023-06-18T10:00:10.999Z"
   },
   {
    "duration": 77,
    "start_time": "2023-06-18T10:02:43.235Z"
   },
   {
    "duration": 2169,
    "start_time": "2023-06-18T10:03:08.648Z"
   },
   {
    "duration": 1959,
    "start_time": "2023-06-18T10:03:57.024Z"
   },
   {
    "duration": 1012,
    "start_time": "2023-06-18T10:03:58.993Z"
   },
   {
    "duration": 156,
    "start_time": "2023-06-18T10:04:00.010Z"
   },
   {
    "duration": 77,
    "start_time": "2023-06-18T10:04:00.168Z"
   },
   {
    "duration": 4,
    "start_time": "2023-06-18T10:04:00.246Z"
   },
   {
    "duration": 672,
    "start_time": "2023-06-18T10:04:00.253Z"
   },
   {
    "duration": 897,
    "start_time": "2023-06-18T10:04:00.927Z"
   },
   {
    "duration": 4,
    "start_time": "2023-06-18T10:04:01.825Z"
   },
   {
    "duration": 150,
    "start_time": "2023-06-18T10:04:01.831Z"
   },
   {
    "duration": 50,
    "start_time": "2023-06-18T10:04:01.988Z"
   },
   {
    "duration": 45,
    "start_time": "2023-06-18T10:04:02.040Z"
   },
   {
    "duration": 103,
    "start_time": "2023-06-18T10:04:02.095Z"
   },
   {
    "duration": 45,
    "start_time": "2023-06-18T10:04:02.201Z"
   },
   {
    "duration": 71,
    "start_time": "2023-06-18T10:04:02.248Z"
   },
   {
    "duration": 144,
    "start_time": "2023-06-18T10:04:02.325Z"
   },
   {
    "duration": 54,
    "start_time": "2023-06-18T10:04:02.471Z"
   },
   {
    "duration": 169,
    "start_time": "2023-06-18T10:04:02.527Z"
   },
   {
    "duration": 31,
    "start_time": "2023-06-18T10:04:02.707Z"
   },
   {
    "duration": 77,
    "start_time": "2023-06-18T10:04:02.740Z"
   },
   {
    "duration": 64,
    "start_time": "2023-06-18T10:04:02.819Z"
   },
   {
    "duration": 62,
    "start_time": "2023-06-18T10:04:02.885Z"
   },
   {
    "duration": 27,
    "start_time": "2023-06-18T10:04:02.948Z"
   },
   {
    "duration": 60,
    "start_time": "2023-06-18T10:04:02.977Z"
   },
   {
    "duration": 69,
    "start_time": "2023-06-18T10:04:03.039Z"
   },
   {
    "duration": 27,
    "start_time": "2023-06-18T10:04:03.112Z"
   },
   {
    "duration": 6,
    "start_time": "2023-06-18T10:04:03.140Z"
   },
   {
    "duration": 64,
    "start_time": "2023-06-18T10:04:03.148Z"
   },
   {
    "duration": 81,
    "start_time": "2023-06-18T10:04:03.217Z"
   },
   {
    "duration": 15,
    "start_time": "2023-06-18T10:04:03.308Z"
   },
   {
    "duration": 21,
    "start_time": "2023-06-18T10:04:03.325Z"
   },
   {
    "duration": 15,
    "start_time": "2023-06-18T10:04:03.349Z"
   },
   {
    "duration": 533,
    "start_time": "2023-06-18T10:04:03.370Z"
   },
   {
    "duration": 16,
    "start_time": "2023-06-18T10:04:03.905Z"
   },
   {
    "duration": 22,
    "start_time": "2023-06-18T10:04:03.924Z"
   },
   {
    "duration": 45,
    "start_time": "2023-06-18T10:04:03.948Z"
   },
   {
    "duration": 20,
    "start_time": "2023-06-18T10:04:03.999Z"
   },
   {
    "duration": 43,
    "start_time": "2023-06-18T10:04:04.020Z"
   },
   {
    "duration": 65,
    "start_time": "2023-06-18T10:04:04.072Z"
   },
   {
    "duration": 70,
    "start_time": "2023-06-18T10:04:04.139Z"
   },
   {
    "duration": 59,
    "start_time": "2023-06-18T10:04:04.212Z"
   },
   {
    "duration": 626,
    "start_time": "2023-06-18T10:04:04.273Z"
   },
   {
    "duration": 11,
    "start_time": "2023-06-18T10:04:04.901Z"
   },
   {
    "duration": 25,
    "start_time": "2023-06-18T10:04:04.919Z"
   },
   {
    "duration": 35,
    "start_time": "2023-06-18T10:04:04.946Z"
   },
   {
    "duration": 55,
    "start_time": "2023-06-18T10:04:04.983Z"
   },
   {
    "duration": 21,
    "start_time": "2023-06-18T10:04:05.039Z"
   },
   {
    "duration": 263,
    "start_time": "2023-06-18T10:04:05.074Z"
   },
   {
    "duration": 195,
    "start_time": "2023-06-18T10:04:05.339Z"
   },
   {
    "duration": 326,
    "start_time": "2023-06-18T10:04:05.536Z"
   },
   {
    "duration": 266,
    "start_time": "2023-06-18T10:04:05.867Z"
   },
   {
    "duration": 51,
    "start_time": "2023-06-18T10:04:06.136Z"
   },
   {
    "duration": 351,
    "start_time": "2023-06-18T10:04:06.189Z"
   },
   {
    "duration": 52,
    "start_time": "2023-06-18T10:04:06.542Z"
   },
   {
    "duration": 41,
    "start_time": "2023-06-18T10:04:06.600Z"
   },
   {
    "duration": 60,
    "start_time": "2023-06-18T10:04:06.643Z"
   },
   {
    "duration": 29,
    "start_time": "2023-06-18T10:04:06.710Z"
   },
   {
    "duration": 21,
    "start_time": "2023-06-18T10:04:06.742Z"
   },
   {
    "duration": 67,
    "start_time": "2023-06-18T10:04:06.772Z"
   },
   {
    "duration": 74,
    "start_time": "2023-06-18T10:04:06.842Z"
   },
   {
    "duration": 49,
    "start_time": "2023-06-18T10:04:06.919Z"
   },
   {
    "duration": 63,
    "start_time": "2023-06-18T10:04:06.971Z"
   },
   {
    "duration": 183,
    "start_time": "2023-06-18T10:04:07.036Z"
   },
   {
    "duration": 90,
    "start_time": "2023-06-18T10:04:07.221Z"
   },
   {
    "duration": 308,
    "start_time": "2023-06-18T10:04:07.320Z"
   },
   {
    "duration": 47,
    "start_time": "2023-06-18T10:04:07.630Z"
   },
   {
    "duration": 87,
    "start_time": "2023-06-18T10:04:07.682Z"
   },
   {
    "duration": 77,
    "start_time": "2023-06-18T10:04:07.771Z"
   },
   {
    "duration": 60,
    "start_time": "2023-06-18T10:04:07.850Z"
   },
   {
    "duration": 85,
    "start_time": "2023-06-18T10:04:07.913Z"
   },
   {
    "duration": 183,
    "start_time": "2023-06-18T10:04:08.000Z"
   },
   {
    "duration": 176,
    "start_time": "2023-06-18T10:04:08.189Z"
   },
   {
    "duration": 58,
    "start_time": "2023-06-18T10:04:08.375Z"
   },
   {
    "duration": 300,
    "start_time": "2023-06-18T10:04:08.435Z"
   },
   {
    "duration": 0,
    "start_time": "2023-06-18T10:04:08.738Z"
   },
   {
    "duration": 0,
    "start_time": "2023-06-18T10:04:08.740Z"
   },
   {
    "duration": 0,
    "start_time": "2023-06-18T10:04:08.741Z"
   },
   {
    "duration": 23,
    "start_time": "2023-06-18T10:54:19.330Z"
   },
   {
    "duration": 312,
    "start_time": "2023-06-18T10:54:43.412Z"
   },
   {
    "duration": 190,
    "start_time": "2023-06-18T10:55:19.725Z"
   },
   {
    "duration": 381,
    "start_time": "2023-06-18T10:58:22.023Z"
   },
   {
    "duration": 59,
    "start_time": "2023-06-18T11:04:23.367Z"
   },
   {
    "duration": 13,
    "start_time": "2023-06-18T11:04:33.084Z"
   },
   {
    "duration": 15,
    "start_time": "2023-06-18T11:07:29.397Z"
   },
   {
    "duration": 3593,
    "start_time": "2023-06-18T11:28:54.308Z"
   },
   {
    "duration": 6,
    "start_time": "2023-06-18T11:28:57.903Z"
   },
   {
    "duration": 2030,
    "start_time": "2023-06-18T11:28:57.958Z"
   },
   {
    "duration": 287,
    "start_time": "2023-06-18T11:28:59.991Z"
   },
   {
    "duration": 100,
    "start_time": "2023-06-18T11:29:00.281Z"
   },
   {
    "duration": 5,
    "start_time": "2023-06-18T11:29:00.385Z"
   },
   {
    "duration": 1298,
    "start_time": "2023-06-18T11:29:00.392Z"
   },
   {
    "duration": 799,
    "start_time": "2023-06-18T11:29:01.692Z"
   },
   {
    "duration": 3,
    "start_time": "2023-06-18T11:29:02.494Z"
   },
   {
    "duration": 136,
    "start_time": "2023-06-18T11:29:02.498Z"
   },
   {
    "duration": 56,
    "start_time": "2023-06-18T11:29:02.636Z"
   },
   {
    "duration": 139,
    "start_time": "2023-06-18T11:29:02.694Z"
   },
   {
    "duration": 46,
    "start_time": "2023-06-18T11:29:02.835Z"
   },
   {
    "duration": 87,
    "start_time": "2023-06-18T11:29:02.884Z"
   },
   {
    "duration": 17,
    "start_time": "2023-06-18T11:29:02.973Z"
   },
   {
    "duration": 103,
    "start_time": "2023-06-18T11:29:02.992Z"
   },
   {
    "duration": 34,
    "start_time": "2023-06-18T11:29:03.096Z"
   },
   {
    "duration": 122,
    "start_time": "2023-06-18T11:29:03.131Z"
   },
   {
    "duration": 136,
    "start_time": "2023-06-18T11:29:03.257Z"
   },
   {
    "duration": 84,
    "start_time": "2023-06-18T11:29:03.395Z"
   },
   {
    "duration": 47,
    "start_time": "2023-06-18T11:29:03.483Z"
   },
   {
    "duration": 100,
    "start_time": "2023-06-18T11:29:03.532Z"
   },
   {
    "duration": 74,
    "start_time": "2023-06-18T11:29:03.634Z"
   },
   {
    "duration": 91,
    "start_time": "2023-06-18T11:29:03.710Z"
   },
   {
    "duration": 8,
    "start_time": "2023-06-18T11:29:03.803Z"
   },
   {
    "duration": 97,
    "start_time": "2023-06-18T11:29:03.813Z"
   },
   {
    "duration": 7,
    "start_time": "2023-06-18T11:29:03.912Z"
   },
   {
    "duration": 99,
    "start_time": "2023-06-18T11:29:03.921Z"
   },
   {
    "duration": 59,
    "start_time": "2023-06-18T11:29:04.022Z"
   },
   {
    "duration": 30,
    "start_time": "2023-06-18T11:29:04.083Z"
   },
   {
    "duration": 106,
    "start_time": "2023-06-18T11:29:04.115Z"
   },
   {
    "duration": 35,
    "start_time": "2023-06-18T11:29:04.222Z"
   },
   {
    "duration": 75,
    "start_time": "2023-06-18T11:29:04.264Z"
   },
   {
    "duration": 18,
    "start_time": "2023-06-18T11:29:04.341Z"
   },
   {
    "duration": 95,
    "start_time": "2023-06-18T11:29:04.365Z"
   },
   {
    "duration": 37,
    "start_time": "2023-06-18T11:29:04.465Z"
   },
   {
    "duration": 102,
    "start_time": "2023-06-18T11:29:04.504Z"
   },
   {
    "duration": 18,
    "start_time": "2023-06-18T11:29:04.608Z"
   },
   {
    "duration": 7,
    "start_time": "2023-06-18T11:29:04.628Z"
   },
   {
    "duration": 26,
    "start_time": "2023-06-18T11:29:04.636Z"
   },
   {
    "duration": 94,
    "start_time": "2023-06-18T11:29:04.669Z"
   },
   {
    "duration": 72,
    "start_time": "2023-06-18T11:29:04.768Z"
   },
   {
    "duration": 9,
    "start_time": "2023-06-18T11:29:04.842Z"
   },
   {
    "duration": 78,
    "start_time": "2023-06-18T11:29:04.855Z"
   },
   {
    "duration": 33,
    "start_time": "2023-06-18T11:29:04.934Z"
   },
   {
    "duration": 6,
    "start_time": "2023-06-18T11:29:04.969Z"
   },
   {
    "duration": 90,
    "start_time": "2023-06-18T11:29:04.977Z"
   },
   {
    "duration": 478,
    "start_time": "2023-06-18T11:29:05.069Z"
   },
   {
    "duration": 94,
    "start_time": "2023-06-18T11:29:05.549Z"
   },
   {
    "duration": 167,
    "start_time": "2023-06-18T11:29:05.645Z"
   },
   {
    "duration": 107,
    "start_time": "2023-06-18T11:29:05.814Z"
   },
   {
    "duration": 58,
    "start_time": "2023-06-18T11:29:05.923Z"
   },
   {
    "duration": 142,
    "start_time": "2023-06-18T11:29:05.983Z"
   },
   {
    "duration": 18,
    "start_time": "2023-06-18T11:29:06.127Z"
   },
   {
    "duration": 101,
    "start_time": "2023-06-18T11:29:06.147Z"
   },
   {
    "duration": 31,
    "start_time": "2023-06-18T11:29:06.250Z"
   },
   {
    "duration": 71,
    "start_time": "2023-06-18T11:29:06.282Z"
   },
   {
    "duration": 37,
    "start_time": "2023-06-18T11:29:06.360Z"
   },
   {
    "duration": 89,
    "start_time": "2023-06-18T11:29:06.399Z"
   },
   {
    "duration": 5,
    "start_time": "2023-06-18T11:29:06.490Z"
   },
   {
    "duration": 90,
    "start_time": "2023-06-18T11:29:06.496Z"
   },
   {
    "duration": 22,
    "start_time": "2023-06-18T11:29:06.588Z"
   },
   {
    "duration": 97,
    "start_time": "2023-06-18T11:29:06.612Z"
   },
   {
    "duration": 43,
    "start_time": "2023-06-18T11:29:06.711Z"
   },
   {
    "duration": 82,
    "start_time": "2023-06-18T11:29:06.760Z"
   },
   {
    "duration": 459,
    "start_time": "2023-06-18T11:29:06.843Z"
   },
   {
    "duration": 92,
    "start_time": "2023-06-18T11:29:07.304Z"
   },
   {
    "duration": 49,
    "start_time": "2023-06-18T11:29:07.399Z"
   },
   {
    "duration": 51,
    "start_time": "2023-06-18T11:29:07.450Z"
   },
   {
    "duration": 110,
    "start_time": "2023-06-18T11:29:07.503Z"
   },
   {
    "duration": 47,
    "start_time": "2023-06-18T11:29:07.615Z"
   },
   {
    "duration": 74,
    "start_time": "2023-06-18T11:29:07.664Z"
   },
   {
    "duration": 7,
    "start_time": "2023-06-18T11:29:07.740Z"
   },
   {
    "duration": 111,
    "start_time": "2023-06-18T11:29:07.752Z"
   },
   {
    "duration": 12,
    "start_time": "2023-06-18T11:29:07.864Z"
   },
   {
    "duration": 194,
    "start_time": "2023-06-18T11:29:07.878Z"
   },
   {
    "duration": 70,
    "start_time": "2023-06-18T11:29:08.074Z"
   },
   {
    "duration": 215,
    "start_time": "2023-06-18T11:29:08.145Z"
   },
   {
    "duration": 284,
    "start_time": "2023-06-18T11:29:08.364Z"
   },
   {
    "duration": 275,
    "start_time": "2023-06-18T11:29:08.652Z"
   },
   {
    "duration": 148,
    "start_time": "2023-06-18T11:29:08.929Z"
   },
   {
    "duration": 166,
    "start_time": "2023-06-18T11:29:09.079Z"
   },
   {
    "duration": 50,
    "start_time": "2023-06-18T11:29:09.246Z"
   },
   {
    "duration": 134,
    "start_time": "2023-06-18T11:29:09.297Z"
   },
   {
    "duration": 274,
    "start_time": "2023-06-18T11:29:09.433Z"
   },
   {
    "duration": 119,
    "start_time": "2023-06-18T11:29:09.708Z"
   },
   {
    "duration": 46,
    "start_time": "2023-06-18T11:29:09.829Z"
   },
   {
    "duration": 26,
    "start_time": "2023-06-18T11:29:09.880Z"
   },
   {
    "duration": 126,
    "start_time": "2023-06-18T11:29:09.908Z"
   },
   {
    "duration": 64,
    "start_time": "2023-06-18T11:29:10.036Z"
   },
   {
    "duration": 17,
    "start_time": "2023-06-18T11:29:10.102Z"
   },
   {
    "duration": 132,
    "start_time": "2023-06-18T11:29:10.121Z"
   },
   {
    "duration": 8,
    "start_time": "2023-06-18T11:29:10.254Z"
   },
   {
    "duration": 28,
    "start_time": "2023-06-18T11:29:10.272Z"
   },
   {
    "duration": 132,
    "start_time": "2023-06-18T11:29:10.302Z"
   },
   {
    "duration": 44,
    "start_time": "2023-06-18T11:29:10.435Z"
   },
   {
    "duration": 133,
    "start_time": "2023-06-18T11:29:10.480Z"
   },
   {
    "duration": 26,
    "start_time": "2023-06-18T11:29:10.615Z"
   },
   {
    "duration": 144,
    "start_time": "2023-06-18T11:29:10.643Z"
   },
   {
    "duration": 5,
    "start_time": "2023-06-18T11:29:10.789Z"
   },
   {
    "duration": 143,
    "start_time": "2023-06-18T11:29:10.795Z"
   },
   {
    "duration": 141,
    "start_time": "2023-06-18T11:29:10.940Z"
   },
   {
    "duration": 89,
    "start_time": "2023-06-18T11:29:11.085Z"
   },
   {
    "duration": 122,
    "start_time": "2023-06-18T11:29:11.180Z"
   },
   {
    "duration": 237,
    "start_time": "2023-06-18T11:29:11.304Z"
   },
   {
    "duration": 136,
    "start_time": "2023-06-18T11:29:11.543Z"
   },
   {
    "duration": 39,
    "start_time": "2023-06-18T11:29:11.681Z"
   },
   {
    "duration": 121,
    "start_time": "2023-06-18T11:29:11.722Z"
   },
   {
    "duration": 34,
    "start_time": "2023-06-18T11:29:11.845Z"
   },
   {
    "duration": 120,
    "start_time": "2023-06-18T11:29:11.881Z"
   },
   {
    "duration": 29,
    "start_time": "2023-06-18T11:29:12.003Z"
   },
   {
    "duration": 146,
    "start_time": "2023-06-18T11:29:12.034Z"
   },
   {
    "duration": 45,
    "start_time": "2023-06-18T11:29:12.182Z"
   },
   {
    "duration": 145,
    "start_time": "2023-06-18T11:29:12.228Z"
   },
   {
    "duration": 49,
    "start_time": "2023-06-18T11:29:12.377Z"
   },
   {
    "duration": 135,
    "start_time": "2023-06-18T11:29:12.428Z"
   },
   {
    "duration": 83,
    "start_time": "2023-06-18T11:29:12.567Z"
   },
   {
    "duration": 151,
    "start_time": "2023-06-18T11:29:12.651Z"
   },
   {
    "duration": 139,
    "start_time": "2023-06-18T11:29:12.803Z"
   },
   {
    "duration": 19,
    "start_time": "2023-06-18T11:29:12.943Z"
   },
   {
    "duration": 150,
    "start_time": "2023-06-18T11:29:12.974Z"
   },
   {
    "duration": 134,
    "start_time": "2023-06-18T11:29:13.131Z"
   },
   {
    "duration": 29,
    "start_time": "2023-06-18T11:29:13.266Z"
   },
   {
    "duration": 674,
    "start_time": "2023-06-18T11:29:13.296Z"
   },
   {
    "duration": 0,
    "start_time": "2023-06-18T11:29:13.972Z"
   },
   {
    "duration": 0,
    "start_time": "2023-06-18T11:29:13.973Z"
   },
   {
    "duration": 0,
    "start_time": "2023-06-18T11:29:13.978Z"
   },
   {
    "duration": 0,
    "start_time": "2023-06-18T11:29:13.979Z"
   },
   {
    "duration": 0,
    "start_time": "2023-06-18T11:29:13.981Z"
   },
   {
    "duration": 0,
    "start_time": "2023-06-18T11:29:13.982Z"
   },
   {
    "duration": 0,
    "start_time": "2023-06-18T11:29:13.983Z"
   },
   {
    "duration": 0,
    "start_time": "2023-06-18T11:29:13.984Z"
   },
   {
    "duration": 0,
    "start_time": "2023-06-18T11:29:13.985Z"
   },
   {
    "duration": 1595,
    "start_time": "2023-06-18T11:31:39.381Z"
   },
   {
    "duration": 5,
    "start_time": "2023-06-18T11:31:40.978Z"
   },
   {
    "duration": 1602,
    "start_time": "2023-06-18T11:31:40.987Z"
   },
   {
    "duration": 300,
    "start_time": "2023-06-18T11:31:42.591Z"
   },
   {
    "duration": 98,
    "start_time": "2023-06-18T11:31:42.893Z"
   },
   {
    "duration": 3,
    "start_time": "2023-06-18T11:31:42.993Z"
   },
   {
    "duration": 970,
    "start_time": "2023-06-18T11:31:42.997Z"
   },
   {
    "duration": 769,
    "start_time": "2023-06-18T11:31:43.969Z"
   },
   {
    "duration": 3,
    "start_time": "2023-06-18T11:31:44.740Z"
   },
   {
    "duration": 50,
    "start_time": "2023-06-18T11:31:44.751Z"
   },
   {
    "duration": 67,
    "start_time": "2023-06-18T11:31:44.803Z"
   },
   {
    "duration": 95,
    "start_time": "2023-06-18T11:31:44.881Z"
   },
   {
    "duration": 38,
    "start_time": "2023-06-18T11:31:44.978Z"
   },
   {
    "duration": 42,
    "start_time": "2023-06-18T11:31:45.019Z"
   },
   {
    "duration": 24,
    "start_time": "2023-06-18T11:31:45.062Z"
   },
   {
    "duration": 116,
    "start_time": "2023-06-18T11:31:45.087Z"
   },
   {
    "duration": 32,
    "start_time": "2023-06-18T11:31:45.205Z"
   },
   {
    "duration": 123,
    "start_time": "2023-06-18T11:31:45.239Z"
   },
   {
    "duration": 169,
    "start_time": "2023-06-18T11:31:45.365Z"
   },
   {
    "duration": 104,
    "start_time": "2023-06-18T11:31:45.536Z"
   },
   {
    "duration": 50,
    "start_time": "2023-06-18T11:31:45.642Z"
   },
   {
    "duration": 93,
    "start_time": "2023-06-18T11:31:45.694Z"
   },
   {
    "duration": 88,
    "start_time": "2023-06-18T11:31:45.789Z"
   },
   {
    "duration": 80,
    "start_time": "2023-06-18T11:31:45.880Z"
   },
   {
    "duration": 10,
    "start_time": "2023-06-18T11:31:45.961Z"
   },
   {
    "duration": 89,
    "start_time": "2023-06-18T11:31:45.978Z"
   },
   {
    "duration": 10,
    "start_time": "2023-06-18T11:31:46.076Z"
   },
   {
    "duration": 100,
    "start_time": "2023-06-18T11:31:46.087Z"
   },
   {
    "duration": 45,
    "start_time": "2023-06-18T11:31:46.189Z"
   },
   {
    "duration": 47,
    "start_time": "2023-06-18T11:31:46.235Z"
   },
   {
    "duration": 93,
    "start_time": "2023-06-18T11:31:46.284Z"
   },
   {
    "duration": 45,
    "start_time": "2023-06-18T11:31:46.379Z"
   },
   {
    "duration": 85,
    "start_time": "2023-06-18T11:31:46.426Z"
   },
   {
    "duration": 6,
    "start_time": "2023-06-18T11:31:46.512Z"
   },
   {
    "duration": 96,
    "start_time": "2023-06-18T11:31:46.519Z"
   },
   {
    "duration": 60,
    "start_time": "2023-06-18T11:31:46.617Z"
   },
   {
    "duration": 70,
    "start_time": "2023-06-18T11:31:46.679Z"
   },
   {
    "duration": 31,
    "start_time": "2023-06-18T11:31:46.752Z"
   },
   {
    "duration": 14,
    "start_time": "2023-06-18T11:31:46.786Z"
   },
   {
    "duration": 6,
    "start_time": "2023-06-18T11:31:46.802Z"
   },
   {
    "duration": 66,
    "start_time": "2023-06-18T11:31:46.813Z"
   },
   {
    "duration": 68,
    "start_time": "2023-06-18T11:31:46.881Z"
   },
   {
    "duration": 11,
    "start_time": "2023-06-18T11:31:46.952Z"
   },
   {
    "duration": 101,
    "start_time": "2023-06-18T11:31:46.964Z"
   },
   {
    "duration": 39,
    "start_time": "2023-06-18T11:31:47.067Z"
   },
   {
    "duration": 3,
    "start_time": "2023-06-18T11:31:47.108Z"
   },
   {
    "duration": 90,
    "start_time": "2023-06-18T11:31:47.113Z"
   },
   {
    "duration": 419,
    "start_time": "2023-06-18T11:31:47.205Z"
   },
   {
    "duration": 99,
    "start_time": "2023-06-18T11:31:47.626Z"
   },
   {
    "duration": 26,
    "start_time": "2023-06-18T11:31:47.727Z"
   },
   {
    "duration": 76,
    "start_time": "2023-06-18T11:31:47.762Z"
   },
   {
    "duration": 16,
    "start_time": "2023-06-18T11:31:47.840Z"
   },
   {
    "duration": 78,
    "start_time": "2023-06-18T11:31:47.857Z"
   },
   {
    "duration": 19,
    "start_time": "2023-06-18T11:31:47.937Z"
   },
   {
    "duration": 79,
    "start_time": "2023-06-18T11:31:47.959Z"
   },
   {
    "duration": 35,
    "start_time": "2023-06-18T11:31:48.040Z"
   },
   {
    "duration": 79,
    "start_time": "2023-06-18T11:31:48.079Z"
   },
   {
    "duration": 37,
    "start_time": "2023-06-18T11:31:48.160Z"
   },
   {
    "duration": 86,
    "start_time": "2023-06-18T11:31:48.199Z"
   },
   {
    "duration": 19,
    "start_time": "2023-06-18T11:31:48.287Z"
   },
   {
    "duration": 91,
    "start_time": "2023-06-18T11:31:48.308Z"
   },
   {
    "duration": 21,
    "start_time": "2023-06-18T11:31:48.401Z"
   },
   {
    "duration": 106,
    "start_time": "2023-06-18T11:31:48.424Z"
   },
   {
    "duration": 283,
    "start_time": "2023-06-18T11:31:48.532Z"
   },
   {
    "duration": 82,
    "start_time": "2023-06-18T11:31:48.817Z"
   },
   {
    "duration": 479,
    "start_time": "2023-06-18T11:31:48.901Z"
   },
   {
    "duration": 83,
    "start_time": "2023-06-18T11:31:49.382Z"
   },
   {
    "duration": 10,
    "start_time": "2023-06-18T11:31:49.476Z"
   },
   {
    "duration": 8,
    "start_time": "2023-06-18T11:31:49.488Z"
   },
   {
    "duration": 84,
    "start_time": "2023-06-18T11:31:49.498Z"
   },
   {
    "duration": 28,
    "start_time": "2023-06-18T11:31:49.584Z"
   },
   {
    "duration": 84,
    "start_time": "2023-06-18T11:31:49.613Z"
   },
   {
    "duration": 6,
    "start_time": "2023-06-18T11:31:49.699Z"
   },
   {
    "duration": 110,
    "start_time": "2023-06-18T11:31:49.706Z"
   },
   {
    "duration": 4,
    "start_time": "2023-06-18T11:31:49.818Z"
   },
   {
    "duration": 196,
    "start_time": "2023-06-18T11:31:49.823Z"
   },
   {
    "duration": 88,
    "start_time": "2023-06-18T11:31:50.020Z"
   },
   {
    "duration": 188,
    "start_time": "2023-06-18T11:31:50.110Z"
   },
   {
    "duration": 244,
    "start_time": "2023-06-18T11:31:50.299Z"
   },
   {
    "duration": 280,
    "start_time": "2023-06-18T11:31:50.544Z"
   },
   {
    "duration": 145,
    "start_time": "2023-06-18T11:31:50.826Z"
   },
   {
    "duration": 147,
    "start_time": "2023-06-18T11:31:50.975Z"
   },
   {
    "duration": 48,
    "start_time": "2023-06-18T11:31:51.123Z"
   },
   {
    "duration": 139,
    "start_time": "2023-06-18T11:31:51.173Z"
   },
   {
    "duration": 296,
    "start_time": "2023-06-18T11:31:51.315Z"
   },
   {
    "duration": 124,
    "start_time": "2023-06-18T11:31:51.612Z"
   },
   {
    "duration": 60,
    "start_time": "2023-06-18T11:31:51.738Z"
   },
   {
    "duration": 33,
    "start_time": "2023-06-18T11:31:51.801Z"
   },
   {
    "duration": 142,
    "start_time": "2023-06-18T11:31:51.836Z"
   },
   {
    "duration": 58,
    "start_time": "2023-06-18T11:31:51.980Z"
   },
   {
    "duration": 21,
    "start_time": "2023-06-18T11:31:52.040Z"
   },
   {
    "duration": 153,
    "start_time": "2023-06-18T11:31:52.063Z"
   },
   {
    "duration": 4,
    "start_time": "2023-06-18T11:31:52.218Z"
   },
   {
    "duration": 33,
    "start_time": "2023-06-18T11:31:52.224Z"
   },
   {
    "duration": 139,
    "start_time": "2023-06-18T11:31:52.270Z"
   },
   {
    "duration": 31,
    "start_time": "2023-06-18T11:31:52.410Z"
   },
   {
    "duration": 147,
    "start_time": "2023-06-18T11:31:52.442Z"
   },
   {
    "duration": 21,
    "start_time": "2023-06-18T11:31:52.591Z"
   },
   {
    "duration": 134,
    "start_time": "2023-06-18T11:31:52.614Z"
   },
   {
    "duration": 16,
    "start_time": "2023-06-18T11:31:52.751Z"
   },
   {
    "duration": 181,
    "start_time": "2023-06-18T11:31:52.778Z"
   },
   {
    "duration": 145,
    "start_time": "2023-06-18T11:31:52.961Z"
   },
   {
    "duration": 82,
    "start_time": "2023-06-18T11:31:53.108Z"
   },
   {
    "duration": 130,
    "start_time": "2023-06-18T11:31:53.191Z"
   },
   {
    "duration": 274,
    "start_time": "2023-06-18T11:31:53.323Z"
   },
   {
    "duration": 132,
    "start_time": "2023-06-18T11:31:53.598Z"
   },
   {
    "duration": 31,
    "start_time": "2023-06-18T11:31:53.733Z"
   },
   {
    "duration": 163,
    "start_time": "2023-06-18T11:31:53.770Z"
   },
   {
    "duration": 24,
    "start_time": "2023-06-18T11:31:53.935Z"
   },
   {
    "duration": 203,
    "start_time": "2023-06-18T11:31:53.962Z"
   },
   {
    "duration": 47,
    "start_time": "2023-06-18T11:31:54.170Z"
   },
   {
    "duration": 146,
    "start_time": "2023-06-18T11:31:54.219Z"
   },
   {
    "duration": 51,
    "start_time": "2023-06-18T11:31:54.368Z"
   },
   {
    "duration": 123,
    "start_time": "2023-06-18T11:31:54.421Z"
   },
   {
    "duration": 58,
    "start_time": "2023-06-18T11:31:54.546Z"
   },
   {
    "duration": 135,
    "start_time": "2023-06-18T11:31:54.605Z"
   },
   {
    "duration": 71,
    "start_time": "2023-06-18T11:31:54.742Z"
   },
   {
    "duration": 142,
    "start_time": "2023-06-18T11:31:54.815Z"
   },
   {
    "duration": 140,
    "start_time": "2023-06-18T11:31:54.959Z"
   },
   {
    "duration": 4,
    "start_time": "2023-06-18T11:31:55.101Z"
   },
   {
    "duration": 133,
    "start_time": "2023-06-18T11:31:55.107Z"
   },
   {
    "duration": 147,
    "start_time": "2023-06-18T11:31:55.255Z"
   },
   {
    "duration": 26,
    "start_time": "2023-06-18T11:31:55.406Z"
   },
   {
    "duration": 812,
    "start_time": "2023-06-18T11:31:55.434Z"
   },
   {
    "duration": 0,
    "start_time": "2023-06-18T11:31:56.248Z"
   },
   {
    "duration": 0,
    "start_time": "2023-06-18T11:31:56.249Z"
   },
   {
    "duration": 0,
    "start_time": "2023-06-18T11:31:56.250Z"
   },
   {
    "duration": 0,
    "start_time": "2023-06-18T11:31:56.251Z"
   },
   {
    "duration": 0,
    "start_time": "2023-06-18T11:31:56.252Z"
   },
   {
    "duration": 0,
    "start_time": "2023-06-18T11:31:56.253Z"
   },
   {
    "duration": 0,
    "start_time": "2023-06-18T11:31:56.254Z"
   },
   {
    "duration": 0,
    "start_time": "2023-06-18T11:31:56.254Z"
   },
   {
    "duration": 0,
    "start_time": "2023-06-18T11:31:56.255Z"
   },
   {
    "duration": 385,
    "start_time": "2023-06-18T11:32:29.720Z"
   },
   {
    "duration": 1658,
    "start_time": "2023-06-18T11:33:00.934Z"
   },
   {
    "duration": 5,
    "start_time": "2023-06-18T11:33:02.595Z"
   },
   {
    "duration": 976,
    "start_time": "2023-06-18T11:33:02.602Z"
   },
   {
    "duration": 183,
    "start_time": "2023-06-18T11:33:03.580Z"
   },
   {
    "duration": 32,
    "start_time": "2023-06-18T11:33:03.765Z"
   },
   {
    "duration": 60,
    "start_time": "2023-06-18T11:33:03.799Z"
   },
   {
    "duration": 1317,
    "start_time": "2023-06-18T11:33:03.862Z"
   },
   {
    "duration": 1148,
    "start_time": "2023-06-18T11:33:05.181Z"
   },
   {
    "duration": 3,
    "start_time": "2023-06-18T11:33:06.331Z"
   },
   {
    "duration": 82,
    "start_time": "2023-06-18T11:33:06.354Z"
   },
   {
    "duration": 52,
    "start_time": "2023-06-18T11:33:06.438Z"
   },
   {
    "duration": 102,
    "start_time": "2023-06-18T11:33:06.492Z"
   },
   {
    "duration": 49,
    "start_time": "2023-06-18T11:33:06.596Z"
   },
   {
    "duration": 32,
    "start_time": "2023-06-18T11:33:06.664Z"
   },
   {
    "duration": 25,
    "start_time": "2023-06-18T11:33:06.698Z"
   },
   {
    "duration": 115,
    "start_time": "2023-06-18T11:33:06.726Z"
   },
   {
    "duration": 44,
    "start_time": "2023-06-18T11:33:06.843Z"
   },
   {
    "duration": 101,
    "start_time": "2023-06-18T11:33:06.889Z"
   },
   {
    "duration": 120,
    "start_time": "2023-06-18T11:33:06.992Z"
   },
   {
    "duration": 95,
    "start_time": "2023-06-18T11:33:07.114Z"
   },
   {
    "duration": 59,
    "start_time": "2023-06-18T11:33:07.211Z"
   },
   {
    "duration": 99,
    "start_time": "2023-06-18T11:33:07.271Z"
   },
   {
    "duration": 64,
    "start_time": "2023-06-18T11:33:07.375Z"
   },
   {
    "duration": 92,
    "start_time": "2023-06-18T11:33:07.441Z"
   },
   {
    "duration": 18,
    "start_time": "2023-06-18T11:33:07.535Z"
   },
   {
    "duration": 84,
    "start_time": "2023-06-18T11:33:07.564Z"
   },
   {
    "duration": 24,
    "start_time": "2023-06-18T11:33:07.650Z"
   },
   {
    "duration": 97,
    "start_time": "2023-06-18T11:33:07.685Z"
   },
   {
    "duration": 36,
    "start_time": "2023-06-18T11:33:07.784Z"
   },
   {
    "duration": 50,
    "start_time": "2023-06-18T11:33:07.822Z"
   },
   {
    "duration": 72,
    "start_time": "2023-06-18T11:33:07.875Z"
   },
   {
    "duration": 62,
    "start_time": "2023-06-18T11:33:07.958Z"
   },
   {
    "duration": 93,
    "start_time": "2023-06-18T11:33:08.022Z"
   },
   {
    "duration": 17,
    "start_time": "2023-06-18T11:33:08.116Z"
   },
   {
    "duration": 95,
    "start_time": "2023-06-18T11:33:08.135Z"
   },
   {
    "duration": 45,
    "start_time": "2023-06-18T11:33:08.233Z"
   },
   {
    "duration": 122,
    "start_time": "2023-06-18T11:33:08.280Z"
   },
   {
    "duration": 52,
    "start_time": "2023-06-18T11:33:08.404Z"
   },
   {
    "duration": 16,
    "start_time": "2023-06-18T11:33:08.464Z"
   },
   {
    "duration": 28,
    "start_time": "2023-06-18T11:33:08.482Z"
   },
   {
    "duration": 146,
    "start_time": "2023-06-18T11:33:08.513Z"
   },
   {
    "duration": 192,
    "start_time": "2023-06-18T11:33:08.660Z"
   },
   {
    "duration": 13,
    "start_time": "2023-06-18T11:33:08.854Z"
   },
   {
    "duration": 206,
    "start_time": "2023-06-18T11:33:08.869Z"
   },
   {
    "duration": 91,
    "start_time": "2023-06-18T11:33:09.076Z"
   },
   {
    "duration": 5,
    "start_time": "2023-06-18T11:33:09.169Z"
   },
   {
    "duration": 220,
    "start_time": "2023-06-18T11:33:09.176Z"
   },
   {
    "duration": 919,
    "start_time": "2023-06-18T11:33:09.454Z"
   },
   {
    "duration": 206,
    "start_time": "2023-06-18T11:33:10.375Z"
   },
   {
    "duration": 11,
    "start_time": "2023-06-18T11:33:10.583Z"
   },
   {
    "duration": 8,
    "start_time": "2023-06-18T11:33:10.596Z"
   },
   {
    "duration": 121,
    "start_time": "2023-06-18T11:33:10.606Z"
   },
   {
    "duration": 13,
    "start_time": "2023-06-18T11:33:10.729Z"
   },
   {
    "duration": 94,
    "start_time": "2023-06-18T11:33:10.743Z"
   },
   {
    "duration": 22,
    "start_time": "2023-06-18T11:33:10.839Z"
   },
   {
    "duration": 81,
    "start_time": "2023-06-18T11:33:10.866Z"
   },
   {
    "duration": 29,
    "start_time": "2023-06-18T11:33:10.949Z"
   },
   {
    "duration": 111,
    "start_time": "2023-06-18T11:33:10.981Z"
   },
   {
    "duration": 28,
    "start_time": "2023-06-18T11:33:11.094Z"
   },
   {
    "duration": 98,
    "start_time": "2023-06-18T11:33:11.124Z"
   },
   {
    "duration": 6,
    "start_time": "2023-06-18T11:33:11.225Z"
   },
   {
    "duration": 97,
    "start_time": "2023-06-18T11:33:11.232Z"
   },
   {
    "duration": 52,
    "start_time": "2023-06-18T11:33:11.331Z"
   },
   {
    "duration": 78,
    "start_time": "2023-06-18T11:33:11.387Z"
   },
   {
    "duration": 64,
    "start_time": "2023-06-18T11:33:11.467Z"
   },
   {
    "duration": 87,
    "start_time": "2023-06-18T11:33:11.533Z"
   },
   {
    "duration": 472,
    "start_time": "2023-06-18T11:33:11.622Z"
   },
   {
    "duration": 85,
    "start_time": "2023-06-18T11:33:12.096Z"
   },
   {
    "duration": 13,
    "start_time": "2023-06-18T11:33:12.183Z"
   },
   {
    "duration": 16,
    "start_time": "2023-06-18T11:33:12.198Z"
   },
   {
    "duration": 106,
    "start_time": "2023-06-18T11:33:12.216Z"
   },
   {
    "duration": 43,
    "start_time": "2023-06-18T11:33:12.324Z"
   },
   {
    "duration": 97,
    "start_time": "2023-06-18T11:33:12.374Z"
   },
   {
    "duration": 11,
    "start_time": "2023-06-18T11:33:12.478Z"
   },
   {
    "duration": 95,
    "start_time": "2023-06-18T11:33:12.490Z"
   },
   {
    "duration": 23,
    "start_time": "2023-06-18T11:33:12.590Z"
   },
   {
    "duration": 196,
    "start_time": "2023-06-18T11:33:12.615Z"
   },
   {
    "duration": 90,
    "start_time": "2023-06-18T11:33:12.813Z"
   },
   {
    "duration": 178,
    "start_time": "2023-06-18T11:33:12.905Z"
   },
   {
    "duration": 245,
    "start_time": "2023-06-18T11:33:13.085Z"
   },
   {
    "duration": 289,
    "start_time": "2023-06-18T11:33:13.333Z"
   },
   {
    "duration": 148,
    "start_time": "2023-06-18T11:33:13.629Z"
   },
   {
    "duration": 142,
    "start_time": "2023-06-18T11:33:13.778Z"
   },
   {
    "duration": 51,
    "start_time": "2023-06-18T11:33:13.922Z"
   },
   {
    "duration": 332,
    "start_time": "2023-06-18T11:33:13.981Z"
   },
   {
    "duration": 300,
    "start_time": "2023-06-18T11:33:14.315Z"
   },
   {
    "duration": 120,
    "start_time": "2023-06-18T11:33:14.618Z"
   },
   {
    "duration": 47,
    "start_time": "2023-06-18T11:33:14.739Z"
   },
   {
    "duration": 22,
    "start_time": "2023-06-18T11:33:14.788Z"
   },
   {
    "duration": 141,
    "start_time": "2023-06-18T11:33:14.812Z"
   },
   {
    "duration": 48,
    "start_time": "2023-06-18T11:33:14.960Z"
   },
   {
    "duration": 85,
    "start_time": "2023-06-18T11:33:15.010Z"
   },
   {
    "duration": 168,
    "start_time": "2023-06-18T11:33:15.097Z"
   },
   {
    "duration": 12,
    "start_time": "2023-06-18T11:33:15.271Z"
   },
   {
    "duration": 39,
    "start_time": "2023-06-18T11:33:15.284Z"
   },
   {
    "duration": 162,
    "start_time": "2023-06-18T11:33:15.325Z"
   },
   {
    "duration": 43,
    "start_time": "2023-06-18T11:33:15.489Z"
   },
   {
    "duration": 137,
    "start_time": "2023-06-18T11:33:15.534Z"
   },
   {
    "duration": 36,
    "start_time": "2023-06-18T11:33:15.674Z"
   },
   {
    "duration": 123,
    "start_time": "2023-06-18T11:33:15.712Z"
   },
   {
    "duration": 183,
    "start_time": "2023-06-18T11:33:15.836Z"
   },
   {
    "duration": 159,
    "start_time": "2023-06-18T11:33:16.020Z"
   },
   {
    "duration": 122,
    "start_time": "2023-06-18T11:33:16.181Z"
   },
   {
    "duration": 77,
    "start_time": "2023-06-18T11:33:16.305Z"
   },
   {
    "duration": 124,
    "start_time": "2023-06-18T11:33:16.384Z"
   },
   {
    "duration": 235,
    "start_time": "2023-06-18T11:33:16.509Z"
   },
   {
    "duration": 138,
    "start_time": "2023-06-18T11:33:16.745Z"
   },
   {
    "duration": 114,
    "start_time": "2023-06-18T11:33:16.884Z"
   },
   {
    "duration": 131,
    "start_time": "2023-06-18T11:33:17.000Z"
   },
   {
    "duration": 46,
    "start_time": "2023-06-18T11:33:17.133Z"
   },
   {
    "duration": 123,
    "start_time": "2023-06-18T11:33:17.181Z"
   },
   {
    "duration": 31,
    "start_time": "2023-06-18T11:33:17.306Z"
   },
   {
    "duration": 143,
    "start_time": "2023-06-18T11:33:17.338Z"
   },
   {
    "duration": 39,
    "start_time": "2023-06-18T11:33:17.483Z"
   },
   {
    "duration": 150,
    "start_time": "2023-06-18T11:33:17.524Z"
   },
   {
    "duration": 44,
    "start_time": "2023-06-18T11:33:17.676Z"
   },
   {
    "duration": 116,
    "start_time": "2023-06-18T11:33:17.722Z"
   },
   {
    "duration": 65,
    "start_time": "2023-06-18T11:33:17.840Z"
   },
   {
    "duration": 136,
    "start_time": "2023-06-18T11:33:17.907Z"
   },
   {
    "duration": 132,
    "start_time": "2023-06-18T11:33:18.053Z"
   },
   {
    "duration": 5,
    "start_time": "2023-06-18T11:33:18.187Z"
   },
   {
    "duration": 136,
    "start_time": "2023-06-18T11:33:18.194Z"
   },
   {
    "duration": 213,
    "start_time": "2023-06-18T11:33:18.332Z"
   },
   {
    "duration": 36,
    "start_time": "2023-06-18T11:33:18.560Z"
   },
   {
    "duration": 598,
    "start_time": "2023-06-18T11:33:18.598Z"
   },
   {
    "duration": 0,
    "start_time": "2023-06-18T11:33:19.198Z"
   },
   {
    "duration": 0,
    "start_time": "2023-06-18T11:33:19.199Z"
   },
   {
    "duration": 0,
    "start_time": "2023-06-18T11:33:19.200Z"
   },
   {
    "duration": 0,
    "start_time": "2023-06-18T11:33:19.201Z"
   },
   {
    "duration": 0,
    "start_time": "2023-06-18T11:33:19.202Z"
   },
   {
    "duration": 0,
    "start_time": "2023-06-18T11:33:19.204Z"
   },
   {
    "duration": 0,
    "start_time": "2023-06-18T11:33:19.205Z"
   },
   {
    "duration": 0,
    "start_time": "2023-06-18T11:33:19.205Z"
   },
   {
    "duration": 0,
    "start_time": "2023-06-18T11:33:19.206Z"
   },
   {
    "duration": 1700,
    "start_time": "2023-06-18T11:36:02.914Z"
   },
   {
    "duration": 4,
    "start_time": "2023-06-18T11:36:04.617Z"
   },
   {
    "duration": 1042,
    "start_time": "2023-06-18T11:36:04.622Z"
   },
   {
    "duration": 154,
    "start_time": "2023-06-18T11:36:05.668Z"
   },
   {
    "duration": 44,
    "start_time": "2023-06-18T11:36:05.824Z"
   },
   {
    "duration": 5,
    "start_time": "2023-06-18T11:36:05.871Z"
   },
   {
    "duration": 577,
    "start_time": "2023-06-18T11:36:05.879Z"
   },
   {
    "duration": 778,
    "start_time": "2023-06-18T11:36:06.460Z"
   },
   {
    "duration": 3,
    "start_time": "2023-06-18T11:36:07.239Z"
   },
   {
    "duration": 72,
    "start_time": "2023-06-18T11:36:07.244Z"
   },
   {
    "duration": 43,
    "start_time": "2023-06-18T11:36:07.318Z"
   },
   {
    "duration": 129,
    "start_time": "2023-06-18T11:36:07.363Z"
   },
   {
    "duration": 37,
    "start_time": "2023-06-18T11:36:07.494Z"
   },
   {
    "duration": 53,
    "start_time": "2023-06-18T11:36:07.532Z"
   },
   {
    "duration": 110,
    "start_time": "2023-06-18T11:36:07.587Z"
   },
   {
    "duration": 151,
    "start_time": "2023-06-18T11:36:07.699Z"
   },
   {
    "duration": 62,
    "start_time": "2023-06-18T11:36:07.852Z"
   },
   {
    "duration": 101,
    "start_time": "2023-06-18T11:36:07.916Z"
   },
   {
    "duration": 149,
    "start_time": "2023-06-18T11:36:08.018Z"
   },
   {
    "duration": 109,
    "start_time": "2023-06-18T11:36:08.169Z"
   },
   {
    "duration": 85,
    "start_time": "2023-06-18T11:36:08.281Z"
   },
   {
    "duration": 88,
    "start_time": "2023-06-18T11:36:08.370Z"
   },
   {
    "duration": 80,
    "start_time": "2023-06-18T11:36:08.461Z"
   },
   {
    "duration": 93,
    "start_time": "2023-06-18T11:36:08.543Z"
   },
   {
    "duration": 20,
    "start_time": "2023-06-18T11:36:08.638Z"
   },
   {
    "duration": 84,
    "start_time": "2023-06-18T11:36:08.662Z"
   },
   {
    "duration": 14,
    "start_time": "2023-06-18T11:36:08.748Z"
   },
   {
    "duration": 83,
    "start_time": "2023-06-18T11:36:08.767Z"
   },
   {
    "duration": 45,
    "start_time": "2023-06-18T11:36:08.851Z"
   },
   {
    "duration": 29,
    "start_time": "2023-06-18T11:36:08.897Z"
   },
   {
    "duration": 93,
    "start_time": "2023-06-18T11:36:08.928Z"
   },
   {
    "duration": 46,
    "start_time": "2023-06-18T11:36:09.023Z"
   },
   {
    "duration": 70,
    "start_time": "2023-06-18T11:36:09.071Z"
   },
   {
    "duration": 14,
    "start_time": "2023-06-18T11:36:09.143Z"
   },
   {
    "duration": 77,
    "start_time": "2023-06-18T11:36:09.162Z"
   },
   {
    "duration": 30,
    "start_time": "2023-06-18T11:36:09.241Z"
   },
   {
    "duration": 76,
    "start_time": "2023-06-18T11:36:09.273Z"
   },
   {
    "duration": 28,
    "start_time": "2023-06-18T11:36:09.351Z"
   },
   {
    "duration": 31,
    "start_time": "2023-06-18T11:36:09.381Z"
   },
   {
    "duration": 6,
    "start_time": "2023-06-18T11:36:09.414Z"
   },
   {
    "duration": 57,
    "start_time": "2023-06-18T11:36:09.421Z"
   },
   {
    "duration": 85,
    "start_time": "2023-06-18T11:36:09.479Z"
   },
   {
    "duration": 17,
    "start_time": "2023-06-18T11:36:09.566Z"
   },
   {
    "duration": 104,
    "start_time": "2023-06-18T11:36:09.585Z"
   },
   {
    "duration": 22,
    "start_time": "2023-06-18T11:36:09.691Z"
   },
   {
    "duration": 3,
    "start_time": "2023-06-18T11:36:09.714Z"
   },
   {
    "duration": 95,
    "start_time": "2023-06-18T11:36:09.719Z"
   },
   {
    "duration": 412,
    "start_time": "2023-06-18T11:36:09.816Z"
   },
   {
    "duration": 76,
    "start_time": "2023-06-18T11:36:10.230Z"
   },
   {
    "duration": 15,
    "start_time": "2023-06-18T11:36:10.308Z"
   },
   {
    "duration": 97,
    "start_time": "2023-06-18T11:36:10.325Z"
   },
   {
    "duration": 40,
    "start_time": "2023-06-18T11:36:10.423Z"
   },
   {
    "duration": 92,
    "start_time": "2023-06-18T11:36:10.465Z"
   },
   {
    "duration": 14,
    "start_time": "2023-06-18T11:36:10.559Z"
   },
   {
    "duration": 74,
    "start_time": "2023-06-18T11:36:10.574Z"
   },
   {
    "duration": 9,
    "start_time": "2023-06-18T11:36:10.650Z"
   },
   {
    "duration": 100,
    "start_time": "2023-06-18T11:36:10.664Z"
   },
   {
    "duration": 32,
    "start_time": "2023-06-18T11:36:10.767Z"
   },
   {
    "duration": 78,
    "start_time": "2023-06-18T11:36:10.801Z"
   },
   {
    "duration": 5,
    "start_time": "2023-06-18T11:36:10.881Z"
   },
   {
    "duration": 82,
    "start_time": "2023-06-18T11:36:10.888Z"
   },
   {
    "duration": 28,
    "start_time": "2023-06-18T11:36:10.972Z"
   },
   {
    "duration": 81,
    "start_time": "2023-06-18T11:36:11.002Z"
   },
   {
    "duration": 39,
    "start_time": "2023-06-18T11:36:11.085Z"
   },
   {
    "duration": 95,
    "start_time": "2023-06-18T11:36:11.126Z"
   },
   {
    "duration": 451,
    "start_time": "2023-06-18T11:36:11.223Z"
   },
   {
    "duration": 85,
    "start_time": "2023-06-18T11:36:11.675Z"
   },
   {
    "duration": 10,
    "start_time": "2023-06-18T11:36:11.767Z"
   },
   {
    "duration": 14,
    "start_time": "2023-06-18T11:36:11.779Z"
   },
   {
    "duration": 88,
    "start_time": "2023-06-18T11:36:11.795Z"
   },
   {
    "duration": 30,
    "start_time": "2023-06-18T11:36:11.886Z"
   },
   {
    "duration": 89,
    "start_time": "2023-06-18T11:36:11.918Z"
   },
   {
    "duration": 5,
    "start_time": "2023-06-18T11:36:12.009Z"
   },
   {
    "duration": 95,
    "start_time": "2023-06-18T11:36:12.016Z"
   },
   {
    "duration": 5,
    "start_time": "2023-06-18T11:36:12.113Z"
   },
   {
    "duration": 196,
    "start_time": "2023-06-18T11:36:12.120Z"
   },
   {
    "duration": 87,
    "start_time": "2023-06-18T11:36:12.317Z"
   },
   {
    "duration": 50,
    "start_time": "2023-06-18T11:36:12.406Z"
   },
   {
    "duration": 165,
    "start_time": "2023-06-18T11:36:12.458Z"
   },
   {
    "duration": 262,
    "start_time": "2023-06-18T11:36:12.625Z"
   },
   {
    "duration": 80,
    "start_time": "2023-06-18T11:36:12.889Z"
   },
   {
    "duration": 41,
    "start_time": "2023-06-18T11:36:12.976Z"
   },
   {
    "duration": 20,
    "start_time": "2023-06-18T11:36:13.019Z"
   },
   {
    "duration": 145,
    "start_time": "2023-06-18T11:36:13.051Z"
   },
   {
    "duration": 369,
    "start_time": "2023-06-18T11:36:13.197Z"
   },
   {
    "duration": 74,
    "start_time": "2023-06-18T11:36:13.571Z"
   },
   {
    "duration": 26,
    "start_time": "2023-06-18T11:36:13.654Z"
   },
   {
    "duration": 38,
    "start_time": "2023-06-18T11:36:13.682Z"
   },
   {
    "duration": 88,
    "start_time": "2023-06-18T11:36:13.722Z"
   },
   {
    "duration": 54,
    "start_time": "2023-06-18T11:36:13.812Z"
   },
   {
    "duration": 17,
    "start_time": "2023-06-18T11:36:13.868Z"
   },
   {
    "duration": 79,
    "start_time": "2023-06-18T11:36:13.887Z"
   },
   {
    "duration": 13,
    "start_time": "2023-06-18T11:36:13.968Z"
   },
   {
    "duration": 21,
    "start_time": "2023-06-18T11:36:13.983Z"
   },
   {
    "duration": 91,
    "start_time": "2023-06-18T11:36:14.006Z"
   },
   {
    "duration": 32,
    "start_time": "2023-06-18T11:36:14.099Z"
   },
   {
    "duration": 82,
    "start_time": "2023-06-18T11:36:14.133Z"
   },
   {
    "duration": 35,
    "start_time": "2023-06-18T11:36:14.216Z"
   },
   {
    "duration": 85,
    "start_time": "2023-06-18T11:36:14.256Z"
   },
   {
    "duration": 41,
    "start_time": "2023-06-18T11:36:14.343Z"
   },
   {
    "duration": 121,
    "start_time": "2023-06-18T11:36:14.386Z"
   },
   {
    "duration": 83,
    "start_time": "2023-06-18T11:36:14.510Z"
   },
   {
    "duration": 37,
    "start_time": "2023-06-18T11:36:14.595Z"
   },
   {
    "duration": 88,
    "start_time": "2023-06-18T11:36:14.634Z"
   },
   {
    "duration": 204,
    "start_time": "2023-06-18T11:36:14.724Z"
   },
   {
    "duration": 74,
    "start_time": "2023-06-18T11:36:14.930Z"
   },
   {
    "duration": 17,
    "start_time": "2023-06-18T11:36:15.006Z"
   },
   {
    "duration": 90,
    "start_time": "2023-06-18T11:36:15.025Z"
   },
   {
    "duration": 18,
    "start_time": "2023-06-18T11:36:15.117Z"
   },
   {
    "duration": 113,
    "start_time": "2023-06-18T11:36:15.136Z"
   },
   {
    "duration": 29,
    "start_time": "2023-06-18T11:36:15.251Z"
   },
   {
    "duration": 140,
    "start_time": "2023-06-18T11:36:15.284Z"
   },
   {
    "duration": 38,
    "start_time": "2023-06-18T11:36:15.426Z"
   },
   {
    "duration": 72,
    "start_time": "2023-06-18T11:36:15.467Z"
   },
   {
    "duration": 62,
    "start_time": "2023-06-18T11:36:15.541Z"
   },
   {
    "duration": 84,
    "start_time": "2023-06-18T11:36:15.605Z"
   },
   {
    "duration": 66,
    "start_time": "2023-06-18T11:36:15.692Z"
   },
   {
    "duration": 74,
    "start_time": "2023-06-18T11:36:15.766Z"
   },
   {
    "duration": 85,
    "start_time": "2023-06-18T11:36:15.842Z"
   },
   {
    "duration": 5,
    "start_time": "2023-06-18T11:36:15.929Z"
   },
   {
    "duration": 111,
    "start_time": "2023-06-18T11:36:15.936Z"
   },
   {
    "duration": 82,
    "start_time": "2023-06-18T11:36:16.049Z"
   },
   {
    "duration": 19,
    "start_time": "2023-06-18T11:36:16.133Z"
   },
   {
    "duration": 5,
    "start_time": "2023-06-18T11:36:16.153Z"
   },
   {
    "duration": 1436,
    "start_time": "2023-06-18T11:36:16.159Z"
   },
   {
    "duration": 0,
    "start_time": "2023-06-18T11:36:17.596Z"
   },
   {
    "duration": 0,
    "start_time": "2023-06-18T11:36:17.598Z"
   },
   {
    "duration": 1,
    "start_time": "2023-06-18T11:36:17.599Z"
   },
   {
    "duration": 0,
    "start_time": "2023-06-18T11:36:17.600Z"
   },
   {
    "duration": 0,
    "start_time": "2023-06-18T11:36:17.602Z"
   },
   {
    "duration": 0,
    "start_time": "2023-06-18T11:36:17.603Z"
   },
   {
    "duration": 0,
    "start_time": "2023-06-18T11:36:17.605Z"
   },
   {
    "duration": 0,
    "start_time": "2023-06-18T11:36:17.606Z"
   },
   {
    "duration": 457,
    "start_time": "2023-06-18T11:38:25.014Z"
   },
   {
    "duration": 5,
    "start_time": "2023-06-18T11:52:25.517Z"
   },
   {
    "duration": 23,
    "start_time": "2023-06-18T11:52:57.691Z"
   },
   {
    "duration": 117,
    "start_time": "2023-06-18T11:52:58.353Z"
   },
   {
    "duration": 4,
    "start_time": "2023-06-18T11:53:00.176Z"
   },
   {
    "duration": 1753,
    "start_time": "2023-06-18T11:53:18.439Z"
   },
   {
    "duration": 4,
    "start_time": "2023-06-18T11:53:20.195Z"
   },
   {
    "duration": 1030,
    "start_time": "2023-06-18T11:53:20.201Z"
   },
   {
    "duration": 172,
    "start_time": "2023-06-18T11:53:21.233Z"
   },
   {
    "duration": 30,
    "start_time": "2023-06-18T11:53:21.408Z"
   },
   {
    "duration": 18,
    "start_time": "2023-06-18T11:53:21.440Z"
   },
   {
    "duration": 590,
    "start_time": "2023-06-18T11:53:21.466Z"
   },
   {
    "duration": 1907,
    "start_time": "2023-06-18T11:53:22.061Z"
   },
   {
    "duration": 7,
    "start_time": "2023-06-18T11:53:23.969Z"
   },
   {
    "duration": 117,
    "start_time": "2023-06-18T11:53:23.978Z"
   },
   {
    "duration": 100,
    "start_time": "2023-06-18T11:53:24.097Z"
   },
   {
    "duration": 280,
    "start_time": "2023-06-18T11:53:24.201Z"
   },
   {
    "duration": 90,
    "start_time": "2023-06-18T11:53:24.483Z"
   },
   {
    "duration": 30,
    "start_time": "2023-06-18T11:53:24.579Z"
   },
   {
    "duration": 16,
    "start_time": "2023-06-18T11:53:24.611Z"
   },
   {
    "duration": 128,
    "start_time": "2023-06-18T11:53:24.628Z"
   },
   {
    "duration": 39,
    "start_time": "2023-06-18T11:53:24.758Z"
   },
   {
    "duration": 111,
    "start_time": "2023-06-18T11:53:24.799Z"
   },
   {
    "duration": 136,
    "start_time": "2023-06-18T11:53:24.912Z"
   },
   {
    "duration": 89,
    "start_time": "2023-06-18T11:53:25.052Z"
   },
   {
    "duration": 49,
    "start_time": "2023-06-18T11:53:25.152Z"
   },
   {
    "duration": 95,
    "start_time": "2023-06-18T11:53:25.204Z"
   },
   {
    "duration": 91,
    "start_time": "2023-06-18T11:53:25.301Z"
   },
   {
    "duration": 89,
    "start_time": "2023-06-18T11:53:25.394Z"
   },
   {
    "duration": 10,
    "start_time": "2023-06-18T11:53:25.486Z"
   },
   {
    "duration": 95,
    "start_time": "2023-06-18T11:53:25.497Z"
   },
   {
    "duration": 9,
    "start_time": "2023-06-18T11:53:25.594Z"
   },
   {
    "duration": 106,
    "start_time": "2023-06-18T11:53:25.605Z"
   },
   {
    "duration": 52,
    "start_time": "2023-06-18T11:53:25.713Z"
   },
   {
    "duration": 41,
    "start_time": "2023-06-18T11:53:25.766Z"
   },
   {
    "duration": 98,
    "start_time": "2023-06-18T11:53:25.810Z"
   },
   {
    "duration": 53,
    "start_time": "2023-06-18T11:53:25.910Z"
   },
   {
    "duration": 77,
    "start_time": "2023-06-18T11:53:25.972Z"
   },
   {
    "duration": 39,
    "start_time": "2023-06-18T11:53:26.051Z"
   },
   {
    "duration": 111,
    "start_time": "2023-06-18T11:53:26.091Z"
   },
   {
    "duration": 38,
    "start_time": "2023-06-18T11:53:26.204Z"
   },
   {
    "duration": 141,
    "start_time": "2023-06-18T11:53:26.246Z"
   },
   {
    "duration": 45,
    "start_time": "2023-06-18T11:53:26.389Z"
   },
   {
    "duration": 5,
    "start_time": "2023-06-18T11:53:26.436Z"
   },
   {
    "duration": 44,
    "start_time": "2023-06-18T11:53:26.444Z"
   },
   {
    "duration": 77,
    "start_time": "2023-06-18T11:53:26.497Z"
   },
   {
    "duration": 72,
    "start_time": "2023-06-18T11:53:26.576Z"
   },
   {
    "duration": 15,
    "start_time": "2023-06-18T11:53:26.650Z"
   },
   {
    "duration": 98,
    "start_time": "2023-06-18T11:53:26.667Z"
   },
   {
    "duration": 33,
    "start_time": "2023-06-18T11:53:26.770Z"
   },
   {
    "duration": 3,
    "start_time": "2023-06-18T11:53:26.805Z"
   },
   {
    "duration": 120,
    "start_time": "2023-06-18T11:53:26.810Z"
   },
   {
    "duration": 449,
    "start_time": "2023-06-18T11:53:26.932Z"
   },
   {
    "duration": 218,
    "start_time": "2023-06-18T11:53:27.386Z"
   },
   {
    "duration": 56,
    "start_time": "2023-06-18T11:53:27.606Z"
   },
   {
    "duration": 207,
    "start_time": "2023-06-18T11:53:27.666Z"
   },
   {
    "duration": 80,
    "start_time": "2023-06-18T11:53:27.875Z"
   },
   {
    "duration": 208,
    "start_time": "2023-06-18T11:53:27.957Z"
   },
   {
    "duration": 9,
    "start_time": "2023-06-18T11:53:28.167Z"
   },
   {
    "duration": 211,
    "start_time": "2023-06-18T11:53:28.178Z"
   },
   {
    "duration": 67,
    "start_time": "2023-06-18T11:53:28.394Z"
   },
   {
    "duration": 234,
    "start_time": "2023-06-18T11:53:28.466Z"
   },
   {
    "duration": 44,
    "start_time": "2023-06-18T11:53:28.758Z"
   },
   {
    "duration": 195,
    "start_time": "2023-06-18T11:53:28.804Z"
   },
   {
    "duration": 22,
    "start_time": "2023-06-18T11:53:29.060Z"
   },
   {
    "duration": 196,
    "start_time": "2023-06-18T11:53:29.085Z"
   },
   {
    "duration": 117,
    "start_time": "2023-06-18T11:53:29.282Z"
   },
   {
    "duration": 216,
    "start_time": "2023-06-18T11:53:29.402Z"
   },
   {
    "duration": 60,
    "start_time": "2023-06-18T11:53:29.621Z"
   },
   {
    "duration": 80,
    "start_time": "2023-06-18T11:53:29.682Z"
   },
   {
    "duration": 768,
    "start_time": "2023-06-18T11:53:29.766Z"
   },
   {
    "duration": 93,
    "start_time": "2023-06-18T11:53:30.537Z"
   },
   {
    "duration": 70,
    "start_time": "2023-06-18T11:53:30.632Z"
   },
   {
    "duration": 32,
    "start_time": "2023-06-18T11:53:30.704Z"
   },
   {
    "duration": 237,
    "start_time": "2023-06-18T11:53:30.737Z"
   },
   {
    "duration": 75,
    "start_time": "2023-06-18T11:53:30.984Z"
   },
   {
    "duration": 71,
    "start_time": "2023-06-18T11:53:31.064Z"
   },
   {
    "duration": 90,
    "start_time": "2023-06-18T11:53:31.138Z"
   },
   {
    "duration": 309,
    "start_time": "2023-06-18T11:53:31.230Z"
   },
   {
    "duration": 86,
    "start_time": "2023-06-18T11:53:31.541Z"
   },
   {
    "duration": 68,
    "start_time": "2023-06-18T11:53:31.629Z"
   },
   {
    "duration": 31,
    "start_time": "2023-06-18T11:53:31.700Z"
   },
   {
    "duration": 117,
    "start_time": "2023-06-18T11:53:31.733Z"
   },
   {
    "duration": 296,
    "start_time": "2023-06-18T11:53:31.867Z"
   },
   {
    "duration": 189,
    "start_time": "2023-06-18T11:53:32.167Z"
   },
   {
    "duration": 42,
    "start_time": "2023-06-18T11:53:32.358Z"
   },
   {
    "duration": 36,
    "start_time": "2023-06-18T11:53:32.402Z"
   },
   {
    "duration": 185,
    "start_time": "2023-06-18T11:53:32.441Z"
   },
   {
    "duration": 94,
    "start_time": "2023-06-18T11:53:32.629Z"
   },
   {
    "duration": 17,
    "start_time": "2023-06-18T11:53:32.725Z"
   },
   {
    "duration": 121,
    "start_time": "2023-06-18T11:53:32.744Z"
   },
   {
    "duration": 29,
    "start_time": "2023-06-18T11:53:32.872Z"
   },
   {
    "duration": 28,
    "start_time": "2023-06-18T11:53:32.903Z"
   },
   {
    "duration": 86,
    "start_time": "2023-06-18T11:53:32.933Z"
   },
   {
    "duration": 44,
    "start_time": "2023-06-18T11:53:33.021Z"
   },
   {
    "duration": 86,
    "start_time": "2023-06-18T11:53:33.067Z"
   },
   {
    "duration": 32,
    "start_time": "2023-06-18T11:53:33.159Z"
   },
   {
    "duration": 92,
    "start_time": "2023-06-18T11:53:33.193Z"
   },
   {
    "duration": 5,
    "start_time": "2023-06-18T11:53:33.287Z"
   },
   {
    "duration": 133,
    "start_time": "2023-06-18T11:53:33.293Z"
   },
   {
    "duration": 88,
    "start_time": "2023-06-18T11:53:33.428Z"
   },
   {
    "duration": 57,
    "start_time": "2023-06-18T11:53:33.518Z"
   },
   {
    "duration": 119,
    "start_time": "2023-06-18T11:53:33.583Z"
   },
   {
    "duration": 225,
    "start_time": "2023-06-18T11:53:33.704Z"
   },
   {
    "duration": 81,
    "start_time": "2023-06-18T11:53:33.930Z"
   },
   {
    "duration": 19,
    "start_time": "2023-06-18T11:53:34.013Z"
   },
   {
    "duration": 117,
    "start_time": "2023-06-18T11:53:34.034Z"
   },
   {
    "duration": 36,
    "start_time": "2023-06-18T11:53:34.162Z"
   },
   {
    "duration": 80,
    "start_time": "2023-06-18T11:53:34.199Z"
   },
   {
    "duration": 26,
    "start_time": "2023-06-18T11:53:34.284Z"
   },
   {
    "duration": 82,
    "start_time": "2023-06-18T11:53:34.312Z"
   },
   {
    "duration": 35,
    "start_time": "2023-06-18T11:53:34.395Z"
   },
   {
    "duration": 103,
    "start_time": "2023-06-18T11:53:34.432Z"
   },
   {
    "duration": 51,
    "start_time": "2023-06-18T11:53:34.536Z"
   },
   {
    "duration": 80,
    "start_time": "2023-06-18T11:53:34.589Z"
   },
   {
    "duration": 52,
    "start_time": "2023-06-18T11:53:34.671Z"
   },
   {
    "duration": 119,
    "start_time": "2023-06-18T11:53:34.725Z"
   },
   {
    "duration": 39,
    "start_time": "2023-06-18T11:53:34.851Z"
   },
   {
    "duration": 27,
    "start_time": "2023-06-18T11:53:34.892Z"
   },
   {
    "duration": 85,
    "start_time": "2023-06-18T11:53:34.921Z"
   },
   {
    "duration": 4,
    "start_time": "2023-06-18T11:53:35.007Z"
   },
   {
    "duration": 95,
    "start_time": "2023-06-18T11:53:35.013Z"
   },
   {
    "duration": 431,
    "start_time": "2023-06-18T11:53:35.110Z"
   },
   {
    "duration": 1237,
    "start_time": "2023-06-18T11:53:35.543Z"
   },
   {
    "duration": 0,
    "start_time": "2023-06-18T11:53:36.782Z"
   },
   {
    "duration": 0,
    "start_time": "2023-06-18T11:53:36.784Z"
   },
   {
    "duration": 0,
    "start_time": "2023-06-18T11:53:36.785Z"
   },
   {
    "duration": 0,
    "start_time": "2023-06-18T11:53:36.786Z"
   },
   {
    "duration": 0,
    "start_time": "2023-06-18T11:53:36.787Z"
   },
   {
    "duration": 0,
    "start_time": "2023-06-18T11:53:36.788Z"
   },
   {
    "duration": 0,
    "start_time": "2023-06-18T11:53:36.789Z"
   },
   {
    "duration": 1747,
    "start_time": "2023-06-18T11:56:28.739Z"
   },
   {
    "duration": 5,
    "start_time": "2023-06-18T11:56:30.488Z"
   },
   {
    "duration": 1112,
    "start_time": "2023-06-18T11:56:30.495Z"
   },
   {
    "duration": 345,
    "start_time": "2023-06-18T11:56:31.610Z"
   },
   {
    "duration": 42,
    "start_time": "2023-06-18T11:56:31.967Z"
   },
   {
    "duration": 50,
    "start_time": "2023-06-18T11:56:32.011Z"
   },
   {
    "duration": 1334,
    "start_time": "2023-06-18T11:56:32.063Z"
   },
   {
    "duration": 1050,
    "start_time": "2023-06-18T11:56:33.456Z"
   },
   {
    "duration": 3,
    "start_time": "2023-06-18T11:56:34.508Z"
   },
   {
    "duration": 71,
    "start_time": "2023-06-18T11:56:34.512Z"
   },
   {
    "duration": 48,
    "start_time": "2023-06-18T11:56:34.586Z"
   },
   {
    "duration": 46,
    "start_time": "2023-06-18T11:56:34.636Z"
   },
   {
    "duration": 28,
    "start_time": "2023-06-18T11:56:34.684Z"
   },
   {
    "duration": 16,
    "start_time": "2023-06-18T11:56:34.716Z"
   },
   {
    "duration": 53,
    "start_time": "2023-06-18T11:56:34.733Z"
   },
   {
    "duration": 125,
    "start_time": "2023-06-18T11:56:34.788Z"
   },
   {
    "duration": 59,
    "start_time": "2023-06-18T11:56:34.915Z"
   },
   {
    "duration": 64,
    "start_time": "2023-06-18T11:56:34.981Z"
   },
   {
    "duration": 10,
    "start_time": "2023-06-18T11:56:35.046Z"
   },
   {
    "duration": 36,
    "start_time": "2023-06-18T11:56:35.061Z"
   },
   {
    "duration": 51,
    "start_time": "2023-06-18T11:56:35.099Z"
   },
   {
    "duration": 34,
    "start_time": "2023-06-18T11:56:35.160Z"
   },
   {
    "duration": 100,
    "start_time": "2023-06-18T11:56:35.196Z"
   },
   {
    "duration": 14,
    "start_time": "2023-06-18T11:56:35.298Z"
   },
   {
    "duration": 27,
    "start_time": "2023-06-18T11:56:35.314Z"
   },
   {
    "duration": 76,
    "start_time": "2023-06-18T11:56:35.343Z"
   },
   {
    "duration": 30,
    "start_time": "2023-06-18T11:56:35.421Z"
   },
   {
    "duration": 54,
    "start_time": "2023-06-18T11:56:35.454Z"
   },
   {
    "duration": 80,
    "start_time": "2023-06-18T11:56:35.510Z"
   },
   {
    "duration": 15,
    "start_time": "2023-06-18T11:56:35.593Z"
   },
   {
    "duration": 30,
    "start_time": "2023-06-18T11:56:35.610Z"
   },
   {
    "duration": 3,
    "start_time": "2023-06-18T11:56:35.642Z"
   },
   {
    "duration": 448,
    "start_time": "2023-06-18T11:56:35.653Z"
   },
   {
    "duration": 10,
    "start_time": "2023-06-18T11:56:36.103Z"
   },
   {
    "duration": 28,
    "start_time": "2023-06-18T11:56:36.115Z"
   },
   {
    "duration": 21,
    "start_time": "2023-06-18T11:56:36.144Z"
   },
   {
    "duration": 43,
    "start_time": "2023-06-18T11:56:36.172Z"
   },
   {
    "duration": 39,
    "start_time": "2023-06-18T11:56:36.217Z"
   },
   {
    "duration": 37,
    "start_time": "2023-06-18T11:56:36.265Z"
   },
   {
    "duration": 20,
    "start_time": "2023-06-18T11:56:36.304Z"
   },
   {
    "duration": 46,
    "start_time": "2023-06-18T11:56:36.328Z"
   },
   {
    "duration": 533,
    "start_time": "2023-06-18T11:56:36.378Z"
   },
   {
    "duration": 9,
    "start_time": "2023-06-18T11:56:36.913Z"
   },
   {
    "duration": 5,
    "start_time": "2023-06-18T11:56:36.924Z"
   },
   {
    "duration": 213,
    "start_time": "2023-06-18T11:56:36.955Z"
   },
   {
    "duration": 47,
    "start_time": "2023-06-18T11:56:37.170Z"
   },
   {
    "duration": 301,
    "start_time": "2023-06-18T11:56:37.219Z"
   },
   {
    "duration": 60,
    "start_time": "2023-06-18T11:56:37.521Z"
   },
   {
    "duration": 88,
    "start_time": "2023-06-18T11:56:37.583Z"
   },
   {
    "duration": 463,
    "start_time": "2023-06-18T11:56:37.673Z"
   },
   {
    "duration": 40,
    "start_time": "2023-06-18T11:56:38.139Z"
   },
   {
    "duration": 39,
    "start_time": "2023-06-18T11:56:38.187Z"
   },
   {
    "duration": 66,
    "start_time": "2023-06-18T11:56:38.229Z"
   },
   {
    "duration": 63,
    "start_time": "2023-06-18T11:56:38.298Z"
   },
   {
    "duration": 37,
    "start_time": "2023-06-18T11:56:38.369Z"
   },
   {
    "duration": 40,
    "start_time": "2023-06-18T11:56:38.408Z"
   },
   {
    "duration": 196,
    "start_time": "2023-06-18T11:56:38.450Z"
   },
   {
    "duration": 41,
    "start_time": "2023-06-18T11:56:38.648Z"
   },
   {
    "duration": 23,
    "start_time": "2023-06-18T11:56:38.691Z"
   },
   {
    "duration": 135,
    "start_time": "2023-06-18T11:56:38.716Z"
   },
   {
    "duration": 51,
    "start_time": "2023-06-18T11:56:38.856Z"
   },
   {
    "duration": 234,
    "start_time": "2023-06-18T11:56:38.909Z"
   },
   {
    "duration": 38,
    "start_time": "2023-06-18T11:56:39.144Z"
   },
   {
    "duration": 30,
    "start_time": "2023-06-18T11:56:39.184Z"
   },
   {
    "duration": 22,
    "start_time": "2023-06-18T11:56:39.215Z"
   },
   {
    "duration": 69,
    "start_time": "2023-06-18T11:56:39.239Z"
   },
   {
    "duration": 46,
    "start_time": "2023-06-18T11:56:39.310Z"
   },
   {
    "duration": 61,
    "start_time": "2023-06-18T11:56:39.358Z"
   },
   {
    "duration": 8,
    "start_time": "2023-06-18T11:56:39.421Z"
   },
   {
    "duration": 41,
    "start_time": "2023-06-18T11:56:39.431Z"
   },
   {
    "duration": 6,
    "start_time": "2023-06-18T11:56:39.476Z"
   },
   {
    "duration": 445,
    "start_time": "2023-06-18T11:56:39.484Z"
   },
   {
    "duration": 1241,
    "start_time": "2023-06-18T11:56:39.932Z"
   },
   {
    "duration": 1,
    "start_time": "2023-06-18T11:56:41.175Z"
   },
   {
    "duration": 0,
    "start_time": "2023-06-18T11:56:41.177Z"
   },
   {
    "duration": 0,
    "start_time": "2023-06-18T11:56:41.178Z"
   },
   {
    "duration": 0,
    "start_time": "2023-06-18T11:56:41.180Z"
   },
   {
    "duration": 0,
    "start_time": "2023-06-18T11:56:41.181Z"
   },
   {
    "duration": 0,
    "start_time": "2023-06-18T11:56:41.183Z"
   },
   {
    "duration": 0,
    "start_time": "2023-06-18T11:56:41.184Z"
   },
   {
    "duration": 17,
    "start_time": "2023-06-18T11:57:38.001Z"
   },
   {
    "duration": 81,
    "start_time": "2023-06-18T11:57:40.138Z"
   },
   {
    "duration": 35,
    "start_time": "2023-06-18T11:58:40.801Z"
   },
   {
    "duration": 9,
    "start_time": "2023-06-18T12:01:22.622Z"
   },
   {
    "duration": 3,
    "start_time": "2023-06-18T12:01:27.043Z"
   },
   {
    "duration": 5,
    "start_time": "2023-06-18T12:01:36.089Z"
   },
   {
    "duration": 1556,
    "start_time": "2023-06-18T12:01:56.126Z"
   },
   {
    "duration": 4,
    "start_time": "2023-06-18T12:01:57.684Z"
   },
   {
    "duration": 975,
    "start_time": "2023-06-18T12:01:57.690Z"
   },
   {
    "duration": 127,
    "start_time": "2023-06-18T12:01:58.666Z"
   },
   {
    "duration": 28,
    "start_time": "2023-06-18T12:01:58.795Z"
   },
   {
    "duration": 3,
    "start_time": "2023-06-18T12:01:58.824Z"
   },
   {
    "duration": 528,
    "start_time": "2023-06-18T12:01:58.828Z"
   },
   {
    "duration": 919,
    "start_time": "2023-06-18T12:01:59.364Z"
   },
   {
    "duration": 3,
    "start_time": "2023-06-18T12:02:00.285Z"
   },
   {
    "duration": 107,
    "start_time": "2023-06-18T12:02:00.289Z"
   },
   {
    "duration": 102,
    "start_time": "2023-06-18T12:02:00.398Z"
   },
   {
    "duration": 95,
    "start_time": "2023-06-18T12:02:00.502Z"
   },
   {
    "duration": 79,
    "start_time": "2023-06-18T12:02:00.599Z"
   },
   {
    "duration": 83,
    "start_time": "2023-06-18T12:02:00.683Z"
   },
   {
    "duration": 31,
    "start_time": "2023-06-18T12:02:00.768Z"
   },
   {
    "duration": 256,
    "start_time": "2023-06-18T12:02:00.801Z"
   },
   {
    "duration": 96,
    "start_time": "2023-06-18T12:02:01.060Z"
   },
   {
    "duration": 130,
    "start_time": "2023-06-18T12:02:01.163Z"
   },
   {
    "duration": 71,
    "start_time": "2023-06-18T12:02:01.295Z"
   },
   {
    "duration": 395,
    "start_time": "2023-06-18T12:02:01.368Z"
   },
   {
    "duration": 107,
    "start_time": "2023-06-18T12:02:01.766Z"
   },
   {
    "duration": 62,
    "start_time": "2023-06-18T12:02:01.875Z"
   },
   {
    "duration": 27,
    "start_time": "2023-06-18T12:02:01.939Z"
   },
   {
    "duration": 27,
    "start_time": "2023-06-18T12:02:01.968Z"
   },
   {
    "duration": 40,
    "start_time": "2023-06-18T12:02:01.996Z"
   },
   {
    "duration": 56,
    "start_time": "2023-06-18T12:02:02.038Z"
   },
   {
    "duration": 34,
    "start_time": "2023-06-18T12:02:02.096Z"
   },
   {
    "duration": 33,
    "start_time": "2023-06-18T12:02:02.132Z"
   },
   {
    "duration": 100,
    "start_time": "2023-06-18T12:02:02.167Z"
   },
   {
    "duration": 13,
    "start_time": "2023-06-18T12:02:02.269Z"
   },
   {
    "duration": 48,
    "start_time": "2023-06-18T12:02:02.284Z"
   },
   {
    "duration": 4,
    "start_time": "2023-06-18T12:02:02.334Z"
   },
   {
    "duration": 438,
    "start_time": "2023-06-18T12:02:02.340Z"
   },
   {
    "duration": 11,
    "start_time": "2023-06-18T12:02:02.779Z"
   },
   {
    "duration": 15,
    "start_time": "2023-06-18T12:02:02.791Z"
   },
   {
    "duration": 18,
    "start_time": "2023-06-18T12:02:02.807Z"
   },
   {
    "duration": 21,
    "start_time": "2023-06-18T12:02:02.827Z"
   },
   {
    "duration": 66,
    "start_time": "2023-06-18T12:02:02.851Z"
   },
   {
    "duration": 30,
    "start_time": "2023-06-18T12:02:02.919Z"
   },
   {
    "duration": 59,
    "start_time": "2023-06-18T12:02:02.951Z"
   },
   {
    "duration": 56,
    "start_time": "2023-06-18T12:02:03.015Z"
   },
   {
    "duration": 457,
    "start_time": "2023-06-18T12:02:03.073Z"
   },
   {
    "duration": 26,
    "start_time": "2023-06-18T12:02:03.531Z"
   },
   {
    "duration": 19,
    "start_time": "2023-06-18T12:02:03.558Z"
   },
   {
    "duration": 264,
    "start_time": "2023-06-18T12:02:03.579Z"
   },
   {
    "duration": 43,
    "start_time": "2023-06-18T12:02:03.845Z"
   },
   {
    "duration": 250,
    "start_time": "2023-06-18T12:02:03.890Z"
   },
   {
    "duration": 41,
    "start_time": "2023-06-18T12:02:04.142Z"
   },
   {
    "duration": 27,
    "start_time": "2023-06-18T12:02:04.185Z"
   },
   {
    "duration": 305,
    "start_time": "2023-06-18T12:02:04.214Z"
   },
   {
    "duration": 18,
    "start_time": "2023-06-18T12:02:04.521Z"
   },
   {
    "duration": 51,
    "start_time": "2023-06-18T12:02:04.540Z"
   },
   {
    "duration": 33,
    "start_time": "2023-06-18T12:02:04.592Z"
   },
   {
    "duration": 17,
    "start_time": "2023-06-18T12:02:04.627Z"
   },
   {
    "duration": 22,
    "start_time": "2023-06-18T12:02:04.645Z"
   },
   {
    "duration": 21,
    "start_time": "2023-06-18T12:02:04.669Z"
   },
   {
    "duration": 123,
    "start_time": "2023-06-18T12:02:04.692Z"
   },
   {
    "duration": 20,
    "start_time": "2023-06-18T12:02:04.817Z"
   },
   {
    "duration": 28,
    "start_time": "2023-06-18T12:02:04.838Z"
   },
   {
    "duration": 125,
    "start_time": "2023-06-18T12:02:04.868Z"
   },
   {
    "duration": 38,
    "start_time": "2023-06-18T12:02:04.994Z"
   },
   {
    "duration": 210,
    "start_time": "2023-06-18T12:02:05.034Z"
   },
   {
    "duration": 22,
    "start_time": "2023-06-18T12:02:05.257Z"
   },
   {
    "duration": 35,
    "start_time": "2023-06-18T12:02:05.281Z"
   },
   {
    "duration": 32,
    "start_time": "2023-06-18T12:02:05.318Z"
   },
   {
    "duration": 68,
    "start_time": "2023-06-18T12:02:05.352Z"
   },
   {
    "duration": 46,
    "start_time": "2023-06-18T12:02:05.422Z"
   },
   {
    "duration": 49,
    "start_time": "2023-06-18T12:02:05.474Z"
   },
   {
    "duration": 8,
    "start_time": "2023-06-18T12:02:05.524Z"
   },
   {
    "duration": 62,
    "start_time": "2023-06-18T12:02:05.534Z"
   },
   {
    "duration": 28,
    "start_time": "2023-06-18T12:02:05.598Z"
   },
   {
    "duration": 407,
    "start_time": "2023-06-18T12:02:05.628Z"
   },
   {
    "duration": 29,
    "start_time": "2023-06-18T12:02:06.037Z"
   },
   {
    "duration": 69,
    "start_time": "2023-06-18T12:02:06.068Z"
   },
   {
    "duration": 163,
    "start_time": "2023-06-18T12:02:06.140Z"
   },
   {
    "duration": 0,
    "start_time": "2023-06-18T12:02:06.305Z"
   },
   {
    "duration": 0,
    "start_time": "2023-06-18T12:02:06.306Z"
   },
   {
    "duration": 0,
    "start_time": "2023-06-18T12:02:06.308Z"
   },
   {
    "duration": 1605,
    "start_time": "2023-06-18T12:09:04.995Z"
   },
   {
    "duration": 4,
    "start_time": "2023-06-18T12:09:06.602Z"
   },
   {
    "duration": 1164,
    "start_time": "2023-06-18T12:09:06.608Z"
   },
   {
    "duration": 393,
    "start_time": "2023-06-18T12:09:07.775Z"
   },
   {
    "duration": 84,
    "start_time": "2023-06-18T12:09:08.171Z"
   },
   {
    "duration": 8,
    "start_time": "2023-06-18T12:09:08.257Z"
   },
   {
    "duration": 1701,
    "start_time": "2023-06-18T12:09:08.268Z"
   },
   {
    "duration": 926,
    "start_time": "2023-06-18T12:09:09.971Z"
   },
   {
    "duration": 3,
    "start_time": "2023-06-18T12:09:10.899Z"
   },
   {
    "duration": 73,
    "start_time": "2023-06-18T12:09:10.903Z"
   },
   {
    "duration": 48,
    "start_time": "2023-06-18T12:09:10.978Z"
   },
   {
    "duration": 58,
    "start_time": "2023-06-18T12:09:11.028Z"
   },
   {
    "duration": 39,
    "start_time": "2023-06-18T12:09:11.088Z"
   },
   {
    "duration": 38,
    "start_time": "2023-06-18T12:09:11.131Z"
   },
   {
    "duration": 33,
    "start_time": "2023-06-18T12:09:11.171Z"
   },
   {
    "duration": 136,
    "start_time": "2023-06-18T12:09:11.206Z"
   },
   {
    "duration": 46,
    "start_time": "2023-06-18T12:09:11.351Z"
   },
   {
    "duration": 77,
    "start_time": "2023-06-18T12:09:11.398Z"
   },
   {
    "duration": 6,
    "start_time": "2023-06-18T12:09:11.477Z"
   },
   {
    "duration": 17,
    "start_time": "2023-06-18T12:09:11.485Z"
   },
   {
    "duration": 49,
    "start_time": "2023-06-18T12:09:11.503Z"
   },
   {
    "duration": 35,
    "start_time": "2023-06-18T12:09:11.560Z"
   },
   {
    "duration": 20,
    "start_time": "2023-06-18T12:09:11.597Z"
   },
   {
    "duration": 7,
    "start_time": "2023-06-18T12:09:11.619Z"
   },
   {
    "duration": 46,
    "start_time": "2023-06-18T12:09:11.628Z"
   },
   {
    "duration": 23,
    "start_time": "2023-06-18T12:09:11.676Z"
   },
   {
    "duration": 9,
    "start_time": "2023-06-18T12:09:11.701Z"
   },
   {
    "duration": 8,
    "start_time": "2023-06-18T12:09:11.712Z"
   },
   {
    "duration": 73,
    "start_time": "2023-06-18T12:09:11.722Z"
   },
   {
    "duration": 9,
    "start_time": "2023-06-18T12:09:11.797Z"
   },
   {
    "duration": 21,
    "start_time": "2023-06-18T12:09:11.808Z"
   },
   {
    "duration": 9,
    "start_time": "2023-06-18T12:09:11.852Z"
   },
   {
    "duration": 423,
    "start_time": "2023-06-18T12:09:11.864Z"
   },
   {
    "duration": 25,
    "start_time": "2023-06-18T12:09:12.289Z"
   },
   {
    "duration": 22,
    "start_time": "2023-06-18T12:09:12.317Z"
   },
   {
    "duration": 22,
    "start_time": "2023-06-18T12:09:12.341Z"
   },
   {
    "duration": 29,
    "start_time": "2023-06-18T12:09:12.364Z"
   },
   {
    "duration": 55,
    "start_time": "2023-06-18T12:09:12.395Z"
   },
   {
    "duration": 7,
    "start_time": "2023-06-18T12:09:12.452Z"
   },
   {
    "duration": 48,
    "start_time": "2023-06-18T12:09:12.461Z"
   },
   {
    "duration": 42,
    "start_time": "2023-06-18T12:09:12.514Z"
   },
   {
    "duration": 543,
    "start_time": "2023-06-18T12:09:12.565Z"
   },
   {
    "duration": 12,
    "start_time": "2023-06-18T12:09:13.110Z"
   },
   {
    "duration": 24,
    "start_time": "2023-06-18T12:09:13.125Z"
   },
   {
    "duration": 234,
    "start_time": "2023-06-18T12:09:13.154Z"
   },
   {
    "duration": 82,
    "start_time": "2023-06-18T12:09:13.391Z"
   },
   {
    "duration": 339,
    "start_time": "2023-06-18T12:09:13.476Z"
   },
   {
    "duration": 452,
    "start_time": "2023-06-18T12:09:13.818Z"
   },
   {
    "duration": 46,
    "start_time": "2023-06-18T12:09:14.271Z"
   },
   {
    "duration": 37,
    "start_time": "2023-06-18T12:09:14.319Z"
   },
   {
    "duration": 35,
    "start_time": "2023-06-18T12:09:14.359Z"
   },
   {
    "duration": 42,
    "start_time": "2023-06-18T12:09:14.397Z"
   },
   {
    "duration": 97,
    "start_time": "2023-06-18T12:09:14.441Z"
   },
   {
    "duration": 36,
    "start_time": "2023-06-18T12:09:14.540Z"
   },
   {
    "duration": 20,
    "start_time": "2023-06-18T12:09:14.578Z"
   },
   {
    "duration": 263,
    "start_time": "2023-06-18T12:09:14.600Z"
   },
   {
    "duration": 84,
    "start_time": "2023-06-18T12:09:14.866Z"
   },
   {
    "duration": 291,
    "start_time": "2023-06-18T12:09:14.958Z"
   },
   {
    "duration": 39,
    "start_time": "2023-06-18T12:09:15.252Z"
   },
   {
    "duration": 86,
    "start_time": "2023-06-18T12:09:15.292Z"
   },
   {
    "duration": 110,
    "start_time": "2023-06-18T12:09:15.380Z"
   },
   {
    "duration": 34,
    "start_time": "2023-06-18T12:09:15.492Z"
   },
   {
    "duration": 8,
    "start_time": "2023-06-18T12:09:15.528Z"
   },
   {
    "duration": 69,
    "start_time": "2023-06-18T12:09:15.538Z"
   },
   {
    "duration": 5,
    "start_time": "2023-06-18T12:09:15.609Z"
   },
   {
    "duration": 489,
    "start_time": "2023-06-18T12:09:15.616Z"
   },
   {
    "duration": 18,
    "start_time": "2023-06-18T12:09:16.107Z"
   },
   {
    "duration": 139,
    "start_time": "2023-06-18T12:09:16.127Z"
   },
   {
    "duration": 176,
    "start_time": "2023-06-18T12:09:16.268Z"
   },
   {
    "duration": 0,
    "start_time": "2023-06-18T12:09:16.446Z"
   },
   {
    "duration": 0,
    "start_time": "2023-06-18T12:09:16.451Z"
   },
   {
    "duration": 0,
    "start_time": "2023-06-18T12:09:16.452Z"
   },
   {
    "duration": 4,
    "start_time": "2023-06-18T12:11:53.415Z"
   },
   {
    "duration": 1849,
    "start_time": "2023-06-18T12:12:00.948Z"
   },
   {
    "duration": 6,
    "start_time": "2023-06-18T12:12:02.799Z"
   },
   {
    "duration": 1011,
    "start_time": "2023-06-18T12:12:02.806Z"
   },
   {
    "duration": 144,
    "start_time": "2023-06-18T12:12:03.819Z"
   },
   {
    "duration": 36,
    "start_time": "2023-06-18T12:12:03.970Z"
   },
   {
    "duration": 3,
    "start_time": "2023-06-18T12:12:04.008Z"
   },
   {
    "duration": 748,
    "start_time": "2023-06-18T12:12:04.013Z"
   },
   {
    "duration": 924,
    "start_time": "2023-06-18T12:12:04.768Z"
   },
   {
    "duration": 3,
    "start_time": "2023-06-18T12:12:05.694Z"
   },
   {
    "duration": 85,
    "start_time": "2023-06-18T12:12:05.699Z"
   },
   {
    "duration": 51,
    "start_time": "2023-06-18T12:12:05.786Z"
   },
   {
    "duration": 108,
    "start_time": "2023-06-18T12:12:05.852Z"
   },
   {
    "duration": 43,
    "start_time": "2023-06-18T12:12:05.969Z"
   },
   {
    "duration": 17,
    "start_time": "2023-06-18T12:12:06.017Z"
   },
   {
    "duration": 53,
    "start_time": "2023-06-18T12:12:06.036Z"
   },
   {
    "duration": 200,
    "start_time": "2023-06-18T12:12:06.092Z"
   },
   {
    "duration": 43,
    "start_time": "2023-06-18T12:12:06.293Z"
   },
   {
    "duration": 78,
    "start_time": "2023-06-18T12:12:06.338Z"
   },
   {
    "duration": 8,
    "start_time": "2023-06-18T12:12:06.417Z"
   },
   {
    "duration": 28,
    "start_time": "2023-06-18T12:12:06.427Z"
   },
   {
    "duration": 56,
    "start_time": "2023-06-18T12:12:06.462Z"
   },
   {
    "duration": 47,
    "start_time": "2023-06-18T12:12:06.520Z"
   },
   {
    "duration": 24,
    "start_time": "2023-06-18T12:12:06.574Z"
   },
   {
    "duration": 6,
    "start_time": "2023-06-18T12:12:06.600Z"
   },
   {
    "duration": 34,
    "start_time": "2023-06-18T12:12:06.607Z"
   },
   {
    "duration": 35,
    "start_time": "2023-06-18T12:12:06.642Z"
   },
   {
    "duration": 12,
    "start_time": "2023-06-18T12:12:06.679Z"
   },
   {
    "duration": 16,
    "start_time": "2023-06-18T12:12:06.693Z"
   },
   {
    "duration": 74,
    "start_time": "2023-06-18T12:12:06.711Z"
   },
   {
    "duration": 9,
    "start_time": "2023-06-18T12:12:06.787Z"
   },
   {
    "duration": 36,
    "start_time": "2023-06-18T12:12:06.798Z"
   },
   {
    "duration": 5,
    "start_time": "2023-06-18T12:12:06.836Z"
   },
   {
    "duration": 436,
    "start_time": "2023-06-18T12:12:06.855Z"
   },
   {
    "duration": 12,
    "start_time": "2023-06-18T12:12:07.294Z"
   },
   {
    "duration": 17,
    "start_time": "2023-06-18T12:12:07.308Z"
   },
   {
    "duration": 42,
    "start_time": "2023-06-18T12:12:07.327Z"
   },
   {
    "duration": 50,
    "start_time": "2023-06-18T12:12:07.372Z"
   },
   {
    "duration": 68,
    "start_time": "2023-06-18T12:12:07.424Z"
   },
   {
    "duration": 14,
    "start_time": "2023-06-18T12:12:07.494Z"
   },
   {
    "duration": 45,
    "start_time": "2023-06-18T12:12:07.510Z"
   },
   {
    "duration": 41,
    "start_time": "2023-06-18T12:12:07.569Z"
   },
   {
    "duration": 516,
    "start_time": "2023-06-18T12:12:07.612Z"
   },
   {
    "duration": 28,
    "start_time": "2023-06-18T12:12:08.130Z"
   },
   {
    "duration": 22,
    "start_time": "2023-06-18T12:12:08.164Z"
   },
   {
    "duration": 330,
    "start_time": "2023-06-18T12:12:08.188Z"
   },
   {
    "duration": 78,
    "start_time": "2023-06-18T12:12:08.520Z"
   },
   {
    "duration": 365,
    "start_time": "2023-06-18T12:12:08.602Z"
   },
   {
    "duration": 334,
    "start_time": "2023-06-18T12:12:08.969Z"
   },
   {
    "duration": 60,
    "start_time": "2023-06-18T12:12:09.306Z"
   },
   {
    "duration": 53,
    "start_time": "2023-06-18T12:12:09.375Z"
   },
   {
    "duration": 67,
    "start_time": "2023-06-18T12:12:09.431Z"
   },
   {
    "duration": 67,
    "start_time": "2023-06-18T12:12:09.500Z"
   },
   {
    "duration": 100,
    "start_time": "2023-06-18T12:12:09.573Z"
   },
   {
    "duration": 35,
    "start_time": "2023-06-18T12:12:09.676Z"
   },
   {
    "duration": 26,
    "start_time": "2023-06-18T12:12:09.714Z"
   },
   {
    "duration": 266,
    "start_time": "2023-06-18T12:12:09.742Z"
   },
   {
    "duration": 155,
    "start_time": "2023-06-18T12:12:10.010Z"
   },
   {
    "duration": 0,
    "start_time": "2023-06-18T12:12:10.167Z"
   },
   {
    "duration": 0,
    "start_time": "2023-06-18T12:12:10.172Z"
   },
   {
    "duration": 0,
    "start_time": "2023-06-18T12:12:10.173Z"
   },
   {
    "duration": 0,
    "start_time": "2023-06-18T12:12:10.174Z"
   },
   {
    "duration": 0,
    "start_time": "2023-06-18T12:12:10.175Z"
   },
   {
    "duration": 0,
    "start_time": "2023-06-18T12:12:10.178Z"
   },
   {
    "duration": 0,
    "start_time": "2023-06-18T12:12:10.179Z"
   },
   {
    "duration": 0,
    "start_time": "2023-06-18T12:12:10.181Z"
   },
   {
    "duration": 0,
    "start_time": "2023-06-18T12:12:10.182Z"
   },
   {
    "duration": 0,
    "start_time": "2023-06-18T12:12:10.183Z"
   },
   {
    "duration": 0,
    "start_time": "2023-06-18T12:12:10.184Z"
   },
   {
    "duration": 0,
    "start_time": "2023-06-18T12:12:10.185Z"
   },
   {
    "duration": 0,
    "start_time": "2023-06-18T12:12:10.187Z"
   },
   {
    "duration": 0,
    "start_time": "2023-06-18T12:12:10.188Z"
   },
   {
    "duration": 0,
    "start_time": "2023-06-18T12:12:10.189Z"
   },
   {
    "duration": 0,
    "start_time": "2023-06-18T12:12:10.191Z"
   },
   {
    "duration": 12,
    "start_time": "2023-06-18T12:13:28.097Z"
   },
   {
    "duration": 16,
    "start_time": "2023-06-18T12:13:34.976Z"
   },
   {
    "duration": 16,
    "start_time": "2023-06-18T12:13:44.095Z"
   },
   {
    "duration": 15,
    "start_time": "2023-06-18T12:21:11.699Z"
   },
   {
    "duration": 11,
    "start_time": "2023-06-18T12:21:31.836Z"
   },
   {
    "duration": 13,
    "start_time": "2023-06-18T12:21:47.519Z"
   },
   {
    "duration": 15,
    "start_time": "2023-06-18T12:21:57.710Z"
   },
   {
    "duration": 3,
    "start_time": "2023-06-18T12:30:06.397Z"
   },
   {
    "duration": 1574,
    "start_time": "2023-06-18T12:40:40.907Z"
   },
   {
    "duration": 6,
    "start_time": "2023-06-18T12:40:42.484Z"
   },
   {
    "duration": 1075,
    "start_time": "2023-06-18T12:40:42.492Z"
   },
   {
    "duration": 128,
    "start_time": "2023-06-18T12:40:43.573Z"
   },
   {
    "duration": 39,
    "start_time": "2023-06-18T12:40:43.703Z"
   },
   {
    "duration": 6,
    "start_time": "2023-06-18T12:40:43.752Z"
   },
   {
    "duration": 537,
    "start_time": "2023-06-18T12:40:43.759Z"
   },
   {
    "duration": 831,
    "start_time": "2023-06-18T12:40:44.298Z"
   },
   {
    "duration": 3,
    "start_time": "2023-06-18T12:40:45.131Z"
   },
   {
    "duration": 88,
    "start_time": "2023-06-18T12:40:45.136Z"
   },
   {
    "duration": 56,
    "start_time": "2023-06-18T12:40:45.227Z"
   },
   {
    "duration": 54,
    "start_time": "2023-06-18T12:40:45.285Z"
   },
   {
    "duration": 41,
    "start_time": "2023-06-18T12:40:45.341Z"
   },
   {
    "duration": 62,
    "start_time": "2023-06-18T12:40:45.386Z"
   },
   {
    "duration": 44,
    "start_time": "2023-06-18T12:40:45.450Z"
   },
   {
    "duration": 136,
    "start_time": "2023-06-18T12:40:45.496Z"
   },
   {
    "duration": 56,
    "start_time": "2023-06-18T12:40:45.634Z"
   },
   {
    "duration": 72,
    "start_time": "2023-06-18T12:40:45.692Z"
   },
   {
    "duration": 8,
    "start_time": "2023-06-18T12:40:45.767Z"
   },
   {
    "duration": 11,
    "start_time": "2023-06-18T12:40:45.777Z"
   },
   {
    "duration": 39,
    "start_time": "2023-06-18T12:40:45.790Z"
   },
   {
    "duration": 33,
    "start_time": "2023-06-18T12:40:45.852Z"
   },
   {
    "duration": 21,
    "start_time": "2023-06-18T12:40:45.887Z"
   },
   {
    "duration": 6,
    "start_time": "2023-06-18T12:40:45.910Z"
   },
   {
    "duration": 54,
    "start_time": "2023-06-18T12:40:45.917Z"
   },
   {
    "duration": 20,
    "start_time": "2023-06-18T12:40:45.974Z"
   },
   {
    "duration": 18,
    "start_time": "2023-06-18T12:40:45.996Z"
   },
   {
    "duration": 5,
    "start_time": "2023-06-18T12:40:46.016Z"
   },
   {
    "duration": 76,
    "start_time": "2023-06-18T12:40:46.023Z"
   },
   {
    "duration": 10,
    "start_time": "2023-06-18T12:40:46.101Z"
   },
   {
    "duration": 50,
    "start_time": "2023-06-18T12:40:46.113Z"
   },
   {
    "duration": 4,
    "start_time": "2023-06-18T12:40:46.171Z"
   },
   {
    "duration": 412,
    "start_time": "2023-06-18T12:40:46.177Z"
   },
   {
    "duration": 11,
    "start_time": "2023-06-18T12:40:46.591Z"
   },
   {
    "duration": 15,
    "start_time": "2023-06-18T12:40:46.605Z"
   },
   {
    "duration": 7,
    "start_time": "2023-06-18T12:40:46.623Z"
   },
   {
    "duration": 14,
    "start_time": "2023-06-18T12:40:46.651Z"
   },
   {
    "duration": 56,
    "start_time": "2023-06-18T12:40:46.667Z"
   },
   {
    "duration": 5,
    "start_time": "2023-06-18T12:40:46.725Z"
   },
   {
    "duration": 36,
    "start_time": "2023-06-18T12:40:46.731Z"
   },
   {
    "duration": 44,
    "start_time": "2023-06-18T12:40:46.773Z"
   },
   {
    "duration": 466,
    "start_time": "2023-06-18T12:40:46.818Z"
   },
   {
    "duration": 11,
    "start_time": "2023-06-18T12:40:47.286Z"
   },
   {
    "duration": 4,
    "start_time": "2023-06-18T12:40:47.299Z"
   },
   {
    "duration": 203,
    "start_time": "2023-06-18T12:40:47.305Z"
   },
   {
    "duration": 70,
    "start_time": "2023-06-18T12:40:47.510Z"
   },
   {
    "duration": 280,
    "start_time": "2023-06-18T12:40:47.582Z"
   },
   {
    "duration": 262,
    "start_time": "2023-06-18T12:40:47.866Z"
   },
   {
    "duration": 58,
    "start_time": "2023-06-18T12:40:48.130Z"
   },
   {
    "duration": 16,
    "start_time": "2023-06-18T12:40:48.190Z"
   },
   {
    "duration": 7,
    "start_time": "2023-06-18T12:40:48.208Z"
   },
   {
    "duration": 18,
    "start_time": "2023-06-18T12:40:48.217Z"
   },
   {
    "duration": 70,
    "start_time": "2023-06-18T12:40:48.237Z"
   },
   {
    "duration": 32,
    "start_time": "2023-06-18T12:40:48.310Z"
   },
   {
    "duration": 7,
    "start_time": "2023-06-18T12:40:48.352Z"
   },
   {
    "duration": 325,
    "start_time": "2023-06-18T12:40:48.361Z"
   },
   {
    "duration": 4,
    "start_time": "2023-06-18T12:40:48.688Z"
   },
   {
    "duration": 53,
    "start_time": "2023-06-18T12:40:48.694Z"
   },
   {
    "duration": 247,
    "start_time": "2023-06-18T12:40:48.749Z"
   },
   {
    "duration": 32,
    "start_time": "2023-06-18T12:40:48.998Z"
   },
   {
    "duration": 62,
    "start_time": "2023-06-18T12:40:49.033Z"
   },
   {
    "duration": 41,
    "start_time": "2023-06-18T12:40:49.097Z"
   },
   {
    "duration": 41,
    "start_time": "2023-06-18T12:40:49.151Z"
   },
   {
    "duration": 17,
    "start_time": "2023-06-18T12:40:49.194Z"
   },
   {
    "duration": 27,
    "start_time": "2023-06-18T12:40:49.213Z"
   },
   {
    "duration": 13,
    "start_time": "2023-06-18T12:40:49.242Z"
   },
   {
    "duration": 440,
    "start_time": "2023-06-18T12:40:49.257Z"
   },
   {
    "duration": 21,
    "start_time": "2023-06-18T12:40:49.700Z"
   },
   {
    "duration": 96,
    "start_time": "2023-06-18T12:40:49.723Z"
   },
   {
    "duration": 164,
    "start_time": "2023-06-18T12:40:49.821Z"
   },
   {
    "duration": 0,
    "start_time": "2023-06-18T12:40:49.987Z"
   },
   {
    "duration": 0,
    "start_time": "2023-06-18T12:40:49.988Z"
   },
   {
    "duration": 0,
    "start_time": "2023-06-18T12:40:49.989Z"
   },
   {
    "duration": 6,
    "start_time": "2023-06-18T12:43:38.948Z"
   },
   {
    "duration": 5,
    "start_time": "2023-06-18T12:43:47.892Z"
   },
   {
    "duration": 67,
    "start_time": "2023-06-18T12:44:04.814Z"
   },
   {
    "duration": 181,
    "start_time": "2023-06-18T12:44:44.017Z"
   },
   {
    "duration": 39,
    "start_time": "2023-06-18T12:45:22.767Z"
   },
   {
    "duration": 231,
    "start_time": "2023-06-18T12:45:25.406Z"
   },
   {
    "duration": 1626,
    "start_time": "2023-06-18T12:45:56.487Z"
   },
   {
    "duration": 5,
    "start_time": "2023-06-18T12:45:58.116Z"
   },
   {
    "duration": 1048,
    "start_time": "2023-06-18T12:45:58.123Z"
   },
   {
    "duration": 131,
    "start_time": "2023-06-18T12:45:59.173Z"
   },
   {
    "duration": 61,
    "start_time": "2023-06-18T12:45:59.308Z"
   },
   {
    "duration": 3,
    "start_time": "2023-06-18T12:45:59.378Z"
   },
   {
    "duration": 540,
    "start_time": "2023-06-18T12:45:59.382Z"
   },
   {
    "duration": 813,
    "start_time": "2023-06-18T12:45:59.924Z"
   },
   {
    "duration": 5,
    "start_time": "2023-06-18T12:46:00.739Z"
   },
   {
    "duration": 92,
    "start_time": "2023-06-18T12:46:00.760Z"
   },
   {
    "duration": 54,
    "start_time": "2023-06-18T12:46:00.862Z"
   },
   {
    "duration": 65,
    "start_time": "2023-06-18T12:46:00.918Z"
   },
   {
    "duration": 32,
    "start_time": "2023-06-18T12:46:00.985Z"
   },
   {
    "duration": 43,
    "start_time": "2023-06-18T12:46:01.021Z"
   },
   {
    "duration": 35,
    "start_time": "2023-06-18T12:46:01.068Z"
   },
   {
    "duration": 142,
    "start_time": "2023-06-18T12:46:01.105Z"
   },
   {
    "duration": 46,
    "start_time": "2023-06-18T12:46:01.249Z"
   },
   {
    "duration": 122,
    "start_time": "2023-06-18T12:46:01.297Z"
   },
   {
    "duration": 7,
    "start_time": "2023-06-18T12:46:01.421Z"
   },
   {
    "duration": 86,
    "start_time": "2023-06-18T12:46:01.429Z"
   },
   {
    "duration": 107,
    "start_time": "2023-06-18T12:46:01.517Z"
   },
   {
    "duration": 71,
    "start_time": "2023-06-18T12:46:01.626Z"
   },
   {
    "duration": 142,
    "start_time": "2023-06-18T12:46:01.699Z"
   },
   {
    "duration": 28,
    "start_time": "2023-06-18T12:46:01.843Z"
   },
   {
    "duration": 68,
    "start_time": "2023-06-18T12:46:01.874Z"
   },
   {
    "duration": 41,
    "start_time": "2023-06-18T12:46:01.944Z"
   },
   {
    "duration": 25,
    "start_time": "2023-06-18T12:46:01.988Z"
   },
   {
    "duration": 60,
    "start_time": "2023-06-18T12:46:02.015Z"
   },
   {
    "duration": 106,
    "start_time": "2023-06-18T12:46:02.078Z"
   },
   {
    "duration": 16,
    "start_time": "2023-06-18T12:46:02.186Z"
   },
   {
    "duration": 51,
    "start_time": "2023-06-18T12:46:02.204Z"
   },
   {
    "duration": 6,
    "start_time": "2023-06-18T12:46:02.257Z"
   },
   {
    "duration": 445,
    "start_time": "2023-06-18T12:46:02.273Z"
   },
   {
    "duration": 12,
    "start_time": "2023-06-18T12:46:02.721Z"
   },
   {
    "duration": 57,
    "start_time": "2023-06-18T12:46:02.735Z"
   },
   {
    "duration": 45,
    "start_time": "2023-06-18T12:46:02.794Z"
   },
   {
    "duration": 32,
    "start_time": "2023-06-18T12:46:02.841Z"
   },
   {
    "duration": 62,
    "start_time": "2023-06-18T12:46:02.876Z"
   },
   {
    "duration": 36,
    "start_time": "2023-06-18T12:46:02.940Z"
   },
   {
    "duration": 47,
    "start_time": "2023-06-18T12:46:02.978Z"
   },
   {
    "duration": 64,
    "start_time": "2023-06-18T12:46:03.030Z"
   },
   {
    "duration": 515,
    "start_time": "2023-06-18T12:46:03.097Z"
   },
   {
    "duration": 11,
    "start_time": "2023-06-18T12:46:03.614Z"
   },
   {
    "duration": 27,
    "start_time": "2023-06-18T12:46:03.626Z"
   },
   {
    "duration": 193,
    "start_time": "2023-06-18T12:46:03.657Z"
   },
   {
    "duration": 66,
    "start_time": "2023-06-18T12:46:03.852Z"
   },
   {
    "duration": 660,
    "start_time": "2023-06-18T12:46:03.928Z"
   },
   {
    "duration": 797,
    "start_time": "2023-06-18T12:46:04.591Z"
   },
   {
    "duration": 903,
    "start_time": "2023-06-18T12:46:05.390Z"
   },
   {
    "duration": 112,
    "start_time": "2023-06-18T12:46:06.295Z"
   },
   {
    "duration": 53,
    "start_time": "2023-06-18T12:46:06.409Z"
   },
   {
    "duration": 12,
    "start_time": "2023-06-18T12:46:06.467Z"
   },
   {
    "duration": 21,
    "start_time": "2023-06-18T12:46:06.481Z"
   },
   {
    "duration": 36,
    "start_time": "2023-06-18T12:46:06.504Z"
   },
   {
    "duration": 39,
    "start_time": "2023-06-18T12:46:06.542Z"
   },
   {
    "duration": 7,
    "start_time": "2023-06-18T12:46:06.583Z"
   },
   {
    "duration": 255,
    "start_time": "2023-06-18T12:46:06.592Z"
   },
   {
    "duration": 14,
    "start_time": "2023-06-18T12:46:06.849Z"
   },
   {
    "duration": 58,
    "start_time": "2023-06-18T12:46:06.869Z"
   },
   {
    "duration": 216,
    "start_time": "2023-06-18T12:46:06.929Z"
   },
   {
    "duration": 28,
    "start_time": "2023-06-18T12:46:07.153Z"
   },
   {
    "duration": 39,
    "start_time": "2023-06-18T12:46:07.185Z"
   },
   {
    "duration": 58,
    "start_time": "2023-06-18T12:46:07.226Z"
   },
   {
    "duration": 32,
    "start_time": "2023-06-18T12:46:07.286Z"
   },
   {
    "duration": 10,
    "start_time": "2023-06-18T12:46:07.320Z"
   },
   {
    "duration": 51,
    "start_time": "2023-06-18T12:46:07.332Z"
   },
   {
    "duration": 5,
    "start_time": "2023-06-18T12:46:07.385Z"
   },
   {
    "duration": 455,
    "start_time": "2023-06-18T12:46:07.392Z"
   },
   {
    "duration": 25,
    "start_time": "2023-06-18T12:46:07.849Z"
   },
   {
    "duration": 19,
    "start_time": "2023-06-18T12:46:07.876Z"
   },
   {
    "duration": 93,
    "start_time": "2023-06-18T12:46:07.897Z"
   },
   {
    "duration": 299,
    "start_time": "2023-06-18T12:46:07.992Z"
   },
   {
    "duration": 0,
    "start_time": "2023-06-18T12:46:08.294Z"
   },
   {
    "duration": 0,
    "start_time": "2023-06-18T12:46:08.296Z"
   },
   {
    "duration": 0,
    "start_time": "2023-06-18T12:46:08.298Z"
   },
   {
    "duration": 0,
    "start_time": "2023-06-18T12:46:08.299Z"
   },
   {
    "duration": 0,
    "start_time": "2023-06-18T12:46:08.302Z"
   },
   {
    "duration": 12,
    "start_time": "2023-06-18T12:50:15.990Z"
   },
   {
    "duration": 5,
    "start_time": "2023-06-18T12:50:23.817Z"
   },
   {
    "duration": 447,
    "start_time": "2023-06-18T12:52:37.249Z"
   },
   {
    "duration": 9,
    "start_time": "2023-06-18T12:53:03.209Z"
   },
   {
    "duration": 3,
    "start_time": "2023-06-18T12:55:42.824Z"
   },
   {
    "duration": 21,
    "start_time": "2023-06-18T12:58:49.561Z"
   },
   {
    "duration": 16,
    "start_time": "2023-06-18T12:58:59.087Z"
   },
   {
    "duration": 6,
    "start_time": "2023-06-18T13:00:48.266Z"
   },
   {
    "duration": 14,
    "start_time": "2023-06-18T13:03:10.986Z"
   },
   {
    "duration": 3,
    "start_time": "2023-06-18T13:03:15.613Z"
   },
   {
    "duration": 39,
    "start_time": "2023-06-18T13:03:16.126Z"
   },
   {
    "duration": 1207,
    "start_time": "2023-06-18T13:04:11.110Z"
   },
   {
    "duration": 170,
    "start_time": "2023-06-18T13:04:35.014Z"
   },
   {
    "duration": 35,
    "start_time": "2023-06-18T13:04:38.228Z"
   },
   {
    "duration": 36,
    "start_time": "2023-06-18T13:04:58.972Z"
   },
   {
    "duration": 71,
    "start_time": "2023-06-18T13:08:13.503Z"
   },
   {
    "duration": 1177,
    "start_time": "2023-06-18T13:08:53.314Z"
   },
   {
    "duration": 3,
    "start_time": "2023-06-18T13:40:46.483Z"
   },
   {
    "duration": 71,
    "start_time": "2023-06-18T13:40:48.653Z"
   },
   {
    "duration": 3618,
    "start_time": "2023-06-18T13:41:23.924Z"
   },
   {
    "duration": 4031,
    "start_time": "2023-06-18T13:42:13.290Z"
   },
   {
    "duration": 4009,
    "start_time": "2023-06-18T13:42:32.399Z"
   },
   {
    "duration": 4044,
    "start_time": "2023-06-18T13:42:47.635Z"
   },
   {
    "duration": 4210,
    "start_time": "2023-06-18T13:43:08.742Z"
   },
   {
    "duration": 2691,
    "start_time": "2023-06-18T13:46:03.585Z"
   },
   {
    "duration": 12,
    "start_time": "2023-06-18T13:47:24.685Z"
   },
   {
    "duration": 5,
    "start_time": "2023-06-18T13:47:47.020Z"
   },
   {
    "duration": 2997,
    "start_time": "2023-06-18T13:48:56.441Z"
   },
   {
    "duration": 5,
    "start_time": "2023-06-18T13:49:03.251Z"
   },
   {
    "duration": 5,
    "start_time": "2023-06-18T13:49:28.738Z"
   },
   {
    "duration": 6,
    "start_time": "2023-06-18T13:52:09.449Z"
   },
   {
    "duration": 5,
    "start_time": "2023-06-18T13:52:25.403Z"
   },
   {
    "duration": 16,
    "start_time": "2023-06-18T13:52:53.322Z"
   },
   {
    "duration": 8,
    "start_time": "2023-06-18T13:53:00.186Z"
   },
   {
    "duration": 6,
    "start_time": "2023-06-18T13:53:08.315Z"
   },
   {
    "duration": 27493,
    "start_time": "2023-06-18T14:01:21.572Z"
   },
   {
    "duration": 13,
    "start_time": "2023-06-18T14:05:09.003Z"
   },
   {
    "duration": 28,
    "start_time": "2023-06-18T14:05:30.896Z"
   },
   {
    "duration": 62166,
    "start_time": "2023-06-18T14:06:14.015Z"
   },
   {
    "duration": 9497,
    "start_time": "2023-06-18T14:07:16.183Z"
   },
   {
    "duration": 28819,
    "start_time": "2023-06-18T14:08:50.007Z"
   },
   {
    "duration": 33378,
    "start_time": "2023-06-18T14:09:18.829Z"
   },
   {
    "duration": 4,
    "start_time": "2023-06-18T14:09:52.209Z"
   },
   {
    "duration": 65040,
    "start_time": "2023-06-18T14:10:34.378Z"
   },
   {
    "duration": 43619,
    "start_time": "2023-06-18T14:11:39.421Z"
   },
   {
    "duration": 15,
    "start_time": "2023-06-18T14:12:23.042Z"
   },
   {
    "duration": 39,
    "start_time": "2023-06-18T14:12:23.059Z"
   },
   {
    "duration": 8,
    "start_time": "2023-06-18T14:12:58.378Z"
   },
   {
    "duration": 1721,
    "start_time": "2023-06-18T14:18:13.188Z"
   },
   {
    "duration": 5,
    "start_time": "2023-06-18T14:18:14.911Z"
   },
   {
    "duration": 1051,
    "start_time": "2023-06-18T14:18:14.920Z"
   },
   {
    "duration": 157,
    "start_time": "2023-06-18T14:18:15.974Z"
   },
   {
    "duration": 50,
    "start_time": "2023-06-18T14:18:16.133Z"
   },
   {
    "duration": 3,
    "start_time": "2023-06-18T14:18:16.185Z"
   },
   {
    "duration": 614,
    "start_time": "2023-06-18T14:18:16.192Z"
   },
   {
    "duration": 900,
    "start_time": "2023-06-18T14:18:16.808Z"
   },
   {
    "duration": 3,
    "start_time": "2023-06-18T14:18:17.710Z"
   },
   {
    "duration": 128,
    "start_time": "2023-06-18T14:18:17.716Z"
   },
   {
    "duration": 92,
    "start_time": "2023-06-18T14:18:17.846Z"
   },
   {
    "duration": 150,
    "start_time": "2023-06-18T14:18:17.940Z"
   },
   {
    "duration": 31,
    "start_time": "2023-06-18T14:18:18.094Z"
   },
   {
    "duration": 17,
    "start_time": "2023-06-18T14:18:18.126Z"
   },
   {
    "duration": 53,
    "start_time": "2023-06-18T14:18:18.145Z"
   },
   {
    "duration": 136,
    "start_time": "2023-06-18T14:18:18.200Z"
   },
   {
    "duration": 64,
    "start_time": "2023-06-18T14:18:18.339Z"
   },
   {
    "duration": 98,
    "start_time": "2023-06-18T14:18:18.406Z"
   },
   {
    "duration": 8,
    "start_time": "2023-06-18T14:18:18.508Z"
   },
   {
    "duration": 66,
    "start_time": "2023-06-18T14:18:18.518Z"
   },
   {
    "duration": 60,
    "start_time": "2023-06-18T14:18:18.586Z"
   },
   {
    "duration": 52,
    "start_time": "2023-06-18T14:18:18.648Z"
   },
   {
    "duration": 34,
    "start_time": "2023-06-18T14:18:18.704Z"
   },
   {
    "duration": 10,
    "start_time": "2023-06-18T14:18:18.740Z"
   },
   {
    "duration": 76,
    "start_time": "2023-06-18T14:18:18.752Z"
   },
   {
    "duration": 44,
    "start_time": "2023-06-18T14:18:18.830Z"
   },
   {
    "duration": 5,
    "start_time": "2023-06-18T14:18:18.880Z"
   },
   {
    "duration": 21,
    "start_time": "2023-06-18T14:18:18.890Z"
   },
   {
    "duration": 88,
    "start_time": "2023-06-18T14:18:18.913Z"
   },
   {
    "duration": 10,
    "start_time": "2023-06-18T14:18:19.004Z"
   },
   {
    "duration": 21,
    "start_time": "2023-06-18T14:18:19.016Z"
   },
   {
    "duration": 3,
    "start_time": "2023-06-18T14:18:19.039Z"
   },
   {
    "duration": 438,
    "start_time": "2023-06-18T14:18:19.043Z"
   },
   {
    "duration": 15,
    "start_time": "2023-06-18T14:18:19.485Z"
   },
   {
    "duration": 7,
    "start_time": "2023-06-18T14:18:19.502Z"
   },
   {
    "duration": 7,
    "start_time": "2023-06-18T14:18:19.511Z"
   },
   {
    "duration": 12,
    "start_time": "2023-06-18T14:18:19.520Z"
   },
   {
    "duration": 69,
    "start_time": "2023-06-18T14:18:19.534Z"
   },
   {
    "duration": 6,
    "start_time": "2023-06-18T14:18:19.605Z"
   },
   {
    "duration": 49,
    "start_time": "2023-06-18T14:18:19.613Z"
   },
   {
    "duration": 46,
    "start_time": "2023-06-18T14:18:19.663Z"
   },
   {
    "duration": 579,
    "start_time": "2023-06-18T14:18:19.711Z"
   },
   {
    "duration": 12,
    "start_time": "2023-06-18T14:18:20.292Z"
   },
   {
    "duration": 5,
    "start_time": "2023-06-18T14:18:20.306Z"
   },
   {
    "duration": 229,
    "start_time": "2023-06-18T14:18:20.312Z"
   },
   {
    "duration": 55,
    "start_time": "2023-06-18T14:18:20.543Z"
   },
   {
    "duration": 275,
    "start_time": "2023-06-18T14:18:20.600Z"
   },
   {
    "duration": 357,
    "start_time": "2023-06-18T14:18:20.881Z"
   },
   {
    "duration": 340,
    "start_time": "2023-06-18T14:18:21.240Z"
   },
   {
    "duration": 39,
    "start_time": "2023-06-18T14:18:21.586Z"
   },
   {
    "duration": 31,
    "start_time": "2023-06-18T14:18:21.627Z"
   },
   {
    "duration": 23,
    "start_time": "2023-06-18T14:18:21.660Z"
   },
   {
    "duration": 21,
    "start_time": "2023-06-18T14:18:21.685Z"
   },
   {
    "duration": 35,
    "start_time": "2023-06-18T14:18:21.708Z"
   },
   {
    "duration": 27,
    "start_time": "2023-06-18T14:18:21.745Z"
   },
   {
    "duration": 28,
    "start_time": "2023-06-18T14:18:21.774Z"
   },
   {
    "duration": 132,
    "start_time": "2023-06-18T14:18:21.804Z"
   },
   {
    "duration": 3,
    "start_time": "2023-06-18T14:18:21.938Z"
   },
   {
    "duration": 55,
    "start_time": "2023-06-18T14:18:21.942Z"
   },
   {
    "duration": 228,
    "start_time": "2023-06-18T14:18:21.999Z"
   },
   {
    "duration": 26,
    "start_time": "2023-06-18T14:18:22.229Z"
   },
   {
    "duration": 65,
    "start_time": "2023-06-18T14:18:22.257Z"
   },
   {
    "duration": 40,
    "start_time": "2023-06-18T14:18:22.323Z"
   },
   {
    "duration": 55,
    "start_time": "2023-06-18T14:18:22.365Z"
   },
   {
    "duration": 9,
    "start_time": "2023-06-18T14:18:22.423Z"
   },
   {
    "duration": 40,
    "start_time": "2023-06-18T14:18:22.434Z"
   },
   {
    "duration": 3,
    "start_time": "2023-06-18T14:18:22.476Z"
   },
   {
    "duration": 432,
    "start_time": "2023-06-18T14:18:22.481Z"
   },
   {
    "duration": 16,
    "start_time": "2023-06-18T14:18:22.915Z"
   },
   {
    "duration": 1190,
    "start_time": "2023-06-18T14:18:22.933Z"
   },
   {
    "duration": 85,
    "start_time": "2023-06-18T14:18:24.125Z"
   },
   {
    "duration": 0,
    "start_time": "2023-06-18T14:18:24.212Z"
   },
   {
    "duration": 0,
    "start_time": "2023-06-18T14:18:24.213Z"
   },
   {
    "duration": 0,
    "start_time": "2023-06-18T14:18:24.214Z"
   },
   {
    "duration": 0,
    "start_time": "2023-06-18T14:18:24.216Z"
   },
   {
    "duration": 0,
    "start_time": "2023-06-18T14:18:24.217Z"
   },
   {
    "duration": 0,
    "start_time": "2023-06-18T14:18:24.218Z"
   },
   {
    "duration": 0,
    "start_time": "2023-06-18T14:18:24.220Z"
   },
   {
    "duration": 0,
    "start_time": "2023-06-18T14:18:24.220Z"
   },
   {
    "duration": 0,
    "start_time": "2023-06-18T14:18:24.222Z"
   },
   {
    "duration": 0,
    "start_time": "2023-06-18T14:18:24.225Z"
   },
   {
    "duration": 0,
    "start_time": "2023-06-18T14:18:24.226Z"
   },
   {
    "duration": 0,
    "start_time": "2023-06-18T14:18:24.227Z"
   },
   {
    "duration": 0,
    "start_time": "2023-06-18T14:18:24.229Z"
   },
   {
    "duration": 0,
    "start_time": "2023-06-18T14:18:24.229Z"
   },
   {
    "duration": 0,
    "start_time": "2023-06-18T14:18:24.231Z"
   },
   {
    "duration": 0,
    "start_time": "2023-06-18T14:18:24.345Z"
   },
   {
    "duration": 3,
    "start_time": "2023-06-18T15:18:00.326Z"
   },
   {
    "duration": 32,
    "start_time": "2023-06-18T15:18:00.531Z"
   },
   {
    "duration": 133,
    "start_time": "2023-06-18T15:18:00.742Z"
   },
   {
    "duration": 39,
    "start_time": "2023-06-18T15:18:00.940Z"
   },
   {
    "duration": 952,
    "start_time": "2023-06-18T15:18:01.126Z"
   },
   {
    "duration": 46,
    "start_time": "2023-06-18T15:18:02.081Z"
   },
   {
    "duration": 4,
    "start_time": "2023-06-18T15:18:02.324Z"
   },
   {
    "duration": 191,
    "start_time": "2023-06-18T15:18:03.147Z"
   },
   {
    "duration": 65,
    "start_time": "2023-06-18T15:18:03.394Z"
   },
   {
    "duration": 16,
    "start_time": "2023-06-18T15:18:03.599Z"
   },
   {
    "duration": 13,
    "start_time": "2023-06-18T15:18:03.819Z"
   },
   {
    "duration": 47494,
    "start_time": "2023-06-18T15:18:04.288Z"
   },
   {
    "duration": 67,
    "start_time": "2023-06-18T15:18:51.785Z"
   },
   {
    "duration": 11,
    "start_time": "2023-06-18T15:18:51.854Z"
   },
   {
    "duration": 0,
    "start_time": "2023-06-18T15:18:51.867Z"
   },
   {
    "duration": 0,
    "start_time": "2023-06-18T15:18:51.869Z"
   },
   {
    "duration": 0,
    "start_time": "2023-06-18T15:18:51.870Z"
   },
   {
    "duration": 8154,
    "start_time": "2023-06-18T15:20:02.513Z"
   },
   {
    "duration": 3081,
    "start_time": "2023-06-18T15:20:10.669Z"
   },
   {
    "duration": 5,
    "start_time": "2023-06-18T15:20:13.752Z"
   },
   {
    "duration": 8,
    "start_time": "2023-06-18T15:20:13.759Z"
   },
   {
    "duration": 111160,
    "start_time": "2023-06-18T15:20:13.769Z"
   },
   {
    "duration": 32564,
    "start_time": "2023-06-18T15:22:04.931Z"
   },
   {
    "duration": 4,
    "start_time": "2023-06-18T15:22:37.499Z"
   },
   {
    "duration": 8,
    "start_time": "2023-06-18T15:22:37.505Z"
   },
   {
    "duration": 18,
    "start_time": "2023-06-18T15:22:37.515Z"
   },
   {
    "duration": 6,
    "start_time": "2023-06-18T15:23:20.933Z"
   },
   {
    "duration": 3,
    "start_time": "2023-06-18T15:23:23.495Z"
   },
   {
    "duration": 5,
    "start_time": "2023-06-18T15:23:24.205Z"
   },
   {
    "duration": 1773,
    "start_time": "2023-06-18T15:23:44.523Z"
   },
   {
    "duration": 5,
    "start_time": "2023-06-18T15:23:46.299Z"
   },
   {
    "duration": 917,
    "start_time": "2023-06-18T15:23:46.306Z"
   },
   {
    "duration": 160,
    "start_time": "2023-06-18T15:23:47.225Z"
   },
   {
    "duration": 43,
    "start_time": "2023-06-18T15:23:47.388Z"
   },
   {
    "duration": 3,
    "start_time": "2023-06-18T15:23:47.434Z"
   },
   {
    "duration": 588,
    "start_time": "2023-06-18T15:23:47.452Z"
   },
   {
    "duration": 845,
    "start_time": "2023-06-18T15:23:48.042Z"
   },
   {
    "duration": 4,
    "start_time": "2023-06-18T15:23:48.889Z"
   },
   {
    "duration": 86,
    "start_time": "2023-06-18T15:23:48.896Z"
   },
   {
    "duration": 54,
    "start_time": "2023-06-18T15:23:48.985Z"
   },
   {
    "duration": 43,
    "start_time": "2023-06-18T15:23:49.052Z"
   },
   {
    "duration": 32,
    "start_time": "2023-06-18T15:23:49.097Z"
   },
   {
    "duration": 36,
    "start_time": "2023-06-18T15:23:49.132Z"
   },
   {
    "duration": 39,
    "start_time": "2023-06-18T15:23:49.170Z"
   },
   {
    "duration": 185,
    "start_time": "2023-06-18T15:23:49.212Z"
   },
   {
    "duration": 60,
    "start_time": "2023-06-18T15:23:49.399Z"
   },
   {
    "duration": 68,
    "start_time": "2023-06-18T15:23:49.461Z"
   },
   {
    "duration": 25,
    "start_time": "2023-06-18T15:23:49.531Z"
   },
   {
    "duration": 12,
    "start_time": "2023-06-18T15:23:49.558Z"
   },
   {
    "duration": 53,
    "start_time": "2023-06-18T15:23:49.572Z"
   },
   {
    "duration": 59,
    "start_time": "2023-06-18T15:23:49.626Z"
   },
   {
    "duration": 33,
    "start_time": "2023-06-18T15:23:49.687Z"
   },
   {
    "duration": 34,
    "start_time": "2023-06-18T15:23:49.722Z"
   },
   {
    "duration": 23,
    "start_time": "2023-06-18T15:23:49.757Z"
   },
   {
    "duration": 21,
    "start_time": "2023-06-18T15:23:49.782Z"
   },
   {
    "duration": 16,
    "start_time": "2023-06-18T15:23:49.805Z"
   },
   {
    "duration": 29,
    "start_time": "2023-06-18T15:23:49.823Z"
   },
   {
    "duration": 69,
    "start_time": "2023-06-18T15:23:49.855Z"
   },
   {
    "duration": 12,
    "start_time": "2023-06-18T15:23:49.926Z"
   },
   {
    "duration": 22,
    "start_time": "2023-06-18T15:23:49.951Z"
   },
   {
    "duration": 5,
    "start_time": "2023-06-18T15:23:49.975Z"
   },
   {
    "duration": 354,
    "start_time": "2023-06-18T15:23:49.982Z"
   },
   {
    "duration": 19,
    "start_time": "2023-06-18T15:23:50.339Z"
   },
   {
    "duration": 17,
    "start_time": "2023-06-18T15:23:50.360Z"
   },
   {
    "duration": 25,
    "start_time": "2023-06-18T15:23:50.378Z"
   },
   {
    "duration": 16,
    "start_time": "2023-06-18T15:23:50.405Z"
   },
   {
    "duration": 64,
    "start_time": "2023-06-18T15:23:50.423Z"
   },
   {
    "duration": 16,
    "start_time": "2023-06-18T15:23:50.489Z"
   },
   {
    "duration": 42,
    "start_time": "2023-06-18T15:23:50.507Z"
   },
   {
    "duration": 44,
    "start_time": "2023-06-18T15:23:50.558Z"
   },
   {
    "duration": 437,
    "start_time": "2023-06-18T15:23:50.604Z"
   },
   {
    "duration": 17,
    "start_time": "2023-06-18T15:23:51.043Z"
   },
   {
    "duration": 16,
    "start_time": "2023-06-18T15:23:51.061Z"
   },
   {
    "duration": 189,
    "start_time": "2023-06-18T15:23:51.079Z"
   },
   {
    "duration": 55,
    "start_time": "2023-06-18T15:23:51.270Z"
   },
   {
    "duration": 239,
    "start_time": "2023-06-18T15:23:51.327Z"
   },
   {
    "duration": 276,
    "start_time": "2023-06-18T15:23:51.568Z"
   },
   {
    "duration": 271,
    "start_time": "2023-06-18T15:23:51.846Z"
   },
   {
    "duration": 48,
    "start_time": "2023-06-18T15:23:52.119Z"
   },
   {
    "duration": 19,
    "start_time": "2023-06-18T15:23:52.169Z"
   },
   {
    "duration": 29,
    "start_time": "2023-06-18T15:23:52.190Z"
   },
   {
    "duration": 22,
    "start_time": "2023-06-18T15:23:52.221Z"
   },
   {
    "duration": 36,
    "start_time": "2023-06-18T15:23:52.245Z"
   },
   {
    "duration": 35,
    "start_time": "2023-06-18T15:23:52.284Z"
   },
   {
    "duration": 82,
    "start_time": "2023-06-18T15:23:52.322Z"
   },
   {
    "duration": 159,
    "start_time": "2023-06-18T15:23:52.407Z"
   },
   {
    "duration": 3,
    "start_time": "2023-06-18T15:23:52.567Z"
   },
   {
    "duration": 55,
    "start_time": "2023-06-18T15:23:52.572Z"
   },
   {
    "duration": 206,
    "start_time": "2023-06-18T15:23:52.629Z"
   },
   {
    "duration": 28,
    "start_time": "2023-06-18T15:23:52.837Z"
   },
   {
    "duration": 55,
    "start_time": "2023-06-18T15:23:52.867Z"
   },
   {
    "duration": 49,
    "start_time": "2023-06-18T15:23:52.925Z"
   },
   {
    "duration": 33,
    "start_time": "2023-06-18T15:23:52.977Z"
   },
   {
    "duration": 9,
    "start_time": "2023-06-18T15:23:53.011Z"
   },
   {
    "duration": 53,
    "start_time": "2023-06-18T15:23:53.021Z"
   },
   {
    "duration": 4,
    "start_time": "2023-06-18T15:23:53.076Z"
   },
   {
    "duration": 416,
    "start_time": "2023-06-18T15:23:53.082Z"
   },
   {
    "duration": 18,
    "start_time": "2023-06-18T15:23:53.500Z"
   },
   {
    "duration": 1089,
    "start_time": "2023-06-18T15:23:53.520Z"
   },
   {
    "duration": 4,
    "start_time": "2023-06-18T15:23:54.611Z"
   },
   {
    "duration": 55,
    "start_time": "2023-06-18T15:23:54.617Z"
   },
   {
    "duration": 156,
    "start_time": "2023-06-18T15:23:54.674Z"
   },
   {
    "duration": 47,
    "start_time": "2023-06-18T15:23:54.831Z"
   },
   {
    "duration": 1147,
    "start_time": "2023-06-18T15:23:54.880Z"
   },
   {
    "duration": 57,
    "start_time": "2023-06-18T15:23:56.029Z"
   },
   {
    "duration": 3,
    "start_time": "2023-06-18T15:23:56.088Z"
   },
   {
    "duration": 7451,
    "start_time": "2023-06-18T15:23:56.093Z"
   },
   {
    "duration": 2800,
    "start_time": "2023-06-18T15:24:03.553Z"
   },
   {
    "duration": 5,
    "start_time": "2023-06-18T15:24:06.354Z"
   },
   {
    "duration": 12,
    "start_time": "2023-06-18T15:24:06.361Z"
   },
   {
    "duration": 111001,
    "start_time": "2023-06-18T15:24:06.375Z"
   },
   {
    "duration": 32518,
    "start_time": "2023-06-18T15:25:57.379Z"
   },
   {
    "duration": 5,
    "start_time": "2023-06-18T15:26:29.899Z"
   },
   {
    "duration": 7,
    "start_time": "2023-06-18T15:26:29.906Z"
   },
   {
    "duration": 7,
    "start_time": "2023-06-18T15:26:29.915Z"
   },
   {
    "duration": 5,
    "start_time": "2023-06-18T15:39:23.587Z"
   },
   {
    "duration": 196,
    "start_time": "2023-06-18T15:43:31.577Z"
   },
   {
    "duration": 4,
    "start_time": "2023-06-18T15:43:36.700Z"
   },
   {
    "duration": 746608,
    "start_time": "2023-06-18T15:43:37.456Z"
   },
   {
    "duration": 7,
    "start_time": "2023-06-18T15:56:07.343Z"
   },
   {
    "duration": 1217844,
    "start_time": "2023-06-18T15:56:08.013Z"
   },
   {
    "duration": 63,
    "start_time": "2023-06-18T16:16:25.860Z"
   },
   {
    "duration": 5,
    "start_time": "2023-06-18T16:16:25.925Z"
   },
   {
    "duration": 7,
    "start_time": "2023-06-18T16:16:25.932Z"
   },
   {
    "duration": 12,
    "start_time": "2023-06-18T16:16:25.941Z"
   },
   {
    "duration": 93548,
    "start_time": "2023-06-18T16:25:56.107Z"
   },
   {
    "duration": 366284,
    "start_time": "2023-06-18T16:27:34.576Z"
   },
   {
    "duration": 4,
    "start_time": "2023-06-18T16:33:40.862Z"
   },
   {
    "duration": 16,
    "start_time": "2023-06-18T16:33:40.867Z"
   },
   {
    "duration": 8,
    "start_time": "2023-06-18T16:33:40.885Z"
   },
   {
    "duration": 0,
    "start_time": "2023-06-18T16:33:40.962Z"
   },
   {
    "duration": 9,
    "start_time": "2023-06-18T16:33:52.244Z"
   },
   {
    "duration": 5,
    "start_time": "2023-06-18T16:34:29.621Z"
   },
   {
    "duration": 6,
    "start_time": "2023-06-18T16:34:36.783Z"
   },
   {
    "duration": 49,
    "start_time": "2023-06-18T16:37:32.709Z"
   },
   {
    "duration": 3,
    "start_time": "2023-06-18T16:37:38.587Z"
   },
   {
    "duration": 27,
    "start_time": "2023-06-18T16:38:10.455Z"
   },
   {
    "duration": 1573,
    "start_time": "2023-06-18T16:42:02.093Z"
   },
   {
    "duration": 5,
    "start_time": "2023-06-18T16:42:03.668Z"
   },
   {
    "duration": 946,
    "start_time": "2023-06-18T16:42:03.678Z"
   },
   {
    "duration": 142,
    "start_time": "2023-06-18T16:42:04.628Z"
   },
   {
    "duration": 33,
    "start_time": "2023-06-18T16:42:04.773Z"
   },
   {
    "duration": 5,
    "start_time": "2023-06-18T16:42:04.808Z"
   },
   {
    "duration": 648,
    "start_time": "2023-06-18T16:42:04.815Z"
   },
   {
    "duration": 818,
    "start_time": "2023-06-18T16:42:05.466Z"
   },
   {
    "duration": 3,
    "start_time": "2023-06-18T16:42:06.289Z"
   },
   {
    "duration": 99,
    "start_time": "2023-06-18T16:42:06.295Z"
   },
   {
    "duration": 53,
    "start_time": "2023-06-18T16:42:06.396Z"
   },
   {
    "duration": 75,
    "start_time": "2023-06-18T16:42:06.452Z"
   },
   {
    "duration": 34,
    "start_time": "2023-06-18T16:42:06.532Z"
   },
   {
    "duration": 21,
    "start_time": "2023-06-18T16:42:06.569Z"
   },
   {
    "duration": 64,
    "start_time": "2023-06-18T16:42:06.592Z"
   },
   {
    "duration": 196,
    "start_time": "2023-06-18T16:42:06.658Z"
   },
   {
    "duration": 50,
    "start_time": "2023-06-18T16:42:06.856Z"
   },
   {
    "duration": 113,
    "start_time": "2023-06-18T16:42:06.908Z"
   },
   {
    "duration": 7,
    "start_time": "2023-06-18T16:42:07.023Z"
   },
   {
    "duration": 30,
    "start_time": "2023-06-18T16:42:07.033Z"
   },
   {
    "duration": 58,
    "start_time": "2023-06-18T16:42:07.066Z"
   },
   {
    "duration": 65,
    "start_time": "2023-06-18T16:42:07.126Z"
   },
   {
    "duration": 27,
    "start_time": "2023-06-18T16:42:07.193Z"
   },
   {
    "duration": 31,
    "start_time": "2023-06-18T16:42:07.222Z"
   },
   {
    "duration": 26,
    "start_time": "2023-06-18T16:42:07.256Z"
   },
   {
    "duration": 36,
    "start_time": "2023-06-18T16:42:07.284Z"
   },
   {
    "duration": 35,
    "start_time": "2023-06-18T16:42:07.322Z"
   },
   {
    "duration": 102,
    "start_time": "2023-06-18T16:42:07.363Z"
   },
   {
    "duration": 123,
    "start_time": "2023-06-18T16:42:07.469Z"
   },
   {
    "duration": 14,
    "start_time": "2023-06-18T16:42:07.594Z"
   },
   {
    "duration": 43,
    "start_time": "2023-06-18T16:42:07.611Z"
   },
   {
    "duration": 5,
    "start_time": "2023-06-18T16:42:07.657Z"
   },
   {
    "duration": 494,
    "start_time": "2023-06-18T16:42:07.664Z"
   },
   {
    "duration": 13,
    "start_time": "2023-06-18T16:42:08.162Z"
   },
   {
    "duration": 10,
    "start_time": "2023-06-18T16:42:08.178Z"
   },
   {
    "duration": 13,
    "start_time": "2023-06-18T16:42:08.191Z"
   },
   {
    "duration": 76,
    "start_time": "2023-06-18T16:42:08.206Z"
   },
   {
    "duration": 83,
    "start_time": "2023-06-18T16:42:08.287Z"
   },
   {
    "duration": 41,
    "start_time": "2023-06-18T16:42:08.372Z"
   },
   {
    "duration": 52,
    "start_time": "2023-06-18T16:42:08.420Z"
   },
   {
    "duration": 49,
    "start_time": "2023-06-18T16:42:08.474Z"
   },
   {
    "duration": 518,
    "start_time": "2023-06-18T16:42:08.526Z"
   },
   {
    "duration": 16,
    "start_time": "2023-06-18T16:42:09.046Z"
   },
   {
    "duration": 11,
    "start_time": "2023-06-18T16:42:09.065Z"
   },
   {
    "duration": 321,
    "start_time": "2023-06-18T16:42:09.078Z"
   },
   {
    "duration": 53,
    "start_time": "2023-06-18T16:42:09.401Z"
   },
   {
    "duration": 325,
    "start_time": "2023-06-18T16:42:09.456Z"
   },
   {
    "duration": 246,
    "start_time": "2023-06-18T16:42:09.783Z"
   },
   {
    "duration": 275,
    "start_time": "2023-06-18T16:42:10.031Z"
   },
   {
    "duration": 52,
    "start_time": "2023-06-18T16:42:10.308Z"
   },
   {
    "duration": 21,
    "start_time": "2023-06-18T16:42:10.362Z"
   },
   {
    "duration": 5,
    "start_time": "2023-06-18T16:42:10.385Z"
   },
   {
    "duration": 32,
    "start_time": "2023-06-18T16:42:10.392Z"
   },
   {
    "duration": 69,
    "start_time": "2023-06-18T16:42:10.426Z"
   },
   {
    "duration": 33,
    "start_time": "2023-06-18T16:42:10.498Z"
   },
   {
    "duration": 27,
    "start_time": "2023-06-18T16:42:10.533Z"
   },
   {
    "duration": 125,
    "start_time": "2023-06-18T16:42:10.562Z"
   },
   {
    "duration": 4,
    "start_time": "2023-06-18T16:42:10.689Z"
   },
   {
    "duration": 41,
    "start_time": "2023-06-18T16:42:10.695Z"
   },
   {
    "duration": 222,
    "start_time": "2023-06-18T16:42:10.738Z"
   },
   {
    "duration": 27,
    "start_time": "2023-06-18T16:42:10.961Z"
   },
   {
    "duration": 70,
    "start_time": "2023-06-18T16:42:10.990Z"
   },
   {
    "duration": 49,
    "start_time": "2023-06-18T16:42:11.062Z"
   },
   {
    "duration": 56,
    "start_time": "2023-06-18T16:42:11.114Z"
   },
   {
    "duration": 10,
    "start_time": "2023-06-18T16:42:11.172Z"
   },
   {
    "duration": 26,
    "start_time": "2023-06-18T16:42:11.184Z"
   },
   {
    "duration": 4,
    "start_time": "2023-06-18T16:42:11.212Z"
   },
   {
    "duration": 422,
    "start_time": "2023-06-18T16:42:11.219Z"
   },
   {
    "duration": 19,
    "start_time": "2023-06-18T16:42:11.643Z"
   },
   {
    "duration": 1007,
    "start_time": "2023-06-18T16:42:11.663Z"
   },
   {
    "duration": 3,
    "start_time": "2023-06-18T16:42:12.672Z"
   },
   {
    "duration": 40,
    "start_time": "2023-06-18T16:42:12.677Z"
   },
   {
    "duration": 145,
    "start_time": "2023-06-18T16:42:12.719Z"
   },
   {
    "duration": 40,
    "start_time": "2023-06-18T16:42:12.866Z"
   },
   {
    "duration": 1224,
    "start_time": "2023-06-18T16:42:12.908Z"
   },
   {
    "duration": 54,
    "start_time": "2023-06-18T16:42:14.134Z"
   },
   {
    "duration": 4,
    "start_time": "2023-06-18T16:42:14.191Z"
   },
   {
    "duration": 7120,
    "start_time": "2023-06-18T16:42:14.196Z"
   },
   {
    "duration": 2593,
    "start_time": "2023-06-18T16:42:21.318Z"
   },
   {
    "duration": 5,
    "start_time": "2023-06-18T16:42:23.914Z"
   },
   {
    "duration": 23,
    "start_time": "2023-06-18T16:42:23.921Z"
   },
   {
    "duration": 111750,
    "start_time": "2023-06-18T16:42:23.946Z"
   },
   {
    "duration": 31719,
    "start_time": "2023-06-18T16:44:15.699Z"
   },
   {
    "duration": 6,
    "start_time": "2023-06-18T16:44:47.421Z"
   },
   {
    "duration": 5,
    "start_time": "2023-06-18T16:44:47.429Z"
   },
   {
    "duration": 7,
    "start_time": "2023-06-18T16:44:47.436Z"
   },
   {
    "duration": 13,
    "start_time": "2023-06-18T16:44:47.445Z"
   },
   {
    "duration": 4517509,
    "start_time": "2023-06-18T16:44:47.460Z"
   },
   {
    "duration": 592306,
    "start_time": "2023-06-18T18:00:04.971Z"
   },
   {
    "duration": 4,
    "start_time": "2023-06-18T18:09:57.279Z"
   },
   {
    "duration": 9,
    "start_time": "2023-06-18T18:09:57.285Z"
   },
   {
    "duration": 61,
    "start_time": "2023-06-18T18:09:57.296Z"
   },
   {
    "duration": 5,
    "start_time": "2023-06-18T18:09:57.362Z"
   },
   {
    "duration": 18,
    "start_time": "2023-06-18T18:09:57.372Z"
   },
   {
    "duration": 8,
    "start_time": "2023-06-18T18:09:57.392Z"
   },
   {
    "duration": 11,
    "start_time": "2023-06-18T18:13:11.832Z"
   },
   {
    "duration": 249,
    "start_time": "2023-06-18T18:16:48.455Z"
   },
   {
    "duration": 655,
    "start_time": "2023-06-18T18:19:35.188Z"
   },
   {
    "duration": 7914,
    "start_time": "2023-06-18T18:20:02.559Z"
   },
   {
    "duration": 4725,
    "start_time": "2023-06-18T18:20:39.440Z"
   },
   {
    "duration": 651,
    "start_time": "2023-06-18T18:23:47.432Z"
   },
   {
    "duration": 644,
    "start_time": "2023-06-18T18:24:29.414Z"
   },
   {
    "duration": 3,
    "start_time": "2023-06-18T18:31:37.471Z"
   },
   {
    "duration": 639,
    "start_time": "2023-06-18T18:31:39.800Z"
   },
   {
    "duration": 3,
    "start_time": "2023-06-18T18:31:41.047Z"
   },
   {
    "duration": 6970,
    "start_time": "2023-06-18T18:31:42.971Z"
   },
   {
    "duration": 3,
    "start_time": "2023-06-18T18:31:49.943Z"
   },
   {
    "duration": 17624,
    "start_time": "2023-06-18T18:31:49.948Z"
   },
   {
    "duration": 3,
    "start_time": "2023-06-18T18:32:07.575Z"
   },
   {
    "duration": 15,
    "start_time": "2023-06-18T18:32:07.580Z"
   },
   {
    "duration": 3,
    "start_time": "2023-06-18T18:36:52.494Z"
   },
   {
    "duration": 6,
    "start_time": "2023-06-18T18:36:54.540Z"
   },
   {
    "duration": 632,
    "start_time": "2023-06-18T18:37:10.754Z"
   },
   {
    "duration": 3,
    "start_time": "2023-06-18T18:37:28.649Z"
   },
   {
    "duration": 685,
    "start_time": "2023-06-18T18:37:30.151Z"
   },
   {
    "duration": 3,
    "start_time": "2023-06-18T18:37:33.021Z"
   },
   {
    "duration": 6700,
    "start_time": "2023-06-18T18:37:39.403Z"
   },
   {
    "duration": 3,
    "start_time": "2023-06-18T18:37:46.105Z"
   },
   {
    "duration": 4739,
    "start_time": "2023-06-18T18:37:49.219Z"
   },
   {
    "duration": 3,
    "start_time": "2023-06-18T18:37:53.960Z"
   },
   {
    "duration": 4,
    "start_time": "2023-06-18T18:37:56.168Z"
   },
   {
    "duration": 3,
    "start_time": "2023-06-18T18:38:04.371Z"
   },
   {
    "duration": 54,
    "start_time": "2023-06-18T18:38:05.442Z"
   },
   {
    "duration": 14,
    "start_time": "2023-06-18T18:39:11.858Z"
   },
   {
    "duration": 3,
    "start_time": "2023-06-18T18:40:21.058Z"
   },
   {
    "duration": 621,
    "start_time": "2023-06-18T18:40:22.402Z"
   },
   {
    "duration": 4,
    "start_time": "2023-06-18T18:40:24.211Z"
   },
   {
    "duration": 6968,
    "start_time": "2023-06-18T18:40:29.535Z"
   },
   {
    "duration": 3,
    "start_time": "2023-06-18T18:40:36.506Z"
   },
   {
    "duration": 4751,
    "start_time": "2023-06-18T18:40:36.510Z"
   },
   {
    "duration": 3,
    "start_time": "2023-06-18T18:40:41.264Z"
   },
   {
    "duration": 8,
    "start_time": "2023-06-18T18:40:41.268Z"
   },
   {
    "duration": 4,
    "start_time": "2023-06-18T18:40:41.278Z"
   },
   {
    "duration": 15,
    "start_time": "2023-06-18T18:40:41.284Z"
   },
   {
    "duration": 3,
    "start_time": "2023-06-18T18:43:02.302Z"
   },
   {
    "duration": 742,
    "start_time": "2023-06-18T18:43:06.889Z"
   },
   {
    "duration": 3,
    "start_time": "2023-06-18T18:43:07.633Z"
   },
   {
    "duration": 7536,
    "start_time": "2023-06-18T18:43:08.493Z"
   },
   {
    "duration": 4,
    "start_time": "2023-06-18T18:43:16.032Z"
   },
   {
    "duration": 50625,
    "start_time": "2023-06-18T18:43:16.037Z"
   },
   {
    "duration": 3,
    "start_time": "2023-06-18T18:44:06.664Z"
   },
   {
    "duration": 11,
    "start_time": "2023-06-18T18:44:06.669Z"
   },
   {
    "duration": 23,
    "start_time": "2023-06-18T18:44:06.682Z"
   },
   {
    "duration": 48,
    "start_time": "2023-06-18T18:44:06.707Z"
   },
   {
    "duration": 3,
    "start_time": "2023-06-18T19:00:48.494Z"
   },
   {
    "duration": 3,
    "start_time": "2023-06-18T19:00:52.838Z"
   },
   {
    "duration": 3,
    "start_time": "2023-06-18T19:00:56.629Z"
   },
   {
    "duration": 3,
    "start_time": "2023-06-18T19:01:01.696Z"
   },
   {
    "duration": 12,
    "start_time": "2023-06-18T19:01:04.693Z"
   },
   {
    "duration": 3,
    "start_time": "2023-06-18T19:01:20.893Z"
   },
   {
    "duration": 13,
    "start_time": "2023-06-18T19:01:24.533Z"
   },
   {
    "duration": 5,
    "start_time": "2023-06-18T19:01:59.020Z"
   },
   {
    "duration": 12,
    "start_time": "2023-06-18T19:08:38.350Z"
   },
   {
    "duration": 11,
    "start_time": "2023-06-18T19:08:55.901Z"
   },
   {
    "duration": 1880,
    "start_time": "2023-06-19T03:16:29.708Z"
   },
   {
    "duration": 6,
    "start_time": "2023-06-19T03:16:31.591Z"
   },
   {
    "duration": 3771,
    "start_time": "2023-06-19T03:16:31.599Z"
   },
   {
    "duration": 135,
    "start_time": "2023-06-19T03:16:35.372Z"
   },
   {
    "duration": 43,
    "start_time": "2023-06-19T03:16:35.510Z"
   },
   {
    "duration": 3,
    "start_time": "2023-06-19T03:16:35.556Z"
   },
   {
    "duration": 543,
    "start_time": "2023-06-19T03:16:35.561Z"
   },
   {
    "duration": 745,
    "start_time": "2023-06-19T03:16:36.105Z"
   },
   {
    "duration": 3,
    "start_time": "2023-06-19T03:16:36.852Z"
   },
   {
    "duration": 72,
    "start_time": "2023-06-19T03:16:36.857Z"
   },
   {
    "duration": 53,
    "start_time": "2023-06-19T03:16:36.934Z"
   },
   {
    "duration": 64,
    "start_time": "2023-06-19T03:16:36.989Z"
   },
   {
    "duration": 34,
    "start_time": "2023-06-19T03:16:37.056Z"
   },
   {
    "duration": 33,
    "start_time": "2023-06-19T03:16:37.093Z"
   },
   {
    "duration": 40,
    "start_time": "2023-06-19T03:16:37.128Z"
   },
   {
    "duration": 169,
    "start_time": "2023-06-19T03:16:37.170Z"
   },
   {
    "duration": 45,
    "start_time": "2023-06-19T03:16:37.342Z"
   },
   {
    "duration": 95,
    "start_time": "2023-06-19T03:16:37.389Z"
   },
   {
    "duration": 6,
    "start_time": "2023-06-19T03:16:37.485Z"
   },
   {
    "duration": 37,
    "start_time": "2023-06-19T03:16:37.493Z"
   },
   {
    "duration": 45,
    "start_time": "2023-06-19T03:16:37.532Z"
   },
   {
    "duration": 42,
    "start_time": "2023-06-19T03:16:37.579Z"
   },
   {
    "duration": 24,
    "start_time": "2023-06-19T03:16:37.623Z"
   },
   {
    "duration": 7,
    "start_time": "2023-06-19T03:16:37.649Z"
   },
   {
    "duration": 30,
    "start_time": "2023-06-19T03:16:37.658Z"
   },
   {
    "duration": 48,
    "start_time": "2023-06-19T03:16:37.691Z"
   },
   {
    "duration": 5,
    "start_time": "2023-06-19T03:16:37.741Z"
   },
   {
    "duration": 7,
    "start_time": "2023-06-19T03:16:37.748Z"
   },
   {
    "duration": 83,
    "start_time": "2023-06-19T03:16:37.757Z"
   },
   {
    "duration": 10,
    "start_time": "2023-06-19T03:16:37.843Z"
   },
   {
    "duration": 26,
    "start_time": "2023-06-19T03:16:37.855Z"
   },
   {
    "duration": 4,
    "start_time": "2023-06-19T03:16:37.883Z"
   },
   {
    "duration": 395,
    "start_time": "2023-06-19T03:16:37.889Z"
   },
   {
    "duration": 12,
    "start_time": "2023-06-19T03:16:38.286Z"
   },
   {
    "duration": 28,
    "start_time": "2023-06-19T03:16:38.301Z"
   },
   {
    "duration": 55,
    "start_time": "2023-06-19T03:16:38.336Z"
   },
   {
    "duration": 27,
    "start_time": "2023-06-19T03:16:38.394Z"
   },
   {
    "duration": 51,
    "start_time": "2023-06-19T03:16:38.423Z"
   },
   {
    "duration": 15,
    "start_time": "2023-06-19T03:16:38.476Z"
   },
   {
    "duration": 33,
    "start_time": "2023-06-19T03:16:38.493Z"
   },
   {
    "duration": 32,
    "start_time": "2023-06-19T03:16:38.537Z"
   },
   {
    "duration": 487,
    "start_time": "2023-06-19T03:16:38.571Z"
   },
   {
    "duration": 11,
    "start_time": "2023-06-19T03:16:39.060Z"
   },
   {
    "duration": 4,
    "start_time": "2023-06-19T03:16:39.073Z"
   },
   {
    "duration": 327,
    "start_time": "2023-06-19T03:16:39.079Z"
   },
   {
    "duration": 74,
    "start_time": "2023-06-19T03:16:39.409Z"
   },
   {
    "duration": 377,
    "start_time": "2023-06-19T03:16:39.485Z"
   },
   {
    "duration": 432,
    "start_time": "2023-06-19T03:16:39.871Z"
   },
   {
    "duration": 403,
    "start_time": "2023-06-19T03:16:40.305Z"
   },
   {
    "duration": 56,
    "start_time": "2023-06-19T03:16:40.709Z"
   },
   {
    "duration": 19,
    "start_time": "2023-06-19T03:16:40.767Z"
   },
   {
    "duration": 5,
    "start_time": "2023-06-19T03:16:40.788Z"
   },
   {
    "duration": 31,
    "start_time": "2023-06-19T03:16:40.818Z"
   },
   {
    "duration": 38,
    "start_time": "2023-06-19T03:16:40.853Z"
   },
   {
    "duration": 47,
    "start_time": "2023-06-19T03:16:40.894Z"
   },
   {
    "duration": 10,
    "start_time": "2023-06-19T03:16:40.944Z"
   },
   {
    "duration": 174,
    "start_time": "2023-06-19T03:16:40.959Z"
   },
   {
    "duration": 15,
    "start_time": "2023-06-19T03:16:41.135Z"
   },
   {
    "duration": 51,
    "start_time": "2023-06-19T03:16:41.152Z"
   },
   {
    "duration": 275,
    "start_time": "2023-06-19T03:16:41.205Z"
   },
   {
    "duration": 54,
    "start_time": "2023-06-19T03:16:41.483Z"
   },
   {
    "duration": 54,
    "start_time": "2023-06-19T03:16:41.545Z"
   },
   {
    "duration": 80,
    "start_time": "2023-06-19T03:16:41.602Z"
   },
   {
    "duration": 55,
    "start_time": "2023-06-19T03:16:41.684Z"
   },
   {
    "duration": 15,
    "start_time": "2023-06-19T03:16:41.748Z"
   },
   {
    "duration": 22,
    "start_time": "2023-06-19T03:16:41.765Z"
   },
   {
    "duration": 5,
    "start_time": "2023-06-19T03:16:41.788Z"
   },
   {
    "duration": 481,
    "start_time": "2023-06-19T03:16:41.794Z"
   },
   {
    "duration": 16,
    "start_time": "2023-06-19T03:16:42.276Z"
   },
   {
    "duration": 1107,
    "start_time": "2023-06-19T03:16:42.294Z"
   },
   {
    "duration": 3,
    "start_time": "2023-06-19T03:16:43.404Z"
   },
   {
    "duration": 39,
    "start_time": "2023-06-19T03:16:43.417Z"
   },
   {
    "duration": 177,
    "start_time": "2023-06-19T03:16:43.458Z"
   },
   {
    "duration": 42,
    "start_time": "2023-06-19T03:16:43.637Z"
   },
   {
    "duration": 1230,
    "start_time": "2023-06-19T03:16:43.681Z"
   },
   {
    "duration": 73,
    "start_time": "2023-06-19T03:16:44.913Z"
   },
   {
    "duration": 4,
    "start_time": "2023-06-19T03:16:44.991Z"
   },
   {
    "duration": 8168,
    "start_time": "2023-06-19T03:16:44.996Z"
   },
   {
    "duration": 2862,
    "start_time": "2023-06-19T03:16:53.167Z"
   },
   {
    "duration": 5,
    "start_time": "2023-06-19T03:16:56.038Z"
   },
   {
    "duration": 4,
    "start_time": "2023-06-19T03:16:56.046Z"
   },
   {
    "duration": 143,
    "start_time": "2023-06-19T03:16:56.053Z"
   },
   {
    "duration": 0,
    "start_time": "2023-06-19T03:16:56.197Z"
   },
   {
    "duration": 0,
    "start_time": "2023-06-19T03:16:56.199Z"
   },
   {
    "duration": 0,
    "start_time": "2023-06-19T03:16:56.200Z"
   },
   {
    "duration": 0,
    "start_time": "2023-06-19T03:16:56.202Z"
   },
   {
    "duration": 0,
    "start_time": "2023-06-19T03:16:56.212Z"
   },
   {
    "duration": 0,
    "start_time": "2023-06-19T03:16:56.213Z"
   },
   {
    "duration": 0,
    "start_time": "2023-06-19T03:16:56.217Z"
   },
   {
    "duration": 0,
    "start_time": "2023-06-19T03:16:56.218Z"
   },
   {
    "duration": 0,
    "start_time": "2023-06-19T03:16:56.219Z"
   },
   {
    "duration": 0,
    "start_time": "2023-06-19T03:16:56.219Z"
   },
   {
    "duration": 0,
    "start_time": "2023-06-19T03:16:56.220Z"
   },
   {
    "duration": 0,
    "start_time": "2023-06-19T03:16:56.221Z"
   },
   {
    "duration": 0,
    "start_time": "2023-06-19T03:16:56.222Z"
   },
   {
    "duration": 0,
    "start_time": "2023-06-19T03:16:56.222Z"
   },
   {
    "duration": 0,
    "start_time": "2023-06-19T03:16:56.223Z"
   },
   {
    "duration": 0,
    "start_time": "2023-06-19T03:16:56.224Z"
   },
   {
    "duration": 0,
    "start_time": "2023-06-19T03:16:56.224Z"
   },
   {
    "duration": 0,
    "start_time": "2023-06-19T03:16:56.225Z"
   },
   {
    "duration": 0,
    "start_time": "2023-06-19T03:16:56.226Z"
   },
   {
    "duration": 0,
    "start_time": "2023-06-19T03:16:56.228Z"
   },
   {
    "duration": 0,
    "start_time": "2023-06-19T03:16:56.230Z"
   },
   {
    "duration": 0,
    "start_time": "2023-06-19T03:16:56.231Z"
   },
   {
    "duration": 12,
    "start_time": "2023-06-19T03:36:57.991Z"
   },
   {
    "duration": 1725,
    "start_time": "2023-06-19T03:38:08.409Z"
   },
   {
    "duration": 4,
    "start_time": "2023-06-19T03:38:10.137Z"
   },
   {
    "duration": 887,
    "start_time": "2023-06-19T03:38:10.143Z"
   },
   {
    "duration": 122,
    "start_time": "2023-06-19T03:38:11.032Z"
   },
   {
    "duration": 28,
    "start_time": "2023-06-19T03:38:11.156Z"
   },
   {
    "duration": 10,
    "start_time": "2023-06-19T03:38:11.186Z"
   },
   {
    "duration": 533,
    "start_time": "2023-06-19T03:38:11.197Z"
   },
   {
    "duration": 719,
    "start_time": "2023-06-19T03:38:11.732Z"
   },
   {
    "duration": 10,
    "start_time": "2023-06-19T03:38:12.453Z"
   },
   {
    "duration": 80,
    "start_time": "2023-06-19T03:38:12.466Z"
   },
   {
    "duration": 41,
    "start_time": "2023-06-19T03:38:12.548Z"
   },
   {
    "duration": 51,
    "start_time": "2023-06-19T03:38:12.591Z"
   },
   {
    "duration": 28,
    "start_time": "2023-06-19T03:38:12.644Z"
   },
   {
    "duration": 39,
    "start_time": "2023-06-19T03:38:12.676Z"
   },
   {
    "duration": 45,
    "start_time": "2023-06-19T03:38:12.720Z"
   },
   {
    "duration": 136,
    "start_time": "2023-06-19T03:38:12.767Z"
   },
   {
    "duration": 39,
    "start_time": "2023-06-19T03:38:12.905Z"
   },
   {
    "duration": 90,
    "start_time": "2023-06-19T03:38:12.946Z"
   },
   {
    "duration": 6,
    "start_time": "2023-06-19T03:38:13.038Z"
   },
   {
    "duration": 18,
    "start_time": "2023-06-19T03:38:13.046Z"
   },
   {
    "duration": 77,
    "start_time": "2023-06-19T03:38:13.067Z"
   },
   {
    "duration": 32,
    "start_time": "2023-06-19T03:38:13.145Z"
   },
   {
    "duration": 48,
    "start_time": "2023-06-19T03:38:13.180Z"
   },
   {
    "duration": 8,
    "start_time": "2023-06-19T03:38:13.234Z"
   },
   {
    "duration": 34,
    "start_time": "2023-06-19T03:38:13.244Z"
   },
   {
    "duration": 33,
    "start_time": "2023-06-19T03:38:13.280Z"
   },
   {
    "duration": 12,
    "start_time": "2023-06-19T03:38:13.315Z"
   },
   {
    "duration": 8,
    "start_time": "2023-06-19T03:38:13.329Z"
   },
   {
    "duration": 85,
    "start_time": "2023-06-19T03:38:13.339Z"
   },
   {
    "duration": 11,
    "start_time": "2023-06-19T03:38:13.434Z"
   },
   {
    "duration": 26,
    "start_time": "2023-06-19T03:38:13.447Z"
   },
   {
    "duration": 4,
    "start_time": "2023-06-19T03:38:13.475Z"
   },
   {
    "duration": 404,
    "start_time": "2023-06-19T03:38:13.481Z"
   },
   {
    "duration": 11,
    "start_time": "2023-06-19T03:38:13.887Z"
   },
   {
    "duration": 17,
    "start_time": "2023-06-19T03:38:13.900Z"
   },
   {
    "duration": 16,
    "start_time": "2023-06-19T03:38:13.925Z"
   },
   {
    "duration": 14,
    "start_time": "2023-06-19T03:38:13.943Z"
   },
   {
    "duration": 38,
    "start_time": "2023-06-19T03:38:13.959Z"
   },
   {
    "duration": 20,
    "start_time": "2023-06-19T03:38:13.999Z"
   },
   {
    "duration": 27,
    "start_time": "2023-06-19T03:38:14.021Z"
   },
   {
    "duration": 62,
    "start_time": "2023-06-19T03:38:14.057Z"
   },
   {
    "duration": 455,
    "start_time": "2023-06-19T03:38:14.122Z"
   },
   {
    "duration": 10,
    "start_time": "2023-06-19T03:38:14.580Z"
   },
   {
    "duration": 26,
    "start_time": "2023-06-19T03:38:14.591Z"
   },
   {
    "duration": 195,
    "start_time": "2023-06-19T03:38:14.622Z"
   },
   {
    "duration": 46,
    "start_time": "2023-06-19T03:38:14.822Z"
   },
   {
    "duration": 246,
    "start_time": "2023-06-19T03:38:14.870Z"
   },
   {
    "duration": 269,
    "start_time": "2023-06-19T03:38:15.122Z"
   },
   {
    "duration": 295,
    "start_time": "2023-06-19T03:38:15.392Z"
   },
   {
    "duration": 54,
    "start_time": "2023-06-19T03:38:15.689Z"
   },
   {
    "duration": 18,
    "start_time": "2023-06-19T03:38:15.745Z"
   },
   {
    "duration": 8,
    "start_time": "2023-06-19T03:38:15.765Z"
   },
   {
    "duration": 22,
    "start_time": "2023-06-19T03:38:15.775Z"
   },
   {
    "duration": 50,
    "start_time": "2023-06-19T03:38:15.799Z"
   },
   {
    "duration": 22,
    "start_time": "2023-06-19T03:38:15.851Z"
   },
   {
    "duration": 10,
    "start_time": "2023-06-19T03:38:15.875Z"
   },
   {
    "duration": 169,
    "start_time": "2023-06-19T03:38:15.887Z"
   },
   {
    "duration": 2,
    "start_time": "2023-06-19T03:38:16.058Z"
   },
   {
    "duration": 59,
    "start_time": "2023-06-19T03:38:16.062Z"
   },
   {
    "duration": 211,
    "start_time": "2023-06-19T03:38:16.123Z"
   },
   {
    "duration": 21,
    "start_time": "2023-06-19T03:38:16.336Z"
   },
   {
    "duration": 48,
    "start_time": "2023-06-19T03:38:16.358Z"
   },
   {
    "duration": 41,
    "start_time": "2023-06-19T03:38:16.408Z"
   },
   {
    "duration": 48,
    "start_time": "2023-06-19T03:38:16.451Z"
   },
   {
    "duration": 7,
    "start_time": "2023-06-19T03:38:16.501Z"
   },
   {
    "duration": 27,
    "start_time": "2023-06-19T03:38:16.517Z"
   },
   {
    "duration": 4,
    "start_time": "2023-06-19T03:38:16.546Z"
   },
   {
    "duration": 426,
    "start_time": "2023-06-19T03:38:16.552Z"
   },
   {
    "duration": 15,
    "start_time": "2023-06-19T03:38:16.980Z"
   },
   {
    "duration": 1020,
    "start_time": "2023-06-19T03:38:16.997Z"
   },
   {
    "duration": 9,
    "start_time": "2023-06-19T03:38:18.020Z"
   },
   {
    "duration": 45,
    "start_time": "2023-06-19T03:38:18.035Z"
   },
   {
    "duration": 156,
    "start_time": "2023-06-19T03:38:18.082Z"
   },
   {
    "duration": 42,
    "start_time": "2023-06-19T03:38:18.240Z"
   },
   {
    "duration": 1092,
    "start_time": "2023-06-19T03:38:18.283Z"
   },
   {
    "duration": 60,
    "start_time": "2023-06-19T03:38:19.377Z"
   },
   {
    "duration": 3,
    "start_time": "2023-06-19T03:38:19.440Z"
   },
   {
    "duration": 7119,
    "start_time": "2023-06-19T03:38:19.445Z"
   },
   {
    "duration": 4193,
    "start_time": "2023-06-19T03:38:26.565Z"
   },
   {
    "duration": 9,
    "start_time": "2023-06-19T03:38:30.816Z"
   },
   {
    "duration": 30,
    "start_time": "2023-06-19T03:38:30.828Z"
   },
   {
    "duration": 115564,
    "start_time": "2023-06-19T03:38:30.861Z"
   },
   {
    "duration": 32539,
    "start_time": "2023-06-19T03:40:26.427Z"
   },
   {
    "duration": 4,
    "start_time": "2023-06-19T03:40:58.968Z"
   },
   {
    "duration": 20,
    "start_time": "2023-06-19T03:40:58.974Z"
   },
   {
    "duration": 14,
    "start_time": "2023-06-19T03:40:58.996Z"
   },
   {
    "duration": 9501529,
    "start_time": "2023-06-19T03:40:59.012Z"
   },
   {
    "duration": 1661078,
    "start_time": "2023-06-19T06:19:20.543Z"
   },
   {
    "duration": 7,
    "start_time": "2023-06-19T06:47:01.624Z"
   },
   {
    "duration": 32,
    "start_time": "2023-06-19T06:47:01.637Z"
   },
   {
    "duration": 51,
    "start_time": "2023-06-19T06:47:01.671Z"
   },
   {
    "duration": 59,
    "start_time": "2023-06-19T06:47:01.726Z"
   },
   {
    "duration": 175,
    "start_time": "2023-06-19T06:47:01.787Z"
   },
   {
    "duration": 0,
    "start_time": "2023-06-19T06:47:01.965Z"
   },
   {
    "duration": 0,
    "start_time": "2023-06-19T06:47:01.966Z"
   },
   {
    "duration": 0,
    "start_time": "2023-06-19T06:47:01.968Z"
   },
   {
    "duration": 0,
    "start_time": "2023-06-19T06:47:01.969Z"
   },
   {
    "duration": 0,
    "start_time": "2023-06-19T06:47:01.971Z"
   },
   {
    "duration": 0,
    "start_time": "2023-06-19T06:47:01.972Z"
   },
   {
    "duration": 0,
    "start_time": "2023-06-19T06:47:01.973Z"
   },
   {
    "duration": 0,
    "start_time": "2023-06-19T06:47:01.975Z"
   },
   {
    "duration": 0,
    "start_time": "2023-06-19T06:47:01.976Z"
   },
   {
    "duration": 0,
    "start_time": "2023-06-19T06:47:01.978Z"
   },
   {
    "duration": 10,
    "start_time": "2023-06-19T06:53:34.904Z"
   },
   {
    "duration": 60,
    "start_time": "2023-06-19T06:53:49.894Z"
   },
   {
    "duration": 4,
    "start_time": "2023-06-19T06:54:29.466Z"
   },
   {
    "duration": 21,
    "start_time": "2023-06-19T06:54:30.024Z"
   },
   {
    "duration": 24,
    "start_time": "2023-06-19T06:55:12.902Z"
   },
   {
    "duration": 3,
    "start_time": "2023-06-19T06:55:21.012Z"
   },
   {
    "duration": 23,
    "start_time": "2023-06-19T06:55:21.665Z"
   },
   {
    "duration": 18,
    "start_time": "2023-06-19T06:55:49.289Z"
   },
   {
    "duration": 3,
    "start_time": "2023-06-19T06:56:10.369Z"
   },
   {
    "duration": 14,
    "start_time": "2023-06-19T06:56:11.793Z"
   },
   {
    "duration": 14,
    "start_time": "2023-06-19T06:56:53.906Z"
   },
   {
    "duration": 4,
    "start_time": "2023-06-19T06:56:57.649Z"
   },
   {
    "duration": 718,
    "start_time": "2023-06-19T06:56:59.399Z"
   },
   {
    "duration": 3,
    "start_time": "2023-06-19T06:57:00.119Z"
   },
   {
    "duration": 7912,
    "start_time": "2023-06-19T06:57:00.123Z"
   },
   {
    "duration": 3,
    "start_time": "2023-06-19T06:57:08.036Z"
   },
   {
    "duration": 291775,
    "start_time": "2023-06-19T06:57:08.041Z"
   },
   {
    "duration": 3,
    "start_time": "2023-06-19T07:01:59.818Z"
   },
   {
    "duration": 14,
    "start_time": "2023-06-19T07:01:59.824Z"
   },
   {
    "duration": 11,
    "start_time": "2023-06-19T07:01:59.841Z"
   },
   {
    "duration": 37,
    "start_time": "2023-06-19T07:01:59.855Z"
   },
   {
    "duration": 7,
    "start_time": "2023-06-21T09:24:01.234Z"
   },
   {
    "duration": 2132,
    "start_time": "2023-06-21T09:33:36.779Z"
   },
   {
    "duration": 5,
    "start_time": "2023-06-21T09:33:38.913Z"
   },
   {
    "duration": 1712,
    "start_time": "2023-06-21T09:33:40.904Z"
   },
   {
    "duration": 171,
    "start_time": "2023-06-21T09:33:42.619Z"
   },
   {
    "duration": 29,
    "start_time": "2023-06-21T09:33:44.116Z"
   },
   {
    "duration": 3,
    "start_time": "2023-06-21T09:33:45.007Z"
   },
   {
    "duration": 645,
    "start_time": "2023-06-21T09:33:46.922Z"
   },
   {
    "duration": 980,
    "start_time": "2023-06-21T09:33:51.015Z"
   },
   {
    "duration": 3,
    "start_time": "2023-06-21T09:33:58.329Z"
   },
   {
    "duration": 72,
    "start_time": "2023-06-21T09:34:00.144Z"
   },
   {
    "duration": 56,
    "start_time": "2023-06-21T09:34:07.112Z"
   },
   {
    "duration": 45,
    "start_time": "2023-06-21T09:34:09.879Z"
   },
   {
    "duration": 52,
    "start_time": "2023-06-21T09:34:11.846Z"
   },
   {
    "duration": 16,
    "start_time": "2023-06-21T09:34:12.804Z"
   },
   {
    "duration": 60,
    "start_time": "2023-06-21T09:34:13.650Z"
   },
   {
    "duration": 157,
    "start_time": "2023-06-21T09:34:15.058Z"
   },
   {
    "duration": 48,
    "start_time": "2023-06-21T09:34:16.378Z"
   },
   {
    "duration": 78,
    "start_time": "2023-06-21T09:34:17.820Z"
   },
   {
    "duration": 7,
    "start_time": "2023-06-21T09:34:18.507Z"
   },
   {
    "duration": 8,
    "start_time": "2023-06-21T09:34:18.840Z"
   },
   {
    "duration": 46,
    "start_time": "2023-06-21T09:34:19.177Z"
   },
   {
    "duration": 30,
    "start_time": "2023-06-21T09:34:20.804Z"
   },
   {
    "duration": 22,
    "start_time": "2023-06-21T09:34:23.320Z"
   },
   {
    "duration": 9,
    "start_time": "2023-06-21T09:34:25.239Z"
   },
   {
    "duration": 26,
    "start_time": "2023-06-21T09:34:26.377Z"
   },
   {
    "duration": 23,
    "start_time": "2023-06-21T09:34:27.615Z"
   },
   {
    "duration": 6,
    "start_time": "2023-06-21T09:34:28.406Z"
   },
   {
    "duration": 7,
    "start_time": "2023-06-21T09:34:28.852Z"
   },
   {
    "duration": 55,
    "start_time": "2023-06-21T09:34:29.373Z"
   },
   {
    "duration": 13,
    "start_time": "2023-06-21T09:34:32.916Z"
   },
   {
    "duration": 39,
    "start_time": "2023-06-21T09:34:33.370Z"
   },
   {
    "duration": 5,
    "start_time": "2023-06-21T09:34:34.251Z"
   },
   {
    "duration": 484,
    "start_time": "2023-06-21T09:34:35.235Z"
   },
   {
    "duration": 12,
    "start_time": "2023-06-21T09:34:36.247Z"
   },
   {
    "duration": 8,
    "start_time": "2023-06-21T09:34:37.816Z"
   },
   {
    "duration": 7,
    "start_time": "2023-06-21T09:34:38.777Z"
   },
   {
    "duration": 9,
    "start_time": "2023-06-21T09:34:43.125Z"
   },
   {
    "duration": 52,
    "start_time": "2023-06-21T09:34:43.644Z"
   },
   {
    "duration": 8,
    "start_time": "2023-06-21T09:34:45.120Z"
   },
   {
    "duration": 17,
    "start_time": "2023-06-21T09:34:46.512Z"
   },
   {
    "duration": 42,
    "start_time": "2023-06-21T09:34:48.047Z"
   },
   {
    "duration": 546,
    "start_time": "2023-06-21T09:34:50.817Z"
   },
   {
    "duration": 11,
    "start_time": "2023-06-21T09:34:52.012Z"
   },
   {
    "duration": 5,
    "start_time": "2023-06-21T09:34:53.919Z"
   },
   {
    "duration": 226,
    "start_time": "2023-06-21T09:34:55.354Z"
   },
   {
    "duration": 50,
    "start_time": "2023-06-21T09:34:57.478Z"
   },
   {
    "duration": 325,
    "start_time": "2023-06-21T09:34:57.948Z"
   },
   {
    "duration": 341,
    "start_time": "2023-06-21T09:34:58.844Z"
   },
   {
    "duration": 363,
    "start_time": "2023-06-21T09:35:00.353Z"
   },
   {
    "duration": 46,
    "start_time": "2023-06-21T09:35:02.015Z"
   },
   {
    "duration": 24,
    "start_time": "2023-06-21T09:35:03.735Z"
   },
   {
    "duration": 4,
    "start_time": "2023-06-21T09:35:04.616Z"
   },
   {
    "duration": 31,
    "start_time": "2023-06-21T09:35:05.647Z"
   },
   {
    "duration": 29,
    "start_time": "2023-06-21T09:35:06.020Z"
   },
   {
    "duration": 20,
    "start_time": "2023-06-21T09:35:07.012Z"
   },
   {
    "duration": 5,
    "start_time": "2023-06-21T09:35:07.815Z"
   },
   {
    "duration": 162,
    "start_time": "2023-06-21T09:35:08.636Z"
   },
   {
    "duration": 3,
    "start_time": "2023-06-21T09:35:11.715Z"
   },
   {
    "duration": 57,
    "start_time": "2023-06-21T09:35:14.170Z"
   },
   {
    "duration": 251,
    "start_time": "2023-06-21T09:35:15.423Z"
   },
   {
    "duration": 32,
    "start_time": "2023-06-21T09:35:18.673Z"
   },
   {
    "duration": 49,
    "start_time": "2023-06-21T09:35:24.578Z"
   },
   {
    "duration": 37,
    "start_time": "2023-06-21T09:35:25.804Z"
   },
   {
    "duration": 50,
    "start_time": "2023-06-21T09:35:27.639Z"
   },
   {
    "duration": 15,
    "start_time": "2023-06-21T09:35:28.854Z"
   },
   {
    "duration": 47,
    "start_time": "2023-06-21T09:35:29.549Z"
   },
   {
    "duration": 192,
    "start_time": "2023-06-21T09:35:31.335Z"
   },
   {
    "duration": 1859,
    "start_time": "2023-06-22T08:59:47.706Z"
   },
   {
    "duration": 5,
    "start_time": "2023-06-22T08:59:49.568Z"
   },
   {
    "duration": 2862,
    "start_time": "2023-06-22T08:59:49.575Z"
   },
   {
    "duration": 125,
    "start_time": "2023-06-22T08:59:52.440Z"
   },
   {
    "duration": 29,
    "start_time": "2023-06-22T08:59:52.566Z"
   },
   {
    "duration": 3,
    "start_time": "2023-06-22T08:59:52.597Z"
   },
   {
    "duration": 526,
    "start_time": "2023-06-22T08:59:52.601Z"
   },
   {
    "duration": 751,
    "start_time": "2023-06-22T08:59:53.129Z"
   },
   {
    "duration": 3,
    "start_time": "2023-06-22T08:59:53.882Z"
   },
   {
    "duration": 75,
    "start_time": "2023-06-22T08:59:53.888Z"
   },
   {
    "duration": 44,
    "start_time": "2023-06-22T08:59:53.965Z"
   },
   {
    "duration": 56,
    "start_time": "2023-06-22T08:59:54.011Z"
   },
   {
    "duration": 39,
    "start_time": "2023-06-22T08:59:54.069Z"
   },
   {
    "duration": 33,
    "start_time": "2023-06-22T08:59:54.110Z"
   },
   {
    "duration": 86,
    "start_time": "2023-06-22T08:59:54.145Z"
   },
   {
    "duration": 124,
    "start_time": "2023-06-22T08:59:54.233Z"
   },
   {
    "duration": 37,
    "start_time": "2023-06-22T08:59:54.359Z"
   },
   {
    "duration": 149,
    "start_time": "2023-06-22T08:59:54.398Z"
   },
   {
    "duration": 6,
    "start_time": "2023-06-22T08:59:54.550Z"
   },
   {
    "duration": 19,
    "start_time": "2023-06-22T08:59:54.558Z"
   },
   {
    "duration": 50,
    "start_time": "2023-06-22T08:59:54.579Z"
   },
   {
    "duration": 34,
    "start_time": "2023-06-22T08:59:54.631Z"
   },
   {
    "duration": 21,
    "start_time": "2023-06-22T08:59:54.667Z"
   },
   {
    "duration": 21,
    "start_time": "2023-06-22T08:59:54.690Z"
   },
   {
    "duration": 38,
    "start_time": "2023-06-22T08:59:54.713Z"
   },
   {
    "duration": 21,
    "start_time": "2023-06-22T08:59:54.753Z"
   },
   {
    "duration": 3,
    "start_time": "2023-06-22T08:59:54.776Z"
   },
   {
    "duration": 21,
    "start_time": "2023-06-22T08:59:54.784Z"
   },
   {
    "duration": 63,
    "start_time": "2023-06-22T08:59:54.807Z"
   },
   {
    "duration": 10,
    "start_time": "2023-06-22T08:59:54.871Z"
   },
   {
    "duration": 204,
    "start_time": "2023-06-22T08:59:54.882Z"
   },
   {
    "duration": 0,
    "start_time": "2023-06-22T08:59:55.089Z"
   },
   {
    "duration": 0,
    "start_time": "2023-06-22T08:59:55.090Z"
   },
   {
    "duration": 1,
    "start_time": "2023-06-22T08:59:55.091Z"
   },
   {
    "duration": 0,
    "start_time": "2023-06-22T08:59:55.093Z"
   },
   {
    "duration": 0,
    "start_time": "2023-06-22T08:59:55.093Z"
   },
   {
    "duration": 0,
    "start_time": "2023-06-22T08:59:55.094Z"
   },
   {
    "duration": 0,
    "start_time": "2023-06-22T08:59:55.096Z"
   },
   {
    "duration": 0,
    "start_time": "2023-06-22T08:59:55.097Z"
   },
   {
    "duration": 0,
    "start_time": "2023-06-22T08:59:55.098Z"
   },
   {
    "duration": 0,
    "start_time": "2023-06-22T08:59:55.099Z"
   },
   {
    "duration": 0,
    "start_time": "2023-06-22T08:59:55.100Z"
   },
   {
    "duration": 0,
    "start_time": "2023-06-22T08:59:55.101Z"
   },
   {
    "duration": 0,
    "start_time": "2023-06-22T08:59:55.102Z"
   },
   {
    "duration": 0,
    "start_time": "2023-06-22T08:59:55.103Z"
   },
   {
    "duration": 0,
    "start_time": "2023-06-22T08:59:55.104Z"
   },
   {
    "duration": 0,
    "start_time": "2023-06-22T08:59:55.105Z"
   },
   {
    "duration": 0,
    "start_time": "2023-06-22T08:59:55.106Z"
   },
   {
    "duration": 0,
    "start_time": "2023-06-22T08:59:55.107Z"
   },
   {
    "duration": 0,
    "start_time": "2023-06-22T08:59:55.108Z"
   },
   {
    "duration": 0,
    "start_time": "2023-06-22T08:59:55.109Z"
   },
   {
    "duration": 0,
    "start_time": "2023-06-22T08:59:55.110Z"
   },
   {
    "duration": 0,
    "start_time": "2023-06-22T08:59:55.111Z"
   },
   {
    "duration": 0,
    "start_time": "2023-06-22T08:59:55.112Z"
   },
   {
    "duration": 0,
    "start_time": "2023-06-22T08:59:55.114Z"
   },
   {
    "duration": 0,
    "start_time": "2023-06-22T08:59:55.114Z"
   },
   {
    "duration": 0,
    "start_time": "2023-06-22T08:59:55.115Z"
   },
   {
    "duration": 0,
    "start_time": "2023-06-22T08:59:55.117Z"
   },
   {
    "duration": 0,
    "start_time": "2023-06-22T08:59:55.118Z"
   },
   {
    "duration": 0,
    "start_time": "2023-06-22T08:59:55.119Z"
   },
   {
    "duration": 0,
    "start_time": "2023-06-22T08:59:55.120Z"
   },
   {
    "duration": 0,
    "start_time": "2023-06-22T08:59:55.121Z"
   },
   {
    "duration": 0,
    "start_time": "2023-06-22T08:59:55.122Z"
   },
   {
    "duration": 0,
    "start_time": "2023-06-22T08:59:55.123Z"
   },
   {
    "duration": 0,
    "start_time": "2023-06-22T08:59:55.159Z"
   },
   {
    "duration": 0,
    "start_time": "2023-06-22T08:59:55.161Z"
   },
   {
    "duration": 0,
    "start_time": "2023-06-22T08:59:55.162Z"
   },
   {
    "duration": 0,
    "start_time": "2023-06-22T08:59:55.163Z"
   },
   {
    "duration": 0,
    "start_time": "2023-06-22T08:59:55.164Z"
   },
   {
    "duration": 0,
    "start_time": "2023-06-22T08:59:55.165Z"
   },
   {
    "duration": 0,
    "start_time": "2023-06-22T08:59:55.167Z"
   },
   {
    "duration": 0,
    "start_time": "2023-06-22T08:59:55.168Z"
   },
   {
    "duration": 0,
    "start_time": "2023-06-22T08:59:55.169Z"
   },
   {
    "duration": 0,
    "start_time": "2023-06-22T08:59:55.170Z"
   },
   {
    "duration": 0,
    "start_time": "2023-06-22T08:59:55.172Z"
   },
   {
    "duration": 0,
    "start_time": "2023-06-22T08:59:55.173Z"
   },
   {
    "duration": 0,
    "start_time": "2023-06-22T08:59:55.174Z"
   },
   {
    "duration": 0,
    "start_time": "2023-06-22T08:59:55.176Z"
   },
   {
    "duration": 0,
    "start_time": "2023-06-22T08:59:55.177Z"
   },
   {
    "duration": 0,
    "start_time": "2023-06-22T08:59:55.178Z"
   },
   {
    "duration": 0,
    "start_time": "2023-06-22T08:59:55.180Z"
   },
   {
    "duration": 0,
    "start_time": "2023-06-22T08:59:55.181Z"
   },
   {
    "duration": 0,
    "start_time": "2023-06-22T08:59:55.182Z"
   },
   {
    "duration": 0,
    "start_time": "2023-06-22T08:59:55.183Z"
   },
   {
    "duration": 0,
    "start_time": "2023-06-22T08:59:55.184Z"
   },
   {
    "duration": 0,
    "start_time": "2023-06-22T08:59:55.185Z"
   },
   {
    "duration": 0,
    "start_time": "2023-06-22T08:59:55.187Z"
   },
   {
    "duration": 0,
    "start_time": "2023-06-22T08:59:55.188Z"
   },
   {
    "duration": 0,
    "start_time": "2023-06-22T08:59:55.190Z"
   },
   {
    "duration": 0,
    "start_time": "2023-06-22T08:59:55.191Z"
   },
   {
    "duration": 0,
    "start_time": "2023-06-22T08:59:55.193Z"
   },
   {
    "duration": 0,
    "start_time": "2023-06-22T08:59:55.194Z"
   },
   {
    "duration": 0,
    "start_time": "2023-06-22T08:59:55.195Z"
   },
   {
    "duration": 0,
    "start_time": "2023-06-22T08:59:55.259Z"
   },
   {
    "duration": 0,
    "start_time": "2023-06-22T08:59:55.261Z"
   },
   {
    "duration": 0,
    "start_time": "2023-06-22T08:59:55.262Z"
   },
   {
    "duration": 0,
    "start_time": "2023-06-22T08:59:55.263Z"
   },
   {
    "duration": 0,
    "start_time": "2023-06-22T08:59:55.264Z"
   },
   {
    "duration": 0,
    "start_time": "2023-06-22T08:59:55.265Z"
   },
   {
    "duration": 0,
    "start_time": "2023-06-22T08:59:55.266Z"
   },
   {
    "duration": 0,
    "start_time": "2023-06-22T08:59:55.268Z"
   },
   {
    "duration": 0,
    "start_time": "2023-06-22T08:59:55.269Z"
   },
   {
    "duration": 0,
    "start_time": "2023-06-22T08:59:55.270Z"
   },
   {
    "duration": 1592,
    "start_time": "2023-06-22T09:01:32.434Z"
   },
   {
    "duration": 9,
    "start_time": "2023-06-22T09:01:34.028Z"
   },
   {
    "duration": 896,
    "start_time": "2023-06-22T09:01:34.039Z"
   },
   {
    "duration": 128,
    "start_time": "2023-06-22T09:01:34.936Z"
   },
   {
    "duration": 28,
    "start_time": "2023-06-22T09:01:35.066Z"
   },
   {
    "duration": 2,
    "start_time": "2023-06-22T09:01:35.096Z"
   },
   {
    "duration": 485,
    "start_time": "2023-06-22T09:01:35.099Z"
   },
   {
    "duration": 680,
    "start_time": "2023-06-22T09:01:35.586Z"
   },
   {
    "duration": 2,
    "start_time": "2023-06-22T09:01:36.268Z"
   },
   {
    "duration": 27,
    "start_time": "2023-06-22T09:01:36.272Z"
   },
   {
    "duration": 58,
    "start_time": "2023-06-22T09:01:36.301Z"
   },
   {
    "duration": 37,
    "start_time": "2023-06-22T09:01:36.361Z"
   },
   {
    "duration": 28,
    "start_time": "2023-06-22T09:01:36.400Z"
   },
   {
    "duration": 36,
    "start_time": "2023-06-22T09:01:36.431Z"
   },
   {
    "duration": 41,
    "start_time": "2023-06-22T09:01:36.469Z"
   },
   {
    "duration": 119,
    "start_time": "2023-06-22T09:01:36.512Z"
   },
   {
    "duration": 43,
    "start_time": "2023-06-22T09:01:36.633Z"
   },
   {
    "duration": 63,
    "start_time": "2023-06-22T09:01:36.678Z"
   },
   {
    "duration": 16,
    "start_time": "2023-06-22T09:01:36.743Z"
   },
   {
    "duration": 8,
    "start_time": "2023-06-22T09:01:36.761Z"
   },
   {
    "duration": 46,
    "start_time": "2023-06-22T09:01:36.770Z"
   },
   {
    "duration": 48,
    "start_time": "2023-06-22T09:01:36.818Z"
   },
   {
    "duration": 20,
    "start_time": "2023-06-22T09:01:36.868Z"
   },
   {
    "duration": 8,
    "start_time": "2023-06-22T09:01:36.889Z"
   },
   {
    "duration": 30,
    "start_time": "2023-06-22T09:01:36.898Z"
   },
   {
    "duration": 39,
    "start_time": "2023-06-22T09:01:36.930Z"
   },
   {
    "duration": 4,
    "start_time": "2023-06-22T09:01:36.971Z"
   },
   {
    "duration": 7,
    "start_time": "2023-06-22T09:01:36.976Z"
   },
   {
    "duration": 48,
    "start_time": "2023-06-22T09:01:36.984Z"
   },
   {
    "duration": 26,
    "start_time": "2023-06-22T09:01:37.034Z"
   },
   {
    "duration": 19,
    "start_time": "2023-06-22T09:01:37.061Z"
   },
   {
    "duration": 3,
    "start_time": "2023-06-22T09:01:37.081Z"
   },
   {
    "duration": 338,
    "start_time": "2023-06-22T09:01:37.085Z"
   },
   {
    "duration": 10,
    "start_time": "2023-06-22T09:01:37.424Z"
   },
   {
    "duration": 8,
    "start_time": "2023-06-22T09:01:37.435Z"
   },
   {
    "duration": 19,
    "start_time": "2023-06-22T09:01:37.444Z"
   },
   {
    "duration": 21,
    "start_time": "2023-06-22T09:01:37.465Z"
   },
   {
    "duration": 45,
    "start_time": "2023-06-22T09:01:37.488Z"
   },
   {
    "duration": 13,
    "start_time": "2023-06-22T09:01:37.534Z"
   },
   {
    "duration": 22,
    "start_time": "2023-06-22T09:01:37.548Z"
   },
   {
    "duration": 33,
    "start_time": "2023-06-22T09:01:37.575Z"
   },
   {
    "duration": 393,
    "start_time": "2023-06-22T09:01:37.609Z"
   },
   {
    "duration": 10,
    "start_time": "2023-06-22T09:01:38.003Z"
   },
   {
    "duration": 11,
    "start_time": "2023-06-22T09:01:38.015Z"
   },
   {
    "duration": 173,
    "start_time": "2023-06-22T09:01:38.028Z"
   },
   {
    "duration": 40,
    "start_time": "2023-06-22T09:01:38.203Z"
   },
   {
    "duration": 228,
    "start_time": "2023-06-22T09:01:38.245Z"
   },
   {
    "duration": 252,
    "start_time": "2023-06-22T09:01:38.475Z"
   },
   {
    "duration": 259,
    "start_time": "2023-06-22T09:01:38.729Z"
   },
   {
    "duration": 34,
    "start_time": "2023-06-22T09:01:38.990Z"
   },
   {
    "duration": 44,
    "start_time": "2023-06-22T09:01:39.026Z"
   },
   {
    "duration": 7,
    "start_time": "2023-06-22T09:01:39.072Z"
   },
   {
    "duration": 21,
    "start_time": "2023-06-22T09:01:39.080Z"
   },
   {
    "duration": 30,
    "start_time": "2023-06-22T09:01:39.102Z"
   },
   {
    "duration": 31,
    "start_time": "2023-06-22T09:01:39.134Z"
   },
   {
    "duration": 5,
    "start_time": "2023-06-22T09:01:39.166Z"
   },
   {
    "duration": 129,
    "start_time": "2023-06-22T09:01:39.172Z"
   },
   {
    "duration": 3,
    "start_time": "2023-06-22T09:01:39.303Z"
   },
   {
    "duration": 41,
    "start_time": "2023-06-22T09:01:39.308Z"
   },
   {
    "duration": 192,
    "start_time": "2023-06-22T09:01:39.359Z"
   },
   {
    "duration": 18,
    "start_time": "2023-06-22T09:01:39.560Z"
   },
   {
    "duration": 32,
    "start_time": "2023-06-22T09:01:39.580Z"
   },
   {
    "duration": 50,
    "start_time": "2023-06-22T09:01:39.614Z"
   },
   {
    "duration": 30,
    "start_time": "2023-06-22T09:01:39.666Z"
   },
   {
    "duration": 8,
    "start_time": "2023-06-22T09:01:39.697Z"
   },
   {
    "duration": 25,
    "start_time": "2023-06-22T09:01:39.706Z"
   },
   {
    "duration": 152,
    "start_time": "2023-06-22T09:01:39.732Z"
   },
   {
    "duration": 175,
    "start_time": "2023-06-22T09:01:39.886Z"
   },
   {
    "duration": 4,
    "start_time": "2023-06-22T09:01:40.063Z"
   },
   {
    "duration": 348,
    "start_time": "2023-06-22T09:01:40.068Z"
   },
   {
    "duration": 21,
    "start_time": "2023-06-22T09:01:40.418Z"
   },
   {
    "duration": 82,
    "start_time": "2023-06-22T09:01:40.440Z"
   },
   {
    "duration": 36,
    "start_time": "2023-06-22T09:01:40.524Z"
   },
   {
    "duration": 4,
    "start_time": "2023-06-22T09:01:40.561Z"
   },
   {
    "duration": 6,
    "start_time": "2023-06-22T09:01:40.566Z"
   },
   {
    "duration": 1178,
    "start_time": "2023-06-22T09:01:40.574Z"
   },
   {
    "duration": 11,
    "start_time": "2023-06-22T09:01:41.754Z"
   },
   {
    "duration": 204,
    "start_time": "2023-06-22T09:01:41.766Z"
   },
   {
    "duration": 17,
    "start_time": "2023-06-22T09:01:41.972Z"
   },
   {
    "duration": 31,
    "start_time": "2023-06-22T09:01:41.991Z"
   },
   {
    "duration": 905,
    "start_time": "2023-06-22T09:01:42.024Z"
   },
   {
    "duration": 351,
    "start_time": "2023-06-22T09:01:42.931Z"
   },
   {
    "duration": 99,
    "start_time": "2023-06-22T09:01:43.283Z"
   },
   {
    "duration": 0,
    "start_time": "2023-06-22T09:01:43.384Z"
   },
   {
    "duration": 0,
    "start_time": "2023-06-22T09:01:43.385Z"
   },
   {
    "duration": 0,
    "start_time": "2023-06-22T09:01:43.386Z"
   },
   {
    "duration": 0,
    "start_time": "2023-06-22T09:01:43.388Z"
   },
   {
    "duration": 0,
    "start_time": "2023-06-22T09:01:43.389Z"
   },
   {
    "duration": 0,
    "start_time": "2023-06-22T09:01:43.390Z"
   },
   {
    "duration": 0,
    "start_time": "2023-06-22T09:01:43.391Z"
   },
   {
    "duration": 0,
    "start_time": "2023-06-22T09:01:43.392Z"
   },
   {
    "duration": 0,
    "start_time": "2023-06-22T09:01:43.393Z"
   },
   {
    "duration": 0,
    "start_time": "2023-06-22T09:01:43.394Z"
   },
   {
    "duration": 0,
    "start_time": "2023-06-22T09:01:43.395Z"
   },
   {
    "duration": 0,
    "start_time": "2023-06-22T09:01:43.395Z"
   },
   {
    "duration": 0,
    "start_time": "2023-06-22T09:01:43.397Z"
   },
   {
    "duration": 0,
    "start_time": "2023-06-22T09:01:43.397Z"
   },
   {
    "duration": 0,
    "start_time": "2023-06-22T09:01:43.398Z"
   },
   {
    "duration": 0,
    "start_time": "2023-06-22T09:01:43.399Z"
   },
   {
    "duration": 0,
    "start_time": "2023-06-22T09:01:43.400Z"
   },
   {
    "duration": 0,
    "start_time": "2023-06-22T09:01:43.401Z"
   },
   {
    "duration": 0,
    "start_time": "2023-06-22T09:01:43.402Z"
   },
   {
    "duration": 0,
    "start_time": "2023-06-22T09:01:43.404Z"
   },
   {
    "duration": 313,
    "start_time": "2023-06-22T09:03:48.509Z"
   },
   {
    "duration": 3,
    "start_time": "2023-06-22T09:05:40.076Z"
   },
   {
    "duration": 213,
    "start_time": "2023-06-22T09:06:06.157Z"
   },
   {
    "duration": 5281,
    "start_time": "2023-06-22T09:06:36.855Z"
   },
   {
    "duration": 2068,
    "start_time": "2023-06-22T09:06:42.138Z"
   },
   {
    "duration": 4,
    "start_time": "2023-06-22T09:06:44.209Z"
   },
   {
    "duration": 113,
    "start_time": "2023-06-22T09:06:44.216Z"
   },
   {
    "duration": 9,
    "start_time": "2023-06-22T09:06:44.331Z"
   },
   {
    "duration": 0,
    "start_time": "2023-06-22T09:06:44.342Z"
   },
   {
    "duration": 0,
    "start_time": "2023-06-22T09:06:44.343Z"
   },
   {
    "duration": 0,
    "start_time": "2023-06-22T09:06:44.344Z"
   },
   {
    "duration": 0,
    "start_time": "2023-06-22T09:06:44.345Z"
   },
   {
    "duration": 0,
    "start_time": "2023-06-22T09:06:44.346Z"
   },
   {
    "duration": 0,
    "start_time": "2023-06-22T09:06:44.347Z"
   },
   {
    "duration": 0,
    "start_time": "2023-06-22T09:06:44.348Z"
   },
   {
    "duration": 99,
    "start_time": "2023-06-22T09:06:44.409Z"
   },
   {
    "duration": 11,
    "start_time": "2023-06-22T09:06:44.615Z"
   },
   {
    "duration": 101,
    "start_time": "2023-06-22T09:06:44.805Z"
   },
   {
    "duration": 10,
    "start_time": "2023-06-22T09:06:45.014Z"
   },
   {
    "duration": 5,
    "start_time": "2023-06-22T09:06:45.214Z"
   },
   {
    "duration": 3,
    "start_time": "2023-06-22T09:06:45.510Z"
   },
   {
    "duration": 17,
    "start_time": "2023-06-22T09:06:45.605Z"
   },
   {
    "duration": 100,
    "start_time": "2023-06-22T09:06:48.522Z"
   },
   {
    "duration": 91,
    "start_time": "2023-06-22T09:07:13.509Z"
   },
   {
    "duration": 106,
    "start_time": "2023-06-22T09:07:30.406Z"
   },
   {
    "duration": 526,
    "start_time": "2023-06-22T09:08:44.114Z"
   },
   {
    "duration": 513,
    "start_time": "2023-06-22T09:09:10.017Z"
   },
   {
    "duration": 4675,
    "start_time": "2023-06-22T09:09:41.453Z"
   },
   {
    "duration": 3212,
    "start_time": "2023-06-22T09:09:57.108Z"
   },
   {
    "duration": 1450,
    "start_time": "2023-06-22T09:10:10.155Z"
   },
   {
    "duration": 646,
    "start_time": "2023-06-22T09:10:24.244Z"
   },
   {
    "duration": 4571,
    "start_time": "2023-06-22T09:10:50.717Z"
   },
   {
    "duration": 3389,
    "start_time": "2023-06-22T09:11:06.660Z"
   },
   {
    "duration": 3350,
    "start_time": "2023-06-22T09:11:33.222Z"
   },
   {
    "duration": 3228,
    "start_time": "2023-06-22T09:11:45.919Z"
   },
   {
    "duration": 3275,
    "start_time": "2023-06-22T09:11:56.235Z"
   },
   {
    "duration": 1123,
    "start_time": "2023-06-22T09:12:42.377Z"
   },
   {
    "duration": 4,
    "start_time": "2023-06-22T09:12:46.115Z"
   },
   {
    "duration": 4463,
    "start_time": "2023-06-22T09:13:04.015Z"
   },
   {
    "duration": 1742,
    "start_time": "2023-06-22T09:13:11.721Z"
   },
   {
    "duration": 4,
    "start_time": "2023-06-22T09:13:17.617Z"
   },
   {
    "duration": 4323,
    "start_time": "2023-06-22T09:13:33.313Z"
   },
   {
    "duration": 1616,
    "start_time": "2023-06-22T09:13:42.239Z"
   },
   {
    "duration": 4,
    "start_time": "2023-06-22T09:13:46.301Z"
   },
   {
    "duration": 420,
    "start_time": "2023-06-22T09:13:50.954Z"
   },
   {
    "duration": 15,
    "start_time": "2023-06-22T09:13:52.236Z"
   },
   {
    "duration": 3,
    "start_time": "2023-06-22T09:14:01.946Z"
   },
   {
    "duration": 20086,
    "start_time": "2023-06-22T09:14:06.713Z"
   },
   {
    "duration": 1943,
    "start_time": "2023-06-22T09:14:26.800Z"
   },
   {
    "duration": 4,
    "start_time": "2023-06-22T09:14:28.745Z"
   },
   {
    "duration": 3355,
    "start_time": "2023-06-22T09:14:50.337Z"
   },
   {
    "duration": 19513,
    "start_time": "2023-06-22T09:15:29.505Z"
   },
   {
    "duration": 68,
    "start_time": "2023-06-22T09:53:27.542Z"
   },
   {
    "duration": 55,
    "start_time": "2023-06-22T09:53:41.309Z"
   },
   {
    "duration": 132,
    "start_time": "2023-06-22T09:54:27.361Z"
   },
   {
    "duration": 2126,
    "start_time": "2023-06-22T10:09:44.728Z"
   },
   {
    "duration": 5,
    "start_time": "2023-06-22T10:09:49.913Z"
   },
   {
    "duration": 2328,
    "start_time": "2023-06-22T10:10:04.877Z"
   },
   {
    "duration": 20187,
    "start_time": "2023-06-22T10:10:09.452Z"
   },
   {
    "duration": 129639,
    "start_time": "2023-06-22T10:12:59.852Z"
   },
   {
    "duration": 1996,
    "start_time": "2023-06-22T10:19:05.910Z"
   },
   {
    "duration": 132,
    "start_time": "2023-06-22T10:19:32.853Z"
   },
   {
    "duration": 2215,
    "start_time": "2023-06-22T10:19:42.226Z"
   },
   {
    "duration": 4,
    "start_time": "2023-06-22T10:19:47.056Z"
   },
   {
    "duration": 11732,
    "start_time": "2023-06-22T10:19:47.834Z"
   },
   {
    "duration": 121,
    "start_time": "2023-06-22T10:20:08.247Z"
   },
   {
    "duration": 3,
    "start_time": "2023-06-22T10:20:09.631Z"
   },
   {
    "duration": 971997,
    "start_time": "2023-06-22T10:20:25.530Z"
   },
   {
    "duration": 241244,
    "start_time": "2023-06-22T10:41:21.730Z"
   },
   {
    "duration": 4992,
    "start_time": "2023-06-22T10:45:22.977Z"
   },
   {
    "duration": 670,
    "start_time": "2023-06-22T10:45:44.137Z"
   },
   {
    "duration": 93,
    "start_time": "2023-06-22T10:45:52.754Z"
   },
   {
    "duration": 4,
    "start_time": "2023-06-22T10:45:56.309Z"
   },
   {
    "duration": 14,
    "start_time": "2023-06-22T10:46:01.217Z"
   },
   {
    "duration": 9,
    "start_time": "2023-06-22T10:46:01.918Z"
   },
   {
    "duration": 3991,
    "start_time": "2023-06-22T10:46:26.862Z"
   },
   {
    "duration": 6895,
    "start_time": "2023-06-22T10:46:43.813Z"
   },
   {
    "duration": 7494,
    "start_time": "2023-06-22T10:46:57.321Z"
   },
   {
    "duration": 3028,
    "start_time": "2023-06-22T10:47:10.706Z"
   },
   {
    "duration": 5,
    "start_time": "2023-06-22T10:47:16.605Z"
   },
   {
    "duration": 812,
    "start_time": "2023-06-22T10:47:17.264Z"
   },
   {
    "duration": 7129,
    "start_time": "2023-06-22T10:47:39.636Z"
   },
   {
    "duration": 7092,
    "start_time": "2023-06-22T10:47:54.052Z"
   },
   {
    "duration": 7396,
    "start_time": "2023-06-22T10:48:07.613Z"
   },
   {
    "duration": 3165,
    "start_time": "2023-06-22T10:48:22.034Z"
   },
   {
    "duration": 4,
    "start_time": "2023-06-22T10:48:27.917Z"
   },
   {
    "duration": 6911,
    "start_time": "2023-06-22T10:48:33.241Z"
   },
   {
    "duration": 7252,
    "start_time": "2023-06-22T10:48:45.029Z"
   },
   {
    "duration": 6961,
    "start_time": "2023-06-22T10:48:56.917Z"
   },
   {
    "duration": 6802,
    "start_time": "2023-06-22T10:50:44.305Z"
   },
   {
    "duration": 2784,
    "start_time": "2023-06-22T10:51:05.565Z"
   },
   {
    "duration": 9,
    "start_time": "2023-06-22T10:51:08.351Z"
   },
   {
    "duration": 6906,
    "start_time": "2023-06-22T10:51:17.950Z"
   },
   {
    "duration": 2791,
    "start_time": "2023-06-22T10:51:24.857Z"
   },
   {
    "duration": 10,
    "start_time": "2023-06-22T10:51:27.650Z"
   },
   {
    "duration": 6621,
    "start_time": "2023-06-22T10:51:38.962Z"
   },
   {
    "duration": 2841,
    "start_time": "2023-06-22T10:51:45.585Z"
   },
   {
    "duration": 5,
    "start_time": "2023-06-22T10:51:48.428Z"
   },
   {
    "duration": 7370,
    "start_time": "2023-06-22T10:52:09.018Z"
   },
   {
    "duration": 6765,
    "start_time": "2023-06-22T10:52:25.460Z"
   },
   {
    "duration": 6701,
    "start_time": "2023-06-22T10:52:37.840Z"
   },
   {
    "duration": 6839,
    "start_time": "2023-06-22T10:52:50.257Z"
   },
   {
    "duration": 6905,
    "start_time": "2023-06-22T10:53:03.621Z"
   },
   {
    "duration": 2956,
    "start_time": "2023-06-22T10:53:14.036Z"
   },
   {
    "duration": 4,
    "start_time": "2023-06-22T10:53:16.994Z"
   },
   {
    "duration": 7058,
    "start_time": "2023-06-22T10:53:23.317Z"
   },
   {
    "duration": 2918,
    "start_time": "2023-06-22T10:53:35.447Z"
   },
   {
    "duration": 5,
    "start_time": "2023-06-22T10:53:38.369Z"
   },
   {
    "duration": 6948,
    "start_time": "2023-06-22T10:53:40.425Z"
   },
   {
    "duration": 2987,
    "start_time": "2023-06-22T10:53:48.544Z"
   },
   {
    "duration": 5,
    "start_time": "2023-06-22T10:53:51.533Z"
   },
   {
    "duration": 7404,
    "start_time": "2023-06-22T10:53:58.005Z"
   },
   {
    "duration": 3039,
    "start_time": "2023-06-22T10:54:05.412Z"
   },
   {
    "duration": 5,
    "start_time": "2023-06-22T10:54:08.458Z"
   },
   {
    "duration": 11681,
    "start_time": "2023-06-22T10:54:27.636Z"
   },
   {
    "duration": 12483,
    "start_time": "2023-06-22T10:54:47.632Z"
   },
   {
    "duration": 3097,
    "start_time": "2023-06-22T11:04:53.330Z"
   },
   {
    "duration": 4,
    "start_time": "2023-06-22T11:04:56.430Z"
   },
   {
    "duration": 754,
    "start_time": "2023-06-22T11:04:56.436Z"
   },
   {
    "duration": 26,
    "start_time": "2023-06-22T11:04:57.193Z"
   },
   {
    "duration": 3,
    "start_time": "2023-06-22T11:04:57.222Z"
   },
   {
    "duration": 9406,
    "start_time": "2023-06-22T11:36:16.134Z"
   },
   {
    "duration": 107,
    "start_time": "2023-06-22T11:36:25.542Z"
   },
   {
    "duration": 3,
    "start_time": "2023-06-22T11:36:25.651Z"
   },
   {
    "duration": 2266,
    "start_time": "2023-06-22T11:37:01.909Z"
   },
   {
    "duration": 2642,
    "start_time": "2023-06-22T11:38:19.605Z"
   },
   {
    "duration": 181,
    "start_time": "2023-06-22T11:39:42.844Z"
   },
   {
    "duration": 191,
    "start_time": "2023-06-22T11:39:46.413Z"
   },
   {
    "duration": 3209,
    "start_time": "2023-06-22T11:39:49.333Z"
   },
   {
    "duration": 209,
    "start_time": "2023-06-22T11:40:37.748Z"
   },
   {
    "duration": 248,
    "start_time": "2023-06-22T11:43:37.436Z"
   },
   {
    "duration": 53,
    "start_time": "2023-06-22T11:48:55.343Z"
   },
   {
    "duration": 1410,
    "start_time": "2023-06-22T11:48:55.398Z"
   },
   {
    "duration": 4,
    "start_time": "2023-06-22T11:48:56.810Z"
   },
   {
    "duration": 761,
    "start_time": "2023-06-22T11:48:56.815Z"
   },
   {
    "duration": 116,
    "start_time": "2023-06-22T11:48:57.578Z"
   },
   {
    "duration": 24,
    "start_time": "2023-06-22T11:48:57.696Z"
   },
   {
    "duration": 2,
    "start_time": "2023-06-22T11:48:57.722Z"
   },
   {
    "duration": 760,
    "start_time": "2023-06-22T11:48:57.726Z"
   },
   {
    "duration": 1240,
    "start_time": "2023-06-22T11:48:58.488Z"
   },
   {
    "duration": 3,
    "start_time": "2023-06-22T11:48:59.729Z"
   },
   {
    "duration": 65,
    "start_time": "2023-06-22T11:48:59.733Z"
   },
   {
    "duration": 40,
    "start_time": "2023-06-22T11:48:59.800Z"
   },
   {
    "duration": 47,
    "start_time": "2023-06-22T11:48:59.842Z"
   },
   {
    "duration": 26,
    "start_time": "2023-06-22T11:48:59.891Z"
   },
   {
    "duration": 13,
    "start_time": "2023-06-22T11:48:59.919Z"
   },
   {
    "duration": 54,
    "start_time": "2023-06-22T11:48:59.933Z"
   },
   {
    "duration": 130,
    "start_time": "2023-06-22T11:48:59.988Z"
   },
   {
    "duration": 39,
    "start_time": "2023-06-22T11:49:00.120Z"
   },
   {
    "duration": 58,
    "start_time": "2023-06-22T11:49:00.160Z"
   },
   {
    "duration": 5,
    "start_time": "2023-06-22T11:49:00.220Z"
   },
   {
    "duration": 45,
    "start_time": "2023-06-22T11:49:00.226Z"
   },
   {
    "duration": 109,
    "start_time": "2023-06-22T11:49:00.272Z"
   },
   {
    "duration": 44,
    "start_time": "2023-06-22T11:49:00.383Z"
   },
   {
    "duration": 36,
    "start_time": "2023-06-22T11:49:00.429Z"
   },
   {
    "duration": 50,
    "start_time": "2023-06-22T11:49:00.467Z"
   },
   {
    "duration": 63,
    "start_time": "2023-06-22T11:49:00.519Z"
   },
   {
    "duration": 38,
    "start_time": "2023-06-22T11:49:00.584Z"
   },
   {
    "duration": 60,
    "start_time": "2023-06-22T11:49:00.623Z"
   },
   {
    "duration": 102,
    "start_time": "2023-06-22T11:49:00.684Z"
   },
   {
    "duration": 89,
    "start_time": "2023-06-22T11:49:00.788Z"
   },
   {
    "duration": 123,
    "start_time": "2023-06-22T11:49:00.879Z"
   },
   {
    "duration": 67,
    "start_time": "2023-06-22T11:49:01.004Z"
   },
   {
    "duration": 240,
    "start_time": "2023-06-22T11:49:01.073Z"
   },
   {
    "duration": 368,
    "start_time": "2023-06-22T11:49:01.315Z"
   },
   {
    "duration": 9,
    "start_time": "2023-06-22T11:49:01.685Z"
   },
   {
    "duration": 123,
    "start_time": "2023-06-22T11:49:01.695Z"
   },
   {
    "duration": 254,
    "start_time": "2023-06-22T11:49:01.820Z"
   },
   {
    "duration": 197,
    "start_time": "2023-06-22T11:49:02.076Z"
   },
   {
    "duration": 98,
    "start_time": "2023-06-22T11:49:02.275Z"
   },
   {
    "duration": 71,
    "start_time": "2023-06-22T11:49:02.375Z"
   },
   {
    "duration": 16,
    "start_time": "2023-06-22T11:49:02.528Z"
   },
   {
    "duration": 38,
    "start_time": "2023-06-22T11:49:02.545Z"
   },
   {
    "duration": 366,
    "start_time": "2023-06-22T11:49:02.584Z"
   },
   {
    "duration": 14,
    "start_time": "2023-06-22T11:49:02.952Z"
   },
   {
    "duration": 17,
    "start_time": "2023-06-22T11:49:02.967Z"
   },
   {
    "duration": 165,
    "start_time": "2023-06-22T11:49:02.986Z"
   },
   {
    "duration": 39,
    "start_time": "2023-06-22T11:49:03.153Z"
   },
   {
    "duration": 198,
    "start_time": "2023-06-22T11:49:03.193Z"
   },
   {
    "duration": 235,
    "start_time": "2023-06-22T11:49:03.393Z"
   },
   {
    "duration": 230,
    "start_time": "2023-06-22T11:49:03.630Z"
   },
   {
    "duration": 31,
    "start_time": "2023-06-22T11:49:03.862Z"
   },
   {
    "duration": 36,
    "start_time": "2023-06-22T11:49:03.895Z"
   },
   {
    "duration": 4,
    "start_time": "2023-06-22T11:49:03.933Z"
   },
   {
    "duration": 35,
    "start_time": "2023-06-22T11:49:03.938Z"
   },
   {
    "duration": 52,
    "start_time": "2023-06-22T11:49:03.975Z"
   },
   {
    "duration": 22,
    "start_time": "2023-06-22T11:49:04.029Z"
   },
   {
    "duration": 16,
    "start_time": "2023-06-22T11:49:04.054Z"
   },
   {
    "duration": 148,
    "start_time": "2023-06-22T11:49:04.072Z"
   },
   {
    "duration": 2,
    "start_time": "2023-06-22T11:49:04.222Z"
   },
   {
    "duration": 62,
    "start_time": "2023-06-22T11:49:04.226Z"
   },
   {
    "duration": 179,
    "start_time": "2023-06-22T11:49:04.291Z"
   },
   {
    "duration": 16,
    "start_time": "2023-06-22T11:49:04.472Z"
   },
   {
    "duration": 50,
    "start_time": "2023-06-22T11:49:04.490Z"
   },
   {
    "duration": 30,
    "start_time": "2023-06-22T11:49:04.541Z"
   },
   {
    "duration": 35,
    "start_time": "2023-06-22T11:49:04.573Z"
   },
   {
    "duration": 8,
    "start_time": "2023-06-22T11:49:04.609Z"
   },
   {
    "duration": 30,
    "start_time": "2023-06-22T11:49:04.618Z"
   },
   {
    "duration": 121,
    "start_time": "2023-06-22T11:49:04.650Z"
   },
   {
    "duration": 158,
    "start_time": "2023-06-22T11:49:04.772Z"
   },
   {
    "duration": 3,
    "start_time": "2023-06-22T11:49:04.932Z"
   },
   {
    "duration": 335,
    "start_time": "2023-06-22T11:49:04.936Z"
   },
   {
    "duration": 18,
    "start_time": "2023-06-22T11:49:05.273Z"
   },
   {
    "duration": 81,
    "start_time": "2023-06-22T11:49:05.292Z"
   },
   {
    "duration": 27,
    "start_time": "2023-06-22T11:49:05.375Z"
   },
   {
    "duration": 41,
    "start_time": "2023-06-22T11:49:05.404Z"
   },
   {
    "duration": 38,
    "start_time": "2023-06-22T11:49:05.447Z"
   },
   {
    "duration": 1083,
    "start_time": "2023-06-22T11:49:05.487Z"
   },
   {
    "duration": 9,
    "start_time": "2023-06-22T11:49:06.572Z"
   },
   {
    "duration": 83,
    "start_time": "2023-06-22T11:49:06.583Z"
   },
   {
    "duration": 14,
    "start_time": "2023-06-22T11:49:06.667Z"
   },
   {
    "duration": 46,
    "start_time": "2023-06-22T11:49:06.683Z"
   },
   {
    "duration": 811,
    "start_time": "2023-06-22T11:49:06.730Z"
   },
   {
    "duration": 286,
    "start_time": "2023-06-22T11:49:07.542Z"
   },
   {
    "duration": 3,
    "start_time": "2023-06-22T11:49:07.829Z"
   },
   {
    "duration": 11194,
    "start_time": "2023-06-22T11:49:07.834Z"
   },
   {
    "duration": 2709,
    "start_time": "2023-06-22T11:49:19.030Z"
   },
   {
    "duration": 5,
    "start_time": "2023-06-22T11:49:21.741Z"
   },
   {
    "duration": 683,
    "start_time": "2023-06-22T11:49:21.747Z"
   },
   {
    "duration": 33,
    "start_time": "2023-06-22T11:49:22.432Z"
   },
   {
    "duration": 3,
    "start_time": "2023-06-22T11:49:22.466Z"
   },
   {
    "duration": 8870276,
    "start_time": "2023-06-22T11:49:22.471Z"
   },
   {
    "duration": 107,
    "start_time": "2023-06-22T14:17:12.749Z"
   },
   {
    "duration": 11,
    "start_time": "2023-06-22T14:17:12.858Z"
   },
   {
    "duration": 0,
    "start_time": "2023-06-22T14:17:12.871Z"
   },
   {
    "duration": 0,
    "start_time": "2023-06-22T14:17:12.872Z"
   },
   {
    "duration": 0,
    "start_time": "2023-06-22T14:17:12.873Z"
   },
   {
    "duration": 0,
    "start_time": "2023-06-22T14:17:12.875Z"
   },
   {
    "duration": 0,
    "start_time": "2023-06-22T14:17:12.876Z"
   },
   {
    "duration": 0,
    "start_time": "2023-06-22T14:17:12.878Z"
   },
   {
    "duration": 0,
    "start_time": "2023-06-22T14:17:12.880Z"
   },
   {
    "duration": 0,
    "start_time": "2023-06-22T14:17:12.881Z"
   },
   {
    "duration": 0,
    "start_time": "2023-06-22T14:17:12.883Z"
   },
   {
    "duration": 0,
    "start_time": "2023-06-22T14:17:12.884Z"
   },
   {
    "duration": 0,
    "start_time": "2023-06-22T14:17:12.885Z"
   },
   {
    "duration": 0,
    "start_time": "2023-06-22T14:17:12.886Z"
   },
   {
    "duration": 0,
    "start_time": "2023-06-22T14:17:12.887Z"
   },
   {
    "duration": 0,
    "start_time": "2023-06-22T14:17:12.888Z"
   },
   {
    "duration": 0,
    "start_time": "2023-06-22T14:17:12.889Z"
   },
   {
    "duration": 3634,
    "start_time": "2023-06-22T14:18:09.581Z"
   },
   {
    "duration": 54,
    "start_time": "2023-06-22T14:24:24.701Z"
   },
   {
    "duration": 1528,
    "start_time": "2023-06-22T14:24:24.757Z"
   },
   {
    "duration": 5,
    "start_time": "2023-06-22T14:24:26.286Z"
   },
   {
    "duration": 866,
    "start_time": "2023-06-22T14:24:26.293Z"
   },
   {
    "duration": 134,
    "start_time": "2023-06-22T14:24:27.162Z"
   },
   {
    "duration": 25,
    "start_time": "2023-06-22T14:24:27.297Z"
   },
   {
    "duration": 3,
    "start_time": "2023-06-22T14:24:27.324Z"
   },
   {
    "duration": 515,
    "start_time": "2023-06-22T14:24:27.328Z"
   },
   {
    "duration": 716,
    "start_time": "2023-06-22T14:24:27.845Z"
   },
   {
    "duration": 2,
    "start_time": "2023-06-22T14:24:28.563Z"
   },
   {
    "duration": 52,
    "start_time": "2023-06-22T14:24:28.567Z"
   },
   {
    "duration": 52,
    "start_time": "2023-06-22T14:24:28.621Z"
   },
   {
    "duration": 50,
    "start_time": "2023-06-22T14:24:28.675Z"
   },
   {
    "duration": 27,
    "start_time": "2023-06-22T14:24:28.728Z"
   },
   {
    "duration": 18,
    "start_time": "2023-06-22T14:24:28.758Z"
   },
   {
    "duration": 31,
    "start_time": "2023-06-22T14:24:28.778Z"
   },
   {
    "duration": 137,
    "start_time": "2023-06-22T14:24:28.811Z"
   },
   {
    "duration": 39,
    "start_time": "2023-06-22T14:24:28.950Z"
   },
   {
    "duration": 95,
    "start_time": "2023-06-22T14:24:28.992Z"
   },
   {
    "duration": 6,
    "start_time": "2023-06-22T14:24:29.090Z"
   },
   {
    "duration": 15,
    "start_time": "2023-06-22T14:24:29.097Z"
   },
   {
    "duration": 52,
    "start_time": "2023-06-22T14:24:29.113Z"
   },
   {
    "duration": 27,
    "start_time": "2023-06-22T14:24:29.167Z"
   },
   {
    "duration": 22,
    "start_time": "2023-06-22T14:24:29.197Z"
   },
   {
    "duration": 40,
    "start_time": "2023-06-22T14:24:29.221Z"
   },
   {
    "duration": 27,
    "start_time": "2023-06-22T14:24:29.263Z"
   },
   {
    "duration": 51,
    "start_time": "2023-06-22T14:24:29.292Z"
   },
   {
    "duration": 5,
    "start_time": "2023-06-22T14:24:29.346Z"
   },
   {
    "duration": 3,
    "start_time": "2023-06-22T14:24:29.359Z"
   },
   {
    "duration": 60,
    "start_time": "2023-06-22T14:24:29.364Z"
   },
   {
    "duration": 13,
    "start_time": "2023-06-22T14:24:29.427Z"
   },
   {
    "duration": 33,
    "start_time": "2023-06-22T14:24:29.442Z"
   },
   {
    "duration": 3,
    "start_time": "2023-06-22T14:24:29.477Z"
   },
   {
    "duration": 336,
    "start_time": "2023-06-22T14:24:29.482Z"
   },
   {
    "duration": 10,
    "start_time": "2023-06-22T14:24:29.819Z"
   },
   {
    "duration": 6,
    "start_time": "2023-06-22T14:24:29.831Z"
   },
   {
    "duration": 23,
    "start_time": "2023-06-22T14:24:29.839Z"
   },
   {
    "duration": 22,
    "start_time": "2023-06-22T14:24:29.863Z"
   },
   {
    "duration": 42,
    "start_time": "2023-06-22T14:24:29.887Z"
   },
   {
    "duration": 14,
    "start_time": "2023-06-22T14:24:29.931Z"
   },
   {
    "duration": 17,
    "start_time": "2023-06-22T14:24:30.034Z"
   },
   {
    "duration": 66,
    "start_time": "2023-06-22T14:24:30.060Z"
   },
   {
    "duration": 387,
    "start_time": "2023-06-22T14:24:30.128Z"
   },
   {
    "duration": 9,
    "start_time": "2023-06-22T14:24:30.517Z"
   },
   {
    "duration": 56,
    "start_time": "2023-06-22T14:24:30.528Z"
   },
   {
    "duration": 185,
    "start_time": "2023-06-22T14:24:30.586Z"
   },
   {
    "duration": 47,
    "start_time": "2023-06-22T14:24:30.773Z"
   },
   {
    "duration": 239,
    "start_time": "2023-06-22T14:24:30.822Z"
   },
   {
    "duration": 231,
    "start_time": "2023-06-22T14:24:31.063Z"
   },
   {
    "duration": 269,
    "start_time": "2023-06-22T14:24:31.296Z"
   },
   {
    "duration": 35,
    "start_time": "2023-06-22T14:24:31.567Z"
   },
   {
    "duration": 18,
    "start_time": "2023-06-22T14:24:31.603Z"
   },
   {
    "duration": 29,
    "start_time": "2023-06-22T14:24:31.622Z"
   },
   {
    "duration": 44,
    "start_time": "2023-06-22T14:24:31.653Z"
   },
   {
    "duration": 32,
    "start_time": "2023-06-22T14:24:31.699Z"
   },
   {
    "duration": 33,
    "start_time": "2023-06-22T14:24:31.734Z"
   },
   {
    "duration": 25,
    "start_time": "2023-06-22T14:24:31.770Z"
   },
   {
    "duration": 119,
    "start_time": "2023-06-22T14:24:31.797Z"
   },
   {
    "duration": 3,
    "start_time": "2023-06-22T14:24:31.918Z"
   },
   {
    "duration": 45,
    "start_time": "2023-06-22T14:24:31.922Z"
   },
   {
    "duration": 194,
    "start_time": "2023-06-22T14:24:31.969Z"
   },
   {
    "duration": 25,
    "start_time": "2023-06-22T14:24:32.165Z"
   },
   {
    "duration": 55,
    "start_time": "2023-06-22T14:24:32.192Z"
   },
   {
    "duration": 56,
    "start_time": "2023-06-22T14:24:32.249Z"
   },
   {
    "duration": 66,
    "start_time": "2023-06-22T14:24:32.307Z"
   },
   {
    "duration": 10,
    "start_time": "2023-06-22T14:24:32.376Z"
   },
   {
    "duration": 36,
    "start_time": "2023-06-22T14:24:32.388Z"
   },
   {
    "duration": 139,
    "start_time": "2023-06-22T14:24:32.425Z"
   },
   {
    "duration": 193,
    "start_time": "2023-06-22T14:24:32.566Z"
   },
   {
    "duration": 4,
    "start_time": "2023-06-22T14:24:32.761Z"
   },
   {
    "duration": 371,
    "start_time": "2023-06-22T14:24:32.766Z"
   },
   {
    "duration": 24,
    "start_time": "2023-06-22T14:24:33.138Z"
   },
   {
    "duration": 138,
    "start_time": "2023-06-22T14:24:33.165Z"
   },
   {
    "duration": 31,
    "start_time": "2023-06-22T14:24:33.305Z"
   },
   {
    "duration": 15,
    "start_time": "2023-06-22T14:24:33.339Z"
   },
   {
    "duration": 18,
    "start_time": "2023-06-22T14:24:33.360Z"
   },
   {
    "duration": 1250,
    "start_time": "2023-06-22T14:24:33.380Z"
   },
   {
    "duration": 11,
    "start_time": "2023-06-22T14:24:34.632Z"
   },
   {
    "duration": 97,
    "start_time": "2023-06-22T14:24:34.645Z"
   },
   {
    "duration": 26,
    "start_time": "2023-06-22T14:24:34.744Z"
   },
   {
    "duration": 30,
    "start_time": "2023-06-22T14:24:34.772Z"
   },
   {
    "duration": 877,
    "start_time": "2023-06-22T14:24:34.804Z"
   },
   {
    "duration": 267,
    "start_time": "2023-06-22T14:24:35.682Z"
   },
   {
    "duration": 3,
    "start_time": "2023-06-22T14:24:35.959Z"
   },
   {
    "duration": 13312,
    "start_time": "2023-06-22T14:24:35.964Z"
   },
   {
    "duration": 3560,
    "start_time": "2023-06-22T14:24:49.280Z"
   },
   {
    "duration": 6,
    "start_time": "2023-06-22T14:24:52.843Z"
   },
   {
    "duration": 869,
    "start_time": "2023-06-22T14:24:52.860Z"
   },
   {
    "duration": 46,
    "start_time": "2023-06-22T14:24:53.731Z"
   },
   {
    "duration": 4,
    "start_time": "2023-06-22T14:24:53.779Z"
   },
   {
    "duration": 4858235,
    "start_time": "2023-06-22T14:24:53.785Z"
   },
   {
    "duration": 96,
    "start_time": "2023-06-22T15:45:52.021Z"
   },
   {
    "duration": 10,
    "start_time": "2023-06-22T15:45:52.119Z"
   },
   {
    "duration": 0,
    "start_time": "2023-06-22T15:45:52.131Z"
   },
   {
    "duration": 0,
    "start_time": "2023-06-22T15:45:52.133Z"
   },
   {
    "duration": 0,
    "start_time": "2023-06-22T15:45:52.134Z"
   },
   {
    "duration": 0,
    "start_time": "2023-06-22T15:45:52.135Z"
   },
   {
    "duration": 0,
    "start_time": "2023-06-22T15:45:52.136Z"
   },
   {
    "duration": 0,
    "start_time": "2023-06-22T15:45:52.137Z"
   },
   {
    "duration": 0,
    "start_time": "2023-06-22T15:45:52.139Z"
   },
   {
    "duration": 0,
    "start_time": "2023-06-22T15:45:52.140Z"
   },
   {
    "duration": 0,
    "start_time": "2023-06-22T15:45:52.141Z"
   },
   {
    "duration": 0,
    "start_time": "2023-06-22T15:45:52.142Z"
   },
   {
    "duration": 0,
    "start_time": "2023-06-22T15:45:52.144Z"
   },
   {
    "duration": 0,
    "start_time": "2023-06-22T15:45:52.144Z"
   },
   {
    "duration": 0,
    "start_time": "2023-06-22T15:45:52.145Z"
   },
   {
    "duration": 0,
    "start_time": "2023-06-22T15:45:52.147Z"
   },
   {
    "duration": 0,
    "start_time": "2023-06-22T15:45:52.148Z"
   },
   {
    "duration": 0,
    "start_time": "2023-06-22T15:45:52.148Z"
   },
   {
    "duration": 60,
    "start_time": "2023-06-23T04:55:32.281Z"
   },
   {
    "duration": 1631,
    "start_time": "2023-06-23T04:55:32.343Z"
   },
   {
    "duration": 4,
    "start_time": "2023-06-23T04:55:33.976Z"
   },
   {
    "duration": 953,
    "start_time": "2023-06-23T04:55:33.981Z"
   },
   {
    "duration": 112,
    "start_time": "2023-06-23T04:55:34.936Z"
   },
   {
    "duration": 23,
    "start_time": "2023-06-23T04:55:35.050Z"
   },
   {
    "duration": 2,
    "start_time": "2023-06-23T04:55:35.075Z"
   },
   {
    "duration": 402,
    "start_time": "2023-06-23T04:55:35.078Z"
   },
   {
    "duration": 642,
    "start_time": "2023-06-23T04:55:35.481Z"
   },
   {
    "duration": 3,
    "start_time": "2023-06-23T04:55:36.124Z"
   },
   {
    "duration": 64,
    "start_time": "2023-06-23T04:55:36.129Z"
   },
   {
    "duration": 37,
    "start_time": "2023-06-23T04:55:36.195Z"
   },
   {
    "duration": 34,
    "start_time": "2023-06-23T04:55:36.234Z"
   },
   {
    "duration": 29,
    "start_time": "2023-06-23T04:55:36.271Z"
   },
   {
    "duration": 13,
    "start_time": "2023-06-23T04:55:36.301Z"
   },
   {
    "duration": 45,
    "start_time": "2023-06-23T04:55:36.315Z"
   },
   {
    "duration": 101,
    "start_time": "2023-06-23T04:55:36.361Z"
   },
   {
    "duration": 42,
    "start_time": "2023-06-23T04:55:36.464Z"
   },
   {
    "duration": 30,
    "start_time": "2023-06-23T04:55:36.507Z"
   },
   {
    "duration": 4,
    "start_time": "2023-06-23T04:55:36.539Z"
   },
   {
    "duration": 26,
    "start_time": "2023-06-23T04:55:36.544Z"
   },
   {
    "duration": 48,
    "start_time": "2023-06-23T04:55:36.571Z"
   },
   {
    "duration": 25,
    "start_time": "2023-06-23T04:55:36.621Z"
   },
   {
    "duration": 19,
    "start_time": "2023-06-23T04:55:36.647Z"
   },
   {
    "duration": 6,
    "start_time": "2023-06-23T04:55:36.668Z"
   },
   {
    "duration": 45,
    "start_time": "2023-06-23T04:55:36.675Z"
   },
   {
    "duration": 28,
    "start_time": "2023-06-23T04:55:36.721Z"
   },
   {
    "duration": 4,
    "start_time": "2023-06-23T04:55:36.750Z"
   },
   {
    "duration": 24,
    "start_time": "2023-06-23T04:55:36.756Z"
   },
   {
    "duration": 50,
    "start_time": "2023-06-23T04:55:36.782Z"
   },
   {
    "duration": 10,
    "start_time": "2023-06-23T04:55:36.834Z"
   },
   {
    "duration": 23,
    "start_time": "2023-06-23T04:55:36.846Z"
   },
   {
    "duration": 3,
    "start_time": "2023-06-23T04:55:36.871Z"
   },
   {
    "duration": 298,
    "start_time": "2023-06-23T04:55:36.875Z"
   },
   {
    "duration": 9,
    "start_time": "2023-06-23T04:55:37.174Z"
   },
   {
    "duration": 17,
    "start_time": "2023-06-23T04:55:37.185Z"
   },
   {
    "duration": 6,
    "start_time": "2023-06-23T04:55:37.204Z"
   },
   {
    "duration": 6,
    "start_time": "2023-06-23T04:55:37.211Z"
   },
   {
    "duration": 28,
    "start_time": "2023-06-23T04:55:37.219Z"
   },
   {
    "duration": 5,
    "start_time": "2023-06-23T04:55:37.249Z"
   },
   {
    "duration": 15,
    "start_time": "2023-06-23T04:55:37.339Z"
   },
   {
    "duration": 25,
    "start_time": "2023-06-23T04:55:37.355Z"
   },
   {
    "duration": 377,
    "start_time": "2023-06-23T04:55:37.382Z"
   },
   {
    "duration": 8,
    "start_time": "2023-06-23T04:55:37.760Z"
   },
   {
    "duration": 3,
    "start_time": "2023-06-23T04:55:37.769Z"
   },
   {
    "duration": 176,
    "start_time": "2023-06-23T04:55:37.773Z"
   },
   {
    "duration": 38,
    "start_time": "2023-06-23T04:55:37.950Z"
   },
   {
    "duration": 221,
    "start_time": "2023-06-23T04:55:38.000Z"
   },
   {
    "duration": 234,
    "start_time": "2023-06-23T04:55:38.222Z"
   },
   {
    "duration": 239,
    "start_time": "2023-06-23T04:55:38.458Z"
   },
   {
    "duration": 29,
    "start_time": "2023-06-23T04:55:38.700Z"
   },
   {
    "duration": 15,
    "start_time": "2023-06-23T04:55:38.731Z"
   },
   {
    "duration": 4,
    "start_time": "2023-06-23T04:55:38.748Z"
   },
   {
    "duration": 15,
    "start_time": "2023-06-23T04:55:38.753Z"
   },
   {
    "duration": 52,
    "start_time": "2023-06-23T04:55:38.769Z"
   },
   {
    "duration": 17,
    "start_time": "2023-06-23T04:55:38.822Z"
   },
   {
    "duration": 4,
    "start_time": "2023-06-23T04:55:38.841Z"
   },
   {
    "duration": 117,
    "start_time": "2023-06-23T04:55:38.846Z"
   },
   {
    "duration": 2,
    "start_time": "2023-06-23T04:55:38.964Z"
   },
   {
    "duration": 45,
    "start_time": "2023-06-23T04:55:38.968Z"
   },
   {
    "duration": 192,
    "start_time": "2023-06-23T04:55:39.014Z"
   },
   {
    "duration": 19,
    "start_time": "2023-06-23T04:55:39.207Z"
   },
   {
    "duration": 34,
    "start_time": "2023-06-23T04:55:39.228Z"
   },
   {
    "duration": 50,
    "start_time": "2023-06-23T04:55:39.264Z"
   },
   {
    "duration": 31,
    "start_time": "2023-06-23T04:55:39.316Z"
   },
   {
    "duration": 13,
    "start_time": "2023-06-23T04:55:39.349Z"
   },
   {
    "duration": 26,
    "start_time": "2023-06-23T04:55:39.364Z"
   },
   {
    "duration": 152,
    "start_time": "2023-06-23T04:55:39.399Z"
   },
   {
    "duration": 163,
    "start_time": "2023-06-23T04:55:39.553Z"
   },
   {
    "duration": 3,
    "start_time": "2023-06-23T04:55:39.717Z"
   },
   {
    "duration": 415,
    "start_time": "2023-06-23T04:55:39.722Z"
   },
   {
    "duration": 19,
    "start_time": "2023-06-23T04:55:40.139Z"
   },
   {
    "duration": 80,
    "start_time": "2023-06-23T04:55:40.159Z"
   },
   {
    "duration": 26,
    "start_time": "2023-06-23T04:55:40.240Z"
   },
   {
    "duration": 4,
    "start_time": "2023-06-23T04:55:40.267Z"
   },
   {
    "duration": 10,
    "start_time": "2023-06-23T04:55:40.272Z"
   },
   {
    "duration": 988,
    "start_time": "2023-06-23T04:55:40.284Z"
   },
   {
    "duration": 9,
    "start_time": "2023-06-23T04:55:41.274Z"
   },
   {
    "duration": 99,
    "start_time": "2023-06-23T04:55:41.285Z"
   },
   {
    "duration": 14,
    "start_time": "2023-06-23T04:55:41.386Z"
   },
   {
    "duration": 30,
    "start_time": "2023-06-23T04:55:41.401Z"
   },
   {
    "duration": 789,
    "start_time": "2023-06-23T04:55:41.433Z"
   },
   {
    "duration": 245,
    "start_time": "2023-06-23T04:55:42.224Z"
   },
   {
    "duration": 2,
    "start_time": "2023-06-23T04:55:42.471Z"
   },
   {
    "duration": 12834,
    "start_time": "2023-06-23T04:55:42.474Z"
   },
   {
    "duration": 2987,
    "start_time": "2023-06-23T04:55:55.310Z"
   },
   {
    "duration": 4,
    "start_time": "2023-06-23T04:55:58.299Z"
   },
   {
    "duration": 795,
    "start_time": "2023-06-23T04:55:58.305Z"
   },
   {
    "duration": 29,
    "start_time": "2023-06-23T04:55:59.102Z"
   },
   {
    "duration": 3,
    "start_time": "2023-06-23T04:55:59.133Z"
   },
   {
    "duration": 110242,
    "start_time": "2023-06-23T04:55:59.137Z"
   },
   {
    "duration": 63,
    "start_time": "2023-06-23T04:57:49.381Z"
   },
   {
    "duration": 9,
    "start_time": "2023-06-23T04:57:49.445Z"
   },
   {
    "duration": 0,
    "start_time": "2023-06-23T04:57:49.456Z"
   },
   {
    "duration": 0,
    "start_time": "2023-06-23T04:57:49.457Z"
   },
   {
    "duration": 0,
    "start_time": "2023-06-23T04:57:49.458Z"
   },
   {
    "duration": 0,
    "start_time": "2023-06-23T04:57:49.459Z"
   },
   {
    "duration": 0,
    "start_time": "2023-06-23T04:57:49.460Z"
   },
   {
    "duration": 0,
    "start_time": "2023-06-23T04:57:49.461Z"
   },
   {
    "duration": 0,
    "start_time": "2023-06-23T04:57:49.462Z"
   },
   {
    "duration": 0,
    "start_time": "2023-06-23T04:57:49.463Z"
   },
   {
    "duration": 0,
    "start_time": "2023-06-23T04:57:49.464Z"
   },
   {
    "duration": 0,
    "start_time": "2023-06-23T04:57:49.465Z"
   },
   {
    "duration": 0,
    "start_time": "2023-06-23T04:57:49.466Z"
   },
   {
    "duration": 0,
    "start_time": "2023-06-23T04:57:49.467Z"
   },
   {
    "duration": 0,
    "start_time": "2023-06-23T04:57:49.468Z"
   },
   {
    "duration": 0,
    "start_time": "2023-06-23T04:57:49.469Z"
   },
   {
    "duration": 0,
    "start_time": "2023-06-23T04:57:49.470Z"
   },
   {
    "duration": 0,
    "start_time": "2023-06-23T04:57:49.471Z"
   },
   {
    "duration": 113967,
    "start_time": "2023-06-23T04:59:34.546Z"
   },
   {
    "duration": 9703,
    "start_time": "2023-06-23T05:01:28.515Z"
   },
   {
    "duration": 5,
    "start_time": "2023-06-23T05:01:38.220Z"
   },
   {
    "duration": 1870,
    "start_time": "2023-06-23T05:01:38.226Z"
   },
   {
    "duration": 91,
    "start_time": "2023-06-23T05:01:40.098Z"
   },
   {
    "duration": 18,
    "start_time": "2023-06-23T05:01:40.191Z"
   },
   {
    "duration": 41,
    "start_time": "2023-06-23T05:01:40.210Z"
   },
   {
    "duration": 32,
    "start_time": "2023-06-23T05:01:40.252Z"
   },
   {
    "duration": 0,
    "start_time": "2023-06-23T05:01:40.285Z"
   },
   {
    "duration": 0,
    "start_time": "2023-06-23T05:01:40.287Z"
   },
   {
    "duration": 0,
    "start_time": "2023-06-23T05:01:40.288Z"
   },
   {
    "duration": 0,
    "start_time": "2023-06-23T05:01:40.289Z"
   },
   {
    "duration": 0,
    "start_time": "2023-06-23T05:01:40.290Z"
   },
   {
    "duration": 0,
    "start_time": "2023-06-23T05:01:40.290Z"
   },
   {
    "duration": 0,
    "start_time": "2023-06-23T05:01:40.292Z"
   },
   {
    "duration": 0,
    "start_time": "2023-06-23T05:01:40.293Z"
   },
   {
    "duration": 0,
    "start_time": "2023-06-23T05:01:40.293Z"
   },
   {
    "duration": 0,
    "start_time": "2023-06-23T05:01:40.294Z"
   },
   {
    "duration": 0,
    "start_time": "2023-06-23T05:01:40.295Z"
   },
   {
    "duration": 133,
    "start_time": "2023-06-23T05:04:54.614Z"
   },
   {
    "duration": 13004673,
    "start_time": "2023-06-23T05:04:56.944Z"
   },
   {
    "duration": 100,
    "start_time": "2023-06-23T08:41:41.619Z"
   },
   {
    "duration": 9,
    "start_time": "2023-06-23T08:41:41.720Z"
   },
   {
    "duration": 0,
    "start_time": "2023-06-23T08:41:41.731Z"
   },
   {
    "duration": 0,
    "start_time": "2023-06-23T08:41:41.733Z"
   },
   {
    "duration": 0,
    "start_time": "2023-06-23T08:41:41.733Z"
   },
   {
    "duration": 0,
    "start_time": "2023-06-23T08:41:41.734Z"
   },
   {
    "duration": 0,
    "start_time": "2023-06-23T08:41:41.735Z"
   },
   {
    "duration": 0,
    "start_time": "2023-06-23T08:41:41.736Z"
   },
   {
    "duration": 0,
    "start_time": "2023-06-23T08:41:41.737Z"
   },
   {
    "duration": 0,
    "start_time": "2023-06-23T08:41:41.737Z"
   },
   {
    "duration": 7,
    "start_time": "2023-06-23T08:41:55.651Z"
   },
   {
    "duration": 3,
    "start_time": "2023-06-23T08:42:14.015Z"
   },
   {
    "duration": 673888,
    "start_time": "2023-06-23T08:42:20.942Z"
   },
   {
    "duration": 59,
    "start_time": "2023-06-23T08:53:34.832Z"
   },
   {
    "duration": 18,
    "start_time": "2023-06-23T08:53:34.893Z"
   },
   {
    "duration": 0,
    "start_time": "2023-06-23T08:53:34.913Z"
   },
   {
    "duration": 0,
    "start_time": "2023-06-23T08:53:34.914Z"
   },
   {
    "duration": 0,
    "start_time": "2023-06-23T08:53:34.915Z"
   },
   {
    "duration": 0,
    "start_time": "2023-06-23T08:53:34.916Z"
   },
   {
    "duration": 0,
    "start_time": "2023-06-23T08:53:34.917Z"
   },
   {
    "duration": 0,
    "start_time": "2023-06-23T08:53:34.918Z"
   },
   {
    "duration": 1,
    "start_time": "2023-06-23T08:53:34.918Z"
   },
   {
    "duration": 0,
    "start_time": "2023-06-23T08:53:34.919Z"
   },
   {
    "duration": 0,
    "start_time": "2023-06-23T08:53:34.920Z"
   },
   {
    "duration": 0,
    "start_time": "2023-06-23T08:53:34.921Z"
   },
   {
    "duration": 9211325,
    "start_time": "2023-06-23T08:53:42.920Z"
   },
   {
    "duration": 155,
    "start_time": "2023-06-23T11:27:14.247Z"
   },
   {
    "duration": 11,
    "start_time": "2023-06-23T11:27:14.403Z"
   },
   {
    "duration": 0,
    "start_time": "2023-06-23T11:27:14.416Z"
   },
   {
    "duration": 0,
    "start_time": "2023-06-23T11:27:14.417Z"
   },
   {
    "duration": 0,
    "start_time": "2023-06-23T11:27:14.418Z"
   },
   {
    "duration": 0,
    "start_time": "2023-06-23T11:27:14.419Z"
   },
   {
    "duration": 0,
    "start_time": "2023-06-23T11:27:14.420Z"
   },
   {
    "duration": 0,
    "start_time": "2023-06-23T11:27:14.420Z"
   },
   {
    "duration": 0,
    "start_time": "2023-06-23T11:27:14.421Z"
   },
   {
    "duration": 0,
    "start_time": "2023-06-23T11:27:14.422Z"
   },
   {
    "duration": 0,
    "start_time": "2023-06-23T11:27:14.423Z"
   },
   {
    "duration": 0,
    "start_time": "2023-06-23T11:27:14.424Z"
   },
   {
    "duration": 222478,
    "start_time": "2023-06-23T11:27:38.776Z"
   },
   {
    "duration": 3,
    "start_time": "2023-06-23T11:31:21.256Z"
   },
   {
    "duration": 39355,
    "start_time": "2023-06-23T11:31:21.261Z"
   },
   {
    "duration": 185,
    "start_time": "2023-06-23T11:32:00.618Z"
   },
   {
    "duration": 12,
    "start_time": "2023-06-23T11:32:00.805Z"
   },
   {
    "duration": 0,
    "start_time": "2023-06-23T11:32:00.818Z"
   },
   {
    "duration": 0,
    "start_time": "2023-06-23T11:32:00.820Z"
   },
   {
    "duration": 0,
    "start_time": "2023-06-23T11:32:00.821Z"
   },
   {
    "duration": 0,
    "start_time": "2023-06-23T11:32:00.822Z"
   },
   {
    "duration": 0,
    "start_time": "2023-06-23T11:32:00.824Z"
   },
   {
    "duration": 0,
    "start_time": "2023-06-23T11:32:00.825Z"
   },
   {
    "duration": 0,
    "start_time": "2023-06-23T11:32:00.827Z"
   },
   {
    "duration": 39,
    "start_time": "2023-06-23T11:36:49.656Z"
   },
   {
    "duration": 740,
    "start_time": "2023-06-23T11:36:51.351Z"
   },
   {
    "duration": 3,
    "start_time": "2023-06-23T11:37:02.288Z"
   },
   {
    "duration": 6,
    "start_time": "2023-06-23T11:37:04.126Z"
   },
   {
    "duration": 4,
    "start_time": "2023-06-23T11:37:16.152Z"
   },
   {
    "duration": 15,
    "start_time": "2023-06-23T11:37:49.948Z"
   },
   {
    "duration": 49246,
    "start_time": "2023-06-23T11:38:54.012Z"
   },
   {
    "duration": 309,
    "start_time": "2023-06-23T11:39:43.260Z"
   },
   {
    "duration": 10,
    "start_time": "2023-06-23T11:39:43.571Z"
   },
   {
    "duration": 4078,
    "start_time": "2023-06-23T11:40:10.251Z"
   },
   {
    "duration": 1045,
    "start_time": "2023-06-23T11:40:20.887Z"
   },
   {
    "duration": 42203,
    "start_time": "2023-06-23T11:41:09.730Z"
   },
   {
    "duration": 46055,
    "start_time": "2023-06-23T11:42:11.559Z"
   },
   {
    "duration": 4,
    "start_time": "2023-06-23T11:51:19.494Z"
   },
   {
    "duration": 3,
    "start_time": "2023-06-23T11:54:07.249Z"
   },
   {
    "duration": 60,
    "start_time": "2023-06-23T12:52:44.523Z"
   },
   {
    "duration": 50,
    "start_time": "2023-06-23T12:52:59.840Z"
   },
   {
    "duration": 1661,
    "start_time": "2023-06-23T12:53:00.924Z"
   },
   {
    "duration": 5,
    "start_time": "2023-06-23T12:53:03.923Z"
   },
   {
    "duration": 1178,
    "start_time": "2023-06-23T12:53:05.426Z"
   },
   {
    "duration": 111,
    "start_time": "2023-06-23T12:53:06.606Z"
   },
   {
    "duration": 26,
    "start_time": "2023-06-23T12:53:09.376Z"
   },
   {
    "duration": 6,
    "start_time": "2023-06-23T12:53:09.720Z"
   },
   {
    "duration": 401,
    "start_time": "2023-06-23T12:53:11.052Z"
   },
   {
    "duration": 832,
    "start_time": "2023-06-23T12:53:17.525Z"
   },
   {
    "duration": 6,
    "start_time": "2023-06-23T12:53:22.051Z"
   },
   {
    "duration": 42,
    "start_time": "2023-06-23T12:53:24.721Z"
   },
   {
    "duration": 44,
    "start_time": "2023-06-23T12:53:26.905Z"
   },
   {
    "duration": 28,
    "start_time": "2023-06-23T12:53:28.522Z"
   },
   {
    "duration": 35,
    "start_time": "2023-06-23T12:53:30.608Z"
   },
   {
    "duration": 16,
    "start_time": "2023-06-23T12:53:31.320Z"
   },
   {
    "duration": 28,
    "start_time": "2023-06-23T12:53:31.919Z"
   },
   {
    "duration": 101,
    "start_time": "2023-06-23T12:53:34.871Z"
   },
   {
    "duration": 46,
    "start_time": "2023-06-23T12:53:35.961Z"
   },
   {
    "duration": 29,
    "start_time": "2023-06-23T12:53:38.361Z"
   },
   {
    "duration": 5,
    "start_time": "2023-06-23T12:53:39.042Z"
   },
   {
    "duration": 7,
    "start_time": "2023-06-23T12:53:39.346Z"
   },
   {
    "duration": 32,
    "start_time": "2023-06-23T12:53:39.625Z"
   },
   {
    "duration": 25,
    "start_time": "2023-06-23T12:53:43.259Z"
   },
   {
    "duration": 22,
    "start_time": "2023-06-23T12:53:43.896Z"
   },
   {
    "duration": 6,
    "start_time": "2023-06-23T12:53:45.341Z"
   },
   {
    "duration": 24,
    "start_time": "2023-06-23T12:53:47.935Z"
   },
   {
    "duration": 18,
    "start_time": "2023-06-23T12:53:48.742Z"
   },
   {
    "duration": 4,
    "start_time": "2023-06-23T12:53:49.078Z"
   },
   {
    "duration": 3,
    "start_time": "2023-06-23T12:53:53.340Z"
   },
   {
    "duration": 42,
    "start_time": "2023-06-23T12:53:54.520Z"
   },
   {
    "duration": 9,
    "start_time": "2023-06-23T12:53:58.126Z"
   },
   {
    "duration": 21,
    "start_time": "2023-06-23T12:53:58.407Z"
   },
   {
    "duration": 3,
    "start_time": "2023-06-23T12:54:00.968Z"
   },
   {
    "duration": 325,
    "start_time": "2023-06-23T12:54:02.220Z"
   },
   {
    "duration": 9,
    "start_time": "2023-06-23T12:54:04.822Z"
   },
   {
    "duration": 6,
    "start_time": "2023-06-23T12:54:05.523Z"
   },
   {
    "duration": 5,
    "start_time": "2023-06-23T12:54:05.837Z"
   },
   {
    "duration": 7,
    "start_time": "2023-06-23T12:54:13.125Z"
   },
   {
    "duration": 39,
    "start_time": "2023-06-23T12:54:13.426Z"
   },
   {
    "duration": 6,
    "start_time": "2023-06-23T12:54:13.714Z"
   },
   {
    "duration": 22,
    "start_time": "2023-06-23T12:54:14.001Z"
   },
   {
    "duration": 28,
    "start_time": "2023-06-23T12:54:18.580Z"
   },
   {
    "duration": 424,
    "start_time": "2023-06-23T12:54:19.850Z"
   },
   {
    "duration": 7,
    "start_time": "2023-06-23T12:54:20.275Z"
   },
   {
    "duration": 4,
    "start_time": "2023-06-23T12:54:23.716Z"
   },
   {
    "duration": 165,
    "start_time": "2023-06-23T12:54:24.621Z"
   },
   {
    "duration": 37,
    "start_time": "2023-06-23T12:54:25.652Z"
   },
   {
    "duration": 204,
    "start_time": "2023-06-23T12:54:27.912Z"
   },
   {
    "duration": 240,
    "start_time": "2023-06-23T12:54:29.870Z"
   },
   {
    "duration": 248,
    "start_time": "2023-06-23T12:54:30.730Z"
   },
   {
    "duration": 43,
    "start_time": "2023-06-23T12:54:33.108Z"
   },
   {
    "duration": 26,
    "start_time": "2023-06-23T12:54:33.983Z"
   },
   {
    "duration": 4,
    "start_time": "2023-06-23T12:54:36.246Z"
   },
   {
    "duration": 13,
    "start_time": "2023-06-23T12:54:38.820Z"
   },
   {
    "duration": 23,
    "start_time": "2023-06-23T12:54:40.221Z"
   },
   {
    "duration": 18,
    "start_time": "2023-06-23T12:54:42.220Z"
   },
   {
    "duration": 4,
    "start_time": "2023-06-23T12:54:43.750Z"
   },
   {
    "duration": 123,
    "start_time": "2023-06-23T12:54:47.713Z"
   },
   {
    "duration": 131,
    "start_time": "2023-06-23T12:54:53.048Z"
   },
   {
    "duration": 1931,
    "start_time": "2023-06-23T12:55:13.319Z"
   },
   {
    "duration": 14,
    "start_time": "2023-06-23T12:55:36.828Z"
   },
   {
    "duration": 1978,
    "start_time": "2023-06-23T12:56:06.874Z"
   },
   {
    "duration": 1935,
    "start_time": "2023-06-23T12:56:32.324Z"
   },
   {
    "duration": 14,
    "start_time": "2023-06-23T12:56:36.232Z"
   },
   {
    "duration": 219,
    "start_time": "2023-06-23T12:57:42.127Z"
   },
   {
    "duration": 20,
    "start_time": "2023-06-23T12:57:49.620Z"
   },
   {
    "duration": 28,
    "start_time": "2023-06-23T12:57:54.142Z"
   },
   {
    "duration": 31,
    "start_time": "2023-06-23T12:57:54.440Z"
   },
   {
    "duration": 16003,
    "start_time": "2023-06-23T13:00:40.755Z"
   },
   {
    "duration": 17844,
    "start_time": "2023-06-23T13:01:58.453Z"
   },
   {
    "duration": 7,
    "start_time": "2023-06-23T13:02:16.301Z"
   },
   {
    "duration": 41,
    "start_time": "2023-06-23T13:02:16.312Z"
   },
   {
    "duration": 5,
    "start_time": "2023-06-23T13:03:51.043Z"
   },
   {
    "duration": 36,
    "start_time": "2023-06-23T13:03:51.627Z"
   },
   {
    "duration": 153,
    "start_time": "2023-06-23T13:03:56.431Z"
   },
   {
    "duration": 190,
    "start_time": "2023-06-23T13:04:02.548Z"
   },
   {
    "duration": 3,
    "start_time": "2023-06-23T13:04:08.137Z"
   },
   {
    "duration": 357,
    "start_time": "2023-06-23T13:05:03.142Z"
   },
   {
    "duration": 48,
    "start_time": "2023-06-23T13:06:24.940Z"
   },
   {
    "duration": 1548,
    "start_time": "2023-06-23T13:06:24.989Z"
   },
   {
    "duration": 4,
    "start_time": "2023-06-23T13:06:26.538Z"
   },
   {
    "duration": 797,
    "start_time": "2023-06-23T13:06:26.545Z"
   },
   {
    "duration": 114,
    "start_time": "2023-06-23T13:06:27.343Z"
   },
   {
    "duration": 28,
    "start_time": "2023-06-23T13:06:27.458Z"
   },
   {
    "duration": 2,
    "start_time": "2023-06-23T13:06:27.487Z"
   },
   {
    "duration": 429,
    "start_time": "2023-06-23T13:06:27.491Z"
   },
   {
    "duration": 618,
    "start_time": "2023-06-23T13:06:27.922Z"
   },
   {
    "duration": 2,
    "start_time": "2023-06-23T13:06:28.542Z"
   },
   {
    "duration": 50,
    "start_time": "2023-06-23T13:06:28.545Z"
   },
   {
    "duration": 46,
    "start_time": "2023-06-23T13:06:28.602Z"
   },
   {
    "duration": 32,
    "start_time": "2023-06-23T13:06:28.649Z"
   },
   {
    "duration": 43,
    "start_time": "2023-06-23T13:06:28.682Z"
   },
   {
    "duration": 12,
    "start_time": "2023-06-23T13:06:28.727Z"
   },
   {
    "duration": 28,
    "start_time": "2023-06-23T13:06:28.741Z"
   },
   {
    "duration": 112,
    "start_time": "2023-06-23T13:06:28.771Z"
   },
   {
    "duration": 54,
    "start_time": "2023-06-23T13:06:28.884Z"
   },
   {
    "duration": 36,
    "start_time": "2023-06-23T13:06:28.939Z"
   },
   {
    "duration": 4,
    "start_time": "2023-06-23T13:06:28.976Z"
   },
   {
    "duration": 11,
    "start_time": "2023-06-23T13:06:28.982Z"
   },
   {
    "duration": 54,
    "start_time": "2023-06-23T13:06:28.999Z"
   },
   {
    "duration": 26,
    "start_time": "2023-06-23T13:06:29.054Z"
   },
   {
    "duration": 22,
    "start_time": "2023-06-23T13:06:29.081Z"
   },
   {
    "duration": 7,
    "start_time": "2023-06-23T13:06:29.105Z"
   },
   {
    "duration": 35,
    "start_time": "2023-06-23T13:06:29.113Z"
   },
   {
    "duration": 30,
    "start_time": "2023-06-23T13:06:29.150Z"
   },
   {
    "duration": 4,
    "start_time": "2023-06-23T13:06:29.183Z"
   },
   {
    "duration": 7,
    "start_time": "2023-06-23T13:06:29.189Z"
   },
   {
    "duration": 66,
    "start_time": "2023-06-23T13:06:29.197Z"
   },
   {
    "duration": 9,
    "start_time": "2023-06-23T13:06:29.264Z"
   },
   {
    "duration": 20,
    "start_time": "2023-06-23T13:06:29.274Z"
   },
   {
    "duration": 8,
    "start_time": "2023-06-23T13:06:29.295Z"
   },
   {
    "duration": 320,
    "start_time": "2023-06-23T13:06:29.305Z"
   },
   {
    "duration": 7,
    "start_time": "2023-06-23T13:06:29.627Z"
   },
   {
    "duration": 6,
    "start_time": "2023-06-23T13:06:29.636Z"
   },
   {
    "duration": 5,
    "start_time": "2023-06-23T13:06:29.643Z"
   },
   {
    "duration": 6,
    "start_time": "2023-06-23T13:06:29.649Z"
   },
   {
    "duration": 51,
    "start_time": "2023-06-23T13:06:29.656Z"
   },
   {
    "duration": 5,
    "start_time": "2023-06-23T13:06:29.709Z"
   },
   {
    "duration": 20,
    "start_time": "2023-06-23T13:06:29.716Z"
   },
   {
    "duration": 25,
    "start_time": "2023-06-23T13:06:29.738Z"
   },
   {
    "duration": 440,
    "start_time": "2023-06-23T13:06:29.765Z"
   },
   {
    "duration": 12,
    "start_time": "2023-06-23T13:06:30.207Z"
   },
   {
    "duration": 39,
    "start_time": "2023-06-23T13:06:30.220Z"
   },
   {
    "duration": 216,
    "start_time": "2023-06-23T13:06:30.261Z"
   },
   {
    "duration": 54,
    "start_time": "2023-06-23T13:06:30.478Z"
   },
   {
    "duration": 241,
    "start_time": "2023-06-23T13:06:30.534Z"
   },
   {
    "duration": 274,
    "start_time": "2023-06-23T13:06:30.777Z"
   },
   {
    "duration": 271,
    "start_time": "2023-06-23T13:06:31.053Z"
   },
   {
    "duration": 34,
    "start_time": "2023-06-23T13:06:31.325Z"
   },
   {
    "duration": 38,
    "start_time": "2023-06-23T13:06:31.361Z"
   },
   {
    "duration": 40,
    "start_time": "2023-06-23T13:06:31.401Z"
   },
   {
    "duration": 97,
    "start_time": "2023-06-23T13:06:31.442Z"
   },
   {
    "duration": 64,
    "start_time": "2023-06-23T13:06:31.541Z"
   },
   {
    "duration": 33,
    "start_time": "2023-06-23T13:06:31.608Z"
   },
   {
    "duration": 36,
    "start_time": "2023-06-23T13:06:31.642Z"
   },
   {
    "duration": 142,
    "start_time": "2023-06-23T13:06:31.680Z"
   },
   {
    "duration": 15736,
    "start_time": "2023-06-23T13:06:31.823Z"
   },
   {
    "duration": 18,
    "start_time": "2023-06-23T13:06:47.561Z"
   },
   {
    "duration": 58,
    "start_time": "2023-06-23T13:06:47.580Z"
   },
   {
    "duration": 231,
    "start_time": "2023-06-23T13:06:47.640Z"
   },
   {
    "duration": 17,
    "start_time": "2023-06-23T13:06:47.873Z"
   },
   {
    "duration": 51,
    "start_time": "2023-06-23T13:06:47.891Z"
   },
   {
    "duration": 31,
    "start_time": "2023-06-23T13:06:47.944Z"
   },
   {
    "duration": 16010,
    "start_time": "2023-06-23T13:06:47.977Z"
   },
   {
    "duration": 16285,
    "start_time": "2023-06-23T13:07:03.989Z"
   },
   {
    "duration": 6,
    "start_time": "2023-06-23T13:07:20.276Z"
   },
   {
    "duration": 72,
    "start_time": "2023-06-23T13:07:20.284Z"
   },
   {
    "duration": 139,
    "start_time": "2023-06-23T13:07:20.358Z"
   },
   {
    "duration": 195,
    "start_time": "2023-06-23T13:07:20.498Z"
   },
   {
    "duration": 11,
    "start_time": "2023-06-23T13:07:20.695Z"
   },
   {
    "duration": 356,
    "start_time": "2023-06-23T13:07:20.708Z"
   },
   {
    "duration": 20,
    "start_time": "2023-06-23T13:07:21.065Z"
   },
   {
    "duration": 119,
    "start_time": "2023-06-23T13:07:21.087Z"
   },
   {
    "duration": 32,
    "start_time": "2023-06-23T13:07:21.208Z"
   },
   {
    "duration": 4,
    "start_time": "2023-06-23T13:07:21.242Z"
   },
   {
    "duration": 28,
    "start_time": "2023-06-23T13:07:21.248Z"
   },
   {
    "duration": 1312,
    "start_time": "2023-06-23T13:07:21.277Z"
   },
   {
    "duration": 0,
    "start_time": "2023-06-23T13:07:22.591Z"
   },
   {
    "duration": 0,
    "start_time": "2023-06-23T13:07:22.592Z"
   },
   {
    "duration": 0,
    "start_time": "2023-06-23T13:07:22.593Z"
   },
   {
    "duration": 0,
    "start_time": "2023-06-23T13:07:22.604Z"
   },
   {
    "duration": 0,
    "start_time": "2023-06-23T13:07:22.605Z"
   },
   {
    "duration": 0,
    "start_time": "2023-06-23T13:07:22.606Z"
   },
   {
    "duration": 0,
    "start_time": "2023-06-23T13:07:22.608Z"
   },
   {
    "duration": 0,
    "start_time": "2023-06-23T13:07:22.609Z"
   },
   {
    "duration": 0,
    "start_time": "2023-06-23T13:07:22.610Z"
   },
   {
    "duration": 0,
    "start_time": "2023-06-23T13:07:22.611Z"
   },
   {
    "duration": 0,
    "start_time": "2023-06-23T13:07:22.612Z"
   },
   {
    "duration": 0,
    "start_time": "2023-06-23T13:07:22.613Z"
   },
   {
    "duration": 0,
    "start_time": "2023-06-23T13:07:22.614Z"
   },
   {
    "duration": 0,
    "start_time": "2023-06-23T13:07:22.615Z"
   },
   {
    "duration": 0,
    "start_time": "2023-06-23T13:07:22.617Z"
   },
   {
    "duration": 0,
    "start_time": "2023-06-23T13:07:22.618Z"
   },
   {
    "duration": 0,
    "start_time": "2023-06-23T13:07:22.619Z"
   },
   {
    "duration": 0,
    "start_time": "2023-06-23T13:07:22.620Z"
   },
   {
    "duration": 0,
    "start_time": "2023-06-23T13:07:22.621Z"
   },
   {
    "duration": 0,
    "start_time": "2023-06-23T13:07:22.622Z"
   },
   {
    "duration": 0,
    "start_time": "2023-06-23T13:07:22.624Z"
   },
   {
    "duration": 0,
    "start_time": "2023-06-23T13:07:22.625Z"
   },
   {
    "duration": 0,
    "start_time": "2023-06-23T13:07:22.626Z"
   },
   {
    "duration": 0,
    "start_time": "2023-06-23T13:07:22.627Z"
   },
   {
    "duration": 0,
    "start_time": "2023-06-23T13:07:22.629Z"
   },
   {
    "duration": 0,
    "start_time": "2023-06-23T13:07:22.630Z"
   },
   {
    "duration": 0,
    "start_time": "2023-06-23T13:07:22.631Z"
   },
   {
    "duration": 1,
    "start_time": "2023-06-23T13:07:22.632Z"
   },
   {
    "duration": 0,
    "start_time": "2023-06-23T13:07:22.634Z"
   },
   {
    "duration": 0,
    "start_time": "2023-06-23T13:07:22.636Z"
   },
   {
    "duration": 1,
    "start_time": "2023-06-23T13:07:22.636Z"
   },
   {
    "duration": 0,
    "start_time": "2023-06-23T13:07:22.638Z"
   },
   {
    "duration": 0,
    "start_time": "2023-06-23T13:07:22.639Z"
   },
   {
    "duration": 0,
    "start_time": "2023-06-23T13:07:22.640Z"
   },
   {
    "duration": 0,
    "start_time": "2023-06-23T13:07:22.642Z"
   },
   {
    "duration": 0,
    "start_time": "2023-06-23T13:07:22.643Z"
   },
   {
    "duration": 0,
    "start_time": "2023-06-23T13:07:22.644Z"
   },
   {
    "duration": 8,
    "start_time": "2023-06-23T13:16:37.772Z"
   },
   {
    "duration": 8,
    "start_time": "2023-06-23T13:16:43.596Z"
   },
   {
    "duration": 17,
    "start_time": "2023-06-23T13:17:21.263Z"
   },
   {
    "duration": 183,
    "start_time": "2023-06-23T13:17:44.413Z"
   },
   {
    "duration": 65,
    "start_time": "2023-06-23T13:18:33.112Z"
   },
   {
    "duration": 217,
    "start_time": "2023-06-23T13:18:37.025Z"
   },
   {
    "duration": 81,
    "start_time": "2023-06-23T13:19:04.138Z"
   },
   {
    "duration": 107,
    "start_time": "2023-06-23T13:19:42.972Z"
   },
   {
    "duration": 114,
    "start_time": "2023-06-23T13:19:50.714Z"
   },
   {
    "duration": 91,
    "start_time": "2023-06-23T13:19:58.057Z"
   },
   {
    "duration": 57,
    "start_time": "2023-06-23T13:22:16.118Z"
   },
   {
    "duration": 1489,
    "start_time": "2023-06-23T13:22:16.177Z"
   },
   {
    "duration": 4,
    "start_time": "2023-06-23T13:22:17.668Z"
   },
   {
    "duration": 849,
    "start_time": "2023-06-23T13:22:17.674Z"
   },
   {
    "duration": 114,
    "start_time": "2023-06-23T13:22:18.525Z"
   },
   {
    "duration": 30,
    "start_time": "2023-06-23T13:22:18.641Z"
   },
   {
    "duration": 2,
    "start_time": "2023-06-23T13:22:18.672Z"
   },
   {
    "duration": 469,
    "start_time": "2023-06-23T13:22:18.675Z"
   },
   {
    "duration": 644,
    "start_time": "2023-06-23T13:22:19.146Z"
   },
   {
    "duration": 2,
    "start_time": "2023-06-23T13:22:19.792Z"
   },
   {
    "duration": 102,
    "start_time": "2023-06-23T13:22:19.799Z"
   },
   {
    "duration": 40,
    "start_time": "2023-06-23T13:22:19.913Z"
   },
   {
    "duration": 79,
    "start_time": "2023-06-23T13:22:19.954Z"
   },
   {
    "duration": 84,
    "start_time": "2023-06-23T13:22:20.034Z"
   },
   {
    "duration": 28,
    "start_time": "2023-06-23T13:22:20.122Z"
   },
   {
    "duration": 71,
    "start_time": "2023-06-23T13:22:20.151Z"
   },
   {
    "duration": 103,
    "start_time": "2023-06-23T13:22:20.224Z"
   },
   {
    "duration": 32,
    "start_time": "2023-06-23T13:22:20.331Z"
   },
   {
    "duration": 69,
    "start_time": "2023-06-23T13:22:20.365Z"
   },
   {
    "duration": 31,
    "start_time": "2023-06-23T13:22:20.436Z"
   },
   {
    "duration": 38,
    "start_time": "2023-06-23T13:22:20.468Z"
   },
   {
    "duration": 64,
    "start_time": "2023-06-23T13:22:20.507Z"
   },
   {
    "duration": 24,
    "start_time": "2023-06-23T13:22:20.572Z"
   },
   {
    "duration": 60,
    "start_time": "2023-06-23T13:22:20.598Z"
   },
   {
    "duration": 21,
    "start_time": "2023-06-23T13:22:20.660Z"
   },
   {
    "duration": 64,
    "start_time": "2023-06-23T13:22:20.682Z"
   },
   {
    "duration": 35,
    "start_time": "2023-06-23T13:22:20.747Z"
   },
   {
    "duration": 7,
    "start_time": "2023-06-23T13:22:20.785Z"
   },
   {
    "duration": 50,
    "start_time": "2023-06-23T13:22:20.793Z"
   },
   {
    "duration": 52,
    "start_time": "2023-06-23T13:22:20.844Z"
   },
   {
    "duration": 14,
    "start_time": "2023-06-23T13:22:20.898Z"
   },
   {
    "duration": 33,
    "start_time": "2023-06-23T13:22:20.925Z"
   },
   {
    "duration": 18,
    "start_time": "2023-06-23T13:22:20.960Z"
   },
   {
    "duration": 315,
    "start_time": "2023-06-23T13:22:20.979Z"
   },
   {
    "duration": 9,
    "start_time": "2023-06-23T13:22:21.296Z"
   },
   {
    "duration": 30,
    "start_time": "2023-06-23T13:22:21.307Z"
   },
   {
    "duration": 17,
    "start_time": "2023-06-23T13:22:21.339Z"
   },
   {
    "duration": 32,
    "start_time": "2023-06-23T13:22:21.357Z"
   },
   {
    "duration": 65,
    "start_time": "2023-06-23T13:22:21.391Z"
   },
   {
    "duration": 13,
    "start_time": "2023-06-23T13:22:21.458Z"
   },
   {
    "duration": 54,
    "start_time": "2023-06-23T13:22:21.472Z"
   },
   {
    "duration": 30,
    "start_time": "2023-06-23T13:22:21.528Z"
   },
   {
    "duration": 434,
    "start_time": "2023-06-23T13:22:21.560Z"
   },
   {
    "duration": 13,
    "start_time": "2023-06-23T13:22:21.999Z"
   },
   {
    "duration": 46,
    "start_time": "2023-06-23T13:22:22.014Z"
   },
   {
    "duration": 208,
    "start_time": "2023-06-23T13:22:22.061Z"
   },
   {
    "duration": 44,
    "start_time": "2023-06-23T13:22:22.270Z"
   },
   {
    "duration": 255,
    "start_time": "2023-06-23T13:22:22.316Z"
   },
   {
    "duration": 241,
    "start_time": "2023-06-23T13:22:22.573Z"
   },
   {
    "duration": 261,
    "start_time": "2023-06-23T13:22:22.817Z"
   },
   {
    "duration": 38,
    "start_time": "2023-06-23T13:22:23.079Z"
   },
   {
    "duration": 23,
    "start_time": "2023-06-23T13:22:23.119Z"
   },
   {
    "duration": 12,
    "start_time": "2023-06-23T13:22:23.144Z"
   },
   {
    "duration": 19,
    "start_time": "2023-06-23T13:22:23.157Z"
   },
   {
    "duration": 45,
    "start_time": "2023-06-23T13:22:23.177Z"
   },
   {
    "duration": 23,
    "start_time": "2023-06-23T13:22:23.225Z"
   },
   {
    "duration": 21,
    "start_time": "2023-06-23T13:22:23.250Z"
   },
   {
    "duration": 127,
    "start_time": "2023-06-23T13:22:23.272Z"
   },
   {
    "duration": 15357,
    "start_time": "2023-06-23T13:22:23.401Z"
   },
   {
    "duration": 13,
    "start_time": "2023-06-23T13:22:38.760Z"
   },
   {
    "duration": 76,
    "start_time": "2023-06-23T13:22:38.774Z"
   },
   {
    "duration": 208,
    "start_time": "2023-06-23T13:22:38.852Z"
   },
   {
    "duration": 18,
    "start_time": "2023-06-23T13:22:39.061Z"
   },
   {
    "duration": 84,
    "start_time": "2023-06-23T13:22:39.080Z"
   },
   {
    "duration": 73,
    "start_time": "2023-06-23T13:22:39.166Z"
   },
   {
    "duration": 15995,
    "start_time": "2023-06-23T13:22:39.241Z"
   },
   {
    "duration": 15784,
    "start_time": "2023-06-23T13:22:55.237Z"
   },
   {
    "duration": 7,
    "start_time": "2023-06-23T13:23:11.025Z"
   },
   {
    "duration": 28,
    "start_time": "2023-06-23T13:23:11.033Z"
   },
   {
    "duration": 139,
    "start_time": "2023-06-23T13:23:11.062Z"
   },
   {
    "duration": 180,
    "start_time": "2023-06-23T13:23:11.203Z"
   },
   {
    "duration": 4,
    "start_time": "2023-06-23T13:23:11.384Z"
   },
   {
    "duration": 352,
    "start_time": "2023-06-23T13:23:11.389Z"
   },
   {
    "duration": 19,
    "start_time": "2023-06-23T13:23:11.743Z"
   },
   {
    "duration": 69,
    "start_time": "2023-06-23T13:23:11.763Z"
   },
   {
    "duration": 26,
    "start_time": "2023-06-23T13:23:11.834Z"
   },
   {
    "duration": 26,
    "start_time": "2023-06-23T13:23:11.861Z"
   },
   {
    "duration": 21,
    "start_time": "2023-06-23T13:23:11.888Z"
   },
   {
    "duration": 80,
    "start_time": "2023-06-23T13:23:11.911Z"
   },
   {
    "duration": 95,
    "start_time": "2023-06-23T13:23:11.992Z"
   },
   {
    "duration": 799,
    "start_time": "2023-06-23T13:23:12.088Z"
   },
   {
    "duration": 169,
    "start_time": "2023-06-23T13:23:12.893Z"
   },
   {
    "duration": 0,
    "start_time": "2023-06-23T13:23:13.063Z"
   },
   {
    "duration": 0,
    "start_time": "2023-06-23T13:23:13.065Z"
   },
   {
    "duration": 0,
    "start_time": "2023-06-23T13:23:13.066Z"
   },
   {
    "duration": 0,
    "start_time": "2023-06-23T13:23:13.068Z"
   },
   {
    "duration": 0,
    "start_time": "2023-06-23T13:23:13.069Z"
   },
   {
    "duration": 0,
    "start_time": "2023-06-23T13:23:13.070Z"
   },
   {
    "duration": 0,
    "start_time": "2023-06-23T13:23:13.071Z"
   },
   {
    "duration": 0,
    "start_time": "2023-06-23T13:23:13.072Z"
   },
   {
    "duration": 0,
    "start_time": "2023-06-23T13:23:13.074Z"
   },
   {
    "duration": 0,
    "start_time": "2023-06-23T13:23:13.075Z"
   },
   {
    "duration": 0,
    "start_time": "2023-06-23T13:23:13.076Z"
   },
   {
    "duration": 0,
    "start_time": "2023-06-23T13:23:13.102Z"
   },
   {
    "duration": 0,
    "start_time": "2023-06-23T13:23:13.103Z"
   },
   {
    "duration": 0,
    "start_time": "2023-06-23T13:23:13.104Z"
   },
   {
    "duration": 0,
    "start_time": "2023-06-23T13:23:13.105Z"
   },
   {
    "duration": 0,
    "start_time": "2023-06-23T13:23:13.106Z"
   },
   {
    "duration": 0,
    "start_time": "2023-06-23T13:23:13.107Z"
   },
   {
    "duration": 0,
    "start_time": "2023-06-23T13:23:13.108Z"
   },
   {
    "duration": 0,
    "start_time": "2023-06-23T13:23:13.109Z"
   },
   {
    "duration": 0,
    "start_time": "2023-06-23T13:23:13.110Z"
   },
   {
    "duration": 0,
    "start_time": "2023-06-23T13:23:13.111Z"
   },
   {
    "duration": 0,
    "start_time": "2023-06-23T13:23:13.112Z"
   },
   {
    "duration": 0,
    "start_time": "2023-06-23T13:23:13.113Z"
   },
   {
    "duration": 0,
    "start_time": "2023-06-23T13:23:13.114Z"
   },
   {
    "duration": 0,
    "start_time": "2023-06-23T13:23:13.116Z"
   },
   {
    "duration": 0,
    "start_time": "2023-06-23T13:23:13.117Z"
   },
   {
    "duration": 0,
    "start_time": "2023-06-23T13:23:13.118Z"
   },
   {
    "duration": 0,
    "start_time": "2023-06-23T13:23:13.118Z"
   },
   {
    "duration": 0,
    "start_time": "2023-06-23T13:23:13.119Z"
   },
   {
    "duration": 0,
    "start_time": "2023-06-23T13:23:13.120Z"
   },
   {
    "duration": 0,
    "start_time": "2023-06-23T13:23:13.121Z"
   },
   {
    "duration": 0,
    "start_time": "2023-06-23T13:23:13.122Z"
   },
   {
    "duration": 0,
    "start_time": "2023-06-23T13:23:13.123Z"
   },
   {
    "duration": 0,
    "start_time": "2023-06-23T13:23:13.124Z"
   },
   {
    "duration": 0,
    "start_time": "2023-06-23T13:23:13.125Z"
   },
   {
    "duration": 0,
    "start_time": "2023-06-23T13:23:13.126Z"
   },
   {
    "duration": 0,
    "start_time": "2023-06-23T13:23:13.127Z"
   },
   {
    "duration": 19,
    "start_time": "2023-06-23T13:29:50.616Z"
   },
   {
    "duration": 91,
    "start_time": "2023-06-23T13:30:51.826Z"
   },
   {
    "duration": 103,
    "start_time": "2023-06-23T13:30:54.430Z"
   },
   {
    "duration": 189,
    "start_time": "2023-06-23T13:30:57.378Z"
   },
   {
    "duration": 51,
    "start_time": "2023-06-23T13:31:03.741Z"
   },
   {
    "duration": 1392,
    "start_time": "2023-06-23T13:31:03.794Z"
   },
   {
    "duration": 4,
    "start_time": "2023-06-23T13:31:05.188Z"
   },
   {
    "duration": 767,
    "start_time": "2023-06-23T13:31:05.199Z"
   },
   {
    "duration": 155,
    "start_time": "2023-06-23T13:31:05.968Z"
   },
   {
    "duration": 27,
    "start_time": "2023-06-23T13:31:06.125Z"
   },
   {
    "duration": 10,
    "start_time": "2023-06-23T13:31:06.154Z"
   },
   {
    "duration": 416,
    "start_time": "2023-06-23T13:31:06.166Z"
   },
   {
    "duration": 583,
    "start_time": "2023-06-23T13:31:06.584Z"
   },
   {
    "duration": 2,
    "start_time": "2023-06-23T13:31:07.169Z"
   },
   {
    "duration": 68,
    "start_time": "2023-06-23T13:31:07.173Z"
   },
   {
    "duration": 38,
    "start_time": "2023-06-23T13:31:07.242Z"
   },
   {
    "duration": 40,
    "start_time": "2023-06-23T13:31:07.282Z"
   },
   {
    "duration": 23,
    "start_time": "2023-06-23T13:31:07.323Z"
   },
   {
    "duration": 12,
    "start_time": "2023-06-23T13:31:07.347Z"
   },
   {
    "duration": 42,
    "start_time": "2023-06-23T13:31:07.360Z"
   },
   {
    "duration": 85,
    "start_time": "2023-06-23T13:31:07.404Z"
   },
   {
    "duration": 46,
    "start_time": "2023-06-23T13:31:07.490Z"
   },
   {
    "duration": 44,
    "start_time": "2023-06-23T13:31:07.537Z"
   },
   {
    "duration": 4,
    "start_time": "2023-06-23T13:31:07.583Z"
   },
   {
    "duration": 36,
    "start_time": "2023-06-23T13:31:07.589Z"
   },
   {
    "duration": 59,
    "start_time": "2023-06-23T13:31:07.627Z"
   },
   {
    "duration": 27,
    "start_time": "2023-06-23T13:31:07.688Z"
   },
   {
    "duration": 18,
    "start_time": "2023-06-23T13:31:07.717Z"
   },
   {
    "duration": 5,
    "start_time": "2023-06-23T13:31:07.736Z"
   },
   {
    "duration": 45,
    "start_time": "2023-06-23T13:31:07.743Z"
   },
   {
    "duration": 18,
    "start_time": "2023-06-23T13:31:07.789Z"
   },
   {
    "duration": 9,
    "start_time": "2023-06-23T13:31:07.810Z"
   },
   {
    "duration": 8,
    "start_time": "2023-06-23T13:31:07.820Z"
   },
   {
    "duration": 55,
    "start_time": "2023-06-23T13:31:07.829Z"
   },
   {
    "duration": 8,
    "start_time": "2023-06-23T13:31:07.885Z"
   },
   {
    "duration": 18,
    "start_time": "2023-06-23T13:31:07.895Z"
   },
   {
    "duration": 3,
    "start_time": "2023-06-23T13:31:07.914Z"
   },
   {
    "duration": 293,
    "start_time": "2023-06-23T13:31:07.918Z"
   },
   {
    "duration": 10,
    "start_time": "2023-06-23T13:31:08.212Z"
   },
   {
    "duration": 11,
    "start_time": "2023-06-23T13:31:08.223Z"
   },
   {
    "duration": 4,
    "start_time": "2023-06-23T13:31:08.235Z"
   },
   {
    "duration": 5,
    "start_time": "2023-06-23T13:31:08.241Z"
   },
   {
    "duration": 26,
    "start_time": "2023-06-23T13:31:08.248Z"
   },
   {
    "duration": 25,
    "start_time": "2023-06-23T13:31:08.275Z"
   },
   {
    "duration": 15,
    "start_time": "2023-06-23T13:31:08.301Z"
   },
   {
    "duration": 38,
    "start_time": "2023-06-23T13:31:08.317Z"
   },
   {
    "duration": 418,
    "start_time": "2023-06-23T13:31:08.356Z"
   },
   {
    "duration": 9,
    "start_time": "2023-06-23T13:31:08.776Z"
   },
   {
    "duration": 20,
    "start_time": "2023-06-23T13:31:08.786Z"
   },
   {
    "duration": 161,
    "start_time": "2023-06-23T13:31:08.807Z"
   },
   {
    "duration": 47,
    "start_time": "2023-06-23T13:31:08.969Z"
   },
   {
    "duration": 203,
    "start_time": "2023-06-23T13:31:09.017Z"
   },
   {
    "duration": 223,
    "start_time": "2023-06-23T13:31:09.222Z"
   },
   {
    "duration": 237,
    "start_time": "2023-06-23T13:31:09.447Z"
   },
   {
    "duration": 31,
    "start_time": "2023-06-23T13:31:09.686Z"
   },
   {
    "duration": 20,
    "start_time": "2023-06-23T13:31:09.719Z"
   },
   {
    "duration": 8,
    "start_time": "2023-06-23T13:31:09.740Z"
   },
   {
    "duration": 15,
    "start_time": "2023-06-23T13:31:09.750Z"
   },
   {
    "duration": 37,
    "start_time": "2023-06-23T13:31:09.766Z"
   },
   {
    "duration": 17,
    "start_time": "2023-06-23T13:31:09.805Z"
   },
   {
    "duration": 12,
    "start_time": "2023-06-23T13:31:09.824Z"
   },
   {
    "duration": 126,
    "start_time": "2023-06-23T13:31:09.837Z"
   },
   {
    "duration": 17221,
    "start_time": "2023-06-23T13:31:09.965Z"
   },
   {
    "duration": 14,
    "start_time": "2023-06-23T13:31:27.187Z"
   },
   {
    "duration": 40,
    "start_time": "2023-06-23T13:31:27.203Z"
   },
   {
    "duration": 184,
    "start_time": "2023-06-23T13:31:27.244Z"
   },
   {
    "duration": 17,
    "start_time": "2023-06-23T13:31:27.429Z"
   },
   {
    "duration": 32,
    "start_time": "2023-06-23T13:31:27.448Z"
   },
   {
    "duration": 44,
    "start_time": "2023-06-23T13:31:27.481Z"
   },
   {
    "duration": 13892,
    "start_time": "2023-06-23T13:31:27.527Z"
   },
   {
    "duration": 14546,
    "start_time": "2023-06-23T13:31:41.420Z"
   },
   {
    "duration": 7,
    "start_time": "2023-06-23T13:31:55.968Z"
   },
   {
    "duration": 37,
    "start_time": "2023-06-23T13:31:55.977Z"
   },
   {
    "duration": 221,
    "start_time": "2023-06-23T13:31:56.017Z"
   },
   {
    "duration": 201,
    "start_time": "2023-06-23T13:31:56.241Z"
   },
   {
    "duration": 4,
    "start_time": "2023-06-23T13:31:56.445Z"
   },
   {
    "duration": 415,
    "start_time": "2023-06-23T13:31:56.450Z"
   },
   {
    "duration": 20,
    "start_time": "2023-06-23T13:31:56.867Z"
   },
   {
    "duration": 55,
    "start_time": "2023-06-23T13:31:56.888Z"
   },
   {
    "duration": 26,
    "start_time": "2023-06-23T13:31:56.945Z"
   },
   {
    "duration": 3,
    "start_time": "2023-06-23T13:31:56.972Z"
   },
   {
    "duration": 4,
    "start_time": "2023-06-23T13:31:56.977Z"
   },
   {
    "duration": 64,
    "start_time": "2023-06-23T13:31:56.999Z"
   },
   {
    "duration": 100,
    "start_time": "2023-06-23T13:31:57.064Z"
   },
   {
    "duration": 790,
    "start_time": "2023-06-23T13:31:57.165Z"
   },
   {
    "duration": 176,
    "start_time": "2023-06-23T13:31:57.961Z"
   },
   {
    "duration": 9,
    "start_time": "2023-06-23T13:31:58.139Z"
   },
   {
    "duration": 98,
    "start_time": "2023-06-23T13:31:58.150Z"
   },
   {
    "duration": 14,
    "start_time": "2023-06-23T13:31:58.250Z"
   },
   {
    "duration": 35,
    "start_time": "2023-06-23T13:31:58.265Z"
   },
   {
    "duration": 734,
    "start_time": "2023-06-23T13:31:58.301Z"
   },
   {
    "duration": 263,
    "start_time": "2023-06-23T13:31:59.036Z"
   },
   {
    "duration": 2,
    "start_time": "2023-06-23T13:31:59.301Z"
   },
   {
    "duration": 14668,
    "start_time": "2023-06-23T13:31:59.304Z"
   },
   {
    "duration": 2923,
    "start_time": "2023-06-23T13:32:13.973Z"
   },
   {
    "duration": 4,
    "start_time": "2023-06-23T13:32:16.900Z"
   },
   {
    "duration": 816,
    "start_time": "2023-06-23T13:32:16.906Z"
   },
   {
    "duration": 25,
    "start_time": "2023-06-23T13:32:17.724Z"
   },
   {
    "duration": 3,
    "start_time": "2023-06-23T13:32:17.751Z"
   },
   {
    "duration": 49,
    "start_time": "2023-06-23T13:33:01.595Z"
   },
   {
    "duration": 1439,
    "start_time": "2023-06-23T13:33:01.646Z"
   },
   {
    "duration": 4,
    "start_time": "2023-06-23T13:33:03.087Z"
   },
   {
    "duration": 739,
    "start_time": "2023-06-23T13:33:03.093Z"
   },
   {
    "duration": 108,
    "start_time": "2023-06-23T13:33:03.834Z"
   },
   {
    "duration": 37,
    "start_time": "2023-06-23T13:33:03.943Z"
   },
   {
    "duration": 5,
    "start_time": "2023-06-23T13:33:03.982Z"
   },
   {
    "duration": 401,
    "start_time": "2023-06-23T13:33:03.989Z"
   },
   {
    "duration": 592,
    "start_time": "2023-06-23T13:33:04.392Z"
   },
   {
    "duration": 2,
    "start_time": "2023-06-23T13:33:04.988Z"
   },
   {
    "duration": 60,
    "start_time": "2023-06-23T13:33:04.991Z"
   },
   {
    "duration": 46,
    "start_time": "2023-06-23T13:33:05.053Z"
   },
   {
    "duration": 38,
    "start_time": "2023-06-23T13:33:05.101Z"
   },
   {
    "duration": 24,
    "start_time": "2023-06-23T13:33:05.140Z"
   },
   {
    "duration": 12,
    "start_time": "2023-06-23T13:33:05.166Z"
   },
   {
    "duration": 55,
    "start_time": "2023-06-23T13:33:05.180Z"
   },
   {
    "duration": 110,
    "start_time": "2023-06-23T13:33:05.236Z"
   },
   {
    "duration": 35,
    "start_time": "2023-06-23T13:33:05.348Z"
   },
   {
    "duration": 53,
    "start_time": "2023-06-23T13:33:05.385Z"
   },
   {
    "duration": 11,
    "start_time": "2023-06-23T13:33:05.439Z"
   },
   {
    "duration": 71,
    "start_time": "2023-06-23T13:33:05.451Z"
   },
   {
    "duration": 59,
    "start_time": "2023-06-23T13:33:05.524Z"
   },
   {
    "duration": 29,
    "start_time": "2023-06-23T13:33:05.585Z"
   },
   {
    "duration": 31,
    "start_time": "2023-06-23T13:33:05.616Z"
   },
   {
    "duration": 61,
    "start_time": "2023-06-23T13:33:05.648Z"
   },
   {
    "duration": 86,
    "start_time": "2023-06-23T13:33:05.710Z"
   },
   {
    "duration": 21,
    "start_time": "2023-06-23T13:33:05.797Z"
   },
   {
    "duration": 48,
    "start_time": "2023-06-23T13:33:05.822Z"
   },
   {
    "duration": 26,
    "start_time": "2023-06-23T13:33:05.871Z"
   },
   {
    "duration": 89,
    "start_time": "2023-06-23T13:33:05.898Z"
   },
   {
    "duration": 12,
    "start_time": "2023-06-23T13:33:05.990Z"
   },
   {
    "duration": 80,
    "start_time": "2023-06-23T13:33:06.005Z"
   },
   {
    "duration": 23,
    "start_time": "2023-06-23T13:33:06.087Z"
   },
   {
    "duration": 397,
    "start_time": "2023-06-23T13:33:06.113Z"
   },
   {
    "duration": 10,
    "start_time": "2023-06-23T13:33:06.512Z"
   },
   {
    "duration": 14,
    "start_time": "2023-06-23T13:33:06.523Z"
   },
   {
    "duration": 6,
    "start_time": "2023-06-23T13:33:06.539Z"
   },
   {
    "duration": 8,
    "start_time": "2023-06-23T13:33:06.547Z"
   },
   {
    "duration": 44,
    "start_time": "2023-06-23T13:33:06.557Z"
   },
   {
    "duration": 20,
    "start_time": "2023-06-23T13:33:06.603Z"
   },
   {
    "duration": 40,
    "start_time": "2023-06-23T13:33:06.624Z"
   },
   {
    "duration": 28,
    "start_time": "2023-06-23T13:33:06.665Z"
   },
   {
    "duration": 412,
    "start_time": "2023-06-23T13:33:06.695Z"
   },
   {
    "duration": 9,
    "start_time": "2023-06-23T13:33:07.108Z"
   },
   {
    "duration": 22,
    "start_time": "2023-06-23T13:33:07.119Z"
   },
   {
    "duration": 191,
    "start_time": "2023-06-23T13:33:07.142Z"
   },
   {
    "duration": 37,
    "start_time": "2023-06-23T13:33:07.334Z"
   },
   {
    "duration": 232,
    "start_time": "2023-06-23T13:33:07.373Z"
   },
   {
    "duration": 260,
    "start_time": "2023-06-23T13:33:07.606Z"
   },
   {
    "duration": 254,
    "start_time": "2023-06-23T13:33:07.867Z"
   },
   {
    "duration": 33,
    "start_time": "2023-06-23T13:33:08.122Z"
   },
   {
    "duration": 38,
    "start_time": "2023-06-23T13:33:08.157Z"
   },
   {
    "duration": 32,
    "start_time": "2023-06-23T13:33:08.197Z"
   },
   {
    "duration": 46,
    "start_time": "2023-06-23T13:33:08.233Z"
   },
   {
    "duration": 74,
    "start_time": "2023-06-23T13:33:08.280Z"
   },
   {
    "duration": 20,
    "start_time": "2023-06-23T13:33:08.355Z"
   },
   {
    "duration": 17,
    "start_time": "2023-06-23T13:33:08.376Z"
   },
   {
    "duration": 114,
    "start_time": "2023-06-23T13:33:08.394Z"
   },
   {
    "duration": 13963,
    "start_time": "2023-06-23T13:33:08.509Z"
   },
   {
    "duration": 14,
    "start_time": "2023-06-23T13:33:22.473Z"
   },
   {
    "duration": 200,
    "start_time": "2023-06-23T13:33:22.488Z"
   },
   {
    "duration": 21,
    "start_time": "2023-06-23T13:33:22.690Z"
   },
   {
    "duration": 38,
    "start_time": "2023-06-23T13:33:22.712Z"
   },
   {
    "duration": 33,
    "start_time": "2023-06-23T13:33:22.751Z"
   },
   {
    "duration": 13921,
    "start_time": "2023-06-23T13:33:22.785Z"
   },
   {
    "duration": 14845,
    "start_time": "2023-06-23T13:33:36.708Z"
   },
   {
    "duration": 45,
    "start_time": "2023-06-23T13:33:51.554Z"
   },
   {
    "duration": 23,
    "start_time": "2023-06-23T13:33:51.601Z"
   },
   {
    "duration": 161,
    "start_time": "2023-06-23T13:33:51.625Z"
   },
   {
    "duration": 189,
    "start_time": "2023-06-23T13:33:51.788Z"
   },
   {
    "duration": 3,
    "start_time": "2023-06-23T13:33:51.978Z"
   },
   {
    "duration": 349,
    "start_time": "2023-06-23T13:33:51.983Z"
   },
   {
    "duration": 17,
    "start_time": "2023-06-23T13:33:52.333Z"
   },
   {
    "duration": 78,
    "start_time": "2023-06-23T13:33:52.352Z"
   },
   {
    "duration": 29,
    "start_time": "2023-06-23T13:33:52.431Z"
   },
   {
    "duration": 8,
    "start_time": "2023-06-23T13:33:52.462Z"
   },
   {
    "duration": 9,
    "start_time": "2023-06-23T13:33:52.472Z"
   },
   {
    "duration": 108,
    "start_time": "2023-06-23T13:33:52.483Z"
   },
   {
    "duration": 1165,
    "start_time": "2023-06-23T13:33:52.600Z"
   },
   {
    "duration": 9,
    "start_time": "2023-06-23T13:33:53.767Z"
   },
   {
    "duration": 91,
    "start_time": "2023-06-23T13:33:53.777Z"
   },
   {
    "duration": 14,
    "start_time": "2023-06-23T13:33:53.874Z"
   },
   {
    "duration": 37,
    "start_time": "2023-06-23T13:33:53.889Z"
   },
   {
    "duration": 791,
    "start_time": "2023-06-23T13:33:53.927Z"
   },
   {
    "duration": 250,
    "start_time": "2023-06-23T13:33:54.720Z"
   },
   {
    "duration": 3,
    "start_time": "2023-06-23T13:33:54.971Z"
   },
   {
    "duration": 14948,
    "start_time": "2023-06-23T13:33:54.976Z"
   },
   {
    "duration": 2859,
    "start_time": "2023-06-23T13:34:09.925Z"
   },
   {
    "duration": 4,
    "start_time": "2023-06-23T13:34:12.785Z"
   },
   {
    "duration": 791,
    "start_time": "2023-06-23T13:34:12.790Z"
   },
   {
    "duration": 29,
    "start_time": "2023-06-23T13:34:13.582Z"
   },
   {
    "duration": 4,
    "start_time": "2023-06-23T13:34:13.612Z"
   },
   {
    "duration": 95704,
    "start_time": "2023-06-23T13:34:13.617Z"
   },
   {
    "duration": 8824,
    "start_time": "2023-06-23T13:35:49.323Z"
   },
   {
    "duration": 5,
    "start_time": "2023-06-23T13:35:58.149Z"
   },
   {
    "duration": 1924,
    "start_time": "2023-06-23T13:35:58.156Z"
   },
   {
    "duration": 92,
    "start_time": "2023-06-23T13:36:00.082Z"
   },
   {
    "duration": 6,
    "start_time": "2023-06-23T13:36:00.176Z"
   },
   {
    "duration": 37,
    "start_time": "2023-06-23T13:36:00.184Z"
   },
   {
    "duration": 30,
    "start_time": "2023-06-23T13:36:00.223Z"
   },
   {
    "duration": 147,
    "start_time": "2023-06-23T13:36:00.254Z"
   },
   {
    "duration": 1204454,
    "start_time": "2023-06-23T13:36:00.402Z"
   },
   {
    "duration": 445093,
    "start_time": "2023-06-23T13:56:04.857Z"
   },
   {
    "duration": 4,
    "start_time": "2023-06-23T14:03:29.952Z"
   },
   {
    "duration": 55158,
    "start_time": "2023-06-23T14:03:29.957Z"
   },
   {
    "duration": 38,
    "start_time": "2023-06-23T14:04:25.116Z"
   },
   {
    "duration": 899,
    "start_time": "2023-06-23T14:04:25.155Z"
   },
   {
    "duration": 3,
    "start_time": "2023-06-23T14:04:26.056Z"
   },
   {
    "duration": 16,
    "start_time": "2023-06-23T14:04:26.061Z"
   },
   {
    "duration": 8,
    "start_time": "2023-06-23T14:04:26.078Z"
   },
   {
    "duration": 90,
    "start_time": "2023-06-23T14:04:26.087Z"
   },
   {
    "duration": 94858,
    "start_time": "2023-06-23T14:04:26.179Z"
   },
   {
    "duration": 264,
    "start_time": "2023-06-23T14:06:01.038Z"
   },
   {
    "duration": 47584,
    "start_time": "2023-06-23T14:06:01.304Z"
   },
   {
    "duration": 8,
    "start_time": "2023-06-23T14:06:48.890Z"
   },
   {
    "duration": 46,
    "start_time": "2023-06-23T14:06:48.900Z"
   },
   {
    "duration": 47,
    "start_time": "2023-06-23T15:19:50.425Z"
   },
   {
    "duration": 1418,
    "start_time": "2023-06-23T15:19:50.474Z"
   },
   {
    "duration": 4,
    "start_time": "2023-06-23T15:19:51.894Z"
   },
   {
    "duration": 725,
    "start_time": "2023-06-23T15:19:51.900Z"
   },
   {
    "duration": 115,
    "start_time": "2023-06-23T15:19:52.628Z"
   },
   {
    "duration": 21,
    "start_time": "2023-06-23T15:19:52.745Z"
   },
   {
    "duration": 7,
    "start_time": "2023-06-23T15:19:52.768Z"
   },
   {
    "duration": 396,
    "start_time": "2023-06-23T15:19:52.776Z"
   },
   {
    "duration": 570,
    "start_time": "2023-06-23T15:19:53.173Z"
   },
   {
    "duration": 2,
    "start_time": "2023-06-23T15:19:53.745Z"
   },
   {
    "duration": 38,
    "start_time": "2023-06-23T15:19:53.748Z"
   },
   {
    "duration": 47,
    "start_time": "2023-06-23T15:19:53.788Z"
   },
   {
    "duration": 39,
    "start_time": "2023-06-23T15:19:53.836Z"
   },
   {
    "duration": 25,
    "start_time": "2023-06-23T15:19:53.877Z"
   },
   {
    "duration": 12,
    "start_time": "2023-06-23T15:19:53.903Z"
   },
   {
    "duration": 43,
    "start_time": "2023-06-23T15:19:53.916Z"
   },
   {
    "duration": 83,
    "start_time": "2023-06-23T15:19:53.960Z"
   },
   {
    "duration": 35,
    "start_time": "2023-06-23T15:19:54.045Z"
   },
   {
    "duration": 44,
    "start_time": "2023-06-23T15:19:54.081Z"
   },
   {
    "duration": 4,
    "start_time": "2023-06-23T15:19:54.126Z"
   },
   {
    "duration": 25,
    "start_time": "2023-06-23T15:19:54.132Z"
   },
   {
    "duration": 41,
    "start_time": "2023-06-23T15:19:54.159Z"
   },
   {
    "duration": 25,
    "start_time": "2023-06-23T15:19:54.202Z"
   },
   {
    "duration": 20,
    "start_time": "2023-06-23T15:19:54.229Z"
   },
   {
    "duration": 8,
    "start_time": "2023-06-23T15:19:54.251Z"
   },
   {
    "duration": 45,
    "start_time": "2023-06-23T15:19:54.261Z"
   },
   {
    "duration": 40,
    "start_time": "2023-06-23T15:19:54.308Z"
   },
   {
    "duration": 5,
    "start_time": "2023-06-23T15:19:54.350Z"
   },
   {
    "duration": 4,
    "start_time": "2023-06-23T15:19:54.356Z"
   },
   {
    "duration": 45,
    "start_time": "2023-06-23T15:19:54.361Z"
   },
   {
    "duration": 9,
    "start_time": "2023-06-23T15:19:54.408Z"
   },
   {
    "duration": 17,
    "start_time": "2023-06-23T15:19:54.419Z"
   },
   {
    "duration": 2,
    "start_time": "2023-06-23T15:19:54.437Z"
   },
   {
    "duration": 289,
    "start_time": "2023-06-23T15:19:54.441Z"
   },
   {
    "duration": 7,
    "start_time": "2023-06-23T15:19:54.732Z"
   },
   {
    "duration": 5,
    "start_time": "2023-06-23T15:19:54.740Z"
   },
   {
    "duration": 5,
    "start_time": "2023-06-23T15:19:54.746Z"
   },
   {
    "duration": 8,
    "start_time": "2023-06-23T15:19:54.752Z"
   },
   {
    "duration": 39,
    "start_time": "2023-06-23T15:19:54.761Z"
   },
   {
    "duration": 4,
    "start_time": "2023-06-23T15:19:54.802Z"
   },
   {
    "duration": 19,
    "start_time": "2023-06-23T15:19:54.864Z"
   },
   {
    "duration": 37,
    "start_time": "2023-06-23T15:19:54.899Z"
   },
   {
    "duration": 341,
    "start_time": "2023-06-23T15:19:54.937Z"
   },
   {
    "duration": 8,
    "start_time": "2023-06-23T15:19:55.279Z"
   },
   {
    "duration": 4,
    "start_time": "2023-06-23T15:19:55.299Z"
   },
   {
    "duration": 166,
    "start_time": "2023-06-23T15:19:55.305Z"
   },
   {
    "duration": 55,
    "start_time": "2023-06-23T15:19:55.473Z"
   },
   {
    "duration": 210,
    "start_time": "2023-06-23T15:19:55.529Z"
   },
   {
    "duration": 251,
    "start_time": "2023-06-23T15:19:55.740Z"
   },
   {
    "duration": 256,
    "start_time": "2023-06-23T15:19:55.993Z"
   },
   {
    "duration": 28,
    "start_time": "2023-06-23T15:19:56.250Z"
   },
   {
    "duration": 24,
    "start_time": "2023-06-23T15:19:56.279Z"
   },
   {
    "duration": 16,
    "start_time": "2023-06-23T15:19:56.304Z"
   },
   {
    "duration": 18,
    "start_time": "2023-06-23T15:19:56.321Z"
   },
   {
    "duration": 26,
    "start_time": "2023-06-23T15:19:56.340Z"
   },
   {
    "duration": 15,
    "start_time": "2023-06-23T15:19:56.367Z"
   },
   {
    "duration": 4,
    "start_time": "2023-06-23T15:19:56.384Z"
   },
   {
    "duration": 99,
    "start_time": "2023-06-23T15:19:56.389Z"
   },
   {
    "duration": 13509,
    "start_time": "2023-06-23T15:19:56.489Z"
   },
   {
    "duration": 13,
    "start_time": "2023-06-23T15:20:09.999Z"
   },
   {
    "duration": 186,
    "start_time": "2023-06-23T15:20:10.013Z"
   },
   {
    "duration": 17,
    "start_time": "2023-06-23T15:20:10.200Z"
   },
   {
    "duration": 38,
    "start_time": "2023-06-23T15:20:10.218Z"
   },
   {
    "duration": 30,
    "start_time": "2023-06-23T15:20:10.258Z"
   },
   {
    "duration": 13444,
    "start_time": "2023-06-23T15:20:10.299Z"
   },
   {
    "duration": 13707,
    "start_time": "2023-06-23T15:20:23.745Z"
   },
   {
    "duration": 7,
    "start_time": "2023-06-23T15:20:37.453Z"
   },
   {
    "duration": 22,
    "start_time": "2023-06-23T15:20:37.461Z"
   },
   {
    "duration": 137,
    "start_time": "2023-06-23T15:20:37.484Z"
   },
   {
    "duration": 169,
    "start_time": "2023-06-23T15:20:37.623Z"
   },
   {
    "duration": 7,
    "start_time": "2023-06-23T15:20:37.794Z"
   },
   {
    "duration": 320,
    "start_time": "2023-06-23T15:20:37.802Z"
   },
   {
    "duration": 21,
    "start_time": "2023-06-23T15:20:38.123Z"
   },
   {
    "duration": 75,
    "start_time": "2023-06-23T15:20:38.145Z"
   },
   {
    "duration": 25,
    "start_time": "2023-06-23T15:20:38.222Z"
   },
   {
    "duration": 11,
    "start_time": "2023-06-23T15:20:38.248Z"
   },
   {
    "duration": 27,
    "start_time": "2023-06-23T15:20:38.260Z"
   },
   {
    "duration": 77,
    "start_time": "2023-06-23T15:20:38.288Z"
   },
   {
    "duration": 1000,
    "start_time": "2023-06-23T15:20:38.366Z"
   },
   {
    "duration": 9,
    "start_time": "2023-06-23T15:20:39.367Z"
   },
   {
    "duration": 81,
    "start_time": "2023-06-23T15:20:39.377Z"
   },
   {
    "duration": 15,
    "start_time": "2023-06-23T15:20:39.459Z"
   },
   {
    "duration": 37,
    "start_time": "2023-06-23T15:20:39.475Z"
   },
   {
    "duration": 757,
    "start_time": "2023-06-23T15:20:39.514Z"
   },
   {
    "duration": 280,
    "start_time": "2023-06-23T15:20:40.273Z"
   },
   {
    "duration": 3,
    "start_time": "2023-06-23T15:20:40.555Z"
   },
   {
    "duration": 14673,
    "start_time": "2023-06-23T15:20:40.560Z"
   },
   {
    "duration": 2859,
    "start_time": "2023-06-23T15:20:55.234Z"
   },
   {
    "duration": 4,
    "start_time": "2023-06-23T15:20:58.099Z"
   },
   {
    "duration": 685,
    "start_time": "2023-06-23T15:20:58.105Z"
   },
   {
    "duration": 29,
    "start_time": "2023-06-23T15:20:58.792Z"
   },
   {
    "duration": 3,
    "start_time": "2023-06-23T15:20:58.823Z"
   },
   {
    "duration": 87696,
    "start_time": "2023-06-23T15:20:58.827Z"
   },
   {
    "duration": 8138,
    "start_time": "2023-06-23T15:22:26.525Z"
   },
   {
    "duration": 3,
    "start_time": "2023-06-23T15:22:34.665Z"
   },
   {
    "duration": 1748,
    "start_time": "2023-06-23T15:22:34.670Z"
   },
   {
    "duration": 88,
    "start_time": "2023-06-23T15:22:36.419Z"
   },
   {
    "duration": 7,
    "start_time": "2023-06-23T15:22:36.508Z"
   },
   {
    "duration": 26,
    "start_time": "2023-06-23T15:22:36.516Z"
   },
   {
    "duration": 8,
    "start_time": "2023-06-23T15:22:36.543Z"
   },
   {
    "duration": 121,
    "start_time": "2023-06-23T15:22:36.553Z"
   },
   {
    "duration": 249985,
    "start_time": "2023-06-23T15:22:36.676Z"
   },
   {
    "duration": 102657,
    "start_time": "2023-06-23T15:26:46.663Z"
   },
   {
    "duration": 3,
    "start_time": "2023-06-23T15:28:29.321Z"
   },
   {
    "duration": 4675,
    "start_time": "2023-06-23T15:28:29.326Z"
   },
   {
    "duration": 37,
    "start_time": "2023-06-23T15:28:34.002Z"
   },
   {
    "duration": 747,
    "start_time": "2023-06-23T15:28:34.041Z"
   },
   {
    "duration": 2,
    "start_time": "2023-06-23T15:28:34.790Z"
   },
   {
    "duration": 19,
    "start_time": "2023-06-23T15:28:34.793Z"
   },
   {
    "duration": 29,
    "start_time": "2023-06-23T15:28:34.813Z"
   },
   {
    "duration": 70,
    "start_time": "2023-06-23T15:28:34.843Z"
   },
   {
    "duration": 5399,
    "start_time": "2023-06-23T15:28:34.915Z"
   },
   {
    "duration": 289,
    "start_time": "2023-06-23T15:28:40.315Z"
   },
   {
    "duration": 45508,
    "start_time": "2023-06-23T15:28:40.606Z"
   },
   {
    "duration": 9,
    "start_time": "2023-06-23T15:29:26.115Z"
   },
   {
    "duration": 9,
    "start_time": "2023-06-23T15:29:26.126Z"
   },
   {
    "duration": 193,
    "start_time": "2023-06-23T15:34:56.642Z"
   },
   {
    "duration": 11,
    "start_time": "2023-06-23T15:35:33.320Z"
   },
   {
    "duration": 1611,
    "start_time": "2023-06-24T12:42:27.162Z"
   },
   {
    "duration": 4,
    "start_time": "2023-06-24T12:42:28.775Z"
   },
   {
    "duration": 170,
    "start_time": "2023-06-24T12:42:28.782Z"
   },
   {
    "duration": 0,
    "start_time": "2023-06-24T12:42:28.956Z"
   },
   {
    "duration": 0,
    "start_time": "2023-06-24T12:42:28.957Z"
   },
   {
    "duration": 0,
    "start_time": "2023-06-24T12:42:28.958Z"
   },
   {
    "duration": 0,
    "start_time": "2023-06-24T12:42:28.959Z"
   },
   {
    "duration": 0,
    "start_time": "2023-06-24T12:42:28.960Z"
   },
   {
    "duration": 0,
    "start_time": "2023-06-24T12:42:28.961Z"
   },
   {
    "duration": 0,
    "start_time": "2023-06-24T12:42:28.963Z"
   },
   {
    "duration": 0,
    "start_time": "2023-06-24T12:42:28.964Z"
   },
   {
    "duration": 0,
    "start_time": "2023-06-24T12:42:28.965Z"
   },
   {
    "duration": 0,
    "start_time": "2023-06-24T12:42:28.966Z"
   },
   {
    "duration": 0,
    "start_time": "2023-06-24T12:42:28.966Z"
   },
   {
    "duration": 0,
    "start_time": "2023-06-24T12:42:28.968Z"
   },
   {
    "duration": 0,
    "start_time": "2023-06-24T12:42:28.969Z"
   },
   {
    "duration": 0,
    "start_time": "2023-06-24T12:42:28.970Z"
   },
   {
    "duration": 0,
    "start_time": "2023-06-24T12:42:28.971Z"
   },
   {
    "duration": 0,
    "start_time": "2023-06-24T12:42:28.972Z"
   },
   {
    "duration": 0,
    "start_time": "2023-06-24T12:42:28.972Z"
   },
   {
    "duration": 0,
    "start_time": "2023-06-24T12:42:28.973Z"
   },
   {
    "duration": 0,
    "start_time": "2023-06-24T12:42:28.974Z"
   },
   {
    "duration": 0,
    "start_time": "2023-06-24T12:42:28.975Z"
   },
   {
    "duration": 0,
    "start_time": "2023-06-24T12:42:28.976Z"
   },
   {
    "duration": 0,
    "start_time": "2023-06-24T12:42:28.977Z"
   },
   {
    "duration": 0,
    "start_time": "2023-06-24T12:42:28.978Z"
   },
   {
    "duration": 0,
    "start_time": "2023-06-24T12:42:28.979Z"
   },
   {
    "duration": 0,
    "start_time": "2023-06-24T12:42:28.980Z"
   },
   {
    "duration": 0,
    "start_time": "2023-06-24T12:42:28.981Z"
   },
   {
    "duration": 0,
    "start_time": "2023-06-24T12:42:28.981Z"
   },
   {
    "duration": 0,
    "start_time": "2023-06-24T12:42:28.982Z"
   },
   {
    "duration": 0,
    "start_time": "2023-06-24T12:42:28.983Z"
   },
   {
    "duration": 0,
    "start_time": "2023-06-24T12:42:29.031Z"
   },
   {
    "duration": 0,
    "start_time": "2023-06-24T12:42:29.032Z"
   },
   {
    "duration": 0,
    "start_time": "2023-06-24T12:42:29.033Z"
   },
   {
    "duration": 0,
    "start_time": "2023-06-24T12:42:29.034Z"
   },
   {
    "duration": 0,
    "start_time": "2023-06-24T12:42:29.035Z"
   },
   {
    "duration": 0,
    "start_time": "2023-06-24T12:42:29.036Z"
   },
   {
    "duration": 0,
    "start_time": "2023-06-24T12:42:29.037Z"
   },
   {
    "duration": 0,
    "start_time": "2023-06-24T12:42:29.038Z"
   },
   {
    "duration": 0,
    "start_time": "2023-06-24T12:42:29.039Z"
   },
   {
    "duration": 0,
    "start_time": "2023-06-24T12:42:29.040Z"
   },
   {
    "duration": 0,
    "start_time": "2023-06-24T12:42:29.042Z"
   },
   {
    "duration": 0,
    "start_time": "2023-06-24T12:42:29.043Z"
   },
   {
    "duration": 0,
    "start_time": "2023-06-24T12:42:29.044Z"
   },
   {
    "duration": 0,
    "start_time": "2023-06-24T12:42:29.045Z"
   },
   {
    "duration": 0,
    "start_time": "2023-06-24T12:42:29.046Z"
   },
   {
    "duration": 0,
    "start_time": "2023-06-24T12:42:29.047Z"
   },
   {
    "duration": 0,
    "start_time": "2023-06-24T12:42:29.048Z"
   },
   {
    "duration": 0,
    "start_time": "2023-06-24T12:42:29.049Z"
   },
   {
    "duration": 0,
    "start_time": "2023-06-24T12:42:29.050Z"
   },
   {
    "duration": 0,
    "start_time": "2023-06-24T12:42:29.051Z"
   },
   {
    "duration": 0,
    "start_time": "2023-06-24T12:42:29.052Z"
   },
   {
    "duration": 0,
    "start_time": "2023-06-24T12:42:29.053Z"
   },
   {
    "duration": 0,
    "start_time": "2023-06-24T12:42:29.054Z"
   },
   {
    "duration": 0,
    "start_time": "2023-06-24T12:42:29.054Z"
   },
   {
    "duration": 0,
    "start_time": "2023-06-24T12:42:29.055Z"
   },
   {
    "duration": 0,
    "start_time": "2023-06-24T12:42:29.056Z"
   },
   {
    "duration": 0,
    "start_time": "2023-06-24T12:42:29.057Z"
   },
   {
    "duration": 0,
    "start_time": "2023-06-24T12:42:29.058Z"
   },
   {
    "duration": 0,
    "start_time": "2023-06-24T12:42:29.059Z"
   },
   {
    "duration": 0,
    "start_time": "2023-06-24T12:42:29.060Z"
   },
   {
    "duration": 0,
    "start_time": "2023-06-24T12:42:29.061Z"
   },
   {
    "duration": 0,
    "start_time": "2023-06-24T12:42:29.062Z"
   },
   {
    "duration": 0,
    "start_time": "2023-06-24T12:42:29.063Z"
   },
   {
    "duration": 0,
    "start_time": "2023-06-24T12:42:29.064Z"
   },
   {
    "duration": 0,
    "start_time": "2023-06-24T12:42:29.065Z"
   },
   {
    "duration": 0,
    "start_time": "2023-06-24T12:42:29.066Z"
   },
   {
    "duration": 0,
    "start_time": "2023-06-24T12:42:29.067Z"
   },
   {
    "duration": 0,
    "start_time": "2023-06-24T12:42:29.067Z"
   },
   {
    "duration": 0,
    "start_time": "2023-06-24T12:42:29.131Z"
   },
   {
    "duration": 0,
    "start_time": "2023-06-24T12:42:29.132Z"
   },
   {
    "duration": 0,
    "start_time": "2023-06-24T12:42:29.133Z"
   },
   {
    "duration": 0,
    "start_time": "2023-06-24T12:42:29.134Z"
   },
   {
    "duration": 0,
    "start_time": "2023-06-24T12:42:29.135Z"
   },
   {
    "duration": 0,
    "start_time": "2023-06-24T12:42:29.136Z"
   },
   {
    "duration": 0,
    "start_time": "2023-06-24T12:42:29.137Z"
   },
   {
    "duration": 0,
    "start_time": "2023-06-24T12:42:29.138Z"
   },
   {
    "duration": 0,
    "start_time": "2023-06-24T12:42:29.139Z"
   },
   {
    "duration": 0,
    "start_time": "2023-06-24T12:42:29.140Z"
   },
   {
    "duration": 0,
    "start_time": "2023-06-24T12:42:29.141Z"
   },
   {
    "duration": 0,
    "start_time": "2023-06-24T12:42:29.141Z"
   },
   {
    "duration": 0,
    "start_time": "2023-06-24T12:42:29.142Z"
   },
   {
    "duration": 0,
    "start_time": "2023-06-24T12:42:29.143Z"
   },
   {
    "duration": 0,
    "start_time": "2023-06-24T12:42:29.144Z"
   },
   {
    "duration": 0,
    "start_time": "2023-06-24T12:42:29.145Z"
   },
   {
    "duration": 0,
    "start_time": "2023-06-24T12:42:29.146Z"
   },
   {
    "duration": 0,
    "start_time": "2023-06-24T12:42:29.147Z"
   },
   {
    "duration": 0,
    "start_time": "2023-06-24T12:42:29.148Z"
   },
   {
    "duration": 0,
    "start_time": "2023-06-24T12:42:29.149Z"
   },
   {
    "duration": 0,
    "start_time": "2023-06-24T12:42:29.150Z"
   },
   {
    "duration": 0,
    "start_time": "2023-06-24T12:42:29.150Z"
   },
   {
    "duration": 0,
    "start_time": "2023-06-24T12:42:29.152Z"
   },
   {
    "duration": 0,
    "start_time": "2023-06-24T12:42:29.152Z"
   },
   {
    "duration": 0,
    "start_time": "2023-06-24T12:42:29.153Z"
   },
   {
    "duration": 0,
    "start_time": "2023-06-24T12:42:29.154Z"
   },
   {
    "duration": 0,
    "start_time": "2023-06-24T12:42:29.155Z"
   },
   {
    "duration": 0,
    "start_time": "2023-06-24T12:42:29.156Z"
   },
   {
    "duration": 0,
    "start_time": "2023-06-24T12:42:29.157Z"
   },
   {
    "duration": 0,
    "start_time": "2023-06-24T12:42:29.158Z"
   },
   {
    "duration": 1,
    "start_time": "2023-06-24T12:42:29.158Z"
   },
   {
    "duration": 0,
    "start_time": "2023-06-24T12:42:29.160Z"
   },
   {
    "duration": 0,
    "start_time": "2023-06-24T12:42:29.160Z"
   },
   {
    "duration": 0,
    "start_time": "2023-06-24T12:42:29.161Z"
   },
   {
    "duration": 0,
    "start_time": "2023-06-24T12:42:29.162Z"
   },
   {
    "duration": 0,
    "start_time": "2023-06-24T12:42:29.163Z"
   },
   {
    "duration": 0,
    "start_time": "2023-06-24T12:42:29.164Z"
   },
   {
    "duration": 0,
    "start_time": "2023-06-24T12:42:29.165Z"
   },
   {
    "duration": 0,
    "start_time": "2023-06-24T12:42:29.166Z"
   },
   {
    "duration": 0,
    "start_time": "2023-06-24T12:42:29.167Z"
   },
   {
    "duration": 0,
    "start_time": "2023-06-24T12:42:29.168Z"
   },
   {
    "duration": 0,
    "start_time": "2023-06-24T12:42:29.232Z"
   },
   {
    "duration": 0,
    "start_time": "2023-06-24T12:42:29.233Z"
   },
   {
    "duration": 0,
    "start_time": "2023-06-24T12:42:29.233Z"
   },
   {
    "duration": 0,
    "start_time": "2023-06-24T12:42:29.234Z"
   },
   {
    "duration": 1433,
    "start_time": "2023-06-24T12:43:24.744Z"
   },
   {
    "duration": 4,
    "start_time": "2023-06-24T12:43:26.179Z"
   },
   {
    "duration": 173,
    "start_time": "2023-06-24T12:43:26.185Z"
   },
   {
    "duration": 0,
    "start_time": "2023-06-24T12:43:26.362Z"
   },
   {
    "duration": 0,
    "start_time": "2023-06-24T12:43:26.363Z"
   },
   {
    "duration": 0,
    "start_time": "2023-06-24T12:43:26.363Z"
   },
   {
    "duration": 0,
    "start_time": "2023-06-24T12:43:26.364Z"
   },
   {
    "duration": 0,
    "start_time": "2023-06-24T12:43:26.365Z"
   },
   {
    "duration": 0,
    "start_time": "2023-06-24T12:43:26.366Z"
   },
   {
    "duration": 0,
    "start_time": "2023-06-24T12:43:26.367Z"
   },
   {
    "duration": 0,
    "start_time": "2023-06-24T12:43:26.368Z"
   },
   {
    "duration": 0,
    "start_time": "2023-06-24T12:43:26.369Z"
   },
   {
    "duration": 0,
    "start_time": "2023-06-24T12:43:26.370Z"
   },
   {
    "duration": 0,
    "start_time": "2023-06-24T12:43:26.371Z"
   },
   {
    "duration": 0,
    "start_time": "2023-06-24T12:43:26.372Z"
   },
   {
    "duration": 0,
    "start_time": "2023-06-24T12:43:26.373Z"
   },
   {
    "duration": 0,
    "start_time": "2023-06-24T12:43:26.374Z"
   },
   {
    "duration": 0,
    "start_time": "2023-06-24T12:43:26.375Z"
   },
   {
    "duration": 0,
    "start_time": "2023-06-24T12:43:26.376Z"
   },
   {
    "duration": 0,
    "start_time": "2023-06-24T12:43:26.377Z"
   },
   {
    "duration": 0,
    "start_time": "2023-06-24T12:43:26.377Z"
   },
   {
    "duration": 0,
    "start_time": "2023-06-24T12:43:26.378Z"
   },
   {
    "duration": 0,
    "start_time": "2023-06-24T12:43:26.379Z"
   },
   {
    "duration": 0,
    "start_time": "2023-06-24T12:43:26.380Z"
   },
   {
    "duration": 0,
    "start_time": "2023-06-24T12:43:26.381Z"
   },
   {
    "duration": 0,
    "start_time": "2023-06-24T12:43:26.381Z"
   },
   {
    "duration": 0,
    "start_time": "2023-06-24T12:43:26.382Z"
   },
   {
    "duration": 0,
    "start_time": "2023-06-24T12:43:26.383Z"
   },
   {
    "duration": 0,
    "start_time": "2023-06-24T12:43:26.384Z"
   },
   {
    "duration": 0,
    "start_time": "2023-06-24T12:43:26.385Z"
   },
   {
    "duration": 0,
    "start_time": "2023-06-24T12:43:26.385Z"
   },
   {
    "duration": 0,
    "start_time": "2023-06-24T12:43:26.386Z"
   },
   {
    "duration": 0,
    "start_time": "2023-06-24T12:43:26.387Z"
   },
   {
    "duration": 0,
    "start_time": "2023-06-24T12:43:26.388Z"
   },
   {
    "duration": 0,
    "start_time": "2023-06-24T12:43:26.389Z"
   },
   {
    "duration": 0,
    "start_time": "2023-06-24T12:43:26.432Z"
   },
   {
    "duration": 0,
    "start_time": "2023-06-24T12:43:26.433Z"
   },
   {
    "duration": 0,
    "start_time": "2023-06-24T12:43:26.434Z"
   },
   {
    "duration": 0,
    "start_time": "2023-06-24T12:43:26.434Z"
   },
   {
    "duration": 0,
    "start_time": "2023-06-24T12:43:26.436Z"
   },
   {
    "duration": 0,
    "start_time": "2023-06-24T12:43:26.436Z"
   },
   {
    "duration": 0,
    "start_time": "2023-06-24T12:43:26.437Z"
   },
   {
    "duration": 0,
    "start_time": "2023-06-24T12:43:26.438Z"
   },
   {
    "duration": 0,
    "start_time": "2023-06-24T12:43:26.439Z"
   },
   {
    "duration": 0,
    "start_time": "2023-06-24T12:43:26.440Z"
   },
   {
    "duration": 0,
    "start_time": "2023-06-24T12:43:26.441Z"
   },
   {
    "duration": 0,
    "start_time": "2023-06-24T12:43:26.442Z"
   },
   {
    "duration": 0,
    "start_time": "2023-06-24T12:43:26.443Z"
   },
   {
    "duration": 0,
    "start_time": "2023-06-24T12:43:26.444Z"
   },
   {
    "duration": 0,
    "start_time": "2023-06-24T12:43:26.445Z"
   },
   {
    "duration": 0,
    "start_time": "2023-06-24T12:43:26.446Z"
   },
   {
    "duration": 0,
    "start_time": "2023-06-24T12:43:26.447Z"
   },
   {
    "duration": 0,
    "start_time": "2023-06-24T12:43:26.448Z"
   },
   {
    "duration": 0,
    "start_time": "2023-06-24T12:43:26.449Z"
   },
   {
    "duration": 0,
    "start_time": "2023-06-24T12:43:26.449Z"
   },
   {
    "duration": 0,
    "start_time": "2023-06-24T12:43:26.450Z"
   },
   {
    "duration": 0,
    "start_time": "2023-06-24T12:43:26.451Z"
   },
   {
    "duration": 0,
    "start_time": "2023-06-24T12:43:26.452Z"
   },
   {
    "duration": 0,
    "start_time": "2023-06-24T12:43:26.453Z"
   },
   {
    "duration": 0,
    "start_time": "2023-06-24T12:43:26.454Z"
   },
   {
    "duration": 0,
    "start_time": "2023-06-24T12:43:26.455Z"
   },
   {
    "duration": 0,
    "start_time": "2023-06-24T12:43:26.456Z"
   },
   {
    "duration": 0,
    "start_time": "2023-06-24T12:43:26.457Z"
   },
   {
    "duration": 0,
    "start_time": "2023-06-24T12:43:26.457Z"
   },
   {
    "duration": 0,
    "start_time": "2023-06-24T12:43:26.458Z"
   },
   {
    "duration": 0,
    "start_time": "2023-06-24T12:43:26.459Z"
   },
   {
    "duration": 0,
    "start_time": "2023-06-24T12:43:26.460Z"
   },
   {
    "duration": 0,
    "start_time": "2023-06-24T12:43:26.461Z"
   },
   {
    "duration": 0,
    "start_time": "2023-06-24T12:43:26.462Z"
   },
   {
    "duration": 0,
    "start_time": "2023-06-24T12:43:26.463Z"
   },
   {
    "duration": 0,
    "start_time": "2023-06-24T12:43:26.464Z"
   },
   {
    "duration": 0,
    "start_time": "2023-06-24T12:43:26.465Z"
   },
   {
    "duration": 0,
    "start_time": "2023-06-24T12:43:26.465Z"
   },
   {
    "duration": 0,
    "start_time": "2023-06-24T12:43:26.466Z"
   },
   {
    "duration": 0,
    "start_time": "2023-06-24T12:43:26.467Z"
   },
   {
    "duration": 0,
    "start_time": "2023-06-24T12:43:26.468Z"
   },
   {
    "duration": 0,
    "start_time": "2023-06-24T12:43:26.531Z"
   },
   {
    "duration": 0,
    "start_time": "2023-06-24T12:43:26.532Z"
   },
   {
    "duration": 0,
    "start_time": "2023-06-24T12:43:26.533Z"
   },
   {
    "duration": 0,
    "start_time": "2023-06-24T12:43:26.534Z"
   },
   {
    "duration": 0,
    "start_time": "2023-06-24T12:43:26.535Z"
   },
   {
    "duration": 0,
    "start_time": "2023-06-24T12:43:26.536Z"
   },
   {
    "duration": 0,
    "start_time": "2023-06-24T12:43:26.537Z"
   },
   {
    "duration": 0,
    "start_time": "2023-06-24T12:43:26.538Z"
   },
   {
    "duration": 0,
    "start_time": "2023-06-24T12:43:26.539Z"
   },
   {
    "duration": 0,
    "start_time": "2023-06-24T12:43:26.540Z"
   },
   {
    "duration": 0,
    "start_time": "2023-06-24T12:43:26.541Z"
   },
   {
    "duration": 0,
    "start_time": "2023-06-24T12:43:26.541Z"
   },
   {
    "duration": 0,
    "start_time": "2023-06-24T12:43:26.542Z"
   },
   {
    "duration": 0,
    "start_time": "2023-06-24T12:43:26.543Z"
   },
   {
    "duration": 0,
    "start_time": "2023-06-24T12:43:26.544Z"
   },
   {
    "duration": 0,
    "start_time": "2023-06-24T12:43:26.545Z"
   },
   {
    "duration": 0,
    "start_time": "2023-06-24T12:43:26.546Z"
   },
   {
    "duration": 0,
    "start_time": "2023-06-24T12:43:26.546Z"
   },
   {
    "duration": 0,
    "start_time": "2023-06-24T12:43:26.547Z"
   },
   {
    "duration": 0,
    "start_time": "2023-06-24T12:43:26.548Z"
   },
   {
    "duration": 0,
    "start_time": "2023-06-24T12:43:26.549Z"
   },
   {
    "duration": 0,
    "start_time": "2023-06-24T12:43:26.550Z"
   },
   {
    "duration": 0,
    "start_time": "2023-06-24T12:43:26.551Z"
   },
   {
    "duration": 0,
    "start_time": "2023-06-24T12:43:26.552Z"
   },
   {
    "duration": 0,
    "start_time": "2023-06-24T12:43:26.553Z"
   },
   {
    "duration": 0,
    "start_time": "2023-06-24T12:43:26.554Z"
   },
   {
    "duration": 0,
    "start_time": "2023-06-24T12:43:26.555Z"
   },
   {
    "duration": 0,
    "start_time": "2023-06-24T12:43:26.557Z"
   },
   {
    "duration": 0,
    "start_time": "2023-06-24T12:43:26.558Z"
   },
   {
    "duration": 0,
    "start_time": "2023-06-24T12:43:26.559Z"
   },
   {
    "duration": 0,
    "start_time": "2023-06-24T12:43:26.560Z"
   },
   {
    "duration": 0,
    "start_time": "2023-06-24T12:43:26.561Z"
   },
   {
    "duration": 0,
    "start_time": "2023-06-24T12:43:26.562Z"
   },
   {
    "duration": 0,
    "start_time": "2023-06-24T12:43:26.563Z"
   },
   {
    "duration": 0,
    "start_time": "2023-06-24T12:43:26.565Z"
   },
   {
    "duration": 0,
    "start_time": "2023-06-24T12:43:26.566Z"
   },
   {
    "duration": 0,
    "start_time": "2023-06-24T12:43:26.566Z"
   },
   {
    "duration": 0,
    "start_time": "2023-06-24T12:43:26.567Z"
   },
   {
    "duration": 0,
    "start_time": "2023-06-24T12:43:26.568Z"
   },
   {
    "duration": 1448,
    "start_time": "2023-06-24T12:44:15.466Z"
   },
   {
    "duration": 3,
    "start_time": "2023-06-24T12:44:16.916Z"
   },
   {
    "duration": 1029,
    "start_time": "2023-06-24T12:44:16.921Z"
   },
   {
    "duration": 130,
    "start_time": "2023-06-24T12:44:17.952Z"
   },
   {
    "duration": 25,
    "start_time": "2023-06-24T12:44:18.083Z"
   },
   {
    "duration": 2,
    "start_time": "2023-06-24T12:44:18.110Z"
   },
   {
    "duration": 425,
    "start_time": "2023-06-24T12:44:18.114Z"
   },
   {
    "duration": 626,
    "start_time": "2023-06-24T12:44:18.540Z"
   },
   {
    "duration": 2,
    "start_time": "2023-06-24T12:44:19.168Z"
   },
   {
    "duration": 58,
    "start_time": "2023-06-24T12:44:19.173Z"
   },
   {
    "duration": 36,
    "start_time": "2023-06-24T12:44:19.235Z"
   },
   {
    "duration": 38,
    "start_time": "2023-06-24T12:44:19.272Z"
   },
   {
    "duration": 36,
    "start_time": "2023-06-24T12:44:19.312Z"
   },
   {
    "duration": 12,
    "start_time": "2023-06-24T12:44:19.350Z"
   },
   {
    "duration": 27,
    "start_time": "2023-06-24T12:44:19.364Z"
   },
   {
    "duration": 116,
    "start_time": "2023-06-24T12:44:19.393Z"
   },
   {
    "duration": 44,
    "start_time": "2023-06-24T12:44:19.511Z"
   },
   {
    "duration": 54,
    "start_time": "2023-06-24T12:44:19.557Z"
   },
   {
    "duration": 18,
    "start_time": "2023-06-24T12:44:19.613Z"
   },
   {
    "duration": 8,
    "start_time": "2023-06-24T12:44:19.633Z"
   },
   {
    "duration": 36,
    "start_time": "2023-06-24T12:44:19.642Z"
   },
   {
    "duration": 25,
    "start_time": "2023-06-24T12:44:19.679Z"
   },
   {
    "duration": 32,
    "start_time": "2023-06-24T12:44:19.706Z"
   },
   {
    "duration": 6,
    "start_time": "2023-06-24T12:44:19.740Z"
   },
   {
    "duration": 18,
    "start_time": "2023-06-24T12:44:19.748Z"
   },
   {
    "duration": 21,
    "start_time": "2023-06-24T12:44:19.768Z"
   },
   {
    "duration": 9,
    "start_time": "2023-06-24T12:44:19.791Z"
   },
   {
    "duration": 5,
    "start_time": "2023-06-24T12:44:19.804Z"
   },
   {
    "duration": 40,
    "start_time": "2023-06-24T12:44:19.832Z"
   },
   {
    "duration": 8,
    "start_time": "2023-06-24T12:44:19.874Z"
   },
   {
    "duration": 22,
    "start_time": "2023-06-24T12:44:19.883Z"
   },
   {
    "duration": 11,
    "start_time": "2023-06-24T12:44:19.906Z"
   },
   {
    "duration": 299,
    "start_time": "2023-06-24T12:44:19.918Z"
   },
   {
    "duration": 18,
    "start_time": "2023-06-24T12:44:20.218Z"
   },
   {
    "duration": 19,
    "start_time": "2023-06-24T12:44:20.237Z"
   },
   {
    "duration": 26,
    "start_time": "2023-06-24T12:44:20.257Z"
   },
   {
    "duration": 18,
    "start_time": "2023-06-24T12:44:20.285Z"
   },
   {
    "duration": 51,
    "start_time": "2023-06-24T12:44:20.305Z"
   },
   {
    "duration": 16,
    "start_time": "2023-06-24T12:44:20.358Z"
   },
   {
    "duration": 38,
    "start_time": "2023-06-24T12:44:20.376Z"
   },
   {
    "duration": 30,
    "start_time": "2023-06-24T12:44:20.415Z"
   },
   {
    "duration": 360,
    "start_time": "2023-06-24T12:44:20.446Z"
   },
   {
    "duration": 8,
    "start_time": "2023-06-24T12:44:20.808Z"
   },
   {
    "duration": 19,
    "start_time": "2023-06-24T12:44:20.817Z"
   },
   {
    "duration": 175,
    "start_time": "2023-06-24T12:44:20.837Z"
   },
   {
    "duration": 38,
    "start_time": "2023-06-24T12:44:21.014Z"
   },
   {
    "duration": 224,
    "start_time": "2023-06-24T12:44:21.053Z"
   },
   {
    "duration": 254,
    "start_time": "2023-06-24T12:44:21.278Z"
   },
   {
    "duration": 257,
    "start_time": "2023-06-24T12:44:21.534Z"
   },
   {
    "duration": 41,
    "start_time": "2023-06-24T12:44:21.792Z"
   },
   {
    "duration": 16,
    "start_time": "2023-06-24T12:44:21.835Z"
   },
   {
    "duration": 10,
    "start_time": "2023-06-24T12:44:21.853Z"
   },
   {
    "duration": 34,
    "start_time": "2023-06-24T12:44:21.865Z"
   },
   {
    "duration": 36,
    "start_time": "2023-06-24T12:44:21.900Z"
   },
   {
    "duration": 19,
    "start_time": "2023-06-24T12:44:21.937Z"
   },
   {
    "duration": 5,
    "start_time": "2023-06-24T12:44:21.958Z"
   },
   {
    "duration": 109,
    "start_time": "2023-06-24T12:44:21.964Z"
   },
   {
    "duration": 17375,
    "start_time": "2023-06-24T12:44:22.074Z"
   },
   {
    "duration": 16,
    "start_time": "2023-06-24T12:44:39.451Z"
   },
   {
    "duration": 233,
    "start_time": "2023-06-24T12:44:39.469Z"
   },
   {
    "duration": 28,
    "start_time": "2023-06-24T12:44:39.704Z"
   },
   {
    "duration": 39,
    "start_time": "2023-06-24T12:44:39.734Z"
   },
   {
    "duration": 38,
    "start_time": "2023-06-24T12:44:39.775Z"
   },
   {
    "duration": 16205,
    "start_time": "2023-06-24T12:44:39.832Z"
   },
   {
    "duration": 16197,
    "start_time": "2023-06-24T12:44:56.039Z"
   },
   {
    "duration": 7,
    "start_time": "2023-06-24T12:45:12.238Z"
   },
   {
    "duration": 39,
    "start_time": "2023-06-24T12:45:12.246Z"
   },
   {
    "duration": 123,
    "start_time": "2023-06-24T12:45:12.287Z"
   },
   {
    "duration": 170,
    "start_time": "2023-06-24T12:45:12.411Z"
   },
   {
    "duration": 3,
    "start_time": "2023-06-24T12:45:12.583Z"
   },
   {
    "duration": 362,
    "start_time": "2023-06-24T12:45:12.587Z"
   },
   {
    "duration": 21,
    "start_time": "2023-06-24T12:45:12.951Z"
   },
   {
    "duration": 85,
    "start_time": "2023-06-24T12:45:12.974Z"
   },
   {
    "duration": 29,
    "start_time": "2023-06-24T12:45:13.060Z"
   },
   {
    "duration": 4,
    "start_time": "2023-06-24T12:45:13.090Z"
   },
   {
    "duration": 12,
    "start_time": "2023-06-24T12:45:13.096Z"
   },
   {
    "duration": 97,
    "start_time": "2023-06-24T12:45:13.109Z"
   },
   {
    "duration": 1087,
    "start_time": "2023-06-24T12:45:13.208Z"
   },
   {
    "duration": 10,
    "start_time": "2023-06-24T12:45:14.297Z"
   },
   {
    "duration": 97,
    "start_time": "2023-06-24T12:45:14.308Z"
   },
   {
    "duration": 15,
    "start_time": "2023-06-24T12:45:14.406Z"
   },
   {
    "duration": 27,
    "start_time": "2023-06-24T12:45:14.431Z"
   },
   {
    "duration": 849,
    "start_time": "2023-06-24T12:45:14.459Z"
   },
   {
    "duration": 292,
    "start_time": "2023-06-24T12:45:15.310Z"
   },
   {
    "duration": 3,
    "start_time": "2023-06-24T12:45:15.603Z"
   },
   {
    "duration": 13584,
    "start_time": "2023-06-24T12:45:15.607Z"
   },
   {
    "duration": 2816,
    "start_time": "2023-06-24T12:45:29.193Z"
   },
   {
    "duration": 4,
    "start_time": "2023-06-24T12:45:32.011Z"
   },
   {
    "duration": 709,
    "start_time": "2023-06-24T12:45:32.016Z"
   },
   {
    "duration": 72,
    "start_time": "2023-06-24T12:45:32.727Z"
   },
   {
    "duration": 3,
    "start_time": "2023-06-24T12:45:32.800Z"
   },
   {
    "duration": 99340,
    "start_time": "2023-06-24T12:45:32.804Z"
   },
   {
    "duration": 7951,
    "start_time": "2023-06-24T12:47:12.146Z"
   },
   {
    "duration": 4,
    "start_time": "2023-06-24T12:47:20.099Z"
   },
   {
    "duration": 2009,
    "start_time": "2023-06-24T12:47:20.104Z"
   },
   {
    "duration": 322,
    "start_time": "2023-06-24T12:47:22.114Z"
   },
   {
    "duration": 3,
    "start_time": "2023-06-24T12:47:22.438Z"
   },
   {
    "duration": 25,
    "start_time": "2023-06-24T12:47:22.443Z"
   },
   {
    "duration": 22,
    "start_time": "2023-06-24T12:47:22.470Z"
   },
   {
    "duration": 144,
    "start_time": "2023-06-24T12:47:22.494Z"
   },
   {
    "duration": 550995,
    "start_time": "2023-06-24T12:47:22.640Z"
   },
   {
    "duration": 21614,
    "start_time": "2023-06-24T12:56:33.637Z"
   },
   {
    "duration": 4,
    "start_time": "2023-06-24T12:56:55.252Z"
   },
   {
    "duration": 4179,
    "start_time": "2023-06-24T12:56:55.257Z"
   },
   {
    "duration": 1909,
    "start_time": "2023-06-24T12:56:59.438Z"
   },
   {
    "duration": 3,
    "start_time": "2023-06-24T12:57:01.349Z"
   },
   {
    "duration": 143,
    "start_time": "2023-06-24T12:57:01.353Z"
   },
   {
    "duration": 66,
    "start_time": "2023-06-24T12:57:01.497Z"
   },
   {
    "duration": 83,
    "start_time": "2023-06-24T12:57:01.564Z"
   },
   {
    "duration": 41,
    "start_time": "2023-06-24T12:57:01.648Z"
   },
   {
    "duration": 472,
    "start_time": "2023-06-24T12:57:01.690Z"
   },
   {
    "duration": 461,
    "start_time": "2023-06-24T12:57:02.163Z"
   },
   {
    "duration": 111,
    "start_time": "2023-06-24T12:57:02.631Z"
   },
   {
    "duration": 0,
    "start_time": "2023-06-24T12:57:02.743Z"
   },
   {
    "duration": 0,
    "start_time": "2023-06-24T12:57:02.744Z"
   },
   {
    "duration": 4358,
    "start_time": "2023-06-24T13:13:15.107Z"
   },
   {
    "duration": 43640,
    "start_time": "2023-06-24T13:13:25.557Z"
   },
   {
    "duration": 8,
    "start_time": "2023-06-24T13:14:09.199Z"
   },
   {
    "duration": 12,
    "start_time": "2023-06-24T13:14:09.208Z"
   }
  ],
  "kernelspec": {
   "display_name": "Python 3 (ipykernel)",
   "language": "python",
   "name": "python3"
  },
  "language_info": {
   "codemirror_mode": {
    "name": "ipython",
    "version": 3
   },
   "file_extension": ".py",
   "mimetype": "text/x-python",
   "name": "python",
   "nbconvert_exporter": "python",
   "pygments_lexer": "ipython3",
   "version": "3.9.7"
  },
  "toc": {
   "base_numbering": 1,
   "nav_menu": {},
   "number_sections": true,
   "sideBar": true,
   "skip_h1_title": true,
   "title_cell": "Table of Contents",
   "title_sidebar": "Contents",
   "toc_cell": false,
   "toc_position": {
    "height": "calc(100% - 180px)",
    "left": "10px",
    "top": "150px",
    "width": "289.167px"
   },
   "toc_section_display": true,
   "toc_window_display": true
  }
 },
 "nbformat": 4,
 "nbformat_minor": 2
}
