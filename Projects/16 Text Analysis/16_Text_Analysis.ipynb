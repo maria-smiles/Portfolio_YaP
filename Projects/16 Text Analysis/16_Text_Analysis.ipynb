{
 "cells": [
  {
   "cell_type": "markdown",
   "metadata": {
    "jp-MarkdownHeadingCollapsed": true,
    "toc": true
   },
   "source": [
    "<h1>Содержание<span class=\"tocSkip\"></span></h1>\n",
    "<div class=\"toc\"><ul class=\"toc-item\"><li><span><a href=\"#Подготовка\" data-toc-modified-id=\"Подготовка-1\"><span class=\"toc-item-num\">1&nbsp;&nbsp;</span>Подготовка</a></span><ul class=\"toc-item\"><li><span><a href=\"#Первый-взгляд-на-датасет\" data-toc-modified-id=\"Первый-взгляд-на-датасет-1.1\"><span class=\"toc-item-num\">1.1&nbsp;&nbsp;</span>Первый взгляд на датасет</a></span></li><li><span><a href=\"#Обработка-текста\" data-toc-modified-id=\"Обработка-текста-1.2\"><span class=\"toc-item-num\">1.2&nbsp;&nbsp;</span>Обработка текста</a></span></li><li><span><a href=\"#Разделение-на-выборки\" data-toc-modified-id=\"Разделение-на-выборки-1.3\"><span class=\"toc-item-num\">1.3&nbsp;&nbsp;</span>Разделение на выборки</a></span></li><li><span><a href=\"#Ресэмплинг\" data-toc-modified-id=\"Ресэмплинг-1.4\"><span class=\"toc-item-num\">1.4&nbsp;&nbsp;</span>Ресэмплинг</a></span></li></ul></li><li><span><a href=\"#Обучение\" data-toc-modified-id=\"Обучение-2\"><span class=\"toc-item-num\">2&nbsp;&nbsp;</span>Обучение</a></span><ul class=\"toc-item\"><li><span><a href=\"#Лучшая-модель\" data-toc-modified-id=\"Лучшая-модель-2.1\"><span class=\"toc-item-num\">2.1&nbsp;&nbsp;</span>Лучшая модель</a></span></li></ul></li><li><span><a href=\"#Выводы\" data-toc-modified-id=\"Выводы-3\"><span class=\"toc-item-num\">3&nbsp;&nbsp;</span>Выводы</a></span></li><li><span><a href=\"#Чек-лист-проверки\" data-toc-modified-id=\"Чек-лист-проверки-4\"><span class=\"toc-item-num\">4&nbsp;&nbsp;</span>Чек-лист проверки</a></span></li></ul></div>"
   ]
  },
  {
   "cell_type": "markdown",
   "metadata": {},
   "source": [
    "# Проект для «Викишоп»"
   ]
  },
  {
   "cell_type": "markdown",
   "metadata": {},
   "source": [
    "Интернет-магазин «Викишоп» запускает новый сервис. Теперь пользователи могут редактировать и дополнять описания товаров, как в вики-сообществах. То есть клиенты предлагают свои правки и комментируют изменения других. Магазину нужен инструмент, который будет искать токсичные комментарии и отправлять их на модерацию. \n",
    "\n",
    "Обучите модель классифицировать комментарии на позитивные и негативные. В вашем распоряжении набор данных с разметкой о токсичности правок.\n",
    "\n",
    "Постройте модель со значением метрики качества *F1* не меньше 0.75. \n",
    "\n",
    "**Инструкция по выполнению проекта**\n",
    "\n",
    "1. Загрузите и подготовьте данные.\n",
    "2. Обучите разные модели. \n",
    "3. Сделайте выводы.\n",
    "\n",
    "Для выполнения проекта применять *BERT* необязательно, но вы можете попробовать.\n",
    "\n",
    "**Описание данных**\n",
    "\n",
    "Данные находятся в файле `toxic_comments.csv`. Столбец *text* в нём содержит текст комментария, а *toxic* — целевой признак."
   ]
  },
  {
   "cell_type": "markdown",
   "metadata": {},
   "source": [
    "## Подготовка"
   ]
  },
  {
   "cell_type": "code",
   "execution_count": null,
   "metadata": {},
   "outputs": [],
   "source": [
    "import pandas as pd\n",
    "import os\n",
    "import warnings\n",
    "warnings.filterwarnings('ignore')\n",
    "\n",
    "import nltk\n",
    "import re\n",
    "import matplotlib.pyplot as plt\n",
    "import seaborn as sns\n",
    "import spacy\n",
    "\n",
    "\n",
    "import lightgbm as lgb\n",
    "from lightgbm import LGBMClassifier\n",
    "from time import time\n",
    "import catboost\n",
    "from catboost import CatBoostClassifier\n",
    "from pprint import pprint\n",
    "from nltk.corpus import stopwords as nltk_stopwords\n",
    "from sklearn.metrics import f1_score\n",
    "from sklearn.model_selection import train_test_split, GridSearchCV\n",
    "from sklearn.feature_extraction.text import CountVectorizer\n",
    "from sklearn.linear_model import LogisticRegression\n",
    "from sklearn.feature_extraction.text import TfidfVectorizer\n",
    "from sklearn.metrics import roc_auc_score, roc_curve, auc\n",
    "nltk.download('stopwords')\n",
    "from sklearn.pipeline import Pipeline\n",
    "from sklearn.naive_bayes import ComplementNB\n",
    "import numpy as np\n",
    "RANDOM = 12345\n",
    "from sklearn.model_selection import RandomizedSearchCV\n",
    "import torch\n",
    "import transformers\n",
    "from tqdm import notebook\n",
    "from sklearn.linear_model import LogisticRegression\n",
    "from sklearn.model_selection import cross_val_score\n",
    "from sklearn.model_selection import train_test_split, GridSearchCV\n",
    "nlp = spacy.load(\"en_core_web_sm\")\n",
    "import requests"
   ]
  },
  {
   "cell_type": "markdown",
   "metadata": {},
   "source": [
    "### Первый взгляд на датасет"
   ]
  },
  {
   "cell_type": "code",
   "execution_count": 2,
   "metadata": {},
   "outputs": [],
   "source": [
    "pth1 = 'toxic_comments.csv' \n",
    "pth2 = '/datasets/toxic_comments.csv'\n",
    "\n",
    "if os.path.exists(pth1): df = pd.read_csv(pth1) \n",
    "elif os.path.exists(pth2): df = pd.read_csv(pth2) \n",
    "else: print('Something is wrong')"
   ]
  },
  {
   "cell_type": "code",
   "execution_count": 3,
   "metadata": {},
   "outputs": [
    {
     "name": "stdout",
     "output_type": "stream",
     "text": [
      "<class 'pandas.core.frame.DataFrame'>\n",
      "RangeIndex: 159292 entries, 0 to 159291\n",
      "Data columns (total 3 columns):\n",
      " #   Column      Non-Null Count   Dtype \n",
      "---  ------      --------------   ----- \n",
      " 0   Unnamed: 0  159292 non-null  int64 \n",
      " 1   text        159292 non-null  object\n",
      " 2   toxic       159292 non-null  int64 \n",
      "dtypes: int64(2), object(1)\n",
      "memory usage: 3.6+ MB\n"
     ]
    }
   ],
   "source": [
    "df.info()"
   ]
  },
  {
   "cell_type": "code",
   "execution_count": 4,
   "metadata": {
    "scrolled": true
   },
   "outputs": [
    {
     "data": {
      "text/html": [
       "<div>\n",
       "<style scoped>\n",
       "    .dataframe tbody tr th:only-of-type {\n",
       "        vertical-align: middle;\n",
       "    }\n",
       "\n",
       "    .dataframe tbody tr th {\n",
       "        vertical-align: top;\n",
       "    }\n",
       "\n",
       "    .dataframe thead th {\n",
       "        text-align: right;\n",
       "    }\n",
       "</style>\n",
       "<table border=\"1\" class=\"dataframe\">\n",
       "  <thead>\n",
       "    <tr style=\"text-align: right;\">\n",
       "      <th></th>\n",
       "      <th>Unnamed: 0</th>\n",
       "      <th>text</th>\n",
       "      <th>toxic</th>\n",
       "    </tr>\n",
       "  </thead>\n",
       "  <tbody>\n",
       "    <tr>\n",
       "      <th>0</th>\n",
       "      <td>0</td>\n",
       "      <td>Explanation\\r\\nWhy the edits made under my use...</td>\n",
       "      <td>0</td>\n",
       "    </tr>\n",
       "    <tr>\n",
       "      <th>1</th>\n",
       "      <td>1</td>\n",
       "      <td>D'aww! He matches this background colour I'm s...</td>\n",
       "      <td>0</td>\n",
       "    </tr>\n",
       "    <tr>\n",
       "      <th>2</th>\n",
       "      <td>2</td>\n",
       "      <td>Hey man, I'm really not trying to edit war. It...</td>\n",
       "      <td>0</td>\n",
       "    </tr>\n",
       "    <tr>\n",
       "      <th>3</th>\n",
       "      <td>3</td>\n",
       "      <td>\"\\r\\nMore\\r\\nI can't make any real suggestions...</td>\n",
       "      <td>0</td>\n",
       "    </tr>\n",
       "    <tr>\n",
       "      <th>4</th>\n",
       "      <td>4</td>\n",
       "      <td>You, sir, are my hero. Any chance you remember...</td>\n",
       "      <td>0</td>\n",
       "    </tr>\n",
       "    <tr>\n",
       "      <th>5</th>\n",
       "      <td>5</td>\n",
       "      <td>\"\\r\\n\\r\\nCongratulations from me as well, use ...</td>\n",
       "      <td>0</td>\n",
       "    </tr>\n",
       "  </tbody>\n",
       "</table>\n",
       "</div>"
      ],
      "text/plain": [
       "   Unnamed: 0                                               text  toxic\n",
       "0           0  Explanation\\r\\nWhy the edits made under my use...      0\n",
       "1           1  D'aww! He matches this background colour I'm s...      0\n",
       "2           2  Hey man, I'm really not trying to edit war. It...      0\n",
       "3           3  \"\\r\\nMore\\r\\nI can't make any real suggestions...      0\n",
       "4           4  You, sir, are my hero. Any chance you remember...      0\n",
       "5           5  \"\\r\\n\\r\\nCongratulations from me as well, use ...      0"
      ]
     },
     "execution_count": 4,
     "metadata": {},
     "output_type": "execute_result"
    }
   ],
   "source": [
    "df.head(6)"
   ]
  },
  {
   "cell_type": "markdown",
   "metadata": {},
   "source": [
    "    Необходимо очистить текст от различных символов.\n",
    "\n",
    "    Посмотрим на распределение классов."
   ]
  },
  {
   "cell_type": "code",
   "execution_count": 5,
   "metadata": {},
   "outputs": [
    {
     "data": {
      "text/plain": [
       "toxic\n",
       "0    143106\n",
       "1     16186\n",
       "Name: count, dtype: int64"
      ]
     },
     "execution_count": 5,
     "metadata": {},
     "output_type": "execute_result"
    }
   ],
   "source": [
    "df['toxic'].value_counts()"
   ]
  },
  {
   "cell_type": "code",
   "execution_count": 6,
   "metadata": {},
   "outputs": [
    {
     "data": {
      "text/plain": [
       "<Axes: xlabel='toxic', ylabel='count'>"
      ]
     },
     "execution_count": 6,
     "metadata": {},
     "output_type": "execute_result"
    },
    {
     "data": {
      "image/png": "[encoded data removed]",
      "text/plain": [
       "<Figure size 640x480 with 1 Axes>"
      ]
     },
     "metadata": {},
     "output_type": "display_data"
    }
   ],
   "source": [
    "sns.countplot(x=df['toxic'])"
   ]
  },
  {
   "cell_type": "markdown",
   "metadata": {},
   "source": [
    "    Дисбаланс классов налицо.\n",
    "    \n",
    "    \n",
    "    При разделении выборок нужно будет применить стратификацию по таргету, в  моделях балансировать веса и, скорее всего, ресемплировать выборку. "
   ]
  },
  {
   "cell_type": "markdown",
   "metadata": {},
   "source": [
    "### Обработка текста"
   ]
  },
  {
   "cell_type": "markdown",
   "metadata": {},
   "source": [
    "Функция обработки текста."
   ]
  },
  {
   "cell_type": "code",
   "execution_count": 7,
   "metadata": {},
   "outputs": [],
   "source": [
    "del_n = re.compile('\\n')                  # перенос каретки\n",
    "del_tags = re.compile('<[^>]*>')          # html-теги\n",
    "del_brackets = re.compile('\\([^)]*\\)')    # содержимое круглых скобок\n",
    "clean_text = re.compile('[^а-яa-z\\s]')    # все небуквенные символы кроме пробелов\n",
    "del_spaces = re.compile('\\s{2,}')         \n",
    "\n",
    "def prepare_text(text):\n",
    "    text = del_n.sub(' ', str(text).lower())\n",
    "    text = del_tags.sub('', text)\n",
    "    text = del_brackets.sub('', text)\n",
    "    res_text = clean_text.sub('', text)\n",
    "    res_text = res_text.lower()  #перевод в нижний регистр\n",
    "    return del_spaces.sub(' ',res_text)"
   ]
  },
  {
   "cell_type": "markdown",
   "metadata": {},
   "source": [
    "Функция удаления стоп-слов, внутри которой будет задействована предыдущая функция."
   ]
  },
  {
   "cell_type": "code",
   "execution_count": 8,
   "metadata": {},
   "outputs": [],
   "source": [
    "stop = set(nltk_stopwords.words('english') + [\"im\", \"ill\", \"oh\", \"hey\"])"
   ]
  },
  {
   "cell_type": "code",
   "execution_count": 9,
   "metadata": {},
   "outputs": [],
   "source": [
    "def df_stop_words(Sr, stop):\n",
    "    Sr_2 = Sr.copy()\n",
    "    for itm in range(len(Sr)):\n",
    "        line = Sr_2[itm]\n",
    "        line = prepare_text(line) # функция обработки текста (см. выше)\n",
    "        line = [w for w in line.split() if w not in stop] # удаление стоп-слов\n",
    "        line = \" \".join(line)\n",
    "        line = nlp(line)\n",
    "        line = \" \".join([token.lemma_ for token in line]) # лемматизация\n",
    "        Sr_2[itm] = line\n",
    "    return Sr_2"
   ]
  },
  {
   "cell_type": "markdown",
   "metadata": {},
   "source": [
    "Применяю их к датасету, создаю новый столбец."
   ]
  },
  {
   "cell_type": "code",
   "execution_count": 10,
   "metadata": {},
   "outputs": [],
   "source": [
    "df['text_clr'] = df_stop_words(df['text'], stop)"
   ]
  },
  {
   "cell_type": "code",
   "execution_count": 11,
   "metadata": {},
   "outputs": [
    {
     "name": "stdout",
     "output_type": "stream",
     "text": [
      "<class 'pandas.core.frame.DataFrame'>\n",
      "RangeIndex: 159292 entries, 0 to 159291\n",
      "Data columns (total 4 columns):\n",
      " #   Column      Non-Null Count   Dtype \n",
      "---  ------      --------------   ----- \n",
      " 0   Unnamed: 0  159292 non-null  int64 \n",
      " 1   text        159292 non-null  object\n",
      " 2   toxic       159292 non-null  int64 \n",
      " 3   text_clr    159292 non-null  object\n",
      "dtypes: int64(2), object(2)\n",
      "memory usage: 4.9+ MB\n"
     ]
    }
   ],
   "source": [
    "df.info()"
   ]
  },
  {
   "cell_type": "code",
   "execution_count": 12,
   "metadata": {},
   "outputs": [
    {
     "data": {
      "text/html": [
       "<div>\n",
       "<style scoped>\n",
       "    .dataframe tbody tr th:only-of-type {\n",
       "        vertical-align: middle;\n",
       "    }\n",
       "\n",
       "    .dataframe tbody tr th {\n",
       "        vertical-align: top;\n",
       "    }\n",
       "\n",
       "    .dataframe thead th {\n",
       "        text-align: right;\n",
       "    }\n",
       "</style>\n",
       "<table border=\"1\" class=\"dataframe\">\n",
       "  <thead>\n",
       "    <tr style=\"text-align: right;\">\n",
       "      <th></th>\n",
       "      <th>Unnamed: 0</th>\n",
       "      <th>text</th>\n",
       "      <th>toxic</th>\n",
       "      <th>text_clr</th>\n",
       "    </tr>\n",
       "  </thead>\n",
       "  <tbody>\n",
       "    <tr>\n",
       "      <th>0</th>\n",
       "      <td>0</td>\n",
       "      <td>Explanation\\r\\nWhy the edits made under my use...</td>\n",
       "      <td>0</td>\n",
       "      <td>explanation edit make username hardcore metall...</td>\n",
       "    </tr>\n",
       "    <tr>\n",
       "      <th>1</th>\n",
       "      <td>1</td>\n",
       "      <td>D'aww! He matches this background colour I'm s...</td>\n",
       "      <td>0</td>\n",
       "      <td>daww match background colour seemingly stick t...</td>\n",
       "    </tr>\n",
       "    <tr>\n",
       "      <th>2</th>\n",
       "      <td>2</td>\n",
       "      <td>Hey man, I'm really not trying to edit war. It...</td>\n",
       "      <td>0</td>\n",
       "      <td>man really try edit war guy constantly remove ...</td>\n",
       "    </tr>\n",
       "    <tr>\n",
       "      <th>3</th>\n",
       "      <td>3</td>\n",
       "      <td>\"\\r\\nMore\\r\\nI can't make any real suggestions...</td>\n",
       "      <td>0</td>\n",
       "      <td>ca nt make real suggestion improvement wonder ...</td>\n",
       "    </tr>\n",
       "    <tr>\n",
       "      <th>4</th>\n",
       "      <td>4</td>\n",
       "      <td>You, sir, are my hero. Any chance you remember...</td>\n",
       "      <td>0</td>\n",
       "      <td>sir hero chance remember page that s</td>\n",
       "    </tr>\n",
       "    <tr>\n",
       "      <th>5</th>\n",
       "      <td>5</td>\n",
       "      <td>\"\\r\\n\\r\\nCongratulations from me as well, use ...</td>\n",
       "      <td>0</td>\n",
       "      <td>congratulation well use tool well talk</td>\n",
       "    </tr>\n",
       "  </tbody>\n",
       "</table>\n",
       "</div>"
      ],
      "text/plain": [
       "   Unnamed: 0                                               text  toxic  \\\n",
       "0           0  Explanation\\r\\nWhy the edits made under my use...      0   \n",
       "1           1  D'aww! He matches this background colour I'm s...      0   \n",
       "2           2  Hey man, I'm really not trying to edit war. It...      0   \n",
       "3           3  \"\\r\\nMore\\r\\nI can't make any real suggestions...      0   \n",
       "4           4  You, sir, are my hero. Any chance you remember...      0   \n",
       "5           5  \"\\r\\n\\r\\nCongratulations from me as well, use ...      0   \n",
       "\n",
       "                                            text_clr  \n",
       "0  explanation edit make username hardcore metall...  \n",
       "1  daww match background colour seemingly stick t...  \n",
       "2  man really try edit war guy constantly remove ...  \n",
       "3  ca nt make real suggestion improvement wonder ...  \n",
       "4               sir hero chance remember page that s  \n",
       "5             congratulation well use tool well talk  "
      ]
     },
     "execution_count": 12,
     "metadata": {},
     "output_type": "execute_result"
    }
   ],
   "source": [
    "df.head(6)"
   ]
  },
  {
   "cell_type": "markdown",
   "metadata": {},
   "source": [
    "### Разделение на выборки"
   ]
  },
  {
   "cell_type": "markdown",
   "metadata": {},
   "source": [
    "В качестве целевого признака идёт столбец \"toxic\", а за фичи возьму столбец \"text_clr\"."
   ]
  },
  {
   "cell_type": "code",
   "execution_count": 13,
   "metadata": {},
   "outputs": [],
   "source": [
    "features = df['text_clr']\n",
    "target = df['toxic']"
   ]
  },
  {
   "cell_type": "markdown",
   "metadata": {},
   "source": [
    "Делю на обучающую и тестовую в отношении 70:30, учитывая дисбаланс с помощью стратификации."
   ]
  },
  {
   "cell_type": "code",
   "execution_count": 14,
   "metadata": {},
   "outputs": [],
   "source": [
    "features_train, features_test, target_train, target_test = train_test_split(\n",
    "    features, target, test_size=0.3, random_state=RANDOM, stratify=target)"
   ]
  },
  {
   "cell_type": "code",
   "execution_count": 15,
   "metadata": {},
   "outputs": [
    {
     "name": "stdout",
     "output_type": "stream",
     "text": [
      "features_train shape: (111504,)\n",
      "target_train shape: (111504,) \n",
      "features_test shape: (47788,) \n",
      "target_test shape: (47788,)\n"
     ]
    }
   ],
   "source": [
    "print(f'features_train shape: {features_train.shape}\\ntarget_train shape: {target_train.shape} \\nfeatures_test shape: {features_test.shape} \\ntarget_test shape: {target_test.shape}') "
   ]
  },
  {
   "cell_type": "markdown",
   "metadata": {},
   "source": [
    "### Ресэмплинг"
   ]
  },
  {
   "cell_type": "markdown",
   "metadata": {},
   "source": [
    "Теперь займусь преобразованием сета.\n",
    "Чтобы не было утечки данных во время кросс-валидации, использую только downsample.\n"
   ]
  },
  {
   "cell_type": "code",
   "execution_count": 16,
   "metadata": {},
   "outputs": [],
   "source": [
    "df_ = df.iloc[target_train.index]"
   ]
  },
  {
   "cell_type": "code",
   "execution_count": 17,
   "metadata": {},
   "outputs": [
    {
     "data": {
      "text/html": [
       "<div>\n",
       "<style scoped>\n",
       "    .dataframe tbody tr th:only-of-type {\n",
       "        vertical-align: middle;\n",
       "    }\n",
       "\n",
       "    .dataframe tbody tr th {\n",
       "        vertical-align: top;\n",
       "    }\n",
       "\n",
       "    .dataframe thead th {\n",
       "        text-align: right;\n",
       "    }\n",
       "</style>\n",
       "<table border=\"1\" class=\"dataframe\">\n",
       "  <thead>\n",
       "    <tr style=\"text-align: right;\">\n",
       "      <th></th>\n",
       "      <th>Unnamed: 0</th>\n",
       "      <th>text</th>\n",
       "      <th>toxic</th>\n",
       "      <th>text_clr</th>\n",
       "    </tr>\n",
       "  </thead>\n",
       "  <tbody>\n",
       "    <tr>\n",
       "      <th>21863</th>\n",
       "      <td>21883</td>\n",
       "      <td>Good god the power you have must be ORGASMIC!!!</td>\n",
       "      <td>1</td>\n",
       "      <td>good god power must orgasmic</td>\n",
       "    </tr>\n",
       "    <tr>\n",
       "      <th>60362</th>\n",
       "      <td>60428</td>\n",
       "      <td>Brutal force is your ultimate argument. Keep p...</td>\n",
       "      <td>0</td>\n",
       "      <td>brutal force ultimate argument keep pervert</td>\n",
       "    </tr>\n",
       "    <tr>\n",
       "      <th>8214</th>\n",
       "      <td>8226</td>\n",
       "      <td>RE: Juarez \\r\\num no you get over it get a life</td>\n",
       "      <td>0</td>\n",
       "      <td>juarez um get get life</td>\n",
       "    </tr>\n",
       "    <tr>\n",
       "      <th>119947</th>\n",
       "      <td>120052</td>\n",
       "      <td>\"* In the Infobox remove any information for t...</td>\n",
       "      <td>0</td>\n",
       "      <td>infobox remove information style parameter exc...</td>\n",
       "    </tr>\n",
       "    <tr>\n",
       "      <th>52007</th>\n",
       "      <td>52064</td>\n",
       "      <td>Why oppose your own nomination? You can just w...</td>\n",
       "      <td>0</td>\n",
       "      <td>oppose nomination withdraw</td>\n",
       "    </tr>\n",
       "    <tr>\n",
       "      <th>...</th>\n",
       "      <td>...</td>\n",
       "      <td>...</td>\n",
       "      <td>...</td>\n",
       "      <td>...</td>\n",
       "    </tr>\n",
       "    <tr>\n",
       "      <th>87153</th>\n",
       "      <td>87234</td>\n",
       "      <td>yahoo mail \\r\\n\\r\\nHello</td>\n",
       "      <td>0</td>\n",
       "      <td>yahoo mail hello</td>\n",
       "    </tr>\n",
       "    <tr>\n",
       "      <th>54715</th>\n",
       "      <td>54776</td>\n",
       "      <td>\"\\r\\n\\r\\nIndeed BigDunc, that page rightly say...</td>\n",
       "      <td>0</td>\n",
       "      <td>indeed bigdunc page rightly say paramilitary n...</td>\n",
       "    </tr>\n",
       "    <tr>\n",
       "      <th>71196</th>\n",
       "      <td>71266</td>\n",
       "      <td>Forgive my cruddy formattingI'm still relative...</td>\n",
       "      <td>0</td>\n",
       "      <td>forgive cruddy formattingim still relatively new</td>\n",
       "    </tr>\n",
       "    <tr>\n",
       "      <th>55751</th>\n",
       "      <td>55812</td>\n",
       "      <td>\"\\r\\n\\r\\n Talk:Grasshopper Scouts \\r\\n\\r\\nI mo...</td>\n",
       "      <td>0</td>\n",
       "      <td>talkgrasshopper scout move comment talkgrassho...</td>\n",
       "    </tr>\n",
       "    <tr>\n",
       "      <th>11543</th>\n",
       "      <td>11556</td>\n",
       "      <td>Oppose WP:COMMONNAME 76.66.195.206</td>\n",
       "      <td>0</td>\n",
       "      <td>oppose wpcommonname</td>\n",
       "    </tr>\n",
       "  </tbody>\n",
       "</table>\n",
       "<p>111504 rows × 4 columns</p>\n",
       "</div>"
      ],
      "text/plain": [
       "        Unnamed: 0                                               text  toxic  \\\n",
       "21863        21883    Good god the power you have must be ORGASMIC!!!      1   \n",
       "60362        60428  Brutal force is your ultimate argument. Keep p...      0   \n",
       "8214          8226    RE: Juarez \\r\\num no you get over it get a life      0   \n",
       "119947      120052  \"* In the Infobox remove any information for t...      0   \n",
       "52007        52064  Why oppose your own nomination? You can just w...      0   \n",
       "...            ...                                                ...    ...   \n",
       "87153        87234                           yahoo mail \\r\\n\\r\\nHello      0   \n",
       "54715        54776  \"\\r\\n\\r\\nIndeed BigDunc, that page rightly say...      0   \n",
       "71196        71266  Forgive my cruddy formattingI'm still relative...      0   \n",
       "55751        55812  \"\\r\\n\\r\\n Talk:Grasshopper Scouts \\r\\n\\r\\nI mo...      0   \n",
       "11543        11556                 Oppose WP:COMMONNAME 76.66.195.206      0   \n",
       "\n",
       "                                                 text_clr  \n",
       "21863                        good god power must orgasmic  \n",
       "60362         brutal force ultimate argument keep pervert  \n",
       "8214                               juarez um get get life  \n",
       "119947  infobox remove information style parameter exc...  \n",
       "52007                          oppose nomination withdraw  \n",
       "...                                                   ...  \n",
       "87153                                    yahoo mail hello  \n",
       "54715   indeed bigdunc page rightly say paramilitary n...  \n",
       "71196    forgive cruddy formattingim still relatively new  \n",
       "55751   talkgrasshopper scout move comment talkgrassho...  \n",
       "11543                                 oppose wpcommonname  \n",
       "\n",
       "[111504 rows x 4 columns]"
      ]
     },
     "execution_count": 17,
     "metadata": {},
     "output_type": "execute_result"
    }
   ],
   "source": [
    "df_"
   ]
  },
  {
   "cell_type": "code",
   "execution_count": 18,
   "metadata": {},
   "outputs": [],
   "source": [
    "target_train_zero = df_[df_['toxic'] == 0]['toxic']"
   ]
  },
  {
   "cell_type": "code",
   "execution_count": 19,
   "metadata": {},
   "outputs": [],
   "source": [
    "target_train_one = df_[df_['toxic'] == 1]['toxic']"
   ]
  },
  {
   "cell_type": "code",
   "execution_count": 20,
   "metadata": {},
   "outputs": [
    {
     "data": {
      "text/plain": [
       "100174"
      ]
     },
     "execution_count": 20,
     "metadata": {},
     "output_type": "execute_result"
    }
   ],
   "source": [
    "len(target_train_zero)"
   ]
  },
  {
   "cell_type": "code",
   "execution_count": 21,
   "metadata": {},
   "outputs": [
    {
     "data": {
      "text/plain": [
       "11330"
      ]
     },
     "execution_count": 21,
     "metadata": {},
     "output_type": "execute_result"
    }
   ],
   "source": [
    "len(target_train_one)"
   ]
  },
  {
   "cell_type": "markdown",
   "metadata": {},
   "source": [
    "Как и было, дисбаланс."
   ]
  },
  {
   "cell_type": "code",
   "execution_count": 22,
   "metadata": {},
   "outputs": [],
   "source": [
    "target_train_zero_min = target_train_zero.sample(target_train_one.shape[0], random_state=RANDOM)"
   ]
  },
  {
   "cell_type": "code",
   "execution_count": 23,
   "metadata": {},
   "outputs": [],
   "source": [
    "target_train_min = pd.concat([target_train_zero_min, target_train_one])"
   ]
  },
  {
   "cell_type": "code",
   "execution_count": 24,
   "metadata": {},
   "outputs": [],
   "source": [
    "target_train_min = target_train_min.sample(frac=1)"
   ]
  },
  {
   "cell_type": "code",
   "execution_count": 25,
   "metadata": {},
   "outputs": [],
   "source": [
    "features_train_min = df_.loc[target_train_min.index]['text_clr']"
   ]
  },
  {
   "cell_type": "code",
   "execution_count": 26,
   "metadata": {},
   "outputs": [
    {
     "name": "stdout",
     "output_type": "stream",
     "text": [
      "features_train_min shape: (22660,)\n",
      "target_train_min shape: (22660,)\n"
     ]
    }
   ],
   "source": [
    "print(f'features_train_min shape: {features_train_min.shape}\\ntarget_train_min shape: {target_train_min.shape}') \n"
   ]
  },
  {
   "cell_type": "markdown",
   "metadata": {},
   "source": [
    "## Обучение"
   ]
  },
  {
   "cell_type": "markdown",
   "metadata": {},
   "source": [
    "Создаю таблицу для сбора результатов.\n"
   ]
  },
  {
   "cell_type": "code",
   "execution_count": 27,
   "metadata": {},
   "outputs": [],
   "source": [
    "rating_table = pd.DataFrame(columns=['f1_best_cv', 'f1_test',  'ROC-AUC_test', 'time_cvs'])\n",
    "rating_table\n",
    "\n",
    "def add_line_df_score(df_score, model, f1_best_cv,  f1_test, rocauc_score, time_cvs):\n",
    "    \n",
    "    df_score.loc[model, 'f1_best_cv'] = \"{:.2%}\".format(f1_test)\n",
    "    df_score.loc[model, 'f1_test'] = \"{:.2%}\".format(f1_best_cv)\n",
    "    df_score.loc[model, 'ROC-AUC_test'] = \"{:.2%}\".format(rocauc_score) \n",
    "    df_score.loc[model, 'time_cvs'] = \"{:.2}\".format(time_cvs) \n",
    "    \n",
    "    return df_score"
   ]
  },
  {
   "cell_type": "markdown",
   "metadata": {},
   "source": [
    "Теперь для функции просчёта метрик создаю наборы данных."
   ]
  },
  {
   "cell_type": "code",
   "execution_count": 28,
   "metadata": {},
   "outputs": [],
   "source": [
    "estimators = [LogisticRegression(random_state=RANDOM, n_jobs=1, class_weight={0 : 1, 1: 8}), \n",
    "              #LogisticRegression(random_state=RANDOM, n_jobs=1),\n",
    "              ComplementNB(class_prior = (1,8)),\n",
    "              #ComplementNB(),\n",
    "              CatBoostClassifier(random_state=RANDOM, class_weights = (1, 8)),\n",
    "              #CatBoostClassifier(random_state=RANDOM),\n",
    "              LGBMClassifier(seed=RANDOM, verbose = -1, device = \"gpu\", scale_pos_weight=8),\n",
    "              #LGBMClassifier(seed=RANDOM, verbose = -1, device = \"gpu\")              \n",
    "             ]\n",
    "\n",
    "est_names = ['LogisticRegression_balanced_weights',\n",
    "            #'LogisticRegression_balanced_set',\n",
    "            'ComplementNB_balanced_weights',\n",
    "            #'ComplementNB_balanced_set',\n",
    "            'CatBoostClassifier_balanced_weights',\n",
    "            #'CatBoostClassifier_balanced_set',\n",
    "            'LGBMClassifier_balanced_weights',\n",
    "            #'LGBMClassifier_balanced_set'             \n",
    "            ]\n",
    "\n",
    "\n",
    "param_lr = {'clf__penalty': ['l1','l2'],               \n",
    "              'clf__solver': ['lbfgs', 'newton-cg'],              \n",
    "              'clf__C': [0.1, 0.2, 0.3, 0.4, 0.5, 0.6, 0.7, 0.8, 0.9, 1, 1.1, 10, 100]}\n",
    "param_cat = {'clf__n_estimators': (1, 100, 10),\n",
    "                  'clf__max_depth' : (1, 100, 10),\n",
    "                  'clf__l2_leaf_reg': (1, 50, 10)}             \n",
    "param_lgbm = {\n",
    "    'clf__max_depth': range(4,100),\n",
    "    'clf__n_estimators': range(1,200)\n",
    "}\n",
    "param_cnb = {\"clf__alpha\": np.logspace(-6, 6, 13)}\n",
    "\n",
    "est_param_grids = [\n",
    "    param_lr,\n",
    "    #param_lr,\n",
    "    param_cnb,\n",
    "    #param_cnb,\n",
    "    param_cat,\n",
    "    #param_cat,\n",
    "    param_lgbm,\n",
    "    #param_lgbm    \n",
    "]"
   ]
  },
  {
   "cell_type": "markdown",
   "metadata": {},
   "source": [
    "Теперь объявляю функцию для векторизации, моделирования, обучения с использованием кросс-валидации и тестирования лучших моделей. Результаты собираю в таблицу."
   ]
  },
  {
   "cell_type": "code",
   "execution_count": 29,
   "metadata": {},
   "outputs": [],
   "source": [
    "def modelling(estimator, estimator_name, est_param_grid, df_score):\n",
    "\n",
    "    print('\\n_______________________\\n', estimator_name, '\\n_______________________\\n')\n",
    "    pipeline = Pipeline(\n",
    "    [\n",
    "        (\"vect\", TfidfVectorizer()),\n",
    "        (\"clf\", estimator)\n",
    "    ]\n",
    "    )\n",
    "    \n",
    "    parameter_grid = {\n",
    "        #\"vect__max_df\": (0.2, 0.4, 0.6, 0.8, 1.0),\n",
    "        #\"vect__min_df\": (1, 3, 5, 10),\n",
    "        #\"vect__ngram_range\": ((1, 1), (1, 2)),  # unigrams or bigrams\n",
    "        #\"vect__norm\": (\"l1\", \"l2\")\n",
    "    }\n",
    "    \n",
    "    parameter_grid.update(est_param_grid) \n",
    "    \n",
    "    random_search = RandomizedSearchCV(\n",
    "        estimator=pipeline,\n",
    "        param_distributions=parameter_grid,\n",
    "        n_iter=40,\n",
    "        random_state=RANDOM,\n",
    "        scoring='f1',\n",
    "        n_jobs=2,\n",
    "        verbose=1,\n",
    "    )\n",
    "    \n",
    "    print(\"Performing grid search...\")\n",
    "    print(\"Hyperparameters to be evaluated:\")\n",
    "    print(parameter_grid)\n",
    "\n",
    "    t0 = time()\n",
    "\n",
    "    random_search.fit(features_train_balance, target_train_balance)\n",
    "    done_time=time() - t0\n",
    "    print(f\"Done in {done_time:.3f}s\")\n",
    "\n",
    "    print(\"\\n\\nBest parameters combination found:\")\n",
    "    best_parameters = random_search.best_estimator_.get_params()\n",
    "    for param_name in sorted(parameter_grid.keys()):\n",
    "        print(f\"{param_name}: {best_parameters[param_name]}\")\n",
    "\n",
    "    test_f1 = random_search.score(features_test, target_test)\n",
    "    f1_best_cv = random_search.best_score_\n",
    "    print(\n",
    "        \"\\n\\nF1 of the best parameters using the inner CV of \"\n",
    "        f\"the random search: {f1_best_cv:.3f}\"\n",
    "    )\n",
    "    print(f\"F1 on test set: {test_f1:.3f}\")\n",
    "    rocauc_score = roc_auc_score(target_test, random_search.predict(features_test))\n",
    "    print(f'\\nRoс_auc on test: {rocauc_score:.3f}\\n\\n')\n",
    "\n",
    "    \n",
    "    add_line_df_score(df_score, estimator_name, f1_best_cv, test_f1, rocauc_score, done_time)\n",
    "\n",
    "    return df_score"
   ]
  },
  {
   "cell_type": "markdown",
   "metadata": {},
   "source": [
    "Поскольку я хочу использовать два типа сетов - сбалансированный и как есть, я предлагаю выбор исходников в зависимости от индекса, потому что на чётных индексах я расположила модели с учётом баланса весов, а на нечётных позициях без балансировки весов, потому что у них балансированные входящие данные."
   ]
  },
  {
   "cell_type": "code",
   "execution_count": 30,
   "metadata": {
    "scrolled": true
   },
   "outputs": [
    {
     "name": "stdout",
     "output_type": "stream",
     "text": [
      "\n",
      "_______________________\n",
      " LogisticRegression_balanced_weights \n",
      "_______________________\n",
      "\n",
      "Performing grid search...\n",
      "Hyperparameters to be evaluated:\n",
      "{'clf__C': [0.1, 0.2, 0.3, 0.4, 0.5, 0.6, 0.7, 0.8, 0.9, 1, 1.1, 10, 100],\n",
      " 'clf__penalty': ['l1', 'l2'],\n",
      " 'clf__solver': ['lbfgs', 'newton-cg']}\n",
      "Fitting 5 folds for each of 40 candidates, totalling 200 fits\n",
      "Done in 265.016s\n",
      "\n",
      "\n",
      "Best parameters combination found:\n",
      "clf__C: 10\n",
      "clf__penalty: l2\n",
      "clf__solver: newton-cg\n",
      "\n",
      "\n",
      "F1 of the best parameters using the inner CV of the random search: 0.759\n",
      "F1 on test set: 0.763\n",
      "\n",
      "Roс_auc on test: 0.882\n",
      "\n",
      "\n",
      "{'ok': True, 'result': {'message_id': 376, 'from': {'id': 6015117129, 'is_bot': True, 'first_name': 'hi_from_jup', 'username': 'hi_from_jup_bot'}, 'chat': {'id': 916785354, 'first_name': 'Maria', 'username': 'maria_smiles', 'type': 'private'}, 'date': 1697204527, 'text': 'count_i'}}\n",
      "\n",
      "_______________________\n",
      " ComplementNB_balanced_weights \n",
      "_______________________\n",
      "\n",
      "Performing grid search...\n",
      "Hyperparameters to be evaluated:\n",
      "{'clf__alpha': array([1.e-06, 1.e-05, 1.e-04, 1.e-03, 1.e-02, 1.e-01, 1.e+00, 1.e+01,\n",
      "       1.e+02, 1.e+03, 1.e+04, 1.e+05, 1.e+06])}\n",
      "Fitting 5 folds for each of 13 candidates, totalling 65 fits\n",
      "Done in 65.214s\n",
      "\n",
      "\n",
      "Best parameters combination found:\n",
      "clf__alpha: 0.1\n",
      "\n",
      "\n",
      "F1 of the best parameters using the inner CV of the random search: 0.669\n",
      "F1 on test set: 0.671\n",
      "\n",
      "Roс_auc on test: 0.866\n",
      "\n",
      "\n",
      "{'ok': True, 'result': {'message_id': 377, 'from': {'id': 6015117129, 'is_bot': True, 'first_name': 'hi_from_jup', 'username': 'hi_from_jup_bot'}, 'chat': {'id': 916785354, 'first_name': 'Maria', 'username': 'maria_smiles', 'type': 'private'}, 'date': 1697204594, 'text': 'count_i'}}\n",
      "\n",
      "_______________________\n",
      " CatBoostClassifier_balanced_weights \n",
      "_______________________\n",
      "\n",
      "Performing grid search...\n",
      "Hyperparameters to be evaluated:\n",
      "{'clf__l2_leaf_reg': (1, 50, 10),\n",
      " 'clf__max_depth': (1, 100, 10),\n",
      " 'clf__n_estimators': (1, 100, 10)}\n",
      "Fitting 5 folds for each of 27 candidates, totalling 135 fits\n",
      "0:\tlearn: 0.6752429\ttotal: 5.36s\tremaining: 8m 50s\n",
      "1:\tlearn: 0.6585170\ttotal: 10.6s\tremaining: 8m 41s\n",
      "2:\tlearn: 0.6439913\ttotal: 15.9s\tremaining: 8m 32s\n",
      "3:\tlearn: 0.6302392\ttotal: 21.2s\tremaining: 8m 28s\n",
      "4:\tlearn: 0.6176646\ttotal: 26.4s\tremaining: 8m 21s\n",
      "5:\tlearn: 0.6069045\ttotal: 31.7s\tremaining: 8m 16s\n",
      "6:\tlearn: 0.5971774\ttotal: 36.9s\tremaining: 8m 10s\n",
      "7:\tlearn: 0.5885425\ttotal: 42.2s\tremaining: 8m 4s\n",
      "8:\tlearn: 0.5805642\ttotal: 47.5s\tremaining: 8m\n",
      "9:\tlearn: 0.5726772\ttotal: 52.8s\tremaining: 7m 54s\n",
      "10:\tlearn: 0.5657264\ttotal: 58s\tremaining: 7m 49s\n",
      "11:\tlearn: 0.5594890\ttotal: 1m 3s\tremaining: 7m 44s\n",
      "12:\tlearn: 0.5539193\ttotal: 1m 8s\tremaining: 7m 38s\n",
      "13:\tlearn: 0.5487888\ttotal: 1m 13s\tremaining: 7m 33s\n",
      "14:\tlearn: 0.5450582\ttotal: 1m 19s\tremaining: 7m 28s\n",
      "15:\tlearn: 0.5412878\ttotal: 1m 24s\tremaining: 7m 23s\n",
      "16:\tlearn: 0.5384151\ttotal: 1m 29s\tremaining: 7m 17s\n",
      "17:\tlearn: 0.5341014\ttotal: 1m 35s\tremaining: 7m 12s\n",
      "18:\tlearn: 0.5300909\ttotal: 1m 40s\tremaining: 7m 7s\n",
      "19:\tlearn: 0.5254674\ttotal: 1m 45s\tremaining: 7m 2s\n",
      "20:\tlearn: 0.5222935\ttotal: 1m 50s\tremaining: 6m 57s\n",
      "21:\tlearn: 0.5191961\ttotal: 1m 56s\tremaining: 6m 51s\n",
      "22:\tlearn: 0.5163313\ttotal: 2m 1s\tremaining: 6m 46s\n",
      "23:\tlearn: 0.5128413\ttotal: 2m 6s\tremaining: 6m 41s\n",
      "24:\tlearn: 0.5094187\ttotal: 2m 12s\tremaining: 6m 36s\n",
      "25:\tlearn: 0.5059335\ttotal: 2m 17s\tremaining: 6m 32s\n",
      "26:\tlearn: 0.5035359\ttotal: 2m 23s\tremaining: 6m 28s\n",
      "27:\tlearn: 0.5005877\ttotal: 2m 28s\tremaining: 6m 22s\n",
      "28:\tlearn: 0.4980122\ttotal: 2m 33s\tremaining: 6m 16s\n",
      "29:\tlearn: 0.4958019\ttotal: 2m 39s\tremaining: 6m 11s\n",
      "30:\tlearn: 0.4935467\ttotal: 2m 44s\tremaining: 6m 5s\n",
      "31:\tlearn: 0.4907913\ttotal: 2m 49s\tremaining: 5m 59s\n",
      "32:\tlearn: 0.4888793\ttotal: 2m 54s\tremaining: 5m 54s\n",
      "33:\tlearn: 0.4873239\ttotal: 2m 59s\tremaining: 5m 48s\n",
      "34:\tlearn: 0.4854378\ttotal: 3m 4s\tremaining: 5m 43s\n",
      "35:\tlearn: 0.4832474\ttotal: 3m 9s\tremaining: 5m 37s\n",
      "36:\tlearn: 0.4817440\ttotal: 3m 15s\tremaining: 5m 32s\n",
      "37:\tlearn: 0.4801027\ttotal: 3m 20s\tremaining: 5m 26s\n",
      "38:\tlearn: 0.4782316\ttotal: 3m 25s\tremaining: 5m 21s\n",
      "39:\tlearn: 0.4764099\ttotal: 3m 30s\tremaining: 5m 15s\n",
      "40:\tlearn: 0.4746491\ttotal: 3m 35s\tremaining: 5m 10s\n",
      "41:\tlearn: 0.4729279\ttotal: 3m 40s\tremaining: 5m 4s\n",
      "42:\tlearn: 0.4711896\ttotal: 3m 45s\tremaining: 4m 59s\n",
      "43:\tlearn: 0.4695572\ttotal: 3m 51s\tremaining: 4m 54s\n",
      "44:\tlearn: 0.4681795\ttotal: 3m 56s\tremaining: 4m 48s\n",
      "45:\tlearn: 0.4665791\ttotal: 4m 1s\tremaining: 4m 43s\n",
      "46:\tlearn: 0.4648687\ttotal: 4m 6s\tremaining: 4m 37s\n",
      "47:\tlearn: 0.4633333\ttotal: 4m 11s\tremaining: 4m 32s\n",
      "48:\tlearn: 0.4620237\ttotal: 4m 16s\tremaining: 4m 27s\n",
      "49:\tlearn: 0.4605449\ttotal: 4m 21s\tremaining: 4m 21s\n",
      "50:\tlearn: 0.4588432\ttotal: 4m 27s\tremaining: 4m 16s\n",
      "51:\tlearn: 0.4572813\ttotal: 4m 32s\tremaining: 4m 11s\n",
      "52:\tlearn: 0.4557410\ttotal: 4m 37s\tremaining: 4m 5s\n",
      "53:\tlearn: 0.4544293\ttotal: 4m 42s\tremaining: 4m\n",
      "54:\tlearn: 0.4531276\ttotal: 4m 47s\tremaining: 3m 55s\n",
      "55:\tlearn: 0.4521397\ttotal: 4m 52s\tremaining: 3m 50s\n",
      "56:\tlearn: 0.4507250\ttotal: 4m 57s\tremaining: 3m 44s\n",
      "57:\tlearn: 0.4493290\ttotal: 5m 3s\tremaining: 3m 39s\n",
      "58:\tlearn: 0.4479671\ttotal: 5m 8s\tremaining: 3m 34s\n",
      "59:\tlearn: 0.4469589\ttotal: 5m 13s\tremaining: 3m 28s\n",
      "60:\tlearn: 0.4457603\ttotal: 5m 18s\tremaining: 3m 23s\n",
      "61:\tlearn: 0.4448133\ttotal: 5m 23s\tremaining: 3m 18s\n",
      "62:\tlearn: 0.4433748\ttotal: 5m 29s\tremaining: 3m 13s\n",
      "63:\tlearn: 0.4421453\ttotal: 5m 34s\tremaining: 3m 8s\n",
      "64:\tlearn: 0.4409931\ttotal: 5m 39s\tremaining: 3m 2s\n",
      "65:\tlearn: 0.4401405\ttotal: 5m 44s\tremaining: 2m 57s\n",
      "66:\tlearn: 0.4392177\ttotal: 5m 50s\tremaining: 2m 52s\n",
      "67:\tlearn: 0.4381713\ttotal: 5m 55s\tremaining: 2m 47s\n",
      "68:\tlearn: 0.4370997\ttotal: 6m\tremaining: 2m 41s\n",
      "69:\tlearn: 0.4358170\ttotal: 6m 5s\tremaining: 2m 36s\n",
      "70:\tlearn: 0.4348101\ttotal: 6m 10s\tremaining: 2m 31s\n",
      "71:\tlearn: 0.4338069\ttotal: 6m 15s\tremaining: 2m 26s\n",
      "72:\tlearn: 0.4326216\ttotal: 6m 21s\tremaining: 2m 20s\n",
      "73:\tlearn: 0.4318195\ttotal: 6m 26s\tremaining: 2m 15s\n",
      "74:\tlearn: 0.4308004\ttotal: 6m 31s\tremaining: 2m 10s\n",
      "75:\tlearn: 0.4300348\ttotal: 6m 36s\tremaining: 2m 5s\n",
      "76:\tlearn: 0.4289579\ttotal: 6m 42s\tremaining: 2m\n",
      "77:\tlearn: 0.4278251\ttotal: 6m 48s\tremaining: 1m 55s\n",
      "78:\tlearn: 0.4267993\ttotal: 6m 54s\tremaining: 1m 50s\n",
      "79:\tlearn: 0.4260786\ttotal: 6m 59s\tremaining: 1m 44s\n",
      "80:\tlearn: 0.4252219\ttotal: 7m 4s\tremaining: 1m 39s\n",
      "81:\tlearn: 0.4241084\ttotal: 7m 10s\tremaining: 1m 34s\n",
      "82:\tlearn: 0.4232647\ttotal: 7m 15s\tremaining: 1m 29s\n",
      "83:\tlearn: 0.4224852\ttotal: 7m 20s\tremaining: 1m 23s\n",
      "84:\tlearn: 0.4218997\ttotal: 7m 25s\tremaining: 1m 18s\n",
      "85:\tlearn: 0.4212584\ttotal: 7m 31s\tremaining: 1m 13s\n",
      "86:\tlearn: 0.4207508\ttotal: 7m 36s\tremaining: 1m 8s\n",
      "87:\tlearn: 0.4197547\ttotal: 7m 41s\tremaining: 1m 2s\n",
      "88:\tlearn: 0.4189060\ttotal: 7m 46s\tremaining: 57.7s\n",
      "89:\tlearn: 0.4182318\ttotal: 7m 52s\tremaining: 52.5s\n",
      "90:\tlearn: 0.4176398\ttotal: 7m 57s\tremaining: 47.2s\n",
      "91:\tlearn: 0.4167124\ttotal: 8m 2s\tremaining: 42s\n",
      "92:\tlearn: 0.4160965\ttotal: 8m 7s\tremaining: 36.7s\n",
      "93:\tlearn: 0.4152489\ttotal: 8m 12s\tremaining: 31.5s\n",
      "94:\tlearn: 0.4145567\ttotal: 8m 18s\tremaining: 26.2s\n",
      "95:\tlearn: 0.4138126\ttotal: 8m 23s\tremaining: 21s\n",
      "96:\tlearn: 0.4130851\ttotal: 8m 28s\tremaining: 15.7s\n",
      "97:\tlearn: 0.4124582\ttotal: 8m 33s\tremaining: 10.5s\n",
      "98:\tlearn: 0.4119212\ttotal: 8m 38s\tremaining: 5.24s\n",
      "99:\tlearn: 0.4109113\ttotal: 8m 44s\tremaining: 0us\n",
      "Done in 7791.678s\n",
      "\n",
      "\n",
      "Best parameters combination found:\n",
      "clf__l2_leaf_reg: 1\n",
      "clf__max_depth: 10\n",
      "clf__n_estimators: 100\n",
      "\n",
      "\n",
      "F1 of the best parameters using the inner CV of the random search: 0.711\n",
      "F1 on test set: 0.705\n",
      "\n",
      "Roс_auc on test: 0.824\n",
      "\n",
      "\n",
      "{'ok': True, 'result': {'message_id': 378, 'from': {'id': 6015117129, 'is_bot': True, 'first_name': 'hi_from_jup', 'username': 'hi_from_jup_bot'}, 'chat': {'id': 916785354, 'first_name': 'Maria', 'username': 'maria_smiles', 'type': 'private'}, 'date': 1697212388, 'text': 'count_i'}}\n",
      "\n",
      "_______________________\n",
      " LGBMClassifier_balanced_weights \n",
      "_______________________\n",
      "\n",
      "Performing grid search...\n",
      "Hyperparameters to be evaluated:\n",
      "{'clf__max_depth': range(4, 100), 'clf__n_estimators': range(1, 200)}\n",
      "Fitting 5 folds for each of 40 candidates, totalling 200 fits\n",
      "Done in 1099.936s\n",
      "\n",
      "\n",
      "Best parameters combination found:\n",
      "clf__max_depth: 14\n",
      "clf__n_estimators: 188\n",
      "\n",
      "\n",
      "F1 of the best parameters using the inner CV of the random search: 0.756\n",
      "F1 on test set: 0.754\n",
      "\n",
      "Roс_auc on test: 0.875\n",
      "\n",
      "\n",
      "{'ok': True, 'result': {'message_id': 379, 'from': {'id': 6015117129, 'is_bot': True, 'first_name': 'hi_from_jup', 'username': 'hi_from_jup_bot'}, 'chat': {'id': 916785354, 'first_name': 'Maria', 'username': 'maria_smiles', 'type': 'private'}, 'date': 1697213490, 'text': 'count_i'}}\n"
     ]
    }
   ],
   "source": [
    "for i in range(len(estimators)):\n",
    "    #if i%2 != 0:\n",
    "    features_train_balance = features_train\n",
    "    target_train_balance = target_train\n",
    "    #else:\n",
    "    #    features_train_balance = features_train_min\n",
    "    #    target_train_balance = target_train_min\n",
    "    rating_table = modelling(estimators[i], est_names[i], est_param_grids[i], rating_table)\n",
    "    \n"
   ]
  },
  {
   "cell_type": "code",
   "execution_count": 31,
   "metadata": {},
   "outputs": [
    {
     "data": {
      "text/html": [
       "<div>\n",
       "<style scoped>\n",
       "    .dataframe tbody tr th:only-of-type {\n",
       "        vertical-align: middle;\n",
       "    }\n",
       "\n",
       "    .dataframe tbody tr th {\n",
       "        vertical-align: top;\n",
       "    }\n",
       "\n",
       "    .dataframe thead th {\n",
       "        text-align: right;\n",
       "    }\n",
       "</style>\n",
       "<table border=\"1\" class=\"dataframe\">\n",
       "  <thead>\n",
       "    <tr style=\"text-align: right;\">\n",
       "      <th></th>\n",
       "      <th>f1_best_cv</th>\n",
       "      <th>f1_test</th>\n",
       "      <th>ROC-AUC_test</th>\n",
       "      <th>time_cvs</th>\n",
       "    </tr>\n",
       "  </thead>\n",
       "  <tbody>\n",
       "    <tr>\n",
       "      <th>LogisticRegression_balanced_weights</th>\n",
       "      <td>76.26%</td>\n",
       "      <td>75.88%</td>\n",
       "      <td>88.24%</td>\n",
       "      <td>2.7e+02</td>\n",
       "    </tr>\n",
       "    <tr>\n",
       "      <th>ComplementNB_balanced_weights</th>\n",
       "      <td>67.05%</td>\n",
       "      <td>66.86%</td>\n",
       "      <td>86.65%</td>\n",
       "      <td>6.5e+01</td>\n",
       "    </tr>\n",
       "    <tr>\n",
       "      <th>CatBoostClassifier_balanced_weights</th>\n",
       "      <td>70.52%</td>\n",
       "      <td>71.12%</td>\n",
       "      <td>82.40%</td>\n",
       "      <td>7.8e+03</td>\n",
       "    </tr>\n",
       "    <tr>\n",
       "      <th>LGBMClassifier_balanced_weights</th>\n",
       "      <td>75.41%</td>\n",
       "      <td>75.64%</td>\n",
       "      <td>87.52%</td>\n",
       "      <td>1.1e+03</td>\n",
       "    </tr>\n",
       "  </tbody>\n",
       "</table>\n",
       "</div>"
      ],
      "text/plain": [
       "                                    f1_best_cv f1_test ROC-AUC_test time_cvs\n",
       "LogisticRegression_balanced_weights     76.26%  75.88%       88.24%  2.7e+02\n",
       "ComplementNB_balanced_weights           67.05%  66.86%       86.65%  6.5e+01\n",
       "CatBoostClassifier_balanced_weights     70.52%  71.12%       82.40%  7.8e+03\n",
       "LGBMClassifier_balanced_weights         75.41%  75.64%       87.52%  1.1e+03"
      ]
     },
     "execution_count": 31,
     "metadata": {},
     "output_type": "execute_result"
    }
   ],
   "source": [
    "rating_table"
   ]
  },
  {
   "cell_type": "markdown",
   "metadata": {},
   "source": [
    "### Лучшая модель"
   ]
  },
  {
   "cell_type": "markdown",
   "metadata": {},
   "source": [
    "Лучше всего себя показала логистическая регрессия."
   ]
  },
  {
   "cell_type": "code",
   "execution_count": 32,
   "metadata": {},
   "outputs": [],
   "source": [
    "tf_converter = TfidfVectorizer()\n",
    "tf_idf_train = tf_converter.fit_transform(features_train)\n",
    "tf_idf_test = tf_converter.transform(features_test)"
   ]
  },
  {
   "cell_type": "code",
   "execution_count": 33,
   "metadata": {},
   "outputs": [],
   "source": [
    "best_model = LogisticRegression(random_state=RANDOM, n_jobs=1, C=10, penalty='l2', solver='lbfgs', class_weight={0 : 1, 1: 8})\n",
    "best_model.fit(tf_idf_train, target_train)\n",
    "predict_best = best_model.predict(tf_idf_test)"
   ]
  },
  {
   "cell_type": "code",
   "execution_count": 34,
   "metadata": {},
   "outputs": [
    {
     "name": "stdout",
     "output_type": "stream",
     "text": [
      "Метрика F1 на обучающих данных = 93.27%\n"
     ]
    }
   ],
   "source": [
    "print(f'Метрика F1 на обучающих данных = {\"{:.2%}\".format(f1_score(target_train, best_model.predict(tf_idf_train)))}')"
   ]
  },
  {
   "cell_type": "code",
   "execution_count": 35,
   "metadata": {},
   "outputs": [
    {
     "name": "stdout",
     "output_type": "stream",
     "text": [
      "Метрика F1 на тестовых данных = 76.37%\n"
     ]
    }
   ],
   "source": [
    "print(f'Метрика F1 на тестовых данных = {\"{:.2%}\".format(f1_score(target_test, predict_best))}')"
   ]
  },
  {
   "cell_type": "markdown",
   "metadata": {},
   "source": [
    "На тесте удаётся сохранить уровень метрики выше 0.75."
   ]
  },
  {
   "cell_type": "code",
   "execution_count": 36,
   "metadata": {},
   "outputs": [
    {
     "name": "stdout",
     "output_type": "stream",
     "text": [
      "roс_auc: 0.8829894265188687\n"
     ]
    }
   ],
   "source": [
    "print('roс_auc:', roc_auc_score(target_test, predict_best))"
   ]
  },
  {
   "cell_type": "code",
   "execution_count": 38,
   "metadata": {},
   "outputs": [
    {
     "name": "stdout",
     "output_type": "stream",
     "text": [
      "Логистическая регрессия: ROC AUC = 0.965\n",
      "f1: = 0.764\n"
     ]
    },
    {
     "data": {
      "image/png": "[encoded data removed]",
      "text/plain": [
       "<Figure size 640x480 with 1 Axes>"
      ]
     },
     "metadata": {},
     "output_type": "display_data"
    }
   ],
   "source": [
    "\n",
    "# получаем предказания\n",
    "lr_probs = best_model.predict_proba(tf_idf_test)\n",
    "\n",
    "# сохраняем вероятности только для положительного исхода\n",
    "lr_probs = lr_probs[:, 1]\n",
    "# рассчитываем ROC AUC\n",
    "lr_auc = roc_auc_score(target_test, lr_probs)\n",
    "print('Логистическая регрессия: ROC AUC = %.3f' % (lr_auc))\n",
    "print('f1: = %.3f' % f1_score(target_test, predict_best))\n",
    "# рассчитываем roc-кривую\n",
    "fpr, tpr, treshold = roc_curve(target_test, lr_probs)\n",
    "roc_auc = auc(fpr, tpr)\n",
    "# строим график\n",
    "plt.plot(fpr, tpr, color='darkorange',\n",
    "         label='ROC кривая (area = %0.2f)' % roc_auc)\n",
    "plt.plot([0, 1], [0, 1], color='navy', linestyle='--')\n",
    "plt.xlim([0.0, 1.0])\n",
    "plt.ylim([0.0, 1.05])\n",
    "plt.xlabel('False Positive Rate')\n",
    "plt.ylabel('True Positive Rate')\n",
    "plt.title('ROC-кривая')\n",
    "plt.legend(loc=\"lower right\")\n",
    "plt.show()\n"
   ]
  },
  {
   "cell_type": "markdown",
   "metadata": {},
   "source": [
    "## Выводы"
   ]
  },
  {
   "cell_type": "markdown",
   "metadata": {},
   "source": [
    "Для оценки токсичности комментариев я могу предложить использовать модель логистической регрессии с параметрами C=10, penalty='l2', solver='lbfgs' и балансом весов 1:8 (class_weight={0 : 1, 1: 8})."
   ]
  }
 ],
 "metadata": {
  "ExecuteTimeLog": [
   {
    "duration": 561,
    "start_time": "2023-09-21T16:59:44.658Z"
   },
   {
    "duration": 2659,
    "start_time": "2023-09-21T17:00:28.843Z"
   },
   {
    "duration": 14,
    "start_time": "2023-09-21T17:00:44.964Z"
   }
  ],
  "kernelspec": {
   "display_name": "Python 3 (ipykernel)",
   "language": "python",
   "name": "python3"
  },
  "language_info": {
   "codemirror_mode": {
    "name": "ipython",
    "version": 3
   },
   "file_extension": ".py",
   "mimetype": "text/x-python",
   "name": "python",
   "nbconvert_exporter": "python",
   "pygments_lexer": "ipython3",
   "version": "3.9.7"
  },
  "toc": {
   "base_numbering": 1,
   "nav_menu": {},
   "number_sections": true,
   "sideBar": true,
   "skip_h1_title": true,
   "title_cell": "Содержание",
   "title_sidebar": "Contents",
   "toc_cell": true,
   "toc_position": {
    "height": "calc(100% - 180px)",
    "left": "10px",
    "top": "150px",
    "width": "170px"
   },
   "toc_section_display": true,
   "toc_window_display": true
  }
 },
 "nbformat": 4,
 "nbformat_minor": 4
}
